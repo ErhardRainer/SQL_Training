{
  "cells": [
    {
      "cell_type": "markdown",
      "metadata": {},
      "source": [
        "# Diagnose von „Previous execution is not yet complete (SqlEditors)“ & Monitoring laufender Requests\n",
        "\n",
        "Dieses Notebook ist für **Schulungen** gedacht und hilft bei typischen Problemen, die nach einem **Server-Neustart** oder bei „hängenden“ Ausführungen in **SSMS** auftreten.\n",
        "\n",
        "**Anwendungsfall:** Während eine Abfrage/Stored Procedure lief, wurde der SQL Server neu gestartet. In SSMS erscheint anschließend die Meldung  \n",
        "> *Previous execution is not yet complete. (SqlEditors)*  \n",
        "\n",
        "![Fehlermeldung](Error.png)\n",
        "\n",
        "\n",
        "Dieses Notebook erklärt Ursachen, zeigt Abhilfen und liefert **fertige SQL-Snippets** zur **Sitzungs‑/Request‑Analyse**, **Wartediagnose**, **Blocking-Erkennung** und (falls nötig) dem **gezielten Beenden** einer Session.\n",
        "\n",
        "> **Kernel-Hinweis:** Dieses Notebook ist für einen **SQL‑Kernel** (z. B. Azure Data Studio) gebaut – **kein Python erforderlich**.\n"
      ]
    },
    {
      "cell_type": "markdown",
      "metadata": {},
      "source": [
        "## Was bedeutet die Fehlermeldung? (Kurzfassung)\n",
        "\n",
        "- Während der vorherigen Ausführung hat **SSMS** die Verbindung verloren (z. B. durch **SQL‑Server‑Neustart** oder Netzwerkunterbrechung).\n",
        "- Die **UI des SSMS** glaubt, dass die vorherige Anfrage noch läuft und **blockiert** deshalb eine neue Ausführung **im selben Editor-Tab**.\n",
        "- **Auf Serverseite** existiert die alte Session **nicht mehr** (nach einem Neustart sind alle Sessions beendet). Das Problem ist **clientseitig** (Editorzustand).\n",
        "\n",
        "**Schnelle Abhilfe (empfohlen):**\n",
        "1. Im Editor **„Cancel Query“/Abbrechen** klicken (Alt+Break).\n",
        "2. **Reconnect/Disconnect** in der Statusleiste auslösen **oder** den **Tab schließen** und einen neuen Tab öffnen.\n",
        "3. Falls das nicht hilft: **SSMS neu starten**.\n",
        "\n",
        "**Wichtig:** Wenn der Server tatsächlich noch eine lange Anfrage bearbeitet (ohne Neustart), sieht man das in den DMV‑Abfragen unten – dann kann man gezielt beobachten oder beenden.\n"
      ]
    },
    {
      "cell_type": "markdown",
      "metadata": {},
      "source": [
        "## Lernziele dieses Notebooks\n",
        "\n",
        "1. Aktive **Sessions** und **Requests** sicher identifizieren (inkl. **SPID**, Startzeit, Befehl, ggf. **`percent_complete`**).\n",
        "2. Die **„eigene“ Session** erkennen (nach Login/Host/Programm).\n",
        "3. **SQL‑Text, Ausführungsplan** und **Warteursachen** laufender Requests untersuchen.\n",
        "4. **Blocking** und **Latches/Locks** sichtbar machen.\n",
        "5. Bei Bedarf Requests **kontrolliert beenden** (`KILL SPID`) – mit Vorsicht und Dokumentation.\n",
        "6. Optional: **Extended Events** zum Mitloggen laufender Stored Procedures.\n"
      ]
    },
    {
      "cell_type": "markdown",
      "metadata": {},
      "source": [
        "## 0) Verbindung testen\n",
        "\n",
        "> Wählen Sie oben die gewünschte **Datenbank-Verbindung** für den SQL‑Kernel aus und führen Sie die folgende Abfrage aus.\n"
      ]
    },
    {
      "cell_type": "code",
      "execution_count": null,
      "metadata": {},
      "outputs": [],
      "source": [
        "SELECT\n",
        "    @@SERVERNAME                  AS server_name,\n",
        "    DB_NAME()                     AS current_database,\n",
        "    SUSER_SNAME()                 AS login_name,\n",
        "    HOST_NAME()                   AS host_name,\n",
        "    PROGRAM_NAME()                AS program_name,\n",
        "    SYSDATETIMEOFFSET()           AS server_time;\n"
      ]
    },
    {
      "cell_type": "markdown",
      "metadata": {},
      "source": [
        "## 1) Parameter (einmal setzen)\n",
        "\n",
        "Passen Sie die folgenden Variablen bei Bedarf an. Die Defaults filtern auf **Ihre aktuelle Session-Umgebung** (Login, Host, SSMS).\n"
      ]
    },
    {
      "cell_type": "code",
      "execution_count": null,
      "metadata": {},
      "outputs": [],
      "source": [
        "DECLARE @ProcName SYSNAME      = N'dbo.usp_<IhreStoredProcedure>';\n",
        "DECLARE @LikeText NVARCHAR(200)= N'%usp_<IhreStoredProcedure>%';\n",
        "\n",
        "DECLARE @MyLogin SYSNAME       = SUSER_SNAME();      -- Ihr Login\n",
        "DECLARE @MyHost  NVARCHAR(128) = HOST_NAME();        -- Ihr Host\n",
        "DECLARE @MyProg  NVARCHAR(128) = PROGRAM_NAME();     -- Ihr Client/Programm\n",
        "\n",
        "-- SSMS-Filter (kann für Azure Data Studio oder andere Tools angepasst werden)\n",
        "DECLARE @SSMSFilter NVARCHAR(200) = N'%Microsoft SQL Server Management Studio%';\n"
      ]
    },
    {
      "cell_type": "markdown",
      "metadata": {},
      "source": [
        "## 2) Aktive Requests & Sessions (Überblick)\n",
        "\n",
        "Liste aller **aktiven Benutzeranfragen** inkl. **SPID, Status, Startzeit, Command**, ggf. **Prozentfortschritt** (nur für bestimmte Operationen verfügbar, z. B. BACKUP/RESTORE/DBCC).\n"
      ]
    },
    {
      "cell_type": "code",
      "execution_count": null,
      "metadata": {},
      "outputs": [],
      "source": [
        "SELECT\n",
        "    r.session_id,\n",
        "    s.login_name, s.host_name, s.program_name,\n",
        "    r.status, r.command, r.start_time,\n",
        "    r.percent_complete, r.total_elapsed_time/1000.0 AS elapsed_s,\n",
        "    r.blocking_session_id,\n",
        "    DB_NAME(r.database_id)        AS database_name,\n",
        "    t.text                        AS sql_text\n",
        "FROM sys.dm_exec_requests AS r\n",
        "JOIN sys.dm_exec_sessions AS s\n",
        "  ON s.session_id = r.session_id\n",
        "OUTER APPLY sys.dm_exec_sql_text(r.sql_handle) AS t\n",
        "WHERE s.is_user_process = 1\n",
        "ORDER BY r.start_time ASC;\n"
      ]
    },
    {
      "cell_type": "markdown",
      "metadata": {},
      "source": [
        "### 2a) „Wahrscheinlich meine“ Requests\n",
        "\n",
        "Filter auf **Ihr Login/Host** und (optional) **SSMS**. So finden Sie Ihre eigenen noch laufenden Sessions schnell.\n"
      ]
    },
    {
      "cell_type": "code",
      "execution_count": null,
      "metadata": {},
      "outputs": [],
      "source": [
        "SELECT\n",
        "    r.session_id,\n",
        "    s.login_name, s.host_name, s.program_name,\n",
        "    r.status, r.command, r.start_time,\n",
        "    r.percent_complete, r.total_elapsed_time/1000.0 AS elapsed_s,\n",
        "    r.blocking_session_id,\n",
        "    DB_NAME(r.database_id) AS database_name,\n",
        "    t.text                 AS sql_text\n",
        "FROM sys.dm_exec_requests AS r\n",
        "JOIN sys.dm_exec_sessions AS s\n",
        "  ON s.session_id = r.session_id\n",
        "OUTER APPLY sys.dm_exec_sql_text(r.sql_handle) AS t\n",
        "WHERE s.is_user_process = 1\n",
        "  AND s.login_name = @MyLogin\n",
        "  AND s.host_name  = @MyHost\n",
        "  AND s.program_name LIKE @SSMSFilter\n",
        "ORDER BY r.start_time ASC;\n"
      ]
    },
    {
      "cell_type": "markdown",
      "metadata": {},
      "source": [
        "## 3) Läuft (noch) meine Stored Procedure?\n",
        "\n",
        "Sucht aktive Requests, deren SQL‑Text **Ihre Prozedur** enthält (heuristisch) **oder** die via **RPC** gestartet wurden.\n"
      ]
    },
    {
      "cell_type": "code",
      "execution_count": null,
      "metadata": {},
      "outputs": [],
      "source": [
        "-- A) Heuristisch über Text-Suche:\n",
        "SELECT\n",
        "    r.session_id, r.status, r.command, r.start_time,\n",
        "    s.login_name, s.host_name, s.program_name,\n",
        "    DB_NAME(r.database_id) AS database_name,\n",
        "    t.text                 AS sql_text\n",
        "FROM sys.dm_exec_requests AS r\n",
        "JOIN sys.dm_exec_sessions AS s ON s.session_id = r.session_id\n",
        "OUTER APPLY sys.dm_exec_sql_text(r.sql_handle) AS t\n",
        "WHERE s.is_user_process = 1\n",
        "  AND (t.text LIKE @LikeText OR t.text LIKE N'%EXEC%'+@ProcName+'%')\n",
        "ORDER BY r.start_time ASC;\n",
        "\n",
        "-- B) Prozedur-Aufrufe via RPC (falls als RPC ausgeführt):\n",
        "SELECT\n",
        "    r.session_id, r.status, r.command, r.start_time,\n",
        "    s.login_name, s.host_name, s.program_name,\n",
        "    DB_NAME(r.database_id) AS database_name,\n",
        "    t.text                 AS sql_text\n",
        "FROM sys.dm_exec_requests AS r\n",
        "JOIN sys.dm_exec_sessions AS s ON s.session_id = r.session_id\n",
        "OUTER APPLY sys.dm_exec_sql_text(r.sql_handle) AS t\n",
        "WHERE s.is_user_process = 1\n",
        "  AND r.command IN (N'RPC EVENT', N'RPC COMPLETION')\n",
        "  AND (t.text LIKE @LikeText OR t.text LIKE N'%'+@ProcName+'%')\n",
        "ORDER BY r.start_time ASC;\n"
      ]
    },
    {
      "cell_type": "markdown",
      "id": "9cfe2f33",
      "metadata": {},
      "source": [
        "# sys.dm\\_exec\\_requests – Statusübersicht\n",
        "\n",
        "Diese Tabelle fasst die möglichen Werte der Spalte `status` in `sys.dm_exec_requests` zusammen – plus typische Ursachen, Checks und schnelle Maßnahmen.\n",
        "\n",
        "| Status         | Bedeutung (kurz)                                     | Typische Ursachen/Beispiele                                                                                                   | Primäre Checks (DMVs)                                                                                       | Schnelle Maßnahmen                                                                                                    |\n",
        "| -------------- | ---------------------------------------------------- | ----------------------------------------------------------------------------------------------------------------------------- | ----------------------------------------------------------------------------------------------------------- | --------------------------------------------------------------------------------------------------------------------- |\n",
        "| **running**    | Anfrage hat CPU und wird ausgeführt.                 | Operatoren im Plan laufen gerade; Parallelismus aktiv.                                                                        | `sys.dm_exec_requests` (Elapsed, `wait_type` = NULL oder `CX*`), Plan via `sys.dm_exec_query_plan`.         | Beobachten; ggf. Plan prüfen (teure Scans/Sorts), DOP/CPU-Pressure analysieren.                                       |\n",
        "| **runnable**   | Bereit zur Ausführung, wartet nur auf CPU-Zeit.      | CPU-Pressure, viele parallel laufende Sessions/Abfragen.                                                                      | `sys.dm_os_schedulers` (Runnable Queue), PerfMon CPU; `sys.dm_exec_requests`.                               | Parallelismus begrenzen (`MAXDOP`), Workload drosseln, Pläne optimieren, ggf. Ressourcen erhöhen.                     |\n",
        "| **suspended**  | Wartet auf Ressource, kann derzeit nicht rechnen.    | Locks (`LCK_M_*`), Memory Grant (`RESOURCE_SEMAPHORE`), I/O (`PAGEIOLATCH_*`, `READ/WRITELOG`), TempDB-Latches, `THREADPOOL`. | `sys.dm_exec_requests.wait_type`, `sys.dm_os_waiting_tasks`; bei Locks: `sys.dm_tran_locks`, Blocker-Kette. | Nach Ursache handeln: Blocker identifizieren/auflösen; Pläne/Statistiken/Indizes optimieren; TempDB/IO/Memory prüfen. |\n",
        "| **background** | Interne Hintergrundaufgabe.                          | Deadlock-Checker, Ghost-Cleanup u. a. System-Tasks.                                                                           | `sys.dm_exec_sessions`/`requests` (SPID ≤ 50 häufig System), `program_name`.                                | Normalfall: ignorieren; nicht beenden.                                                                                |\n",
        "| **sleeping**   | Request inaktiv; wartet auf neuen Batch des Clients. | Session ist offen, aber kein aktiver Request.                                                                                 | `sys.dm_exec_sessions` (Session-Infos), `open_transaction_count`.                                           | Unkritisch; ggf. idles schließen, Transaktionen prüfen.                                                               |\n",
        "| **rollback**   | Server führt Rollback einer Transaktion durch.       | `KILL` ausgelöst, Fehler im Batch, Crash-Recovery/Undo-Phase.                                                                 | `sys.dm_exec_requests.percent_complete`, `sys.dm_tran_active_transactions`, Errorlog.                       | Abwarten (kann dauern); große Transaktionen vermeiden; Batching/Checkpoints/Log-Größe beachten.                       |\n",
        "\n",
        "## Hinweise\n",
        "\n",
        "* **Nur laufende/wartende Requests** erscheinen in `sys.dm_exec_requests`. *Schlafende Sessions* sieht man primär in `sys.dm_exec_sessions` – sie können aber als `sleeping` auftauchen, wenn ein Request-Context vorhanden ist.\n",
        "* Für *SUSPENDED* ist der **`wait_type`** der Schlüssel zur Diagnose. Ergänzend: `blocking_session_id`, `wait_time`, Plan und SQL-Text.\n",
        "* Bei Rollbacks zeigt `percent_complete` Fortschritt an – Geduld; Abbruch beschleunigt Rollbacks nicht.\n",
        "\n",
        "## Nützliche Snippets"
      ]
    },
    {
      "cell_type": "code",
      "execution_count": null,
      "id": "322085d8",
      "metadata": {},
      "outputs": [],
      "source": [
        "-- Status, Waits, Blocker & Text einer bestimmten SPID\n",
        "DECLARE @spid INT = <DEINE_SPID>;\n",
        "SELECT r.session_id, r.status, r.command, r.start_time,\n",
        "       r.wait_type, r.last_wait_type, r.wait_time, r.blocking_session_id,\n",
        "       DB_NAME(r.database_id) AS db_name,\n",
        "       t.text\n",
        "FROM sys.dm_exec_requests r\n",
        "OUTER APPLY sys.dm_exec_sql_text(r.sql_handle) t\n",
        "WHERE r.session_id = @spid;"
      ]
    },
    {
      "cell_type": "code",
      "execution_count": null,
      "id": "0513057a",
      "metadata": {},
      "outputs": [],
      "source": [
        "-- Blocker-Hierarchie (wer blockiert wen?)\n",
        ";WITH c AS (\n",
        "  SELECT session_id, blocking_session_id\n",
        "  FROM sys.dm_exec_requests WHERE blocking_session_id <> 0\n",
        ")\n",
        "SELECT DISTINCT r.session_id AS victim, r.blocking_session_id AS blocker,\n",
        "       vt.text AS victim_sql, bt.text AS blocker_sql\n",
        "FROM sys.dm_exec_requests r\n",
        "OUTER APPLY sys.dm_exec_sql_text(r.sql_handle) vt\n",
        "OUTER APPLY sys.dm_exec_sql_text((SELECT r2.sql_handle FROM sys.dm_exec_requests r2 WHERE r2.session_id=r.blocking_session_id)) bt\n",
        "WHERE r.blocking_session_id <> 0;"
      ]
    },
    {
      "cell_type": "code",
      "execution_count": null,
      "id": "a08ec885",
      "metadata": {},
      "outputs": [],
      "source": [
        "-- Memory-Grant-Warteschlange\n",
        "SELECT session_id, requested_memory_kb, granted_memory_kb,\n",
        "       required_memory_kb, max_used_memory_kb, wait_time_ms\n",
        "FROM sys.dm_exec_query_memory_grants\n",
        "ORDER BY wait_time_ms DESC;"
      ]
    },
    {
      "cell_type": "markdown",
      "metadata": {},
      "source": [
        "## 4) Warteursachen & Blocking erkennen\n",
        "\n",
        "### 4a) Warten/Locks pro aktivem Request\n"
      ]
    },
    {
      "cell_type": "code",
      "execution_count": null,
      "metadata": {},
      "outputs": [],
      "source": [
        "SELECT\n",
        "    r.session_id,\n",
        "    r.status,\n",
        "    r.wait_type, r.wait_time, r.last_wait_type,\n",
        "    r.blocking_session_id,\n",
        "    DB_NAME(r.database_id) AS database_name,\n",
        "    t.text AS sql_text\n",
        "FROM sys.dm_exec_requests AS r\n",
        "OUTER APPLY sys.dm_exec_sql_text(r.sql_handle) AS t\n",
        "WHERE r.session_id > 50  -- System-Sessions ausblenden\n",
        "ORDER BY r.wait_time DESC;\n"
      ]
    },
    {
      "cell_type": "markdown",
      "metadata": {},
      "source": [
        "### 4b) Wer blockiert wen? (inkl. Hierarchie)\n"
      ]
    },
    {
      "cell_type": "code",
      "execution_count": null,
      "metadata": {},
      "outputs": [],
      "source": [
        ";WITH blockers AS (\n",
        "    SELECT\n",
        "        r.session_id,\n",
        "        r.blocking_session_id,\n",
        "        CAST(CONCAT(r.session_id, N'') AS NVARCHAR(4000)) AS chain\n",
        "    FROM sys.dm_exec_requests AS r\n",
        "    WHERE r.blocking_session_id <> 0\n",
        "    UNION ALL\n",
        "    SELECT\n",
        "        r.session_id,\n",
        "        r.blocking_session_id,\n",
        "        CAST(b.chain + N' -> ' + CAST(r.session_id AS NVARCHAR(10)) AS NVARCHAR(4000)) AS chain\n",
        "    FROM sys.dm_exec_requests AS r\n",
        "    JOIN blockers b ON r.blocking_session_id = b.session_id\n",
        "    WHERE r.blocking_session_id <> 0\n",
        ")\n",
        "SELECT DISTINCT\n",
        "    s.session_id,\n",
        "    s.login_name, s.host_name, s.program_name,\n",
        "    r.status, r.command, r.start_time,\n",
        "    r.blocking_session_id,\n",
        "    b.chain\n",
        "FROM sys.dm_exec_sessions s\n",
        "LEFT JOIN sys.dm_exec_requests r ON s.session_id = r.session_id\n",
        "LEFT JOIN blockers b ON s.session_id = b.session_id\n",
        "WHERE s.is_user_process = 1\n",
        "ORDER BY s.session_id;\n"
      ]
    },
    {
      "cell_type": "markdown",
      "metadata": {},
      "source": [
        "## 5) SQL‑Text & Ausführungsplan einsehen\n",
        "\n",
        "Hilft beim Verständnis, **wo Zeit verbracht wird**.\n"
      ]
    },
    {
      "cell_type": "code",
      "execution_count": null,
      "metadata": {},
      "outputs": [],
      "source": [
        "SELECT TOP (20)\n",
        "    r.session_id, r.status, r.command, r.start_time,\n",
        "    DB_NAME(r.database_id) AS database_name,\n",
        "    t.text                  AS sql_text,\n",
        "    qp.query_plan\n",
        "FROM sys.dm_exec_requests AS r\n",
        "OUTER APPLY sys.dm_exec_sql_text(r.sql_handle) AS t\n",
        "OUTER APPLY sys.dm_exec_query_plan(r.plan_handle) AS qp\n",
        "WHERE r.session_id > 50\n",
        "ORDER BY r.start_time ASC;\n"
      ]
    },
    {
      "cell_type": "markdown",
      "metadata": {},
      "source": [
        "## 6) Aktive Transaktionen (Log-Nutzung, Dauer)\n",
        "\n",
        "Zeigt **Transaktionsstart**, **Status** und **Log-Verbrauch**; hilfreich, wenn **lange Transaktionen** das Log belegen.\n"
      ]
    },
    {
      "cell_type": "code",
      "execution_count": null,
      "metadata": {},
      "outputs": [],
      "source": [
        "SELECT\n",
        "    at.transaction_id,\n",
        "    at.name,\n",
        "    at.transaction_begin_time,\n",
        "    at.transaction_type,   -- 1 Read/Write, 2 Read-only, 3 System, 4 Distributed\n",
        "    at.transaction_state,  -- 0 Not initialized, 1 Initialized, 2 Active, 3 Ended, 4 Distributed init, 5 Prepared, 6 Committed, 7 Rolled back, 8 Committing\n",
        "    dt.database_id, DB_NAME(dt.database_id) AS database_name,\n",
        "    dt.database_transaction_log_bytes_used/1024/1024.0 AS log_used_MB\n",
        "FROM sys.dm_tran_active_transactions AS at\n",
        "JOIN sys.dm_tran_database_transactions AS dt\n",
        "  ON dt.transaction_id = at.transaction_id\n",
        "ORDER BY at.transaction_begin_time;\n"
      ]
    },
    {
      "cell_type": "markdown",
      "metadata": {},
      "source": [
        "## 7) Fortschritt (nur für bestimmte Operationen)\n",
        "\n",
        "`percent_complete` ist nur bei manchen Befehlen vorhanden (z. B. **BACKUP/RESTORE/DBCC/ALTER INDEX/DBCC CHECKDB**). Normale SELECT/INSERT/UPDATE/DELETE liefern **keinen Fortschrittswert**.\n"
      ]
    },
    {
      "cell_type": "code",
      "execution_count": null,
      "metadata": {},
      "outputs": [],
      "source": [
        "SELECT\n",
        "    r.session_id, r.command, r.status, r.percent_complete,\n",
        "    r.start_time, r.total_elapsed_time/1000.0 AS elapsed_s,\n",
        "    DB_NAME(r.database_id) AS database_name\n",
        "FROM sys.dm_exec_requests AS r\n",
        "WHERE r.percent_complete > 0\n",
        "ORDER BY r.start_time;\n"
      ]
    },
    {
      "cell_type": "markdown",
      "metadata": {},
      "source": [
        "## 8) Session gezielt beenden (nur wenn nötig)\n",
        "\n",
        "> **Vorsicht:** `KILL <SPID>` rollt die **aktuelle Transaktion** der Session zurück und kann **lange dauern**. Immer dokumentieren!\n",
        "\n",
        "1. Ermitteln Sie die **korrekte SPID** (z. B. aus Abschnitt 2/3).\n",
        "2. **Transaktions-/Auswirkungsanalyse** in Abschnitt 6 durchführen.\n",
        "3. Erst dann beenden:\n"
      ]
    },
    {
      "cell_type": "code",
      "execution_count": null,
      "metadata": {},
      "outputs": [],
      "source": [
        "-- Beispiel (SPID 123 ersetzen):\n",
        "-- KILL 123;\n"
      ]
    },
    {
      "cell_type": "markdown",
      "metadata": {},
      "source": [
        "## 9) Optional: Lightweight‑Tracing per Extended Events\n",
        "\n",
        "Mit **Extended Events** können Sie Prozedurstarts/-enden und SQL‑Statements **serverseitig** aufzeichnen – hilfreich, wenn Sie **Messages** des Clients (PRINT/RAISERROR) nicht sehen können.\n",
        "\n",
        "> Hinweis: Es gibt kein natives „PRINT“-Event. Nutzen Sie **`RAISERROR (..., 0, 1) WITH NOWAIT`** in Ihrer Prozedur für Fortschrittsmarken oder loggen Sie in eigene Tabellen.\n"
      ]
    },
    {
      "cell_type": "code",
      "execution_count": null,
      "metadata": {},
      "outputs": [],
      "source": [
        "-- Session anlegen (einfaches Beispiel für Prozedur- und Statement-Events):\n",
        "IF EXISTS (SELECT 1 FROM sys.server_event_sessions WHERE name = 'xe_proc_trace_basic')\n",
        "    DROP EVENT SESSION [xe_proc_trace_basic] ON SERVER;\n",
        "GO\n",
        "CREATE EVENT SESSION [xe_proc_trace_basic] ON SERVER\n",
        "ADD EVENT sqlserver.rpc_starting(\n",
        "    ACTION(sqlserver.sql_text, sqlserver.session_id, sqlserver.client_hostname, sqlserver.username)\n",
        "),\n",
        "ADD EVENT sqlserver.rpc_completed(\n",
        "    ACTION(sqlserver.sql_text, sqlserver.session_id, sqlserver.client_hostname, sqlserver.username)\n",
        "),\n",
        "ADD EVENT sqlserver.sql_statement_completed(\n",
        "    ACTION(sqlserver.sql_text, sqlserver.session_id, sqlserver.client_hostname, sqlserver.username)\n",
        ")\n",
        "ADD TARGET package0.ring_buffer;\n",
        "GO\n",
        "ALTER EVENT SESSION [xe_proc_trace_basic] ON SERVER STATE = START;\n",
        "GO\n",
        "\n",
        "-- Live lesen (Ringbuffer):\n",
        "SELECT\n",
        "    DATEADD(HOUR, DATEDIFF(HOUR, SYSUTCDATETIME(), SYSDATETIME()), \n",
        "        CAST(xe.event_data_xml.value('(event/@timestamp)[1]', 'datetime2') AS datetime2)) AS local_time,\n",
        "    xe.event_data_xml.value('(event/@name)[1]', 'nvarchar(128)') AS event_name,\n",
        "    xe.event_data_xml.value('(event/data[@name=\"statement\"]/value)[1]', 'nvarchar(max)') AS statement_text,\n",
        "    xe.event_data_xml.value('(event/action[@name=\"sql_text\"]/value)[1]', 'nvarchar(max)') AS sql_text,\n",
        "    xe.event_data_xml.value('(event/action[@name=\"session_id\"]/value)[1]', 'int') AS session_id,\n",
        "    xe.event_data_xml.value('(event/action[@name=\"client_hostname\"]/value)[1]', 'nvarchar(128)') AS client_host,\n",
        "    xe.event_data_xml.value('(event/action[@name=\"username\"]/value)[1]', 'sysname') AS username\n",
        "FROM (\n",
        "    SELECT CAST(target_data AS XML) AS target_data\n",
        "    FROM sys.dm_xe_sessions AS s\n",
        "    JOIN sys.dm_xe_session_targets AS t\n",
        "      ON s.address = t.event_session_address\n",
        "    WHERE s.name = N'xe_proc_trace_basic' AND t.target_name = N'ring_buffer'\n",
        ") AS src\n",
        "CROSS APPLY src.target_data.nodes('RingBufferTarget/event') AS n(xe)\n",
        "CROSS APPLY (SELECT n.xe.query('.') AS event_data_xml) AS xe;\n"
      ]
    },
    {
      "cell_type": "code",
      "execution_count": null,
      "metadata": {},
      "outputs": [],
      "source": [
        "-- Aufräumen (bei Nichtgebrauch):\n",
        "-- ALTER EVENT SESSION [xe_proc_trace_basic] ON SERVER STATE = STOP;\n",
        "-- DROP EVENT SESSION [xe_proc_trace_basic] ON SERVER;\n"
      ]
    },
    {
      "cell_type": "markdown",
      "metadata": {},
      "source": [
        "## 10) FAQ zur ursprünglichen Frage\n",
        "\n",
        "**Q1: Wie kommt es dazu? Was bedeutet es?**  \n",
        "- Nach einem **Server-Neustart** ist die alte Anfrage **serverseitig beendet**. Die SSMS‑UI hält aber am Editorzustand fest und verhindert eine neue Ausführung im selben Tab (siehe Intro).\n",
        "\n",
        "**Q2: Wie finde ich die ID (SPID) der „alten“ Ausführung?**  \n",
        "- Nach **Serverneustart existiert diese Session nicht mehr** – sie ist **weg**. Sie können nur **laufende** Sessions via DMV sehen (Abschnitt 2/3).  \n",
        "- Wenn Sie **dauerhaft nachverfolgen** wollen, nutzen Sie **Tabellen-Logging** (in der Prozedur) oder **Extended Events** (Abschnitt 9).\n",
        "\n",
        "**Q3: Kann ich mich an die alte Ausführung „anhängen“, um Messages zu sehen?**  \n",
        "- **Nein.** Es gibt **keinen** Weg, die Ausgabe eines **fremden (oder beendeten)** Clients anzuzeigen.  \n",
        "- Nutzen Sie **serverseitiges Logging** (Tabelle/Extended Events) oder `RAISERROR(...,0,1) WITH NOWAIT` in der Prozedur, um Fortschritt **serverseitig** zu erfassen.\n"
      ]
    },
    {
      "cell_type": "markdown",
      "metadata": {},
      "source": [
        "## 11) Best Practices für robuste Langläufer\n",
        "\n",
        "- In langen Prozeduren regelmäßig **Fortschritt loggen** (Tabelle mit `ExecutionID`, `Step`, `Message`, `InsertDate`).\n",
        "- Für „Live“-Fortschritt `RAISERROR (N'<marker>', 0, 1) WITH NOWAIT` verwenden (kommt sofort beim Client an).  \n",
        "- **Batches** und **kurze Transaktionen** statt eines großen Monolithen – bei Abbruch nur der laufende Batch wird zurückgerollt.\n",
        "- SSMS‑„Stuck“-Zustände vermeiden: **Tab schließen/neu öffnen**, **Reconnect**, **SSMS updaten**.\n",
        "- Für Monitoring **DMVs** und **Extended Events** standardmäßig in ein Admin‑Skript integrieren.\n"
      ]
    }
  ],
  "metadata": {
    "kernelspec": {
      "display_name": "SQL",
      "language": "sql",
      "name": "sql"
    },
    "language_info": {
      "name": "sql"
    },
    "title": "SQL Notebook – Diagnose festhängender Ausführungen & Session-Monitoring (SSMS/SQL Server)"
  },
  "nbformat": 4,
  "nbformat_minor": 5
}
