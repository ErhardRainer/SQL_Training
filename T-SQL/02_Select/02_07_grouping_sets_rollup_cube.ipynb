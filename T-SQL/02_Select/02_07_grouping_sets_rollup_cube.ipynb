{
    "metadata": {
        "kernelspec": {
            "name": "SQL",
            "display_name": "SQL",
            "language": "sql"
        },
        "language_info": {
            "name": "sql",
            "version": ""
        }
    },
    "nbformat_minor": 2,
    "nbformat": 4,
    "cells": [
        {
            "cell_type": "markdown",
            "source": [
                "# T-SQL SELECT – Erweiterte Aggregation: GROUPING SETS, ROLLUP, CUBE\n",
                "\n",
                "**Themengebiet:** SELECT\n",
                "\n",
                "**Kapitel:** Erweiterte Aggregation: GROUPING SETS, ROLLUP, CUBE\n",
                "\n",
                "**Kurzbeschreibung:** Mehrdimensionale Summen in einer Abfrage; `GROUPING_ID` zur Unterscheidung der Ebenen.\n",
                "\n",
                "**Stand:** 6. September 2025"
            ],
            "metadata": {
                "azdata_cell_guid": "3d146f71-358f-4215-aad0-e12b81b26596"
            }
        },
        {
            "cell_type": "markdown",
            "source": [
                "Dieses Notebook vertieft Aggregation über mehrere Ebenen in **einer** Abfrage: `GROUPING SETS`, `ROLLUP`, `CUBE` und die Funktionen `GROUPING`/`GROUPING_ID` zur sicheren Unterscheidung echter `NULL`‑Werte von Aggregationsebenen (Totals/Subtotals). Es baut auf grundlegender Aggregation auf."
            ],
            "metadata": {
                "azdata_cell_guid": "8b923afc-cbd8-46ff-a1c9-b54a88617ef8"
            }
        },
        {
            "cell_type": "markdown",
            "source": [
                "**Inhalt dieses Notebooks ist:**\n",
                "\n",
                "- Setup & Demo‑Daten\n",
                "- Logische Auswertungsreihenfolge\n",
                "- GROUP BY – Grundsyntax\n",
                "- Mehrfach gruppieren (Region & Kategorie)\n",
                "- Gruppieren über Ausdrücke (z. B. YEAR(OrderDate))\n",
                "- Aggregatfunktionen & NULL‑Semantik\n",
                "- WHERE vs HAVING (2 Beispiele)\n",
                "- DISTINCT & bedingte Aggregation\n",
                "- Window‑Funktionen vs GROUP BY\n",
                "- **Erweitert:** `ROLLUP`, `GROUPING`, `GROUPING_ID`, `GROUPING SETS`, `CUBE`\n",
                "- Query Optimizer/Analyzer & Ausführungsplan\n",
                "- Typische Fallstricke\n",
                "- Best Practices & Performance\n",
                "- Übungen\n",
                "- Lösungen\n",
                "- Querverweise\n",
                "- Cleanup (optional)"
            ],
            "metadata": {
                "azdata_cell_guid": "343a78d0-4196-435b-82cb-b470ad5b894f"
            }
        },
        {
            "cell_type": "markdown",
            "source": [
                "Hinweis: Dieses Notebook nutzt einen **SQL‑Kernel**. **Alle Codezellen enthalten T‑SQL** (SQL Server)."
            ],
            "metadata": {
                "azdata_cell_guid": "0117a278-e123-4b43-aba8-60c52dc97e6a"
            }
        },
        {
            "cell_type": "markdown",
            "source": [
                "## Setup & Demo‑Daten\n",
                "Wir verwenden eine Beispiel‑Datenbank **BITest** und eine Tabelle **dbo.SalesOrders** mit Regionen/Kategorien. Für Umsätze nutzen wir `Quantity * UnitPrice * (1-COALESCE(Discount,0))`."
            ],
            "metadata": {
                "azdata_cell_guid": "d7bba50a-8d8c-404b-9c56-c707e5b18323"
            }
        },
        {
            "cell_type": "code",
            "source": [
                "IF DB_ID(N'BITest') IS NULL\n",
                "BEGIN\n",
                "    CREATE DATABASE BITest;\n",
                "END;\n",
                "GO\n",
                "USE [BITest];\n",
                "GO\n",
                "IF OBJECT_ID(N'dbo.SalesOrders','U') IS NOT NULL DROP TABLE dbo.SalesOrders;\n",
                "CREATE TABLE dbo.SalesOrders\n",
                "(\n",
                "  SalesOrderID int IDENTITY(1,1) PRIMARY KEY,\n",
                "  OrderDate    date           NOT NULL,\n",
                "  Region       nvarchar(20)  NOT NULL,\n",
                "  Category     nvarchar(20)  NOT NULL,\n",
                "  CustomerID   int           NOT NULL,\n",
                "  Quantity     int           NOT NULL,\n",
                "  UnitPrice    decimal(10,2) NOT NULL,\n",
                "  Discount     decimal(4,2)  NULL\n",
                ");\n",
                "INSERT INTO dbo.SalesOrders (OrderDate,Region,Category,CustomerID,Quantity,UnitPrice,Discount) VALUES\n",
                "('2025-01-05',N'West',N'Hardware',101,3, 19.99,0.10),\n",
                "('2025-01-05',N'West',N'Hardware',102,1,199.00,NULL),\n",
                "('2025-02-14',N'Nord',N'Software',103,5, 49.50,0.00),\n",
                "('2025-03-01',N'Sued',N'Hardware',104,2,999.90,0.15),\n",
                "('2025-03-18',N'Ost', N'Hardware',105,10, 5.00,0.05),\n",
                "('2025-04-02',N'West',N'Software',106,0, 49.50,NULL),\n",
                "('2025-05-20',N'Nord',N'Hardware',107,7, 12.30,NULL),\n",
                "('2025-05-21',N'Ost', N'Software',108,4,149.00,0.05),\n",
                "('2025-05-22',N'Sued',N'Software',109,6, 79.00,NULL);"
            ],
            "metadata": {
                "azdata_cell_guid": "32f31fae-4fad-436e-a05a-bf5a87ac5f2b",
                "language": "sql"
            },
            "outputs": [],
            "execution_count": null
        },
        {
            "cell_type": "markdown",
            "source": [
                "### Daten sichten"
            ],
            "metadata": {
                "azdata_cell_guid": "b8335ffa-189a-4b24-8157-fb10d1d91675"
            }
        },
        {
            "cell_type": "code",
            "source": [
                "USE [BITest];\n",
                "SELECT TOP (10) * FROM dbo.SalesOrders ORDER BY SalesOrderID;"
            ],
            "metadata": {
                "azdata_cell_guid": "d83e0ae3-cf2c-4c1f-984e-6839d8f99a2c",
                "language": "sql"
            },
            "outputs": [],
            "execution_count": null
        },
        {
            "cell_type": "markdown",
            "source": [
                "## Logische Auswertungsreihenfolge\n",
                "1. FROM / JOIN\n",
                "2. WHERE\n",
                "3. GROUP BY\n",
                "4. HAVING\n",
                "5. SELECT\n",
                "6. ORDER BY\n",
                "\n",
                "`GROUPING SETS`/`ROLLUP`/`CUBE` erweitern **Schritt 3** um zusätzliche Aggregationsebenen. `HAVING` filtert **Gruppen** (auch Totals)."
            ],
            "metadata": {
                "azdata_cell_guid": "3fa35261-a93f-4e55-a250-049d83a4b26d"
            }
        },
        {
            "cell_type": "markdown",
            "source": [
                "## GROUP BY – Grundsyntax"
            ],
            "metadata": {
                "azdata_cell_guid": "83ffd800-d9d3-472d-a545-c2efe08ea4ae"
            }
        },
        {
            "cell_type": "markdown",
            "source": [
                "*Fragestellung:* Anzahl Zeilen pro Region."
            ],
            "metadata": {
                "azdata_cell_guid": "63c8713c-9ee9-44cb-89e1-95d6b9f8591c"
            }
        },
        {
            "cell_type": "code",
            "source": [
                "USE [BITest];\n",
                "SELECT Region, COUNT(*) AS RowsPerRegion\n",
                "FROM dbo.SalesOrders\n",
                "GROUP BY Region\n",
                "ORDER BY Region;"
            ],
            "metadata": {
                "azdata_cell_guid": "a20bba45-b381-4b65-8658-72889e2729b8",
                "language": "sql"
            },
            "outputs": [],
            "execution_count": null
        },
        {
            "cell_type": "markdown",
            "source": [
                "## Mehrfach gruppieren (Region & Kategorie)"
            ],
            "metadata": {
                "azdata_cell_guid": "60b76612-f317-4805-a4f6-be79b3f2c59a"
            }
        },
        {
            "cell_type": "markdown",
            "source": [
                "*Fragestellung:* Umsatz je Region & Kategorie."
            ],
            "metadata": {
                "azdata_cell_guid": "9d1ef280-a2c2-4203-a23e-669f372685db"
            }
        },
        {
            "cell_type": "code",
            "source": [
                "USE [BITest];\n",
                "SELECT Region, Category,\n",
                "       SUM(Quantity*UnitPrice*(1-COALESCE(Discount,0))) AS Revenue\n",
                "FROM dbo.SalesOrders\n",
                "GROUP BY Region, Category\n",
                "ORDER BY Region, Category;"
            ],
            "metadata": {
                "azdata_cell_guid": "a21a6972-e9aa-4f8b-a70c-323a49ce547c",
                "language": "sql"
            },
            "outputs": [],
            "execution_count": null
        },
        {
            "cell_type": "markdown",
            "source": [
                "## Gruppieren über Ausdrücke (z. B. YEAR(OrderDate))"
            ],
            "metadata": {
                "azdata_cell_guid": "d73d6d7f-d9e3-454e-bf8e-88ed2ae54957"
            }
        },
        {
            "cell_type": "markdown",
            "source": [
                "*Fragestellung:* Zeilen je Jahr."
            ],
            "metadata": {
                "azdata_cell_guid": "6dd2dec4-79b6-4496-a83c-e6b7b02b544b"
            }
        },
        {
            "cell_type": "code",
            "source": [
                "USE [BITest];\n",
                "SELECT YEAR(OrderDate) AS OrderYear, COUNT(*) AS Cnt\n",
                "FROM dbo.SalesOrders\n",
                "GROUP BY YEAR(OrderDate)\n",
                "ORDER BY OrderYear;"
            ],
            "metadata": {
                "azdata_cell_guid": "535f4980-e6bf-418e-82ef-24d82a6571d2",
                "language": "sql"
            },
            "outputs": [],
            "execution_count": null
        },
        {
            "cell_type": "markdown",
            "source": [
                "## Aggregatfunktionen & NULL‑Semantik"
            ],
            "metadata": {
                "azdata_cell_guid": "3cf8ba2b-c667-42bb-91b3-9cfed9be71da"
            }
        },
        {
            "cell_type": "markdown",
            "source": [
                "*Fragestellung:* Unterschied `COUNT(*)` vs. `COUNT(col)`; Summen/Min/Max."
            ],
            "metadata": {
                "azdata_cell_guid": "445a3204-1195-4c7f-92a3-efa4407bc7a0"
            }
        },
        {
            "cell_type": "code",
            "source": [
                "USE [BITest];\n",
                "SELECT COUNT(*) AS CntRows, COUNT(Discount) AS CntDiscountNotNull,\n",
                "       SUM(Quantity) AS SumQty, MIN(UnitPrice) AS MinPrice, MAX(UnitPrice) AS MaxPrice\n",
                "FROM dbo.SalesOrders;"
            ],
            "metadata": {
                "azdata_cell_guid": "5f192d66-e5a8-476f-b9d3-38b579b0e6cd",
                "language": "sql"
            },
            "outputs": [],
            "execution_count": null
        },
        {
            "cell_type": "markdown",
            "source": [
                "## WHERE vs HAVING – Beispiel 1"
            ],
            "metadata": {
                "azdata_cell_guid": "f1d5425a-61ab-4571-9419-d5302b060f77"
            }
        },
        {
            "cell_type": "markdown",
            "source": [
                "*Fragestellung:* Nur `Hardware` **vor** der Gruppierung berücksichtigen (Zeilenfilter)."
            ],
            "metadata": {
                "azdata_cell_guid": "b049263b-a986-40ea-8773-c0e45b24b6c7"
            }
        },
        {
            "cell_type": "code",
            "source": [
                "USE [BITest];\n",
                "SELECT Region, COUNT(*) AS Cnt\n",
                "FROM dbo.SalesOrders\n",
                "WHERE Category = N'Hardware'\n",
                "GROUP BY Region\n",
                "ORDER BY Region;"
            ],
            "metadata": {
                "azdata_cell_guid": "56ed9598-cc30-43ef-be31-28fbd42005ce",
                "language": "sql"
            },
            "outputs": [],
            "execution_count": null
        },
        {
            "cell_type": "markdown",
            "source": [
                "## WHERE vs HAVING – Beispiel 2"
            ],
            "metadata": {
                "azdata_cell_guid": "43b496a3-bc49-46e1-85aa-0fbe7abcd78c"
            }
        },
        {
            "cell_type": "markdown",
            "source": [
                "*Fragestellung:* Nur Gruppen mit **Revenue ≥ 500** behalten (Gruppenfilter)."
            ],
            "metadata": {
                "azdata_cell_guid": "7b7145b5-8f78-40af-8e74-228c2eb3fed5"
            }
        },
        {
            "cell_type": "code",
            "source": [
                "USE [BITest];\n",
                "SELECT Region, SUM(Quantity*UnitPrice*(1-COALESCE(Discount,0))) AS Revenue\n",
                "FROM dbo.SalesOrders\n",
                "GROUP BY Region\n",
                "HAVING SUM(Quantity*UnitPrice*(1-COALESCE(Discount,0))) >= 500\n",
                "ORDER BY Region;"
            ],
            "metadata": {
                "azdata_cell_guid": "83c8a294-0251-4caa-9e69-3cb15ad2c663",
                "language": "sql"
            },
            "outputs": [],
            "execution_count": null
        },
        {
            "cell_type": "markdown",
            "source": [
                "## DISTINCT & bedingte Aggregation"
            ],
            "metadata": {
                "azdata_cell_guid": "c4ee9cd5-0955-406c-90dd-7c1fb9f71d6e"
            }
        },
        {
            "cell_type": "markdown",
            "source": [
                "*Fragestellung:* Unterschiedliche Kunden je Region & Anteil Hardware‑Zeilen."
            ],
            "metadata": {
                "azdata_cell_guid": "f2020653-aaf6-4ffd-b0f9-223b3945e576"
            }
        },
        {
            "cell_type": "code",
            "source": [
                "USE [BITest];\n",
                "SELECT Region,\n",
                "       COUNT(DISTINCT CustomerID) AS DistinctCustomers,\n",
                "       SUM(CASE WHEN Category = N'Hardware' THEN 1 ELSE 0 END) AS CntHW\n",
                "FROM dbo.SalesOrders\n",
                "GROUP BY Region\n",
                "ORDER BY Region;"
            ],
            "metadata": {
                "azdata_cell_guid": "52e49ceb-fae8-4666-b243-01594322e242",
                "language": "sql"
            },
            "outputs": [],
            "execution_count": null
        },
        {
            "cell_type": "markdown",
            "source": [
                "## Window‑Funktionen vs GROUP BY"
            ],
            "metadata": {
                "azdata_cell_guid": "c3352f45-55bb-4936-bf86-4774019221bb"
            }
        },
        {
            "cell_type": "markdown",
            "source": [
                "*Fragestellung:* Regionsumsatz pro Zeile anzeigen (ohne Verdichtung)."
            ],
            "metadata": {
                "azdata_cell_guid": "1321454d-d54d-4377-9c98-a2d0de4beda4"
            }
        },
        {
            "cell_type": "code",
            "source": [
                "USE [BITest];\n",
                "SELECT SalesOrderID, Region,\n",
                "       SUM(Quantity*UnitPrice*(1-COALESCE(Discount,0))) OVER (PARTITION BY Region) AS RegionRevenue\n",
                "FROM dbo.SalesOrders\n",
                "ORDER BY Region, SalesOrderID;"
            ],
            "metadata": {
                "azdata_cell_guid": "b9d66cdf-6b7e-4876-95e7-9ea5cd65dd40",
                "language": "sql"
            },
            "outputs": [],
            "execution_count": null
        },
        {
            "cell_type": "markdown",
            "source": [
                "## ROLLUP – Zwischensummen & Gesamtsumme"
            ],
            "metadata": {
                "azdata_cell_guid": "facf3c0a-3a08-4640-814f-2a6ff8ea0189"
            }
        },
        {
            "cell_type": "markdown",
            "source": [
                "*Fragestellung:* Region/Kategorie summieren **inkl.** Regionstotals **und** Gesamttotal."
            ],
            "metadata": {
                "azdata_cell_guid": "c818da3c-3480-4a9b-abf4-4c9e0c7d77dc"
            }
        },
        {
            "cell_type": "code",
            "source": [
                "USE [BITest];\n",
                "SELECT Region, Category,\n",
                "       SUM(Quantity*UnitPrice*(1-COALESCE(Discount,0))) AS Revenue\n",
                "FROM dbo.SalesOrders\n",
                "GROUP BY ROLLUP (Region, Category)\n",
                "ORDER BY Region, Category;"
            ],
            "metadata": {
                "azdata_cell_guid": "141e48a3-af86-42f0-a2ba-7b1812f2e483",
                "language": "sql"
            },
            "outputs": [],
            "execution_count": null
        },
        {
            "cell_type": "markdown",
            "source": [
                "## GROUPING & GROUPING_ID – Ebenen unterscheiden"
            ],
            "metadata": {
                "azdata_cell_guid": "8e1c4b29-d0d4-4044-9624-ca5ca94eecb5"
            }
        },
        {
            "cell_type": "markdown",
            "source": [
                "*Fragestellung:* Wie erkenne ich, ob `NULL` aus Daten stammt oder von `ROLLUP` kommt?"
            ],
            "metadata": {
                "azdata_cell_guid": "69341536-9927-4a86-a80e-6e045047f77a"
            }
        },
        {
            "cell_type": "code",
            "source": [
                "USE [BITest];\n",
                "SELECT\n",
                "  Region,\n",
                "  Category,\n",
                "  SUM(Quantity*UnitPrice*(1-COALESCE(Discount,0))) AS Revenue,\n",
                "  GROUPING(Region)   AS G_Region,\n",
                "  GROUPING(Category) AS G_Category,\n",
                "  GROUPING_ID(Region, Category) AS GID,\n",
                "  CASE GROUPING_ID(Region, Category)\n",
                "    WHEN 0 THEN N'Detail (Region,Category)'\n",
                "    WHEN 1 THEN N'Subtotal: Region, alle Kategorien'\n",
                "    WHEN 3 THEN N'Grand Total'\n",
                "    ELSE N'Andere Ebene'\n",
                "  END AS LevelLabel\n",
                "FROM dbo.SalesOrders\n",
                "GROUP BY ROLLUP (Region, Category)\n",
                "ORDER BY GID, Region, Category;"
            ],
            "metadata": {
                "azdata_cell_guid": "4c947895-197f-4545-bfb3-c0101e369886",
                "language": "sql"
            },
            "outputs": [],
            "execution_count": null
        },
        {
            "cell_type": "markdown",
            "source": [
                "## GROUPING SETS – Auswahl beliebiger Ebenen in einer Abfrage"
            ],
            "metadata": {
                "azdata_cell_guid": "4be65833-0a4a-4f0c-88ca-4cec77d0bb8d"
            }
        },
        {
            "cell_type": "markdown",
            "source": [
                "*Fragestellung:* Brauche ich Summen je Region **und** je Kategorie **und** Gesamtsumme – aber **keine** (Region,Category)‑Details."
            ],
            "metadata": {
                "azdata_cell_guid": "76465f3d-6565-4e97-a47b-ba7724c4a223"
            }
        },
        {
            "cell_type": "code",
            "source": [
                "USE [BITest];\n",
                "SELECT Region, Category,\n",
                "       SUM(Quantity*UnitPrice*(1-COALESCE(Discount,0))) AS Revenue,\n",
                "       GROUPING_ID(Region, Category) AS GID\n",
                "FROM dbo.SalesOrders\n",
                "GROUP BY GROUPING SETS ( (Region), (Category), () )\n",
                "ORDER BY GID, Region, Category;"
            ],
            "metadata": {
                "azdata_cell_guid": "d6d9a21d-9133-4046-8337-42905daaf15c",
                "language": "sql"
            },
            "outputs": [],
            "execution_count": null
        },
        {
            "cell_type": "markdown",
            "source": [
                "## CUBE – Alle Kombinationen (inkl. Kreuzsummen)"
            ],
            "metadata": {
                "azdata_cell_guid": "7af57602-4fcf-475c-b5fc-e89892452af1"
            }
        },
        {
            "cell_type": "markdown",
            "source": [
                "*Fragestellung:* Über **Region × Kategorie** sämtliche Ebenen (Detail, Subtotals pro Achse, Grand Total)."
            ],
            "metadata": {
                "azdata_cell_guid": "7ce0055b-6a78-4ccb-a572-9b37035f3697"
            }
        },
        {
            "cell_type": "code",
            "source": [
                "USE [BITest];\n",
                "SELECT Region, Category,\n",
                "       SUM(Quantity*UnitPrice*(1-COALESCE(Discount,0))) AS Revenue,\n",
                "       GROUPING_ID(Region, Category) AS GID\n",
                "FROM dbo.SalesOrders\n",
                "GROUP BY CUBE (Region, Category)\n",
                "ORDER BY GID, Region, Category;"
            ],
            "metadata": {
                "azdata_cell_guid": "e6e7793f-389e-4e08-9d85-2d5d6d000c36",
                "language": "sql"
            },
            "outputs": [],
            "execution_count": null
        },
        {
            "cell_type": "markdown",
            "source": [
                "## Query Optimizer/Analyzer & Ausführungsplan\n",
                "**Pipeline:** Parsing → Binder → Optimizer → Plan‑Cache → Executor\n",
                "\n",
                "**Relevante Operatoren:** Hash Match (Aggregate), Stream Aggregate, Sort (für `DISTINCT`/`GROUPING SETS`‑Konsolidierung), Parallelism, Memory Grants, Cardinality Estimator (CE).\n",
                "\n",
                "**Erwartete Pläne (sprachlich):**\n",
                "- `ROLLUP`/`CUBE` werden als Aggregat + zusätzliche **Rollup‑Phasen** umgesetzt; oft `Sort` für korrekte Gruppierungsreihenfolge.\n",
                "- `GROUPING SETS` kann mehrere Teilaggregate berechnen und zusammenführen.\n",
                "- `GROUPING_ID` ist ein Compute‑Scalar über der Aggregation.\n",
                "\n",
                "**Snippets (nicht ausführen):**\n",
                "```sql\n",
                "SET SHOWPLAN_XML ON;\n",
                "SELECT Region, Category, SUM(Quantity*UnitPrice) FROM dbo.SalesOrders GROUP BY ROLLUP(Region,Category);\n",
                "SET SHOWPLAN_XML OFF;\n",
                "\n",
                "SET STATISTICS IO, TIME ON;\n",
                "SELECT Region, Category, SUM(Quantity*UnitPrice) FROM dbo.SalesOrders GROUP BY GROUPING SETS ((Region),(Category),());\n",
                "SET STATISTICS IO, TIME OFF;\n",
                "```"
            ],
            "metadata": {
                "azdata_cell_guid": "252b395d-deb7-4cfb-a588-5253b83422fc"
            }
        },
        {
            "cell_type": "markdown",
            "source": [
                "## Typische Fallstricke"
            ],
            "metadata": {
                "azdata_cell_guid": "748d2792-5964-4dc1-83d9-923b07532a70"
            }
        },
        {
            "cell_type": "markdown",
            "source": [
                "**Fall 1 – Fehlende GROUP BY‑Spalten**\n",
                "*Fragestellung:* Warum meldet SQL Server einen Fehler?"
            ],
            "metadata": {
                "azdata_cell_guid": "c1613c40-227d-4918-9674-a6d2910d1219"
            }
        },
        {
            "cell_type": "code",
            "source": [
                "USE [BITest];\n",
                "-- Fehlerhaft: Category nicht aggregiert und nicht gruppiert\n",
                "-- SELECT Region, Category, SUM(Quantity) FROM dbo.SalesOrders GROUP BY Region;"
            ],
            "metadata": {
                "azdata_cell_guid": "e422c58b-771f-4515-9122-10d15b87997d",
                "language": "sql"
            },
            "outputs": [],
            "execution_count": null
        },
        {
            "cell_type": "code",
            "source": [
                "USE [BITest];\n",
                "-- Korrekt\n",
                "SELECT Region, Category, SUM(Quantity)\n",
                "FROM dbo.SalesOrders\n",
                "GROUP BY Region, Category;"
            ],
            "metadata": {
                "azdata_cell_guid": "80d44e82-4346-404f-b9ab-177707645f3e",
                "language": "sql"
            },
            "outputs": [],
            "execution_count": null
        },
        {
            "cell_type": "markdown",
            "source": [
                "**Fall 2 – Aggregat in WHERE statt HAVING**\n",
                "*Fragestellung:* Warum funktioniert `WHERE SUM(...) > ...` nicht?"
            ],
            "metadata": {
                "azdata_cell_guid": "5ee5c737-6962-4a70-b50b-f38e1e4bdb07"
            }
        },
        {
            "cell_type": "code",
            "source": [
                "USE [BITest];\n",
                "-- Fehlerhaft:\n",
                "-- SELECT Region FROM dbo.SalesOrders GROUP BY Region WHERE SUM(Quantity) > 5;"
            ],
            "metadata": {
                "azdata_cell_guid": "e37b2ad2-a45a-4f73-891b-19e6bcb22ce9",
                "language": "sql"
            },
            "outputs": [],
            "execution_count": null
        },
        {
            "cell_type": "code",
            "source": [
                "USE [BITest];\n",
                "-- Korrekt\n",
                "SELECT Region FROM dbo.SalesOrders GROUP BY Region HAVING SUM(Quantity) > 5;"
            ],
            "metadata": {
                "azdata_cell_guid": "d350cda0-2c6f-4962-b39a-90cb9b4faefa",
                "language": "sql"
            },
            "outputs": [],
            "execution_count": null
        },
        {
            "cell_type": "markdown",
            "source": [
                "**Fall 3 – `NULL` aus Daten vs. Rollup‑Totals verwechseln**\n",
                "*Fragestellung:* Wie unterscheide ich echte `NULL`‑Kategorien von `ROLLUP`‑Totals?"
            ],
            "metadata": {
                "azdata_cell_guid": "85c4a63e-655a-45d0-a591-8ea50287f8c0"
            }
        },
        {
            "cell_type": "code",
            "source": [
                "USE [BITest];\n",
                "-- Fehlerhaft: blindes COALESCE führt echte NULLs und Totals zusammen\n",
                "SELECT COALESCE(Category,N'Total') AS Cat, SUM(Quantity) AS Qty\n",
                "FROM dbo.SalesOrders\n",
                "GROUP BY ROLLUP(Category);"
            ],
            "metadata": {
                "azdata_cell_guid": "49b3537a-3897-4f4a-9964-1f763d4d51d5",
                "language": "sql"
            },
            "outputs": [],
            "execution_count": null
        },
        {
            "cell_type": "code",
            "source": [
                "USE [BITest];\n",
                "-- Korrekt: erst mit GROUPING() unterscheiden\n",
                "SELECT CASE WHEN GROUPING(Category)=1 THEN N'Total' ELSE Category END AS Cat,\n",
                "       SUM(Quantity) AS Qty\n",
                "FROM dbo.SalesOrders\n",
                "GROUP BY ROLLUP(Category);"
            ],
            "metadata": {
                "azdata_cell_guid": "5bf0a8c7-846b-4fce-ac40-ce637c3d8561",
                "language": "sql"
            },
            "outputs": [],
            "execution_count": null
        },
        {
            "cell_type": "markdown",
            "source": [
                "**Fall 4 – `COUNT(DISTINCT col1, col2)` nicht unterstützt**\n",
                "*Fragestellung:* Wie zähle ich eindeutige Paare?"
            ],
            "metadata": {
                "azdata_cell_guid": "4d426f01-07ea-4e2e-b7a3-599ee7a2d1e6"
            }
        },
        {
            "cell_type": "code",
            "source": [
                "USE [BITest];\n",
                "-- Fehlerhaft:\n",
                "-- SELECT COUNT(DISTINCT Region, Category) FROM dbo.SalesOrders;"
            ],
            "metadata": {
                "azdata_cell_guid": "c3073fde-0007-46d2-9b2d-5cab5dfce932",
                "language": "sql"
            },
            "outputs": [],
            "execution_count": null
        },
        {
            "cell_type": "code",
            "source": [
                "USE [BITest];\n",
                "-- Korrekt: Subquery oder GROUP BY\n",
                "SELECT COUNT(*) AS DistinctPairs\n",
                "FROM (SELECT DISTINCT Region, Category FROM dbo.SalesOrders) d;"
            ],
            "metadata": {
                "azdata_cell_guid": "0752b2ed-30da-4417-bcba-6244a6df5fcf",
                "language": "sql"
            },
            "outputs": [],
            "execution_count": null
        },
        {
            "cell_type": "markdown",
            "source": [
                "**Fall 5 – Unerwartete Sortierung bei Totals**\n",
                "*Fragestellung:* Warum stehen Totals mittendrin? (Sortierung nach `GROUPING_ID`)."
            ],
            "metadata": {
                "azdata_cell_guid": "3c95a878-11a1-49a4-92d5-d11f4d956fce"
            }
        },
        {
            "cell_type": "code",
            "source": [
                "USE [BITest];\n",
                "-- Heikel: ORDER BY Region, Category (Totals mischen sich)\n",
                "SELECT Region, Category, SUM(Quantity) AS Qty, GROUPING_ID(Region,Category) AS GID\n",
                "FROM dbo.SalesOrders\n",
                "GROUP BY ROLLUP (Region, Category)\n",
                "ORDER BY Region, Category;\n",
                "\n",
                "-- Besser: Totals am Ende\n",
                "SELECT Region, Category, SUM(Quantity) AS Qty, GROUPING_ID(Region,Category) AS GID\n",
                "FROM dbo.SalesOrders\n",
                "GROUP BY ROLLUP (Region, Category)\n",
                "ORDER BY GID, Region, Category;"
            ],
            "metadata": {
                "azdata_cell_guid": "74167d8a-77d1-4cde-a874-5a67b9525684",
                "language": "sql"
            },
            "outputs": [],
            "execution_count": null
        },
        {
            "cell_type": "markdown",
            "source": [
                "**Fall 6 – JOIN‑Duplikate verfälschen Summen**\n",
                "*Fragestellung:* 1:n‑JOIN verdoppelt Mengen – wie vermeiden?"
            ],
            "metadata": {
                "azdata_cell_guid": "8e347115-e0bb-4181-ab9c-284e0ec87950"
            }
        },
        {
            "cell_type": "code",
            "source": [
                "USE [BITest];\n",
                "-- Pattern (zweite Tabelle hypothetisch): voraggregieren oder Semi‑Join\n",
                "-- SELECT r.Region, SUM(o.Amount)\n",
                "-- FROM dbo.Regions r\n",
                "-- JOIN dbo.Orders o ON o.RegionID = r.RegionID\n",
                "-- GROUP BY r.Region;\n",
                "-- Besser: Voraggregation von o **oder** EXISTS (Semi‑Join)"
            ],
            "metadata": {
                "azdata_cell_guid": "b5546a8b-bcb5-4d96-b0ab-4d5ca93feb8d",
                "language": "sql"
            },
            "outputs": [],
            "execution_count": null
        },
        {
            "cell_type": "markdown",
            "source": [
                "## Best Practices & Performance\n",
                "- Für Berichte: `GROUPING SETS` gezielt auf benötigte Ebenen beschränken – spart Arbeit ggü. `CUBE`.\n",
                "- `ROLLUP` für hierarchische Summen (Detail → Subtotal → Grand Total) in **definierter Reihenfolge**.\n",
                "- `GROUPING()`/`GROUPING_ID()` nutzen, um echte `NULL` von Total‑Zeilen sicher zu unterscheiden.\n",
                "- Totals konsistent sortieren (`ORDER BY GROUPING_ID(...), ...`).\n",
                "- Indizes auf Gruppier‑/Filterspalten fördern `Stream Aggregate`; sonst Hash‑Aggregate + Sort.\n",
                "- Für Zählungen über Paare `COUNT(*)` über `SELECT DISTINCT` Subquery verwenden.\n",
                "- Messbar machen: `STATISTICS IO/TIME`, Ausführungsplan prüfen (Sort/Memory‑Grant/Spills)."
            ],
            "metadata": {
                "azdata_cell_guid": "d79e21da-3d77-4c8d-a37d-6073aee7357e"
            }
        },
        {
            "cell_type": "markdown",
            "source": [
                "## Übungen\n",
                "1. Bilden Sie eine `ROLLUP`‑Auswertung über `(Region, Category)` mit Umsatz (`Revenue`) und sortieren Sie Totals ans Ende.\n",
                "2. Erzeugen Sie eine `GROUPING SETS`‑Auswertung für **(Region)**, **(Category)** und **()** mit `GROUPING_ID`.\n",
                "3. Nutzen Sie `CUBE (Region, Category)` und filtern Sie per `HAVING` nur Ebenen mit `SUM(Quantity) >= 10`.\n",
                "4. Ersetzen Sie `NULL`‑Kategorien in einer `ROLLUP`‑Abfrage **korrekt** durch Labels mittels `GROUPING()`.\n",
                "5. Ermitteln Sie die Anzahl **einzigartiger (Region, Category)**‑Paare (ohne `COUNT(DISTINCT col1,col2)`)."
            ],
            "metadata": {
                "azdata_cell_guid": "98913f1b-8d51-4eff-a825-24a199b60062"
            }
        },
        {
            "cell_type": "code",
            "source": [
                "-- Lösung zu Frage 1: ROLLUP mit Revenue, Totals am Ende\n",
                "USE [BITest];\n",
                "SELECT Region, Category,\n",
                "       SUM(Quantity*UnitPrice*(1-COALESCE(Discount,0))) AS Revenue,\n",
                "       GROUPING_ID(Region,Category) AS GID\n",
                "FROM dbo.SalesOrders\n",
                "GROUP BY ROLLUP (Region, Category)\n",
                "ORDER BY GID, Region, Category;"
            ],
            "metadata": {
                "azdata_cell_guid": "8ed8b660-728b-4751-9bb5-7b3618d79c2e",
                "language": "sql"
            },
            "outputs": [],
            "execution_count": null
        },
        {
            "cell_type": "code",
            "source": [
                "-- Lösung zu Frage 2: GROUPING SETS (Region), (Category), ()\n",
                "USE [BITest];\n",
                "SELECT Region, Category,\n",
                "       SUM(Quantity) AS Qty, GROUPING_ID(Region,Category) AS GID\n",
                "FROM dbo.SalesOrders\n",
                "GROUP BY GROUPING SETS ((Region), (Category), ())\n",
                "ORDER BY GID, Region, Category;"
            ],
            "metadata": {
                "azdata_cell_guid": "ab6f05a0-d6c6-4753-bbc1-81b862476442",
                "language": "sql"
            },
            "outputs": [],
            "execution_count": null
        },
        {
            "cell_type": "code",
            "source": [
                "-- Lösung zu Frage 3: CUBE + HAVING\n",
                "USE [BITest];\n",
                "SELECT Region, Category, SUM(Quantity) AS Qty, GROUPING_ID(Region,Category) AS GID\n",
                "FROM dbo.SalesOrders\n",
                "GROUP BY CUBE (Region, Category)\n",
                "HAVING SUM(Quantity) >= 10\n",
                "ORDER BY GID, Region, Category;"
            ],
            "metadata": {
                "azdata_cell_guid": "262b8c8d-3e02-4fba-ad1c-84f08b82edcb",
                "language": "sql"
            },
            "outputs": [],
            "execution_count": null
        },
        {
            "cell_type": "code",
            "source": [
                "-- Lösung zu Frage 4: Korrekte Label via GROUPING()\n",
                "USE [BITest];\n",
                "SELECT CASE WHEN GROUPING(Region)=1 THEN N'Alle Regionen' ELSE Region END AS RegionLabel,\n",
                "       CASE WHEN GROUPING(Category)=1 THEN N'Alle Kategorien' ELSE Category END AS CategoryLabel,\n",
                "       SUM(Quantity) AS Qty\n",
                "FROM dbo.SalesOrders\n",
                "GROUP BY ROLLUP (Region, Category)\n",
                "ORDER BY GROUPING_ID(Region,Category), Region, Category;"
            ],
            "metadata": {
                "azdata_cell_guid": "bea21358-1ab4-4617-ac84-5dcc0079c145",
                "language": "sql"
            },
            "outputs": [],
            "execution_count": null
        },
        {
            "cell_type": "code",
            "source": [
                "-- Lösung zu Frage 5: Einzigartige (Region, Category)\n",
                "USE [BITest];\n",
                "SELECT COUNT(*) AS DistinctPairs\n",
                "FROM (SELECT DISTINCT Region, Category FROM dbo.SalesOrders) d;"
            ],
            "metadata": {
                "azdata_cell_guid": "0b7a3e1e-8cc0-4479-9464-74b991c1f527",
                "language": "sql"
            },
            "outputs": [],
            "execution_count": null
        },
        {
            "cell_type": "markdown",
            "source": [
                "## Querverweise\n",
                "- Querverweis: 05_Funktionen\\Aggregatfunktionen & Textaggregation (`SUM` — > **Kurzbeschreibung:** …\n",
                "- Querverweis: 02_Select\\Aggregation mit `GROUP BY` & `HAVING` — > **Kurzbeschreibung:** …\n",
                "- Querverweis: 02_Select\\Fensterfunktionen (`OVER`): Ranking — > **Kurzbeschreibung:** …\n",
                "- Querverweis: 02_Select\\`DISTINCT` vs. `GROUP BY` zum Dedupen — > **Kurzbeschreibung:** …\n",
                "- Querverweis: 02_Select\\Ausgabe als JSON/XML: `FOR JSON` / `FOR XML` — > **Kurzbeschreibung:** …"
            ],
            "metadata": {
                "azdata_cell_guid": "4f4bac98-8d93-408b-9df8-54b8dca53c68"
            }
        },
        {
            "cell_type": "code",
            "source": [
                "USE [master];\n",
                "IF DB_ID(N'BITest') IS NOT NULL\n",
                "BEGIN\n",
                "    ALTER DATABASE BITest SET SINGLE_USER WITH ROLLBACK IMMEDIATE;\n",
                "    DROP DATABASE BITest;\n",
                "END;"
            ],
            "metadata": {
                "azdata_cell_guid": "57ebac3c-7c63-4ce0-a91c-00fdfee85437",
                "language": "sql"
            },
            "outputs": [],
            "execution_count": null
        }
    ]
}