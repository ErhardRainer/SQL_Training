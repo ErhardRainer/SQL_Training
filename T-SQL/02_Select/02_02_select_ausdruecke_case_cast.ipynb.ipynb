BEGIN_IPYNB_JSON
{
  "nbformat": 4,
  "nbformat_minor": 5,
  "metadata": {
    "kernelspec": {
      "name": "SQL",
      "display_name": "SQL",
      "language": "sql"
    },
    "language_info": {
      "name": "sql"
    },
    "title": "T-SQL SELECT – Ausdrücke, CASE, CAST/CONVERT, ISNULL/COALESCE"
  },
  "cells": [
    {
      "cell_type": "markdown",
      "metadata": {},
      "source": "# T-SQL SELECT – Ausdrücke, CASE, CAST/CONVERT, ISNULL/COALESCE\n\n**Themengebiet:** SELECT\n\n**Kapitel:** Ausdrücke, CASE, CAST/CONVERT, ISNULL/COALESCE\n\n**Kurzbeschreibung:** Werte berechnen, bedingt ableiten und sauber typisieren; Fallstricke mit FORMAT() vermeiden.\n\n**Stand:** 6. September 2025"
    },
    {
      "cell_type": "markdown",
      "metadata": {},
      "source": "Dieses Notebook zeigt, wie in T‑SQL Ausdrücke aufgebaut werden, wie Sie mit `CASE` bedingt Werte ableiten, mit `CAST`/`CONVERT`/`TRY_CONVERT` sauber typisieren und mit `ISNULL`/`COALESCE` Nullwerte behandeln. Außerdem beleuchten wir die Risiken von `FORMAT()` (Performance, Sortierung, SARGability) und stellen bessere Alternativen vor.\n\n**Typische Fragestellungen:**\n- Wie berechne ich neue Spalten (z. B. Umsatz = Menge × Preis) und kontrolliere dabei Datentypen?\n- Wann nehme ich `CASE` (simple vs. searched) und worauf muss ich achten?\n- Was ist der Unterschied zwischen `ISNULL` und `COALESCE` – insbesondere beim Rückgabetyp?\n- Wie formatiere ich Datum/Zahl in Text, ohne mir Indizes/Sortierung kaputt zu machen?\n- Wie verhindere ich unerwünschte implizite Konvertierungen und Genauigkeitsverluste?"
    },
    {
      "cell_type": "markdown",
      "metadata": {},
      "source": "**Inhalt dieses Notebooks ist:**\n\n- Setup & Demo‑Daten\n- Logische Auswertungsreihenfolge (SELECT)\n- Arithmetische & Zeichenketten‑Ausdrücke\n- `CASE` – einfache vs. bedingte Form\n- Nullbehandlung mit `ISNULL` vs. `COALESCE`\n- Typisierung mit `CAST`/`CONVERT`/`TRY_CONVERT`\n- Datum/Zahl formatiert ausgeben – Alternativen zu `FORMAT()`\n- WHERE vs. SELECT‑Ausdruck (Auswertungsreihenfolge)\n- Window‑Funktionen als Alternative zu `CASE` in Ausdrücken\n- Query Optimizer/Analyzer & Ausführungsplan (Compute Scalar & implizite Konvertierungen)\n- Typische Fallstricke\n- Best Practices & Performance\n- Übungen\n- Lösungen\n- Querverweise\n- Cleanup (optional)"
    },
    {
      "cell_type": "markdown",
      "metadata": {},
      "source": "Hinweis: Dieses Notebook nutzt einen **SQL‑Kernel**. **Alle Codezellen enthalten T‑SQL** (SQL Server)."
    },
    {
      "cell_type": "markdown",
      "metadata": {},
      "source": "## Setup & Demo‑Daten\n\nWir verwenden eine Beispiel‑Datenbank **BITest** und eine durchgängige Tabelle **dbo.SalesOrders**.\nDie Daten enthalten gezielt `NULL`‑Werte und unterschiedliche Datentypen für Demonstrationen."
    },
    {
      "cell_type": "code",
      "metadata": {},
      "source": "IF DB_ID(N'BITest') IS NULL\nBEGIN\n    CREATE DATABASE BITest;\nEND;\nGO\nUSE [BITest];\nGO\nIF OBJECT_ID(N'dbo.SalesOrders','U') IS NOT NULL DROP TABLE dbo.SalesOrders;\nCREATE TABLE dbo.SalesOrders\n(\n    SalesOrderID int IDENTITY(1,1) PRIMARY KEY,\n    OrderDate     date      NOT NULL,\n    ShipDate      date      NULL,\n    Region        nvarchar(20) NOT NULL,\n    Category      nvarchar(20) NULL,\n    CustomerID    int       NOT NULL,\n    Quantity      int       NOT NULL,\n    UnitPrice     decimal(10,2) NOT NULL,\n    Discount      decimal(4,2)  NULL,\n    CurrencyCode  char(3)   NOT NULL CONSTRAINT DF_SalesOrders_Currency DEFAULT('EUR'),\n    Notes         nvarchar(100) NULL\n);\nINSERT INTO dbo.SalesOrders (OrderDate,ShipDate,Region,Category,CustomerID,Quantity,UnitPrice,Discount,CurrencyCode,Notes)\nVALUES\n('2025-01-05','2025-01-08',N'West', N'Hardware', 101, 3,  19.99, 0.10,'EUR', NULL),\n('2025-01-05',NULL,        N'West', N'Hardware', 102, 1, 199.00, NULL,'EUR', N'Express?'),\n('2025-02-14','2025-02-16',N'Nord', N'Software', 103, 5,  49.50, 0.00,'EUR', N'Valentins‑Promo'),\n('2025-03-01','2025-03-04',N'Sued', NULL,        104, 2, 999.90, 0.15,'USD', N'Auslandsdeal'),\n('2025-03-18','2025-03-20',N'Ost',  N'Hardware', 105, 10,  5.00, 0.05,'EUR', N'Bulk'),\n('2025-04-02',NULL,        N'West', N'Software', 106, 0,  49.50, NULL,'EUR', N'Gratis‑Upgrade'),\n('2025-05-20','2025-05-21',N'Nord', N'Hardware', 107, 7,  12.30, NULL,'EUR', NULL)\n;\n",
      "execution_count": null,
      "outputs": []
    },
    {
      "cell_type": "markdown",
      "metadata": {},
      "source": "### Daten sichten"
    },
    {
      "cell_type": "code",
      "metadata": {},
      "source": "USE [BITest];\nSELECT TOP (10) * FROM dbo.SalesOrders ORDER BY SalesOrderID;",
      "execution_count": null,
      "outputs": []
    },
    {
      "cell_type": "markdown",
      "metadata": {},
      "source": "## Logische Auswertungsreihenfolge\nDie logische Verarbeitungsreihenfolge erinnert daran, **wo** Ausdrücke wirken:\n\n1. FROM / JOIN\n2. WHERE (Filter auf *Zeilenebene* – hier dürfen keine Alias aus SELECT verwendet werden)\n3. GROUP BY\n4. HAVING\n5. SELECT (Spaltenausdrücke; Alias definiert)\n6. ORDER BY\n\nHäufige Folge: Ein Ausdruck, der in `SELECT` definiert ist, steht in `WHERE` **noch nicht** zur Verfügung."
    },
    {
      "cell_type": "markdown",
      "metadata": {},
      "source": "## Arithmetische & Zeichenketten‑Ausdrücke"
    },
    {
      "cell_type": "markdown",
      "metadata": {},
      "source": "*Fragestellung:* Wie berechne ich Umsatz und erzeugte Texte sicher – inkl. NULL‑Behandlung?"
    },
    {
      "cell_type": "code",
      "metadata": {},
      "source": "USE [BITest];\n-- Umsatz = Menge * Preis * (1 - COALESCE(Discount,0))\nSELECT\n  SalesOrderID,\n  Quantity,\n  UnitPrice,\n  Discount,\n  CAST(Quantity * UnitPrice * (1 - COALESCE(Discount,0)) AS decimal(12,2)) AS Revenue,\n  CONCAT(N'Kunde ', CustomerID, N' in ', Region, N' | ', FORMAT(OrderDate,'yyyy-MM-dd')) AS InfoText\nFROM dbo.SalesOrders;",
      "execution_count": null,
      "outputs": []
    },
    {
      "cell_type": "markdown",
      "metadata": {},
      "source": "## `CASE` – einfache vs. bedingte Form"
    },
    {
      "cell_type": "markdown",
      "metadata": {},
      "source": "*Fragestellung:* Wie klassifiziere ich Aufträge nach Status/Kategorie?"
    },
    {
      "cell_type": "code",
      "metadata": {},
      "source": "USE [BITest];\nSELECT SalesOrderID, Category, ShipDate, OrderDate,\n  -- Simple CASE (exakte Gleichheit)\n  CASE Category\n    WHEN N'Hardware' THEN N'HW'\n    WHEN N'Software' THEN N'SW'\n    ELSE N'Unbekannt'\n  END AS CategoryCode,\n  -- Searched CASE (beliebige Bedingungen)\n  CASE\n    WHEN ShipDate IS NULL THEN N'Offen'\n    WHEN DATEDIFF(day, OrderDate, ShipDate) <= 2 THEN N'Schnell geliefert'\n    ELSE N'Normal geliefert'\n  END AS DeliveryStatus\nFROM dbo.SalesOrders;",
      "execution_count": null,
      "outputs": []
    },
    {
      "cell_type": "markdown",
      "metadata": {},
      "source": "## Nullbehandlung mit `ISNULL` vs. `COALESCE`"
    },
    {
      "cell_type": "markdown",
      "metadata": {},
      "source": "*Fragestellung:* Welchen Typ liefert die Funktion – und hat das Auswirkungen auf Genauigkeit/Länge?"
    },
    {
      "cell_type": "code",
      "metadata": {},
      "source": "USE [BITest];\n-- Unterschiedlicher Rückgabetyp: ISNULL nimmt Typ des 1. Arguments; COALESCE folgt Typpräzedenz\nSELECT\n  SalesOrderID,\n  -- Decimal vs. int: hier kann ISNULL runden, COALESCE behält Skala\n  ISNULL(Discount, 0)     AS Discount_ISNULL,\n  COALESCE(Discount, 0.0) AS Discount_COALESCE,\n  -- Länge mit Strings\n  LEN(ISNULL(CAST(NULL AS varchar(5)), 'fallback'))     AS Len_ISNULL,\n  LEN(COALESCE(CAST(NULL AS varchar(5)), CAST('fallback' AS varchar(50)))) AS Len_COALESCE\nFROM dbo.SalesOrders;",
      "execution_count": null,
      "outputs": []
    },
    {
      "cell_type": "markdown",
      "metadata": {},
      "source": "## Typisierung mit `CAST`/`CONVERT`/`TRY_CONVERT`"
    },
    {
      "cell_type": "markdown",
      "metadata": {},
      "source": "*Fragestellung:* Wie stelle ich robust sicher, dass Ausdrücke den gewünschten Datentyp haben – inkl. Fehlerbehandlung?"
    },
    {
      "cell_type": "code",
      "metadata": {},
      "source": "USE [BITest];\nSELECT SalesOrderID,\n  CAST(UnitPrice AS money)                 AS UnitPrice_money,\n  CONVERT(varchar(10), OrderDate, 23)      AS OrderDate_yyyy_mm_dd,\n  TRY_CONVERT(int, Notes)                  AS Notes_as_int_or_null,\n  TRY_CONVERT(decimal(10,2), Discount*100) AS DiscountPct\nFROM dbo.SalesOrders;",
      "execution_count": null,
      "outputs": []
    },
    {
      "cell_type": "markdown",
      "metadata": {},
      "source": "## Datum/Zahl formatiert ausgeben – Alternativen zu `FORMAT()`"
    },
    {
      "cell_type": "markdown",
      "metadata": {},
      "source": "*Fragestellung:* Wie erzeuge ich `yyyy-MM` bzw. lokalisierte Texte ohne teures CLR‑`FORMAT()`?"
    },
    {
      "cell_type": "code",
      "metadata": {},
      "source": "USE [BITest];\nSELECT SalesOrderID, OrderDate,\n  -- ISO‑Datum (YYYY‑MM‑DD)\n  CONVERT(char(10), OrderDate, 23)               AS ISO_Date,\n  -- YYYY‑MM (ohne FORMAT): sicher über YEAR/MONTH zusammensetzen\n  CONCAT(YEAR(OrderDate), '-', RIGHT('0'+CAST(MONTH(OrderDate) AS varchar(2)),2)) AS YYYY_MM,\n  -- Währungsstring kontrolliert zusammenbauen\n  CONCAT(CurrencyCode, ' ', CAST(UnitPrice AS varchar(20))) AS PriceText\nFROM dbo.SalesOrders;",
      "execution_count": null,
      "outputs": []
    },
    {
      "cell_type": "markdown",
      "metadata": {},
      "source": "## WHERE vs. SELECT‑Ausdruck (Auswertungsreihenfolge)"
    },
    {
      "cell_type": "markdown",
      "metadata": {},
      "source": "*Fragestellung:* Warum kann ich einen in SELECT definierten Alias nicht in WHERE verwenden – und wie löse ich das?"
    },
    {
      "cell_type": "code",
      "metadata": {},
      "source": "USE [BITest];\nWITH S AS (\n  SELECT SalesOrderID,\n         Quantity * UnitPrice AS Gross\n  FROM dbo.SalesOrders\n)\nSELECT * FROM S WHERE Gross > 100;",
      "execution_count": null,
      "outputs": []
    },
    {
      "cell_type": "markdown",
      "metadata": {},
      "source": "## Window‑Funktionen vs. `CASE` in Ausdrücken"
    },
    {
      "cell_type": "markdown",
      "metadata": {},
      "source": "*Fragestellung:* Wie berechne ich laufende Summen/Anteile ohne zusätzliche Aggregationsabfragen?"
    },
    {
      "cell_type": "code",
      "metadata": {},
      "source": "USE [BITest];\nSELECT SalesOrderID, Region,\n  CAST(Quantity * UnitPrice * (1 - COALESCE(Discount,0)) AS decimal(12,2)) AS Revenue,\n  SUM(CAST(Quantity * UnitPrice * (1 - COALESCE(Discount,0)) AS decimal(12,2)))\n    OVER (PARTITION BY Region ORDER BY SalesOrderID ROWS UNBOUNDED PRECEDING) AS RunningRevenue_Region\nFROM dbo.SalesOrders\nORDER BY Region, SalesOrderID;",
      "execution_count": null,
      "outputs": []
    },
    {
      "cell_type": "markdown",
      "metadata": {},
      "source": "## Implizite Konvertierungen & SARGability"
    },
    {
      "cell_type": "markdown",
      "metadata": {},
      "source": "*Fragestellung:* Wie vermeide ich Index‑Verhinderer durch Typmischungen in Ausdrücken?"
    },
    {
      "cell_type": "code",
      "metadata": {},
      "source": "USE [BITest];\n-- Beispiel: Vergleich Zahl mit Text verursacht implizite Konvertierung\nDECLARE @minRevenue decimal(12,2) = 100.00;\nSELECT SalesOrderID, Quantity, UnitPrice\nFROM dbo.SalesOrders\nWHERE CAST(Quantity * UnitPrice AS decimal(12,2)) >= @minRevenue;",
      "execution_count": null,
      "outputs": []
    },
    {
      "cell_type": "markdown",
      "metadata": {},
      "source": "## Query Optimizer/Analyzer & Ausführungsplan\nBei Ausdrücken erscheinen häufig **Compute Scalar**‑Operatoren. Implizite Konvertierungen können zu **Index Scans** führen.\n\n**Pipeline (vereinfacht):** Parsing → Binder → Optimizer → Plan‑Cache → Executor\n\n**Typische Operatoren:** Compute Scalar, Filter, Hash Match, Stream Aggregate, Sort, Parallelism, Memory Grants, Cardinality Estimator (CE)\n\n**Erwartete Pläne (sprachlich):**\n- Berechnete Spalten erzeugen `Compute Scalar`.\n- `TRY_CONVERT` kann Filter weniger selektiv machen (liefert `NULL` statt Fehler), ggf. separate Validierungsschritte einplanen.\n- String‑Formatierung in `SELECT` beeinflusst Filter nicht, aber kann CPU kosten (`FORMAT()`).\n\n**Snippets (nicht ausführen):**\n```sql\nSET SHOWPLAN_XML ON;  -- Plan nur anzeigen\nSELECT ...;            \nSET SHOWPLAN_XML OFF;\n\nSET STATISTICS IO, TIME, XML ON;  -- Messwerte\nSELECT ...;\nSET STATISTICS IO, TIME, XML OFF;\n```"
    },
    {
      "cell_type": "code",
      "metadata": {},
      "source": "USE [BITest];\n-- Beispielabfrage mit Compute Scalar & TRY_CONVERT\nSELECT SalesOrderID,\n       TRY_CONVERT(decimal(12,2), Quantity * UnitPrice) AS Revenue\nFROM dbo.SalesOrders\nWHERE COALESCE(Discount,0) <= 0.1;",
      "execution_count": null,
      "outputs": []
    },
    {
      "cell_type": "markdown",
      "metadata": {},
      "source": "## Typische Fallstricke"
    },
    {
      "cell_type": "markdown",
      "metadata": {},
      "source": "**Fall 1 – `FORMAT()` ist bequem, aber teuer**\n*Fragestellung:* Wie erzeuge ich `yyyy-MM` performant?"
    },
    {
      "cell_type": "code",
      "metadata": {},
      "source": "USE [BITest];\n-- Falsch / ungünstig (CLR‑basiert, nicht SARGable)\nSELECT SalesOrderID, FORMAT(OrderDate,'yyyy-MM') AS yyyy_mm\nFROM dbo.SalesOrders;",
      "execution_count": null,
      "outputs": []
    },
    {
      "cell_type": "code",
      "metadata": {},
      "source": "USE [BITest];\n-- Korrekt / besser: ohne FORMAT()\nSELECT SalesOrderID,\n       CONCAT(YEAR(OrderDate), '-', RIGHT('0'+CAST(MONTH(OrderDate) AS varchar(2)),2)) AS yyyy_mm\nFROM dbo.SalesOrders;",
      "execution_count": null,
      "outputs": []
    },
    {
      "cell_type": "markdown",
      "metadata": {},
      "source": "**Fall 2 – `ISNULL` übernimmt den Typ des ersten Arguments**\n*Fragestellung:* Warum wird `Discount` gerundet?"
    },
    {
      "cell_type": "code",
      "metadata": {},
      "source": "USE [BITest];\n-- Fehlerhaft: 0 ist int → Ergebnis int (0/1)\nSELECT SalesOrderID, ISNULL(Discount, 0) AS Discount_ISNULL\nFROM dbo.SalesOrders;",
      "execution_count": null,
      "outputs": []
    },
    {
      "cell_type": "code",
      "metadata": {},
      "source": "USE [BITest];\n-- Korrektur: Dezimalliteral verwenden oder COALESCE mit 0.0\nSELECT SalesOrderID, COALESCE(Discount, 0.0) AS Discount_OK\nFROM dbo.SalesOrders;",
      "execution_count": null,
      "outputs": []
    },
    {
      "cell_type": "markdown",
      "metadata": {},
      "source": "**Fall 3 – Integer‑Division**\n*Fragestellung:* Warum ist der Anteil 0 statt 0,15?"
    },
    {
      "cell_type": "code",
      "metadata": {},
      "source": "USE [BITest];\n-- Fehlerhaft: beide Operanden int → ganzzahlige Division\nSELECT 3/20 AS Anteil;",
      "execution_count": null,
      "outputs": []
    },
    {
      "cell_type": "code",
      "metadata": {},
      "source": "USE [BITest];\n-- Korrektur: Typ heben\nSELECT 3.0/20 AS Anteil;",
      "execution_count": null,
      "outputs": []
    },
    {
      "cell_type": "markdown",
      "metadata": {},
      "source": "**Fall 4 – Alias in `WHERE`**\n*Fragestellung:* Warum ist der Alias `Revenue` in `WHERE` unbekannt?"
    },
    {
      "cell_type": "code",
      "metadata": {},
      "source": "USE [BITest];\n-- Fehlerhaft: Alias in WHERE nicht sichtbar\nSELECT Quantity * UnitPrice AS Revenue\nFROM dbo.SalesOrders\nWHERE Revenue > 100;",
      "execution_count": null,
      "outputs": []
    },
    {
      "cell_type": "code",
      "metadata": {},
      "source": "USE [BITest];\n-- Korrektur: CTE/Derived Table oder Ausdruck wiederholen\nWITH S AS (\n  SELECT Quantity * UnitPrice AS Revenue\n  FROM dbo.SalesOrders\n)\nSELECT * FROM S WHERE Revenue > 100;",
      "execution_count": null,
      "outputs": []
    },
    {
      "cell_type": "markdown",
      "metadata": {},
      "source": "**Fall 5 – Implizite Konvertierung verhindert SARGability**\n*Fragestellung:* Warum nutzt der Plan keinen Index mehr?"
    },
    {
      "cell_type": "code",
      "metadata": {},
      "source": "USE [BITest];\n-- Fehlerhaftes Pattern\nDECLARE @d nvarchar(10) = CONVERT(nvarchar(10), '2025-03-01');\nSELECT * FROM dbo.SalesOrders WHERE OrderDate = @d;  -- implizite Konvertierung\n",
      "execution_count": null,
      "outputs": []
    },
    {
      "cell_type": "code",
      "metadata": {},
      "source": "USE [BITest];\n-- Korrektur: passender Typ\nDECLARE @d date = '2025-03-01';\nSELECT * FROM dbo.SalesOrders WHERE OrderDate = @d;",
      "execution_count": null,
      "outputs": []
    },
    {
      "cell_type": "markdown",
      "metadata": {},
      "source": "## Best Practices & Performance\n- Typisierung **explizit** mit `CAST`/`CONVERT`/`TRY_CONVERT` – keine stillen impliziten Konvertierungen.\n- `COALESCE` bevorzugen, wenn Typpräzedenz gewünscht ist; bei `ISNULL` den **ersten Operand** sorgfältig wählen.\n- `FORMAT()` nur für **kleine Ergebnis‑Mengen** verwenden; für Berichte/API i. d. R. Strings **außerhalb** der Datenbank bauen.\n- In Filtern keine berechneten Ausdrücke über Spalten → besser in `WHERE` mit Parameter passender Typen arbeiten.\n- Datumsstrings vermeiden – Date/Time‑Typen nutzen.\n- Für reproduzierbare Ausgabeformate ISO‑Stile (`CONVERT(..., 23)` etc.) oder zusammengesetzte Strings verwenden."
    },
    {
      "cell_type": "markdown",
      "metadata": {},
      "source": "## Übungen\n1. Ermitteln Sie `Revenue` je Zeile als `decimal(12,2)` und klassifizieren Sie die Zeilen in `High` (≥ 200) bzw. `Low`.\n2. Geben Sie `OrderDate` als `yyyy-MM` aus **ohne** `FORMAT()`.\n3. Ersetzen Sie `NULL` in `Discount` sinnvoll und zeigen Sie den Unterschied zwischen `ISNULL` und `COALESCE`.\n4. Bilden Sie eine laufende Summe `RunningRevenue` pro Region.\n5. Filtern Sie alle Zeilen mit `OrderDate` = 2025‑03‑01 **ohne** implizite Konvertierung."
    },
    {
      "cell_type": "code",
      "metadata": {},
      "source": "-- Lösung zu Frage 1: Revenue & Klassifikation\nUSE [BITest];\nSELECT SalesOrderID,\n       CAST(Quantity*UnitPrice*(1-COALESCE(Discount,0)) AS decimal(12,2)) AS Revenue,\n       CASE WHEN CAST(Quantity*UnitPrice*(1-COALESCE(Discount,0)) AS decimal(12,2)) >= 200 THEN 'High' ELSE 'Low' END AS Class\nFROM dbo.SalesOrders;",
      "execution_count": null,
      "outputs": []
    },
    {
      "cell_type": "code",
      "metadata": {},
      "source": "-- Lösung zu Frage 2: yyyy-MM ohne FORMAT()\nUSE [BITest];\nSELECT SalesOrderID,\n       CONCAT(YEAR(OrderDate), '-', RIGHT('0'+CAST(MONTH(OrderDate) AS varchar(2)),2)) AS yyyy_mm\nFROM dbo.SalesOrders;",
      "execution_count": null,
      "outputs": []
    },
    {
      "cell_type": "code",
      "metadata": {},
      "source": "-- Lösung zu Frage 3: ISNULL vs COALESCE\nUSE [BITest];\nSELECT SalesOrderID,\n       ISNULL(Discount, 0.0)     AS Discount_ISNULL,\n       COALESCE(Discount, 0.0)   AS Discount_COALESCE\nFROM dbo.SalesOrders;",
      "execution_count": null,
      "outputs": []
    },
    {
      "cell_type": "code",
      "metadata": {},
      "source": "-- Lösung zu Frage 4: RunningRevenue pro Region\nUSE [BITest];\nSELECT SalesOrderID, Region,\n       CAST(Quantity*UnitPrice*(1-COALESCE(Discount,0)) AS decimal(12,2)) AS Revenue,\n       SUM(CAST(Quantity*UnitPrice*(1-COALESCE(Discount,0)) AS decimal(12,2)))\n         OVER (PARTITION BY Region ORDER BY SalesOrderID ROWS UNBOUNDED PRECEDING) AS RunningRevenue\nFROM dbo.SalesOrders\nORDER BY Region, SalesOrderID;",
      "execution_count": null,
      "outputs": []
    },
    {
      "cell_type": "code",
      "metadata": {},
      "source": "-- Lösung zu Frage 5: Datum korrekt typisiert filtern\nUSE [BITest];\nDECLARE @d date = '2025-03-01';\nSELECT * FROM dbo.SalesOrders WHERE OrderDate = @d;",
      "execution_count": null,
      "outputs": []
    },
    {
      "cell_type": "markdown",
      "metadata": {},
      "source": "## Querverweise\n\n- Querverweis: 05_Funktionen\\Bedingte & NULL-Handling (`CASE`... Kontrollfluss in Ausdrücken, Standardwerte, Division-durch-Nu')"
    },
    {
      "cell_type": "code",
      "metadata": {},
      "source": "USE [master];\nIF DB_ID(N'BITest') IS NOT NULL\nBEGIN\n    ALTER DATABASE BITest SET SINGLE_USER WITH ROLLBACK IMMEDIATE;\n    DROP DATABASE BITest;\nEND;",
      "execution_count": null,
      "outputs": []
    }
  ]
}
END_IPYNB_JSON

