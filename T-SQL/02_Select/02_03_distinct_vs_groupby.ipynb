{
    "metadata": {
        "kernelspec": {
            "name": "SQL",
            "display_name": "SQL",
            "language": "sql"
        },
        "language_info": {
            "name": "sql",
            "version": ""
        }
    },
    "nbformat_minor": 2,
    "nbformat": 4,
    "cells": [
        {
            "cell_type": "markdown",
            "source": [
                "# T-SQL SELECT – DISTINCT vs. GROUP BY zum Dedupen\n",
                "\n",
                "**Themengebiet:** SELECT\n",
                "\n",
                "**Kapitel:** DISTINCT vs. GROUP BY zum Dedupen\n",
                "\n",
                "**Kurzbeschreibung:** Wann DISTINCT genügt und wann Aggregation sinnvoller ist; Einfluss auf Pläne & Performance.\n",
                "\n",
                "**Stand:** 6. September 2025"
            ],
            "metadata": {
                "azdata_cell_guid": "d38c8d42-05b5-4525-a69a-c24df4673f20"
            }
        },
        {
            "cell_type": "markdown",
            "source": [
                "Dieses Notebook zeigt, wie man Duplikate in T‑SQL entfernt und eindeutige Zeilen/Schlüssel ermittelt – wann `SELECT DISTINCT` genügt und wann `GROUP BY` mit/ohne Aggregaten vorzuziehen ist. Wir vergleichen zu erwartende Ausführungspläne (z. B. **Hash Match (Aggregate)** vs. **Stream Aggregate**) und beleuchten Performance‑Implikationen.\n",
                "\n",
                "**Typische Fragestellungen:**\n",
                "- Ich brauche eine Liste **einzigartiger** Werte/Kombinationen – `DISTINCT` oder `GROUP BY`?\n",
                "- Ich will **gleichzeitig zählen/summieren** – wie kombiniere ich Deduplizierung mit Aggregaten?\n",
                "- Warum erzeugen **JOINs** plötzlich mehr Zeilen, und wie verhindere ich Vervielfachungen?\n",
                "- Wie wirkt sich die Wahl auf **Sortierung, Parallelität, Speicher** und Plan‑Operatoren aus?"
            ],
            "metadata": {
                "azdata_cell_guid": "5cfe94b9-7a9c-4f98-ac78-003db0ee5f72"
            }
        },
        {
            "cell_type": "markdown",
            "source": [
                "**Inhalt dieses Notebooks ist:**\n",
                "\n",
                "- Setup & Demo‑Daten\n",
                "- Logische Auswertungsreihenfolge (SELECT)\n",
                "- GROUP BY – Grundsyntax (Dedupen über Gruppierung)\n",
                "- Mehrfach gruppieren (z. B. Region & Kategorie)\n",
                "- Gruppieren über Ausdrücke (z. B. YEAR(OrderDate))\n",
                "- Aggregatfunktionen & NULL‑Semantik (COUNT(*) vs COUNT(col))\n",
                "- WHERE vs HAVING\n",
                "- DISTINCT & bedingte Aggregation (COUNT(DISTINCT…), SUM(CASE WHEN …))\n",
                "- Window‑Funktionen vs GROUP BY (Dedupen mit ROW_NUMBER())\n",
                "- Optional: ROLLUP/GROUPING SETS – übergreifende Eindeutigkeiten\n",
                "- Query Optimizer/Analyzer & Ausführungsplan\n",
                "- Typische Fallstricke\n",
                "- Best Practices & Performance\n",
                "- Übungen\n",
                "- Lösungen\n",
                "- Querverweise\n",
                "- Cleanup (optional)"
            ],
            "metadata": {
                "azdata_cell_guid": "928ea022-07bd-4936-bf3f-cb2d84588d64"
            }
        },
        {
            "cell_type": "markdown",
            "source": [
                "Hinweis: Dieses Notebook nutzt einen **SQL‑Kernel**. **Alle Codezellen enthalten T‑SQL** (SQL Server)."
            ],
            "metadata": {
                "azdata_cell_guid": "e1d5687b-d639-472f-b98f-721a1f7be73b"
            }
        },
        {
            "cell_type": "markdown",
            "source": [
                "## Setup & Demo‑Daten\n",
                "\n",
                "Wir verwenden die Beispiel‑Datenbank **BITest** und eine Tabelle **dbo.SalesOrders** mit absichtlich eingebauten Duplikaten (gleiche Kombinationen aus Region/Category/CustomerID)."
            ],
            "metadata": {
                "azdata_cell_guid": "103e6842-64b4-48bb-8924-c3bea492da74"
            }
        },
        {
            "cell_type": "code",
            "source": [
                "IF DB_ID(N'BITest') IS NULL\n",
                "BEGIN\n",
                "    CREATE DATABASE BITest;\n",
                "END;\n",
                "GO\n",
                "USE [BITest];\n",
                "GO\n",
                "IF OBJECT_ID(N'dbo.SalesOrders','U') IS NOT NULL DROP TABLE dbo.SalesOrders;\n",
                "CREATE TABLE dbo.SalesOrders\n",
                "(\n",
                "  SalesOrderID int IDENTITY(1,1) PRIMARY KEY,\n",
                "  OrderNo      int        NOT NULL,\n",
                "  OrderDate    date       NOT NULL,\n",
                "  Region       nvarchar(20) NOT NULL,\n",
                "  Category     nvarchar(20) NOT NULL,\n",
                "  CustomerID   int        NOT NULL,\n",
                "  Quantity     int        NOT NULL,\n",
                "  UnitPrice    decimal(10,2) NOT NULL\n",
                ");\n",
                "INSERT INTO dbo.SalesOrders (OrderNo,OrderDate,Region,Category,CustomerID,Quantity,UnitPrice)\n",
                "VALUES\n",
                "(1001,'2025-01-05',N'West',N'Hardware',101,2,19.99),\n",
                "(1002,'2025-01-05',N'West',N'Hardware',101,2,19.99), -- Duplikat bzgl. (Region,Category,Customer)\n",
                "(1003,'2025-01-05',N'West',N'Hardware',102,1,199.00),\n",
                "(1004,'2025-02-14',N'Nord',N'Software',103,5,49.50),\n",
                "(1005,'2025-03-01',N'Sued',N'Hardware',104,2,999.90),\n",
                "(1006,'2025-03-18',N'Ost', N'Hardware',105,10,5.00),\n",
                "(1007,'2025-03-18',N'Ost', N'Hardware',105,10,5.00), -- exakte Duplikatzeile\n",
                "(1008,'2025-04-02',N'West',N'Software',106,0,49.50),\n",
                "(1009,'2025-05-20',N'Nord',N'Hardware',107,7,12.30)\n",
                ";"
            ],
            "metadata": {
                "azdata_cell_guid": "e2ff5090-691d-405a-83af-47d91a4421fc",
                "language": "sql"
            },
            "outputs": [],
            "execution_count": null
        },
        {
            "cell_type": "markdown",
            "source": [
                "### Daten sichten"
            ],
            "metadata": {
                "azdata_cell_guid": "4e4d6ced-a93c-4f5f-9a50-15d35188e7ee"
            }
        },
        {
            "cell_type": "code",
            "source": [
                "USE [BITest];\n",
                "SELECT TOP (20) * FROM dbo.SalesOrders ORDER BY SalesOrderID;"
            ],
            "metadata": {
                "azdata_cell_guid": "757d03cd-cddb-4cf7-b178-0d3cab6cb429",
                "language": "sql"
            },
            "outputs": [],
            "execution_count": null
        },
        {
            "cell_type": "markdown",
            "source": [
                "## Logische Auswertungsreihenfolge\n",
                "1. FROM / JOIN → **Duplikate können hier entstehen** (z. B. 1:n‑JOIN)\n",
                "2. WHERE (Zeilenfilter)\n",
                "3. GROUP BY (Gruppiert → erzeugt eindeutige Schlüssel pro Gruppe)\n",
                "4. HAVING (Gruppenfilter)\n",
                "5. SELECT (Ausgabe; `DISTINCT` entfernt Duplikate **nach** SELECT)\n",
                "6. ORDER BY"
            ],
            "metadata": {
                "azdata_cell_guid": "73a49c62-151c-4d62-b426-b5648304aae3"
            }
        },
        {
            "cell_type": "markdown",
            "source": [
                "## GROUP BY – Grundsyntax"
            ],
            "metadata": {
                "azdata_cell_guid": "46e9bbf7-58c0-4961-810e-b1d10cdee047"
            }
        },
        {
            "cell_type": "markdown",
            "source": [
                "*Fragestellung:* Wie erhalte ich **unique** Regionen?"
            ],
            "metadata": {
                "azdata_cell_guid": "cce11bb3-0d05-435d-8c14-9fbd18692c6b"
            }
        },
        {
            "cell_type": "code",
            "source": [
                "USE [BITest];\n",
                "-- GROUP BY ohne Aggregate: dedupliziert die Gruppierungsspalte(n)\n",
                "SELECT Region\n",
                "FROM dbo.SalesOrders\n",
                "GROUP BY Region\n",
                "ORDER BY Region;"
            ],
            "metadata": {
                "azdata_cell_guid": "0ead7d01-2265-4f72-8be1-fe2c93801240",
                "language": "sql"
            },
            "outputs": [],
            "execution_count": null
        },
        {
            "cell_type": "markdown",
            "source": [
                "## Mehrfach gruppieren (z. B. Region & Kategorie)"
            ],
            "metadata": {
                "azdata_cell_guid": "2f9d2612-3afd-456f-9f69-7567b9f5f8a9"
            }
        },
        {
            "cell_type": "markdown",
            "source": [
                "*Fragestellung:* Eindeutige Kombinationen von Region **und** Kategorie?"
            ],
            "metadata": {
                "azdata_cell_guid": "2d7cef12-ac35-48e8-aedc-5465a5d4f274"
            }
        },
        {
            "cell_type": "code",
            "source": [
                "USE [BITest];\n",
                "SELECT Region, Category\n",
                "FROM dbo.SalesOrders\n",
                "GROUP BY Region, Category\n",
                "ORDER BY Region, Category;"
            ],
            "metadata": {
                "azdata_cell_guid": "49a895f2-82a8-4ee9-b0c8-fbc91b12aa6d",
                "language": "sql"
            },
            "outputs": [],
            "execution_count": null
        },
        {
            "cell_type": "markdown",
            "source": [
                "## Gruppieren über Ausdrücke (z. B. YEAR(OrderDate))"
            ],
            "metadata": {
                "azdata_cell_guid": "6ecf7588-208c-4e06-9bcc-f3992534d9e5"
            }
        },
        {
            "cell_type": "markdown",
            "source": [
                "*Fragestellung:* Unique Bestellmonate (YYYY‑MM)?"
            ],
            "metadata": {
                "azdata_cell_guid": "81ab5e27-a57f-47d0-95e4-35e2b69664ba"
            }
        },
        {
            "cell_type": "code",
            "source": [
                "USE [BITest];\n",
                "SELECT CONVERT(char(7), OrderDate, 23) AS yyyy_mm\n",
                "FROM dbo.SalesOrders\n",
                "GROUP BY CONVERT(char(7), OrderDate, 23)\n",
                "ORDER BY yyyy_mm;"
            ],
            "metadata": {
                "azdata_cell_guid": "85e160cd-0fc7-4ff6-8efd-73f7968e11df",
                "language": "sql"
            },
            "outputs": [],
            "execution_count": null
        },
        {
            "cell_type": "markdown",
            "source": [
                "## Aggregatfunktionen & NULL‑Semantik (COUNT(*) vs COUNT(col), SUM/AVG/MIN/MAX)"
            ],
            "metadata": {
                "azdata_cell_guid": "af03e805-1444-4109-bc6f-76d93d75c367"
            }
        },
        {
            "cell_type": "markdown",
            "source": [
                "*Fragestellung:* Wie viele **einzigartige** Kunden pro Region?"
            ],
            "metadata": {
                "azdata_cell_guid": "15a98136-f56a-4777-ba4e-89b7d238ec67"
            }
        },
        {
            "cell_type": "code",
            "source": [
                "USE [BITest];\n",
                "SELECT Region, COUNT(DISTINCT CustomerID) AS DistinctCustomers\n",
                "FROM dbo.SalesOrders\n",
                "GROUP BY Region\n",
                "ORDER BY Region;"
            ],
            "metadata": {
                "azdata_cell_guid": "4d614be1-5add-4019-9445-81b2dd1a9b69",
                "language": "sql"
            },
            "outputs": [],
            "execution_count": null
        },
        {
            "cell_type": "markdown",
            "source": [
                "## WHERE vs HAVING"
            ],
            "metadata": {
                "azdata_cell_guid": "bd0d6528-343b-4b94-b62f-e2a652566a05"
            }
        },
        {
            "cell_type": "markdown",
            "source": [
                "*Fragestellung 1:* Nur Zeilen aus `Hardware` **vor** der Gruppierung berücksichtigen."
            ],
            "metadata": {
                "azdata_cell_guid": "cd81c451-450e-4412-b82a-7c5a8aae2465"
            }
        },
        {
            "cell_type": "code",
            "source": [
                "USE [BITest];\n",
                "SELECT Region, COUNT(*) AS Cnt\n",
                "FROM dbo.SalesOrders\n",
                "WHERE Category = N'Hardware'\n",
                "GROUP BY Region\n",
                "ORDER BY Region;"
            ],
            "metadata": {
                "azdata_cell_guid": "98204e9e-ae84-4420-a1c7-9a1ad6f4e42c",
                "language": "sql"
            },
            "outputs": [],
            "execution_count": null
        },
        {
            "cell_type": "markdown",
            "source": [
                "*Fragestellung 2:* Nur Regionen mit **mindestens 2** unterschiedlichen Kunden (Gruppenfilter)."
            ],
            "metadata": {
                "azdata_cell_guid": "0a774a02-ee9f-4abd-9c0e-031571bcbbec"
            }
        },
        {
            "cell_type": "code",
            "source": [
                "USE [BITest];\n",
                "SELECT Region, COUNT(DISTINCT CustomerID) AS DistinctCustomers\n",
                "FROM dbo.SalesOrders\n",
                "GROUP BY Region\n",
                "HAVING COUNT(DISTINCT CustomerID) >= 2\n",
                "ORDER BY Region;"
            ],
            "metadata": {
                "azdata_cell_guid": "b4737368-40d6-4993-8fc3-73d2f66b7513",
                "language": "sql"
            },
            "outputs": [],
            "execution_count": null
        },
        {
            "cell_type": "markdown",
            "source": [
                "## DISTINCT & bedingte Aggregation"
            ],
            "metadata": {
                "azdata_cell_guid": "14d024b9-dce6-4fbd-b8f3-6017b2ef413f"
            }
        },
        {
            "cell_type": "markdown",
            "source": [
                "*Fragestellung:* Wann genügt `DISTINCT` zum Dedupen, wann ist `GROUP BY` besser?"
            ],
            "metadata": {
                "azdata_cell_guid": "4c00706a-d383-4313-a9ea-49b7d76f66da"
            }
        },
        {
            "cell_type": "code",
            "source": [
                "USE [BITest];\n",
                "-- Reine Deduplizierung: DISTINCT und GROUP BY sind äquivalent (ohne Aggregate)\n",
                "SELECT DISTINCT Region, Category\n",
                "FROM dbo.SalesOrders\n",
                "ORDER BY Region, Category;\n",
                "\n",
                "-- Mit Aggregat braucht es GROUP BY bzw. Aggregatfunktionen\n",
                "SELECT Region, COUNT(*) AS RowsPerRegion\n",
                "FROM dbo.SalesOrders\n",
                "GROUP BY Region\n",
                "ORDER BY Region;\n",
                "\n",
                "-- Bedingte Aggregation: gezielt zählen innerhalb der Gruppe\n",
                "SELECT Region,\n",
                "       SUM(CASE WHEN Category = N'Hardware' THEN 1 ELSE 0 END) AS CntHardware,\n",
                "       COUNT(DISTINCT CASE WHEN Category = N'Hardware' THEN CustomerID END) AS DistinctCustomersHardware\n",
                "FROM dbo.SalesOrders\n",
                "GROUP BY Region\n",
                "ORDER BY Region;"
            ],
            "metadata": {
                "azdata_cell_guid": "c0fa303f-5aa1-42c3-8899-b455b227e3ce",
                "language": "sql"
            },
            "outputs": [],
            "execution_count": null
        },
        {
            "cell_type": "markdown",
            "source": [
                "## Window‑Funktionen vs GROUP BY"
            ],
            "metadata": {
                "azdata_cell_guid": "850b4725-0b02-4a8d-98f4-626dd32e1232"
            }
        },
        {
            "cell_type": "markdown",
            "source": [
                "*Fragestellung:* Ich möchte je (Region,Category,Customer) **eine** repräsentative Zeile behalten (z. B. die früheste Bestellung)."
            ],
            "metadata": {
                "azdata_cell_guid": "ff5ff27f-743f-4a8c-a640-12bbc75e5adb"
            }
        },
        {
            "cell_type": "code",
            "source": [
                "USE [BITest];\n",
                "WITH Ranked AS (\n",
                "  SELECT *,\n",
                "         ROW_NUMBER() OVER (PARTITION BY Region, Category, CustomerID ORDER BY OrderDate, SalesOrderID) AS rn\n",
                "  FROM dbo.SalesOrders\n",
                ")\n",
                "SELECT SalesOrderID, OrderNo, OrderDate, Region, Category, CustomerID, Quantity, UnitPrice\n",
                "FROM Ranked\n",
                "WHERE rn = 1\n",
                "ORDER BY Region, Category, CustomerID, SalesOrderID;"
            ],
            "metadata": {
                "azdata_cell_guid": "460fd37f-eb4d-4002-b9f1-cce745c34c0d",
                "language": "sql"
            },
            "outputs": [],
            "execution_count": null
        },
        {
            "cell_type": "markdown",
            "source": [
                "## Optional: ROLLUP/GROUPING/GROUPING_ID/GROUPING SETS/CUBE"
            ],
            "metadata": {
                "azdata_cell_guid": "ca9aa827-8bc6-4c0d-a83f-a32a9855ad8d"
            }
        },
        {
            "cell_type": "markdown",
            "source": [
                "*Fragestellung:* Einzigartige Schlüssel inkl. **Zwischensummen** (hier nur demonstrativ)."
            ],
            "metadata": {
                "azdata_cell_guid": "f8b66e8e-692a-4faa-b9fd-e5fb02e5d2e2"
            }
        },
        {
            "cell_type": "code",
            "source": [
                "USE [BITest];\n",
                "SELECT Region, Category\n",
                "FROM dbo.SalesOrders\n",
                "GROUP BY GROUPING SETS ((Region, Category), (Region), ())\n",
                "ORDER BY Region, Category;"
            ],
            "metadata": {
                "azdata_cell_guid": "4aef80e0-5f8b-40d1-9d06-fe091ec4041e",
                "language": "sql"
            },
            "outputs": [],
            "execution_count": null
        },
        {
            "cell_type": "markdown",
            "source": [
                "## Query Optimizer/Analyzer & Ausführungsplan\n",
                "**Pipeline:** Parsing → Binder → Optimizer → Plan‑Cache → Executor\n",
                "\n",
                "**Operatoren (relevant fürs Dedupen):**\n",
                "- **Hash Match (Aggregate)**: gut bei unsortierten, größeren Daten; benötigt Speicher (Spill‑Risiko).\n",
                "- **Stream Aggregate**: sehr effizient, benötigt **vorsortierte** Eingabe (z. B. per Index/Sort).\n",
                "- **Sort**: oft vor `Stream Aggregate`, kostenintensiv bei großen Datenmengen.\n",
                "- **Parallelism**: DISTINCT/GROUP BY sind häufig parallelisierbar; Final‑Aggregate vereinigt Teilmengen.\n",
                "\n",
                "**Erwartete Pläne (sprachlich):**\n",
                "- `SELECT DISTINCT col` ↔ `SELECT col GROUP BY col`: meist gleicher Plan (Aggregate + optional Sort).\n",
                "- `GROUP BY` mit Aggregaten erzeugt Aggregate‑Operatoren; `DISTINCT` kann nicht aggregieren.\n",
                "- Window‑Dedupe (`ROW_NUMBER()`) zeigt **Window Spool/Segment/Sort** statt Aggregate.\n",
                "\n",
                "**Snippets (nicht ausführen):**\n",
                "```sql\n",
                "SET SHOWPLAN_XML ON;  -- Plan nur anzeigen\n",
                "SELECT ...;\n",
                "SET SHOWPLAN_XML OFF;\n",
                "\n",
                "SET STATISTICS IO, TIME, XML ON;  -- Messwerte\n",
                "SELECT ...;\n",
                "SET STATISTICS IO, TIME, XML OFF;\n",
                "```"
            ],
            "metadata": {
                "azdata_cell_guid": "bc64ac46-fc2e-4b42-9953-461d5fc5e66e"
            }
        },
        {
            "cell_type": "code",
            "source": [
                "USE [BITest];\n",
                "-- Vergleich: DISTINCT vs GROUP BY (äquivalente Ausgabe, potenziell identischer Plan)\n",
                "SELECT DISTINCT Region, Category FROM dbo.SalesOrders;\n",
                "SELECT Region, Category FROM dbo.SalesOrders GROUP BY Region, Category;"
            ],
            "metadata": {
                "azdata_cell_guid": "288f97bc-7faa-40bd-8d92-be4004dd9968",
                "language": "sql"
            },
            "outputs": [],
            "execution_count": null
        },
        {
            "cell_type": "markdown",
            "source": [
                "## Typische Fallstricke"
            ],
            "metadata": {
                "azdata_cell_guid": "bde75e11-e706-42bd-939d-8640f6fd59b5"
            }
        },
        {
            "cell_type": "markdown",
            "source": [
                "**Fall 1 – `DISTINCT` mit zusätzlichen Spalten verhindert Dedupe**\n",
                "*Fragestellung:* Warum ändert eine zusätzliche Spalte die Kardinalität?"
            ],
            "metadata": {
                "azdata_cell_guid": "876b1c96-5574-46f7-9871-803e4fd0cb8b"
            }
        },
        {
            "cell_type": "code",
            "source": [
                "USE [BITest];\n",
                "-- Falsch (DISTINCT über zu viele Spalten → kaum Dedupe)\n",
                "SELECT DISTINCT Region, Category, SalesOrderID\n",
                "FROM dbo.SalesOrders;"
            ],
            "metadata": {
                "azdata_cell_guid": "5cdb0241-7af9-4de2-bb5b-861457f3397b",
                "language": "sql"
            },
            "outputs": [],
            "execution_count": null
        },
        {
            "cell_type": "code",
            "source": [
                "USE [BITest];\n",
                "-- Korrektur: Nur Schlüsselspalten zur Deduplizierung auswählen\n",
                "SELECT DISTINCT Region, Category\n",
                "FROM dbo.SalesOrders;"
            ],
            "metadata": {
                "azdata_cell_guid": "da5a453c-faf1-4d78-98c2-74d0778ee5f5",
                "language": "sql"
            },
            "outputs": [],
            "execution_count": null
        },
        {
            "cell_type": "markdown",
            "source": [
                "**Fall 2 – COUNT(DISTINCT col1, col2) wird in T‑SQL nicht unterstützt**\n",
                "*Fragestellung:* Wie zähle ich einzigartige Kombinationen?"
            ],
            "metadata": {
                "azdata_cell_guid": "85127d93-11f2-425f-83c7-c6da7ea85dd9"
            }
        },
        {
            "cell_type": "code",
            "source": [
                "USE [BITest];\n",
                "-- Fehlerhaft (Syntax nicht unterstützt)\n",
                "-- SELECT COUNT(DISTINCT Region, Category) FROM dbo.SalesOrders;"
            ],
            "metadata": {
                "azdata_cell_guid": "bc3ee21e-05b1-42dd-9f50-5687fc76ff14",
                "language": "sql"
            },
            "outputs": [],
            "execution_count": null
        },
        {
            "cell_type": "code",
            "source": [
                "USE [BITest];\n",
                "-- Korrekt: Subquery oder GROUP BY\n",
                "SELECT COUNT(*) AS DistinctPairs\n",
                "FROM (\n",
                "  SELECT DISTINCT Region, Category FROM dbo.SalesOrders\n",
                ") d;"
            ],
            "metadata": {
                "azdata_cell_guid": "b239fcea-64a8-4074-972c-0330845fbb10",
                "language": "sql"
            },
            "outputs": [],
            "execution_count": null
        },
        {
            "cell_type": "markdown",
            "source": [
                "**Fall 3 – Doppelte durch JOIN‑Vervielfachung**\n",
                "*Fragestellung:* Warum stimmt meine Anzahl nicht nach einem 1:n‑JOIN?"
            ],
            "metadata": {
                "azdata_cell_guid": "c73fbffe-8b93-40d6-af9b-d0abd5fbf6a0"
            }
        },
        {
            "cell_type": "code",
            "source": [
                "USE [BITest];\n",
                "-- Beispiel: DISTINCT nach dem JOIN nötig ODER Semi‑Join mit EXISTS verwenden\n",
                "-- (hier nur Pattern; zweite Tabelle wird angedeutet)\n",
                "-- SELECT DISTINCT c.CustomerID\n",
                "-- FROM dbo.Customers AS c\n",
                "-- JOIN dbo.Orders AS o ON o.CustomerID = c.CustomerID;  -- 1:n → Vervielfachung\n",
                "\n",
                "-- Besser (Semi‑Join):\n",
                "-- SELECT c.CustomerID\n",
                "-- FROM dbo.Customers AS c\n",
                "-- WHERE EXISTS (SELECT 1 FROM dbo.Orders AS o WHERE o.CustomerID = c.CustomerID);"
            ],
            "metadata": {
                "azdata_cell_guid": "06d02ebf-5924-4ac2-82d0-f43852218598",
                "language": "sql"
            },
            "outputs": [],
            "execution_count": null
        },
        {
            "cell_type": "markdown",
            "source": [
                "**Fall 4 – ORDER BY mit DISTINCT**\n",
                "*Fragestellung:* Warum lässt sich nicht nach Spalten sortieren, die **nicht** in SELECT stehen?"
            ],
            "metadata": {
                "azdata_cell_guid": "38d0cc2e-4757-4321-ae93-d3cd456e8361"
            }
        },
        {
            "cell_type": "code",
            "source": [
                "USE [BITest];\n",
                "-- Fehlerhaft: ORDER BY Spalte muss Teil der DISTINCT‑Ausgabe sein\n",
                "-- SELECT DISTINCT Region FROM dbo.SalesOrders ORDER BY Category;"
            ],
            "metadata": {
                "azdata_cell_guid": "763e3f20-21f8-4766-a693-4371789c6fee",
                "language": "sql"
            },
            "outputs": [],
            "execution_count": null
        },
        {
            "cell_type": "code",
            "source": [
                "USE [BITest];\n",
                "-- Korrekt:\n",
                "SELECT DISTINCT Region FROM dbo.SalesOrders ORDER BY Region;"
            ],
            "metadata": {
                "azdata_cell_guid": "64381f63-6ef1-45df-9fec-66a88df81671",
                "language": "sql"
            },
            "outputs": [],
            "execution_count": null
        },
        {
            "cell_type": "markdown",
            "source": [
                "**Fall 5 – `TOP` mit `DISTINCT` erzeugt missverständliche Ergebnisse**\n",
                "*Fragestellung:* Ist es die Top‑N **vor** oder **nach** Deduplizierung?"
            ],
            "metadata": {
                "azdata_cell_guid": "d2e22bfd-16be-4352-8bd4-1d48e556a79d"
            }
        },
        {
            "cell_type": "code",
            "source": [
                "USE [BITest];\n",
                "-- Empfehlung: Klarstellen per Subquery\n",
                "SELECT TOP (3) *\n",
                "FROM (\n",
                "  SELECT DISTINCT Region FROM dbo.SalesOrders\n",
                ") d\n",
                "ORDER BY Region;"
            ],
            "metadata": {
                "azdata_cell_guid": "915d17f2-4311-4867-a8f7-da48cb672b95",
                "language": "sql"
            },
            "outputs": [],
            "execution_count": null
        },
        {
            "cell_type": "markdown",
            "source": [
                "## Best Practices & Performance\n",
                "- Für reine Deduplizierung: `SELECT DISTINCT` **oder** `GROUP BY` – wähle die **lesbarere** Form.\n",
                "- Mit Aggregaten (COUNT/SUM/…): `GROUP BY`.\n",
                "- Für „erste Zeile pro Schlüssel“: Window‑Funktion (`ROW_NUMBER()`) statt `DISTINCT`.\n",
                "- Für hohe Performance: **passende Indizes** auf den Dedupe‑Schlüsseln ermöglichen `Stream Aggregate` ohne Sort.\n",
                "- `JOIN`‑Vervielfachung vermeiden: Semi‑Joins (`EXISTS`) oder vorherige Deduplizierung im Unterselect.\n",
                "- `COUNT(DISTINCT col)` ist ok; für mehrere Spalten: Subquery/`GROUP BY`.\n",
                "- Messbar machen: `SET STATISTICS IO, TIME ON` und Pläne vergleichen."
            ],
            "metadata": {
                "azdata_cell_guid": "d47d6acc-4a66-4344-9be2-3490429a5c22"
            }
        },
        {
            "cell_type": "markdown",
            "source": [
                "## Übungen\n",
                "1. Listen Sie alle **einzigartigen** `(Region, Category)`‑Kombinationen.\n",
                "2. Ermitteln Sie die Anzahl Zeilen pro Region.\n",
                "3. Zählen Sie die Anzahl **unterschiedlicher Kunden** pro Region.\n",
                "4. Behalten Sie je `(Region, Category, CustomerID)` nur die **früheste** Bestellung.\n",
                "5. Ermitteln Sie die Anzahl **einzigartiger (Region, Category)**‑Paare (ohne `COUNT(DISTINCT col1, col2)`)."
            ],
            "metadata": {
                "azdata_cell_guid": "76ab0f03-27a0-4e28-8264-afcd5f1621b5"
            }
        },
        {
            "cell_type": "code",
            "source": [
                "-- Lösung zu Frage 1: Distinct Paare\n",
                "USE [BITest];\n",
                "SELECT DISTINCT Region, Category\n",
                "FROM dbo.SalesOrders\n",
                "ORDER BY Region, Category;"
            ],
            "metadata": {
                "azdata_cell_guid": "374bea42-4be1-4c48-be17-b5728382192a",
                "language": "sql"
            },
            "outputs": [],
            "execution_count": null
        },
        {
            "cell_type": "code",
            "source": [
                "-- Lösung zu Frage 2: Zeilen pro Region\n",
                "USE [BITest];\n",
                "SELECT Region, COUNT(*) AS RowsPerRegion\n",
                "FROM dbo.SalesOrders\n",
                "GROUP BY Region\n",
                "ORDER BY Region;"
            ],
            "metadata": {
                "azdata_cell_guid": "1ef1fa86-bcfa-4e7d-a914-3ce29d572f82",
                "language": "sql"
            },
            "outputs": [],
            "execution_count": null
        },
        {
            "cell_type": "code",
            "source": [
                "-- Lösung zu Frage 3: Unterschiedliche Kunden pro Region\n",
                "USE [BITest];\n",
                "SELECT Region, COUNT(DISTINCT CustomerID) AS DistinctCustomers\n",
                "FROM dbo.SalesOrders\n",
                "GROUP BY Region\n",
                "ORDER BY Region;"
            ],
            "metadata": {
                "azdata_cell_guid": "8f2ee2e8-52a6-4349-ba97-8951eccb3ecc",
                "language": "sql"
            },
            "outputs": [],
            "execution_count": null
        },
        {
            "cell_type": "code",
            "source": [
                "-- Lösung zu Frage 4: Erste Bestellung je Schlüssel\n",
                "USE [BITest];\n",
                "WITH R AS (\n",
                "  SELECT *, ROW_NUMBER() OVER (PARTITION BY Region, Category, CustomerID ORDER BY OrderDate, SalesOrderID) AS rn\n",
                "  FROM dbo.SalesOrders\n",
                ")\n",
                "SELECT Region, Category, CustomerID, SalesOrderID, OrderDate\n",
                "FROM R\n",
                "WHERE rn = 1\n",
                "ORDER BY Region, Category, CustomerID;"
            ],
            "metadata": {
                "azdata_cell_guid": "c2053ad7-5d2b-4f6f-8a34-23a2ea995366",
                "language": "sql"
            },
            "outputs": [],
            "execution_count": null
        },
        {
            "cell_type": "code",
            "source": [
                "-- Lösung zu Frage 5: Anzahl einzigartiger (Region, Category)\n",
                "USE [BITest];\n",
                "SELECT COUNT(*) AS DistinctPairs\n",
                "FROM (\n",
                "  SELECT DISTINCT Region, Category FROM dbo.SalesOrders\n",
                ") d;"
            ],
            "metadata": {
                "azdata_cell_guid": "0091a2bc-240f-454b-b4c2-ca6babbf9c83",
                "language": "sql"
            },
            "outputs": [],
            "execution_count": null
        },
        {
            "cell_type": "markdown",
            "source": [
                "## Querverweise\n",
                "- Querverweis: 05_Funktionen\\Aggregatfunktionen & Textaggrega...& verdichten, Distinct-Aggregate, Textlisten stabil sortieren.\n",
                "- Querverweis: 04_Where\\Filtern nach Fensterfunktionen (`ROW_.../abgeleiteter Tabelle, um auf Rang/Window-Ergebnis zu filtern.\n",
                "- Querverweis: 03_JOIN\\Physische Join-Algorithmen & Hints — N... Operator; gezielte Nutzung von Join-/Query-Hints und Risiken.\n",
                "- Querverweis: 03_JOIN\\Semi-/Anti-Joins: EXISTS — IN, NOT EXI...likatsvervielfältigung; typische Fehlerbilder und Performance.\n",
                "- Querverweis: 03_JOIN\\Set-Operatoren vs JOIN — Wann `UNION/U...RSECT/EXCEPT` statt Join sinnvoll ist; kombinierte Strategien."
            ],
            "metadata": {
                "azdata_cell_guid": "29ff02d8-b45d-43ec-bc5b-d578a82ef4fd"
            }
        },
        {
            "cell_type": "code",
            "source": [
                "USE [master];\n",
                "IF DB_ID(N'BITest') IS NOT NULL\n",
                "BEGIN\n",
                "    ALTER DATABASE BITest SET SINGLE_USER WITH ROLLBACK IMMEDIATE;\n",
                "    DROP DATABASE BITest;\n",
                "END;"
            ],
            "metadata": {
                "azdata_cell_guid": "7a7c3a37-7f6f-4279-9c0f-a038653b4bed",
                "language": "sql"
            },
            "outputs": [],
            "execution_count": null
        }
    ]
}