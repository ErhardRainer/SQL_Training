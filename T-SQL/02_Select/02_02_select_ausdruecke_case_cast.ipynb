{
    "metadata": {
        "kernelspec": {
            "name": "SQL",
            "display_name": "SQL",
            "language": "sql"
        },
        "language_info": {
            "name": "sql",
            "version": ""
        },
        "title": "T-SQL SELECT – Ausdrücke, CASE, CAST/CONVERT, ISNULL/COALESCE"
    },
    "nbformat_minor": 2,
    "nbformat": 4,
    "cells": [
        {
            "cell_type": "markdown",
            "source": [
                "# T-SQL SELECT – Ausdrücke, CASE, CAST/CONVERT, ISNULL/COALESCE\n",
                "\n",
                "**Themengebiet:** SELECT\n",
                "\n",
                "**Kapitel:** Ausdrücke, CASE, CAST/CONVERT, ISNULL/COALESCE\n",
                "\n",
                "**Kurzbeschreibung:** Werte berechnen, bedingt ableiten und sauber typisieren; Fallstricke mit FORMAT() vermeiden.\n",
                "\n",
                "**Stand:** 6. September 2025"
            ],
            "metadata": {
                "azdata_cell_guid": "f69498be-897f-49dc-8e70-d0bf43d5aa53"
            }
        },
        {
            "cell_type": "markdown",
            "source": [
                "Dieses Notebook zeigt, wie in T‑SQL Ausdrücke aufgebaut werden, wie Sie mit `CASE` bedingt Werte ableiten, mit `CAST`/`CONVERT`/`TRY_CONVERT` sauber typisieren und mit `ISNULL`/`COALESCE` Nullwerte behandeln. Außerdem beleuchten wir die Risiken von `FORMAT()` (Performance, Sortierung, SARGability) und stellen bessere Alternativen vor.\n",
                "\n",
                "**Typische Fragestellungen:**\n",
                "- Wie berechne ich neue Spalten (z. B. Umsatz = Menge × Preis) und kontrolliere dabei Datentypen?\n",
                "- Wann nehme ich `CASE` (simple vs. searched) und worauf muss ich achten?\n",
                "- Was ist der Unterschied zwischen `ISNULL` und `COALESCE` – insbesondere beim Rückgabetyp?\n",
                "- Wie formatiere ich Datum/Zahl in Text, ohne mir Indizes/Sortierung kaputt zu machen?\n",
                "- Wie verhindere ich unerwünschte implizite Konvertierungen und Genauigkeitsverluste?"
            ],
            "metadata": {
                "azdata_cell_guid": "f06656e7-4c6e-4d97-a2da-237bf2aaa88f"
            }
        },
        {
            "cell_type": "markdown",
            "source": [
                "**Inhalt dieses Notebooks ist:**\n",
                "\n",
                "- Setup & Demo‑Daten\n",
                "- Logische Auswertungsreihenfolge (SELECT)\n",
                "- Arithmetische & Zeichenketten‑Ausdrücke\n",
                "- `CASE` – einfache vs. bedingte Form\n",
                "- Nullbehandlung mit `ISNULL` vs. `COALESCE`\n",
                "- Typisierung mit `CAST`/`CONVERT`/`TRY_CONVERT`\n",
                "- Datum/Zahl formatiert ausgeben – Alternativen zu `FORMAT()`\n",
                "- WHERE vs. SELECT‑Ausdruck (Auswertungsreihenfolge)\n",
                "- Window‑Funktionen als Alternative zu `CASE` in Ausdrücken\n",
                "- Query Optimizer/Analyzer & Ausführungsplan (Compute Scalar & implizite Konvertierungen)\n",
                "- Typische Fallstricke\n",
                "- Best Practices & Performance\n",
                "- Übungen\n",
                "- Lösungen\n",
                "- Querverweise\n",
                "- Cleanup (optional)"
            ],
            "metadata": {
                "azdata_cell_guid": "a198ebdf-09c6-45c8-b56a-799aadb2eb46"
            }
        },
        {
            "cell_type": "markdown",
            "source": [
                "Hinweis: Dieses Notebook nutzt einen **SQL‑Kernel**. **Alle Codezellen enthalten T‑SQL** (SQL Server)."
            ],
            "metadata": {
                "azdata_cell_guid": "08430602-7c2e-4a3b-ab6a-5794ba6f408b"
            }
        },
        {
            "cell_type": "markdown",
            "source": [
                "## Setup & Demo‑Daten\n",
                "\n",
                "Wir verwenden eine Beispiel‑Datenbank **BITest** und eine durchgängige Tabelle **dbo.SalesOrders**.\n",
                "Die Daten enthalten gezielt `NULL`‑Werte und unterschiedliche Datentypen für Demonstrationen."
            ],
            "metadata": {
                "azdata_cell_guid": "5c3d2126-15d5-420f-aaf0-63cfcb0e5dba"
            }
        },
        {
            "cell_type": "code",
            "source": [
                "IF DB_ID(N'BITest') IS NULL\n",
                "BEGIN\n",
                "    CREATE DATABASE BITest;\n",
                "END;\n",
                "GO\n",
                "USE [BITest];\n",
                "GO\n",
                "IF OBJECT_ID(N'dbo.SalesOrders','U') IS NOT NULL DROP TABLE dbo.SalesOrders;\n",
                "CREATE TABLE dbo.SalesOrders\n",
                "(\n",
                "    SalesOrderID int IDENTITY(1,1) PRIMARY KEY,\n",
                "    OrderDate     date      NOT NULL,\n",
                "    ShipDate      date      NULL,\n",
                "    Region        nvarchar(20) NOT NULL,\n",
                "    Category      nvarchar(20) NULL,\n",
                "    CustomerID    int       NOT NULL,\n",
                "    Quantity      int       NOT NULL,\n",
                "    UnitPrice     decimal(10,2) NOT NULL,\n",
                "    Discount      decimal(4,2)  NULL,\n",
                "    CurrencyCode  char(3)   NOT NULL CONSTRAINT DF_SalesOrders_Currency DEFAULT('EUR'),\n",
                "    Notes         nvarchar(100) NULL\n",
                ");\n",
                "INSERT INTO dbo.SalesOrders (OrderDate,ShipDate,Region,Category,CustomerID,Quantity,UnitPrice,Discount,CurrencyCode,Notes)\n",
                "VALUES\n",
                "('2025-01-05','2025-01-08',N'West', N'Hardware', 101, 3,  19.99, 0.10,'EUR', NULL),\n",
                "('2025-01-05',NULL,        N'West', N'Hardware', 102, 1, 199.00, NULL,'EUR', N'Express?'),\n",
                "('2025-02-14','2025-02-16',N'Nord', N'Software', 103, 5,  49.50, 0.00,'EUR', N'Valentins‑Promo'),\n",
                "('2025-03-01','2025-03-04',N'Sued', NULL,        104, 2, 999.90, 0.15,'USD', N'Auslandsdeal'),\n",
                "('2025-03-18','2025-03-20',N'Ost',  N'Hardware', 105, 10,  5.00, 0.05,'EUR', N'Bulk'),\n",
                "('2025-04-02',NULL,        N'West', N'Software', 106, 0,  49.50, NULL,'EUR', N'Gratis‑Upgrade'),\n",
                "('2025-05-20','2025-05-21',N'Nord', N'Hardware', 107, 7,  12.30, NULL,'EUR', NULL)\n",
                ";\n",
                ""
            ],
            "metadata": {
                "azdata_cell_guid": "1bd8a2a5-e845-4cd5-871a-4953fd8ac74c",
                "language": "sql"
            },
            "outputs": [],
            "execution_count": null
        },
        {
            "cell_type": "markdown",
            "source": [
                "### Daten sichten"
            ],
            "metadata": {
                "azdata_cell_guid": "8475f137-2654-4530-8125-73e0559f16e6"
            }
        },
        {
            "cell_type": "code",
            "source": [
                "USE [BITest];\n",
                "SELECT TOP (10) * FROM dbo.SalesOrders ORDER BY SalesOrderID;"
            ],
            "metadata": {
                "azdata_cell_guid": "d9d5710e-06f1-46c1-b3fd-99372495e7e9",
                "language": "sql"
            },
            "outputs": [],
            "execution_count": null
        },
        {
            "cell_type": "markdown",
            "source": [
                "## Logische Auswertungsreihenfolge\n",
                "Die logische Verarbeitungsreihenfolge erinnert daran, **wo** Ausdrücke wirken:\n",
                "\n",
                "1. FROM / JOIN\n",
                "2. WHERE (Filter auf *Zeilenebene* – hier dürfen keine Alias aus SELECT verwendet werden)\n",
                "3. GROUP BY\n",
                "4. HAVING\n",
                "5. SELECT (Spaltenausdrücke; Alias definiert)\n",
                "6. ORDER BY\n",
                "\n",
                "Häufige Folge: Ein Ausdruck, der in `SELECT` definiert ist, steht in `WHERE` **noch nicht** zur Verfügung."
            ],
            "metadata": {
                "azdata_cell_guid": "9b48a025-129f-4154-b6ae-b41a45cd1786"
            }
        },
        {
            "cell_type": "markdown",
            "source": [
                "## Arithmetische & Zeichenketten‑Ausdrücke"
            ],
            "metadata": {
                "azdata_cell_guid": "c5771acb-60ef-4220-9199-0e2313dee007"
            }
        },
        {
            "cell_type": "markdown",
            "source": [
                "*Fragestellung:* Wie berechne ich Umsatz und erzeugte Texte sicher – inkl. NULL‑Behandlung?"
            ],
            "metadata": {
                "azdata_cell_guid": "bd0169f1-cd88-4cc4-bc13-6fa08f661dc7"
            }
        },
        {
            "cell_type": "code",
            "source": [
                "USE [BITest];\n",
                "-- Umsatz = Menge * Preis * (1 - COALESCE(Discount,0))\n",
                "SELECT\n",
                "  SalesOrderID,\n",
                "  Quantity,\n",
                "  UnitPrice,\n",
                "  Discount,\n",
                "  CAST(Quantity * UnitPrice * (1 - COALESCE(Discount,0)) AS decimal(12,2)) AS Revenue,\n",
                "  CONCAT(N'Kunde ', CustomerID, N' in ', Region, N' | ', FORMAT(OrderDate,'yyyy-MM-dd')) AS InfoText\n",
                "FROM dbo.SalesOrders;"
            ],
            "metadata": {
                "azdata_cell_guid": "e675759a-db32-4c68-bc75-d85a45634e39",
                "language": "sql"
            },
            "outputs": [],
            "execution_count": null
        },
        {
            "cell_type": "markdown",
            "source": [
                "## `CASE` – einfache vs. bedingte Form"
            ],
            "metadata": {
                "azdata_cell_guid": "ea838c38-4ba7-41ae-9e4b-0a9c2d21e280"
            }
        },
        {
            "cell_type": "markdown",
            "source": [
                "*Fragestellung:* Wie klassifiziere ich Aufträge nach Status/Kategorie?"
            ],
            "metadata": {
                "azdata_cell_guid": "b535eb14-dc2e-45a4-8953-1af0f0c3166a"
            }
        },
        {
            "cell_type": "code",
            "source": [
                "USE [BITest];\n",
                "SELECT SalesOrderID, Category, ShipDate, OrderDate,\n",
                "  -- Simple CASE (exakte Gleichheit)\n",
                "  CASE Category\n",
                "    WHEN N'Hardware' THEN N'HW'\n",
                "    WHEN N'Software' THEN N'SW'\n",
                "    ELSE N'Unbekannt'\n",
                "  END AS CategoryCode,\n",
                "  -- Searched CASE (beliebige Bedingungen)\n",
                "  CASE\n",
                "    WHEN ShipDate IS NULL THEN N'Offen'\n",
                "    WHEN DATEDIFF(day, OrderDate, ShipDate) <= 2 THEN N'Schnell geliefert'\n",
                "    ELSE N'Normal geliefert'\n",
                "  END AS DeliveryStatus\n",
                "FROM dbo.SalesOrders;"
            ],
            "metadata": {
                "azdata_cell_guid": "0cf32302-e9c1-45b9-8a06-84afe7890319",
                "language": "sql"
            },
            "outputs": [],
            "execution_count": null
        },
        {
            "cell_type": "markdown",
            "source": [
                "## Nullbehandlung mit `ISNULL` vs. `COALESCE`"
            ],
            "metadata": {
                "azdata_cell_guid": "68ea878e-3c8e-44e4-8071-beab4abb8bfc"
            }
        },
        {
            "cell_type": "markdown",
            "source": [
                "*Fragestellung:* Welchen Typ liefert die Funktion – und hat das Auswirkungen auf Genauigkeit/Länge?"
            ],
            "metadata": {
                "azdata_cell_guid": "a06b643e-1add-4533-8f0e-88cce3bde80c"
            }
        },
        {
            "cell_type": "code",
            "source": [
                "USE [BITest];\n",
                "-- Unterschiedlicher Rückgabetyp: ISNULL nimmt Typ des 1. Arguments; COALESCE folgt Typpräzedenz\n",
                "SELECT\n",
                "  SalesOrderID,\n",
                "  -- Decimal vs. int: hier kann ISNULL runden, COALESCE behält Skala\n",
                "  ISNULL(Discount, 0)     AS Discount_ISNULL,\n",
                "  COALESCE(Discount, 0.0) AS Discount_COALESCE,\n",
                "  -- Länge mit Strings\n",
                "  LEN(ISNULL(CAST(NULL AS varchar(5)), 'fallback'))     AS Len_ISNULL,\n",
                "  LEN(COALESCE(CAST(NULL AS varchar(5)), CAST('fallback' AS varchar(50)))) AS Len_COALESCE\n",
                "FROM dbo.SalesOrders;"
            ],
            "metadata": {
                "azdata_cell_guid": "de7f09b4-f37b-41af-a08d-1129b9ef1062",
                "language": "sql"
            },
            "outputs": [],
            "execution_count": null
        },
        {
            "cell_type": "markdown",
            "source": [
                "## Typisierung mit `CAST`/`CONVERT`/`TRY_CONVERT`"
            ],
            "metadata": {
                "azdata_cell_guid": "e94ef892-0671-403c-a21a-a91135f93de4"
            }
        },
        {
            "cell_type": "markdown",
            "source": [
                "*Fragestellung:* Wie stelle ich robust sicher, dass Ausdrücke den gewünschten Datentyp haben – inkl. Fehlerbehandlung?"
            ],
            "metadata": {
                "azdata_cell_guid": "ac7a365b-d6a4-437d-af8b-96e43034ff31"
            }
        },
        {
            "cell_type": "code",
            "source": [
                "USE [BITest];\n",
                "SELECT SalesOrderID,\n",
                "  CAST(UnitPrice AS money)                 AS UnitPrice_money,\n",
                "  CONVERT(varchar(10), OrderDate, 23)      AS OrderDate_yyyy_mm_dd,\n",
                "  TRY_CONVERT(int, Notes)                  AS Notes_as_int_or_null,\n",
                "  TRY_CONVERT(decimal(10,2), Discount*100) AS DiscountPct\n",
                "FROM dbo.SalesOrders;"
            ],
            "metadata": {
                "azdata_cell_guid": "fdd2adf1-adf4-437e-8d2d-a4196ffc85bc",
                "language": "sql"
            },
            "outputs": [],
            "execution_count": null
        },
        {
            "cell_type": "markdown",
            "source": [
                "## Datum/Zahl formatiert ausgeben – Alternativen zu `FORMAT()`"
            ],
            "metadata": {
                "azdata_cell_guid": "f9f337a6-d93f-4e2a-a6c9-ef0e4ae48b89"
            }
        },
        {
            "cell_type": "markdown",
            "source": [
                "*Fragestellung:* Wie erzeuge ich `yyyy-MM` bzw. lokalisierte Texte ohne teures CLR‑`FORMAT()`?"
            ],
            "metadata": {
                "azdata_cell_guid": "bedd2419-e47c-4195-9b70-a4c4604bc1f9"
            }
        },
        {
            "cell_type": "code",
            "source": [
                "USE [BITest];\n",
                "SELECT SalesOrderID, OrderDate,\n",
                "  -- ISO‑Datum (YYYY‑MM‑DD)\n",
                "  CONVERT(char(10), OrderDate, 23)               AS ISO_Date,\n",
                "  -- YYYY‑MM (ohne FORMAT): sicher über YEAR/MONTH zusammensetzen\n",
                "  CONCAT(YEAR(OrderDate), '-', RIGHT('0'+CAST(MONTH(OrderDate) AS varchar(2)),2)) AS YYYY_MM,\n",
                "  -- Währungsstring kontrolliert zusammenbauen\n",
                "  CONCAT(CurrencyCode, ' ', CAST(UnitPrice AS varchar(20))) AS PriceText\n",
                "FROM dbo.SalesOrders;"
            ],
            "metadata": {
                "azdata_cell_guid": "705a68d3-8d80-45fb-877f-dc32858b6142",
                "language": "sql"
            },
            "outputs": [],
            "execution_count": null
        },
        {
            "cell_type": "markdown",
            "source": [
                "## WHERE vs. SELECT‑Ausdruck (Auswertungsreihenfolge)"
            ],
            "metadata": {
                "azdata_cell_guid": "3602f016-953f-4d9a-a9e0-2c01bb65446b"
            }
        },
        {
            "cell_type": "markdown",
            "source": [
                "*Fragestellung:* Warum kann ich einen in SELECT definierten Alias nicht in WHERE verwenden – und wie löse ich das?"
            ],
            "metadata": {
                "azdata_cell_guid": "8fdbf81a-df55-4010-8614-1390f1452bb4"
            }
        },
        {
            "cell_type": "code",
            "source": [
                "USE [BITest];\n",
                "WITH S AS (\n",
                "  SELECT SalesOrderID,\n",
                "         Quantity * UnitPrice AS Gross\n",
                "  FROM dbo.SalesOrders\n",
                ")\n",
                "SELECT * FROM S WHERE Gross > 100;"
            ],
            "metadata": {
                "azdata_cell_guid": "619a0002-a08b-4311-980a-4a0d59ba6598",
                "language": "sql"
            },
            "outputs": [],
            "execution_count": null
        },
        {
            "cell_type": "markdown",
            "source": [
                "## Window‑Funktionen vs. `CASE` in Ausdrücken"
            ],
            "metadata": {
                "azdata_cell_guid": "f9f71e0d-d9e4-4537-ab22-e96984d0eb71"
            }
        },
        {
            "cell_type": "markdown",
            "source": [
                "*Fragestellung:* Wie berechne ich laufende Summen/Anteile ohne zusätzliche Aggregationsabfragen?"
            ],
            "metadata": {
                "azdata_cell_guid": "6a5c89b6-cc7a-4d3f-b2dc-3f5e841f463b"
            }
        },
        {
            "cell_type": "code",
            "source": [
                "USE [BITest];\n",
                "SELECT SalesOrderID, Region,\n",
                "  CAST(Quantity * UnitPrice * (1 - COALESCE(Discount,0)) AS decimal(12,2)) AS Revenue,\n",
                "  SUM(CAST(Quantity * UnitPrice * (1 - COALESCE(Discount,0)) AS decimal(12,2)))\n",
                "    OVER (PARTITION BY Region ORDER BY SalesOrderID ROWS UNBOUNDED PRECEDING) AS RunningRevenue_Region\n",
                "FROM dbo.SalesOrders\n",
                "ORDER BY Region, SalesOrderID;"
            ],
            "metadata": {
                "azdata_cell_guid": "2ddf9723-b243-4007-ac4b-f0d3749cc701",
                "language": "sql"
            },
            "outputs": [],
            "execution_count": null
        },
        {
            "cell_type": "markdown",
            "source": [
                "## Implizite Konvertierungen & SARGability"
            ],
            "metadata": {
                "azdata_cell_guid": "d81e131f-b6cd-4dde-90cb-0fe275f46433"
            }
        },
        {
            "cell_type": "markdown",
            "source": [
                "*Fragestellung:* Wie vermeide ich Index‑Verhinderer durch Typmischungen in Ausdrücken?"
            ],
            "metadata": {
                "azdata_cell_guid": "5d197529-e6f1-4674-9e24-df5280f93d1c"
            }
        },
        {
            "cell_type": "code",
            "source": [
                "USE [BITest];\n",
                "-- Beispiel: Vergleich Zahl mit Text verursacht implizite Konvertierung\n",
                "DECLARE @minRevenue decimal(12,2) = 100.00;\n",
                "SELECT SalesOrderID, Quantity, UnitPrice\n",
                "FROM dbo.SalesOrders\n",
                "WHERE CAST(Quantity * UnitPrice AS decimal(12,2)) >= @minRevenue;"
            ],
            "metadata": {
                "azdata_cell_guid": "24c9a461-1661-41a9-b5c5-879fc851b10d",
                "language": "sql"
            },
            "outputs": [],
            "execution_count": null
        },
        {
            "cell_type": "markdown",
            "source": [
                "## Query Optimizer/Analyzer & Ausführungsplan\n",
                "Bei Ausdrücken erscheinen häufig **Compute Scalar**‑Operatoren. Implizite Konvertierungen können zu **Index Scans** führen.\n",
                "\n",
                "**Pipeline (vereinfacht):** Parsing → Binder → Optimizer → Plan‑Cache → Executor\n",
                "\n",
                "**Typische Operatoren:** Compute Scalar, Filter, Hash Match, Stream Aggregate, Sort, Parallelism, Memory Grants, Cardinality Estimator (CE)\n",
                "\n",
                "**Erwartete Pläne (sprachlich):**\n",
                "- Berechnete Spalten erzeugen `Compute Scalar`.\n",
                "- `TRY_CONVERT` kann Filter weniger selektiv machen (liefert `NULL` statt Fehler), ggf. separate Validierungsschritte einplanen.\n",
                "- String‑Formatierung in `SELECT` beeinflusst Filter nicht, aber kann CPU kosten (`FORMAT()`).\n",
                "\n",
                "**Snippets (nicht ausführen):**\n",
                "```sql\n",
                "SET SHOWPLAN_XML ON;  -- Plan nur anzeigen\n",
                "SELECT ...;            \n",
                "SET SHOWPLAN_XML OFF;\n",
                "\n",
                "SET STATISTICS IO, TIME, XML ON;  -- Messwerte\n",
                "SELECT ...;\n",
                "SET STATISTICS IO, TIME, XML OFF;\n",
                "```"
            ],
            "metadata": {
                "azdata_cell_guid": "f632c9b5-68a0-4e2c-ad67-1302613c0220"
            }
        },
        {
            "cell_type": "code",
            "source": [
                "USE [BITest];\n",
                "-- Beispielabfrage mit Compute Scalar & TRY_CONVERT\n",
                "SELECT SalesOrderID,\n",
                "       TRY_CONVERT(decimal(12,2), Quantity * UnitPrice) AS Revenue\n",
                "FROM dbo.SalesOrders\n",
                "WHERE COALESCE(Discount,0) <= 0.1;"
            ],
            "metadata": {
                "azdata_cell_guid": "66e5fe57-9999-4367-a924-37d5f3960e09",
                "language": "sql"
            },
            "outputs": [],
            "execution_count": null
        },
        {
            "cell_type": "markdown",
            "source": [
                "## Typische Fallstricke"
            ],
            "metadata": {
                "azdata_cell_guid": "69e8689f-425c-4056-b2a9-9e59e0665e14"
            }
        },
        {
            "cell_type": "markdown",
            "source": [
                "**Fall 1 – `FORMAT()` ist bequem, aber teuer**\n",
                "*Fragestellung:* Wie erzeuge ich `yyyy-MM` performant?"
            ],
            "metadata": {
                "azdata_cell_guid": "34afca07-f59b-49ca-9770-f1aa7eef4676"
            }
        },
        {
            "cell_type": "code",
            "source": [
                "USE [BITest];\n",
                "-- Falsch / ungünstig (CLR‑basiert, nicht SARGable)\n",
                "SELECT SalesOrderID, FORMAT(OrderDate,'yyyy-MM') AS yyyy_mm\n",
                "FROM dbo.SalesOrders;"
            ],
            "metadata": {
                "azdata_cell_guid": "d646bc89-c843-4e58-95d0-d2b3421ce587",
                "language": "sql"
            },
            "outputs": [],
            "execution_count": null
        },
        {
            "cell_type": "code",
            "source": [
                "USE [BITest];\n",
                "-- Korrekt / besser: ohne FORMAT()\n",
                "SELECT SalesOrderID,\n",
                "       CONCAT(YEAR(OrderDate), '-', RIGHT('0'+CAST(MONTH(OrderDate) AS varchar(2)),2)) AS yyyy_mm\n",
                "FROM dbo.SalesOrders;"
            ],
            "metadata": {
                "azdata_cell_guid": "3666c130-9307-4e6d-9410-619a1498adb8",
                "language": "sql"
            },
            "outputs": [],
            "execution_count": null
        },
        {
            "cell_type": "markdown",
            "source": [
                "**Fall 2 – `ISNULL` übernimmt den Typ des ersten Arguments**\n",
                "*Fragestellung:* Warum wird `Discount` gerundet?"
            ],
            "metadata": {
                "azdata_cell_guid": "f1baa45e-8fe7-40dd-baa3-72cf46e93404"
            }
        },
        {
            "cell_type": "code",
            "source": [
                "USE [BITest];\n",
                "-- Fehlerhaft: 0 ist int → Ergebnis int (0/1)\n",
                "SELECT SalesOrderID, ISNULL(Discount, 0) AS Discount_ISNULL\n",
                "FROM dbo.SalesOrders;"
            ],
            "metadata": {
                "azdata_cell_guid": "ac272ab7-e5b9-493c-8c89-485e39bed3f1",
                "language": "sql"
            },
            "outputs": [],
            "execution_count": null
        },
        {
            "cell_type": "code",
            "source": [
                "USE [BITest];\n",
                "-- Korrektur: Dezimalliteral verwenden oder COALESCE mit 0.0\n",
                "SELECT SalesOrderID, COALESCE(Discount, 0.0) AS Discount_OK\n",
                "FROM dbo.SalesOrders;"
            ],
            "metadata": {
                "azdata_cell_guid": "5592ce74-eee3-449d-9ff8-db6c80d4e7db",
                "language": "sql"
            },
            "outputs": [],
            "execution_count": null
        },
        {
            "cell_type": "markdown",
            "source": [
                "**Fall 3 – Integer‑Division**\n",
                "*Fragestellung:* Warum ist der Anteil 0 statt 0,15?"
            ],
            "metadata": {
                "azdata_cell_guid": "99c01bc5-575f-4c93-b848-1f4c4e590578"
            }
        },
        {
            "cell_type": "code",
            "source": [
                "USE [BITest];\n",
                "-- Fehlerhaft: beide Operanden int → ganzzahlige Division\n",
                "SELECT 3/20 AS Anteil;"
            ],
            "metadata": {
                "azdata_cell_guid": "56460d9a-f4c5-4442-bcf3-c58f2f7fa250",
                "language": "sql"
            },
            "outputs": [],
            "execution_count": null
        },
        {
            "cell_type": "code",
            "source": [
                "USE [BITest];\n",
                "-- Korrektur: Typ heben\n",
                "SELECT 3.0/20 AS Anteil;"
            ],
            "metadata": {
                "azdata_cell_guid": "ae82c98d-2633-423c-b9db-41f95aeba263",
                "language": "sql"
            },
            "outputs": [],
            "execution_count": null
        },
        {
            "cell_type": "markdown",
            "source": [
                "**Fall 4 – Alias in `WHERE`**\n",
                "*Fragestellung:* Warum ist der Alias `Revenue` in `WHERE` unbekannt?"
            ],
            "metadata": {
                "azdata_cell_guid": "62691112-083d-40e2-895e-e0d3971025e2"
            }
        },
        {
            "cell_type": "code",
            "source": [
                "USE [BITest];\n",
                "-- Fehlerhaft: Alias in WHERE nicht sichtbar\n",
                "SELECT Quantity * UnitPrice AS Revenue\n",
                "FROM dbo.SalesOrders\n",
                "WHERE Revenue > 100;"
            ],
            "metadata": {
                "azdata_cell_guid": "aee97950-91e0-42db-a2c4-d6788c3ae9b6",
                "language": "sql"
            },
            "outputs": [],
            "execution_count": null
        },
        {
            "cell_type": "code",
            "source": [
                "USE [BITest];\n",
                "-- Korrektur: CTE/Derived Table oder Ausdruck wiederholen\n",
                "WITH S AS (\n",
                "  SELECT Quantity * UnitPrice AS Revenue\n",
                "  FROM dbo.SalesOrders\n",
                ")\n",
                "SELECT * FROM S WHERE Revenue > 100;"
            ],
            "metadata": {
                "azdata_cell_guid": "76dd2713-81bd-4672-bfbc-d52425f0d47b",
                "language": "sql"
            },
            "outputs": [],
            "execution_count": null
        },
        {
            "cell_type": "markdown",
            "source": [
                "**Fall 5 – Implizite Konvertierung verhindert SARGability**\n",
                "*Fragestellung:* Warum nutzt der Plan keinen Index mehr?"
            ],
            "metadata": {
                "azdata_cell_guid": "f7b77030-4a74-4aaa-8ce5-4426e3eee096"
            }
        },
        {
            "cell_type": "code",
            "source": [
                "USE [BITest];\n",
                "-- Fehlerhaftes Pattern\n",
                "DECLARE @d nvarchar(10) = CONVERT(nvarchar(10), '2025-03-01');\n",
                "SELECT * FROM dbo.SalesOrders WHERE OrderDate = @d;  -- implizite Konvertierung\n",
                ""
            ],
            "metadata": {
                "azdata_cell_guid": "ab143e46-6982-46b0-9424-ac496afa3463",
                "language": "sql"
            },
            "outputs": [],
            "execution_count": null
        },
        {
            "cell_type": "code",
            "source": [
                "USE [BITest];\n",
                "-- Korrektur: passender Typ\n",
                "DECLARE @d date = '2025-03-01';\n",
                "SELECT * FROM dbo.SalesOrders WHERE OrderDate = @d;"
            ],
            "metadata": {
                "azdata_cell_guid": "c1ebb616-3985-4e2a-8814-5cfbd8c91731",
                "language": "sql"
            },
            "outputs": [],
            "execution_count": null
        },
        {
            "cell_type": "markdown",
            "source": [
                "## Best Practices & Performance\n",
                "- Typisierung **explizit** mit `CAST`/`CONVERT`/`TRY_CONVERT` – keine stillen impliziten Konvertierungen.\n",
                "- `COALESCE` bevorzugen, wenn Typpräzedenz gewünscht ist; bei `ISNULL` den **ersten Operand** sorgfältig wählen.\n",
                "- `FORMAT()` nur für **kleine Ergebnis‑Mengen** verwenden; für Berichte/API i. d. R. Strings **außerhalb** der Datenbank bauen.\n",
                "- In Filtern keine berechneten Ausdrücke über Spalten → besser in `WHERE` mit Parameter passender Typen arbeiten.\n",
                "- Datumsstrings vermeiden – Date/Time‑Typen nutzen.\n",
                "- Für reproduzierbare Ausgabeformate ISO‑Stile (`CONVERT(..., 23)` etc.) oder zusammengesetzte Strings verwenden."
            ],
            "metadata": {
                "azdata_cell_guid": "fb37f5ab-0502-48e3-ac0f-9b54392ac919"
            }
        },
        {
            "cell_type": "markdown",
            "source": [
                "## Übungen\n",
                "1. Ermitteln Sie `Revenue` je Zeile als `decimal(12,2)` und klassifizieren Sie die Zeilen in `High` (≥ 200) bzw. `Low`.\n",
                "2. Geben Sie `OrderDate` als `yyyy-MM` aus **ohne** `FORMAT()`.\n",
                "3. Ersetzen Sie `NULL` in `Discount` sinnvoll und zeigen Sie den Unterschied zwischen `ISNULL` und `COALESCE`.\n",
                "4. Bilden Sie eine laufende Summe `RunningRevenue` pro Region.\n",
                "5. Filtern Sie alle Zeilen mit `OrderDate` = 2025‑03‑01 **ohne** implizite Konvertierung."
            ],
            "metadata": {
                "azdata_cell_guid": "859c6c93-0b55-4961-bdb1-73a817905597"
            }
        },
        {
            "cell_type": "code",
            "source": [
                "-- Lösung zu Frage 1: Revenue & Klassifikation\n",
                "USE [BITest];\n",
                "SELECT SalesOrderID,\n",
                "       CAST(Quantity*UnitPrice*(1-COALESCE(Discount,0)) AS decimal(12,2)) AS Revenue,\n",
                "       CASE WHEN CAST(Quantity*UnitPrice*(1-COALESCE(Discount,0)) AS decimal(12,2)) >= 200 THEN 'High' ELSE 'Low' END AS Class\n",
                "FROM dbo.SalesOrders;"
            ],
            "metadata": {
                "azdata_cell_guid": "7b1559c1-2dd5-4ee2-9dcf-61d2ba7e8511",
                "language": "sql"
            },
            "outputs": [],
            "execution_count": null
        },
        {
            "cell_type": "code",
            "source": [
                "-- Lösung zu Frage 2: yyyy-MM ohne FORMAT()\n",
                "USE [BITest];\n",
                "SELECT SalesOrderID,\n",
                "       CONCAT(YEAR(OrderDate), '-', RIGHT('0'+CAST(MONTH(OrderDate) AS varchar(2)),2)) AS yyyy_mm\n",
                "FROM dbo.SalesOrders;"
            ],
            "metadata": {
                "azdata_cell_guid": "85ea2ecf-331c-4e38-a03d-494cd5e26f96",
                "language": "sql"
            },
            "outputs": [],
            "execution_count": null
        },
        {
            "cell_type": "code",
            "source": [
                "-- Lösung zu Frage 3: ISNULL vs COALESCE\n",
                "USE [BITest];\n",
                "SELECT SalesOrderID,\n",
                "       ISNULL(Discount, 0.0)     AS Discount_ISNULL,\n",
                "       COALESCE(Discount, 0.0)   AS Discount_COALESCE\n",
                "FROM dbo.SalesOrders;"
            ],
            "metadata": {
                "azdata_cell_guid": "110ab7b9-1a1a-413d-a534-3f873b2297d2",
                "language": "sql"
            },
            "outputs": [],
            "execution_count": null
        },
        {
            "cell_type": "code",
            "source": [
                "-- Lösung zu Frage 4: RunningRevenue pro Region\n",
                "USE [BITest];\n",
                "SELECT SalesOrderID, Region,\n",
                "       CAST(Quantity*UnitPrice*(1-COALESCE(Discount,0)) AS decimal(12,2)) AS Revenue,\n",
                "       SUM(CAST(Quantity*UnitPrice*(1-COALESCE(Discount,0)) AS decimal(12,2)))\n",
                "         OVER (PARTITION BY Region ORDER BY SalesOrderID ROWS UNBOUNDED PRECEDING) AS RunningRevenue\n",
                "FROM dbo.SalesOrders\n",
                "ORDER BY Region, SalesOrderID;"
            ],
            "metadata": {
                "azdata_cell_guid": "f432bafa-91e3-4fd5-bee8-ac13e4589457",
                "language": "sql"
            },
            "outputs": [],
            "execution_count": null
        },
        {
            "cell_type": "code",
            "source": [
                "-- Lösung zu Frage 5: Datum korrekt typisiert filtern\n",
                "USE [BITest];\n",
                "DECLARE @d date = '2025-03-01';\n",
                "SELECT * FROM dbo.SalesOrders WHERE OrderDate = @d;"
            ],
            "metadata": {
                "azdata_cell_guid": "30203d5e-8e2e-4b61-b8ad-0f46eeefcb56",
                "language": "sql"
            },
            "outputs": [],
            "execution_count": null
        },
        {
            "cell_type": "markdown",
            "source": [
                "## Querverweise\n",
                "\n",
                "- Querverweis: 05_Funktionen\\Bedingte & NULL-Handling (`CASE`... Kontrollfluss in Ausdrücken, Standardwerte, Division-durch-Nu')"
            ],
            "metadata": {
                "azdata_cell_guid": "fbf62b4a-7435-417f-b362-8acb32d1f37a"
            }
        },
        {
            "cell_type": "code",
            "source": [
                "USE [master];\n",
                "IF DB_ID(N'BITest') IS NOT NULL\n",
                "BEGIN\n",
                "    ALTER DATABASE BITest SET SINGLE_USER WITH ROLLBACK IMMEDIATE;\n",
                "    DROP DATABASE BITest;\n",
                "END;"
            ],
            "metadata": {
                "azdata_cell_guid": "7c2fe49b-18ec-49ac-81e4-08b533e78ee4",
                "language": "sql"
            },
            "outputs": [],
            "execution_count": null
        }
    ]
}