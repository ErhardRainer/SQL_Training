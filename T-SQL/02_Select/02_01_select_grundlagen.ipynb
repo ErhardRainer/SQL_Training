{
  "cells": [
    {
      "cell_type": "markdown",
      "metadata": {},
      "source": "# T-SQL SELECT-Grundlagen & Syntax – SELECT-Grundlagen & Syntax\n\n**Themengebiet:** SELECT-Grundlagen & Syntax  \n**Kapitel:** SELECT-Grundlagen & Syntax  \n**Kurzbeschreibung:** Minimale Syntax, Projektion, Alias, logische Verarbeitungsreihenfolge und deterministische Ausgabe.  \n**Stand:** 2025-09-06\n"
    },
    {
      "cell_type": "markdown",
      "metadata": {},
      "source": "In diesem Notebook geht es um die **Grundlagen von `SELECT` in T-SQL**: minimale Syntax, Projektion (welche Spalten erscheinen), sinnvolle **Alias-Namen**, die **logische Auswertungsreihenfolge** einer Abfrage sowie die Bedeutung einer **deterministischen Ausgabe** mit `ORDER BY`.\n\n**Typische Fragestellungen:**\n- Wie sieht die kleinste gültige `SELECT`-Abfrage aus?\n- Wie vergebe ich Aliasse für Spalten bzw. Ausdrücke?\n- Warum ist die Ausgabe ohne `ORDER BY` nicht deterministisch?\n- Wie filtere ich mit `WHERE` und wie paginiere ich Ergebnisse (`TOP`, `OFFSET/FETCH`)?\n- Wann brauche ich `DISTINCT` und wann besser nicht?\n"
    },
    {
      "cell_type": "markdown",
      "metadata": {},
      "source": "### Inhalt dieses Notebooks ist\n- Hinweis zum Kernel\n- Setup & Demo-Daten (`BITest` + `dbo.SalesOrders`)\n- Logische Auswertungsreihenfolge (FROM→WHERE→GROUP BY→HAVING→SELECT→ORDER BY)\n- Minimaler SELECT & Projektion\n- Spaltenalias & Ausdrücke\n- Filtern mit WHERE\n- Deterministische Ausgabe mit ORDER BY\n- DISTINCT\n- TOP & OFFSET/FETCH (Paginierung)\n- CASE-Ausdrücke (abgeleitete Spalten)\n- (Optional) Window-Funktionen für laufende Werte\n- Query Optimizer/Analyzer & Ausführungsplan\n- Typische Fallstricke\n- Best Practices & Performance\n- Übungen & Lösungen\n- Querverweise\n- Cleanup\n"
    },
    {
      "cell_type": "markdown",
      "metadata": {},
      "source": "> **Hinweis:** Dieses Notebook verwendet einen **SQL-Kernel**. **Alle Codezellen sind T-SQL** (SQL Server).\n"
    },
    {
      "cell_type": "markdown",
      "metadata": {},
      "source": "## Setup & Demo-Daten\n\nWir verwenden optional die Datenbank **`BITest`** und eine durchgängige Tabelle **`dbo.SalesOrders`** mit einigen `NULL`-Werten.\n"
    },
    {
      "cell_type": "code",
      "metadata": {},
      "execution_count": null,
      "outputs": [],
      "source": "IF DB_ID(N'BITest') IS NULL\nBEGIN\n  CREATE DATABASE [BITest];\nEND\nGO\nUSE [BITest];\nGO\n\nIF OBJECT_ID(N'dbo.SalesOrders', N'U') IS NOT NULL\n  DROP TABLE dbo.SalesOrders;\nGO\n\nCREATE TABLE dbo.SalesOrders\n(\n  SalesOrderID int IDENTITY(1,1) PRIMARY KEY,\n  OrderDate    date         NOT NULL,\n  CustomerID   int          NOT NULL,\n  Region       nvarchar(50) NULL,\n  Category     nvarchar(50) NULL,\n  Quantity     int          NOT NULL,\n  UnitPrice    decimal(10,2) NOT NULL,\n  Discount     decimal(10,2) NULL -- Rabattbetrag je Zeile\n);\nGO\n\nINSERT INTO dbo.SalesOrders (OrderDate, CustomerID, Region, Category, Quantity, UnitPrice, Discount) VALUES\n('2024-12-28', 101, N'West', N'Electronics', 2, 399.99, NULL),\n('2024-12-29', 102, N'East', N'Home',       1,  89.50,  5.00),\n('2025-01-03', 101, N'West', N'Home',       3,  15.00,  0.00),\n('2025-02-10', 103, NULL,    N'Garden',     5,   9.99, NULL),\n('2025-03-05', 104, N'South',N'Electronics',1, 999.00,100.00),\n('2025-03-20', 105, N'North',N'Home',       2,  50.00, NULL),\n('2025-04-02', 106, N'West', NULL,          4,  20.00,  2.00);\nGO\n"
    },
    {
      "cell_type": "markdown",
      "metadata": {},
      "source": "### Daten sichten (TOP)\nErster Blick in die Tabelle:" 
    },
    {
      "cell_type": "code",
      "metadata": {},
      "execution_count": null,
      "outputs": [],
      "source": "USE [BITest];\nGO\nSELECT TOP (10) *\nFROM dbo.SalesOrders\nORDER BY SalesOrderID;\n"
    },
    {
      "cell_type": "markdown",
      "metadata": {},
      "source": "## Logische Auswertungsreihenfolge\n\n`FROM` → `WHERE` → `GROUP BY` → `HAVING` → `SELECT` → `ORDER BY`\n\n> Wichtig: **`ORDER BY` kommt logisch zuletzt** und ist der einzige garantierte Weg zu einer **deterministischen Ausgabe-Reihenfolge**.\n"
    },
    {
      "cell_type": "markdown",
      "metadata": {},
      "source": "## Minimaler SELECT & Projektion\n*Fragestellung:* Wie selektiere ich bestimmte Spalten ohne weitere Klauseln?\n"
    },
    {
      "cell_type": "code",
      "metadata": {},
      "execution_count": null,
      "outputs": [],
      "source": "USE [BITest];\nGO\nSELECT SalesOrderID, OrderDate, CustomerID\nFROM dbo.SalesOrders;\n"
    },
    {
      "cell_type": "markdown",
      "metadata": {},
      "source": "## Spaltenalias & Ausdrücke\n*Fragestellung:* Wie vergebe ich Aliasse und berechne Ausdrucksspalten?\n"
    },
    {
      "cell_type": "code",
      "metadata": {},
      "execution_count": null,
      "outputs": [],
      "source": "USE [BITest];\nGO\nSELECT \n  SalesOrderID AS ID,\n  Quantity * UnitPrice AS LineTotal,       -- Ausdruck mit Alias\n  ISNULL(Discount, 0.00) AS DiscountAmount -- Umgang mit NULL\nFROM dbo.SalesOrders;\n"
    },
    {
      "cell_type": "markdown",
      "metadata": {},
      "source": "## Filtern mit WHERE\n*Fragestellung:* Wie filtere ich Datenzeilen?\n"
    },
    {
      "cell_type": "code",
      "metadata": {},
      "execution_count": null,
      "outputs": [],
      "source": "USE [BITest];\nGO\nSELECT *\nFROM dbo.SalesOrders\nWHERE Region = N'West'\n  AND OrderDate >= '2025-01-01';\n"
    },
    {
      "cell_type": "markdown",
      "metadata": {},
      "source": "## Deterministische Ausgabe mit ORDER BY\n*Fragestellung:* Wie stelle ich eine reproduzierbare Reihenfolge sicher?\n"
    },
    {
      "cell_type": "code",
      "metadata": {},
      "execution_count": null,
      "outputs": [],
      "source": "USE [BITest];\nGO\nSELECT TOP (5)\n  SalesOrderID, OrderDate, CustomerID,\n  Quantity * UnitPrice - ISNULL(Discount,0.00) AS NetAmount\nFROM dbo.SalesOrders\nORDER BY OrderDate DESC, SalesOrderID DESC; -- Ties durch zweite Sortierspalte auflösen\n"
    },
    {
      "cell_type": "markdown",
      "metadata": {},
      "source": "## DISTINCT\n*Fragestellung:* Wie erhalte ich einzigartige Werte?\n"
    },
    {
      "cell_type": "code",
      "metadata": {},
      "execution_count": null,
      "outputs": [],
      "source": "USE [BITest];\nGO\nSELECT DISTINCT Category\nFROM dbo.SalesOrders\nWHERE Category IS NOT NULL\nORDER BY Category;\n"
    },
    {
      "cell_type": "markdown",
      "metadata": {},
      "source": "## TOP & OFFSET/FETCH (Paginierung)\n*Fragestellung:* Wie liefere ich nur einen Ausschnitt der Daten?\n"
    },
    {
      "cell_type": "code",
      "metadata": {},
      "execution_count": null,
      "outputs": [],
      "source": "USE [BITest];\nGO\n-- TOP-Variante (mit deterministischem ORDER BY!)\nSELECT TOP (3) SalesOrderID, OrderDate, CustomerID\nFROM dbo.SalesOrders\nORDER BY OrderDate DESC, SalesOrderID DESC;\nGO\n\n-- OFFSET/FETCH-Variante: Seite 2 mit je 2 Zeilen\nSELECT SalesOrderID, OrderDate, CustomerID\nFROM dbo.SalesOrders\nORDER BY OrderDate DESC, SalesOrderID DESC\nOFFSET 2 ROWS FETCH NEXT 2 ROWS ONLY;\n"
    },
    {
      "cell_type": "markdown",
      "metadata": {},
      "source": "## CASE-Ausdrücke (abgeleitete Spalten)\n*Fragestellung:* Wie bilde ich Kategorien aus Werten?\n"
    },
    {
      "cell_type": "code",
      "metadata": {},
      "execution_count": null,
      "outputs": [],
      "source": "USE [BITest];\nGO\nSELECT \n  SalesOrderID,\n  Discount,\n  CASE \n    WHEN Discount IS NULL OR Discount = 0 THEN N'No/Zero Discount'\n    WHEN Discount >= 50 THEN N'High Discount'\n    ELSE N'Low Discount'\n  END AS DiscountBucket\nFROM dbo.SalesOrders\nORDER BY SalesOrderID;\n"
    },
    {
      "cell_type": "markdown",
      "metadata": {},
      "source": "## (Optional) Window-Funktionen – laufende Summe\n*Fragestellung:* Wie vergleiche ich Zeilen, ohne sie zu gruppieren?\n"
    },
    {
      "cell_type": "code",
      "metadata": {},
      "execution_count": null,
      "outputs": [],
      "source": "USE [BITest];\nGO\nSELECT\n  SalesOrderID, OrderDate,\n  Quantity * UnitPrice - ISNULL(Discount,0.00) AS NetAmount,\n  SUM(Quantity * UnitPrice - ISNULL(Discount,0.00)) \n    OVER (ORDER BY OrderDate, SalesOrderID) AS RunningRevenue\nFROM dbo.SalesOrders\nORDER BY OrderDate, SalesOrderID;\n"
    },
    {
      "cell_type": "markdown",
      "metadata": {},
      "source": "## Query Optimizer/Analyzer & Ausführungsplan\n\n**Pipeline:** Parsing → Binder → Optimizer → Plan-Cache → Executor\n\n**Häufige Operatoren:** *Stream Aggregate*, *Hash Match (Aggregate)*, *Sort*, *Parallelism*, *Memory Grants*, *Cardinality Estimator (CE)*.\n\n**Snippets:**\n```sql\nSET SHOWPLAN_XML ON; -- geschätzter Plan\n-- Abfrage\nSET SHOWPLAN_XML OFF;\n\nSET STATISTICS IO, TIME, XML ON; -- tatsächliche Ausführung\n-- Abfrage\nSET STATISTICS IO, TIME, XML OFF;\n```\n\n**Erwartete Pläne (sprachlich):**\n- Einfache `SELECT` ohne Indexfilter: *Table Scan* oder *Index Scan*.\n- `ORDER BY` auf nicht indizierter Spalte: *Sort*-Operator mit entsprechendem Speicherbedarf.\n- `OFFSET/FETCH`: oft zusätzlicher *Sort*, ggf. *Top N Sort*.\n"
    },
    {
      "cell_type": "code",
      "metadata": {},
      "execution_count": null,
      "outputs": [],
      "source": "USE [BITest];\nGO\nSET SHOWPLAN_XML ON;\nSELECT TOP (5)\n  SalesOrderID, OrderDate, CustomerID\nFROM dbo.SalesOrders\nORDER BY OrderDate DESC, SalesOrderID DESC;\nSET SHOWPLAN_XML OFF;\n"
    },
    {
      "cell_type": "code",
      "metadata": {},
      "execution_count": null,
      "outputs": [],
      "source": "USE [BITest];\nGO\nSET STATISTICS IO, TIME, XML ON;\nSELECT\n  SalesOrderID, OrderDate, CustomerID\nFROM dbo.SalesOrders\nWHERE Region = N'West';\nSET STATISTICS IO, TIME, XML OFF;\n"
    },
    {
      "cell_type": "markdown",
      "metadata": {},
      "source": "## Typische Fallstricke\n\nJeder Fall zeigt die Fragestellung, eine **fehlerhafte** Abfrage (absichtlich) und die **korrekte** Variante.\n"
    },
    {
      "cell_type": "markdown",
      "metadata": {},
      "source": "### Fall 1: TOP ohne `ORDER BY` → nichtdeterministische Ausgabe\n*Fragestellung:* Warum variiert die Reihenfolge oder Zusammensetzung bei wiederholten Läufen?\n"
    },
    {
      "cell_type": "code",
      "metadata": {},
      "execution_count": null,
      "outputs": [],
      "source": "-- FEHLERHAFT / ANFÄLLIG:\nUSE [BITest];\nGO\nSELECT TOP (3) SalesOrderID, OrderDate\nFROM dbo.SalesOrders;\n"
    },
    {
      "cell_type": "code",
      "metadata": {},
      "execution_count": null,
      "outputs": [],
      "source": "-- KORREKT:\nUSE [BITest];\nGO\nSELECT TOP (3) SalesOrderID, OrderDate\nFROM dbo.SalesOrders\nORDER BY OrderDate DESC, SalesOrderID DESC;\n"
    },
    {
      "cell_type": "markdown",
      "metadata": {},
      "source": "### Fall 2: Spaltenalias in `WHERE` verwenden\n*Fragestellung:* Warum meldet SQL Server einen Fehler, wenn ich einen Alias in `WHERE` benutze?\n"
    },
    {
      "cell_type": "code",
      "metadata": {},
      "execution_count": null,
      "outputs": [],
      "source": "-- FEHLERHAFT:\nUSE [BITest];\nGO\nSELECT Quantity * UnitPrice AS LineTotal\nFROM dbo.SalesOrders\nWHERE LineTotal > 100; -- Alias ist hier noch nicht bekannt\n"
    },
    {
      "cell_type": "code",
      "metadata": {},
      "execution_count": null,
      "outputs": [],
      "source": "-- KORREKT (Ausdruck wiederholen oder Unterabfrage verwenden):\nUSE [BITest];\nGO\nSELECT Quantity * UnitPrice AS LineTotal\nFROM dbo.SalesOrders\nWHERE Quantity * UnitPrice > 100;\n\n-- Alternative mit Unterabfrage:\n-- SELECT LineTotal\n-- FROM (\n--   SELECT Quantity * UnitPrice AS LineTotal\n--   FROM dbo.SalesOrders\n-- ) AS q\n-- WHERE q.LineTotal > 100;\n"
    },
    {
      "cell_type": "markdown",
      "metadata": {},
      "source": "### Fall 3: Integer-Division führt zu unerwarteten Nullen\n*Fragestellung:* Warum ist `1/2 = 0` und wie verhindere ich das?\n"
    },
    {
      "cell_type": "code",
      "metadata": {},
      "execution_count": null,
      "outputs": [],
      "source": "-- FEHLERHAFT: ganzzahlige Division\nUSE [BITest];\nGO\nSELECT 1/2 AS BadResult, Quantity/2 AS HalfQty\nFROM dbo.SalesOrders;\n"
    },
    {
      "cell_type": "code",
      "metadata": {},
      "execution_count": null,
      "outputs": [],
      "source": "-- KORREKT: explizite Typwandlung oder Faktor mit Dezimalstelle\nUSE [BITest];\nGO\nSELECT CAST(1 AS decimal(10,2))/2 AS GoodScalar,\n       CAST(Quantity AS decimal(10,2))/2 AS HalfQty\nFROM dbo.SalesOrders;\n"
    },
    {
      "cell_type": "markdown",
      "metadata": {},
      "source": "## Best Practices & Performance\n\n- **Determinismus:** Niemals auf implizite Reihenfolgen verlassen – immer `ORDER BY` mit tie-breaker.\n- **SARGability:** Filterausdrücke so formulieren, dass Indizes genutzt werden können (z. B. keine Funktion auf der Spalte in `WHERE`).\n- **Indizes:** Häufige Filter- und Sortierspalten indexieren (z. B. `OrderDate`, `CustomerID`). Für reine Reporting-Workloads kann **Columnstore** sinnvoll sein.\n- **Pagination:** `OFFSET/FETCH` mit stabiler Sortierung verwenden; bei großen Datenmengen **Keyset Pagination** erwägen.\n- **Plananalyse:** `SET STATISTICS IO, TIME, XML` und *Estimated/Actual Plans* zur Diagnose nutzen.\n"
    },
    {
      "cell_type": "code",
      "metadata": {},
      "execution_count": null,
      "outputs": [],
      "source": "-- Beispiel: Index für häufige Filterung/Sortierung\nUSE [BITest];\nGO\nIF NOT EXISTS (\n  SELECT 1 FROM sys.indexes \n  WHERE name = N'IX_SalesOrders_OrderDate' AND object_id = OBJECT_ID(N'dbo.SalesOrders')\n)\nBEGIN\n  CREATE INDEX IX_SalesOrders_OrderDate\n    ON dbo.SalesOrders (OrderDate)\n    INCLUDE (CustomerID, Quantity, UnitPrice, Discount);\nEND\n"
    },
    {
      "cell_type": "markdown",
      "metadata": {},
      "source": "## Übungen\n\n1. **West 2025:** Selektieren Sie alle Bestellungen im Jahr 2025 aus der Region *West* mit `SalesOrderID`, `OrderDate`, `CustomerID`. Sortieren Sie absteigend nach `OrderDate`, anschließend `SalesOrderID`.\n2. **Top-Umsätze:** Ermitteln Sie pro Zeile den Nettobetrag `NetAmount = Quantity*UnitPrice - ISNULL(Discount,0)` und geben Sie die **Top 3** Zeilen nach `NetAmount` aus (deterministisch sortiert).\n3. **Distinct Kategorien:** Listen Sie alle verschiedenen Kategorien (`Category`) auf, ohne `NULL`, alphabetisch sortiert.\n4. **Seite 2:** Geben Sie eine Seite mit **2 Zeilen** aus, sortiert nach `OrderDate DESC, SalesOrderID DESC` – verwenden Sie `OFFSET/FETCH`.\n5. **CASE Bucket:** Geben Sie je Zeile `SalesOrderID`, `Discount` und einen `CASE`-Bucket (`No/Zero`, `Low`, `High` ≥ 50) aus.\n"
    },
    {
      "cell_type": "code",
      "metadata": {},
      "execution_count": null,
      "outputs": [],
      "source": "-- Lösung zu Frage 1: West 2025\nUSE [BITest];\nGO\nSELECT SalesOrderID, OrderDate, CustomerID\nFROM dbo.SalesOrders\nWHERE Region = N'West'\n  AND OrderDate >= '2025-01-01'\n  AND OrderDate <  '2026-01-01'\nORDER BY OrderDate DESC, SalesOrderID DESC;\n"
    },
    {
      "cell_type": "code",
      "metadata": {},
      "execution_count": null,
      "outputs": [],
      "source": "-- Lösung zu Frage 2: Top-Umsätze\nUSE [BITest];\nGO\nSELECT TOP (3)\n  SalesOrderID,\n  Quantity*UnitPrice - ISNULL(Discount,0.00) AS NetAmount\nFROM dbo.SalesOrders\nORDER BY NetAmount DESC, SalesOrderID DESC;\n"
    },
    {
      "cell_type": "code",
      "metadata": {},
      "execution_count": null,
      "outputs": [],
      "source": "-- Lösung zu Frage 3: Distinct Kategorien\nUSE [BITest];\nGO\nSELECT DISTINCT Category\nFROM dbo.SalesOrders\nWHERE Category IS NOT NULL\nORDER BY Category;\n"
    },
    {
      "cell_type": "code",
      "metadata": {},
      "execution_count": null,
      "outputs": [],
      "source": "-- Lösung zu Frage 4: Seite 2 mit OFFSET/FETCH\nUSE [BITest];\nGO\nSELECT SalesOrderID, OrderDate, CustomerID\nFROM dbo.SalesOrders\nORDER BY OrderDate DESC, SalesOrderID DESC\nOFFSET 2 ROWS FETCH NEXT 2 ROWS ONLY;\n"
    },
    {
      "cell_type": "code",
      "metadata": {},
      "execution_count": null,
      "outputs": [],
      "source": "-- Lösung zu Frage 5: CASE Bucket\nUSE [BITest];\nGO\nSELECT \n  SalesOrderID,\n  Discount,\n  CASE \n    WHEN Discount IS NULL OR Discount = 0 THEN N'No/Zero'\n    WHEN Discount >= 50 THEN N'High'\n    ELSE N'Low'\n  END AS DiscountBucket\nFROM dbo.SalesOrders\nORDER BY SalesOrderID;\n"
    },
    {
      "cell_type": "markdown",
      "metadata": {},
      "source": "## Querverweise\nKeine Querverweise gefunden.\n"
    },
    {
      "cell_type": "markdown",
      "metadata": {},
      "source": "## Cleanup (optional)\nZum Aufräumen (optional) die Demo-Objekte entfernen.\n"
    },
    {
      "cell_type": "code",
      "metadata": {},
      "execution_count": null,
      "outputs": [],
      "source": "-- Optionales Aufräumen:\n-- USE [BITest];\n-- GO\n-- DROP TABLE IF EXISTS dbo.SalesOrders;\n-- GO\n-- USE [master];\n-- GO\n-- DROP DATABASE IF EXISTS [BITest];\n"
    }
  ],
  "metadata": {
    "kernelspec": {
      "name": "SQL",
      "display_name": "SQL",
      "language": "sql"
    },
    "language_info": {
      "name": "sql"
    }
  },
  "nbformat": 4,
  "nbformat_minor": 5
}
