{
    "metadata": {
        "kernelspec": {
            "name": "SQL",
            "display_name": "SQL",
            "language": "sql"
        },
        "language_info": {
            "name": "sql",
            "version": ""
        }
    },
    "nbformat_minor": 2,
    "nbformat": 4,
    "cells": [
        {
            "cell_type": "markdown",
            "source": [
                "# T-SQL SELECT – TOP, WITH TIES, PERCENT & Pagination mit OFFSET/FETCH\n",
                "\n",
                "**Themengebiet:** SELECT\n",
                "\n",
                "**Kapitel:** TOP, WITH TIES, PERCENT & Pagination mit OFFSET/FETCH\n",
                "\n",
                "**Kurzbeschreibung:** Zeilenlimitierung korrekt einsetzen und stabil sortieren; Unterschiede zwischen Limitierung und Pagination.\n",
                "\n",
                "**Stand:** 6. September 2025"
            ],
            "metadata": {
                "azdata_cell_guid": "a04ddfd3-f45e-4d68-b372-f808211e746a"
            }
        },
        {
            "cell_type": "markdown",
            "source": [
                "Dieses Notebook zeigt, wie Sie in T‑SQL Ergebniszeilen begrenzen (`TOP`, `WITH TIES`, `PERCENT`) und wie Sie **Pagination** mit `ORDER BY … OFFSET … FETCH` korrekt und stabil implementieren. Wir beleuchten deterministische Sortierung (Tiebreaker), Unterschiede zwischen **Limitierung** (nur \"erste N\") und **Pagination** (beliebige Seiten), sowie Einflüsse auf Ausführungspläne und Performance.\n",
                "\n",
                "**Typische Fragestellungen:**\n",
                "- Wie erhalte ich die **Top‑N** Zeilen korrekt und reproduzierbar?\n",
                "- Wann ist `WITH TIES` sinnvoll und wie wirkt es?\n",
                "- Warum ist `TOP (… ) PERCENT` heikel?\n",
                "- Wie implementiere ich Pagination mit `OFFSET/FETCH` **stabil**, ohne Duplikate/\n",
                "  Lücken zwischen Seiten?\n",
                "- Welche Alternativen gibt es (Keyset/Seek‑Pagination) und wann sind sie schneller?"
            ],
            "metadata": {
                "azdata_cell_guid": "922283b6-5d28-425c-baf1-91648bdbae80"
            }
        },
        {
            "cell_type": "markdown",
            "source": [
                "**Inhalt dieses Notebooks ist:**\n",
                "\n",
                "- Setup & Demo‑Daten\n",
                "- Logische Auswertungsreihenfolge (SELECT)\n",
                "- `TOP` – Grundsyntax & deterministische Sortierung\n",
                "- `WITH TIES` – Grenzwerte korrekt behandeln\n",
                "- `TOP (… ) PERCENT` – Risiken & Rundung\n",
                "- `OFFSET … FETCH` – Pagination Grundlagen\n",
                "- Stabile Sortierung mit Tiebreaker\n",
                "- Keyset (Seek)‑Pagination als Alternative\n",
                "- Limitierung vs Pagination – Gegenüberstellung\n",
                "- Query Optimizer/Analyzer & Ausführungsplan\n",
                "- Typische Fallstricke\n",
                "- Best Practices & Performance\n",
                "- Übungen\n",
                "- Lösungen\n",
                "- Querverweise\n",
                "- Cleanup (optional)"
            ],
            "metadata": {
                "azdata_cell_guid": "7f79d72c-ce3f-4b3a-8dfc-cecd52acf051"
            }
        },
        {
            "cell_type": "markdown",
            "source": [
                "Hinweis: Dieses Notebook nutzt einen **SQL‑Kernel**. **Alle Codezellen enthalten T‑SQL** (SQL Server)."
            ],
            "metadata": {
                "azdata_cell_guid": "b28dd960-e181-4322-9b4e-5715c84bef3b"
            }
        },
        {
            "cell_type": "markdown",
            "source": [
                "## Setup & Demo‑Daten\n",
                "Wir verwenden eine Beispiel‑Datenbank **BITest** und eine Tabelle **dbo.SalesOrders** mit Beträgen und absichtlichen **Ties** (gleiche `Amount`) zur Demonstration stabiler Sortierung und Pagination."
            ],
            "metadata": {
                "azdata_cell_guid": "02ed25af-0341-42fd-871a-b696be151b08"
            }
        },
        {
            "cell_type": "code",
            "source": [
                "IF DB_ID(N'BITest') IS NULL\n",
                "BEGIN\n",
                "    CREATE DATABASE BITest;\n",
                "END;\n",
                "GO\n",
                "USE [BITest];\n",
                "GO\n",
                "IF OBJECT_ID(N'dbo.SalesOrders','U') IS NOT NULL DROP TABLE dbo.SalesOrders;\n",
                "CREATE TABLE dbo.SalesOrders\n",
                "(\n",
                "  SalesOrderID int IDENTITY(1,1) CONSTRAINT PK_SalesOrders PRIMARY KEY,\n",
                "  OrderDate    date        NOT NULL,\n",
                "  CustomerID   int         NOT NULL,\n",
                "  Region       nvarchar(10) NOT NULL,\n",
                "  Amount       decimal(10,2) NOT NULL\n",
                ");\n",
                "INSERT INTO dbo.SalesOrders (OrderDate, CustomerID, Region, Amount) VALUES\n",
                "('2025-01-05',101,N'West',  49.99),\n",
                "('2025-01-06',102,N'West',  99.99),\n",
                "('2025-01-07',103,N'West',  99.99),\n",
                "('2025-01-08',104,N'Nord', 199.00),\n",
                "('2025-01-09',105,N'Nord', 199.00),\n",
                "('2025-01-10',106,N'Nord', 199.00),\n",
                "('2025-01-11',107,N'Nord', 199.00),\n",
                "('2025-01-12',108,N'Ost',  299.00),\n",
                "('2025-01-13',109,N'Ost',  299.00),\n",
                "('2025-01-14',110,N'Ost',  299.00),\n",
                "('2025-01-15',111,N'Sued',  79.00),\n",
                "('2025-01-16',112,N'Sued',  79.00),\n",
                "('2025-01-17',113,N'Sued',  79.00),\n",
                "('2025-02-01',114,N'West',  49.99),\n",
                "('2025-02-02',115,N'West',  49.99),\n",
                "('2025-02-03',116,N'West',  49.99),\n",
                "('2025-02-04',117,N'West', 499.00),\n",
                "('2025-02-05',118,N'Nord', 499.00),\n",
                "('2025-02-06',119,N'Ost',  499.00),\n",
                "('2025-02-07',120,N'Sued', 499.00),\n",
                "('2025-02-08',121,N'West', 149.00),\n",
                "('2025-02-09',122,N'Nord', 149.00),\n",
                "('2025-02-10',123,N'Ost',  149.00),\n",
                "('2025-02-11',124,N'Sued', 149.00);\n",
                "\n",
                "-- Hilfsindex unterstützt Sortierung & Seek-Pagination\n",
                "CREATE INDEX IX_SalesOrders_Amount_ID ON dbo.SalesOrders(Amount DESC, SalesOrderID ASC);"
            ],
            "metadata": {
                "azdata_cell_guid": "5f29a18e-d971-43e1-92c5-7048c1b666c1",
                "language": "sql"
            },
            "outputs": [],
            "execution_count": null
        },
        {
            "cell_type": "markdown",
            "source": [
                "### Daten sichten"
            ],
            "metadata": {
                "azdata_cell_guid": "3e47454b-899e-4db5-ba74-b6913a7cfc7d"
            }
        },
        {
            "cell_type": "code",
            "source": [
                "USE [BITest];\n",
                "SELECT TOP (10) *\n",
                "FROM dbo.SalesOrders\n",
                "ORDER BY SalesOrderID;"
            ],
            "metadata": {
                "azdata_cell_guid": "c03e1ca1-96f4-4155-ad44-3079e491a11f",
                "language": "sql"
            },
            "outputs": [],
            "execution_count": null
        },
        {
            "cell_type": "markdown",
            "source": [
                "## Logische Auswertungsreihenfolge\n",
                "1. FROM / JOIN\n",
                "2. WHERE\n",
                "3. GROUP BY\n",
                "4. HAVING\n",
                "5. SELECT\n",
                "6. ORDER BY (optional, **für deterministische Ausgabe und für OFFSET/FETCH erforderlich**)\n",
                "\n",
                "`TOP` wird nach der Sortierung angewandt (physisch via **Top/Top N Sort**). Ohne `ORDER BY` ist die Auswahl **nicht deterministisch**."
            ],
            "metadata": {
                "azdata_cell_guid": "0c409ee5-7f47-4de3-8abf-356806cd7bab"
            }
        },
        {
            "cell_type": "markdown",
            "source": [
                "## `TOP` – Grundsyntax & deterministische Sortierung"
            ],
            "metadata": {
                "azdata_cell_guid": "790b7e1d-1f6c-4c34-9162-bbd174156517"
            }
        },
        {
            "cell_type": "markdown",
            "source": [
                "*Fragestellung:* Wie hole ich die 5 höchsten Beträge reproduzierbar?"
            ],
            "metadata": {
                "azdata_cell_guid": "0e63ae54-60ea-4ab0-9733-4867b40eeb77"
            }
        },
        {
            "cell_type": "code",
            "source": [
                "USE [BITest];\n",
                "SELECT TOP (5) SalesOrderID, Amount, OrderDate\n",
                "FROM dbo.SalesOrders\n",
                "ORDER BY Amount DESC, SalesOrderID ASC;  -- Tiebreaker für stabile Reihenfolge"
            ],
            "metadata": {
                "azdata_cell_guid": "b1c94e20-9312-4fcb-a0a2-28433cc82f41",
                "language": "sql"
            },
            "outputs": [],
            "execution_count": null
        },
        {
            "cell_type": "markdown",
            "source": [
                "## `WITH TIES` – Grenzwerte korrekt behandeln"
            ],
            "metadata": {
                "azdata_cell_guid": "dd8a20a6-6939-4ecb-a8be-7c3f5e05cb69"
            }
        },
        {
            "cell_type": "markdown",
            "source": [
                "*Fragestellung:* Wie nehme ich **alle** Zeilen mit, die am Cut‑off denselben Sortwert haben?"
            ],
            "metadata": {
                "azdata_cell_guid": "df8bd9aa-0580-4810-9193-7c711df74c49"
            }
        },
        {
            "cell_type": "code",
            "source": [
                "USE [BITest];\n",
                "-- Liefert mindestens 5 Zeilen; bei Gleichstand mehr (alle mit dem 5.-größten Amount)\n",
                "SELECT TOP (5) WITH TIES SalesOrderID, Amount, OrderDate\n",
                "FROM dbo.SalesOrders\n",
                "ORDER BY Amount DESC;  -- Ties werden am letzten Sortwert festgemacht"
            ],
            "metadata": {
                "azdata_cell_guid": "0b385b9c-0d6f-45e7-b047-59931a4d5d40",
                "language": "sql"
            },
            "outputs": [],
            "execution_count": null
        },
        {
            "cell_type": "markdown",
            "source": [
                "## `TOP (… ) PERCENT` – Risiken & Rundung"
            ],
            "metadata": {
                "azdata_cell_guid": "14aa1c39-4064-4324-8ca0-56c3c8518073"
            }
        },
        {
            "cell_type": "markdown",
            "source": [
                "*Fragestellung:* Was bewirkt `TOP PERCENT` und warum ist es oft ungeeignet?"
            ],
            "metadata": {
                "azdata_cell_guid": "a5d09c06-291c-466f-8878-8d0bba86d281"
            }
        },
        {
            "cell_type": "code",
            "source": [
                "USE [BITest];\n",
                "-- Prozentangaben werden auf ganze Zeilen gerundet; Ergebnisgröße hängt von Gesamtanzahl ab\n",
                "SELECT TOP (10) PERCENT SalesOrderID, Amount\n",
                "FROM dbo.SalesOrders\n",
                "ORDER BY Amount DESC, SalesOrderID ASC;"
            ],
            "metadata": {
                "azdata_cell_guid": "03bfb0b3-abb1-4d4e-b25a-078a98067b46",
                "language": "sql"
            },
            "outputs": [],
            "execution_count": null
        },
        {
            "cell_type": "markdown",
            "source": [
                "## `OFFSET … FETCH` – Pagination Grundlagen"
            ],
            "metadata": {
                "azdata_cell_guid": "d744af8e-8a95-4b00-a7d9-86d64f0b6169"
            }
        },
        {
            "cell_type": "markdown",
            "source": [
                "*Fragestellung:* Wie blättere ich seitenweise – Seite 1 mit 5 Zeilen? (ORDER BY ist Pflicht)"
            ],
            "metadata": {
                "azdata_cell_guid": "5773ca59-698b-478a-a771-248b004b259e"
            }
        },
        {
            "cell_type": "code",
            "source": [
                "USE [BITest];\n",
                "-- Seite 1 (0-basiert): OFFSET 0, FETCH 5\n",
                "SELECT SalesOrderID, Amount, OrderDate\n",
                "FROM dbo.SalesOrders\n",
                "ORDER BY Amount DESC, SalesOrderID ASC\n",
                "OFFSET 0 ROWS FETCH NEXT 5 ROWS ONLY;"
            ],
            "metadata": {
                "azdata_cell_guid": "0a0e665d-8358-46f0-8398-1a876701a7e8",
                "language": "sql"
            },
            "outputs": [],
            "execution_count": null
        },
        {
            "cell_type": "markdown",
            "source": [
                "## Stabile Sortierung mit Tiebreaker"
            ],
            "metadata": {
                "azdata_cell_guid": "78d7254b-f3de-4fe8-ae72-df8e4f7cf3b2"
            }
        },
        {
            "cell_type": "markdown",
            "source": [
                "*Fragestellung:* Wie vermeide ich Duplikate/Lücken zwischen Seiten bei Gleichständen?"
            ],
            "metadata": {
                "azdata_cell_guid": "a7b8a6f5-6ed3-4c1b-8e87-6cf0d56274fc"
            }
        },
        {
            "cell_type": "code",
            "source": [
                "USE [BITest];\n",
                "-- Seite 2: dieselbe Sortierung + eindeutiger Tiebreaker (SalesOrderID)\n",
                "SELECT SalesOrderID, Amount, OrderDate\n",
                "FROM dbo.SalesOrders\n",
                "ORDER BY Amount DESC, SalesOrderID ASC\n",
                "OFFSET 5 ROWS FETCH NEXT 5 ROWS ONLY;"
            ],
            "metadata": {
                "azdata_cell_guid": "d91dde08-4211-4790-8e57-16a213df7fbb",
                "language": "sql"
            },
            "outputs": [],
            "execution_count": null
        },
        {
            "cell_type": "markdown",
            "source": [
                "## Keyset (Seek)‑Pagination als Alternative"
            ],
            "metadata": {
                "azdata_cell_guid": "af1be75f-2b51-4bcc-9388-27b6e84d71a7"
            }
        },
        {
            "cell_type": "markdown",
            "source": [
                "*Fragestellung:* Wie lade ich **die nächsten 5** nach dem letzten Eintrag effizient (ohne große Offsets)?"
            ],
            "metadata": {
                "azdata_cell_guid": "e8ca29c6-9631-4c2e-9587-5da13c8c1bab"
            }
        },
        {
            "cell_type": "code",
            "source": [
                "USE [BITest];\n",
                "DECLARE @afterAmount decimal(10,2) = 299.00;\n",
                "DECLARE @afterID     int           = 10;\n",
                "SELECT TOP (5) SalesOrderID, Amount, OrderDate\n",
                "FROM dbo.SalesOrders\n",
                "WHERE (Amount < @afterAmount)\n",
                "   OR (Amount = @afterAmount AND SalesOrderID > @afterID)\n",
                "ORDER BY Amount DESC, SalesOrderID ASC;"
            ],
            "metadata": {
                "azdata_cell_guid": "40d33ec9-508a-43d9-9211-74a9c72b8cef",
                "language": "sql"
            },
            "outputs": [],
            "execution_count": null
        },
        {
            "cell_type": "markdown",
            "source": [
                "## Limitierung vs Pagination – Gegenüberstellung"
            ],
            "metadata": {
                "azdata_cell_guid": "e9b9aa87-d82a-4ddd-8192-8159cce47420"
            }
        },
        {
            "cell_type": "markdown",
            "source": [
                "*Fragestellung:* Worin unterscheiden sich `TOP` und `OFFSET/FETCH` praktisch?"
            ],
            "metadata": {
                "azdata_cell_guid": "fc09626c-ff3d-41e4-8223-86cf8297ee6d"
            }
        },
        {
            "cell_type": "code",
            "source": [
                "USE [BITest];\n",
                "-- Limitierung: exakt die ersten 5 (nach Sortierung)\n",
                "SELECT TOP (5) SalesOrderID, Amount\n",
                "FROM dbo.SalesOrders\n",
                "ORDER BY Amount DESC, SalesOrderID;\n",
                "\n",
                "-- Pagination: beliebige Seite (hier Seite 3 à 5 Zeilen)\n",
                "SELECT SalesOrderID, Amount\n",
                "FROM dbo.SalesOrders\n",
                "ORDER BY Amount DESC, SalesOrderID\n",
                "OFFSET 10 ROWS FETCH NEXT 5 ROWS ONLY;"
            ],
            "metadata": {
                "azdata_cell_guid": "1cd0fcd0-930a-4219-a38d-fa7862cd49e3",
                "language": "sql"
            },
            "outputs": [],
            "execution_count": null
        },
        {
            "cell_type": "markdown",
            "source": [
                "## Query Optimizer/Analyzer & Ausführungsplan\n",
                "**Pipeline:** Parsing → Binder → Optimizer → Plan‑Cache → Executor\n",
                "\n",
                "**Typische Operatoren & Effekte:**\n",
                "- **Top** / **Top N Sort**: sortiert und schneidet auf N; bei passendem Index oft **Index Seek + Top** ohne Sort.\n",
                "- **Sort**: teuer bei großen Daten; `OFFSET` erhöht die Kosten linear mit der Übersprungen‑Menge.\n",
                "- **Parallelism**: Sort/Top können parallelisiert werden; Final Merge erforderlich.\n",
                "- **Memory Grants**: Sort/Top N Sort benötigen Speicher; Ties können N > erwartet machen.\n",
                "\n",
                "**Erwartete Pläne (sprachlich):**\n",
                "- `TOP` mit geeignetem Index → `Index Seek` → `Top`.\n",
                "- `OFFSET/FETCH` → meist `Sort` + `Top` (mit Offset) oder Seek‑Pattern bei Keyset‑Pagination.\n",
                "\n",
                "**Snippets (nicht ausführen):**\n",
                "```sql\n",
                "SET SHOWPLAN_XML ON;\n",
                "SELECT TOP (5) * FROM dbo.SalesOrders ORDER BY Amount DESC, SalesOrderID;\n",
                "SET SHOWPLAN_XML OFF;\n",
                "\n",
                "SET STATISTICS IO, TIME ON;\n",
                "SELECT SalesOrderID FROM dbo.SalesOrders ORDER BY Amount DESC, SalesOrderID OFFSET 50000 ROWS FETCH NEXT 50 ROWS ONLY;\n",
                "SET STATISTICS IO, TIME OFF;\n",
                "```"
            ],
            "metadata": {
                "azdata_cell_guid": "44ad7e02-405d-45a4-9fe9-8059b7d0b576"
            }
        },
        {
            "cell_type": "code",
            "source": [
                "USE [BITest];\n",
                "-- Messbeispiel 1: Top N\n",
                "SELECT TOP (5) SalesOrderID, Amount\n",
                "FROM dbo.SalesOrders\n",
                "ORDER BY Amount DESC, SalesOrderID;\n",
                "\n",
                "-- Messbeispiel 2: OFFSET/FETCH\n",
                "SELECT SalesOrderID, Amount\n",
                "FROM dbo.SalesOrders\n",
                "ORDER BY Amount DESC, SalesOrderID\n",
                "OFFSET 5 ROWS FETCH NEXT 5 ROWS ONLY;"
            ],
            "metadata": {
                "azdata_cell_guid": "b7f6324c-d37f-4c32-9c5a-d6600a1e342f",
                "language": "sql"
            },
            "outputs": [],
            "execution_count": null
        },
        {
            "cell_type": "markdown",
            "source": [
                "## Typische Fallstricke"
            ],
            "metadata": {
                "azdata_cell_guid": "de5695dc-cb0d-44e4-9919-c7ec63d2f33a"
            }
        },
        {
            "cell_type": "markdown",
            "source": [
                "**Fall 1 – `TOP` ohne `ORDER BY` ist nicht deterministisch**\n",
                "*Fragestellung:* Warum erhalte ich wechselnde Zeilen?"
            ],
            "metadata": {
                "azdata_cell_guid": "7d1e799c-6b26-4ca8-ba8a-0073a581b606"
            }
        },
        {
            "cell_type": "code",
            "source": [
                "USE [BITest];\n",
                "-- Fehlerhaft / heikel (keine definierte Reihenfolge)\n",
                "SELECT TOP (5) SalesOrderID, Amount FROM dbo.SalesOrders;"
            ],
            "metadata": {
                "azdata_cell_guid": "0de40d86-3759-4713-a760-05f516dfce0a",
                "language": "sql"
            },
            "outputs": [],
            "execution_count": null
        },
        {
            "cell_type": "code",
            "source": [
                "USE [BITest];\n",
                "-- Korrektur: explizite Sortierung + Tiebreaker\n",
                "SELECT TOP (5) SalesOrderID, Amount\n",
                "FROM dbo.SalesOrders\n",
                "ORDER BY Amount DESC, SalesOrderID ASC;"
            ],
            "metadata": {
                "azdata_cell_guid": "b56e7788-03f4-4b4a-87b5-f84bca8a911e",
                "language": "sql"
            },
            "outputs": [],
            "execution_count": null
        },
        {
            "cell_type": "markdown",
            "source": [
                "**Fall 2 – `OFFSET/FETCH` ohne `ORDER BY`**\n",
                "*Fragestellung:* Warum kompiliert das nicht?"
            ],
            "metadata": {
                "azdata_cell_guid": "5f39ebfd-d4e5-4f19-b6d2-4fdd349343cd"
            }
        },
        {
            "cell_type": "code",
            "source": [
                "USE [BITest];\n",
                "-- Fehlerhaft: ORDER BY ist Pflicht für OFFSET/FETCH\n",
                "-- SELECT SalesOrderID FROM dbo.SalesOrders OFFSET 0 ROWS FETCH NEXT 5 ROWS ONLY;"
            ],
            "metadata": {
                "azdata_cell_guid": "6cdf1cb5-21f3-4435-be22-13a24c343208",
                "language": "sql"
            },
            "outputs": [],
            "execution_count": null
        },
        {
            "cell_type": "markdown",
            "source": [
                "**Fall 3 – Nichtstabile Sortierung**\n",
                "*Fragestellung:* Warum tauchen zwischen Seite 1 und 2 Duplikate/Lücken auf?"
            ],
            "metadata": {
                "azdata_cell_guid": "5f4cb6e8-5ae5-41c6-ac96-4767db8a92c2"
            }
        },
        {
            "cell_type": "code",
            "source": [
                "USE [BITest];\n",
                "-- Fehlerhaft: kein eindeutiger Tiebreaker\n",
                "SELECT SalesOrderID, Amount\n",
                "FROM dbo.SalesOrders\n",
                "ORDER BY Amount DESC\n",
                "OFFSET 0 ROWS FETCH NEXT 5 ROWS ONLY;\n",
                "\n",
                "-- Korrektur: Tiebreaker hinzufügen\n",
                "SELECT SalesOrderID, Amount\n",
                "FROM dbo.SalesOrders\n",
                "ORDER BY Amount DESC, SalesOrderID ASC\n",
                "OFFSET 0 ROWS FETCH NEXT 5 ROWS ONLY;"
            ],
            "metadata": {
                "azdata_cell_guid": "2c29542c-3a0f-4ebf-b7fd-546641851f0b",
                "language": "sql"
            },
            "outputs": [],
            "execution_count": null
        },
        {
            "cell_type": "markdown",
            "source": [
                "**Fall 4 – `SET ROWCOUNT` für SELECT**\n",
                "*Fragestellung:* Warum ist das ungünstig und für DML riskant?"
            ],
            "metadata": {
                "azdata_cell_guid": "70965576-5767-4af3-a998-a373c11f5963"
            }
        },
        {
            "cell_type": "code",
            "source": [
                "USE [BITest];\n",
                "-- Fehleranfällig: beeinflusst auch DML, veraltet für DML\n",
                "SET ROWCOUNT 5;\n",
                "SELECT SalesOrderID, Amount FROM dbo.SalesOrders ORDER BY Amount DESC, SalesOrderID;\n",
                "SET ROWCOUNT 0;\n",
                "\n",
                "-- Besser: explizites TOP/OFFSET in der Abfrage verwenden"
            ],
            "metadata": {
                "azdata_cell_guid": "9d30a0f9-1f40-4045-bedb-ca3779953587",
                "language": "sql"
            },
            "outputs": [],
            "execution_count": null
        },
        {
            "cell_type": "markdown",
            "source": [
                "**Fall 5 – Große Offsets sind langsam**\n",
                "*Fragestellung:* Warum wird Seite 200 (OFFSET 995) langsam?"
            ],
            "metadata": {
                "azdata_cell_guid": "0e52ebc1-a969-49a2-9ab6-42c685dab462"
            }
        },
        {
            "cell_type": "code",
            "source": [
                "USE [BITest];\n",
                "-- Problematisch: Engine muss oft OFFSET Zeilen sortieren/überspringen\n",
                "SELECT SalesOrderID, Amount\n",
                "FROM dbo.SalesOrders\n",
                "ORDER BY Amount DESC, SalesOrderID\n",
                "OFFSET 995 ROWS FETCH NEXT 5 ROWS ONLY;\n",
                "\n",
                "-- Alternative: Keyset/Seek-Pagination (siehe oben)"
            ],
            "metadata": {
                "azdata_cell_guid": "80158b0b-1317-4069-823b-3f1ce1fe37ed",
                "language": "sql"
            },
            "outputs": [],
            "execution_count": null
        },
        {
            "cell_type": "markdown",
            "source": [
                "## Best Practices & Performance\n",
                "- **Immer** mit `ORDER BY` arbeiten; für Stabilität **eindeutigen Tiebreaker** ergänzen (z. B. `(Sortschlüssel, PK)`).\n",
                "- `WITH TIES` nutzen, wenn alle Grenzwerte einbezogen werden sollen.\n",
                "- `TOP PERCENT` vermeiden (schlecht steuerbar, rundet auf Zeilen).\n",
                "- Für große Seitenzahlen: **Keyset/Seek‑Pagination** statt großer Offsets.\n",
                "- Passende **Indizes** in Sortreihenfolge (z. B. `Amount DESC, SalesOrderID ASC`) vermeiden Sort‑Kosten.\n",
                "- Messbar machen mit **STATISTICS IO/TIME** und Ausführungsplänen (Top/Sort/Memory Grant beobachten)."
            ],
            "metadata": {
                "azdata_cell_guid": "9debcaee-3406-421d-8cf4-ee82dd6ad2a3"
            }
        },
        {
            "cell_type": "markdown",
            "source": [
                "## Übungen\n",
                "1. Ermitteln Sie die **Top 5** Aufträge nach `Amount` (stabil sortiert).\n",
                "2. Geben Sie **Seite 3** mit **5 Zeilen/Seite** per `OFFSET/FETCH` aus (stabile Sortierung).\n",
                "3. Implementieren Sie eine **Keyset‑Pagination**: Laden Sie die nächsten 5 nach (`@afterAmount=199.00`, `@afterID=11`).\n",
                "4. Zeigen Sie die **Top 10 %** nach `Amount` und diskutieren Sie die Auswirkung auf die Zeilenzahl.\n",
                "5. Zeigen Sie mit `WITH TIES`, dass alle Zeilen am Grenzwert einbezogen werden."
            ],
            "metadata": {
                "azdata_cell_guid": "c9513a53-7e89-48f9-b66e-e46ef77f3ef9"
            }
        },
        {
            "cell_type": "code",
            "source": [
                "-- Lösung zu Frage 1: Top 5 stabil sortiert\n",
                "USE [BITest];\n",
                "SELECT TOP (5) SalesOrderID, Amount, OrderDate\n",
                "FROM dbo.SalesOrders\n",
                "ORDER BY Amount DESC, SalesOrderID ASC;"
            ],
            "metadata": {
                "azdata_cell_guid": "f67e9a54-4f7a-4e03-bb4b-462d7810e3db",
                "language": "sql"
            },
            "outputs": [],
            "execution_count": null
        },
        {
            "cell_type": "code",
            "source": [
                "-- Lösung zu Frage 2: Seite 3 à 5 Zeilen (OFFSET 10)\n",
                "USE [BITest];\n",
                "SELECT SalesOrderID, Amount, OrderDate\n",
                "FROM dbo.SalesOrders\n",
                "ORDER BY Amount DESC, SalesOrderID ASC\n",
                "OFFSET 10 ROWS FETCH NEXT 5 ROWS ONLY;"
            ],
            "metadata": {
                "azdata_cell_guid": "5dd28905-2385-4c9a-997c-004fff50a940",
                "language": "sql"
            },
            "outputs": [],
            "execution_count": null
        },
        {
            "cell_type": "code",
            "source": [
                "-- Lösung zu Frage 3: Keyset-Pagination ab (199.00, ID 11)\n",
                "USE [BITest];\n",
                "DECLARE @afterAmount decimal(10,2) = 199.00;\n",
                "DECLARE @afterID     int           = 11;\n",
                "SELECT TOP (5) SalesOrderID, Amount, OrderDate\n",
                "FROM dbo.SalesOrders\n",
                "WHERE (Amount < @afterAmount)\n",
                "   OR (Amount = @afterAmount AND SalesOrderID > @afterID)\n",
                "ORDER BY Amount DESC, SalesOrderID ASC;"
            ],
            "metadata": {
                "azdata_cell_guid": "3ccabb58-c1f8-4de0-83fd-35ba3d660a59",
                "language": "sql"
            },
            "outputs": [],
            "execution_count": null
        },
        {
            "cell_type": "code",
            "source": [
                "-- Lösung zu Frage 4: Top 10 Prozent (mit Rundung)\n",
                "USE [BITest];\n",
                "SELECT TOP (10) PERCENT SalesOrderID, Amount\n",
                "FROM dbo.SalesOrders\n",
                "ORDER BY Amount DESC, SalesOrderID ASC;"
            ],
            "metadata": {
                "azdata_cell_guid": "c1e99d8d-4d83-450c-903c-45ec629fba72",
                "language": "sql"
            },
            "outputs": [],
            "execution_count": null
        },
        {
            "cell_type": "code",
            "source": [
                "-- Lösung zu Frage 5: WITH TIES am Grenzwert\n",
                "USE [BITest];\n",
                "SELECT TOP (5) WITH TIES SalesOrderID, Amount, OrderDate\n",
                "FROM dbo.SalesOrders\n",
                "ORDER BY Amount DESC;"
            ],
            "metadata": {
                "azdata_cell_guid": "66649896-fd9b-4b02-8715-a2393cc7db4c",
                "language": "sql"
            },
            "outputs": [],
            "execution_count": null
        },
        {
            "cell_type": "markdown",
            "source": [
                "## Querverweise\n",
                "- Querverweis: 05_Funktionen\\Aggregatfunktionen & Textaggrega...& verdichten, Distinct-Aggregate, Textlisten stabil sortieren.\n",
                "- Querverweis: 03_JOIN\\APPLY (CROSS/OUTER) – Lateral Joins — ...uster wie JSON/XML-Parsing, Top-N-pro-Gruppe, „per row Top 1“.\n",
                "- Querverweis: 03_JOIN\\Joins mit JSON/XML/TVFs — > **Kurzbesc...OPENJSON`, `CROSS APPLY … nodes()` und Table-Valued Functions.\n",
                "- Querverweis: 06_Delete\\`DELETE … FROM` (Join-Delete) — Lösc...le (Join/CTE) – Duplikate und Eindeutigkeit korrekt behandeln.\n",
                "- Querverweis: 04_Where\\`WHERE` vs. `ON` bei JOINs — Untersch...um `WHERE` einen `LEFT JOIN` faktisch zum `INNER` machen kann."
            ],
            "metadata": {
                "azdata_cell_guid": "93ce6cf9-9cca-4f23-a901-fcdcf10e5519"
            }
        },
        {
            "cell_type": "code",
            "source": [
                "USE [master];\n",
                "IF DB_ID(N'BITest') IS NOT NULL\n",
                "BEGIN\n",
                "    ALTER DATABASE BITest SET SINGLE_USER WITH ROLLBACK IMMEDIATE;\n",
                "    DROP DATABASE BITest;\n",
                "END;"
            ],
            "metadata": {
                "azdata_cell_guid": "257a17cb-bc27-4459-a31a-bd6af3cb9fb0",
                "language": "sql"
            },
            "outputs": [],
            "execution_count": null
        }
    ]
}