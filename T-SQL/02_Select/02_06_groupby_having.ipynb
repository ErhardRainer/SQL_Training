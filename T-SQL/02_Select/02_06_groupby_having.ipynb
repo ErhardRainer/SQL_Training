{
    "metadata": {
        "kernelspec": {
            "name": "SQL",
            "display_name": "SQL",
            "language": "sql"
        },
        "language_info": {
            "name": "sql",
            "version": ""
        },
        "title": "T-SQL SELECT – Aggregation mit GROUP BY & HAVING"
    },
    "nbformat_minor": 2,
    "nbformat": 4,
    "cells": [
        {
            "cell_type": "markdown",
            "source": [
                "# T-SQL SELECT – Aggregation mit GROUP BY & HAVING\n",
                "\n",
                "**Themengebiet:** SELECT\n",
                "\n",
                "**Kapitel:** Aggregation mit GROUP BY & HAVING\n",
                "\n",
                "**Kurzbeschreibung:** Klassische Aggregation, Filterung nach Aggregaten und typische Fehlerquellen. **Kurz & knapp** – für Details gibt es ein eigenes, erweitertes Kapitel.\n",
                "\n",
                "**Stand:** 6. September 2025"
            ],
            "metadata": {
                "azdata_cell_guid": "0b9516c8-f2dc-4dfe-9a09-02f30393d099"
            }
        },
        {
            "cell_type": "markdown",
            "source": [
                "Dieses kompakte Notebook behandelt das **Wesentliche** zu Aggregation mit `GROUP BY` und Gruppenfilterung mit `HAVING` in T‑SQL. Ideal als Schnellreferenz."
            ],
            "metadata": {
                "azdata_cell_guid": "a8805aa5-cc7a-4004-a037-41cefda011a7"
            }
        },
        {
            "cell_type": "markdown",
            "source": [
                "**Inhalt dieses Notebooks ist:**\n",
                "\n",
                "- Setup & Demo‑Daten\n",
                "- Logische Auswertungsreihenfolge\n",
                "- GROUP BY – Grundsyntax\n",
                "- Mehrfach gruppieren\n",
                "- Gruppieren über Ausdrücke\n",
                "- Aggregatfunktionen & NULL‑Semantik\n",
                "- WHERE vs HAVING (zwei Beispiele)\n",
                "- DISTINCT & bedingte Aggregation\n",
                "- Window‑Funktionen vs GROUP BY\n",
                "- Optional: ROLLUP/GROUPING SETS\n",
                "- Query Optimizer/Analyzer & Ausführungsplan\n",
                "- Typische Fallstricke (kurz)\n",
                "- Best Practices\n",
                "- Übungen & Lösungen\n",
                "- Querverweise\n",
                "- Cleanup (optional)"
            ],
            "metadata": {
                "azdata_cell_guid": "74206b35-c188-4fda-8039-0d8f07c64ca1"
            }
        },
        {
            "cell_type": "markdown",
            "source": [
                "Hinweis: Dieses Notebook nutzt einen **SQL‑Kernel**. **Alle Codezellen enthalten T‑SQL** (SQL Server)."
            ],
            "metadata": {
                "azdata_cell_guid": "a0d2f87d-8470-4f4a-9f43-40179a7a276f"
            }
        },
        {
            "cell_type": "markdown",
            "source": [
                "## Setup & Demo‑Daten\n",
                "Wir verwenden die Beispiel‑Datenbank **BITest** und **dbo.SalesOrders**."
            ],
            "metadata": {
                "azdata_cell_guid": "b0a8189d-0799-4834-a68f-a0e16690c9d3"
            }
        },
        {
            "cell_type": "code",
            "source": [
                "IF DB_ID(N'BITest') IS NULL\n",
                "BEGIN\n",
                "    CREATE DATABASE BITest;\n",
                "END;\n",
                "GO\n",
                "USE [BITest];\n",
                "GO\n",
                "IF OBJECT_ID(N'dbo.SalesOrders','U') IS NOT NULL DROP TABLE dbo.SalesOrders;\n",
                "CREATE TABLE dbo.SalesOrders\n",
                "(\n",
                "  SalesOrderID int IDENTITY(1,1) PRIMARY KEY,\n",
                "  OrderDate    date NOT NULL,\n",
                "  Region       nvarchar(20) NOT NULL,\n",
                "  Category     nvarchar(20) NOT NULL,\n",
                "  CustomerID   int NOT NULL,\n",
                "  Quantity     int NOT NULL,\n",
                "  UnitPrice    decimal(10,2) NOT NULL,\n",
                "  Discount     decimal(4,2) NULL\n",
                ");\n",
                "INSERT INTO dbo.SalesOrders (OrderDate,Region,Category,CustomerID,Quantity,UnitPrice,Discount) VALUES\n",
                "('2025-01-05',N'West',N'Hardware',101,3,19.99,0.10),\n",
                "('2025-01-05',N'West',N'Hardware',102,1,199.00,NULL),\n",
                "('2025-02-14',N'Nord',N'Software',103,5,49.50,0.00),\n",
                "('2025-03-01',N'Sued',N'Hardware',104,2,999.90,0.15),\n",
                "('2025-03-18',N'Ost', N'Hardware',105,10,5.00,0.05),\n",
                "('2025-04-02',N'West',N'Software',106,0,49.50,NULL),\n",
                "('2025-05-20',N'Nord',N'Hardware',107,7,12.30,NULL);"
            ],
            "metadata": {
                "azdata_cell_guid": "fe22a27f-b1cc-4268-9f20-5b2f051c0519",
                "language": "sql"
            },
            "outputs": [],
            "execution_count": null
        },
        {
            "cell_type": "markdown",
            "source": [
                "### Daten sichten"
            ],
            "metadata": {
                "azdata_cell_guid": "cc087e10-a978-4b05-98f5-babfbd5b6ea8"
            }
        },
        {
            "cell_type": "code",
            "source": [
                "USE [BITest];\n",
                "SELECT TOP (10) * FROM dbo.SalesOrders ORDER BY SalesOrderID;"
            ],
            "metadata": {
                "azdata_cell_guid": "148bf3d8-780f-4da3-a9fc-d703cefbfd7e",
                "language": "sql"
            },
            "outputs": [],
            "execution_count": null
        },
        {
            "cell_type": "markdown",
            "source": [
                "## Logische Auswertungsreihenfolge\n",
                "1. FROM / JOIN\n",
                "2. WHERE\n",
                "3. GROUP BY\n",
                "4. HAVING\n",
                "5. SELECT\n",
                "6. ORDER BY\n",
                "\n",
                "`HAVING` filtert **Gruppen**, `WHERE` filtert **Zeilen vor** der Gruppierung."
            ],
            "metadata": {
                "azdata_cell_guid": "bffe6329-e065-47a1-b036-bf4f5e50fe7c"
            }
        },
        {
            "cell_type": "markdown",
            "source": [
                "## GROUP BY – Grundsyntax"
            ],
            "metadata": {
                "azdata_cell_guid": "3eafbd4e-b1e3-488f-a084-5e01508f1eb1"
            }
        },
        {
            "cell_type": "markdown",
            "source": [
                "*Fragestellung:* Wie viele Zeilen pro Region?"
            ],
            "metadata": {
                "azdata_cell_guid": "31e1e233-3405-4401-af98-2d689e76409d"
            }
        },
        {
            "cell_type": "code",
            "source": [
                "USE [BITest];\n",
                "SELECT Region, COUNT(*) AS RowsPerRegion\n",
                "FROM dbo.SalesOrders\n",
                "GROUP BY Region\n",
                "ORDER BY Region;"
            ],
            "metadata": {
                "azdata_cell_guid": "358a70c9-495c-4af2-b4f9-8555ef5a94c1",
                "language": "sql"
            },
            "outputs": [],
            "execution_count": null
        },
        {
            "cell_type": "markdown",
            "source": [
                "## Mehrfach gruppieren (z. B. Region & Kategorie)"
            ],
            "metadata": {
                "azdata_cell_guid": "909e3093-0893-4479-9fac-803d2c8e4edf"
            }
        },
        {
            "cell_type": "markdown",
            "source": [
                "*Fragestellung:* Wie viele Zeilen je Region & Kategorie?"
            ],
            "metadata": {
                "azdata_cell_guid": "5c551a9a-2d86-4b11-a672-f1f5db401734"
            }
        },
        {
            "cell_type": "code",
            "source": [
                "USE [BITest];\n",
                "SELECT Region, Category, COUNT(*) AS RowsPerGroup\n",
                "FROM dbo.SalesOrders\n",
                "GROUP BY Region, Category\n",
                "ORDER BY Region, Category;"
            ],
            "metadata": {
                "azdata_cell_guid": "b0a80a32-b87f-4586-9cd1-53a97435fae5",
                "language": "sql"
            },
            "outputs": [],
            "execution_count": null
        },
        {
            "cell_type": "markdown",
            "source": [
                "## Gruppieren über Ausdrücke"
            ],
            "metadata": {
                "azdata_cell_guid": "cdd06623-9748-468b-86af-30a483cb8d02"
            }
        },
        {
            "cell_type": "markdown",
            "source": [
                "*Fragestellung:* Wie viele Bestellungen je Jahr?"
            ],
            "metadata": {
                "azdata_cell_guid": "3fc6d519-0333-4c99-97a1-31c09e22ea92"
            }
        },
        {
            "cell_type": "code",
            "source": [
                "USE [BITest];\n",
                "SELECT YEAR(OrderDate) AS OrderYear, COUNT(*) AS Cnt\n",
                "FROM dbo.SalesOrders\n",
                "GROUP BY YEAR(OrderDate)\n",
                "ORDER BY OrderYear;"
            ],
            "metadata": {
                "azdata_cell_guid": "6faea701-1370-4526-ad8f-a598e7d49a0b",
                "language": "sql"
            },
            "outputs": [],
            "execution_count": null
        },
        {
            "cell_type": "markdown",
            "source": [
                "## Aggregatfunktionen & NULL‑Semantik"
            ],
            "metadata": {
                "azdata_cell_guid": "1333410d-1346-44e3-9eda-4b00435f6339"
            }
        },
        {
            "cell_type": "markdown",
            "source": [
                "*Fragestellung:* Was zählt `COUNT(col)` bei `NULL`?"
            ],
            "metadata": {
                "azdata_cell_guid": "302ed71e-4334-4d84-9ff9-58113ea43a32"
            }
        },
        {
            "cell_type": "code",
            "source": [
                "USE [BITest];\n",
                "SELECT\n",
                "  COUNT(*)                         AS CntAll,\n",
                "  COUNT(Discount)                  AS CntDiscountNotNull,\n",
                "  SUM(Quantity)                    AS SumQty,\n",
                "  AVG(UnitPrice)                   AS AvgPrice,\n",
                "  MIN(UnitPrice)                   AS MinPrice,\n",
                "  MAX(UnitPrice)                   AS MaxPrice\n",
                "FROM dbo.SalesOrders;"
            ],
            "metadata": {
                "azdata_cell_guid": "3e82b91c-114d-49cc-acdd-22cefcae647a",
                "language": "sql"
            },
            "outputs": [],
            "execution_count": null
        },
        {
            "cell_type": "markdown",
            "source": [
                "## WHERE vs HAVING – Beispiel 1 (Zeilenfilter vor der Gruppierung)"
            ],
            "metadata": {
                "azdata_cell_guid": "2a6d1c93-efec-43a0-b3d0-2c8374ccd6d3"
            }
        },
        {
            "cell_type": "markdown",
            "source": [
                "*Fragestellung:* Nur `Hardware` zählen – Filter gehört in `WHERE`."
            ],
            "metadata": {
                "azdata_cell_guid": "7f7f75c7-5453-441f-a7ed-f851ce163c0d"
            }
        },
        {
            "cell_type": "code",
            "source": [
                "USE [BITest];\n",
                "SELECT Region, COUNT(*) AS CntHardware\n",
                "FROM dbo.SalesOrders\n",
                "WHERE Category = N'Hardware'\n",
                "GROUP BY Region\n",
                "ORDER BY Region;"
            ],
            "metadata": {
                "azdata_cell_guid": "3ef86f2f-5cc5-4c0c-914c-e374f94016fb",
                "language": "sql"
            },
            "outputs": [],
            "execution_count": null
        },
        {
            "cell_type": "markdown",
            "source": [
                "## WHERE vs HAVING – Beispiel 2 (Gruppenfilter nach Aggregation)"
            ],
            "metadata": {
                "azdata_cell_guid": "2a73dcb9-20cc-41d9-a8ee-01ca62280696"
            }
        },
        {
            "cell_type": "markdown",
            "source": [
                "*Fragestellung:* Nur Gruppen mit **mindestens 2** Zeilen behalten."
            ],
            "metadata": {
                "azdata_cell_guid": "8c1156c8-59b6-4187-af91-9bc9d350e933"
            }
        },
        {
            "cell_type": "code",
            "source": [
                "USE [BITest];\n",
                "SELECT Region, COUNT(*) AS Cnt\n",
                "FROM dbo.SalesOrders\n",
                "GROUP BY Region\n",
                "HAVING COUNT(*) >= 2\n",
                "ORDER BY Region;"
            ],
            "metadata": {
                "azdata_cell_guid": "89d5d6b7-6235-4931-b796-5930e46c36a5",
                "language": "sql"
            },
            "outputs": [],
            "execution_count": null
        },
        {
            "cell_type": "markdown",
            "source": [
                "## DISTINCT & bedingte Aggregation"
            ],
            "metadata": {
                "azdata_cell_guid": "1605f946-20f8-41b2-a418-7f6a8faf31c6"
            }
        },
        {
            "cell_type": "markdown",
            "source": [
                "*Fragestellung:* Unterschiedliche Kunden je Region und Hardware‑Anteil je Region?"
            ],
            "metadata": {
                "azdata_cell_guid": "832044b7-f3c2-4785-ab69-34643f50c872"
            }
        },
        {
            "cell_type": "code",
            "source": [
                "USE [BITest];\n",
                "SELECT Region,\n",
                "       COUNT(DISTINCT CustomerID) AS DistinctCustomers,\n",
                "       SUM(CASE WHEN Category = N'Hardware' THEN 1 ELSE 0 END) AS CntHardware\n",
                "FROM dbo.SalesOrders\n",
                "GROUP BY Region\n",
                "ORDER BY Region;"
            ],
            "metadata": {
                "azdata_cell_guid": "c3c4c224-c303-4356-8e6e-7f2e97d5bead",
                "language": "sql"
            },
            "outputs": [],
            "execution_count": null
        },
        {
            "cell_type": "markdown",
            "source": [
                "## Window‑Funktionen vs GROUP BY"
            ],
            "metadata": {
                "azdata_cell_guid": "6669450e-ac42-468a-ae13-2926cf4bd3e3"
            }
        },
        {
            "cell_type": "markdown",
            "source": [
                "*Fragestellung:* Pro Zeile den Regionsumsatz anzeigen **ohne** Zeilen zu verdichten."
            ],
            "metadata": {
                "azdata_cell_guid": "454635a6-bce4-46e4-95f5-d8aedd91dcfd"
            }
        },
        {
            "cell_type": "code",
            "source": [
                "USE [BITest];\n",
                "SELECT SalesOrderID, Region,\n",
                "       SUM(Quantity * UnitPrice) OVER (PARTITION BY Region) AS RegionRevenue\n",
                "FROM dbo.SalesOrders\n",
                "ORDER BY Region, SalesOrderID;"
            ],
            "metadata": {
                "azdata_cell_guid": "5e85441b-21c5-42b2-9a27-56a2406af853",
                "language": "sql"
            },
            "outputs": [],
            "execution_count": null
        },
        {
            "cell_type": "markdown",
            "source": [
                "## Optional: ROLLUP/GROUPING/GROUPING_ID/GROUPING SETS"
            ],
            "metadata": {
                "azdata_cell_guid": "d2a67000-34aa-476d-bc07-9f160e81bfb3"
            }
        },
        {
            "cell_type": "markdown",
            "source": [
                "*Fragestellung:* Ergänzend Regionssummen und Gesamtsumme in **einer** Abfrage."
            ],
            "metadata": {
                "azdata_cell_guid": "e7f60fe9-b434-4008-9c81-a79921356946"
            }
        },
        {
            "cell_type": "code",
            "source": [
                "USE [BITest];\n",
                "SELECT Region,\n",
                "       SUM(Quantity * UnitPrice) AS Revenue,\n",
                "       GROUPING(Region)          AS IsTotal,\n",
                "       GROUPING_ID(Region)       AS GroupingID\n",
                "FROM dbo.SalesOrders\n",
                "GROUP BY ROLLUP(Region)\n",
                "ORDER BY IsTotal, Region;"
            ],
            "metadata": {
                "azdata_cell_guid": "bee97d80-c272-49cc-99a5-4feb54cece19",
                "language": "sql"
            },
            "outputs": [],
            "execution_count": null
        },
        {
            "cell_type": "markdown",
            "source": [
                "## Query Optimizer/Analyzer & Ausführungsplan\n",
                "**Pipeline:** Parsing → Binder → Optimizer → Plan‑Cache → Executor\n",
                "\n",
                "**Operatoren:** Hash Match (Aggregate), Stream Aggregate, Sort, Parallelism, Memory Grants, Cardinality Estimator (CE)\n",
                "\n",
                "**Kurz erwarten:**\n",
                "- Gruppierung erzeugt **Hash Match (Aggregate)** (unsortiert) oder **Stream Aggregate** (vorsortiert).\n",
                "- `COUNT(DISTINCT ...)` kann **Sort** erfordern.\n",
                "- `HAVING` wird als **Filter** über der Aggregation implementiert.\n",
                "\n",
                "**Snippets (nicht ausführen):**\n",
                "```sql\n",
                "SET SHOWPLAN_XML ON;\n",
                "SELECT Region, COUNT(*) FROM dbo.SalesOrders GROUP BY Region;\n",
                "SET SHOWPLAN_XML OFF;\n",
                "\n",
                "SET STATISTICS IO, TIME ON;\n",
                "SELECT Region, COUNT(DISTINCT CustomerID) FROM dbo.SalesOrders GROUP BY Region;\n",
                "SET STATISTICS IO, TIME OFF;\n",
                "```"
            ],
            "metadata": {
                "azdata_cell_guid": "60c2344e-e5e2-4e0b-9f16-8bf1a8379b75"
            }
        },
        {
            "cell_type": "code",
            "source": [
                "USE [BITest];\n",
                "-- Messabfragen (Beispiel)\n",
                "SELECT Region, COUNT(*) AS Cnt\n",
                "FROM dbo.SalesOrders\n",
                "GROUP BY Region;\n",
                "\n",
                "SELECT Region, COUNT(DISTINCT CustomerID) AS DistinctCustomers\n",
                "FROM dbo.SalesOrders\n",
                "GROUP BY Region;"
            ],
            "metadata": {
                "azdata_cell_guid": "fadfb0bd-7d34-4cd4-b57a-635a0a5dae42",
                "language": "sql"
            },
            "outputs": [],
            "execution_count": null
        },
        {
            "cell_type": "markdown",
            "source": [
                "## Typische Fallstricke (kurz)"
            ],
            "metadata": {
                "azdata_cell_guid": "02346bbe-fe97-4d47-9da1-e9a7c6dc2b3b"
            }
        },
        {
            "cell_type": "markdown",
            "source": [
                "**Fall 1 – Fehlende `GROUP BY`‑Spalten**\n",
                "*Fragestellung:* Warum meldet SQL Server einen Fehler?"
            ],
            "metadata": {
                "azdata_cell_guid": "bd0a81b9-ea02-4bcd-9d1e-0656b48eb0e5"
            }
        },
        {
            "cell_type": "code",
            "source": [
                "USE [BITest];\n",
                "-- Fehlerhaft: Category nicht aggregiert und nicht in GROUP BY\n",
                "-- SELECT Region, Category, COUNT(*) FROM dbo.SalesOrders GROUP BY Region;"
            ],
            "metadata": {
                "azdata_cell_guid": "48478eb0-dbae-456d-9184-af46079131c3",
                "language": "sql"
            },
            "outputs": [],
            "execution_count": null
        },
        {
            "cell_type": "code",
            "source": [
                "USE [BITest];\n",
                "-- Korrekt:\n",
                "SELECT Region, Category, COUNT(*)\n",
                "FROM dbo.SalesOrders\n",
                "GROUP BY Region, Category;"
            ],
            "metadata": {
                "azdata_cell_guid": "1aa0c733-251a-40d4-9ea7-954ca49671c2",
                "language": "sql"
            },
            "outputs": [],
            "execution_count": null
        },
        {
            "cell_type": "markdown",
            "source": [
                "**Fall 2 – Aggregat in `WHERE`**\n",
                "*Fragestellung:* Warum funktioniert `WHERE COUNT(*) > 1` nicht?"
            ],
            "metadata": {
                "azdata_cell_guid": "a26bb8b0-51c8-4668-83d8-a731f94ce4d8"
            }
        },
        {
            "cell_type": "code",
            "source": [
                "USE [BITest];\n",
                "-- Fehlerhaft:\n",
                "-- SELECT Region FROM dbo.SalesOrders WHERE COUNT(*) > 1 GROUP BY Region;"
            ],
            "metadata": {
                "azdata_cell_guid": "88cc30ce-3c61-4e27-9004-4421860a8088",
                "language": "sql"
            },
            "outputs": [],
            "execution_count": null
        },
        {
            "cell_type": "code",
            "source": [
                "USE [BITest];\n",
                "-- Korrekt:\n",
                "SELECT Region FROM dbo.SalesOrders GROUP BY Region HAVING COUNT(*) > 1;"
            ],
            "metadata": {
                "azdata_cell_guid": "4cc446de-ea24-4c3e-afb4-90b047c5ae02",
                "language": "sql"
            },
            "outputs": [],
            "execution_count": null
        },
        {
            "cell_type": "markdown",
            "source": [
                "**Fall 3 – Alias in `HAVING`**\n",
                "*Fragestellung:* Warum ist der Alias im `HAVING` nicht bekannt?"
            ],
            "metadata": {
                "azdata_cell_guid": "ea04976c-5e88-41f0-838a-0933d6f608d8"
            }
        },
        {
            "cell_type": "code",
            "source": [
                "USE [BITest];\n",
                "-- Fehlerhaft:\n",
                "-- SELECT Region, COUNT(*) AS C FROM dbo.SalesOrders GROUP BY Region HAVING C > 1;"
            ],
            "metadata": {
                "azdata_cell_guid": "7be6621b-ea1a-49a4-a662-5c99ab3eed42",
                "language": "sql"
            },
            "outputs": [],
            "execution_count": null
        },
        {
            "cell_type": "code",
            "source": [
                "USE [BITest];\n",
                "-- Korrekt:\n",
                "SELECT Region, COUNT(*) AS C FROM dbo.SalesOrders GROUP BY Region HAVING COUNT(*) > 1;"
            ],
            "metadata": {
                "azdata_cell_guid": "2602c736-6e3f-42be-96c5-772addbf65ab",
                "language": "sql"
            },
            "outputs": [],
            "execution_count": null
        },
        {
            "cell_type": "markdown",
            "source": [
                "**Fall 4 – `COUNT(DISTINCT col1, col2)` nicht unterstützt**"
            ],
            "metadata": {
                "azdata_cell_guid": "2c61a397-c223-4b70-a0e3-3e0422021cb4"
            }
        },
        {
            "cell_type": "code",
            "source": [
                "USE [BITest];\n",
                "-- Fehlerhaft:\n",
                "-- SELECT COUNT(DISTINCT Region, Category) FROM dbo.SalesOrders;"
            ],
            "metadata": {
                "azdata_cell_guid": "db0d7432-4570-4f27-a81d-8ffed6d90754",
                "language": "sql"
            },
            "outputs": [],
            "execution_count": null
        },
        {
            "cell_type": "code",
            "source": [
                "USE [BITest];\n",
                "-- Korrekt:\n",
                "SELECT COUNT(*) AS DistinctPairs\n",
                "FROM (SELECT DISTINCT Region, Category FROM dbo.SalesOrders) d;"
            ],
            "metadata": {
                "azdata_cell_guid": "2dc704e4-cec7-452a-bc08-f778a5cd72f5",
                "language": "sql"
            },
            "outputs": [],
            "execution_count": null
        },
        {
            "cell_type": "markdown",
            "source": [
                "**Fall 5 – Integer‑Division**\n",
                "*Fragestellung:* Warum ist der Anteil 0 statt 0,15?"
            ],
            "metadata": {
                "azdata_cell_guid": "f893f0f0-3bd3-442e-8504-f29e36572acc"
            }
        },
        {
            "cell_type": "code",
            "source": [
                "USE [BITest];\n",
                "-- Fehlerhaft:\n",
                "SELECT 3/20 AS Anteil;"
            ],
            "metadata": {
                "azdata_cell_guid": "b1b10433-b640-444f-8aba-443adf98c225",
                "language": "sql"
            },
            "outputs": [],
            "execution_count": null
        },
        {
            "cell_type": "code",
            "source": [
                "USE [BITest];\n",
                "-- Korrekt:\n",
                "SELECT 3.0/20 AS Anteil;"
            ],
            "metadata": {
                "azdata_cell_guid": "4fa9e359-c1d4-4ea4-b045-d98853cbac27",
                "language": "sql"
            },
            "outputs": [],
            "execution_count": null
        },
        {
            "cell_type": "markdown",
            "source": [
                "**Fall 6 – JOIN‑Duplikate verfälschen Aggregat**"
            ],
            "metadata": {
                "azdata_cell_guid": "dd7d5ece-d911-469e-86c2-9a4f3b9ac025"
            }
        },
        {
            "cell_type": "code",
            "source": [
                "USE [BITest];\n",
                "-- Pattern (zweite Tabelle hypothetisch): DISTINCT/Semi‑Join oder Voraggregation verwenden\n",
                "-- SELECT c.Region, COUNT(*)\n",
                "-- FROM dbo.Customers c JOIN dbo.Orders o ON o.CustomerID = c.CustomerID\n",
                "-- GROUP BY c.Region;  -- 1:n‑JOIN vervielfacht\n",
                "-- Besser: GROUP BY im Unterselect oder EXISTS\n",
                ""
            ],
            "metadata": {
                "azdata_cell_guid": "a1b9837c-e22f-489f-9a67-99ac65ed65a6",
                "language": "sql"
            },
            "outputs": [],
            "execution_count": null
        },
        {
            "cell_type": "markdown",
            "source": [
                "**Fall 7 – Alias im `GROUP BY`**\n",
                "*Hinweis:* `GROUP BY` kennt **keine** SELECT‑Aliase (anders als `ORDER BY`)."
            ],
            "metadata": {
                "azdata_cell_guid": "c3ae8b8e-8f02-455a-8683-51f6d8fb8bb3"
            }
        },
        {
            "cell_type": "code",
            "source": [
                "USE [BITest];\n",
                "-- Fehlerhaft:\n",
                "-- SELECT YEAR(OrderDate) AS Y, COUNT(*) FROM dbo.SalesOrders GROUP BY Y;"
            ],
            "metadata": {
                "azdata_cell_guid": "c4293a90-d406-48b4-a14f-c8b84f91bf96",
                "language": "sql"
            },
            "outputs": [],
            "execution_count": null
        },
        {
            "cell_type": "code",
            "source": [
                "USE [BITest];\n",
                "-- Korrekt:\n",
                "SELECT YEAR(OrderDate) AS Y, COUNT(*) FROM dbo.SalesOrders GROUP BY YEAR(OrderDate);"
            ],
            "metadata": {
                "azdata_cell_guid": "6d6aba3b-093a-4535-bc98-06adc14834bb",
                "language": "sql"
            },
            "outputs": [],
            "execution_count": null
        },
        {
            "cell_type": "markdown",
            "source": [
                "## Best Practices\n",
                "- Nur benötigte Spalten gruppieren; Schlüssel bewusst wählen.\n",
                "- `WHERE` für Zeilenfilter **vor** der Gruppierung; `HAVING` für Gruppenbedingungen.\n",
                "- `COUNT(DISTINCT ...)` gezielt einsetzen; bei mehreren Spalten **Subquery** nutzen.\n",
                "- Window‑Funktionen, wenn Gruppenwerte **pro Zeile** benötigt werden.\n",
                "- Passende Indizes auf Gruppier‑/Filterspalten fördern **Stream Aggregate**."
            ],
            "metadata": {
                "azdata_cell_guid": "9080975a-6c30-4743-a8dd-7537fbb8637f"
            }
        },
        {
            "cell_type": "markdown",
            "source": [
                "## Übungen\n",
                "1. Zeilen je Region zählen.\n",
                "2. Unterschiedliche Kunden je (Region, Category) ermitteln.\n",
                "3. Nur Regionen mit **mindestens 2** Hardware‑Zeilen ausgeben.\n",
                "4. Regionsumsatz als Window‑Wert pro Zeile zeigen.\n",
                "5. Anzahl **einzigartiger (Region, Category)**‑Paare bestimmen (ohne `COUNT(DISTINCT col1,col2)`)."
            ],
            "metadata": {
                "azdata_cell_guid": "dc2cfa16-a0ff-4370-ae28-4bb60a96cf7d"
            }
        },
        {
            "cell_type": "code",
            "source": [
                "-- Lösung zu Frage 1: Zeilen je Region\n",
                "USE [BITest];\n",
                "SELECT Region, COUNT(*) AS Cnt FROM dbo.SalesOrders GROUP BY Region ORDER BY Region;"
            ],
            "metadata": {
                "azdata_cell_guid": "ee325566-91ce-44dc-a173-537b84d67ec8",
                "language": "sql"
            },
            "outputs": [],
            "execution_count": null
        },
        {
            "cell_type": "code",
            "source": [
                "-- Lösung zu Frage 2: Distinct Kunden je (Region, Category)\n",
                "USE [BITest];\n",
                "SELECT Region, Category, COUNT(DISTINCT CustomerID) AS DistinctCustomers\n",
                "FROM dbo.SalesOrders\n",
                "GROUP BY Region, Category\n",
                "ORDER BY Region, Category;"
            ],
            "metadata": {
                "azdata_cell_guid": "bf9eec83-027c-4f6e-a04d-5da3eb359fca",
                "language": "sql"
            },
            "outputs": [],
            "execution_count": null
        },
        {
            "cell_type": "code",
            "source": [
                "-- Lösung zu Frage 3: Regionen mit >= 2 Hardware‑Zeilen\n",
                "USE [BITest];\n",
                "SELECT Region\n",
                "FROM dbo.SalesOrders\n",
                "WHERE Category = N'Hardware'\n",
                "GROUP BY Region\n",
                "HAVING COUNT(*) >= 2\n",
                "ORDER BY Region;"
            ],
            "metadata": {
                "azdata_cell_guid": "551b23fb-1a34-4c43-ab40-d4c368722c2d",
                "language": "sql"
            },
            "outputs": [],
            "execution_count": null
        },
        {
            "cell_type": "code",
            "source": [
                "-- Lösung zu Frage 4: Window‑Wert Regionsumsatz pro Zeile\n",
                "USE [BITest];\n",
                "SELECT SalesOrderID, Region,\n",
                "       SUM(Quantity * UnitPrice) OVER (PARTITION BY Region) AS RegionRevenue\n",
                "FROM dbo.SalesOrders\n",
                "ORDER BY Region, SalesOrderID;"
            ],
            "metadata": {
                "azdata_cell_guid": "d7f802df-fe7d-4b13-b2eb-9c45324b6241",
                "language": "sql"
            },
            "outputs": [],
            "execution_count": null
        },
        {
            "cell_type": "code",
            "source": [
                "-- Lösung zu Frage 5: Einzigartige (Region, Category)\n",
                "USE [BITest];\n",
                "SELECT COUNT(*) AS DistinctPairs\n",
                "FROM (SELECT DISTINCT Region, Category FROM dbo.SalesOrders) d;"
            ],
            "metadata": {
                "azdata_cell_guid": "e57d60ec-bcfd-43c7-bb2e-49578f7d9900",
                "language": "sql"
            },
            "outputs": [],
            "execution_count": null
        },
        {
            "cell_type": "markdown",
            "source": [
                "## Querverweise\n",
                "- Querverweis: 02_Select\\Erweiterte Aggregation: `GROUPING SETS` — `ROLLUP`, `CUBE`\", Mehrdimensionale Summen in einer Abfrage; `GROUPING_ID` zur Unterscheidung der Ebenen.\n",
                "- Querverweis: 02_Select\\`PIVOT`/`UNPIVOT` & Alternative Muster — Berichtsfreundliche Drehung von Daten sowie Alternativen mit `CASE`+Aggregation.\n",
                "- Querverweis: 02_Select\\Ausdrücke — `CASE`, `CAST/CONVERT`, `ISNULL/COALESCE`\""
            ],
            "metadata": {
                "azdata_cell_guid": "649ad7b3-f3be-4d6b-aa11-07882feb5485"
            }
        },
        {
            "cell_type": "code",
            "source": [
                "USE [master];\n",
                "IF DB_ID(N'BITest') IS NOT NULL\n",
                "BEGIN\n",
                "    ALTER DATABASE BITest SET SINGLE_USER WITH ROLLBACK IMMEDIATE;\n",
                "    DROP DATABASE BITest;\n",
                "END;"
            ],
            "metadata": {
                "azdata_cell_guid": "f79cb3b5-7df6-42e4-a91c-13d55f4d4a3e",
                "language": "sql"
            },
            "outputs": [],
            "execution_count": null
        }
    ]
}