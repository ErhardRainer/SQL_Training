{
    "metadata": {
        "kernelspec": {
            "name": "SQL",
            "display_name": "SQL",
            "language": "sql"
        },
        "language_info": {
            "name": "sql",
            "version": ""
        }
    },
    "nbformat_minor": 2,
    "nbformat": 4,
    "cells": [
        {
            "cell_type": "markdown",
            "source": [
                "# T-SQL SELECT – Fensterfunktionen (OVER): Ranking, Aggregate, Frames\n",
                "\n",
                "**Themengebiet:** SELECT\n",
                "\n",
                "**Kapitel:** Fensterfunktionen (OVER): Ranking, Aggregate, Frames\n",
                "\n",
                "**Kurzbeschreibung:** Rangfolgen, laufende Summen, gleitende Fenster; richtige Frame-Definition für korrekte Ergebnisse.\n",
                "\n",
                "**Stand:** 6. September 2025"
            ],
            "metadata": {
                "azdata_cell_guid": "084aa014-870b-4da5-9959-cd5641bedacd"
            }
        },
        {
            "cell_type": "markdown",
            "source": [
                "Dieses Notebook zeigt den praktischen Einsatz von **Fensterfunktionen** in T‑SQL: Ranking (`ROW_NUMBER`/`RANK`/`DENSE_RANK`/`NTILE`), Aggregation als Fenster (`SUM/AVG/COUNT … OVER`), **Frames** (`ROWS` vs. `RANGE`) sowie typische Stolpersteine (z. B. `LAST_VALUE`‑Frame, Window in `WHERE`)."
            ],
            "metadata": {
                "azdata_cell_guid": "f4d2aadb-89f4-4a7e-8663-cde93b531173"
            }
        },
        {
            "cell_type": "markdown",
            "source": [
                "**Inhalt dieses Notebooks ist:**\n",
                "\n",
                "- Setup & Demo‑Daten\n",
                "- Logische Auswertungsreihenfolge (SELECT & OVER)\n",
                "- Ranking‑Funktionen (ROW_NUMBER/RANK/DENSE_RANK/NTILE)\n",
                "- Fensteraggregate (laufend & pro Partition)\n",
                "- Frames: `ROWS` vs. `RANGE`, gleitende Fenster\n",
                "- Navigationsfunktionen: `LAG/LEAD`, `FIRST_VALUE/LAST_VALUE`\n",
                "- Query Optimizer/Analyzer & Ausführungsplan\n",
                "- Typische Fallstricke\n",
                "- Best Practices & Performance\n",
                "- Übungen\n",
                "- Lösungen\n",
                "- Querverweise\n",
                "- Cleanup (optional)"
            ],
            "metadata": {
                "azdata_cell_guid": "037d2bb0-de82-49ce-acc0-7cc0e564bc5f"
            }
        },
        {
            "cell_type": "markdown",
            "source": [
                "Hinweis: Dieses Notebook nutzt einen **SQL‑Kernel**. **Alle Codezellen enthalten T‑SQL** (SQL Server). Fensterfunktionen sind in `SELECT`/`ORDER BY` erlaubt, **nicht** in `WHERE`/`GROUP BY`."
            ],
            "metadata": {
                "azdata_cell_guid": "6f0c4257-540e-4ec0-9c44-3bb3f092e8eb"
            }
        },
        {
            "cell_type": "markdown",
            "source": [
                "## Setup & Demo‑Daten\n",
                "Wir verwenden die Beispiel‑Datenbank **BITest** und eine Tabelle **dbo.SalesOrders** mit Beträgen und absichtlichen **Ties** (gleiche `Amount`) für Frame‑Demonstrationen."
            ],
            "metadata": {
                "azdata_cell_guid": "2df08671-9609-470d-933b-ef5ce7e385eb"
            }
        },
        {
            "cell_type": "code",
            "source": [
                "IF DB_ID(N'BITest') IS NULL\n",
                "BEGIN\n",
                "    CREATE DATABASE BITest;\n",
                "END;\n",
                "GO\n",
                "USE [BITest];\n",
                "GO\n",
                "IF OBJECT_ID(N'dbo.SalesOrders','U') IS NOT NULL DROP TABLE dbo.SalesOrders;\n",
                "CREATE TABLE dbo.SalesOrders\n",
                "(\n",
                "  SalesOrderID int IDENTITY(1,1) CONSTRAINT PK_SalesOrders PRIMARY KEY,\n",
                "  OrderDate    date           NOT NULL,\n",
                "  CustomerID   int            NOT NULL,\n",
                "  Region       nvarchar(20)   NOT NULL,\n",
                "  Category     nvarchar(20)   NOT NULL,\n",
                "  Amount       decimal(10,2)  NOT NULL\n",
                ");\n",
                "INSERT INTO dbo.SalesOrders (OrderDate, CustomerID, Region, Category, Amount) VALUES\n",
                "('2025-01-05',101,N'West', N'Hardware',  99.00),\n",
                "('2025-01-06',102,N'West', N'Hardware',  99.00),  -- Tie\n",
                "('2025-01-07',103,N'West', N'Software', 199.00),\n",
                "('2025-01-08',104,N'Nord', N'Hardware', 199.00),  -- Tie über Regionen\n",
                "('2025-01-09',105,N'Nord', N'Software',  49.00),\n",
                "('2025-01-10',106,N'Nord', N'Software',  49.00),  -- Tie\n",
                "('2025-01-11',107,N'Ost',  N'Hardware', 299.00),\n",
                "('2025-01-12',108,N'Ost',  N'Software', 149.00),\n",
                "('2025-01-13',109,N'Sued', N'Hardware', 149.00),  -- Tie über Regionen\n",
                "('2025-01-14',110,N'Sued', N'Software', 499.00),\n",
                "('2025-01-15',111,N'West', N'Hardware',  49.00),\n",
                "('2025-01-16',112,N'West', N'Software', 149.00),\n",
                "('2025-01-17',113,N'Ost',  N'Hardware', 149.00),\n",
                "('2025-01-18',114,N'Nord', N'Hardware', 299.00);\n",
                "\n",
                "-- Hilfsindizes für Sortierungen\n",
                "CREATE INDEX IX_SalesOrders_Region_Date_ID ON dbo.SalesOrders(Region, OrderDate, SalesOrderID);\n",
                "CREATE INDEX IX_SalesOrders_Amount_ID      ON dbo.SalesOrders(Amount DESC, SalesOrderID ASC);"
            ],
            "metadata": {
                "azdata_cell_guid": "90b69895-d85b-42c5-bba0-43ce91e1bcd7",
                "language": "sql"
            },
            "outputs": [],
            "execution_count": null
        },
        {
            "cell_type": "markdown",
            "source": [
                "### Daten sichten"
            ],
            "metadata": {
                "azdata_cell_guid": "03bae6aa-ffc5-4116-ad50-2822c9a9e1ba"
            }
        },
        {
            "cell_type": "code",
            "source": [
                "USE [BITest];\n",
                "SELECT TOP (20) * FROM dbo.SalesOrders ORDER BY SalesOrderID;"
            ],
            "metadata": {
                "azdata_cell_guid": "56b95608-5c53-468c-96a6-6a5fc45bf038",
                "language": "sql"
            },
            "outputs": [],
            "execution_count": null
        },
        {
            "cell_type": "markdown",
            "source": [
                "## Logische Auswertungsreihenfolge (SELECT & OVER)\n",
                "1. FROM / JOIN\n",
                "2. WHERE\n",
                "3. GROUP BY\n",
                "4. HAVING\n",
                "5. SELECT (hier werden **Window‑Ausdrücke** ausgewertet)\n",
                "6. ORDER BY\n",
                "\n",
                "**Merke:** Fensterfunktionen sind **nicht** in `WHERE`/`GROUP BY` erlaubt; nutze CTE/Derived Table, wenn du nach einem Window‑Ergebnis filtern willst."
            ],
            "metadata": {
                "azdata_cell_guid": "731fad94-35b0-4483-8652-8bda4ea3c490"
            }
        },
        {
            "cell_type": "markdown",
            "source": [
                "## Ranking‑Funktionen (ROW_NUMBER/RANK/DENSE_RANK/NTILE)"
            ],
            "metadata": {
                "azdata_cell_guid": "77f46f1b-cbd3-4373-8c64-9622756ae9ed"
            }
        },
        {
            "cell_type": "markdown",
            "source": [
                "*Fragestellung:* Wie vergebe ich stabile Ränge pro Region nach `Amount`?"
            ],
            "metadata": {
                "azdata_cell_guid": "0122d036-b333-4516-98b5-d100a8e2a1b9"
            }
        },
        {
            "cell_type": "code",
            "source": [
                "USE [BITest];\n",
                "SELECT SalesOrderID, Region, Amount, OrderDate,\n",
                "       ROW_NUMBER() OVER (PARTITION BY Region ORDER BY Amount DESC, SalesOrderID)      AS RowNum,\n",
                "       RANK()       OVER (PARTITION BY Region ORDER BY Amount DESC, SalesOrderID)      AS RankNum,\n",
                "       DENSE_RANK() OVER (PARTITION BY Region ORDER BY Amount DESC, SalesOrderID)      AS DenseRankNum,\n",
                "       NTILE(4)     OVER (PARTITION BY Region ORDER BY Amount DESC, SalesOrderID)      AS Quartile\n",
                "FROM dbo.SalesOrders\n",
                "ORDER BY Region, Amount DESC, SalesOrderID;"
            ],
            "metadata": {
                "azdata_cell_guid": "695aad25-17e1-449c-82ca-c36590e6aa2e",
                "language": "sql"
            },
            "outputs": [],
            "execution_count": null
        },
        {
            "cell_type": "markdown",
            "source": [
                "## Fensteraggregate (laufend & pro Partition)"
            ],
            "metadata": {
                "azdata_cell_guid": "d0f5b572-34fa-4974-a3c9-2c68ea4ebdb1"
            }
        },
        {
            "cell_type": "markdown",
            "source": [
                "*Fragestellung:* Wie berechne ich kumulative Umsätze pro Region sowie Gesamtumsatz je Region **pro Zeile**?"
            ],
            "metadata": {
                "azdata_cell_guid": "69708de5-e380-47a5-a1c1-6399a14e132f"
            }
        },
        {
            "cell_type": "code",
            "source": [
                "USE [BITest];\n",
                "SELECT SalesOrderID, Region, Amount, OrderDate,\n",
                "       -- Kumulativ (laufende Summe) über stabile Ordnung\n",
                "       SUM(Amount) OVER (PARTITION BY Region ORDER BY OrderDate, SalesOrderID\n",
                "                         ROWS BETWEEN UNBOUNDED PRECEDING AND CURRENT ROW) AS RunningAmount,\n",
                "       -- Gesamtsumme der Partition (kein ORDER BY → ganze Partition)\n",
                "       SUM(Amount) OVER (PARTITION BY Region) AS PartitionTotal\n",
                "FROM dbo.SalesOrders\n",
                "ORDER BY Region, OrderDate, SalesOrderID;"
            ],
            "metadata": {
                "azdata_cell_guid": "45739475-7779-4d83-8637-6ecac0832ce9",
                "language": "sql"
            },
            "outputs": [],
            "execution_count": null
        },
        {
            "cell_type": "markdown",
            "source": [
                "## Frames: `ROWS` vs. `RANGE`, gleitende Fenster"
            ],
            "metadata": {
                "azdata_cell_guid": "c5a0ff4e-74f1-4514-9dc5-72f8beae4147"
            }
        },
        {
            "cell_type": "markdown",
            "source": [
                "*Fragestellung:* Worin unterscheiden sich `ROWS` und das (implizite) `RANGE` – und wie bilde ich ein **gleitendes Fenster** (z. B. letzte 3 Zeilen)?\n",
                "\n",
                "**Hinweis:** SQL Server unterstützt `RANGE` nur eingeschränkt. Für präzise Sliding‑Windows **`ROWS` verwenden**."
            ],
            "metadata": {
                "azdata_cell_guid": "f6e12195-582a-4283-9020-55b6620ac878"
            }
        },
        {
            "cell_type": "code",
            "source": [
                "USE [BITest];\n",
                "-- Unterschied bei Ties (gleicher Amount):\n",
                "SELECT SalesOrderID, Amount,\n",
                "       SUM(Amount) OVER (ORDER BY Amount\n",
                "                         ROWS BETWEEN UNBOUNDED PRECEDING AND CURRENT ROW) AS Cum_ROWS,\n",
                "       SUM(Amount) OVER (ORDER BY Amount) AS Cum_DEFAULT  -- implizit RANGE UNBOUNDED PRECEDING\n",
                "FROM dbo.SalesOrders\n",
                "ORDER BY Amount, SalesOrderID;"
            ],
            "metadata": {
                "azdata_cell_guid": "06cc9e0e-f75f-4eea-ade7-15882dc85e4c",
                "language": "sql"
            },
            "outputs": [],
            "execution_count": null
        },
        {
            "cell_type": "code",
            "source": [
                "USE [BITest];\n",
                "-- Gleitendes Fenster: letzte 3 Zeilen (inkl. aktueller) nach Datum\n",
                "SELECT SalesOrderID, OrderDate, Amount,\n",
                "       AVG(Amount) OVER (ORDER BY OrderDate, SalesOrderID\n",
                "                         ROWS BETWEEN 2 PRECEDING AND CURRENT ROW) AS MovingAvg_Last3\n",
                "FROM dbo.SalesOrders\n",
                "ORDER BY OrderDate, SalesOrderID;"
            ],
            "metadata": {
                "azdata_cell_guid": "c896f1fe-0f0b-4d13-a904-e98dc7308932",
                "language": "sql"
            },
            "outputs": [],
            "execution_count": null
        },
        {
            "cell_type": "markdown",
            "source": [
                "## Navigationsfunktionen: `LAG/LEAD`, `FIRST_VALUE/LAST_VALUE`"
            ],
            "metadata": {
                "azdata_cell_guid": "b797e91f-7d63-4db1-bce9-19f44f60437d"
            }
        },
        {
            "cell_type": "markdown",
            "source": [
                "*Fragestellung:* Vorheriger/nächster Wert und **korrekte Frames** für `LAST_VALUE`."
            ],
            "metadata": {
                "azdata_cell_guid": "ba2a670b-4b3c-40f4-b119-b3daf4a8f6dc"
            }
        },
        {
            "cell_type": "code",
            "source": [
                "USE [BITest];\n",
                "SELECT SalesOrderID, Region, OrderDate, Amount,\n",
                "       LAG(Amount, 1)  OVER (PARTITION BY Region ORDER BY OrderDate, SalesOrderID) AS PrevAmount,\n",
                "       LEAD(Amount, 1) OVER (PARTITION BY Region ORDER BY OrderDate, SalesOrderID) AS NextAmount,\n",
                "       FIRST_VALUE(Amount) OVER (PARTITION BY Region ORDER BY OrderDate, SalesOrderID\n",
                "                                 ROWS BETWEEN UNBOUNDED PRECEDING AND CURRENT ROW) AS FirstAmount,\n",
                "       -- Achtung: default Frame liefert sonst oft **aktuellen** Wert statt letzten der Partition\n",
                "       LAST_VALUE(Amount)  OVER (PARTITION BY Region ORDER BY OrderDate, SalesOrderID\n",
                "                                 ROWS BETWEEN UNBOUNDED PRECEDING AND UNBOUNDED FOLLOWING) AS LastAmount\n",
                "FROM dbo.SalesOrders\n",
                "ORDER BY Region, OrderDate, SalesOrderID;"
            ],
            "metadata": {
                "azdata_cell_guid": "7a261f71-f75e-4bd7-9dbb-b390ac9a887d",
                "language": "sql"
            },
            "outputs": [],
            "execution_count": null
        },
        {
            "cell_type": "markdown",
            "source": [
                "## Query Optimizer/Analyzer & Ausführungsplan\n",
                "**Pipeline:** Parsing → Binder → Optimizer → Plan‑Cache → Executor\n",
                "\n",
                "**Typische Operatoren:** Sort, Segment, Sequence Project, Window Spool, Parallelism, Memory Grants.\n",
                "\n",
                "**Erwartete Pläne (sprachlich):**\n",
                "- Fensterfunktionen erzeugen meist **Segment + Sequence Project** (ggf. **Window Spool**).\n",
                "- `ORDER BY` in `OVER` erfordert häufig einen **Sort** (teuer bei großen Daten). Passende Indizes können Sort vermeiden.\n",
                "- Mehrere Fenster über **dieselbe** Partition/Sortierung lassen sich zusammenfassen – sonst mehrere Sorts.\n",
                "\n",
                "**Snippets (nicht ausführen):**\n",
                "```sql\n",
                "SET SHOWPLAN_XML ON;\n",
                "SELECT ROW_NUMBER() OVER (PARTITION BY Region ORDER BY OrderDate, SalesOrderID) FROM dbo.SalesOrders;\n",
                "SET SHOWPLAN_XML OFF;\n",
                "\n",
                "SET STATISTICS IO, TIME ON;\n",
                "SELECT SUM(Amount) OVER (PARTITION BY Region ORDER BY OrderDate, SalesOrderID ROWS UNBOUNDED PRECEDING) FROM dbo.SalesOrders;\n",
                "SET STATISTICS IO, TIME OFF;\n",
                "```"
            ],
            "metadata": {
                "azdata_cell_guid": "3b12aa25-7e93-40cb-a762-7b2a3af2b360"
            }
        },
        {
            "cell_type": "markdown",
            "source": [
                "## Typische Fallstricke"
            ],
            "metadata": {
                "azdata_cell_guid": "3520e8cf-551e-4d29-8ae6-097b02c4b3ec"
            }
        },
        {
            "cell_type": "markdown",
            "source": [
                "**Fall 1 – Window in `WHERE`**\n",
                "*Problem:* `WHERE` sieht keine Window‑Ausdrücke.\n",
                "\n",
                "**Korrektur:** In CTE/Unterabfrage projizieren und **außen** filtern."
            ],
            "metadata": {
                "azdata_cell_guid": "f03f8ec3-e896-4579-aa7d-8b6ad8646395"
            }
        },
        {
            "cell_type": "code",
            "source": [
                "USE [BITest];\n",
                "-- Falsch\n",
                "-- SELECT * FROM dbo.SalesOrders WHERE ROW_NUMBER() OVER (ORDER BY SalesOrderID) = 1;\n",
                "\n",
                "-- Korrekt\n",
                "WITH R AS (\n",
                "  SELECT *, ROW_NUMBER() OVER (PARTITION BY Region ORDER BY OrderDate, SalesOrderID) AS rn\n",
                "  FROM dbo.SalesOrders\n",
                ")\n",
                "SELECT * FROM R WHERE rn = 1;"
            ],
            "metadata": {
                "azdata_cell_guid": "ddeffc25-f005-48cc-afd7-ae6fac9ccc28",
                "language": "sql"
            },
            "outputs": [],
            "execution_count": null
        },
        {
            "cell_type": "markdown",
            "source": [
                "**Fall 2 – Fehlendes `ORDER BY` in `ROW_NUMBER()`**\n",
                "*Problem:* Rangfolge ohne definierte Ordnung ist **nicht deterministisch**.\n",
                "\n",
                "**Korrektur:** Immer stabilen Schlüssel (z. B. `(Sort, PK)`) angeben."
            ],
            "metadata": {
                "azdata_cell_guid": "96647dd1-f92c-41c1-998d-d71f4109b117"
            }
        },
        {
            "cell_type": "code",
            "source": [
                "USE [BITest];\n",
                "-- Fehlerhaft\n",
                "-- SELECT ROW_NUMBER() OVER (PARTITION BY Region ORDER BY (SELECT 1)) AS rn FROM dbo.SalesOrders;\n",
                "\n",
                "-- Korrekt\n",
                "SELECT ROW_NUMBER() OVER (PARTITION BY Region ORDER BY OrderDate, SalesOrderID) AS rn\n",
                "FROM dbo.SalesOrders;"
            ],
            "metadata": {
                "azdata_cell_guid": "f9144611-52b9-4826-a708-0ba6d87dcb3b",
                "language": "sql"
            },
            "outputs": [],
            "execution_count": null
        },
        {
            "cell_type": "markdown",
            "source": [
                "**Fall 3 – `LAST_VALUE` liefert aktuellen Wert**\n",
                "*Problem:* Default‑Frame endet bei `CURRENT ROW`.\n",
                "\n",
                "**Korrektur:** `ROWS BETWEEN UNBOUNDED PRECEDING AND UNBOUNDED FOLLOWING`."
            ],
            "metadata": {
                "azdata_cell_guid": "33ea95fd-f716-4752-b926-13936a2e3e6c"
            }
        },
        {
            "cell_type": "code",
            "source": [
                "USE [BITest];\n",
                "SELECT SalesOrderID, Region, OrderDate, Amount,\n",
                "       LAST_VALUE(Amount) OVER (PARTITION BY Region ORDER BY OrderDate, SalesOrderID) AS Last_Default,\n",
                "       LAST_VALUE(Amount) OVER (PARTITION BY Region ORDER BY OrderDate, SalesOrderID\n",
                "                                ROWS BETWEEN UNBOUNDED PRECEDING AND UNBOUNDED FOLLOWING) AS Last_Correct\n",
                "FROM dbo.SalesOrders\n",
                "ORDER BY Region, OrderDate, SalesOrderID;"
            ],
            "metadata": {
                "azdata_cell_guid": "7883bb55-665a-4d4f-9cba-9261ff7c51e1",
                "language": "sql"
            },
            "outputs": [],
            "execution_count": null
        },
        {
            "cell_type": "markdown",
            "source": [
                "**Fall 4 – `RANGE` vs `ROWS` bei Ties**\n",
                "*Problem:* `RANGE` (implizit) nimmt **alle Peers** am selben Sortwert in den Frame → Sprungstellen.\n",
                "\n",
                "**Korrektur:** `ROWS`‑Frames verwenden, wenn Zeilen‑basiert inkrementell gerechnet werden soll."
            ],
            "metadata": {
                "azdata_cell_guid": "339e403b-fe57-4cda-a9e7-9259e198bd59"
            }
        },
        {
            "cell_type": "code",
            "source": [
                "USE [BITest];\n",
                "SELECT Amount,\n",
                "       SUM(Amount) OVER (ORDER BY Amount) AS Cum_DEFAULT,\n",
                "       SUM(Amount) OVER (ORDER BY Amount ROWS UNBOUNDED PRECEDING) AS Cum_ROWS\n",
                "FROM dbo.SalesOrders\n",
                "ORDER BY Amount, SalesOrderID;"
            ],
            "metadata": {
                "azdata_cell_guid": "dc4d0f6d-bd35-4eb6-bd08-f53e9c8169aa",
                "language": "sql"
            },
            "outputs": [],
            "execution_count": null
        },
        {
            "cell_type": "markdown",
            "source": [
                "**Fall 5 – Mehrere Sorts durch uneinheitliche Fenster**\n",
                "*Problem:* Unterschiedliche `PARTITION BY`/`ORDER BY` verursachen mehrere Sort‑Phasen.\n",
                "\n",
                "**Korrektur:** Fenster konsolidieren (gleiche Partition+Order) oder Indizes passend anlegen."
            ],
            "metadata": {
                "azdata_cell_guid": "ced69ef1-15cc-4e47-b045-94fe0d152e31"
            }
        },
        {
            "cell_type": "markdown",
            "source": [
                "## Best Practices & Performance\n",
                "- Für stabile Ergebnisse **ORDER BY** in `OVER` mit eindeutigem Tiebreaker (z. B. PK).\n",
                "- Für Sliding‑Windows **`ROWS`** verwenden; `RANGE` in SQL Server ist eingeschränkt und führt bei Ties zu Sprüngen.\n",
                "- Window‑Ergebnisse filtern via CTE/Unterabfrage.\n",
                "- Mehrere Fenster auf **gleiche** Partition/Sortierung zusammenfassen, um Sorts zu sparen.\n",
                "- Passende **Indizes** (z. B. `(Region, OrderDate, SalesOrderID)`) reduzieren Sort‑Kosten.\n",
                "- `COUNT(*) OVER()` liefert Zeilenanzahl des Resultsets ohne zusätzliche Abfrage.\n",
                "- Messbar machen: `STATISTICS IO/TIME` und Ausführungspläne (Sort/Window Spool/Memory Grants/Spills)."
            ],
            "metadata": {
                "azdata_cell_guid": "fd93a1c9-fbbe-4c58-87b8-8a8cd9d463e5"
            }
        },
        {
            "cell_type": "markdown",
            "source": [
                "## Übungen\n",
                "1. Rangfolge pro `Region` nach `Amount DESC` mit `ROW_NUMBER` – geben Sie **Top 1 pro Region** aus.\n",
                "2. Kumulativer Umsatz pro Region nach Datum (stabile Ordnung inkl. PK).\n",
                "3. Gleitender **Durchschnitt der letzten 3 Zeilen** nach Datum.\n",
                "4. `LAST_VALUE` korrekt verwenden: letzter Betrag pro Region.\n",
                "5. Ermitteln Sie die Gesamtzeilenzahl per `COUNT(*) OVER()`."
            ],
            "metadata": {
                "azdata_cell_guid": "d84cde89-959a-41c8-81dd-dd061b4e7e48"
            }
        },
        {
            "cell_type": "code",
            "source": [
                "-- Lösung zu Frage 1: Top 1 je Region\n",
                "USE [BITest];\n",
                "WITH R AS (\n",
                "  SELECT *, ROW_NUMBER() OVER (PARTITION BY Region ORDER BY Amount DESC, SalesOrderID) AS rn\n",
                "  FROM dbo.SalesOrders\n",
                ")\n",
                "SELECT SalesOrderID, Region, Amount\n",
                "FROM R\n",
                "WHERE rn = 1\n",
                "ORDER BY Region, SalesOrderID;"
            ],
            "metadata": {
                "azdata_cell_guid": "a8950faa-e7a2-414e-aa9c-291ff902e92d",
                "language": "sql"
            },
            "outputs": [],
            "execution_count": null
        },
        {
            "cell_type": "code",
            "source": [
                "-- Lösung zu Frage 2: Laufender Umsatz pro Region\n",
                "USE [BITest];\n",
                "SELECT SalesOrderID, Region, OrderDate, Amount,\n",
                "       SUM(Amount) OVER (PARTITION BY Region ORDER BY OrderDate, SalesOrderID\n",
                "                         ROWS UNBOUNDED PRECEDING) AS RunningAmount\n",
                "FROM dbo.SalesOrders\n",
                "ORDER BY Region, OrderDate, SalesOrderID;"
            ],
            "metadata": {
                "azdata_cell_guid": "555527f1-fde8-4120-92e9-a768fe9e2f23",
                "language": "sql"
            },
            "outputs": [],
            "execution_count": null
        },
        {
            "cell_type": "code",
            "source": [
                "-- Lösung zu Frage 3: Moving Average (letzte 3 Zeilen)\n",
                "USE [BITest];\n",
                "SELECT SalesOrderID, OrderDate, Amount,\n",
                "       AVG(Amount) OVER (ORDER BY OrderDate, SalesOrderID\n",
                "                         ROWS BETWEEN 2 PRECEDING AND CURRENT ROW) AS MovingAvg3\n",
                "FROM dbo.SalesOrders\n",
                "ORDER BY OrderDate, SalesOrderID;"
            ],
            "metadata": {
                "azdata_cell_guid": "15b22c4c-c590-4e8c-ad9c-1b4897db3848",
                "language": "sql"
            },
            "outputs": [],
            "execution_count": null
        },
        {
            "cell_type": "code",
            "source": [
                "-- Lösung zu Frage 4: LAST_VALUE korrekt (letzter Betrag pro Region)\n",
                "USE [BITest];\n",
                "SELECT SalesOrderID, Region, Amount,\n",
                "       LAST_VALUE(Amount) OVER (PARTITION BY Region ORDER BY OrderDate, SalesOrderID\n",
                "                                ROWS BETWEEN UNBOUNDED PRECEDING AND UNBOUNDED FOLLOWING) AS LastAmountInRegion\n",
                "FROM dbo.SalesOrders\n",
                "ORDER BY Region, OrderDate, SalesOrderID;"
            ],
            "metadata": {
                "azdata_cell_guid": "2f6dc89d-8b8c-440e-9f18-58ae9b488905",
                "language": "sql"
            },
            "outputs": [],
            "execution_count": null
        },
        {
            "cell_type": "code",
            "source": [
                "-- Lösung zu Frage 5: Gesamtzeilenzahl\n",
                "USE [BITest];\n",
                "SELECT TOP (5) SalesOrderID, Region, Amount, COUNT(*) OVER() AS TotalRows\n",
                "FROM dbo.SalesOrders\n",
                "ORDER BY Amount DESC, SalesOrderID;"
            ],
            "metadata": {
                "azdata_cell_guid": "58b12abf-5661-4563-96a9-447b08b51794",
                "language": "sql"
            },
            "outputs": [],
            "execution_count": null
        },
        {
            "cell_type": "markdown",
            "source": [
                "## Querverweise\n",
                "- Querverweis: 05_Funktionen\\Fenster- & Ranking-Funktionen (`ROW_NUMBER`, `LAG/LEAD`, `FIRST_VALUE`…) — Reihenfolgen & gleitende Berechnungen mit `OVER(PARTITION BY … ORDER BY …)` und Frames.\n",
                "- Querverweis: 04_Where\\Filtern nach Fensterfunktionen (`ROW_NUMBER`, `SUM OVER`) — Warum `WHERE` keine Window-Ausdrücke sieht; Muster mit CTE/abgeleiteter Tabelle, um auf Rang/Window-Ergebnis zu filtern.\n",
                "- Querverweis: 06_Delete\\Doppelte Zeilen löschen (CTE + `ROW_NUMBER`) — Duplikate per Window-Funktion markieren und gezielt entfernen.\n",
                "- Querverweis: 05_Funktionen\\Aggregatfunktionen & Textaggregation (`SUM`, `AVG`, `COUNT`, `MIN/MAX`, `STRING_AGG`) — Gruppieren & verdichten, Distinct-Aggregate, Textlisten stabil sortieren.\n",
                "- Querverweis: 03_JOIN\\ON vs WHERE bei OUTER JOINs — Warum Filter in `WHERE` nach dem Join wirken und einen OUTER Join faktisch zum INNER machen können; korrekte Platzierung von Filtern."
            ],
            "metadata": {
                "azdata_cell_guid": "232ad44b-0611-4336-9f4e-81a0dfa41f33"
            }
        },
        {
            "cell_type": "code",
            "source": [
                "USE [master];\n",
                "IF DB_ID(N'BITest') IS NOT NULL\n",
                "BEGIN\n",
                "    ALTER DATABASE BITest SET SINGLE_USER WITH ROLLBACK IMMEDIATE;\n",
                "    DROP DATABASE BITest;\n",
                "END;"
            ],
            "metadata": {
                "azdata_cell_guid": "6048ecd0-9e47-491b-b7e5-f2a623e4c1e5",
                "language": "sql"
            },
            "outputs": [],
            "execution_count": null
        }
    ]
}