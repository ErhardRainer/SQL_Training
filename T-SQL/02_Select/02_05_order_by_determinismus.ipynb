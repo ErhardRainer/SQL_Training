{
    "metadata": {
        "kernelspec": {
            "name": "SQL",
            "display_name": "SQL",
            "language": "sql"
        },
        "language_info": {
            "name": "sql",
            "version": ""
        }
    },
    "nbformat_minor": 2,
    "nbformat": 4,
    "cells": [
        {
            "cell_type": "markdown",
            "source": [
                "# T-SQL SELECT – Sortierung mit ORDER BY & Determinismus\n",
                "\n",
                "**Themengebiet:** SELECT\n",
                "\n",
                "**Kapitel:** Sortierung mit ORDER BY & Determinismus\n",
                "\n",
                "**Kurzbeschreibung:** Stabile Sortierkriterien, Kollisionen durch NULL/Kollation, zufällige Reihenfolge (ORDER BY NEWID()).\n",
                "\n",
                "**Stand:** 6. September 2025"
            ],
            "metadata": {
                "azdata_cell_guid": "57192466-5f1e-4cc1-97ab-371fccfbd142"
            }
        },
        {
            "cell_type": "markdown",
            "source": [
                "Dieses Notebook behandelt die **Sortierung mit `ORDER BY`** in T‑SQL und wie Sie **deterministische, stabile** Ergebnisse sicherstellen. Wir betrachten Kollisionen durch `NULL`‑Werte und **Kollation** (Groß‑/Kleinschreibung, Akzente), den Unterschied zwischen **angeforderter** und **physischer** Ordnung sowie Muster für **zufällige Reihenfolge** (`ORDER BY NEWID()`).\n",
                "\n",
                "**Typische Fragestellungen:**\n",
                "- Warum ändert sich die Reihenfolge zwischen Ausführungen ohne offensichtliche Änderungen?\n",
                "- Wie mache ich Sortierung **stabil** (Tiebreaker, z. B. Primärschlüssel)?\n",
                "- Wie sortiere ich `NULL` explizit nach oben/unten?\n",
                "- Wieso sortieren Strings mit Umlauten/ß anders – und wie steuere ich das via **COLLATE**?\n",
                "- Wie erhalte ich eine **zufällige Reihenfolge** – und welche Kosten/Nebenwirkungen hat `ORDER BY NEWID()`?"
            ],
            "metadata": {
                "azdata_cell_guid": "4c7e7720-afa9-4a90-9623-a9cd6383ae63"
            }
        },
        {
            "cell_type": "markdown",
            "source": [
                "**Inhalt dieses Notebooks ist:**\n",
                "\n",
                "- Setup & Demo‑Daten\n",
                "- Logische Auswertungsreihenfolge (SELECT)\n",
                "- Deterministische Sortierung & Tiebreaker\n",
                "- `NULL`‑Sortierung explizit steuern\n",
                "- Sortierung & **Kollation** (CI/CS, AI/AS)\n",
                "- `ORDER BY` mit Ausdrücken, Alias & Ordinals\n",
                "- Pagination: `ORDER BY` mit `OFFSET/FETCH` (stabile Seiten)\n",
                "- Zufällige Reihenfolge: `ORDER BY NEWID()` (Einsatz & Alternativen)\n",
                "- `ORDER BY` in Views/CTEs/Subqueries – Fallen\n",
                "- Query Optimizer/Analyzer & Ausführungsplan\n",
                "- Typische Fallstricke\n",
                "- Best Practices & Performance\n",
                "- Übungen\n",
                "- Lösungen\n",
                "- Querverweise\n",
                "- Cleanup (optional)"
            ],
            "metadata": {
                "azdata_cell_guid": "40a099ab-fa1b-4159-8e6a-791c9c5bf642"
            }
        },
        {
            "cell_type": "markdown",
            "source": [
                "Hinweis: Dieses Notebook nutzt einen **SQL‑Kernel**. **Alle Codezellen enthalten T‑SQL** (SQL Server)."
            ],
            "metadata": {
                "azdata_cell_guid": "c1926b8b-5599-4e63-9b3d-7b4960b0e42e"
            }
        },
        {
            "cell_type": "markdown",
            "source": [
                "## Setup & Demo‑Daten\n",
                "Wir verwenden die Beispiel‑Datenbank **BITest** und eine Tabelle **dbo.People** mit Namen (inkl. Umlauten), optionalen Werten (`NULL`) und weiteren Spalten für Sortierbeispiele."
            ],
            "metadata": {
                "azdata_cell_guid": "3cd297d8-488f-469d-8253-d9d42a0c32fc"
            }
        },
        {
            "cell_type": "code",
            "source": [
                "IF DB_ID(N'BITest') IS NULL\n",
                "BEGIN\n",
                "    CREATE DATABASE BITest;\n",
                "END;\n",
                "GO\n",
                "USE [BITest];\n",
                "GO\n",
                "IF OBJECT_ID(N'dbo.People','U') IS NOT NULL DROP TABLE dbo.People;\n",
                "CREATE TABLE dbo.People\n",
                "(\n",
                "  PersonID   int IDENTITY(1,1) CONSTRAINT PK_People PRIMARY KEY,\n",
                "  LastName   nvarchar(50) NULL,\n",
                "  FirstName  nvarchar(50) NOT NULL,\n",
                "  City       nvarchar(50) NULL,\n",
                "  Score      decimal(9,2) NULL,\n",
                "  BirthDate  date NULL\n",
                ");\n",
                "INSERT INTO dbo.People (LastName, FirstName, City, Score, BirthDate) VALUES\n",
                "(N'Ärztin', N'Anna',  N'München',  88.50, '1990-05-01'),\n",
                "(N'Azubi',  N'Berta', N'Muenchen', 88.50, '1992-06-10'),\n",
                "(N'Aepler', N'Carla', N'Zürich',   72.10, '1985-02-11'),\n",
                "(N'Äpfel',  N'Dora',  N'Zuerich',  72.10, '1985-02-11'),\n",
                "(N'Straße', N'Erik',  N'Köln',     95.00, '1979-09-09'),\n",
                "(N'Strasse',N'Fritz', N'Koeln',    95.00, '1979-09-09'),\n",
                "(NULL,      N'Gina',  NULL,        70.00, NULL),\n",
                "(N'Maier',  N'Hans',  N'Wien',     88.50, '1990-05-01'),\n",
                "(N'Mayer',  N'Ida',   N'Wien',     88.50, '1990-05-01'),\n",
                "(N'Meier',  N'Jan',   N'Wien',     NULL,  '1990-05-01'),\n",
                "(N'Zoë',    N'Kai',   N'Graz',     88.50, '1993-01-23'),\n",
                "(N'Zoe',    N'Lia',   N'Graz',     88.50, '1993-01-23');\n",
                "-- Hilfsindex zur Demonstration (Sortierung über LastName, PersonID)\n",
                "CREATE INDEX IX_People_LastName_ID ON dbo.People(LastName ASC, PersonID ASC);"
            ],
            "metadata": {
                "azdata_cell_guid": "7578c8fe-6984-4536-b096-b2802f40c58c",
                "language": "sql"
            },
            "outputs": [],
            "execution_count": null
        },
        {
            "cell_type": "markdown",
            "source": [
                "### Daten sichten"
            ],
            "metadata": {
                "azdata_cell_guid": "c8dae411-b0cb-4d6d-8bf9-bba381badc16"
            }
        },
        {
            "cell_type": "code",
            "source": [
                "USE [BITest];\n",
                "SELECT TOP (20) * FROM dbo.People ORDER BY PersonID;"
            ],
            "metadata": {
                "azdata_cell_guid": "59cdf8fb-464d-4b99-95d8-712a59c82dca",
                "language": "sql"
            },
            "outputs": [],
            "execution_count": null
        },
        {
            "cell_type": "markdown",
            "source": [
                "## Logische Auswertungsreihenfolge\n",
                "1. FROM / JOIN\n",
                "2. WHERE\n",
                "3. GROUP BY\n",
                "4. HAVING\n",
                "5. SELECT\n",
                "6. ORDER BY (optional; bestimmt **Ausgabe**‐Reihenfolge, nicht die Verarbeitung)\n",
                "\n",
                "Ohne `ORDER BY` ist die Reihenfolge **nicht garantiert** – auch dann nicht, wenn ein Index existiert."
            ],
            "metadata": {
                "azdata_cell_guid": "5e3011ad-751e-4210-a13a-eddf64d227dc"
            }
        },
        {
            "cell_type": "markdown",
            "source": [
                "## Deterministische Sortierung & Tiebreaker"
            ],
            "metadata": {
                "azdata_cell_guid": "8079225e-d0f2-48a5-a52a-7f376ea6d5da"
            }
        },
        {
            "cell_type": "markdown",
            "source": [
                "*Fragestellung:* Wie stelle ich stabile Reihenfolgen sicher, insbesondere bei **Gleichständen**?"
            ],
            "metadata": {
                "azdata_cell_guid": "877a84e6-6e2f-4a32-ae78-768ce6716191"
            }
        },
        {
            "cell_type": "code",
            "source": [
                "USE [BITest];\n",
                "-- Stabil: Primärsortierung + eindeutiger Tiebreaker (z. B. PersonID)\n",
                "SELECT PersonID, LastName, FirstName, Score\n",
                "FROM dbo.People\n",
                "ORDER BY Score DESC, LastName ASC, PersonID ASC;"
            ],
            "metadata": {
                "azdata_cell_guid": "5dd443b2-b4d0-4fe4-a883-f3de24247492",
                "language": "sql"
            },
            "outputs": [],
            "execution_count": null
        },
        {
            "cell_type": "markdown",
            "source": [
                "## `NULL`‑Sortierung explizit steuern"
            ],
            "metadata": {
                "azdata_cell_guid": "552718bc-5c9c-47f7-982d-a9b88bdaf0de"
            }
        },
        {
            "cell_type": "markdown",
            "source": [
                "*Fragestellung:* Wie sortiere ich `NULL` **zuletzt** (bzw. zuerst), obwohl SQL Server keine `NULLS LAST/FIRST` Syntax hat?"
            ],
            "metadata": {
                "azdata_cell_guid": "01ac8c14-bdd2-41ca-853a-22542d29b666"
            }
        },
        {
            "cell_type": "code",
            "source": [
                "USE [BITest];\n",
                "-- NULLS LAST bei ASC: erst Nicht‑NULL (0), dann NULL (1)\n",
                "SELECT PersonID, LastName, Score\n",
                "FROM dbo.People\n",
                "ORDER BY CASE WHEN Score IS NULL THEN 1 ELSE 0 END, Score ASC, PersonID ASC;\n",
                "\n",
                "-- NULLS FIRST bei DESC (analoge Technik)\n",
                "SELECT PersonID, LastName, Score\n",
                "FROM dbo.People\n",
                "ORDER BY CASE WHEN Score IS NULL THEN 0 ELSE 1 END, Score DESC, PersonID ASC;"
            ],
            "metadata": {
                "azdata_cell_guid": "4e9862b6-e84e-43cf-9404-12ba98a9d16a",
                "language": "sql"
            },
            "outputs": [],
            "execution_count": null
        },
        {
            "cell_type": "markdown",
            "source": [
                "## Sortierung & **Kollation** (CI/CS, AI/AS)"
            ],
            "metadata": {
                "azdata_cell_guid": "d66b59da-6bd0-41d1-99f2-ee34511e3d2a"
            }
        },
        {
            "cell_type": "markdown",
            "source": [
                "*Fragestellung:* Warum unterscheiden sich Reihenfolgen bei Umlauten/ß – und wie steuere ich das für **eine Abfrage**?"
            ],
            "metadata": {
                "azdata_cell_guid": "a03aa229-1bb4-4180-ae02-bed04a0a7341"
            }
        },
        {
            "cell_type": "code",
            "source": [
                "USE [BITest];\n",
                "-- Akzent‑insensitiv (CI_AI): 'Ä' ~ 'Ae', 'ö' ~ 'oe' werden ähnlich eingeordnet\n",
                "SELECT PersonID, LastName\n",
                "FROM dbo.People\n",
                "ORDER BY LastName COLLATE Latin1_General_CI_AI ASC, PersonID ASC;\n",
                "\n",
                "-- Akzent‑sensitiv (CI_AS): 'Ä' kommt typ. nach 'A' / vor 'B' je Sortregeln; 'Zoë' ≠ 'Zoe'\n",
                "SELECT PersonID, LastName\n",
                "FROM dbo.People\n",
                "ORDER BY LastName COLLATE Latin1_General_CI_AS ASC, PersonID ASC;\n",
                "\n",
                "-- **Case‑sensitiv** (CS_AS): Groß/Klein beeinflusst Reihenfolge\n",
                "SELECT PersonID, LastName\n",
                "FROM dbo.People\n",
                "ORDER BY LastName COLLATE Latin1_General_CS_AS ASC, PersonID ASC;"
            ],
            "metadata": {
                "azdata_cell_guid": "5d4acaf4-e583-463f-8ec3-4a8ab99b3e55",
                "language": "sql"
            },
            "outputs": [],
            "execution_count": null
        },
        {
            "cell_type": "markdown",
            "source": [
                "## `ORDER BY` mit Ausdrücken, Alias & Ordinals"
            ],
            "metadata": {
                "azdata_cell_guid": "e4b64c95-e460-4c15-ad3c-8316183d5c51"
            }
        },
        {
            "cell_type": "markdown",
            "source": [
                "*Fragestellung:* Darf ich Aliase im `ORDER BY` verwenden und was sind Risiken mit **Spalten‑Ordinals**?"
            ],
            "metadata": {
                "azdata_cell_guid": "99223efc-a54c-4540-ada3-79965c4751fa"
            }
        },
        {
            "cell_type": "code",
            "source": [
                "USE [BITest];\n",
                "-- Alias in ORDER BY ist erlaubt (im Gegensatz zu WHERE)\n",
                "SELECT LastName AS LN, FirstName, Score\n",
                "FROM dbo.People\n",
                "ORDER BY LN ASC, PersonID ASC;\n",
                "\n",
                "-- Ordinal (2 = Zweite Ausgabespalte) funktioniert, ist aber fragil bei späteren Änderungen\n",
                "SELECT LastName AS LN, FirstName, Score\n",
                "FROM dbo.People\n",
                "ORDER BY 2, PersonID;  -- vermeidbar, besser Spaltennamen/Alias verwenden"
            ],
            "metadata": {
                "azdata_cell_guid": "6fb8bfed-10b1-4118-9d07-ff58614d21a4",
                "language": "sql"
            },
            "outputs": [],
            "execution_count": null
        },
        {
            "cell_type": "markdown",
            "source": [
                "## Pagination: `ORDER BY` mit `OFFSET/FETCH` (stabile Seiten)"
            ],
            "metadata": {
                "azdata_cell_guid": "eaf23fa1-de38-4ff6-987f-40967a4bf240"
            }
        },
        {
            "cell_type": "markdown",
            "source": [
                "*Fragestellung:* Wie vermeide ich **Duplikate/Lücken** zwischen Seiten bei Gleichständen?"
            ],
            "metadata": {
                "azdata_cell_guid": "d81ee165-3afc-423a-baf3-30fd2f9ad9d1"
            }
        },
        {
            "cell_type": "code",
            "source": [
                "USE [BITest];\n",
                "-- Seite 1 (0‑basiert): OFFSET 0, FETCH 5\n",
                "SELECT PersonID, LastName, Score\n",
                "FROM dbo.People\n",
                "ORDER BY Score DESC, LastName ASC, PersonID ASC\n",
                "OFFSET 0 ROWS FETCH NEXT 5 ROWS ONLY;\n",
                "\n",
                "-- Seite 2: gleiches Sortkriterium + Tiebreaker\n",
                "SELECT PersonID, LastName, Score\n",
                "FROM dbo.People\n",
                "ORDER BY Score DESC, LastName ASC, PersonID ASC\n",
                "OFFSET 5 ROWS FETCH NEXT 5 ROWS ONLY;"
            ],
            "metadata": {
                "azdata_cell_guid": "8cc4029c-c2ea-420f-bb4c-72d5b99a90da",
                "language": "sql"
            },
            "outputs": [],
            "execution_count": null
        },
        {
            "cell_type": "markdown",
            "source": [
                "## Zufällige Reihenfolge: `ORDER BY NEWID()` (Einsatz & Alternativen)"
            ],
            "metadata": {
                "azdata_cell_guid": "113a5cfe-2acd-4153-aa5b-e96554402506"
            }
        },
        {
            "cell_type": "markdown",
            "source": [
                "*Fragestellung:* Wie erhalte ich Zufallsreihenfolgen – und wann ist das zu teuer?"
            ],
            "metadata": {
                "azdata_cell_guid": "ae582411-e2ed-452b-b838-b4e1a3ab99cc"
            }
        },
        {
            "cell_type": "code",
            "source": [
                "USE [BITest];\n",
                "-- Vollständig zufällige Reihenfolge (pro Zeile NEWID): kann teuer sein (Sort auf GUID)\n",
                "SELECT TOP (5) PersonID, LastName\n",
                "FROM dbo.People\n",
                "ORDER BY NEWID();\n",
                "\n",
                "-- Alternative für Stichprobe (nicht gleichverteilt!): TABLESAMPLE (Seitenbasiert)\n",
                "SELECT TOP (5) PersonID, LastName\n",
                "FROM dbo.People TABLESAMPLE (50 PERCENT);  -- Hinweis: unpräzise, Seiten‑basiert"
            ],
            "metadata": {
                "azdata_cell_guid": "35035883-fde9-4d8e-bfc4-a6e081186cb9",
                "language": "sql"
            },
            "outputs": [],
            "execution_count": null
        },
        {
            "cell_type": "markdown",
            "source": [
                "## `ORDER BY` in Views/CTEs/Subqueries – Fallen"
            ],
            "metadata": {
                "azdata_cell_guid": "8074ab86-5119-44cf-9b02-045c63c105e9"
            }
        },
        {
            "cell_type": "markdown",
            "source": [
                "*Fragestellung:* Warum ignoriert SQL Server das `ORDER BY` im Unterselect/View – und wie mache ich die Ausgabe **deterministisch**?"
            ],
            "metadata": {
                "azdata_cell_guid": "9c0186b0-2626-4a6c-9380-9c62f98de4ec"
            }
        },
        {
            "cell_type": "code",
            "source": [
                "USE [BITest];\n",
                "-- Anti‑Pattern: TOP 100 PERCENT ORDER BY in View/Subquery – der Optimizer darf die Sortierung entfernen\n",
                "-- (Demonstration als Inline‑View)\n",
                "SELECT PersonID, LastName\n",
                "FROM (\n",
                "  SELECT TOP (100) PERCENT PersonID, LastName\n",
                "  FROM dbo.People\n",
                "  ORDER BY LastName\n",
                ") AS v\n",
                "ORDER BY LastName;  -- Nur das **äußere** ORDER BY garantiert die Ausgabe‑Reihenfolge\n",
                ""
            ],
            "metadata": {
                "azdata_cell_guid": "b1cf6f75-4caa-4d94-bc45-4917a2e3730f",
                "language": "sql"
            },
            "outputs": [],
            "execution_count": null
        },
        {
            "cell_type": "markdown",
            "source": [
                "## Query Optimizer/Analyzer & Ausführungsplan\n",
                "**Pipeline:** Parsing → Binder → Optimizer → Plan‑Cache → Executor\n",
                "\n",
                "**Relevante Operatoren:**\n",
                "- **Sort**: ordnet Eingaben; benötigt Speicher (**Memory Grant**); kann teuer/parallel sein.\n",
                "- **Top / Top N Sort**: kombiniert Sortierung + Limit; nutzt Indizes ggf. effizient.\n",
                "- **Index Seek/Scan**: physische Indexreihenfolge ≠ garantierte Ausgabe ohne `ORDER BY`.\n",
                "- **Parallelism (Distribute/Repartition/Gather)**: kann Reihenfolge zerstören; finaler Sort/Gather ordnet neu.\n",
                "\n",
                "**Erwartete Pläne (sprachlich):**\n",
                "- `ORDER BY` ohne passenden Index → `Sort`.\n",
                "- Passender Index (z. B. `(Score DESC, LastName, PersonID)`) → ggf. `Index Seek/Scan` ohne expliziten `Sort`.\n",
                "- `ORDER BY NEWID()` → `Sort` auf GUID‑Ausdruck (kostspielig).\n",
                "\n",
                "**Snippets (nicht ausführen):**\n",
                "```sql\n",
                "SET SHOWPLAN_XML ON;\n",
                "SELECT PersonID, LastName FROM dbo.People ORDER BY Score DESC, LastName, PersonID;\n",
                "SET SHOWPLAN_XML OFF;\n",
                "\n",
                "SET STATISTICS IO, TIME ON;\n",
                "SELECT TOP (5) PersonID FROM dbo.People ORDER BY NEWID();\n",
                "SET STATISTICS IO, TIME OFF;\n",
                "```"
            ],
            "metadata": {
                "azdata_cell_guid": "327792f4-f577-4185-8248-d0709b1da31a"
            }
        },
        {
            "cell_type": "markdown",
            "source": [
                "## Typische Fallstricke"
            ],
            "metadata": {
                "azdata_cell_guid": "4f9b78a4-6f38-4a91-991a-e61796cbef5f"
            }
        },
        {
            "cell_type": "markdown",
            "source": [
                "**Fall 1 – Indexreihenfolge ≠ garantierte Ausgabe**\n",
                "*Fragestellung:* Warum wechselt die Reihenfolge trotz Index?"
            ],
            "metadata": {
                "azdata_cell_guid": "63df0d18-127f-4159-9ce9-6d589ab6d4a8"
            }
        },
        {
            "cell_type": "code",
            "source": [
                "USE [BITest];\n",
                "-- Fehlerhaft: keine Garantie ohne ORDER BY (selbst wenn Index existiert)\n",
                "SELECT PersonID, LastName FROM dbo.People;"
            ],
            "metadata": {
                "azdata_cell_guid": "576688a1-4f47-41ee-8194-0695bdd5a8ee",
                "language": "sql"
            },
            "outputs": [],
            "execution_count": null
        },
        {
            "cell_type": "code",
            "source": [
                "USE [BITest];\n",
                "-- Korrekt: explizite Sortierung\n",
                "SELECT PersonID, LastName FROM dbo.People ORDER BY LastName, PersonID;"
            ],
            "metadata": {
                "azdata_cell_guid": "4bb2ad68-92ed-417e-a364-c7d143afd381",
                "language": "sql"
            },
            "outputs": [],
            "execution_count": null
        },
        {
            "cell_type": "markdown",
            "source": [
                "**Fall 2 – Unstabile Pagination (fehlender Tiebreaker)**\n",
                "*Fragestellung:* Warum sehe ich Duplikate/Lücken zwischen Seiten?"
            ],
            "metadata": {
                "azdata_cell_guid": "d67f8293-4b8e-41bf-a674-882e2cbc4cc5"
            }
        },
        {
            "cell_type": "code",
            "source": [
                "USE [BITest];\n",
                "-- Fehlerhaft: kein eindeutiger Tiebreaker bei Gleichstand\n",
                "SELECT PersonID, LastName, Score\n",
                "FROM dbo.People\n",
                "ORDER BY Score DESC\n",
                "OFFSET 0 ROWS FETCH NEXT 5 ROWS ONLY;"
            ],
            "metadata": {
                "azdata_cell_guid": "d5641ae0-f119-439e-b2b3-c897b85fd91f",
                "language": "sql"
            },
            "outputs": [],
            "execution_count": null
        },
        {
            "cell_type": "code",
            "source": [
                "USE [BITest];\n",
                "-- Korrektur: Tiebreaker ergänzen\n",
                "SELECT PersonID, LastName, Score\n",
                "FROM dbo.People\n",
                "ORDER BY Score DESC, PersonID ASC\n",
                "OFFSET 0 ROWS FETCH NEXT 5 ROWS ONLY;"
            ],
            "metadata": {
                "azdata_cell_guid": "c7ee8dfb-1dc4-4766-8d41-6d732fe153d8",
                "language": "sql"
            },
            "outputs": [],
            "execution_count": null
        },
        {
            "cell_type": "markdown",
            "source": [
                "**Fall 3 – Kollation führt zu unerwarteter Reihenfolge**\n",
                "*Fragestellung:* Warum steht 'Ärztin' nicht da, wo ich es erwarte?"
            ],
            "metadata": {
                "azdata_cell_guid": "449c819e-7265-4aea-bde6-70d929033245"
            }
        },
        {
            "cell_type": "code",
            "source": [
                "USE [BITest];\n",
                "-- Überraschung je nach DB‑Kollation\n",
                "SELECT LastName FROM dbo.People ORDER BY LastName;"
            ],
            "metadata": {
                "azdata_cell_guid": "ecf4cbc0-e1ec-48d5-9810-f7f7b7234bca",
                "language": "sql"
            },
            "outputs": [],
            "execution_count": null
        },
        {
            "cell_type": "code",
            "source": [
                "USE [BITest];\n",
                "-- Korrektur: kollationsspezifisch sortieren\n",
                "SELECT LastName FROM dbo.People ORDER BY LastName COLLATE Latin1_General_CI_AS, PersonID;"
            ],
            "metadata": {
                "azdata_cell_guid": "596b0401-8457-4048-b165-b827e29696d5",
                "language": "sql"
            },
            "outputs": [],
            "execution_count": null
        },
        {
            "cell_type": "markdown",
            "source": [
                "**Fall 4 – Zahlen in Textspalten werden lexikographisch sortiert**\n",
                "*Fragestellung:* Warum kommt '100' vor '20'?"
            ],
            "metadata": {
                "azdata_cell_guid": "ecde40c6-c114-4ec2-805d-a5af0590d5d4"
            }
        },
        {
            "cell_type": "code",
            "source": [
                "USE [BITest];\n",
                "-- Fehlerhaft: Textsortierung\n",
                "SELECT CAST(PersonID AS varchar(10)) AS PersonIDText FROM dbo.People ORDER BY PersonIDText;"
            ],
            "metadata": {
                "azdata_cell_guid": "dc006398-0a06-4f6e-977a-d5ffc4bcece6",
                "language": "sql"
            },
            "outputs": [],
            "execution_count": null
        },
        {
            "cell_type": "code",
            "source": [
                "USE [BITest];\n",
                "-- Korrektur: numerische Sortierung\n",
                "SELECT CAST(PersonID AS varchar(10)) AS PersonIDText FROM dbo.People ORDER BY CAST(PersonIDText AS int);"
            ],
            "metadata": {
                "azdata_cell_guid": "ee3bfa1a-0c16-4690-953e-61999bf7f263",
                "language": "sql"
            },
            "outputs": [],
            "execution_count": null
        },
        {
            "cell_type": "markdown",
            "source": [
                "**Fall 5 – `ORDER BY RAND()` liefert keine echte Zeilenpermutation**\n",
                "*Fragestellung:* Wieso ändert sich die Reihenfolge kaum?"
            ],
            "metadata": {
                "azdata_cell_guid": "8867f23c-0128-4ba6-a9a5-99902307fb11"
            }
        },
        {
            "cell_type": "code",
            "source": [
                "USE [BITest];\n",
                "-- Fehler: RAND() wird pro Abfrage einmal evaluiert → gleicher Wert für alle Zeilen\n",
                "-- (je nach Kontext kann SQL Server ORDER BY RAND() sogar ablehnen)\n",
                "-- SELECT PersonID FROM dbo.People ORDER BY RAND();"
            ],
            "metadata": {
                "azdata_cell_guid": "5e87f346-e589-4ff9-9f6e-4e70c2619edb",
                "language": "sql"
            },
            "outputs": [],
            "execution_count": null
        },
        {
            "cell_type": "code",
            "source": [
                "USE [BITest];\n",
                "-- Korrektur: NEWID() pro Zeile\n",
                "SELECT TOP (5) PersonID FROM dbo.People ORDER BY NEWID();"
            ],
            "metadata": {
                "azdata_cell_guid": "85e54c6d-b69b-4644-adc4-2532aa942c62",
                "language": "sql"
            },
            "outputs": [],
            "execution_count": null
        },
        {
            "cell_type": "markdown",
            "source": [
                "## Best Practices & Performance\n",
                "- **Immer** explizit `ORDER BY` angeben, wenn Reihenfolge relevant ist.\n",
                "- Für Stabilität bei Gleichständen: **eindeutigen Tiebreaker** (z. B. Primärschlüssel) ergänzen.\n",
                "- `NULL`‑Reihenfolge per `CASE`/`ISNULL` erzwingen; SQL Server kennt kein `NULLS FIRST/LAST`.\n",
                "- Kollation bewusst setzen (`… COLLATE …`) für gewünschte sprachliche Sortierung.\n",
                "- Zahlen als Text? Vor dem Sortieren **typisieren/casten**.\n",
                "- Für Pagination große Offsets vermeiden; ggf. **Keyset/Seek‑Pagination** nutzen.\n",
                "- `ORDER BY NEWID()` nur für kleine Mengen; alternativ vorab **RandomKey** speichern und darauf sortieren.\n",
                "- Pläne/Messwerte prüfen: `Sort`, `Top N Sort`, **Memory Grants**, Parallelismus."
            ],
            "metadata": {
                "azdata_cell_guid": "ad6d812a-d905-443a-b69d-4fe3946a0919"
            }
        },
        {
            "cell_type": "markdown",
            "source": [
                "## Übungen\n",
                "1. Sortieren Sie Personen **deterministisch** nach `Score DESC`, dann `LastName ASC` und `PersonID` als Tiebreaker.\n",
                "2. Geben Sie `Score`‑Sortierung mit **NULLS LAST** aus (ASC).\n",
                "3. Sortieren Sie `LastName` **akzent‑sensitiv** und **case‑sensitiv**.\n",
                "4. Erzeugen Sie eine **zufällige Reihenfolge** und geben Sie die **Top 3** aus.\n",
                "5. Zeigen Sie Seite 2 (5 je Seite) stabil mit `OFFSET/FETCH`."
            ],
            "metadata": {
                "azdata_cell_guid": "6a498610-4dac-43c1-bde3-3507a0125455"
            }
        },
        {
            "cell_type": "code",
            "source": [
                "-- Lösung zu Frage 1: Stabil nach Score/LastName/ID\n",
                "USE [BITest];\n",
                "SELECT PersonID, LastName, FirstName, Score\n",
                "FROM dbo.People\n",
                "ORDER BY Score DESC, LastName ASC, PersonID ASC;"
            ],
            "metadata": {
                "azdata_cell_guid": "d4a52bf3-f486-42a5-82e0-6ff041da47d5",
                "language": "sql"
            },
            "outputs": [],
            "execution_count": null
        },
        {
            "cell_type": "code",
            "source": [
                "-- Lösung zu Frage 2: NULLS LAST (ASC)\n",
                "USE [BITest];\n",
                "SELECT PersonID, LastName, Score\n",
                "FROM dbo.People\n",
                "ORDER BY CASE WHEN Score IS NULL THEN 1 ELSE 0 END, Score ASC, PersonID ASC;"
            ],
            "metadata": {
                "azdata_cell_guid": "ca18330b-01d1-4621-b8ec-1747dd1103ce",
                "language": "sql"
            },
            "outputs": [],
            "execution_count": null
        },
        {
            "cell_type": "code",
            "source": [
                "-- Lösung zu Frage 3: CS_AS & AS (case/akzent‑sensitiv)\n",
                "USE [BITest];\n",
                "SELECT PersonID, LastName\n",
                "FROM dbo.People\n",
                "ORDER BY LastName COLLATE Latin1_General_CS_AS ASC, PersonID ASC;"
            ],
            "metadata": {
                "azdata_cell_guid": "791a47e3-1c44-4f5f-b10c-9154e935dc9d",
                "language": "sql"
            },
            "outputs": [],
            "execution_count": null
        },
        {
            "cell_type": "code",
            "source": [
                "-- Lösung zu Frage 4: Zufällige Top 3\n",
                "USE [BITest];\n",
                "SELECT TOP (3) PersonID, LastName\n",
                "FROM dbo.People\n",
                "ORDER BY NEWID();"
            ],
            "metadata": {
                "azdata_cell_guid": "07be1abc-e008-406e-bb88-6d829cdf2d80",
                "language": "sql"
            },
            "outputs": [],
            "execution_count": null
        },
        {
            "cell_type": "code",
            "source": [
                "-- Lösung zu Frage 5: Seite 2 à 5\n",
                "USE [BITest];\n",
                "SELECT PersonID, LastName, Score\n",
                "FROM dbo.People\n",
                "ORDER BY Score DESC, LastName ASC, PersonID ASC\n",
                "OFFSET 5 ROWS FETCH NEXT 5 ROWS ONLY;"
            ],
            "metadata": {
                "azdata_cell_guid": "bb3473e1-d248-4457-94f2-da227736a530",
                "language": "sql"
            },
            "outputs": [],
            "execution_count": null
        },
        {
            "cell_type": "markdown",
            "source": [
                "## Querverweise\n",
                "\n",
                "- Querverweis: 05_Funktionen\\Aggregatfunktionen & Textaggrega...& verdichten, Distinct-Aggregate, Textlisten stabil sortieren.\n",
                "- Querverweis: 03_JOIN\\APPLY (CROSS/OUTER) – Lateral Joins — ...uster wie JSON/XML-Parsing, Top-N-pro-Gruppe, „per row Top 1“.\n",
                "- Querverweis: 03_JOIN\\Joins mit JSON/XML/TVFs — > **Kurzbesc...OPENJSON`, `CROSS APPLY … nodes()` und Table-Valued Functions.\n",
                "- Querverweis: 06_Delete\\`DELETE … FROM` (Join-Delete) — Lösc...le (Join/CTE) – Duplikate und Eindeutigkeit korrekt behandeln.\n",
                "- Querverweis: 04_Where\\`WHERE` vs. `ON` bei JOINs — Untersch...um `WHERE` einen `LEFT JOIN` faktisch zum `INNER` machen kann."
            ],
            "metadata": {
                "azdata_cell_guid": "58d5b107-8746-474a-a145-c8c875e35442"
            }
        },
        {
            "cell_type": "code",
            "source": [
                "USE [master];\n",
                "IF DB_ID(N'BITest') IS NOT NULL\n",
                "BEGIN\n",
                "    ALTER DATABASE BITest SET SINGLE_USER WITH ROLLBACK IMMEDIATE;\n",
                "    DROP DATABASE BITest;\n",
                "END;"
            ],
            "metadata": {
                "azdata_cell_guid": "f899cb52-5f47-4631-99aa-ec44710e9eb7",
                "language": "sql"
            },
            "outputs": [],
            "execution_count": null
        }
    ]
}