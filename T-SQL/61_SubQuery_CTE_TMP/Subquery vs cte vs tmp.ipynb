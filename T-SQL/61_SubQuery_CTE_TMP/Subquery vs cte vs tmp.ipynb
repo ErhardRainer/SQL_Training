{
    "metadata": {
        "kernelspec": {
            "name": "SQL",
            "display_name": "SQL",
            "language": "sql"
        },
        "language_info": {
            "name": "sql",
            "version": ""
        }
    },
    "nbformat_minor": 2,
    "nbformat": 4,
    "cells": [
        {
            "cell_type": "markdown",
            "source": [
                "# CTE - Common Table Expression\n",
                "\n",
                "## Allgemeines\n",
                "\n",
                "\\* eingeführt mit SQL Server 2015\n",
                "\n",
                "## recursive CTE\n",
                "\n",
                "Eine rekursive CTE ist eine CTE, die sich selbst referenziert. Hierbei wird die CTE wiederholt ausgeführt bis das ResultSet fertig ist.\n",
                "\n",
                "![SQL Server Recursive CTE execution flow](https://www.sqlservertutorial.net/wp-content/uploads/SQL-Server-Recursive-CTE-execution-flow.png)"
            ],
            "metadata": {
                "azdata_cell_guid": "b72058b8-1d3d-4a94-885a-479e7950c280"
            },
            "attachments": {}
        },
        {
            "cell_type": "code",
            "source": [
                "-- Wochentage\r\n",
                "WITH cte_numbers(n, weekday) \r\n",
                "AS (\r\n",
                "    SELECT \r\n",
                "        0, \r\n",
                "        DATENAME(DW, 0)\r\n",
                "    UNION ALL\r\n",
                "    SELECT    \r\n",
                "        n + 1, \r\n",
                "        DATENAME(DW, n + 1)\r\n",
                "    FROM    \r\n",
                "        cte_numbers\r\n",
                "    WHERE n < 6\r\n",
                ")\r\n",
                "SELECT \r\n",
                "    weekday\r\n",
                "FROM \r\n",
                "    cte_numbers;"
            ],
            "metadata": {
                "azdata_cell_guid": "7de83a51-6e74-46fc-8243-7be239245777"
            },
            "outputs": [],
            "execution_count": null
        },
        {
            "cell_type": "code",
            "source": [
                "-- hundert Tage ab heute\r\n",
                "WITH datelist(n,[Date]) \r\n",
                "AS (\r\n",
                "    SELECT \r\n",
                "        0, DateAdd(day,0,getdate()) as [Date]\r\n",
                "    UNION ALL\r\n",
                "    SELECT    \r\n",
                "        n + 1, DateAdd(day,n + 1,getdate()) as [Date]\r\n",
                "    FROM    \r\n",
                "        datelist\r\n",
                "    WHERE n < 100\r\n",
                ")\r\n",
                "SELECT \r\n",
                "    n, [Date]\r\n",
                "FROM \r\n",
                "    datelist;"
            ],
            "metadata": {
                "azdata_cell_guid": "00b0bc91-8d54-4e52-a5b4-4bcb4d97017e"
            },
            "outputs": [],
            "execution_count": null
        },
        {
            "cell_type": "markdown",
            "source": [
                "Für Hierachien:"
            ],
            "metadata": {
                "azdata_cell_guid": "d76d5c1a-4012-49f5-9562-160d3cbad01b"
            },
            "attachments": {}
        },
        {
            "cell_type": "code",
            "source": [
                "-- Rohdaten:\r\n",
                "USE [OLTP_Northwind]\r\n",
                "GO\r\n",
                "SELECT [EmployeeID]\r\n",
                "      ,[LastName]\r\n",
                "      ,[FirstName]\r\n",
                "      ,[ReportsTo]\r\n",
                "  FROM [OLTP_Northwind].[dbo].[Employees]"
            ],
            "metadata": {
                "azdata_cell_guid": "06ea0124-216c-46e9-8ac1-41e7238989b9"
            },
            "outputs": [],
            "execution_count": null
        },
        {
            "cell_type": "code",
            "source": [
                "USE [OLTP_Northwind]\r\n",
                "GO\r\n",
                ";With CTE_Org as (\r\n",
                "Select [EmployeeID], [LastName] + ' ' + [FirstName] as [EmployeeName],  [ReportsTo]from [dbo].[Employees] where [ReportsTo] is null\r\n",
                "union all\r\n",
                "Select e.[EmployeeID], e.[LastName] + ' ' + e.[FirstName]  as [ManagerName], e.[ReportsTo] from [dbo].[Employees]  as e\r\n",
                "inner join CTE_Org as o on o.EmployeeId = e.[ReportsTo])\r\n",
                "\r\n",
                "Select * from CTE_Org"
            ],
            "metadata": {
                "azdata_cell_guid": "c1b0d951-af52-4d61-b2ec-a5ba50e0494e"
            },
            "outputs": [],
            "execution_count": null
        },
        {
            "cell_type": "code",
            "source": [
                "-- mit Limitation (Execution Hint): Zeige mir die zwei höchsten Ebenen des Unternehmens.\r\n",
                "USE [OLTP_Northwind]\r\n",
                "GO\r\n",
                ";With CTE_Org as (\r\n",
                "Select [EmployeeID], [LastName] + ' ' + [FirstName] as [EmployeeName],  [ReportsTo]from [dbo].[Employees] where [ReportsTo] is null\r\n",
                "union all\r\n",
                "Select e.[EmployeeID], e.[LastName] + ' ' + e.[FirstName]  as [ManagerName], e.[ReportsTo] from [dbo].[Employees]  as e\r\n",
                "inner join CTE_Org as o on o.EmployeeId = e.[ReportsTo])\r\n",
                "\r\n",
                "Select * from CTE_Org OPTION (MAXRECURSION 2) --dh. nur 2 Ebenen"
            ],
            "metadata": {
                "azdata_cell_guid": "9e7b17fc-1c30-418a-962d-3ce0ff9a7367"
            },
            "outputs": [],
            "execution_count": null
        },
        {
            "cell_type": "markdown",
            "source": [
                "Fortlaufende summen / Consecutive Sum / Running Total"
            ],
            "metadata": {
                "azdata_cell_guid": "6b67c177-26dc-47c1-97a5-5603d8033545"
            },
            "attachments": {}
        },
        {
            "cell_type": "code",
            "source": [
                "WITH  consecutive_number_sum (i, consecutive_sum) AS (\r\n",
                "  SELECT 0, 0\r\n",
                "  UNION ALL\r\n",
                "  SELECT i + 1, (i + 1) + consecutive_sum\r\n",
                "  FROM consecutive_number_sum\r\n",
                "  WHERE i < 50\r\n",
                ")\r\n",
                "SELECT i, consecutive_sum\r\n",
                "FROM consecutive_number_sum"
            ],
            "metadata": {
                "azdata_cell_guid": "5f300751-5f30-4396-9c37-8cac998b5413"
            },
            "outputs": [],
            "execution_count": null
        },
        {
            "cell_type": "markdown",
            "source": [
                "## Wiederverwendbarkeit von CTE"
            ],
            "metadata": {
                "azdata_cell_guid": "50d30d4f-d7af-46a0-9631-38e14aa4cc00"
            },
            "attachments": {}
        },
        {
            "cell_type": "code",
            "source": [
                "USE [OLTP_Northwind]\r\n",
                "GO\r\n",
                ";With CTE as (\r\n",
                "SELECT [EmployeeID]\r\n",
                "      ,[LastName]\r\n",
                "      ,[FirstName]\r\n",
                "      ,[ReportsTo]\r\n",
                "  FROM [dbo].[Employees])\r\n",
                "\r\n",
                "Select c1.EmployeeID as [ManagerID], c1.LastName as [Manager_LastName], c1.Firstname as [Manager_FirstName]\r\n",
                ", c2.EmployeeID as [EmployeeID],  c2.LastName as [Employee_LastName], c2.Firstname as [Employee_FirstName]\r\n",
                "from CTE as c1\r\n",
                "inner join CTE as c2\r\n",
                "on c1.EmployeeID = c2.ReportsTo"
            ],
            "metadata": {
                "azdata_cell_guid": "ff752893-0ad8-44ea-b9f1-ab378a6d8d78"
            },
            "outputs": [],
            "execution_count": 4
        }
    ]
}