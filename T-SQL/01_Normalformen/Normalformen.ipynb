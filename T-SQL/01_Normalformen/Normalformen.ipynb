{
    "metadata": {
        "kernelspec": {
            "name": "SQL",
            "display_name": "SQL",
            "language": "sql"
        },
        "language_info": {
            "name": "sql",
            "version": ""
        }
    },
    "nbformat_minor": 2,
    "nbformat": 4,
    "cells": [
        {
            "cell_type": "markdown",
            "source": [
                "# Normalformen\n",
                "\n",
                "Normalisierung ist ein systematischer Ansatz zur Entwurfsoptimierung von relationalen Datenbanken, um Duplikationen zu minimieren und die Integrität der Daten sicherzustellen. Das Konzept der Normalisierung wurde erstmals in den 1970er Jahren von Edgar Codd, dem Erfinder des relationalen Datenbankmodells, vorgestellt.\n",
                "\n",
                "Es gibt verschiedene \"Normalformen\", wobei jede Normalform spezifische Anforderungen hat. Eine Datenbank kann in einer bestimmten Normalform sein, was bedeutet, dass sie alle Anforderungen bis zu dieser Normalform erfüllt. Die meisten relationalen Datenbanken streben an, mindestens in der dritten Normalform (3NF) zu sein.\n",
                "\n",
                "## 1\\. Normalform (1NF)\n",
                "\n",
                "- Jede Tabelle hat einen eindeutigen Primärschlüssel.\n",
                "- Alle Attribute (Spalten) in einer Tabelle sind atomar, d.h. sie enthalten nur einzelne Werte (keine Mengen oder Listen).\n",
                "- Es gibt keine wiederholenden Gruppen oder Arrays.\n",
                "\n",
                "## 2\\. Normalform (2NF)\n",
                "\n",
                "- Die Datenbank muss bereits in 1NF sein.\n",
                "- Es werden alle partiellen Abhängigkeiten von Nicht-Schlüsselattributen auf Teilen eines zusammengesetzten Primärschlüssels entfernt. In anderen Worten, Nicht-Schlüsselattribute sind von dem gesamten zusammengesetzten Schlüssel abhängig und nicht nur von einem Teil davon.\n",
                "\n",
                "## 3\\. Normalform (3NF)\n",
                "\n",
                "- Die Datenbank muss bereits in 2NF sein.\n",
                "- Alle transitive Abhängigkeiten von Nicht-Schlüsselattributen werden entfernt. Ein Attribut sollte also nur vom Primärschlüssel der Tabelle abhängen und nicht von anderen Nicht-Schlüsselattributen.\n",
                "\n",
                "## Boyce-Codd Normalform (BCNF)\n",
                "\n",
                "- Eine strenge Version der 3NF. Sie ist in den meisten Fällen identisch mit der 3NF, außer wenn es mehrere mögliche Kandidatenschlüssel gibt. In BCNF sollte jedes Attribut, das nicht voll funktional vom Primärschlüssel abhängig ist, selbst ein Schlüssel sein.\n",
                "\n",
                "## 4\\. Normalform (4NF)\n",
                "\n",
                "- Die Datenbank muss bereits in BCNF sein.\n",
                "- Es werden alle multiwertigen Abhängigkeiten entfernt, bei denen ein Attribut von einem anderen Attribut und nicht von dem Primärschlüssel abhängig ist.\n",
                "\n",
                "Es gibt noch weitere, höhere Normalformen, aber die ersten drei (plus BCNF) sind die am häufigsten verwendeten. Das Ziel der Normalisierung ist es, Redundanz zu reduzieren und die Integrität der Daten sicherzustellen. Es ist jedoch wichtig zu bemerken, dass es manchmal in der Praxis sinnvoll ist, von der strikten Normalisierung abzuweichen, um die Leistung zu optimieren oder spezifische Anwendungsanforderungen zu erfüllen."
            ],
            "metadata": {
                "azdata_cell_guid": "d7b92565-1c5a-4906-b3f9-a01bf767675d"
            },
            "attachments": {}
        },
        {
            "cell_type": "code",
            "source": [
                "USE MASTER;\r\n",
                "GO\r\n",
                "DROP DATABASE IF EXISTS Normalform_Example ;\r\n",
                "GO\r\n",
                "CREATE DATABASE Normalform_Example;\r\n",
                "GO\r\n",
                "USE Normalform_Example;"
            ],
            "metadata": {
                "azdata_cell_guid": "4a2b81a0-1663-4e68-93b2-da81710492ca",
                "language": "sql"
            },
            "outputs": [
                {
                    "output_type": "display_data",
                    "data": {
                        "text/html": "Commands completed successfully."
                    },
                    "metadata": {}
                },
                {
                    "output_type": "display_data",
                    "data": {
                        "text/html": "Commands completed successfully."
                    },
                    "metadata": {}
                },
                {
                    "output_type": "display_data",
                    "data": {
                        "text/html": "Commands completed successfully."
                    },
                    "metadata": {}
                },
                {
                    "output_type": "display_data",
                    "data": {
                        "text/html": "Commands completed successfully."
                    },
                    "metadata": {}
                },
                {
                    "output_type": "display_data",
                    "data": {
                        "text/html": "Total execution time: 00:00:00.918"
                    },
                    "metadata": {}
                }
            ],
            "execution_count": 62
        },
        {
            "cell_type": "markdown",
            "source": [
                "# Ausgangslage\n",
                "\n",
                "![](data:image/png;base64,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)"
            ],
            "metadata": {
                "azdata_cell_guid": "4bd51917-8214-4b05-bb74-0dfaee387360"
            },
            "attachments": {}
        },
        {
            "cell_type": "code",
            "source": [
                "DROP Table if EXISTS Rechnungen;\r\n",
                "CREATE TABLE Rechnungen (\r\n",
                "    RE_Nr INT PRIMARY KEY,\r\n",
                "    RE_Datum DATE,\r\n",
                "    Kunde VARCHAR(50),\r\n",
                "    Anschrift VARCHAR(255),\r\n",
                "    Produkt VARCHAR(50),\r\n",
                "    Verkäufer VARCHAR(50),\r\n",
                "    Menge INT,\r\n",
                "    Preis_pro_Stück DECIMAL(10,2)\r\n",
                ");\r\n",
                "\r\n",
                "INSERT INTO Rechnungen VALUES\r\n",
                "(557, '2019-03-13', 'Kunde 1', 'Addr. 1, 8020, Graz', 'Prod A', 'Verkäufer 1', 1, 500),\r\n",
                "(558, '2019-03-17', 'Kunde 2', 'Addr. 2, 8020, Graz', 'Prod B', 'Verkäufer 2', 1, 250),\r\n",
                "(559, '2019-04-19', 'Kunde 1', 'Addr. 1, 8020, Graz', 'Prod A', 'Verkäufer 2', 1, 500),\r\n",
                "(560, '2019-05-25', 'Kunde 3', 'Addr. 3, 8010, Graz', 'Prod A', 'Verkäufer 1', 2, 500),\r\n",
                "(561, '2019-05-26', 'Kunde 1', 'Addr. 1, 8020, Graz', 'Prod C', 'Verkäufer 3', 1, 750),\r\n",
                "(562, '2019-05-27', 'Kunde 2', 'Addr. 2, 8020, Graz', 'Prod A', 'Verkäufer 1', 3, 500);"
            ],
            "metadata": {
                "azdata_cell_guid": "61ad77ee-3067-4fa9-8997-ae229960cf04",
                "language": "sql",
                "tags": []
            },
            "outputs": [
                {
                    "output_type": "display_data",
                    "data": {
                        "text/html": "(6 rows affected)"
                    },
                    "metadata": {}
                },
                {
                    "output_type": "display_data",
                    "data": {
                        "text/html": "Total execution time: 00:00:00.181"
                    },
                    "metadata": {}
                }
            ],
            "execution_count": 63
        },
        {
            "cell_type": "code",
            "source": [
                "Select * from Rechnungen"
            ],
            "metadata": {
                "language": "sql",
                "azdata_cell_guid": "c4c8fff0-62f0-4001-a788-a51ccd398bf6"
            },
            "outputs": [
                {
                    "output_type": "display_data",
                    "data": {
                        "text/html": "(6 rows affected)"
                    },
                    "metadata": {}
                },
                {
                    "output_type": "display_data",
                    "data": {
                        "text/html": "Total execution time: 00:00:00.038"
                    },
                    "metadata": {}
                },
                {
                    "output_type": "execute_result",
                    "metadata": {},
                    "execution_count": 64,
                    "data": {
                        "application/vnd.dataresource+json": {
                            "schema": {
                                "fields": [
                                    {
                                        "name": "RE_Nr"
                                    },
                                    {
                                        "name": "RE_Datum"
                                    },
                                    {
                                        "name": "Kunde"
                                    },
                                    {
                                        "name": "Anschrift"
                                    },
                                    {
                                        "name": "Produkt"
                                    },
                                    {
                                        "name": "Verkäufer"
                                    },
                                    {
                                        "name": "Menge"
                                    },
                                    {
                                        "name": "Preis_pro_Stück"
                                    }
                                ]
                            },
                            "data": [
                                {
                                    "RE_Nr": "557",
                                    "RE_Datum": "2019-03-13",
                                    "Kunde": "Kunde 1",
                                    "Anschrift": "Addr. 1, 8020, Graz",
                                    "Produkt": "Prod A",
                                    "Verkäufer": "Verkäufer 1",
                                    "Menge": "1",
                                    "Preis_pro_Stück": "500.00"
                                },
                                {
                                    "RE_Nr": "558",
                                    "RE_Datum": "2019-03-17",
                                    "Kunde": "Kunde 2",
                                    "Anschrift": "Addr. 2, 8020, Graz",
                                    "Produkt": "Prod B",
                                    "Verkäufer": "Verkäufer 2",
                                    "Menge": "1",
                                    "Preis_pro_Stück": "250.00"
                                },
                                {
                                    "RE_Nr": "559",
                                    "RE_Datum": "2019-04-19",
                                    "Kunde": "Kunde 1",
                                    "Anschrift": "Addr. 1, 8020, Graz",
                                    "Produkt": "Prod A",
                                    "Verkäufer": "Verkäufer 2",
                                    "Menge": "1",
                                    "Preis_pro_Stück": "500.00"
                                },
                                {
                                    "RE_Nr": "560",
                                    "RE_Datum": "2019-05-25",
                                    "Kunde": "Kunde 3",
                                    "Anschrift": "Addr. 3, 8010, Graz",
                                    "Produkt": "Prod A",
                                    "Verkäufer": "Verkäufer 1",
                                    "Menge": "2",
                                    "Preis_pro_Stück": "500.00"
                                },
                                {
                                    "RE_Nr": "561",
                                    "RE_Datum": "2019-05-26",
                                    "Kunde": "Kunde 1",
                                    "Anschrift": "Addr. 1, 8020, Graz",
                                    "Produkt": "Prod C",
                                    "Verkäufer": "Verkäufer 3",
                                    "Menge": "1",
                                    "Preis_pro_Stück": "750.00"
                                },
                                {
                                    "RE_Nr": "562",
                                    "RE_Datum": "2019-05-27",
                                    "Kunde": "Kunde 2",
                                    "Anschrift": "Addr. 2, 8020, Graz",
                                    "Produkt": "Prod A",
                                    "Verkäufer": "Verkäufer 1",
                                    "Menge": "3",
                                    "Preis_pro_Stück": "500.00"
                                }
                            ]
                        },
                        "text/html": [
                            "<table>",
                            "<tr><th>RE_Nr</th><th>RE_Datum</th><th>Kunde</th><th>Anschrift</th><th>Produkt</th><th>Verkäufer</th><th>Menge</th><th>Preis_pro_Stück</th></tr>",
                            "<tr><td>557</td><td>2019-03-13</td><td>Kunde 1</td><td>Addr. 1, 8020, Graz</td><td>Prod A</td><td>Verkäufer 1</td><td>1</td><td>500.00</td></tr>",
                            "<tr><td>558</td><td>2019-03-17</td><td>Kunde 2</td><td>Addr. 2, 8020, Graz</td><td>Prod B</td><td>Verkäufer 2</td><td>1</td><td>250.00</td></tr>",
                            "<tr><td>559</td><td>2019-04-19</td><td>Kunde 1</td><td>Addr. 1, 8020, Graz</td><td>Prod A</td><td>Verkäufer 2</td><td>1</td><td>500.00</td></tr>",
                            "<tr><td>560</td><td>2019-05-25</td><td>Kunde 3</td><td>Addr. 3, 8010, Graz</td><td>Prod A</td><td>Verkäufer 1</td><td>2</td><td>500.00</td></tr>",
                            "<tr><td>561</td><td>2019-05-26</td><td>Kunde 1</td><td>Addr. 1, 8020, Graz</td><td>Prod C</td><td>Verkäufer 3</td><td>1</td><td>750.00</td></tr>",
                            "<tr><td>562</td><td>2019-05-27</td><td>Kunde 2</td><td>Addr. 2, 8020, Graz</td><td>Prod A</td><td>Verkäufer 1</td><td>3</td><td>500.00</td></tr>",
                            "</table>"
                        ]
                    }
                }
            ],
            "execution_count": 64
        },
        {
            "cell_type": "markdown",
            "source": [
                "# 1\\. Normalform (1NF)\n",
                "\n",
                "Die Erste Normalform (1NF) ist dann gegeben, wenn alle Informationen in einer Tabelle atomar vorliegen.\n",
                "\n",
                "![](data:image/png;base64,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)"
            ],
            "metadata": {
                "language": "sql",
                "azdata_cell_guid": "61b2c66c-719e-4fb9-b740-93741c93e0a2"
            },
            "attachments": {}
        },
        {
            "cell_type": "markdown",
            "source": [
                "**Rohdaten zu 1. Normalform (1NF):**\n",
                "\n",
                "- Rohdaten: Die ursprünglichen Daten wurden in einer einzelnen Tabelle präsentiert, in der mehrere Attribute wie \"Kunde\", \"Anschrift\" und \"Produkt\" kombiniert wurden.\n",
                "- 1NF:\n",
                "    - In der ersten Normalform müssen alle Spalten atomare (unteilbare) Werte haben. \n",
                "    - Es gibt keine doppelten Reihen.\n",
                "    - Jeder Datenwert muss nur von der Primärschlüsselkombination abhängig sein.\n",
                "    - In Ihrem Beispiel wurde die Anschrift in \"Anschrift\", \"PLZ\" und \"Ort\" aufgeteilt, um sicherzustellen, dass jeder Wert in der Tabelle unteilbar ist."
            ],
            "metadata": {
                "language": "sql",
                "azdata_cell_guid": "e5803505-3331-49f5-aa7b-4112c2d687b1"
            },
            "attachments": {}
        },
        {
            "cell_type": "code",
            "source": [
                "Drop TABLE if EXISTS Rechnungen_1NF\r\n",
                "GO"
            ],
            "metadata": {
                "language": "sql",
                "azdata_cell_guid": "645bab9c-045a-40ed-b625-85db54f59355"
            },
            "outputs": [
                {
                    "output_type": "display_data",
                    "data": {
                        "text/html": "Commands completed successfully."
                    },
                    "metadata": {}
                },
                {
                    "output_type": "display_data",
                    "data": {
                        "text/html": "Total execution time: 00:00:00"
                    },
                    "metadata": {}
                }
            ],
            "execution_count": 65
        },
        {
            "cell_type": "code",
            "source": [
                "CREATE TABLE Rechnungen_1NF (\r\n",
                "    RE_Nr INT PRIMARY KEY,\r\n",
                "    RE_Datum DATE,\r\n",
                "    Kunde VARCHAR(50),\r\n",
                "    Anschrift VARCHAR(255),\r\n",
                "    PLZ VARCHAR(10),\r\n",
                "    Ort VARCHAR(50),\r\n",
                "    Produkt VARCHAR(50),\r\n",
                "    Verkäufer VARCHAR(50),\r\n",
                "    Menge INT,\r\n",
                "    Preis_pro_Stück DECIMAL(10,2)\r\n",
                ");"
            ],
            "metadata": {
                "language": "sql",
                "azdata_cell_guid": "23f2e01c-26db-4b5a-b8f1-77ec8b4114e8"
            },
            "outputs": [
                {
                    "output_type": "display_data",
                    "data": {
                        "text/html": "Commands completed successfully."
                    },
                    "metadata": {}
                },
                {
                    "output_type": "display_data",
                    "data": {
                        "text/html": "Total execution time: 00:00:00.004"
                    },
                    "metadata": {}
                }
            ],
            "execution_count": 66
        },
        {
            "cell_type": "code",
            "source": [
                "INSERT INTO Rechnungen_1NF (RE_Nr, RE_Datum, Kunde, Anschrift, PLZ, Ort, Produkt, Verkäufer, Menge, Preis_pro_Stück)\r\n",
                "SELECT \r\n",
                "    RE_Nr, \r\n",
                "    RE_Datum, \r\n",
                "    Kunde, \r\n",
                "    SUBSTRING(Anschrift, 1, CHARINDEX(',', Anschrift) - 1) AS Anschrift, -- Nimmt den Teil vor dem ersten Komma\r\n",
                "    LTRIM(RTRIM(SUBSTRING(Anschrift, CHARINDEX(',', Anschrift) + 1, CHARINDEX(',', Anschrift, CHARINDEX(',', Anschrift) + 1) - CHARINDEX(',', Anschrift) - 1))) AS PLZ, -- Nimmt den Teil zwischen dem ersten und dem zweiten Komma\r\n",
                "    LTRIM(RTRIM(SUBSTRING(Anschrift, CHARINDEX(',', Anschrift, CHARINDEX(',', Anschrift) + 1) + 1, LEN(Anschrift)))) AS Ort, -- Nimmt den Teil nach dem letzten Komma\r\n",
                "    Produkt, \r\n",
                "    Verkäufer, \r\n",
                "    Menge, \r\n",
                "    Preis_pro_Stück\r\n",
                "FROM Rechnungen;\r\n",
                "GO"
            ],
            "metadata": {
                "language": "sql",
                "azdata_cell_guid": "b76b1e03-7307-4960-9729-8bf6d559bbd3"
            },
            "outputs": [
                {
                    "output_type": "display_data",
                    "data": {
                        "text/html": "(6 rows affected)"
                    },
                    "metadata": {}
                },
                {
                    "output_type": "display_data",
                    "data": {
                        "text/html": "Total execution time: 00:00:00.003"
                    },
                    "metadata": {}
                }
            ],
            "execution_count": 67
        },
        {
            "cell_type": "code",
            "source": [
                "Select * from Rechnungen_1NF\r\n",
                "GO"
            ],
            "metadata": {
                "language": "sql",
                "azdata_cell_guid": "55d5b660-11ac-42b2-9766-9277cd8e3adf"
            },
            "outputs": [
                {
                    "output_type": "display_data",
                    "data": {
                        "text/html": "(6 rows affected)"
                    },
                    "metadata": {}
                },
                {
                    "output_type": "display_data",
                    "data": {
                        "text/html": "Total execution time: 00:00:00.013"
                    },
                    "metadata": {}
                },
                {
                    "output_type": "execute_result",
                    "metadata": {},
                    "execution_count": 68,
                    "data": {
                        "application/vnd.dataresource+json": {
                            "schema": {
                                "fields": [
                                    {
                                        "name": "RE_Nr"
                                    },
                                    {
                                        "name": "RE_Datum"
                                    },
                                    {
                                        "name": "Kunde"
                                    },
                                    {
                                        "name": "Anschrift"
                                    },
                                    {
                                        "name": "PLZ"
                                    },
                                    {
                                        "name": "Ort"
                                    },
                                    {
                                        "name": "Produkt"
                                    },
                                    {
                                        "name": "Verkäufer"
                                    },
                                    {
                                        "name": "Menge"
                                    },
                                    {
                                        "name": "Preis_pro_Stück"
                                    }
                                ]
                            },
                            "data": [
                                {
                                    "RE_Nr": "557",
                                    "RE_Datum": "2019-03-13",
                                    "Kunde": "Kunde 1",
                                    "Anschrift": "Addr. 1",
                                    "PLZ": "8020",
                                    "Ort": "Graz",
                                    "Produkt": "Prod A",
                                    "Verkäufer": "Verkäufer 1",
                                    "Menge": "1",
                                    "Preis_pro_Stück": "500.00"
                                },
                                {
                                    "RE_Nr": "558",
                                    "RE_Datum": "2019-03-17",
                                    "Kunde": "Kunde 2",
                                    "Anschrift": "Addr. 2",
                                    "PLZ": "8020",
                                    "Ort": "Graz",
                                    "Produkt": "Prod B",
                                    "Verkäufer": "Verkäufer 2",
                                    "Menge": "1",
                                    "Preis_pro_Stück": "250.00"
                                },
                                {
                                    "RE_Nr": "559",
                                    "RE_Datum": "2019-04-19",
                                    "Kunde": "Kunde 1",
                                    "Anschrift": "Addr. 1",
                                    "PLZ": "8020",
                                    "Ort": "Graz",
                                    "Produkt": "Prod A",
                                    "Verkäufer": "Verkäufer 2",
                                    "Menge": "1",
                                    "Preis_pro_Stück": "500.00"
                                },
                                {
                                    "RE_Nr": "560",
                                    "RE_Datum": "2019-05-25",
                                    "Kunde": "Kunde 3",
                                    "Anschrift": "Addr. 3",
                                    "PLZ": "8010",
                                    "Ort": "Graz",
                                    "Produkt": "Prod A",
                                    "Verkäufer": "Verkäufer 1",
                                    "Menge": "2",
                                    "Preis_pro_Stück": "500.00"
                                },
                                {
                                    "RE_Nr": "561",
                                    "RE_Datum": "2019-05-26",
                                    "Kunde": "Kunde 1",
                                    "Anschrift": "Addr. 1",
                                    "PLZ": "8020",
                                    "Ort": "Graz",
                                    "Produkt": "Prod C",
                                    "Verkäufer": "Verkäufer 3",
                                    "Menge": "1",
                                    "Preis_pro_Stück": "750.00"
                                },
                                {
                                    "RE_Nr": "562",
                                    "RE_Datum": "2019-05-27",
                                    "Kunde": "Kunde 2",
                                    "Anschrift": "Addr. 2",
                                    "PLZ": "8020",
                                    "Ort": "Graz",
                                    "Produkt": "Prod A",
                                    "Verkäufer": "Verkäufer 1",
                                    "Menge": "3",
                                    "Preis_pro_Stück": "500.00"
                                }
                            ]
                        },
                        "text/html": [
                            "<table>",
                            "<tr><th>RE_Nr</th><th>RE_Datum</th><th>Kunde</th><th>Anschrift</th><th>PLZ</th><th>Ort</th><th>Produkt</th><th>Verkäufer</th><th>Menge</th><th>Preis_pro_Stück</th></tr>",
                            "<tr><td>557</td><td>2019-03-13</td><td>Kunde 1</td><td>Addr. 1</td><td>8020</td><td>Graz</td><td>Prod A</td><td>Verkäufer 1</td><td>1</td><td>500.00</td></tr>",
                            "<tr><td>558</td><td>2019-03-17</td><td>Kunde 2</td><td>Addr. 2</td><td>8020</td><td>Graz</td><td>Prod B</td><td>Verkäufer 2</td><td>1</td><td>250.00</td></tr>",
                            "<tr><td>559</td><td>2019-04-19</td><td>Kunde 1</td><td>Addr. 1</td><td>8020</td><td>Graz</td><td>Prod A</td><td>Verkäufer 2</td><td>1</td><td>500.00</td></tr>",
                            "<tr><td>560</td><td>2019-05-25</td><td>Kunde 3</td><td>Addr. 3</td><td>8010</td><td>Graz</td><td>Prod A</td><td>Verkäufer 1</td><td>2</td><td>500.00</td></tr>",
                            "<tr><td>561</td><td>2019-05-26</td><td>Kunde 1</td><td>Addr. 1</td><td>8020</td><td>Graz</td><td>Prod C</td><td>Verkäufer 3</td><td>1</td><td>750.00</td></tr>",
                            "<tr><td>562</td><td>2019-05-27</td><td>Kunde 2</td><td>Addr. 2</td><td>8020</td><td>Graz</td><td>Prod A</td><td>Verkäufer 1</td><td>3</td><td>500.00</td></tr>",
                            "</table>"
                        ]
                    }
                }
            ],
            "execution_count": 68
        },
        {
            "cell_type": "markdown",
            "source": [
                "Die oben genannten SQL-Statements basieren auf der Annahme, dass die Adressen immer im gleichen Format sind (\"Straße, PLZ, Ort\"). Wenn das Format unterschiedlich ist, könnte das Statement nicht wie erwartet funktionieren. Das Aufteilen von Zeichenketten kann auch mit anderen SQL-Funktionen oder -Techniken erfolgen, je nach den genauen Anforderungen und Daten."
            ],
            "metadata": {
                "language": "sql",
                "azdata_cell_guid": "23c1700d-3c41-4482-85bd-0163720bc84f"
            },
            "attachments": {}
        },
        {
            "cell_type": "markdown",
            "source": [
                "# 2\\. Normalform (2NF)\n",
                "\n",
                "Ein Relationstyp (Tabelle) befindet sich genau dann in der zweiten Normalform (2NF), wenn er sich in der ersten Normalform (1NF) befindet und jedes Nichtschlüsselattribut von jedem Schlüsselkandidaten voll funktional abhängig ist.\n",
                "\n",
                "![](data:image/png;base64,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)"
            ],
            "metadata": {
                "language": "sql",
                "azdata_cell_guid": "b412726a-8247-4f8e-aa1e-09f283e55673"
            },
            "attachments": {}
        },
        {
            "cell_type": "markdown",
            "source": [
                "**1NF zu 2. Normalform (2NF):**\n",
                "\n",
                "- 1NF: \n",
                "    - Die Daten sind atomar, aber es kann immer noch eine partielle Abhängigkeit von nicht-schlüsselattributen auf Teilen des zusammengesetzten Schlüssels geben.\n",
                "    - In Ihrem Datenmodell gab es eine partielle Abhängigkeit, da der Kunde und der Verkäufer mehrfach wiederholt wurden.\n",
                "- 2NF:\n",
                "    - In der 2NF werden alle partiellen Abhängigkeiten von Nicht-Schlüsselattributen auf Teilen eines zusammengesetzten Schlüssels entfernt.\n",
                "    - Hier wurden separate Tabellen für Kunden und Verkäufer erstellt, um die Redundanz zu beseitigen und die Datenintegrität zu gewährleisten.\n",
                "    - Das hat zur Folge, dass jede Tabelle nur von ihrem jeweiligen Primärschlüssel abhängt und nicht von einem anderen nicht-schlüsselattribut."
            ],
            "metadata": {
                "language": "sql",
                "azdata_cell_guid": "d247f9a3-81b8-4dfc-af4a-2d1e2fa0e209"
            },
            "attachments": {}
        },
        {
            "cell_type": "code",
            "source": [
                "-- Löschen aller Fremdschlüssel\r\n",
                "DECLARE @Sql NVARCHAR(MAX) = '';\r\n",
                "DECLARE @TableName NVARCHAR(128);\r\n",
                "\r\n",
                "-- Erstelle eine temporäre Tabelle, um die Tabellennamen zu speichern\r\n",
                "DECLARE @Tables TABLE (TableName NVARCHAR(128));\r\n",
                "INSERT INTO @Tables (TableName)\r\n",
                "VALUES ('Kunden_2NF'), ('Verkäufer_2NF'), ('Produkte_2NF'), ('Rechnungen_2NF'), ('Rechnungspositionen_2NF');\r\n",
                "\r\n",
                "-- Beginne die Iteration über die Tabellennamen\r\n",
                "WHILE (SELECT COUNT(*) FROM @Tables) > 0\r\n",
                "BEGIN\r\n",
                "    -- Hole den ersten Tabellennamen\r\n",
                "    SELECT TOP 1 @TableName = TableName FROM @Tables;\r\n",
                "\r\n",
                "    -- Generiere DROP-Anweisungen für jeden Fremdschlüssel\r\n",
                "    SET @Sql = '';\r\n",
                "    SELECT @Sql += 'ALTER TABLE ' + QUOTENAME(OBJECT_SCHEMA_NAME(parent_object_id))\r\n",
                "        + '.' + QUOTENAME(OBJECT_NAME(parent_object_id)) \r\n",
                "        + ' DROP CONSTRAINT ' + QUOTENAME(name) + '; ' \r\n",
                "    FROM sys.foreign_keys\r\n",
                "    WHERE OBJECT_NAME(parent_object_id) = @TableName;\r\n",
                "\r\n",
                "    -- Führe das generierte SQL-Statement aus, wenn es nicht leer ist\r\n",
                "    IF LEN(@Sql) > 0\r\n",
                "        EXEC sp_executesql @Sql;\r\n",
                "\r\n",
                "    -- Lösche den bearbeiteten Tabellennamen, um zum nächsten zu gelangen\r\n",
                "    DELETE FROM @Tables WHERE TableName = @TableName;\r\n",
                "END;\r\n",
                ""
            ],
            "metadata": {
                "language": "sql",
                "azdata_cell_guid": "0f606ac5-6676-4dc3-a659-455c714dc577"
            },
            "outputs": [
                {
                    "output_type": "display_data",
                    "data": {
                        "text/html": "(5 rows affected)"
                    },
                    "metadata": {}
                },
                {
                    "output_type": "display_data",
                    "data": {
                        "text/html": "(1 row affected)"
                    },
                    "metadata": {}
                },
                {
                    "output_type": "display_data",
                    "data": {
                        "text/html": "(1 row affected)"
                    },
                    "metadata": {}
                },
                {
                    "output_type": "display_data",
                    "data": {
                        "text/html": "(1 row affected)"
                    },
                    "metadata": {}
                },
                {
                    "output_type": "display_data",
                    "data": {
                        "text/html": "(1 row affected)"
                    },
                    "metadata": {}
                },
                {
                    "output_type": "display_data",
                    "data": {
                        "text/html": "(1 row affected)"
                    },
                    "metadata": {}
                },
                {
                    "output_type": "display_data",
                    "data": {
                        "text/html": "Total execution time: 00:00:00.032"
                    },
                    "metadata": {}
                }
            ],
            "execution_count": 69
        },
        {
            "cell_type": "code",
            "source": [
                "Drop Table if EXISTS Kunden_2NF\r\n",
                "Drop Table if EXISTS Verkäufer_2NF\r\n",
                "Drop Table if EXISTS Produkte_2NF\r\n",
                "Drop Table if EXISTS Rechnungen_2NF\r\n",
                "Drop Table if EXISTS Rechnungspositionen_2NF"
            ],
            "metadata": {
                "language": "sql",
                "azdata_cell_guid": "f95c17ac-53e4-45d0-9f09-b4b72e74817f",
                "tags": []
            },
            "outputs": [
                {
                    "output_type": "display_data",
                    "data": {
                        "text/html": "Commands completed successfully."
                    },
                    "metadata": {}
                },
                {
                    "output_type": "display_data",
                    "data": {
                        "text/html": "Total execution time: 00:00:00"
                    },
                    "metadata": {}
                }
            ],
            "execution_count": 70
        },
        {
            "cell_type": "code",
            "source": [
                "-- Kunden Tabelle\r\n",
                "CREATE TABLE Kunden_2NF (\r\n",
                "    KdNr INT PRIMARY KEY IDENTITY(1,1),\r\n",
                "    Kunde VARCHAR(50),\r\n",
                "    Anschrift VARCHAR(255),\r\n",
                "    PLZ VARCHAR(10),\r\n",
                "    Ort VARCHAR(50)\r\n",
                ");\r\n",
                "\r\n",
                "-- Verkäufer Tabelle\r\n",
                "CREATE TABLE Verkäufer_2NF (\r\n",
                "    VkNr INT PRIMARY KEY IDENTITY(1,1),\r\n",
                "    Verkäufer VARCHAR(50)\r\n",
                ");\r\n",
                "\r\n",
                "-- Produkte Tabelle\r\n",
                "CREATE TABLE Produkte_2NF (\r\n",
                "    ProdNr INT PRIMARY KEY IDENTITY(1,1),\r\n",
                "    ProduktName VARCHAR(50),\r\n",
                "    Preis_pro_Stück DECIMAL(10,2)\r\n",
                ");\r\n",
                "\r\n",
                "-- Rechnungen Tabelle\r\n",
                "CREATE TABLE Rechnungen_2NF (\r\n",
                "    RE_Nr INT PRIMARY KEY IDENTITY(1,1),\r\n",
                "    RE_Datum DATE,\r\n",
                "    KdNr INT,\r\n",
                "    VkNr INT,\r\n",
                "    FOREIGN KEY (KdNr) REFERENCES Kunden_2NF(KdNr),\r\n",
                "    FOREIGN KEY (VkNr) REFERENCES Verkäufer_2NF(VkNr)\r\n",
                ");\r\n",
                "\r\n",
                "-- Rechnungspositionen Tabelle\r\n",
                "CREATE TABLE Rechnungspositionen_2NF (\r\n",
                "    RechnungsPosNr INT PRIMARY KEY IDENTITY(1,1),\r\n",
                "    RE_Nr INT,\r\n",
                "    ProdNr INT,\r\n",
                "    Menge INT,\r\n",
                "    FOREIGN KEY (RE_Nr) REFERENCES Rechnungen_2NF(RE_Nr),\r\n",
                "    FOREIGN KEY (ProdNr) REFERENCES Produkte_2NF(ProdNr)\r\n",
                ");"
            ],
            "metadata": {
                "language": "sql",
                "azdata_cell_guid": "88f7d999-8183-4df4-b9a1-235c088327fa"
            },
            "outputs": [
                {
                    "output_type": "display_data",
                    "data": {
                        "text/html": "Commands completed successfully."
                    },
                    "metadata": {}
                },
                {
                    "output_type": "display_data",
                    "data": {
                        "text/html": "Total execution time: 00:00:00.015"
                    },
                    "metadata": {}
                }
            ],
            "execution_count": 71
        },
        {
            "cell_type": "code",
            "source": [
                "-- Daten in die Kunden Tabelle einfügen\r\n",
                "INSERT INTO Kunden_2NF (Kunde, Anschrift, PLZ, Ort)\r\n",
                "SELECT DISTINCT Kunde, Anschrift, PLZ, Ort\r\n",
                "FROM Rechnungen_1NF;\r\n",
                "\r\n",
                "-- Daten in die Verkäufer Tabelle einfügen\r\n",
                "INSERT INTO Verkäufer_2NF (Verkäufer)\r\n",
                "SELECT DISTINCT Verkäufer\r\n",
                "FROM Rechnungen_1NF;\r\n",
                "\r\n",
                "-- Daten in die Produkte Tabelle einfügen\r\n",
                "INSERT INTO Produkte_2NF (ProduktName, Preis_pro_Stück)\r\n",
                "Select Distinct Produkt as ProduktName, Preis_pro_Stück \r\n",
                "from Rechnungen_1NF\r\n",
                "\r\n",
                "-- Daten in die Rechnungen Tabelle einfügen\r\n",
                "SET IDENTITY_INSERT Rechnungen_2NF ON;\r\n",
                "\r\n",
                "INSERT INTO Rechnungen_2NF (RE_Nr, RE_Datum, KdNr, VkNr)\r\n",
                "SELECT \r\n",
                "    r.RE_Nr, \r\n",
                "    r.RE_Datum, \r\n",
                "    k.KdNr, \r\n",
                "    v.VkNr\r\n",
                "FROM Rechnungen_1NF r\r\n",
                "JOIN Kunden_2NF k ON r.Kunde = k.Kunde\r\n",
                "JOIN Verkäufer_2NF v ON r.Verkäufer = v.Verkäufer;\r\n",
                "\r\n",
                "SET IDENTITY_INSERT Rechnungen_2NF OFF;\r\n",
                "\r\n",
                "\r\n",
                "-- Daten in die Rechnungspositionen Tabelle einfügen\r\n",
                "INSERT INTO Rechnungspositionen_2NF (RE_Nr, ProdNr, Menge)\r\n",
                "SELECT \r\n",
                "    r.RE_Nr, \r\n",
                "    p.ProdNr, \r\n",
                "    r.Menge\r\n",
                "FROM Rechnungen_1NF r\r\n",
                "JOIN Produkte_2NF p ON r.Produkt = p.ProduktName;"
            ],
            "metadata": {
                "language": "sql",
                "azdata_cell_guid": "3e0f8648-26e9-4a16-80ca-d4a085d7b2d1"
            },
            "outputs": [
                {
                    "output_type": "display_data",
                    "data": {
                        "text/html": "(3 rows affected)"
                    },
                    "metadata": {}
                },
                {
                    "output_type": "display_data",
                    "data": {
                        "text/html": "(3 rows affected)"
                    },
                    "metadata": {}
                },
                {
                    "output_type": "display_data",
                    "data": {
                        "text/html": "(3 rows affected)"
                    },
                    "metadata": {}
                },
                {
                    "output_type": "display_data",
                    "data": {
                        "text/html": "(6 rows affected)"
                    },
                    "metadata": {}
                },
                {
                    "output_type": "display_data",
                    "data": {
                        "text/html": "(6 rows affected)"
                    },
                    "metadata": {}
                },
                {
                    "output_type": "display_data",
                    "data": {
                        "text/html": "Total execution time: 00:00:00.091"
                    },
                    "metadata": {}
                }
            ],
            "execution_count": 72
        },
        {
            "cell_type": "code",
            "source": [
                "-- Daten aus der Kunden Tabelle abrufen\r\n",
                "SELECT * FROM Kunden_2NF;\r\n",
                "\r\n",
                "-- Daten aus der Verkäufer Tabelle abrufen\r\n",
                "SELECT * FROM Verkäufer_2NF;\r\n",
                "\r\n",
                "-- Daten aus der Produkte Tabelle abrufen\r\n",
                "SELECT * FROM Produkte_2NF;\r\n",
                "\r\n",
                "-- Daten aus der Rechnungen Tabelle abrufen\r\n",
                "SELECT * FROM Rechnungen_2NF;\r\n",
                "\r\n",
                "-- Daten aus der Rechnungspositionen Tabelle abrufen\r\n",
                "SELECT * FROM Rechnungspositionen_2NF;"
            ],
            "metadata": {
                "language": "sql",
                "azdata_cell_guid": "14634fc8-c119-4740-8cb2-f6ee4d6a6206"
            },
            "outputs": [
                {
                    "output_type": "display_data",
                    "data": {
                        "text/html": "(3 rows affected)"
                    },
                    "metadata": {}
                },
                {
                    "output_type": "display_data",
                    "data": {
                        "text/html": "(3 rows affected)"
                    },
                    "metadata": {}
                },
                {
                    "output_type": "display_data",
                    "data": {
                        "text/html": "(3 rows affected)"
                    },
                    "metadata": {}
                },
                {
                    "output_type": "display_data",
                    "data": {
                        "text/html": "(6 rows affected)"
                    },
                    "metadata": {}
                },
                {
                    "output_type": "display_data",
                    "data": {
                        "text/html": "(6 rows affected)"
                    },
                    "metadata": {}
                },
                {
                    "output_type": "display_data",
                    "data": {
                        "text/html": "Total execution time: 00:00:00.032"
                    },
                    "metadata": {}
                },
                {
                    "output_type": "execute_result",
                    "metadata": {},
                    "execution_count": 73,
                    "data": {
                        "application/vnd.dataresource+json": {
                            "schema": {
                                "fields": [
                                    {
                                        "name": "KdNr"
                                    },
                                    {
                                        "name": "Kunde"
                                    },
                                    {
                                        "name": "Anschrift"
                                    },
                                    {
                                        "name": "PLZ"
                                    },
                                    {
                                        "name": "Ort"
                                    }
                                ]
                            },
                            "data": [
                                {
                                    "KdNr": "1",
                                    "Kunde": "Kunde 1",
                                    "Anschrift": "Addr. 1",
                                    "PLZ": "8020",
                                    "Ort": "Graz"
                                },
                                {
                                    "KdNr": "2",
                                    "Kunde": "Kunde 2",
                                    "Anschrift": "Addr. 2",
                                    "PLZ": "8020",
                                    "Ort": "Graz"
                                },
                                {
                                    "KdNr": "3",
                                    "Kunde": "Kunde 3",
                                    "Anschrift": "Addr. 3",
                                    "PLZ": "8010",
                                    "Ort": "Graz"
                                }
                            ]
                        },
                        "text/html": [
                            "<table>",
                            "<tr><th>KdNr</th><th>Kunde</th><th>Anschrift</th><th>PLZ</th><th>Ort</th></tr>",
                            "<tr><td>1</td><td>Kunde 1</td><td>Addr. 1</td><td>8020</td><td>Graz</td></tr>",
                            "<tr><td>2</td><td>Kunde 2</td><td>Addr. 2</td><td>8020</td><td>Graz</td></tr>",
                            "<tr><td>3</td><td>Kunde 3</td><td>Addr. 3</td><td>8010</td><td>Graz</td></tr>",
                            "</table>"
                        ]
                    }
                },
                {
                    "output_type": "execute_result",
                    "metadata": {},
                    "execution_count": 73,
                    "data": {
                        "application/vnd.dataresource+json": {
                            "schema": {
                                "fields": [
                                    {
                                        "name": "VkNr"
                                    },
                                    {
                                        "name": "Verkäufer"
                                    }
                                ]
                            },
                            "data": [
                                {
                                    "VkNr": "1",
                                    "Verkäufer": "Verkäufer 1"
                                },
                                {
                                    "VkNr": "2",
                                    "Verkäufer": "Verkäufer 2"
                                },
                                {
                                    "VkNr": "3",
                                    "Verkäufer": "Verkäufer 3"
                                }
                            ]
                        },
                        "text/html": [
                            "<table>",
                            "<tr><th>VkNr</th><th>Verkäufer</th></tr>",
                            "<tr><td>1</td><td>Verkäufer 1</td></tr>",
                            "<tr><td>2</td><td>Verkäufer 2</td></tr>",
                            "<tr><td>3</td><td>Verkäufer 3</td></tr>",
                            "</table>"
                        ]
                    }
                },
                {
                    "output_type": "execute_result",
                    "metadata": {},
                    "execution_count": 73,
                    "data": {
                        "application/vnd.dataresource+json": {
                            "schema": {
                                "fields": [
                                    {
                                        "name": "ProdNr"
                                    },
                                    {
                                        "name": "ProduktName"
                                    },
                                    {
                                        "name": "Preis_pro_Stück"
                                    }
                                ]
                            },
                            "data": [
                                {
                                    "ProdNr": "1",
                                    "ProduktName": "Prod A",
                                    "Preis_pro_Stück": "500.00"
                                },
                                {
                                    "ProdNr": "2",
                                    "ProduktName": "Prod B",
                                    "Preis_pro_Stück": "250.00"
                                },
                                {
                                    "ProdNr": "3",
                                    "ProduktName": "Prod C",
                                    "Preis_pro_Stück": "750.00"
                                }
                            ]
                        },
                        "text/html": [
                            "<table>",
                            "<tr><th>ProdNr</th><th>ProduktName</th><th>Preis_pro_Stück</th></tr>",
                            "<tr><td>1</td><td>Prod A</td><td>500.00</td></tr>",
                            "<tr><td>2</td><td>Prod B</td><td>250.00</td></tr>",
                            "<tr><td>3</td><td>Prod C</td><td>750.00</td></tr>",
                            "</table>"
                        ]
                    }
                },
                {
                    "output_type": "execute_result",
                    "metadata": {},
                    "execution_count": 73,
                    "data": {
                        "application/vnd.dataresource+json": {
                            "schema": {
                                "fields": [
                                    {
                                        "name": "RE_Nr"
                                    },
                                    {
                                        "name": "RE_Datum"
                                    },
                                    {
                                        "name": "KdNr"
                                    },
                                    {
                                        "name": "VkNr"
                                    }
                                ]
                            },
                            "data": [
                                {
                                    "RE_Nr": "557",
                                    "RE_Datum": "2019-03-13",
                                    "KdNr": "1",
                                    "VkNr": "1"
                                },
                                {
                                    "RE_Nr": "558",
                                    "RE_Datum": "2019-03-17",
                                    "KdNr": "2",
                                    "VkNr": "2"
                                },
                                {
                                    "RE_Nr": "559",
                                    "RE_Datum": "2019-04-19",
                                    "KdNr": "1",
                                    "VkNr": "2"
                                },
                                {
                                    "RE_Nr": "560",
                                    "RE_Datum": "2019-05-25",
                                    "KdNr": "3",
                                    "VkNr": "1"
                                },
                                {
                                    "RE_Nr": "561",
                                    "RE_Datum": "2019-05-26",
                                    "KdNr": "1",
                                    "VkNr": "3"
                                },
                                {
                                    "RE_Nr": "562",
                                    "RE_Datum": "2019-05-27",
                                    "KdNr": "2",
                                    "VkNr": "1"
                                }
                            ]
                        },
                        "text/html": [
                            "<table>",
                            "<tr><th>RE_Nr</th><th>RE_Datum</th><th>KdNr</th><th>VkNr</th></tr>",
                            "<tr><td>557</td><td>2019-03-13</td><td>1</td><td>1</td></tr>",
                            "<tr><td>558</td><td>2019-03-17</td><td>2</td><td>2</td></tr>",
                            "<tr><td>559</td><td>2019-04-19</td><td>1</td><td>2</td></tr>",
                            "<tr><td>560</td><td>2019-05-25</td><td>3</td><td>1</td></tr>",
                            "<tr><td>561</td><td>2019-05-26</td><td>1</td><td>3</td></tr>",
                            "<tr><td>562</td><td>2019-05-27</td><td>2</td><td>1</td></tr>",
                            "</table>"
                        ]
                    }
                },
                {
                    "output_type": "execute_result",
                    "metadata": {},
                    "execution_count": 73,
                    "data": {
                        "application/vnd.dataresource+json": {
                            "schema": {
                                "fields": [
                                    {
                                        "name": "RechnungsPosNr"
                                    },
                                    {
                                        "name": "RE_Nr"
                                    },
                                    {
                                        "name": "ProdNr"
                                    },
                                    {
                                        "name": "Menge"
                                    }
                                ]
                            },
                            "data": [
                                {
                                    "RechnungsPosNr": "1",
                                    "RE_Nr": "557",
                                    "ProdNr": "1",
                                    "Menge": "1"
                                },
                                {
                                    "RechnungsPosNr": "2",
                                    "RE_Nr": "559",
                                    "ProdNr": "1",
                                    "Menge": "1"
                                },
                                {
                                    "RechnungsPosNr": "3",
                                    "RE_Nr": "560",
                                    "ProdNr": "1",
                                    "Menge": "2"
                                },
                                {
                                    "RechnungsPosNr": "4",
                                    "RE_Nr": "562",
                                    "ProdNr": "1",
                                    "Menge": "3"
                                },
                                {
                                    "RechnungsPosNr": "5",
                                    "RE_Nr": "558",
                                    "ProdNr": "2",
                                    "Menge": "1"
                                },
                                {
                                    "RechnungsPosNr": "6",
                                    "RE_Nr": "561",
                                    "ProdNr": "3",
                                    "Menge": "1"
                                }
                            ]
                        },
                        "text/html": [
                            "<table>",
                            "<tr><th>RechnungsPosNr</th><th>RE_Nr</th><th>ProdNr</th><th>Menge</th></tr>",
                            "<tr><td>1</td><td>557</td><td>1</td><td>1</td></tr>",
                            "<tr><td>2</td><td>559</td><td>1</td><td>1</td></tr>",
                            "<tr><td>3</td><td>560</td><td>1</td><td>2</td></tr>",
                            "<tr><td>4</td><td>562</td><td>1</td><td>3</td></tr>",
                            "<tr><td>5</td><td>558</td><td>2</td><td>1</td></tr>",
                            "<tr><td>6</td><td>561</td><td>3</td><td>1</td></tr>",
                            "</table>"
                        ]
                    }
                }
            ],
            "execution_count": 73
        },
        {
            "cell_type": "markdown",
            "source": [
                "# 3\\. Normalform (3NF)\n",
                "\n",
                "Ein Relationstyp befindet sich genau dann in der dritten Normalform (3NF), wenn er sich in der zweiten Normalform (2NF) befindet und kein Nichtschlüsselattribut transitiv von einem Kandidatenschlüssel abhängt.\n",
                "\n",
                "![](data:image/png;base64,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)"
            ],
            "metadata": {
                "language": "sql",
                "azdata_cell_guid": "2741d0bb-d38a-4f3d-9df7-e12271d57dba"
            },
            "attachments": {}
        },
        {
            "cell_type": "markdown",
            "source": [
                "**2NF zu 3. Normalform (3NF):**\n",
                "\n",
                "- 2NF:\n",
                "    - Alle partiellen Abhängigkeiten wurden entfernt, aber es können immer noch transitive Abhängigkeiten bestehen, bei denen ein Attribut nicht direkt vom Primärschlüssel, sondern von einem anderen Attribut abhängig ist. \n",
                "    - In Ihrem Datenmodell gab es eine solche Abhängigkeit: Die Tabelle Kunden\\_2NF enthielt sowohl \"PLZ\" als auch \"Ort\", was zu einer potenziellen Redundanz führen kann.\n",
                "- 3NF:\n",
                "    - In der 3NF werden alle transitive Abhängigkeiten von Nicht-Schlüsselattributen entfernt.\n",
                "    - Um diese Redundanz zu beseitigen, wurde die \"Ort\" Information in eine separate Tabelle namens PLZ\\_Ort überführt, wobei die \"PLZ\" als Schlüssel dient. Somit wird sichergestellt, dass \"Ort\" nicht mehr transitiv von \"KdNr\" in der Kunden\\_3NF Tabelle abhängig ist, sondern direkt von der \"PLZ\"."
            ],
            "metadata": {
                "language": "sql",
                "azdata_cell_guid": "2f8e0115-911b-42fe-b242-4b051055ad7a"
            },
            "attachments": {}
        },
        {
            "cell_type": "code",
            "source": [
                "-- Löschen aller Fremdschlüssel\r\n",
                "DECLARE @Sql NVARCHAR(MAX) = '';\r\n",
                "DECLARE @TableName NVARCHAR(128);\r\n",
                "\r\n",
                "-- Erstelle eine temporäre Tabelle, um die Tabellennamen zu speichern\r\n",
                "DECLARE @Tables TABLE (TableName NVARCHAR(128));\r\n",
                "INSERT INTO @Tables (TableName)\r\n",
                "VALUES ('Kunden_3NF'), ('PLZ_Ort'), ('Verkäufer_3NF'), ('Produkte_3NF'), ('Rechnungen_3NF'), ('Rechnungspositionen_3NF');\r\n",
                "\r\n",
                "-- Beginne die Iteration über die Tabellennamen\r\n",
                "WHILE (SELECT COUNT(*) FROM @Tables) > 0\r\n",
                "BEGIN\r\n",
                "    -- Hole den ersten Tabellennamen\r\n",
                "    SELECT TOP 1 @TableName = TableName FROM @Tables;\r\n",
                "\r\n",
                "    -- Generiere DROP-Anweisungen für jeden Fremdschlüssel\r\n",
                "    SET @Sql = '';\r\n",
                "    SELECT @Sql += 'ALTER TABLE ' + QUOTENAME(OBJECT_SCHEMA_NAME(parent_object_id))\r\n",
                "        + '.' + QUOTENAME(OBJECT_NAME(parent_object_id)) \r\n",
                "        + ' DROP CONSTRAINT ' + QUOTENAME(name) + '; ' \r\n",
                "    FROM sys.foreign_keys\r\n",
                "    WHERE OBJECT_NAME(parent_object_id) = @TableName;\r\n",
                "\r\n",
                "    -- Führe das generierte SQL-Statement aus, wenn es nicht leer ist\r\n",
                "    IF LEN(@Sql) > 0\r\n",
                "        EXEC sp_executesql @Sql;\r\n",
                "\r\n",
                "    -- Lösche den bearbeiteten Tabellennamen, um zum nächsten zu gelangen\r\n",
                "    DELETE FROM @Tables WHERE TableName = @TableName;\r\n",
                "END;\r\n",
                ""
            ],
            "metadata": {
                "language": "sql",
                "azdata_cell_guid": "44278314-01fe-48b7-af79-847349f9fd2e"
            },
            "outputs": [
                {
                    "output_type": "display_data",
                    "data": {
                        "text/html": "(6 rows affected)"
                    },
                    "metadata": {}
                },
                {
                    "output_type": "display_data",
                    "data": {
                        "text/html": "(1 row affected)"
                    },
                    "metadata": {}
                },
                {
                    "output_type": "display_data",
                    "data": {
                        "text/html": "(1 row affected)"
                    },
                    "metadata": {}
                },
                {
                    "output_type": "display_data",
                    "data": {
                        "text/html": "(1 row affected)"
                    },
                    "metadata": {}
                },
                {
                    "output_type": "display_data",
                    "data": {
                        "text/html": "(1 row affected)"
                    },
                    "metadata": {}
                },
                {
                    "output_type": "display_data",
                    "data": {
                        "text/html": "(1 row affected)"
                    },
                    "metadata": {}
                },
                {
                    "output_type": "display_data",
                    "data": {
                        "text/html": "(1 row affected)"
                    },
                    "metadata": {}
                },
                {
                    "output_type": "display_data",
                    "data": {
                        "text/html": "Total execution time: 00:00:00.033"
                    },
                    "metadata": {}
                }
            ],
            "execution_count": 74
        },
        {
            "cell_type": "code",
            "source": [
                "Drop Table if EXISTS Kunden_3NF\r\n",
                "Drop Table if EXISTS PLZ_Ort\r\n",
                "Drop Table if EXISTS Verkäufer_3NF\r\n",
                "Drop Table if EXISTS Produkte_3NF\r\n",
                "Drop Table if EXISTS Rechnungen_3NF\r\n",
                "Drop Table if Exists Rechnungspositionen_3NF"
            ],
            "metadata": {
                "language": "sql",
                "azdata_cell_guid": "a38db6e1-0a5c-4876-95bb-af146cb4a0ee"
            },
            "outputs": [
                {
                    "output_type": "display_data",
                    "data": {
                        "text/html": "Commands completed successfully."
                    },
                    "metadata": {}
                },
                {
                    "output_type": "display_data",
                    "data": {
                        "text/html": "Total execution time: 00:00:00.001"
                    },
                    "metadata": {}
                }
            ],
            "execution_count": 75
        },
        {
            "cell_type": "code",
            "source": [
                "-- PLZ und Ort Tabelle\r\n",
                "CREATE TABLE PLZ_Ort (\r\n",
                "    PLZ VARCHAR(10) PRIMARY KEY,\r\n",
                "    Ort VARCHAR(50)\r\n",
                ");\r\n",
                "\r\n",
                "-- Kunden Tabelle\r\n",
                "CREATE TABLE Kunden_3NF (\r\n",
                "    KdNr INT PRIMARY KEY,\r\n",
                "    Kunde VARCHAR(50),\r\n",
                "    Anschrift VARCHAR(255),\r\n",
                "    PLZ VARCHAR(10),\r\n",
                "    FOREIGN KEY (PLZ) REFERENCES PLZ_Ort(PLZ)\r\n",
                ");\r\n",
                "\r\n",
                "-- Verkäufer Tabelle\r\n",
                "CREATE TABLE Verkäufer_3NF (\r\n",
                "    VkNr INT PRIMARY KEY,\r\n",
                "    Verkäufer VARCHAR(50)\r\n",
                ");\r\n",
                "\r\n",
                "-- Produkte Tabelle\r\n",
                "CREATE TABLE Produkte_3NF (\r\n",
                "    ProdNr int PRIMARY KEY,\r\n",
                "    ProduktName VARCHAR(50),\r\n",
                "    Preis_pro_Stück DECIMAL(10,2)\r\n",
                ");\r\n",
                "\r\n",
                "-- Rechnungen Tabelle\r\n",
                "CREATE TABLE Rechnungen_3NF (\r\n",
                "    RE_Nr INT PRIMARY KEY,\r\n",
                "    RE_Datum DATE,\r\n",
                "    KdNr INT,\r\n",
                "    VkNr INT,\r\n",
                "    FOREIGN KEY (KdNr) REFERENCES Kunden_3NF(KdNr),\r\n",
                "    FOREIGN KEY (VkNr) REFERENCES Verkäufer_3NF(VkNr)\r\n",
                ");\r\n",
                "\r\n",
                "-- Rechnungspositionen Tabelle\r\n",
                "CREATE TABLE Rechnungspositionen_3NF (\r\n",
                "    RechnungsPosNr INT IDENTITY(1,1),\r\n",
                "    RE_Nr INT,\r\n",
                "    ProdNr int,\r\n",
                "    Menge INT,\r\n",
                "    FOREIGN KEY (RE_Nr) REFERENCES Rechnungen_3NF(RE_Nr),\r\n",
                "    FOREIGN KEY (ProdNr) REFERENCES Produkte_3NF(ProdNr)\r\n",
                ");\r\n",
                ""
            ],
            "metadata": {
                "language": "sql",
                "azdata_cell_guid": "a40dd9b6-80fb-4a91-a3f3-9fd83f8816b9"
            },
            "outputs": [
                {
                    "output_type": "display_data",
                    "data": {
                        "text/html": "Commands completed successfully."
                    },
                    "metadata": {}
                },
                {
                    "output_type": "display_data",
                    "data": {
                        "text/html": "Total execution time: 00:00:00.032"
                    },
                    "metadata": {}
                }
            ],
            "execution_count": 76
        },
        {
            "cell_type": "code",
            "source": [
                "-- Daten in die PLZ und Ort Tabelle einfügen\r\n",
                "INSERT INTO PLZ_Ort (PLZ, Ort)\r\n",
                "SELECT DISTINCT PLZ, Ort\r\n",
                "FROM Kunden_2NF;\r\n",
                "\r\n",
                "-- Daten in die Kunden Tabelle einfügen\r\n",
                "INSERT INTO Kunden_3NF (KdNr, Kunde, Anschrift, PLZ)\r\n",
                "SELECT KdNr, Kunde, Anschrift, PLZ\r\n",
                "FROM Kunden_2NF;\r\n",
                "\r\n",
                "-- Daten in die Verkäufer Tabelle einfügen\r\n",
                "INSERT INTO Verkäufer_3NF (VkNr, Verkäufer)\r\n",
                "SELECT VkNr, Verkäufer\r\n",
                "FROM Verkäufer_2NF;\r\n",
                "\r\n",
                "-- Daten in die Produkte Tabelle einfügen\r\n",
                "INSERT INTO Produkte_3NF (ProdNr, ProduktName, Preis_pro_Stück)\r\n",
                "SELECT ProdNr, ProduktName, Preis_pro_Stück\r\n",
                "FROM Produkte_2NF;\r\n",
                "\r\n",
                "-- Daten in die Rechnungen Tabelle einfügen\r\n",
                "INSERT INTO Rechnungen_3NF (RE_Nr, RE_Datum, KdNr, VkNr)\r\n",
                "SELECT RE_Nr, RE_Datum, KdNr, VkNr\r\n",
                "FROM Rechnungen_2NF;\r\n",
                "\r\n",
                "-- Daten in die Rechnungspositionen Tabelle einfügen\r\n",
                "SET IDENTITY_INSERT Rechnungspositionen_3NF ON;\r\n",
                "\r\n",
                "INSERT INTO Rechnungspositionen_3NF (RechnungsPosNr, RE_Nr, ProdNr, Menge)\r\n",
                "SELECT RechnungsPosNr, RE_Nr, ProdNr, Menge\r\n",
                "FROM Rechnungspositionen_2NF;\r\n",
                "\r\n",
                "SET IDENTITY_INSERT Rechnungspositionen_3NF OFF;"
            ],
            "metadata": {
                "language": "sql",
                "azdata_cell_guid": "028218cc-434f-44ad-9233-d618e64d69b6"
            },
            "outputs": [
                {
                    "output_type": "display_data",
                    "data": {
                        "text/html": "(2 rows affected)"
                    },
                    "metadata": {}
                },
                {
                    "output_type": "display_data",
                    "data": {
                        "text/html": "(3 rows affected)"
                    },
                    "metadata": {}
                },
                {
                    "output_type": "display_data",
                    "data": {
                        "text/html": "(3 rows affected)"
                    },
                    "metadata": {}
                },
                {
                    "output_type": "display_data",
                    "data": {
                        "text/html": "(3 rows affected)"
                    },
                    "metadata": {}
                },
                {
                    "output_type": "display_data",
                    "data": {
                        "text/html": "(6 rows affected)"
                    },
                    "metadata": {}
                },
                {
                    "output_type": "display_data",
                    "data": {
                        "text/html": "(6 rows affected)"
                    },
                    "metadata": {}
                },
                {
                    "output_type": "display_data",
                    "data": {
                        "text/html": "Total execution time: 00:00:00.024"
                    },
                    "metadata": {}
                }
            ],
            "execution_count": 77
        },
        {
            "cell_type": "code",
            "source": [
                "Select * from Kunden_3NF\r\n",
                "Select * from PLZ_Ort\r\n",
                "Select * from Verkäufer_3NF\r\n",
                "Select * from Produkte_3NF\r\n",
                "Select * from Rechnungen_3NF\r\n",
                "Select * from Rechnungspositionen_3NF"
            ],
            "metadata": {
                "language": "sql",
                "azdata_cell_guid": "34b2c030-8e8e-4dcd-9990-92dfdcfc41e8"
            },
            "outputs": [
                {
                    "output_type": "display_data",
                    "data": {
                        "text/html": "(3 rows affected)"
                    },
                    "metadata": {}
                },
                {
                    "output_type": "display_data",
                    "data": {
                        "text/html": "(2 rows affected)"
                    },
                    "metadata": {}
                },
                {
                    "output_type": "display_data",
                    "data": {
                        "text/html": "(3 rows affected)"
                    },
                    "metadata": {}
                },
                {
                    "output_type": "display_data",
                    "data": {
                        "text/html": "(3 rows affected)"
                    },
                    "metadata": {}
                },
                {
                    "output_type": "display_data",
                    "data": {
                        "text/html": "(6 rows affected)"
                    },
                    "metadata": {}
                },
                {
                    "output_type": "display_data",
                    "data": {
                        "text/html": "(6 rows affected)"
                    },
                    "metadata": {}
                },
                {
                    "output_type": "display_data",
                    "data": {
                        "text/html": "Total execution time: 00:00:00.030"
                    },
                    "metadata": {}
                },
                {
                    "output_type": "execute_result",
                    "metadata": {},
                    "execution_count": 78,
                    "data": {
                        "application/vnd.dataresource+json": {
                            "schema": {
                                "fields": [
                                    {
                                        "name": "KdNr"
                                    },
                                    {
                                        "name": "Kunde"
                                    },
                                    {
                                        "name": "Anschrift"
                                    },
                                    {
                                        "name": "PLZ"
                                    }
                                ]
                            },
                            "data": [
                                {
                                    "KdNr": "1",
                                    "Kunde": "Kunde 1",
                                    "Anschrift": "Addr. 1",
                                    "PLZ": "8020"
                                },
                                {
                                    "KdNr": "2",
                                    "Kunde": "Kunde 2",
                                    "Anschrift": "Addr. 2",
                                    "PLZ": "8020"
                                },
                                {
                                    "KdNr": "3",
                                    "Kunde": "Kunde 3",
                                    "Anschrift": "Addr. 3",
                                    "PLZ": "8010"
                                }
                            ]
                        },
                        "text/html": [
                            "<table>",
                            "<tr><th>KdNr</th><th>Kunde</th><th>Anschrift</th><th>PLZ</th></tr>",
                            "<tr><td>1</td><td>Kunde 1</td><td>Addr. 1</td><td>8020</td></tr>",
                            "<tr><td>2</td><td>Kunde 2</td><td>Addr. 2</td><td>8020</td></tr>",
                            "<tr><td>3</td><td>Kunde 3</td><td>Addr. 3</td><td>8010</td></tr>",
                            "</table>"
                        ]
                    }
                },
                {
                    "output_type": "execute_result",
                    "metadata": {},
                    "execution_count": 78,
                    "data": {
                        "application/vnd.dataresource+json": {
                            "schema": {
                                "fields": [
                                    {
                                        "name": "PLZ"
                                    },
                                    {
                                        "name": "Ort"
                                    }
                                ]
                            },
                            "data": [
                                {
                                    "PLZ": "8010",
                                    "Ort": "Graz"
                                },
                                {
                                    "PLZ": "8020",
                                    "Ort": "Graz"
                                }
                            ]
                        },
                        "text/html": [
                            "<table>",
                            "<tr><th>PLZ</th><th>Ort</th></tr>",
                            "<tr><td>8010</td><td>Graz</td></tr>",
                            "<tr><td>8020</td><td>Graz</td></tr>",
                            "</table>"
                        ]
                    }
                },
                {
                    "output_type": "execute_result",
                    "metadata": {},
                    "execution_count": 78,
                    "data": {
                        "application/vnd.dataresource+json": {
                            "schema": {
                                "fields": [
                                    {
                                        "name": "VkNr"
                                    },
                                    {
                                        "name": "Verkäufer"
                                    }
                                ]
                            },
                            "data": [
                                {
                                    "VkNr": "1",
                                    "Verkäufer": "Verkäufer 1"
                                },
                                {
                                    "VkNr": "2",
                                    "Verkäufer": "Verkäufer 2"
                                },
                                {
                                    "VkNr": "3",
                                    "Verkäufer": "Verkäufer 3"
                                }
                            ]
                        },
                        "text/html": [
                            "<table>",
                            "<tr><th>VkNr</th><th>Verkäufer</th></tr>",
                            "<tr><td>1</td><td>Verkäufer 1</td></tr>",
                            "<tr><td>2</td><td>Verkäufer 2</td></tr>",
                            "<tr><td>3</td><td>Verkäufer 3</td></tr>",
                            "</table>"
                        ]
                    }
                },
                {
                    "output_type": "execute_result",
                    "metadata": {},
                    "execution_count": 78,
                    "data": {
                        "application/vnd.dataresource+json": {
                            "schema": {
                                "fields": [
                                    {
                                        "name": "ProdNr"
                                    },
                                    {
                                        "name": "ProduktName"
                                    },
                                    {
                                        "name": "Preis_pro_Stück"
                                    }
                                ]
                            },
                            "data": [
                                {
                                    "ProdNr": "1",
                                    "ProduktName": "Prod A",
                                    "Preis_pro_Stück": "500.00"
                                },
                                {
                                    "ProdNr": "2",
                                    "ProduktName": "Prod B",
                                    "Preis_pro_Stück": "250.00"
                                },
                                {
                                    "ProdNr": "3",
                                    "ProduktName": "Prod C",
                                    "Preis_pro_Stück": "750.00"
                                }
                            ]
                        },
                        "text/html": [
                            "<table>",
                            "<tr><th>ProdNr</th><th>ProduktName</th><th>Preis_pro_Stück</th></tr>",
                            "<tr><td>1</td><td>Prod A</td><td>500.00</td></tr>",
                            "<tr><td>2</td><td>Prod B</td><td>250.00</td></tr>",
                            "<tr><td>3</td><td>Prod C</td><td>750.00</td></tr>",
                            "</table>"
                        ]
                    }
                },
                {
                    "output_type": "execute_result",
                    "metadata": {},
                    "execution_count": 78,
                    "data": {
                        "application/vnd.dataresource+json": {
                            "schema": {
                                "fields": [
                                    {
                                        "name": "RE_Nr"
                                    },
                                    {
                                        "name": "RE_Datum"
                                    },
                                    {
                                        "name": "KdNr"
                                    },
                                    {
                                        "name": "VkNr"
                                    }
                                ]
                            },
                            "data": [
                                {
                                    "RE_Nr": "557",
                                    "RE_Datum": "2019-03-13",
                                    "KdNr": "1",
                                    "VkNr": "1"
                                },
                                {
                                    "RE_Nr": "558",
                                    "RE_Datum": "2019-03-17",
                                    "KdNr": "2",
                                    "VkNr": "2"
                                },
                                {
                                    "RE_Nr": "559",
                                    "RE_Datum": "2019-04-19",
                                    "KdNr": "1",
                                    "VkNr": "2"
                                },
                                {
                                    "RE_Nr": "560",
                                    "RE_Datum": "2019-05-25",
                                    "KdNr": "3",
                                    "VkNr": "1"
                                },
                                {
                                    "RE_Nr": "561",
                                    "RE_Datum": "2019-05-26",
                                    "KdNr": "1",
                                    "VkNr": "3"
                                },
                                {
                                    "RE_Nr": "562",
                                    "RE_Datum": "2019-05-27",
                                    "KdNr": "2",
                                    "VkNr": "1"
                                }
                            ]
                        },
                        "text/html": [
                            "<table>",
                            "<tr><th>RE_Nr</th><th>RE_Datum</th><th>KdNr</th><th>VkNr</th></tr>",
                            "<tr><td>557</td><td>2019-03-13</td><td>1</td><td>1</td></tr>",
                            "<tr><td>558</td><td>2019-03-17</td><td>2</td><td>2</td></tr>",
                            "<tr><td>559</td><td>2019-04-19</td><td>1</td><td>2</td></tr>",
                            "<tr><td>560</td><td>2019-05-25</td><td>3</td><td>1</td></tr>",
                            "<tr><td>561</td><td>2019-05-26</td><td>1</td><td>3</td></tr>",
                            "<tr><td>562</td><td>2019-05-27</td><td>2</td><td>1</td></tr>",
                            "</table>"
                        ]
                    }
                },
                {
                    "output_type": "execute_result",
                    "metadata": {},
                    "execution_count": 78,
                    "data": {
                        "application/vnd.dataresource+json": {
                            "schema": {
                                "fields": [
                                    {
                                        "name": "RechnungsPosNr"
                                    },
                                    {
                                        "name": "RE_Nr"
                                    },
                                    {
                                        "name": "ProdNr"
                                    },
                                    {
                                        "name": "Menge"
                                    }
                                ]
                            },
                            "data": [
                                {
                                    "RechnungsPosNr": "1",
                                    "RE_Nr": "557",
                                    "ProdNr": "1",
                                    "Menge": "1"
                                },
                                {
                                    "RechnungsPosNr": "2",
                                    "RE_Nr": "559",
                                    "ProdNr": "1",
                                    "Menge": "1"
                                },
                                {
                                    "RechnungsPosNr": "3",
                                    "RE_Nr": "560",
                                    "ProdNr": "1",
                                    "Menge": "2"
                                },
                                {
                                    "RechnungsPosNr": "4",
                                    "RE_Nr": "562",
                                    "ProdNr": "1",
                                    "Menge": "3"
                                },
                                {
                                    "RechnungsPosNr": "5",
                                    "RE_Nr": "558",
                                    "ProdNr": "2",
                                    "Menge": "1"
                                },
                                {
                                    "RechnungsPosNr": "6",
                                    "RE_Nr": "561",
                                    "ProdNr": "3",
                                    "Menge": "1"
                                }
                            ]
                        },
                        "text/html": [
                            "<table>",
                            "<tr><th>RechnungsPosNr</th><th>RE_Nr</th><th>ProdNr</th><th>Menge</th></tr>",
                            "<tr><td>1</td><td>557</td><td>1</td><td>1</td></tr>",
                            "<tr><td>2</td><td>559</td><td>1</td><td>1</td></tr>",
                            "<tr><td>3</td><td>560</td><td>1</td><td>2</td></tr>",
                            "<tr><td>4</td><td>562</td><td>1</td><td>3</td></tr>",
                            "<tr><td>5</td><td>558</td><td>2</td><td>1</td></tr>",
                            "<tr><td>6</td><td>561</td><td>3</td><td>1</td></tr>",
                            "</table>"
                        ]
                    }
                }
            ],
            "execution_count": 78
        },
        {
            "cell_type": "markdown",
            "source": [
                "Zusammenfassend dienen die Normalformen dazu, Redundanz zu reduzieren, die Integrität der Daten sicherzustellen und das Datenmodell zu optimieren. Es ermöglicht auch effizientere Datenbankabfragen und -operationen. Es ist jedoch zu beachten, dass es manchmal in der Praxis sinnvoll sein kann, Normalformen zu \"brechen\", um die Leistung zu optimieren, insbesondere wenn der Lesezugriff viel häufiger vorkommt als Schreibzugriffe."
            ],
            "metadata": {
                "language": "sql",
                "azdata_cell_guid": "86dad4bf-0fb4-486c-aba5-9f9a0a132934"
            },
            "attachments": {}
        }
    ]
}