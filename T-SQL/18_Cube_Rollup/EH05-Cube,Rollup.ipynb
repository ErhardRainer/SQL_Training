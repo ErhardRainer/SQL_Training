{
    "metadata": {
        "kernelspec": {
            "name": "SQL",
            "display_name": "SQL",
            "language": "sql"
        },
        "language_info": {
            "name": "sql",
            "version": ""
        }
    },
    "nbformat_minor": 2,
    "nbformat": 4,
    "cells": [
        {
            "cell_type": "markdown",
            "source": [
                "# CUBE & ROLLUP"
            ],
            "metadata": {
                "azdata_cell_guid": "ede4ae1d-f601-4357-aff4-6a507ee112c0"
            }
        },
        {
            "cell_type": "markdown",
            "source": [
                "## Beispiel 1: Vorbereitung"
            ],
            "metadata": {
                "azdata_cell_guid": "beb6dfcf-b870-4466-a724-184140e6650c"
            }
        },
        {
            "cell_type": "code",
            "source": [
                "USE MASTER\r\n",
                "Go\r\n",
                "DROP DATABASE IF EXISTS CUBE1DB\r\n",
                "GO\r\n",
                "CREATE DATABASE CUBE1DB\r\n",
                "GO \r\n",
                "USE CUBE1DB\r\n",
                "GO\r\n",
                "\r\n",
                "CREATE TABLE [dbo].[StudentInformation](\r\n",
                "\t[LV] [nvarchar](50) NULL,\r\n",
                "\t[Student] [nvarchar](50) NULL,\r\n",
                "\t[Punkte] [int] NULL\r\n",
                ") \r\n",
                "INSERT INTO [dbo].[StudentInformation]([LV],[Student],[Punkte]) Values ('LV 1','Student 1',19)\r\n",
                "--INSERT INTO [dbo].[StudentInformation]([LV],[Student],[Punkte]) Values ('LV 1','Student 1',1)\r\n",
                "INSERT INTO [dbo].[StudentInformation]([LV],[Student],[Punkte]) Values ('LV 1','Student 2',13)\r\n",
                "INSERT INTO [dbo].[StudentInformation]([LV],[Student],[Punkte]) Values ('LV 1','Student 3',11)\r\n",
                "INSERT INTO [dbo].[StudentInformation]([LV],[Student],[Punkte]) Values ('LV 2','Student 1',9)\r\n",
                "INSERT INTO [dbo].[StudentInformation]([LV],[Student],[Punkte]) Values ('LV 2','Student 2',29)\r\n",
                "INSERT INTO [dbo].[StudentInformation]([LV],[Student],[Punkte]) Values ('LV 2','Student 3',7)\r\n",
                "INSERT INTO [dbo].[StudentInformation]([LV],[Student],[Punkte]) Values ('LV 3','Student 1',3)\r\n",
                "INSERT INTO [dbo].[StudentInformation]([LV],[Student],[Punkte]) Values ('LV 3','Student 2',12)\r\n",
                "INSERT INTO [dbo].[StudentInformation]([LV],[Student],[Punkte]) Values ('LV 3','Student 3',11)\r\n",
                "INSERT INTO [dbo].[StudentInformation]([LV],[Student],[Punkte]) Values ('LV 4','Student 1',5)\r\n",
                "INSERT INTO [dbo].[StudentInformation]([LV],[Student],[Punkte]) Values ('LV 4','Student 2',17)\r\n",
                "\r\n",
                "Select * from [dbo].[StudentInformation]"
            ],
            "metadata": {
                "azdata_cell_guid": "b441f57b-13a2-4014-b2a3-75ab4afc3ad7"
            },
            "outputs": [
                {
                    "output_type": "display_data",
                    "data": {
                        "text/html": "Commands completed successfully."
                    },
                    "metadata": {}
                },
                {
                    "output_type": "display_data",
                    "data": {
                        "text/html": "Commands completed successfully."
                    },
                    "metadata": {}
                },
                {
                    "output_type": "display_data",
                    "data": {
                        "text/html": "Commands completed successfully."
                    },
                    "metadata": {}
                },
                {
                    "output_type": "display_data",
                    "data": {
                        "text/html": "Commands completed successfully."
                    },
                    "metadata": {}
                },
                {
                    "output_type": "display_data",
                    "data": {
                        "text/html": "(1 row affected)"
                    },
                    "metadata": {}
                },
                {
                    "output_type": "display_data",
                    "data": {
                        "text/html": "(1 row affected)"
                    },
                    "metadata": {}
                },
                {
                    "output_type": "display_data",
                    "data": {
                        "text/html": "(1 row affected)"
                    },
                    "metadata": {}
                },
                {
                    "output_type": "display_data",
                    "data": {
                        "text/html": "(1 row affected)"
                    },
                    "metadata": {}
                },
                {
                    "output_type": "display_data",
                    "data": {
                        "text/html": "(1 row affected)"
                    },
                    "metadata": {}
                },
                {
                    "output_type": "display_data",
                    "data": {
                        "text/html": "(1 row affected)"
                    },
                    "metadata": {}
                },
                {
                    "output_type": "display_data",
                    "data": {
                        "text/html": "(1 row affected)"
                    },
                    "metadata": {}
                },
                {
                    "output_type": "display_data",
                    "data": {
                        "text/html": "(1 row affected)"
                    },
                    "metadata": {}
                },
                {
                    "output_type": "display_data",
                    "data": {
                        "text/html": "(1 row affected)"
                    },
                    "metadata": {}
                },
                {
                    "output_type": "display_data",
                    "data": {
                        "text/html": "(1 row affected)"
                    },
                    "metadata": {}
                },
                {
                    "output_type": "display_data",
                    "data": {
                        "text/html": "(1 row affected)"
                    },
                    "metadata": {}
                },
                {
                    "output_type": "display_data",
                    "data": {
                        "text/html": "(11 rows affected)"
                    },
                    "metadata": {}
                },
                {
                    "output_type": "display_data",
                    "data": {
                        "text/html": "Total execution time: 00:00:00.290"
                    },
                    "metadata": {}
                },
                {
                    "output_type": "execute_result",
                    "metadata": {},
                    "execution_count": 15,
                    "data": {
                        "application/vnd.dataresource+json": {
                            "schema": {
                                "fields": [
                                    {
                                        "name": "LV"
                                    },
                                    {
                                        "name": "Student"
                                    },
                                    {
                                        "name": "Punkte"
                                    }
                                ]
                            },
                            "data": [
                                {
                                    "0": "LV 1",
                                    "1": "Student 1",
                                    "2": "19"
                                },
                                {
                                    "0": "LV 1",
                                    "1": "Student 2",
                                    "2": "13"
                                },
                                {
                                    "0": "LV 1",
                                    "1": "Student 3",
                                    "2": "11"
                                },
                                {
                                    "0": "LV 2",
                                    "1": "Student 1",
                                    "2": "9"
                                },
                                {
                                    "0": "LV 2",
                                    "1": "Student 2",
                                    "2": "29"
                                },
                                {
                                    "0": "LV 2",
                                    "1": "Student 3",
                                    "2": "7"
                                },
                                {
                                    "0": "LV 3",
                                    "1": "Student 1",
                                    "2": "3"
                                },
                                {
                                    "0": "LV 3",
                                    "1": "Student 2",
                                    "2": "12"
                                },
                                {
                                    "0": "LV 3",
                                    "1": "Student 3",
                                    "2": "11"
                                },
                                {
                                    "0": "LV 4",
                                    "1": "Student 1",
                                    "2": "5"
                                },
                                {
                                    "0": "LV 4",
                                    "1": "Student 2",
                                    "2": "17"
                                }
                            ]
                        },
                        "text/html": [
                            "<table>",
                            "<tr><th>LV</th><th>Student</th><th>Punkte</th></tr>",
                            "<tr><td>LV 1</td><td>Student 1</td><td>19</td></tr>",
                            "<tr><td>LV 1</td><td>Student 2</td><td>13</td></tr>",
                            "<tr><td>LV 1</td><td>Student 3</td><td>11</td></tr>",
                            "<tr><td>LV 2</td><td>Student 1</td><td>9</td></tr>",
                            "<tr><td>LV 2</td><td>Student 2</td><td>29</td></tr>",
                            "<tr><td>LV 2</td><td>Student 3</td><td>7</td></tr>",
                            "<tr><td>LV 3</td><td>Student 1</td><td>3</td></tr>",
                            "<tr><td>LV 3</td><td>Student 2</td><td>12</td></tr>",
                            "<tr><td>LV 3</td><td>Student 3</td><td>11</td></tr>",
                            "<tr><td>LV 4</td><td>Student 1</td><td>5</td></tr>",
                            "<tr><td>LV 4</td><td>Student 2</td><td>17</td></tr>",
                            "</table>"
                        ]
                    }
                }
            ],
            "execution_count": 15
        },
        {
            "cell_type": "code",
            "source": [
                "GO \r\n",
                "USE CUBE1DB"
            ],
            "metadata": {
                "azdata_cell_guid": "a1f0b0aa-8620-4cb7-92c2-d37c206145be"
            },
            "outputs": [
                {
                    "output_type": "display_data",
                    "data": {
                        "text/html": "Commands completed successfully."
                    },
                    "metadata": {}
                },
                {
                    "output_type": "display_data",
                    "data": {
                        "text/html": "Total execution time: 00:00:00"
                    },
                    "metadata": {}
                }
            ],
            "execution_count": 2
        },
        {
            "cell_type": "markdown",
            "source": [
                "# Rollup\n",
                "\n",
                "benötigt man die Aggregation der Werte und zusätzlich die Aggregation eines Teiles (entweder LV oder Student) sowie die Gesamt-Aggregation =\\> ROLLUP\n",
                "\n",
                "![](data:image/png;base64,iVBORw0KGgoAAAANSUhEUgAABIAAAAKICAYAAAAIK4ENAAAgAElEQVR4Aey9v67myHGwP5fgC3Dom/C5hEmkcDJHOpEjDWAomkjJRBpgEhvGJA60maANfhNoZMnA78u0iSMtNJpNnHr3g2BYCwGG+aHOmeJb7NNNdpFNNrv5DHDAfsnu+vM0WV0s8n3n2cA/CEAAAhCAAAQgAAEIQAACEIAABCAAga4JPOvaO5yDAAQgAAEIQAACEIAABCAAAQhAAAIQGCgAcRJAAAIQgAAEIAABCEAAAhCAAAQgAIHOCVAA6nyCcQ8CEIAABCAAAQhAAAIQgAAEIAABCFAA4hyAAAQgAAEIQAACEIAABCAAAQhAAAKdE6AA1PkE4x4EIAABCEAAAhCAAAQgAAEIQAACEKAAxDkAAQhAAAIQgAAEIAABCEAAAhCAAAQ6J0ABqPMJxj0IQAACEIAABCAAAQhAAAIQgAAEIEABiHMAAhCAAAQgAAEIQAACEIAABCAAAQh0ToACUOcTjHsQgAAEIAABCEAAAhCAAAQgAAEIQIACEOcABCAAAQhAAAIQgAAEIAABCEAAAhDonAAFoM4nGPcgAAEIQAACEIAABCAAAQhAAAIQgAAFIM4BCEAAAhCAAAQgAAEIQAACEIAABCDQOQEKQJ1PMO5BAAIQgAAEIAABCEAAAhCAAAQgAAEKQJwDEIAABCAAAQhAAAIQgAAEIAABCECgcwIUgDqfYNyDAAQgAAEIQAACEIAABCAAAQhAAAIUgDgHIAABCEAAAhCAAAQgAAEIQAACEIBA5wQoAHU+wbgHAQhAAAIQgAAEIAABCEAAAhCAAAQoAHEOQAACEIAABCAAAQhAAAIQgAAEIACBzglQAOp8gnEPAhCAAAQgAAEIQAACEIAABCAAAQhQAOIcgAAEIAABCEAAAhCAAAQgAAEIQAACnROgANT5BOMeBCAAAQhAAAIQgAAEIAABCEAAAhCgAMQ5AAEIQAACEIAABCAAAQhAAAIQgAAEOidAAajzCcY9CEAAAhCAAAQgAAEIQAACEIAABCBAAYhzAAIQgAAEIAABCEAAAhCAAAQgAAEIdE6AAlDnE4x7EIAABCAAAQhAAAIQgAAEIAABCECAAhDnAAQgAAEIQAACEIAABCAAAQhAAAIQ6JwABaDOJxj3IAABCEAAAhCAAAQgAAEIQAACEIAABSDOAQhAAAIQgAAEIAABCEAAAhCAAAQg0DkBCkCdTzDuQQACEIAABCAAAQhAAAIQgAAEIAABCkCHnwP/OwwDfzDgHOAc4BzgHOAc4BzgHOAc4BzgHOAc6OMcOPymEoUQWEWAAtAqbAyCAAQgAAEIQAACEIAABCAAgesSsMW761LA87YIUABqa76wFgIQgAAEIAABCEAAAhCAAASqE6AAVH0KMMBNgAKQGxkDIAABCEAAAhCAAAQgAAEIQODaBCgAXXv+2/SeAlCb84bVEIAABCAAAQhAAAIQgAAEIFCNAAWgauhRvJoABaDV6BgIAQhAAAIQgAAEIAABCEAAAtckQAHomvPettcUgNqeP6yHAAQgAAEIQAACEIAABCAAgcMJUAA6HDkKNxOgALQZIQIgAAEIQAACEIAABCAAAQhA4FoEKABda7778JYCUB/ziBcQgAAEIAABCEAAAhCAAAQgcBgBCkCHoUZRMQIUgIqhRBAEIAABCEAAAhCAAAQgAAEIXIMABaBrzHNfXlIA6ms+T+XN//zjD4dv//pvIn8/HP70438e/vIpYe6nb4a//PiHw58mY384/On5Pwzff/jmyaCbnh8O3ydkFunz6Z9Hm/70jzc7brKnvv7p+Q+H/4rY+8QBdkAAAhCAAAQgAAEIQAACjRGgANTYhGHuMAwUgDgNdiOQKozcikKRgs2HfxiLLLd+QWHlx/86sfmmJyLvc88ifRIFoL/8eGrfE7sDeyfG8wECEIAABCAAAQhAAAIQaJAABaAGJ+3yJlMAuvwpsB+AeNHlm+Ev9s0gWxwxBZZv//qHk7d9/ufTPw//Zd4I+q8PN7vjem7HpVWkj7HPvgF0KwD9w/AXVfvpX4296cKUdmcLAQhAAAIQgAAEIAABCLREgAJQS7OFrY8EKABxJuxGIF10McWR5/88/M9nC26FlL8ZbIFnNNAUYL4149J6xpHHF4AmRaeEPzfzaEEAAhCAAAQgAAEIQAACTRGgANTUdGHsAwEKQJwIuxFIF2ZMAWh8A8jsM8WdqXHfDN8/169b3d62Seu5jS7SxxSgFt8AogB0g08LAhCAAAQgAAEIQAAC3RGgANTdlF7AIQpAF5jkWi7Giy6PP/Csv5MzvuljiivfjkWhp5bf3hK6fa0qrmc6tkgfY+NSAeh/Ptx+MPrbv74Vq6ZW8QkCEIAABCAAAQhAAAIQaJMABaA25+3aVlMAuvb87+r9reiib+1Mt7aIMpjiSrsFoKl/tyLX7X8M2xU4wiEAAQhAAAIQgAAEIACBgwhQADoINGoKEqAAVBAmoqYE5gpAf/rH6f/k1V8B6PG/rU/+V/dTVHyCAAQgAAEIQAACEIAABJoiQAGoqenC2AcCFIA4EXYjcCsA6de1pv8D2OQNoKG/3wDaDSyCIQABCEAAAhCAAAQgAIHKBCgAVZ4A1K8gQAFoBTSG5BF4WgCScfEfcp7u14JRoOfDPwz6tSr7NbG4nunYnD6DkT8tTn2WZY6Pv100DMPtd4n4rZ8pdT5BAAIQgAAEIAABCECgVwIUgHqd2Z79ogDU8+xW9i1ZdDGFlEmhxex/+OHkTzcHpj+qPC0QJfXchmf9N/CDfQvpr384/NeH22/3TPVPCz0UgAxomhCAAAQgAAEIQAACELgEAQpAl5jmzpykANTZhJ7JnXRhxnzdK/gfsv7y4x/e3vL569iPKkthZurlTU+k/+f/Uj6nz4PUSREqIu+hMDTVTwFoyoNPEIAABCAAAQhAAAIQ6J8ABaD+57g/DykA9Tenp/HoVnSZvrEjBt6O/c0weQtIjn345+G/ngeFoOc/HP70438d/se8FaSOWlnjV8S0eOQtAInQT/86fP/jHw5/UhkPW9H/z0PsR50pAOlMsIUABCAAAQhAAAIQgMBVCFAAuspM9+QnBaCeZhNfIAABCEAAAhCAAAQgAAEIQOAAAhSADoCMisIEKAAVBoo4CEAAAhCAAAQgAAEIQAACEOidAAWg3me4R/8oAPU4q/gEAQhAAAIQgAAEIAABCEAAAjsSoAC0I1xE70SAAtBOYBELAQhAAAIQgAAEIAABCEAAAr0SoADU68z27BcFoJ5nF98gAAEIQAACEIAABCAAAQhAYAcCFIB2gIrInQlQANoZMOIhAAEIQAACEIAABCAAAQhAoDcCFIB6m9Er+EMB6AqzjI8QgAAEIAABCEAAAhCAAAQgUJAABaCCMBF1EAEKQAeBRg0EIAABCEAAAhCAAAQgAAEI9EKAAlAvM3klPygAXWm28RUCEIAABCAAAQhAAAIQgAAEChCgAFQAIiIOJkAB6GDgqIMABCAAAQhAAAIQgAAEIACB1glQAGp9Bq9oPwWgK846PkMAAhCAAAQgAAEIQAACEIDABgIUgDbAY2glAhSAKoFHLQQgAAEIQAACEIAABCAAAQi0SoACUKszd2W7KQBdefbxHQIQgAAEIAABCEAAAhCAAARWEKAAtAIaQyoToABUeQJQDwEIQAACEIAABCAAAQhAAAKtEaAA1NqMYe8wUADiLIAABCAAAQhAAAIQgAAEIAABCLgIUABy4aLzKQhQADrFNGAEBCAAAQhAAAIQgAAEIAABCLRDgAJQO3OFpUqAApCSYAsBCEAAAhCAAAQgAAEIQAACEMgiQAEoCxOdTkWAAtCppgNjIAABCEAAAhCAAAQgAAEIQOD8BCgAnX+OsDAkQAEoJMJnCEAAAhCAAAQgAAEIQAACEIDALAEKQLN4OHhKAhSATjktGAUBCEAAAhCAAAQgAAEIQAAC5yVAAei8c4NlKQIUgFJk2A8BCEAAAhCAAAQgAAEIQAACEIgSoAAUxcLOUxOgAHTq6cE4CEAAAhCAAAQgAAEIQAACEDgfAQpA55sTLFoiQAFoiRDHIQABCEAAAhCAAAQgAAEIQAACEwIUgCY4+NAEAQpATUwTRkIAAhCAAAQgAAEIQAACEIDAeQhQADrPXGBJLgEKQLmk6AcBCEAAAhCAAAQgAAEIQAACEHggQAGIE6E9AhSA2pszLIYABCAAAQhAAAIQgAAEIACBqgQoAFXFj/JVBCgArcLGIAhAAAIQgAAEIAABCEAAAhC4LgEKQNed+3Y9pwDU7txhOQQgAAEIQAACEIAABCAAAQhUIUABqAp2lG4iQAFoEz4GQwACEIAABCAAAQhAAAIQgMD1CFAAut6ct+8xBaD25xAPIAABCEAAAhCAAAQgAAEIQOBQAhSADsWNsiIEKAAVwdi7EBvcPO3euVzJP8+803cYajG40jmJrxCAAAQgAAEIQKAmAZvv1bQD3RDIJ0ABKJ/VhXva4OZpXxhZd6575p2+FIC6uwBwCAIQgAAEIAABCAQEbM4bHOIjBE5KgALQSSfmXGbZ4OZpn8sLrNlCwDPv9KUAtOVcYywEIAABCEAAAhBogYDNeVuwFxshMAwUgDgLMgjY4OZpZ4imSyMEPPNOXwpAjZzWmAkBCEAAAhCAAARWE7A572ohDITAoQQoAB2Ku1VlNrh52q36i91PCXjmnb4UgJ6eQeyBAAQgAAEIQAACfRGwOW9fnuFNvwQoAPU7twU9s8HN0y5oAqIqE/DMO30pAFU+XVEPAQhAAAIQgAAEdidgc97dlaEAAkUIUAAqgrF3ITa40a53cw972C+dA73HIvyDAAQgAAEIQAACZyFg87Kz2IQdEJgnQAFong9HHwjY4EabIgTnwHnPAUIWBCAAAQhAAAIQgMAxBGxOfIxGtEBgKwEKQFsJXmK8DW60z3vzz9wwN5cISDgJAQhAAAIQgAAETkDA5t4nMAcTIJBBgAJQBiS62ODma//3f//3UPPv3/7t36rq3+J7y7Zv8bvE2F7YiR++ohbRCgIQgAAEIAABCEDgGAL2vugYjWiBwFYCFIC2ErzEeBvcfO0SN/NbZLRcCGjZ9i1zVmJsL+woAF0iwOIkBCAAAQhAAAJNErD3RU06gNEXJEAB6IKT7nfZBjdfu8TN/BYZLRcCWrZ9y5yVGNsLOwpA/mjFCAhAAAIQgAAEIHAMAXtfdIxGtEBgKwEKQFsJXmK8DW6+domb+S0yWi4EtGz7ljkrMbYXdhSALhFgcRICEIAABCAAgSYJ2PuiJh3A6AsSoAB0wUn3u2yDm69d4mZ+i4yWCwEt275lzkqM7YUdBSB/tGIEBCAAAQhAAAIQOIaAvS86RiNaILCVAAWgrQQvMd4GN1+7xM38FhktFwJatn3LnJUY2ws7CkCXCLA4CQEIQAACEIBAkwTsfVGTDmD0BQlQALrgpPtdtsHN1y5xM79FRsuFgJZt3zJnJcb2wo4CkD9aMQICEIAABCAAAQgcQ8DeFx2jES0Q2EqAAtBWgpcYb4Obr13iZn6LjJYLAS3bvmXOSozthR0FoEsEWJyEAAQgAAEIQKBJAva+qEkHMPqCBCgAXXDS/S7b4OZrl7iZ3yIjVQj47W9/O/z0pz8drOz/+I//GP7u7/5u+Pd///dx/3/+538Of//3fz9If9v3iHbMdrXnr/7qrwb5E9tkn9ojPq21VfwXebJVeWu2W2xYoy82JsZO/PrBD37wwE3Y3d3dTeY6Jmdun5wnP/nJTyb8bf8SHCgA+aMVIyAAAQhAAAIQgMAxBOx90TEa0QKBrQQoAG0leInxNrj52vaGuEY7VggQO2IFINkvN+3/8i//MhZA5CZfikJbiyJrfI/ZHtoXyt1SdLhCAcgWuGSewwJayHPuMwWgSwQ/nIQABCAAAQhAAAIJAva+KNGF3RA4GQEKQCebkHOaY4Obrz13A33EsVgRRfSmCkCy3xYFpEggRZUjbA11xGxPFYDEbn0rSLfytosUdcJChfikRa7wjSIdI7bIOHlLRuTZ/TL2n/7pn8ZjymfOhtC3vT/H2IUFLlvcC5nImz1yXOz82c9+9uCvclV2lqvIFkZagNO+urX8UlxjTMSPYfBcc+eMIFgFAQhAAAIQgAAE+iNgc7T+vMOjPglQAOpzXgt7ZYObrx27qT1yX6wQIPpTBSC5kdevgWlxRPoeabPqitmuxYPU15e0AKEyZGsLFfLZFjtsQckWSGxbxggDLYzJeC1oWF6qM2aDHjtqG2MX+iR+iK1ik2Ui824LQNJHfReW+kaYclW5IsP6F+OgfWUrfS1XO1bbFIAKhzLEQQACEIAABCAAgWIE7H1RMaEIgsCuBCgA7Yq3F+E2uPnaeiNbaxsrBIgtqQKQHJMbd7mZD2/Wj/YhZbvYoYUgLUyobbGigxYq9LeCtNgR+mc/Cx99e0W3qkvHi86wWCL7YjaofUdtY+zEPylchf6ITXM+WX8sI50DkSfjQ9/sOD02x1X72C0FoF5iKH5AAAIQgAAEINAfAXtf1J93eNQnAQpAfc5rYa9scPO17c1sjXasECB2zBWA9Jhua9gtOlO2qz2xN5RiRYe1BSCRpbrsdq5YIv1iNtjxR7Rj7GzxJrRhzifrj5WhXOVtoRgrO071ec8pCkCFQxniIAABCEAAAhCAQDEC9r6omFAEQWBXAhSAdsXbi3Ab3HxtvfGttY0VAsSWuRtxvcmXN16k39lsV3vETnmjxdooRYfwbRQpVNivLcnXx6RPWECSsXNf7VK9c8US6ROzQccetY3Nu86rbEM7xCexW/ZL237FTvYrYytDC0DCUfroeJUtn0WWfpatjNevGNr9qTYFoF5iKH5AAAIQgAAEINAfAXtf1J93eNQnAQpAfc5rYa9scPO1Uze2R+2PFQJEt9zQ61eBZGtv+OW43LxrMeQoW0M9oe1asLF2hwUGKUqIL9LH2i/+6D75UWMdZzn84he/ePitGy2Q2GMyVsfIVttik/29HPEhZUPo356fQ3aiyxZvQt1yTHiJn+KP9UnYLRWAdG70a3IiP8UhxTW0ST5TACocyhAHAQhAAAIQgAAEihGw90XFhCIIArsSoAC0K95ehNvg5mvHbmqP3BcrBBypf4uulm3f4neJsb2wowDUSwzFDwhAAAIQgAAE+iNg74v68w6P+iRAAajPeS3slQ1uvnaJm/ktMlouBLRs+5Y5KzG2F3YUgAqHMsRBAAIQgAAEIACBYgTsfVExoQiCwK4EKADtircX4Ta4+dolbua3yGi5ENCy7VvmrMTYXthRAOolhuIHBCAAAQhAAAL9EbD3Rf15h0d9EqAA1Oe8FvbKBjdfu8TN/BYZLRcCWrZ9y5yVGNsLOwpAhUMZ4iAAAQhAAAIQgEAxAva+qJhQBEFgVwIUgHbF24twG9x87RI381tktFwIaNn2LXNWYmwv7CgA9RJD8QMCEIAABCAAgf4I2Pui/rzDoz4JUADqc14Le2WDm69d4mZ+i4yWCwEt275lzkqM7YUdBaDCoQxxEIAABCAAAQhAoBgBe19UTCiCILArAQpAu+LtRbgNbr52iZv5LTJaLgS0bPuWOSsxthd2FIB6iaH4AYHeCKRzgRIxfIuMluN/y7ZvmbMSY3th51v3e4srLfpjY2GL9mPzFQlQALrirLt9tsHN1y6xqG+R0XJC0LLtW+asxNhe2PkSQbk2+QcBCEDgCALpXKBEDN8io+X437LtW+asxNhe2PnW/SOudXTME7CxcL4nRyFwFgIUgM4yE6e2wwY3X7vEor5FRssJQcu2b5mzEmN7YedLBOXa5B8EIACBIwikc4ESMXyLjJbjf8u2b5mzEmN7Yedb94+41tExT8DGwvmeHIXAWQhQADrLTJzaDhvcfO0Si/oWGS0nBC3bvmXOSozthZ0vEZRrk38QgAAEjiCQzgVKxPAtMlqO/y3bvmXOSozthZ1v3T/iWkfHPAEbC+d7chQCZyFAAegsM3FqO2xw87U/fPgw1Pz7zW9+U1X/Ft9btn2L3yXG9sJO/BgGzzV36kCCcRCAQDcE0nGpxM38FhktFwJatn3LnJUY2ws7CkCtBUkbC1uzHXuvSoAC0FVn3uW3DW6+domb+S0yfv3rXzdbAGrZ9i1zVmJsL+zEDwpArmBFZwhA4BAC6VygxM38FhktFwJatn3LnJUY2ws7CkCHBLCCSmwsLCgWURDYkQAFoB3h9iPaBjdf27eQ+WTn3Bh//fXvnTfQ5W3IsTPWp2XbY/4cua8Xdn4/+ok6eAIBCJyZQHqtLHEzv0VGy4WAlm3fMmclxvbCzpc3nzlGXMU2Gwuv4jN+tk6AAlDrM3iI/Ta4+dq+hcwnO6egUFt/jo2pPi3bnvLpqP29sPP7cUhAQAkEIHB5Aun1usTN/BYZEje3jK85tmXba3IT3b2w8637lw9EJwBgY+EJzMEECGQQoACUAYkuNrjRPqqIgR7ONf85QLSCAAQgcASBdHw+ayHgt7/97fDTn/50Uhz6j//4j+Hv/u7vhn//938f9//nf/7n8Pd///eD9D/al1gRQ+35q7/6q0H+xDbZp7aJT2ttFf9FnmxV3prtFhvW6IuNibETv37wgx88cBN2d3d3k7mOyZnbJ+fJT37ykwl/278EBwpAR8SvkjpsLCwpF1kQ2I8ABaD92HYk2QY3X9u3kPlk59wc19afY2OqT8u2p3w6an8v7Px+dBR2cAUCEDgxgfR6bW+Ia7Qlbsb0xgpA0k9u2v/lX/5lHCM3+VIU2loUidmwtC9me2hfKGNL0eEKBSBb4JJ5DgtoIc+5zxSAThySqplmY2E1I1AMARcBCkAuXFftbIMb7aOKGOjhXPOfA1eNUfgNAQgcSyAdn+duoI84FiuiiN5UAUj226KAFAmkqHKEraGOmO2pApDYrW8F6VbedpGiTlioEJ+0yBW+UaRjxBYZJ2/JiDy7X8b+0z/903hM+czZEPq29+cYu7DAZYt7IRN5s0eOi50/+9nPHvxVrsrOchXZwkgLcNpXt5ZfimuMifiRv/Yfe9WjLUbAxsLYcfZB4HwEKACdb05OaJENbr62byHzyc5ZIGvrz7Ex1adl21M+HbW/F3Z+P04YPjAJAhDokEB6vY7d1B65T+JmTF+qACQ38vo1MC2OSN+YjL33xWzX4kHq60tagLC22UKF7LfFDltQsgUS25YxwkALYzJeCxqWl+qM2aDHjtrG2IU+iR9iq9hkmci82wKQ9FHfhaW+EaZcVa7IsP7FOGhf2Upfy9WO1bZv3e8wtDTnko2FzRmPwRclQAHoohPvc9sGN9pHFTHQw7nmPwd8Vza9IQABCKwjkI7PeiNbaxsrBIgtqQKQHJMbd7mZD2/Wj/YhZbvYoYUgLUyobbGigxYq9LeCtNgR+mc/Cx99e0W3qkvHi86wWCL7YjaofUdtY+zEPylchf6ITXM+WX8sI50DkSfjQ9/sOD02x1X72C0FoHURqd4oGwvrWYFmCHgIUADy0LpsXxvcfG3fQuaTnXNzXFt/jo2pPi3bnvLpqP29sPP7cdkgheMQgMChBNLrtb2ZrdGWuBnTO1cA0mO6jY0/Yl/KdtUde0MpVnRYWwASWarLbueKJdIvZoMdf0Q7xs4Wb0Ib5nyy/lgZylXeFoqxsuNUn/ec8q37h170KIsSsLEw2oGdEDgdAQpAp5uSMxpkgxvto4oY6OFc858DZ4wf2AQBCPRHIB2f9ca31jZWCBBb5m7E9SZf3niRfmezXe0RO+WNFmujFB3Ct1GkUGG/tiRfH5M+YQFJxs59tUv1zhVLpE/MBh171DY27zqvsg3tEJ/EbtkvbfsVO9mvjK0MLQAJR+mj41W2fBZZ+lm2Ml6/Ymj3p9oUgFqLljYWtmY79l6VAAWgq868y28b3Hxt30Lmk51zc1xbf46NqT4t257y6aj9vbDz++G6sOkMAQhAYCWB9HqdurE9ar/EzZguuaHXrwLJ1t7wS3+5eddiSGz8EftC27VgY+0OCwxSlBBfpI+1X/zRffKjxjrOcvjFL37x8Fs3WiCxx2SsjpGttsUm+3s5wiVlwxHMVEfITvbb4o32060cE17ip/hjfRJ2SwUgnRv9mpzITXFIcVVb7Na37q+8fBlWkICNhQXFIgoCOxKgALQj3H5E2+C2X/u7774d7u/vhxcvXgyfPv3R8b8glLPpq69+N7x9+3aiW+x6+fLlxKbvv//z8OrVq0H6zxU1jvJJ7Xn+/Pkgf2Kb7FPbxKclW7VvuBUfRJ5sw2Oez2tskDHiz5df/nKT7iU7U/MUcl3LcEl/ueP9RB08gQAEzkwgve7am9ka7VghoIYda3S2bPsaf0uO6YUdBaAzx72YbTYWxo6zDwLnI0AB6HxzckKLbHDztXMXMin4SJHlm28+PSm2bLk5ztWvOmIFIDkmhQhbhFB754oi2metTx7bQ/vUH92uKb7o2BoFIC286HxY9mrX3NbDbm6eLNdSHObsDo95/Hgce8LwgUkQgECHBNK5QMmb+jWyJG6uGXeGMS3bXptfL+x8636HoaU5l2wsbM54DL4oAQpAF514n9s2uO3blpvs8G2b8KZ4z89acAh1yH77Vo0UJKQ4EPaLfT7CJ1uosDaI3fpWkG7lLSuxSQofr1+/Ht8UEp+00KIFmHCMyJZx8paWHFNZsl/GfvHFz8djymfOBmtrqp3yLdV/7f5wnoSB8BF/VabYIv7o5/NtfVc2vSEAAQisI5DOBSgE/PfqAlQvRYwa50Av7CgArYtI9UbZWFjPCjRDwEOAApCH1mX72uDma/sWsv99KEyULAB59cvNvRYu7M29LQ5ocSS3EGDHWplLbY/tWpRJfX0uVriYKwDZoovYr18Bs22xXxhoYUwKQFoQivkcs2GJgRy3tuT0lz4edioztDmcZ2WcO+8qd8vW78dlgxSOQwAChxJI5wI1bv6tTomb9nNL7ZZtr825F3a+dTfVpS4AACAASURBVP/Qix5lUQI2FkY7sBMCpyNAAeh0U3JGg2xw27cd3oRvuXleMzZVABJZWogIiyBLeo70SYsUWpRR22LFl1QBKPTPfhY++laQblVX+AZRqbdnlLv6stc2Nk/KU3wVP8WnIwtAfl/PGD+wCQIQ6I9AOhegEMAbQDXOAQpA/UWZNjyysbANi7ESAhSAOAcyCNjg5mv7nmSc9w0guRHX4pBuc2/OY4WFnLFediozfHNF9pcsAIks1WW3ZyoArWG3NE+xr4RZ//do+/3IuJzpAgEIQGAzgXQuUOPm3+qUuGk/t9Ru2fbanHth51v3N1/ICNhMwMbCzcIQAIFDCFAAOgRz60pscNu3vXQTvsdNtpU5V9wR2+QtEPnzvAVytE+iT76KZW2MvUUjb7fI1+2kv77pIkWcsIAkY+e+2qX8cgpA0kf7525jtueO9fRbmiexPVX88ujZt2/rsQb7IQCBNgikcwEKAbwBVOMcoADURuToz0obC/vzDo/6JEABqM95LeyVDW6+du6TDC1a6NeK9Cs3UozYcsOcq191SNHE2hD+po4thuiY1HarT7m2a8HG2h0WWrTAI320mCN2iz+67927d+OPQFsOHz786qHoJf7IGHtMxqou2Wo79rZMyoYUP7VN/QrnIjVO9ueyk75z82R9rVH88fjxyKPwpY84CEAAAlEC6Vygxs2/1Slx035uqd2y7bU598LOt+5HL052HkrAxsJDFaMMAqsJUABaje5KA21woz1XeOAY50fdc+BKcQlfIQCBegTSsZ5CAG8A1TgHKADViwbX1mxj4bVJ4H07BCgAtTNXFS21wc3X9j3J8MnOudGurT/HxlSflm1P+XTU/l7Y+f2oGCZQDQEIXIhAer2ucfNvdUrctJ9bardse23OvbDzrfsXCjmnddXGwtMaiWEQmBCgADTBwYc4ARvcaB9VxEAP55r/HIhfweyFAAQgUJZAOj5/+PBhqPn3m9/8pqr+Lb63bPsWv0uM7YWd+JG/9pe9qpG2hoCNhWvGMwYCxxOgAHQ88wY12uDma/ueZPhk5yyQtfXn2Jjq07LtKZ+O2t8LO78fDYYXTIYABBokkF6vS9zMb5Hx61//utkCUMu2b5mzEmN7YSd+5OdKDYaO7ky2sbA753CoUwIUgDqd2LJu2eBGO39hhhWsjj4Hyl75SIMABCAQJ5CObf7CdVrWmjXk669/77iBLqt7jb12TMu2Wz9qtHth5/MjfnWy90gCNoYcqRddEFhPgALQenYXGmmDm68tieDHj394+F+ZpF3jTxKR2jas9btl29f6XGpcL+x8ifSFwhKuQgACFQmkcwGJ4b64lZa1Rk5t/Wts1jEt264+1Nr2ws7nR8UQgOrPBGz8AgoE2iBAAaiNeapspQ1uvrZvIfPJzkkyfE9SyuvPsTHVp2XbUz4dtb8Xdn4/KocK1EMAAhchcK718qi1BT3M+7nOgYuEm1O7aa+JUxuKcRAYCVAAGlHQSBOwwc3Xrl0Aqq1/S6LQsu1b/C4xthd2fj/SVzFHIAABCJQjkM4F/HErLWvNelBb/xqbdUzLtqsPtba9sPP5Ue6KRtJaAjZ+rZXBOAgcS4AC0LG8G9VmgxvtWskNejn3ls+BRkMMZkMAAo0RIB4vx2MYwWjvc6CxsNGluXaOu3QQpzokQAGow0kt75INbr6270mGT3ZOYlFbf46NqT4t257y6aj9vbDz+1H+6kciBCAAgacE0uu1P26lZa1ZM2rrX2OzjmnZdvWh1rYXdj4/nl6Z7DmagI1fR+tGHwTWEaAAtI7bxUbZ4Ea7VnKDXs695XPgYqEJdyEAgUoEiMfL8RhGMNr7HKh0+aPWELBzbHbThMCJCVAAOvHknMc0G9x8bd+TDJ/snMSitv4cG1N9WrY95dNR+3th5/fjPFEDSyAAgZ4JpNdrf9xKy1qzZtTWv8ZmHdOy7epDrW0v7Hx+9BxjWvHNxq9WbMbOqxOgAHT1MyDLfxvcaNdKbtDLubd8DmRd0HSCAAQgsJEA8Xg5HsMIRnufAxsvY4YXIGDnuIA4REDgAAIUgA6A3L4KG9x8bd+TDJ/snMSitv4cG1N9WrY95dNR+3th5/ej/WiDBxCAQAsE0uu1P26lZa1ZM2rrX2OzjmnZdvWh1rYXdj4/WogVvdto41fvvuJfLwQoAPUyk7v6YYMb7VrJDXo595bPgV0DAcIhAAEIfCZQJh5/9923w/39/fDixYvh06c/Dssxroxeq+err343vH37dqJb7Hr58uXEpu+///Pw6tWrQfrb8WH7KJ/UnufPnw/yJ7bJPrVHfFqyVfuGW/FB5Mk2POb5vMYGGSP+fPnlLzfpXrIzNU8h17UMl/SXOU5Aqk/AxqT61mABBHIIUADKoXT5Pja4+dq+Jxk+2TmLZ239OTam+rRse8qno/b3ws7vx+WDFQAgAIFDCKTX69y4JQUfKbJ8882nJ8WWLWtFrn7VESsAyTEpRNgihNo7VxTRPmt98tge2qf+6HZN8UXH1igAaeFF58OyV7vmth52c/NkuZbiMGd3eMzjxyGXOkoWCNhYuNCVwxA4CQEKQCeZiHObYYPbfm1Z9FNPssIFcq/PmnhY+ZIA8CTw+CeBwl2eDMs5sffTYdUV6rHnpNghn+25cb72uSMJ1kEAAr0QKJcLxNbYI2NrbN0X/bLfvlUjBQkpDuTYdoRPtlBhbQrXLVm7ZC0Vm6Tw8fr16/FNIfFJCy1agNE8TMeIbBkn66OVJftl7Bdf/Hw8pnzmbLC2ptop31L91+4P50kYCB/xV2WKLeKPfj7Xtpd40rIfNha27Ae2X4kABaArzfZqX21w87Vzn2TIoiuLrCzGmoRoUrJlsc3VrzpkkdcERvfJNkxG9OmR2Gv72bb24Ung4znjTaJk/jXpkrZNxC3nWNsz77nzpP3m5jxmy5Z9Hj8e9ay+yBkIAQhAwEEgnQt441Z4E74lZspYr/7Uum/t0rxE16QlG+3Ypb72uMd2WZOkKBM+uFB5sTVXxqQKQDbPEfv1K2C2LbKFga7HsjZroSjmc8wGtW9ua22Z62ePedjpuNDmcJ6Vce68q9wtW58fjkuWrjsRsLFwJxWIhUBhAhSACgPtU5wNbse0JamQvy2L6JqxqUTQJjwiV2yTBCVHR5hg5Izx9kklS2K3Ps3TrSZrc4mgJkHhGLFLE6KjngSqTpu0evnk9F+ap/AcyJF5fJ8+IxBeQQACZyNQLhdYir17x9HUui96dW0VG7UgkmPPkT7pmqxFGbVPbBff9LNsU+t+6J/9HMsjVJfN1SRvKPX2jHK3tu/Rjs2T8pQcR/wUn0KOe9iyTubZ4sIV7bGx8Ir+43OLBCgAtThrh9tsg5uv7XuS8Shbiw8lFlyvftEpiUe4ENskwWufHRvKnfvssV0Tlh6fBAojT8FN+nvY6Ryk5kl0SyKYYqvj99j6/Tg8OKAQAhC4JIF0LuCNW6nYuzamevWn1n3Rr8d0m2vTWp+8tqs9sbykZAEolheJ7jMVgNawW5qnWFFLme+19flxyeBzMqdtLDyZaZgDgQQBCkAJMOy2BGxw278tiUYq2dhrwVW5c0me2CTJjiQMPAl8/F9H9AmZJEl7JYIyJ/rWks7THtulRFCKbD/60Y8mvw2whx3bZNrrljYEIACBvQiUywWWYu+2mLhs59y6r+u9rPnSL9eWo30SfbJOWhs1Z7E2yzomv2ko/fXBkazdYQFJxuq6O+dLzrovfawNOe2Y7TnjvH3mfBNZYrvY4pV7XP+9rm/k5hOwMSZ/FD0hUJMABaCa9JvRbYObr+17kvH4urW+WlxiAfXqn0sE9Zhuc+1bSjBScry2q5wwkZP9ksDYxFD2SfJnv1aliZzYawtc9vOc7zpeZMeemsVsUJtTW9G35s2bNeyW5inGNWV3qf1+P5oJKhgKAQg0TSCdC+TGLYm5UmSQBwn6V2L9z9WvcVrWGdUv23DNkbVLiyE6JrXd6lOu7boeWbvDQosWeKSPtV/80X3v3r17KHKIP5bDhw+/muQB9piMVV1L637KhhQ/tU39CuciNU7257KTvnPzZH0Ve+Z07nHM40fTIaQb420s7MYpHOmcAAWgzie4jHs2uO3XlkSiRPK3ZUGWhT+14EvCIPbJn/TL1SPjwv9FLHfsmn6a2FgbxSdN2FSmJGZnfhIo9h35xs3SPFleyvB82zJXPFIgAAEIzBPYLxc4X1zFV+bkrOfA/FXK0SMI2HPjCH3ogMB2AhSAtjO8gAQb3Hzt3CcZ9imRPvmxT6zWJh+5+lW+ffIjdoRPn6SQkmuXFmLUH9l6Cly5tvf4JDDmk/CzRS2ds9g2l52MnZsnKZrp/OXOe8yetfs8fjzquEA4wkUIQOAEBNK5gD9upWWtiZ219a+xWce0bLv6UGvbCzufHycIBZc3wcavy8MAQCMEKAA1MlF1zbTBjXat5Aa9nHvL50DdSIF2CEDgKgSIx8vxGEYw2vscuEq8ObOfdo7PbCe2QeBGgALQjQWtJAEb3Hxt35MMn+ycxKK2/hwbU31atj3l01H7e2Hn9yN5EXMAAhCAQEEC6fXaH7fSstasGbX1r7FZx7Rsu/pQa9sLO58fBS9pRK0kYOPXShEMg8DBBCgAHQy8TXU2uNGuldygl3Nv+RxoM8JgNQQg0BoB4vFyPIYRjPY+B1qLGz3aa+e4R//wqUcCFIB6nNXiPtng5mv7nmT4ZOckFrX159iY6tOy7SmfjtrfCzu/H8UvfgRCAAIQiBBIr9cStz5+/MPD/8ok7Rp/stbUtmGt3y3bvtbnUuN6YZefK0UuTXYdTMDGwoNVow4CKwlQAFoJ7lrDbHCjnb8wwwpWR58D14pMeAsBCNQikI5tcjNfM/Z//fXvq+rf4nvLtm/xu8TYXtj5/Kh1/aP3RsDGwtteWhA4MwEKQGeendPYZoObry2JYO2ncJJY1LZh7dOtlm1f63Opcb2w8yXGpwkaGAIBCHRNIJ0LSAz3xa20rDVyautfY7OOadl29aHWthd2Pj+6DjKNOGfjVyMmY+blCVAAuvwpkAPABjdf27eQ+WTnJBm+Jynl9efYmOrTsu0pn47a3ws7vx851zN9IAABCGwlcK718qi1BT3M+7nOga3XMeO3E7DXxHZpSIDAEQQoAB1BuXkdNrj52rULQLX1b0kUWrZ9i98lxvbCzu9H88EGByAAgSYIpHMBf9xKy1qzHtTWv8ZmHdOy7epDrW0v7Hx+NBEsOjfSxq/OXcW9bghQAOpmKvd0xAY32rWSG/Ry7i2fA3vGAWRDAAIQUALE4+V4DCMY7X0O6PXIth4BO8f1rEAzBDwEKAB5aF22rw1uvrbvSYZPdk5iUVt/jo2pPi3bnvLpqP29sPP7cdkgheMQgMChBNLrtT9upWWtWTNq619js45p2Xb1oda2F3Y+Pw696FEWJWDjV7QDOyFwOgIUgE43JWc0yAY32rWSG/Ry7i2fA2eMH9gEAQj0R4B4vByPYQSjvc+B/iJLex7ZOW7Peiy+JgEKQNecd6fXNrj52r4nGT7ZOYlFbf05Nqb6tGx7yqej9vfCzu+H89KmOwQgAIFVBNLrtT9upWWtWTNq619js45p2Xb1oda2F3Y+P1ZdvAwqSsDGr6KCEQaB3QhQANoNbU+CbXCjXSu5QS/n3vI50FPcwRcIQOC8BIjHy/EYRjDa+xw4b4S4jmV2jq/jNZ62TYACUNvzd5D1Nrj52r4nGT7ZOYlFbf05Nqb6tGx7yqej9vfCzu/HQSEBNRCAwMUJpNdrf9xKy1qzZtTWv8ZmHdOy7epDrW0v7Hx+XDwMncJ9G79OYRBGQGCRAAWgRUR0qLWYo9cuKrQ5H3LOAeIVBCAAgSMI5MSj5T5fffW74fnz5w9/r169Gr7//s/D0bFebHj79u1E73fffTu8fPly+PTpj+N+sU1slP5zNh7lk9qT4ic+Ldma8kP8F19lm+qTs3+NDTJGfPryy19u0r1k31HztGTHtuNHXOvomCdg49x8T45C4CwEKACdZSZObYcNbr6270mGT3bOollbf46NqT4t257y6aj9vbDz+3HqQIJxEIBANwTS63Vu3JIChtzsS5FBixklbvpz9et6JIUAsUM/61b2WXukGCRFobmiyFafPLaH9qndupXjLRWA9BzQ+bDs1ae5rYddOJeiy6tvzpYtxzx+dBNOmnbExsKmHcH4CxGgAHShyV7vqg1u+7R14U89ydqymHrGauJhx0iyt/ZJoIy9v78fXrx4MXmSaOWXaC/xay0RFCaSjOn5sDe/uXlSO4RhibnaV8b6q5yREIAABPIJlM8Fat2Ex9Z9idOy376VJPZ514E9fRJbRH64pojdunbqVvIQWeek8PH69evxTStrX5hH6BiRL+NkHRZ5dr+M/+KLn4/HlM+cDaG9sc8p32J91+wL5zzkskZmnTH5Vyw99yJgY+FeOpALgbIEKACV5dmpNBvcfG3fk4yb7FKLv1d/mBTogh7aEz490n52q32++ebTkwKS7Zdqe2wP7QtlynHxLdyf81mSxlqvgqt9YrtNxHV/authNzdPylWSXGmn9O213+PHow2dhiDcggAETkbgtl6H8c8ft/53fANo7TplbfDqT637svbpwx8tjnjsWzPGY7usXVKUST0gia37MiZVANL1Tljadd+25Zhdj2Vt1IKQ5aXzEbNBj81trS1z/ewxDzvrg8gQfZ4cw+ot3fb4cbKgcFFzbCy8KALcbo4ABaDmpqyGwTa47d9ekzSVWoBTiWCYLHgKArGkqJS9KieVLInd+gRQt5qszSWCOgfhGNGnSedRTwJFp4e3MvFu5+bpCP1ee+P9a8QHdEIAAtcjUDYXkDVM/uJxrayuUEdq3Zd+uraGRZBQRuzzUT7pmhwWMES/+GZtS637oX/2cyyPUF2yNsqf6JC8QYpLokN1xmzQY3Nb5T7XZ+sx0aE5jrzFZAtjW2UfN/56ked8Htv4dD7rsAgCMQIUgGJU2BcQsMHN1/Y8yZCEQ4oTsiDLwlxiAfXoF32pRFBsW/sk0I71+OSxXRPA3p4EaoKmRatcfh52KnNunmoVgPx+BJcuHyEAAQjsQiCdC3jjlsR5LShoPN6y9epPrftigx7Tba5da33y2q726EMbsVP3iQ32s+xfWwASWSrXbs9UAFrLTvzxzq9lULrt82OXixuhLgI2FroG0hkC1QhQAKqGviXFNrgd05ZkI5VwlF5srby5JEDskWRHCgWSrMrWjk215woLqTFr92shKEymxfZSiaA+MdOt6torERQWYru3CORlODdPtQpAXh9aiirYCgEItEygTC4gsVXXEH+8K2PD3Lqv673YGK6hKXtr+CR2yhppbdScxdopOYL+kLXmC2JvWECSsbrmLq2NMl50pN4A0uPWjqV2zPalMWuPz/m3VuZx41qOIb3YbuNQLz7hR+8EKAD1PsNF/LPBzdf2Pcm4yZYkpkRS6NU/lwjqMd3mLvBrkwuv7WpPmMjJ/pIFIJGluuxWkjxN9FKJoLCzY3LbXoZr2M3pEL9Sfuf6sKaf348iFzxCIAABCCwQuK3XYWzLjVtagNCHCbLVokMo0/M5V7/KlHXJ2hC+SSuxP9eurT7l2q7rvLVb11/1y9pi7Rd/lPW7d+/Gddty+PDhV5MHXfaYjFVdstV2bN1P2aA2hlu1Tf0K5yLsbz/nspMxlp9Hh9W3V9vjx8JFyuFDCNhYeIhClEBgMwEKQJsRXkGADW7HtCUJ0KRir0U2JleSHNEdOyYFAilKeZ4Eipy5wkJMz9Z9ok+SPfFFZcV4SmLWwpNA8UF8KVEQVB6x7dw8ybmYOi9isurtu0I8wkcIQKA+gWNygXqxFP9g38I5UD8SYIE9T6ABgTYIUABqY54qW2mDm6+d+yRDixb61KdU8SdXvyY64VOu8MmQFAHskzQdF9uGPolvniJGru32SVaKX+opnPgjY8SnMz8J9HCTuchlJ33n5knOQ2WqW1tYi817yX0ePx71Vg4VqIcABC5CIJ0L+ONWWtaaeFpb/xqbdUzLtqsPtba9sPP5cZFwc2o3bfw6taEYB4GRAAWgEQWNNAEb3GjXSm7Qy7m3fA6kr2KOQAACEChHgHi8HI9hBKO9z4FyVzSS1hKwc7xWBuMgcCwBCkDH8m5Umw1uvrbvSYZPdk5iUVt/jo2pPi3bnvLpqP29sPP70WiIwWwIQKAxAun12h+30rLWrBm19a+xWce0bLv6UGvbCzufH42FjS7NtfGrSwdxqkMCFIA6nNTyLtngRrtWcoNezr3lc6D81Y9ECEAAAk8JEI+X4zGMYLT3OfD0ymTP0QTsHB+tG30QWEeAAtA6bhcbZYObr+17kuGTnZNY1NafY2OqT8u2p3w6an8v7Px+XCw04S4EIFCJQHq9lrj18eMfHn6LTdo1/mStqW3DWr9btn2tz6XG9cIuP1eqdPmj1hCwsdDspgmBExOgAHTiyTmPaTa40c5fmGEFq6PPgfNEDSyBAAR6JpCObXIzXzP2f/3176vq3+J7y7Zv8bvE2F7Y+fzoOca04puNha3YjJ1XJ0AB6OpnQJb/NrjltZ89ezbwBwPOgTLnQH5ynHVB0wkCEIDARgLpXKB2Aai2/vx4/ZRhy7Zv8bvE2F7Y+fzYeBkzvAABex0XEIcICBxAgALQAZDbV2GDW16bG/8yN/5whKOcA/nJcfvRBg8gAIEWCOTlAvmxC3mw4hzwnwMtxIrebbTnbe++4l8vBCgA9TKTu/phg1tem8IFhQvOgXLnQH5SuGsgQDgEIACBzwTSuYDvDYa0nPy4N5VRW/9au2Vcy7Zv8bvE2F7Y+fwgINUnYONPfWuwAAI5BCgA5VC6fB8b3PLa3PyXu/mHJSzzk+PLBysAQAAChxDIywXyYxfyYMU54D8HDrnYUTJLwJ63sx05CIHTEKAAdJqpOLMhNrjltSlaULTgHCh3DuQnhWeOI9gGAQj0QyCdC/jeYEjLyY97Uxm19a+1W8a1bPsWv0uM7YWdz49+Ikq7ntj4064XWH4tAhSArjXfK721wS2vHbv5L7HAIyOPP5za5bTt2ll5iTMMAhCAgItAuzGW9ZG56+cccF20dN6FgL2edlGAUAgUJ0ABqDjSHgXa4JbX3nYTm6cjZwH3PUkppzfHtqU+Ldu+5Nvex1tmt+3a6TH+4BMEIHA+Aun1snb8ra1/y/rWsu1b/C4xthd2Pj/OFxmuZ5GNhdfzHo/bJEABqM15O9hqG9zy2ttuYvN0lEgYkAHrs50D266dg0MD6iAAgYsSYO0429qBPVc8Jy8afk7ltj3vTmUYxkAgSYACUBINB24EbHDLa2+7ic3TkZPs+J6klNObY9tSn5ZtX/Jt7+Mts9t27dyuWloQgAAE9iOQXi9rx9/a+resby3bvsXvEmN7YefzY78rHMm5BGwszB1DPwjUJUABqC7/RrTb4JbX3nYTm6ejRMKADFif7RzYdu00ElIwEwIQaJzA9rXj++//PLx69Wp4/vz5w5+0Zd/RMfmrr343vH37dqL3u+++HV6+fDl8+vTHcb/aK/1TNmqfI3xa0iU+zdma8kH2i/8yH7Kd67d0bI0NMkb4ffnlLzfpnrNtid3c2HMdazyMdGG+jYVdOIQTFyBAAegCk7zdRRvc8trbbmLzdOQswr4nKeX05ti21Kdl25d82/t4y+y2XTvbr3YkQAACEFgmkF4v18ZfufEvcdPv1R8rAMkaFdojxSApCnmKIqGMpbXPY/uSbDneUgFIizI6H95zwcMunIcllmH/PT/7/Fi+UumxNwEbC/fWhXwIlCFAAagMx86l2OCW1157E6sJwP39vSvJKrUYa+Jh5a19EigyZKz48uLFi8mTRCu/RFu5SRKj8t69e/egU5LW169fj09Wpa98lv0x33S8JF9Wnu7vcbs0T3Je7P1EUrmuvXYex3ceinAPAhA4CYG8XEDj2tJW17C1BYsl+XPHY+u+9Jf99q0k75q4t0+pooWuV/oWkmw1pwrzAfFJCy1qr47TMcJCxkkeY2XJfhn7xRc/H49pzjBnw9xc6LGUb3q85Fb9FptLyj1G1knCwaXNsLHw0iBwviECFIAamqx6ptrgltdeexMryYQkXCVePZbF1/ck5THh0wTGLt5hMiLJ0NKTQO3zzTefnrxKbmWn2h7bNTnTZFUKGspQkhrrk9olfaRti0PWFhnTZkLkm3flkZonLZIJJ02ULafS7bXXzqMd9aIEmiEAgSsRSOcCnrVLi+9SWLDr1Ja46tEvesI1UnVr7Jc1wlMk2OKTx3axS4oyqQdMsTU8XPNlTdN1TfprW3zQHMK2lZfmGtJfC0WWlzKM2aDH5rbWlrl+9piHnYzbMk9Wb+m2z48rxZyz+mpj4VltxC4ITAlQAJry4FOUgA1uee01N7H2RlwTj9IL65K8VCIo+zXhERmS9EiCsiRPjseSopxxnj5inxQo9M0em+SJrZrUiUzrS8pfSXZVlseOlvum5kkT0ZDjXr6uuXZutkQvYHZCAAIQKEwgLxe4xabl/hJrc9dVj9ylvql1UMZp/Jf1YU1ecoRPWgiyOYraLr5Z/21uIPt1XQv9s59Fhr4VpFvVpeNFVixvEP9DG6w9qbZyTx0vvf+IeSpt86O8wpc14lYQsLFtxXCGQKACAQpAFaC3p9IGt7y29ybWPl2zicfWBdP3JKX8k0CxX/wJf0wyxy+P7ZqEabJlE1rdpzq1r3y2bT0u25JzYOUe1fawU5ti8yQcY4mujtlj6712pja0F12wGAIQaJFAOhdYE38ljtl4O41raV2xfl79dr0M5ekx3YbHlz57ffLarvptDqX7wrVf9q8tAIkslWu3NoeoXQBay0788c6TZVC67fOjxdjRm802PvXmG/70SoACUK8zW9QvG9zy2t6bWEkiNMGoWXyYS/LEPrHTa1+ssFA63nAdSwAAIABJREFUYdBET+3XpCymW/uKDbZtbQqTRHus13bIKvysTPf233vtTO0peuEjDAIQgECCQF4uMI1P82N0jfWMKdFX182YLFkH5CGA/Em/WJ+5fUf5JHbKV7GsjTHdsrbr19elLV8fk7UtLCDJ2LmvdqnPdl1MFYCkj/bP3cZszx27pt/R+tbYGB+TuDzZfSABG9cOVIsqCGwgQAFoA7zrDLXBLa/tuYnVxENfLbZbm8zEF795e3xPUtJvAIluTRJ1m2tPWEjIHZdru/CT5EX0aOFGvr4ldupn6SN6bYI2Z5ckbCIz19az9ctlZ+0OeQg/ey5qW98IsmNLtj3XzlO914lKeAoBCNQkkF57c+OvxFwpMmhsXVMoeBoDfb8BJ+PDWB/+po6shVoMiemz+7b6lMsuljeF/LTAI3yt/eKP7pP/LELHWQ4fPvxq8pU3e0zG6hjZatvmF8okZYMeD7dqm54T4VyE/e3nXHYyZus8Wb2l2x4/akYAdCsBGwt1H1sInJsABaBzz89JrLPBLa+95SZWFma5yZZt6YV1SZ4kOanCh9rlfRIo49Z8BWzJVj0u8sVmSb6kLYmeJnuSfOnTPukviZoWMMJjKk+2Ik+TOru/5/bSPNlEd08OW66dkwQMzIAABLonkJcL7Bkrkc0ccA50H2gacNBehw2Yi4kQGIaBAhCnQQYBG9zy2ltuYuVGvFQByPckZd8ngfJES4svOUlLru1h0UqKN1aPfNanaXZ/+ERPi0Y5TxZz7K/ZJ5ed2KhFM2WUmicKQBmhgi4QgMBFCKRzAU/83WOdqK1/i08t277F7xJje2Hn8+Mi4ebUbtpYeGpDMQ4CIwEKQCMKGmkCNrjltbcUgEokAsjImyc4nY/TtmsnfRVzBAIQgEA5AueLnaxnzMn1zoFyVzSS1hKw191aGYyDwLEEKAAdy7tRbTa45bW33cTm6chZ6H1PUsrpzbFtqU/Lti/5tvfxltltu3YaDTGYDQEINEYgvV7Wjr+19W9Z31q2fYvfJcb2ws7nR2Nho0tzbSzs0kGc6pAABaAOJ7W8Sza45bW33cTm6SiRMCAD1mc7B7ZdO+WvfiRCAAIQeEqAteNsawf2XPGcfHplsudoAva8O1o3+iCwjgAFoHXcLjbKBre8duwmln3PBhjAYM05kJ/YXyw04S4EIFCJQDoXkDcYPn78wyDbWn8SM2vbsNb3lm1f63Opcb2wY82vFNZWqbWxcJUABkHgcAIUgA5H3qJCG9zy2mtuchlDcYRzIH4OkAy2GDexGQI9E0jnAnIznx+z0nLWyvj6699X1b/WbhnXsu1b/C4xthd2Pj96jjGt+GZjWCs2Y+fVCVAAuvoZkOW/DW55bW7k4zfycIHLmnMgPznOuqDpBAEIQGAjgXQuULsAVFt/frx+yrBl27f4XWJsL+x8fmy8jBlegIC9jguIQwQEDiBAAegAyO2rsMEtr73mJpcxFEc4B+LnQH5y3H60wQMIQKAFAnm5QH7sQh6sOAf850ALsaJ3G+1527uv+NcLAQpAvczkrn7Y4JbX5kY+fiMPF7isOQfyk8JdAwHCIQABCHwmkM4FfG8wpOXkx72pjNr619ot41q2fYvfJcb2ws7nBwGpPgEbf+pbgwUQyCFAASiH0uX72OBGu0SiggzOo33OgcsHKwBAAAKHECCG7xPD4QpXzzlwyMWOklkCdr5mO3IQAqchQAHoNFNxZkNscPO1fU8yfLJzkoTa+nNsTPVp2faUT0ft74Wd348zxxFsgwAE+iGQXq/9cSsta82aUVv/Gpt1TMu2qw+1tr2w8/nRT0Rp1xMbv9r1AsuvRYAC0LXme6W3NrjRrpXcoJdzb/kcWHmJMwwCEICAiwDxeDkewwhGe58DrouWzrsQsHO8iwKEQqA4AQpAxZH2KNAGN1/b9yTDJzsnsaitP8fGVJ+WbU/5dNT+Xtj5/egx/uATBCBwPgLp9doft9Ky1qwZtfWvsVnHtGy7+lBr2ws7nx/niwzXs8jGr+t5j8dtEqAA1Oa8HWy1DW60ayU36OXcWz4HDg4NqIMABC5KgHi8HI9hBKO9z4GLhp9TuW3n+FSGYQwEkgQoACXRcOBGwAY3X9v3JMMnOyexqK0/x8ZUn5ZtT/l01P5e2Pn9uF21tCAAAQjsRyC9XvvjVlrWmjWjtv41NuuYlm1XH2pte2Hn82O/KxzJuQRs/ModQz8I1CVAAagu/0a02+BGu1Zyg17OveVzoJGQgpkQgEDjBMrF4++///Pw6tWr4f7+fvjuu2+H5ThXTrfo+uqr3w1v376d6BU7Xr58OXz69Mdxv9op/Zds1L57+qQ6nj9/PsifMJR9apv4lGOr9rdb8V/kbZ2PNTbIGPHnyy9/OfpibSvRDtmJvrWsStizXkbjYaQL82086sIhnLgAAQpAF5jk7S7a4OZr+55k+GTnLJi19efYmOrTsu0pn47a3ws7vx/br3YkQAACEFgmkF6vvXFLbvSl2FCi4CBrjFd/rAAkcqQQYYsQUgySolBOUWStTx7bQ/vC9XVN8UVl1CgAaVFG58OyV7vmth52ouv169eTAt+c7COPefxYvk7psT8BGwv314YGCJQgQAGoBMXuZdjgtk9bF359klXraYwmHnaxl0Ro7ZNAkac+hU/nrI6t7ZBfqKu1RFB5iN3Cz5sI6vjc7VHzlGvP+n7dByMchAAETkGgTC6gRZVvvvlUrADkjZ+xdV9kyH67lso6JGvSkvyjfBJbYmujXc80/9A3kcQ2KXxIziB+yHiVEeYROkb6ybgXL148rMd2v4z94oufj8eUz5wNS/zkeMq3nLE5fcTXsxaAcuy/9TlFMLi4ETYWXhwF7jdDgAJQM1NV01Ab3Hzt3CcZey3Gufp1MU0lgmEyogne3JNA8UnGSR9NrDTRUn1zW4/toX2hXDkuvoX7cz73/iQwnEubEOfw2bOP5xx4tKNmnEA3BCBwHQLpXCA3bum6KGtTqXVG4mCufo3dqXVfbNKHP9ZWHRfb2n5rfPLYrkUZKcxIO7Qntu5Lv1QByOYR1nbbFh3CSwtjsl5qQcjyUltiNuixua21Za6fPeZhp/OkBTL1x8qr1fb4cZ14c2ZPbSw8s53YBoEbAQpANxa0kgRscNunLYvxGZ7GpBJBm/BIUiBJjyQongRhz8JCKlkSuzXB0a0ma3OJYJgc6RjxV5NOkWf3i38tPgkM5zzk4pnj+n2TFzEHIAABCBQksD0XsOtoWGQ4MpaGa4DVrWtrrn01fNI1OSxiiO3im/UnXN80Lwn9s59jeYTq0vGiI5bHxWyw9qTayj11vPR+0Sd/peXuL6/gJY2olQRsLFwpgmEQOJgABaCDgbepzgY3Xzv3SUZYcNDkYuvimatf9aQSQUmGvE8CVaZs1b8wGbN9wrbHdk0AeRL4eH562Mmc2PNNkkD7OZyXIz97/Hi0q80Ig9UQgEBrBNK5QE7c0jVRH0zYrWedjMXjHP12XGrdlz56TLd2XNgu4ZPXdrVBdVt2spbZz9J3bQEoVRw5UwFoLTvhkjO/ynrvrc+P1uJGj/baWNijf/jUIwEKQD3OanGfbHA7pi3JRirh2HPxnUsCxB5JduyTsVxbjvJHC0FhAUP0l0oEbaIubdV1pkQwd160n/BRv+QtJvuKvPZpY1v84kcgBCAAgQiBsrnAmnW1VEyeW/fVLlnnwjV0Sb+Ole1S363HRYe8kWtt1JzFypYcQX/IWvMFWbvDApKM1Td8RbY+ALOypJ2z7kufcNzS55jtS2PWHlff19i5Vme5cZFLk10HE7Cx8GDVqIPASgIUgFaCu9YwG9x8bd+TjJvsuYTMs3B69c/p1WO6zbVDEhktkuSOkX5e21W2JjNip+4TG+xn2c+TwNv5ppxk651fO7Z0238OXCsy4S0EIFCLQDx+Sgz0x63/XfVgJRVvvfol5usDANmGb9LaYkhKZ2z/mgJQru26zlu7wwKGFnikjxZzxE7xR/e9e/du/BFoy+HDh1895C1avLLHZKzqkq22xabwq/wpG2K8rG3qVzgXqXGyP5ed9NWCmepRH+bkH3XM40etqx+9loCNhXY/bQiclwAFoPPOzYkss8Ft/7YmNjUW5Lmbf03mPE8CxYc1xZ8tiYYmNuKLypGEL+QpiRlPAqfns7BLPelUlufenihsYAoEINAxgWnsPHdcxFbmp9dzoOMQ04xr9txqxmgMvTgBCkAXPwHy3LfBzdfOfZKhRYvST2Ny9WtyFD7lCp8+eZ4E2idf6pd9Cqc6U9tc27VgpjpkGyv2iC9yzNrAk8Db7zMJm3C+U3Nz1P7cc+BmT94VTS8IQAAC2wikcwF/3ErLusW2/D619a+xWce0bLv6UGvbCzufH9uuYkaXIGBjUwl5yIDA/gQoAO3PuAMNNrjRrpXcoJdzb/kc6CDc4AIEINAAAeLxcjyGEYz2PgcaCBXdm2jnuHtncbATAhSAOpnIfd2wwc3X9j3J8MnOSSxq68+xMdWnZdtTPh21vxd2fj/2jQRIhwAEIPBIIL1e++NWWtaaNaO2/jU265iWbVcfam17Yefzg3hUn4CNX/WtwQII5BCgAJRD6fJ9bHCjXSu5QS/n3vI5cPlgBQAIQOAQAsTj5XgMIxjtfQ4ccrGjZJaAnePZjhyEwGkIUAA6zVSc2RAb3Hxt35MMn+ycxKK2/hwbU31atj3l01H7e2Hn9+PMcQTbIACBfgik12uJWx8//uHhf2WSdo0/WWtq27DW75ZtX+tzqXG9sMvPlfqJKO16YmNhu15g+bUIUAC61nyv9NYGN9r5CzOsYHX0ObDyEmcYBCAAAReBaWx79uzZwB8MOAf2PwemeZXroqXzLgRsLNxFAUIhUJwABaDiSHsUaIObry1PdWo/hZPFsrYNa59utWz7Wp9LjeuF3TTZW7r+eow/+AQBCJyPwDQWceO//40/jGEs58A0JzhfZLieRTYWXs97PG6TAAWgNuftYKttcPO15WZ+ulj5xm8d+/XXv6+qf4v9Ldu+xe8SY3th5/fj4NCAOghA4KIEpms5xQmKE5wDx5wD0xzpouHnVG7bWHgqwzAGAkkCFICSaDhwI2CDm69duwBUW/90oW6L3Rbba49ted4tO78ft6uWFgQgAIH9CEzXM27+j7n5hzOcbY6w3/WN5HwCNhbmj6InBGoSoABUk34zum1woz1dfOEBjzOdA80EFQyFAASaJjCNexQmKExwDhxzDkxzrqaDSCfG21jYiUu40T0BCkDdT3EJB21w87X9bzD45E8Xwqdja+tfsm/ueMu2z/l1xLFe2Pn9KHG9IwMCEIDAEoHpehu7+T8i1sd0+OPm1JeYzKP2tWz7UYxSenphZ/1Yvq6WrlOO70/Axo/9taEBAiUIUAAqQbF7GTa40U4lH+zn3Kh/DnQfjHAQAhA4BYFpvF++UZ32rx8rsYc5OP85sHxdnSIYXNwIex5dHAXuN0OAAlAzU1XTUBvcfG37JKNGslFb/xafW7Z9i98lxvbCzu9HzTiBbghA4DoEprnA8o3qtH+JOJ+S4Y+bx9mWsln3t2y7+lBr2ws768fydXWdiHNeT238OK+VWAYBS4ACkKVBO0HABjfatZIb9HLuLZ8DiUuY3RCAAASKEpjG4+Ub1Wn/5VhGfxhxDixfV0UvaoStImDP01UCGASBwwlQADoceYsKbXDzte2TjBrJTG39W3xu2fYtfpcY2ws7vx8txhdshgAE2iMwzQWWb1Sn/UvE+ZQMf9w8zraUzbq/ZdvVh1rbXthZP5avq/YiR38W2/jRn3d41CcBCkB9zmthr2xwo10ruUEv597yOVD40kccBCAAgSiBaTxevlGd9pdY9v33fx5evXo1PH/+fPz76qvfDctx7qmsLWO+++7b4f7+fvjyy18+6Ba73r59O8h+2VqbpC37RJ+0xX7pb/WrX3acPV6qrXqUX2hLaLtHr/gu8mTrGRf2XWODjBGfdD5CmaU+y/yk2JXSsVXO8nUVvTjZeSgBG48OVYwyCKwmQAFoNborDbTBzde2TzK2LoRrxtfWv8ZmHdOy7epDrW0v7Px+XCku4SsEIFCPwDQXWL5RnfaXtUEKGK9fvx4+ffrjpiJDuM5446YWArSwI/aIXf/3/373xD7po4UJ2Wrb2rCleOKx3dpi9Wtbjq8tQm3xQfXL1mODFrTE5iXfrA5te9jJHL98+XIscKXmUmUfubV+LF9X9SIAmpWAjW26jy0Ezk2AAtC55+ck1tngtm9bFmF9IhNLrPZehDXxsHokEZJEwSapNlGxfcO2JpbiU/h0Luy75bPao+xCXZ4kLLSjRiIoNoheeSorPr148WLCP7Rx6+fUPIVcpd9WXfuOP0nIwAwIQKBzAtNcYPlGddpf4qDE1z0KQN4YK7nGu3fvxjdeNA8I1z5dD3QdSK2rWkCS/l5bPP1TRRK7nmlOIGup+BPaZgsf6l84RmyScbIOyzGVJftl/Bdf/Hw8JjbJ/jkbcnxM+ZYzNqePzrH2Dbno/trb5euq8zDThHs2tjVhMEZCYKAAxEmQQcAGN1/bPslYWkglkdDkYalv7nGPfpEZJgWqJ0xGJFmwT4+0n91KMiXjJOnSxEp8tH3m2h7bQ/tCuXJcfAv353wOk+CcMbE+XhuEldos7bCoFdOh+zzs5ubJci3FQW3M2Xr8eJSXcTnTBQIQgMBmAtNcYPlGddpf4pWui1pw8MT4ufjpjZsS5//P//n/x2KUrDfyFxYF7BogtqeKV6k8Ys5mPeaxXYsyqQcksTU39El9Ff2p9c76Lf3EP50rGa8FIekXPiyL2aC+zm2tLXP97DEPO+uDyBB96pOVWaNt/Vi+rjZfyAjYTOAW2z6+uRse5uz+/fBxGIbw86Oqj8Obu2eP/e7ePPTbbEJRAca++/efJX8c3t+f2eaiAC4hjALQJaZ5q5O34LbXYhgmGHvpWZKbStzCZEGSHkkYluTZ4zbRsvtLtFPJktitybVuNVmbSwTDxFzHiK2adB71JFB1SrItdpXgNSdD5ymW4AtnYTo3vu6xrdc64yEAAQjkEJjmBcs3qtP+sTgp8dW7rsbkePbZOK+xX+N8uM7bNXMuZ1E5Hju29NU1OSxgqB9WtvVB9qutoT/2cyyPUF06XmRZlqozZoMem9vKOJE912frMdGheZG8xXRUjuGxe/m6yrlWy/b5+P7NcH/3udDxTIoCd8Pd54JHWU2tSLvFtrFI8ux+kNLJ+HlS6DEFlsn+s/hr7BsLQO+H+4e5lvl+9O0s1mLHOgIUgNZxu9ioW3DzLFzS1z7JmBurSYkswLIgp55ozcmIHcvVr2Ml0ZGkQD/rVpIhfbIlSY4kP55CwJoxHts1AUxxiyVhylxsEz9tImeTL5sI2raMEQY2EdRCkeWlDGM26LGlrdgWm5fUOA87K8POk21LH2XsmXcre03b78fFQhPuQgAClQhM84LlG9Vp/1g8TK2/sb5z+zxxU9YqWVsk3ot+yUHkT+J9uGZZ+6Sta5+1JVw37LGctsd2Ky+mN7Rf+qfW/XBtt5+t31antG3eIDYoO+0Xs0GPzW1lnLcAtJad2DHn45ydexyzfixfV8de/uMbLWMx4PNbIfJ5LBYca1N9bbfYNvKJvAF0s9MUWJopAPEG0G3++mhRAOpjHnf24hbc9ljsdPGVwo8swvo5llztpV/lziUBmpDYxEjHLW1lrPwt9dt6XIsUITvRrWxVx9pEUJ+Y6VZ17ZUIit1aWFLb99qG86Q8xVfxU5LbkONetqyTu3MoQDwEIgTmkl55Df7xH0mvkuhjO80Llm9Up/3D+KYFDO9NfyjH+1livPz+j4zTeK9rmqwHao+s+7IOafyX/bE1XfrpwyKvLVv6h/aJLGu/yhYf9evr6q/4ovzVPxmr6+6cTzJWGaUKQHpcbcjZxmzPGbemz5x/a+SVHLN8XR0ZTcxbIHdvhvca3D9KceDxLaAjrTmPLhvbcqxqcS3M8Ys+LRGgANTSbFWz1QY3X9s+yZhbFCURkZtrSSCknyzIkoTJdm7c0rFc/SpHkp9YUifH9ZhudczSVuRpQrnU1x732q5jw0RO9osNmthpv5C5JnIhe/t5zncdL/JTiWBog9qS2kr/1FtNqTGyfw27pXmK+TRnQ4ljfj+qBYnuFfPae3qKx9fcee09Dam7I9NcYPlGddpf4qOsLVJk0IcJawoFsTjriZvhuiVrteYAWiBR++z6JX10v2xTY7zrV67tus5bG0J+1n4t5ggvtV32SfFLx4l/Ku/Dh19NcjB7TPromJBf+AZQyobYvFnb1A4Pv1x2osfy8+hI2V1yv/Vj+bo6MLB8fDPcfX7z5+6NVn9i+lMFjvh+XT9Epqyzd/r7OM/uhvvPej6+v4/uV+0lZDzK+lzMMm843d3d34pdqnCyldgW9y2+f9r3/cNX6vRNqpvPExVDjl03uffvH/s/nj/zX9l6YDv6ezfcv39/+42i8a2um+xnT95ayrFt6g2f6hOgAFR/Dhqw4GniVnKxE1mSCNqnZpJsrCmabLVL9GoiF8rSQojYJf3C47HPkhwd7Ycm1dZG8UkTNrVTErMzPwkU+370ox89PJVVm/fa5syT9EmdG3vZ5ZfbQDhp0MTxDZcxSdJk7cqvvd8mcuTDa+83KN23pnnB8o3qtL8/tjEeZtc7B5avqyMDjXkDSIoz4ytAoQ2pYkF8vxZvYr7KvrvJ7w3d1t6xNmF/aye2RmfKGAbr303Po113Q7rmJedl3Lf4ftM3Ze9EWa5dKbkzBaD3948/Rp2w4/a1PiN7UgDKtS08R/hcmwAFoNoz0IT+9YuufZKxlLx4nxQtyZPjHv3SX4om+uRJtuGTISkA2CdpczZYf1Rm7liP7fZJluqJFXvEFzlubRB/dN+ZngTGfBI7bVFrjr1n3ufmyZ4PNYo/Hj8eeTQRUBoz0iQ4vPa+Ye5SCeQGkUWHGvvsnUVRHT0Jm+YFsZu3uRi95zF/3Jz6sqdtS7Jbtn3Jt72P98LO+rF8XR0bU8Zi/1gwkDdWHv/Hq5slJpZOigXx/ZMCkP6YtHnb6IFBbL+J02VlmGLPx9jbMDdPH1sbC0CjbybXMD+0fPNtyS7DV+ZH5Ybmjp9tf33LSd7mMcWvkbHpa+b01nfJtlEpjZMQoAB0kok4txnnSY72TiCQz1y3fQ6cO5I0aZ1JRHntPZzBeFK4+NRTCmm89h7CbOzzdK1YvlGd9m87zuIL83fMObB8XR0fNj6+uR+/CnazzxQAXG/DeP+nrPiaMxYiTHEivg4Jr5iMW/ElXOdvRa/UmzRyLsRkpnSl+pr/Nv6Z8vTYZeSaAlLyDEnmNkbObAHIY1vSCg5UIkABqBL4ttSuX+jsk4waCUNt/Vt8btn2LX6XGNsLO78fbUWWNqy9JTny393y2rudNZMoLibepu/49Ng8aZTX9Hnt3cI9eXuaF9xuBG9zWiKWr5Hhj5tTX9boLDWmZdtLMVgrpxd21o/l66pWmPg4vH9SCNICiYn1i+tCqgCU2h+XHS8AOWSYYkiM+eM+LcqEzPcoAD0bHmovLrsMm7FwE9pqPpuvf027x+SYfTqnLtuMXpqnIEAB6BTTcHYjzpMcrU0MGMccXuMcOHssadO+2xNAvbnltffHmYwkhQ8HYvvNPvt6+kdbYNMbCJO4j09C5SFr7HX8hNzkqWb789p7EtPigemaErtpukbMnXLAZ3iUPAeWr6vFC3XnDtOvDD0WEkyM1WLBgxXx/ZuLN/Y3gCb6zDoy2R+xI6uYcVufplDlnI/ITPqc6mvfAPIUgNQuI3da0Zmaq58OKQCpbaqU7VkIUAA6y0yc2o71C7p9klFyUcyVVVt/rp2xfi3bHvPnyH29sPP7cepA0rRxvPYemz6TcC4l2MkE2Sa9+oT1VhSavhVk+2piaWzgtffYJO20b5oXxG5U2acFY7acC+XOgWkutdPl7RH7pJBgYvLiupAq0qT2x2VvLyKl15xlFOUKQKMf44MPj12GTU4ByBS9putsTI7ZN86px7ZlivQ4lgAFoGN5N6ptmuhNFx+OwYNz4DznQKMhphmzee19OlWxpFB6xPbH9j1Ks29YPeStJjFN3zhqscjIzUl6n9ysqEcxOWafJr0u21R2j9tp3E/PU7kbX3TAknNAbtvstXdgbJHYeXc/vLH/+5d9K3MsWpjizbhv+qaQ/a/Ex6KHxtjPLsX3R2JyiTeA7JolNoc+3t89/KhynPbjfIz2LvpsfJi8Dfvm9ttKIwvbd8ku0zdnLZz8r2dr3oY1+tzM4iTZexwBCkDHsW5Yk11sfG15g+Hjxz88/G9c0q7xJ4tlbRvW+t2y7Wt9LjWuF3bTZG/p+ms4zDRl+jSZfcy1TDI0Jm/iVHz/mCxO+prEebJ/JxlZxQx90yY2QXG74j6n+tq3enjtPUb5nPumsYgbc4oznAPHnAPTnODA6GCK57G5nrxFkug7/pfuZn07xVooGJfWw2RR5XMszPbZrIWJ38ObqMq2y8idCEifI/bhS2xOF/8b+Gzb0jZwpA4BCkB1uDemdZroTRef+WNyM+/pX7rv11//vqr+Lf60bPsWv0uM7YWd34/GQkvL5ppkr9kCkHkCOEnes+fFJJwmofcWgMYbgPHJqefVcmNDTtJrEtapzzE5Zt/on8e2bJANdpyu/dGbh8TNDX2PKRTAuU/O0xzpyNDxcfj4/n4Yizifr++7O3l75OMTQx76jjHg83+goOvmGE9TDz1S+2MxOdU3tT8u48EBeaPp/u72Jo7Yf/do+1MP1eVbLMzz+aZf1qDoGBWt2yy7bnJvhRsVkN5Ovt5+9/iW0VgYGtdUI9vM3YPULNvS+jlShwAFoDrcG9N6C27ThWd5f+0CUG39Xl62f8u2Wz9qtHth5/ejsdDSgrmSsPLae3KmnhZvpm9H3V71NwmkJNX374eHhNoUZOJ9ee3olLH4AAAgAElEQVQ9Cb/qgen6T7Ghz2ID83q+eZ3mVFWDAMofCNhYCBIItEGAAlAb81TZShvcaE8XX3jA40znQOVQ0aN6fWI5Psmc3hBM3iJJ9B2fmJonZ2PhxOwTfPH9pnhi+sf7+mSsf+3982Rn+2x8SLAcHzaKaFsYivUfOxu54775E3F8uhmTK/tGOUa24Z5v27wdbR89U9zDFtbhq54DbUeRPqy3514fHuFF/wQoAPU/xwU8tMHN1/a/weCTv5T01Na/ZN/c8ZZtn/PriGO9sPP7UeByR0RAgNfeAyBPPkZfYdfC0Fg4uRVTeO39CcIGd6TXan/cSstas17U1r/GZh3Tsu3qQ61tL+x8fjQYOroz2cav7pzDoU4JUADqdGLLumWDG+1ayQ16OfeWz4GyVz7SIAABCMQJEI+X4zGMYLT3ORC/Otl7JAE7x0fqRRcE1hOgALSe3YVG2uDma/ueZPhk5yQWtfXn2Jjq07LtKZ+O2t8LO78fFwpLuAoBCFQkkF6v/XErLWvNmlFb/xqbdUzLtqsPtba9sPP5UTEEoPozARu/gAKBNghQAGpjnipbaYMb7VrJDXo595bPgcqhAvUQgMBFCBCPl+MxjGC09zlwkXBzajftHJ/aUIyDwEiAAtCIgkaagA1uvrbvSYZPdk5iUVt/jo2pPi3bnvLpqP29sPP7kb6KOQIBCECgHIH0eu2PW2lZa9aM2vrX2KxjWrZdfai17YWdz49yVzSS1hKw8WutDMZB4FgCFICO5d2oNhvcaNdKbtDLubd8DjQaYjAbAhBojEC5ePzll78cnj9//vAn7eU4V0636Prqq98Nb9++nej97rtvh5cvXw6fPv1x3P/9938eXr169dB/zkYZe39/P7x48WIyfm7MmmNqj7IT22SfyhKfxDf97NmKDyJPtp5xYV+vDcpOfNqbn+oK9QgzZSrbtQxDFvt8bixsdGmujUddOohTHRKgANThpJZ3yQY3X9v3JMMnO2cxra0/x8ZUn5ZtT/l01P5e2Pn9KH/1IxECEIDAUwLp9doTt6TgExZftq4THv2iK1YAkv1ily1ISTFIikJzRRHt8803n54UkHL88tge2hfK9xZf7HjxsUYBSHhrwUXaYVHL2hi2Pexy50n7zc15aMfWzx4/nl6X7DmegI2Fx2tHIwTWEKAAtIba5cbY4LZPO3ziIk9dPAv/1gVXx8cSQVn41z4JtH7t6U+PTwIl+dOncOETOp2vEls7R6pvz7kqYXNaxuWCEw5DAAJVCGzPBUoVGdLxMM/G2LovMmW/XQtkTcotVsXyhq12huNTBaDYmiZvJIlNUtB4/fr1+KaQ+CR/IjvMI3SMHJNxsg7LGmn3y9gvvvj5eEz5zNkQ+pH6HNqa6rdl/9I8hefAFl37jK1y8aN0QsDGmckBPkDgtAQoAJ12as5kmA1uvrbvScZNtiy6mkhsWTS9+lN6w0Qr56mQJFMyThIMTaw00crxyWN7aF8oX46Lb+H+nM9ivyTBss3pn+qzxQZvEuZhF9qbOgfCfkd89vtxpriBLRCAQL8Ebut1GAtz45be4EtBQgoLpQr9ufrV7lTMt8UBXcNz11E7VvXkbD22a1EmxS225ipz8UfssQUgm0fYdd+2ZYxdj2W8FoRiPsdsyOGgtsn43P4ediozZrPqLnlOqr6crc+PfiNMO57ZWNiO1Vh6bQIUgK49/5ne2+C2f1sSE0kIJVHJWSxL9kklgjbhEX2S9HgSEx3jKQB5/LKJmx0ndutbLbrVZG0uEdRkNxwjsjXplGMqS/3b60ngGt6WQ2675rmXa+N8v8xLmm4QgAAENhHYngvo+iRbiWvhOjsf67brV/miN7We69oaFkF0bGqbKiyk+m/Zr2uyfVtJ5Intylblp9b90D/7WWRoLqBb1SVrs+Y1sfUzZoPaMrcVnTa/mOu75djSPAmvH/3oR1Xy0Ty/Nl3EDC5CwMaiIgIRAoHdCVAA2h1xDwpscPO1fU8yHmXPJWN5C+LNRq/+lG6bJGhxRPrm2rNmjMd2TQB7exIoyWNYaMph7mFn5aXm3/Y5su33o4d4gw8QgMD5CdzW2TAm5satsBhhiw6hTM/nXP0qcy7u6zHd6pilrc0Zlvra417bdWwsx4gVX0LmWsAJ2dvPc77reLGjVAFI9KVyGfU3tl3DbmmeYlxjukvu8/lxbKR4f383PHv2bHh292Z4f6xqp7aPw/v7Z6OtHx9Gfxze3D3d97SfU9VgY6F3bGv9DcP7c58BrZE92l4KQEcTb1KfDW77tmsstnbhnkt0JJmSZMcmRnbsXFvGyt9cnxLHtBCkT+dUZslEUJ8A6lZ17ZEIqv0yL3s/Dax97qmv27ZNBhiMhgAEmiOwPRcIb74lzut6si0O+mybW/d1vRe7pF+uXaFvuePW9hN9skZaGzVnsTIlR9AfstZ8QdbucP2TsbrmzvmSs+5LH2vDXFtsOvKNmznfxE7La87ueseODBzm5v/Z3fDmsapypAEOXe+HeylUPfzdfy5WGfvv3gyP5sf6OdQ8dLXxxjvW1//j+zfD/d3nItyDb3fD3f37z774ZK3rbRhSAFqH8CSjKACdZCLObYYNbr6270lG+VfA1+hPFWo0SdRt7oIv8tYktV7b1Z4wkZP9YoNNDGWfJDaxH4OUhEjsla30s5/nfM9JBEMb1Oal7VKSFo5fw05sWzNPoe6Sn/1+nDuSYB0EINALgXQu4IlbWoRY86ZnKtZ69IsMif36QEO24dsnthiS0qn7Za2SwomV51lXcm3Xdd7qCQstKbbij4wTO9+9ezd+hcty+PDhV5M8wB6Tsaprad1P2aC87Dbmk+gS3bZfqp3LTsbPzZP4pFy1CJbSucd+jx9HRxPeAIoRt7EwdrzMvo9vbOFHi1uft7YY8/7+c+FrjyLdwQWgXX0pMy+tSqEA1OrMHWq3DW77tXXxz13s91h4RbckRzHZWgiRZC7XRkkkPMlfTK93nyY21kbxSRM2lSeJ2ZmfBKqdshVf9uR4hnPP+ru+fWhguIwykt7LTDWOZhPYLxdYH/+wCXZXOweyL1g6DqZ4Mb4BVAKLPedKyIvJMG8qydfv9O2rj/JVt8e3gMZRuxZNDENbdBqVF27s6kthWxsTRwGosQmrY64Nbr6250nGHjf5Hv2SOIkN+uRHtlueBNonXyrT8zQp13YtXqgO2caKPeKLHLM2nPVJoMyF2iY2e4s/uew0Wd7j3FPZW7ZeP+rEh961moSH196LTPbtSWbsCaXlra/uh2pNn6KJfKiHz2kC6VzAH7fSstbEz9r619isY1q2XX2ote2Fnc+P9BW6x5H07+V8LkSMX7t6Ntzd3d8KFcMwpOJ+av8w3Ioed5Pvmy3rGqLFnti6Edv3SO7jm/vhzvjz+HWyxzduntrzt5O+oe/WHhn78f39cKe/R/Tsbrif+BeZuY9vRvlT3dO+4/yEdj8Ua1K+pvYPj3aOsu6G+/fvb7+j9KQA5JuXJQ7zvqjfZXWq1CtsKQBdYZY3+1g2OauVHKCXeez/HNh8sSMgQoA3gCJQNuxKJ/yPQm/Hnw1PckzpkpkMbzCRoYsEWE/6X0+Y4/PP8eKFWrTDeFM+KbzfCjW2SPLYNkX+8W2OaVwfZT57NkyKG9H+mbo2FoDsGvTUJ2vnCnvGgsr0a1zRtW6cPatHCjH6CtDY4aFhWU7sXlMAMvwnstT+icHWvqlfzyYPzkyxSeUEWxU774u4W17nlGbfnygA9T2/hbxbnwT4nmSs15NapGvrT9mVs79l23P827NPL+z8fhS65BHTEQGTcE2S9nou3pJrc3NgzTEFnmeaDdrjY2KaGG/70t6JQHq99settKw160Rt/Wts1jEt264+1Nr2ws7nx06Xd0LseFNu1pJxn73R/xh7U8TcsI9x3eyTQoCRe1snbm+C5uuKrXu5+242jQUpsyaNpksJQv+nsWd/O7z5KHFMHlDEfDe6xU/94WYjN7rWmXm48dACi7w5FPkB6OT6aGwwnO3bSTf+pu8zfZNL3rZR3Y8+qHm3/WZNLsEh6YtlX1inOtX5lgJQ5xNcxj1/chatFgdVXvqYQAqbzz9aB5Ol62I+uS5zxSNlSmBMbiZJk/RZfv34lrSZJGXmdXj7VGtMPh/MWda1mMiN9pvkbtz36LPvtfe78bV0OW+fvvY+5aifUkz0+MQPST5vBx5a6fkIOvJxRwL+vGA+diEPPpwD/nNgx0s8Ivpp7I0USz6Pu8X5Wwx/Mt4WQB7yYO1r1qix4uLRZcaPa1zmvtEmu2bfxt7W5dAeOX8f/z31/Tb+VmR57PuEiQqJbOPrs7XzoSqV+BHolA2R/SMD+7aTGGT6FpuXGQ7JAlDI/gZrL/Y3DX20KAD1MY87e+FflJduYjlOoYNzYN05MJ8g7hwKLio+nqDdEpCn57JJyMYE5oqvvcdPmFuCZjgFXW99ptzSBbJAAB93JpDOC+QNho8f/zDIttafxMnaNqz1vWXb1/pcalwv7ObXeXvt7XyZB+KfrIWmUPB0HdQc5xbnb3H9cd/4+f5+/G/bH+oKRu5YcDH7lnWZQoW3AGS+WhTTPdY9NtvzCPcJ04D5048fh/dPfp9IC2eFCkCJvCVaANqTw2jH7Rx64LGnzqfAu9xDAajLaS3tlF1s8trp4KwLAlsYcQ6sOQfmE8PS1z7yhEAsQRv3Xfq1d5OURV/3jp8/Y9Jv2YVdbYI3ZtwPr059fuvI6A7H8vkAAulcQG7m5+NUemyJcV9//fuq+rf40LLtW/wuMbYXdj4/DrjUjYpx3dOiio3TyTfZTXHC9JffsVF5EuK1/fBVqNiNvxmbzp1U15YCkP3B6jBPVfl2LQr72M/aP2bPI9jRb2VqeM83b/yEx7hMxtg9CErZENk/yjByQxmqcPO8PHoZ5TDaEaz3e+qch97NUQpA3Uzlno74k7V0cLaBkTacOAe858B8orxnHLiu7KeJye3tn/EJ4Wc8t+KGJn4msdUE70nyon1NIqbJVexpZFKXGa+67Cvbc/tGm2yidZN389Pne+ysuTGyup72HLmbr4GNY0dfno5jzxEE0nlB7QJQbf3zMTrNTca1bPsWv0uM7YWdz48jrvWbjjEmj/E3vR7cRtnWbU15Nr7187gOjLH92f1wr781M+oRGR5dRs8oI3ef0TP+T13Phrt789+vP7hk+j38L15ybaf+xXQ/9n3KNCUjsn8skJhCzbgvXF9TNkT2j/nAtq+APbU4outzpyiHpC8h+6eabnucOm8Du25RAOp6eks5N5+wxBZu700t/SmEcA7knQOx6+22r9Q1jxxL4EliYpKj9Hl7S75uiW2Q6I4J8OfkzcgdCy5m37KuWKKTuy+SUBndYz3K7Fu2x1K8tUMetyNBa0z+NLm9+TLyCYbw8SgC/rzgFqcYCwvOgTLnwFHX+6OeJ2uhfcAgb3Ta/51K3gq9v3v4wWNr5ShD3xjSAk1kbZnG+Vv8f/ifpWZ1mb4q39o6t29cd/TBjLXeto0O+RFotz0pplbH57bYdHf/VMdYoLrlG8No/7Mn/738jb32n75FdPt9ols+8GzxR6Ath6VzwPQd52CGQ9IXI2fxvDN9c3RG8Pe4iwJQj7Na3Cf/Qh27MSiz2Pls8T1J8cne25+Wbd+bzZL8Xtj5r6PiFz8CY18BiySqT+fKJI+m/7Vee4+fPtkFIPPE9+FrAROOcdnsPYpAer2sHX9r619an+aOt2z7nF9HHOuFnc+Po673Rz1jAcHeSJu4/HQdnP5vUQ9SzE39Q//b04XhzVjQkAdiWqQwPmbrit30Z+5L6rh7+h8dJPt+fqAX882yi+UXxt2xGTLT4tnn7bRQZos3gR0JOXd3d48/HG1su63TiYeTo28ZX4cb+8bm4NHL6LllcwD1WWUdxX6chL4aFID6ms+dvEkneqlFPbYIpPqy388XZtdg5r+OdgoBFxf7NDG5JVjTxCsFyiQ941s/wdtAzb72nvI5vf+WWEYS/GDYyP7Z/fDmzf3n/93EFNeC/nw8isA1YjBrLfN87nPgqOv9Uc8Yj02h4OHI57d97vQmXbZ3d4M88Pj4xMTb+ik5jt7PS7fb2jD9L+EnIrJ0mTV3tHXFPuvP2A7WrY//3/Dm/m8n/yPmU99juh+9SjKdOj18fH8/jIWaz7Y8/s+bTwnLW0B2Lmye8iDH+CJzNL41NLJ6VD75X8fuHt/uGefITpx0Xz0vCxxmfNlN54R9nx8oAPU5r4W98icA/htXv46cRdn3JGUfG3LsjPVp2faYP0fu64Wd/zoqfOkj7oHA0wTNJHOLrx8/QhxlaOKliVbkKZZN1ib/68aiLmOXyt/1tfel173jJ9CYQMae8IZDYk8sw8QzHMPnAwik18va8be2/i1rXcu2b/G7xNhe2Pn8OOBSNyrGdWxcX8zBTpq39el+mH6rSx9ATItW03O3Ewi40T0BCkDdT3EJB9OJ3jTw3fr5b1xvY1My2Q+jq50D/uuoxPWOjJBANOmNFG4m8xUWKcJCxnjcFG0eikPB00UxJluXkTUm6Jn7kjq2vPYeknz8fEuwI6+Wj3br2OnTYmE8otMubCsQYD262nqEv2c854+89N8P9/oVrSdx+kg79tV1W++DAtCbz1+TerIG2fNiX9uQDoFSBCgAlSLZtRwb3PLakxuhz0+8ayQPvicpeb4d5UfLth/FKKWnF3b+66jrQFTNuVtC+Gb6OnvWK89q9rSQYYsYk4JIKrHO0pVZ7Fl6K0jfUppsg8JUlj3q+3Q78XeiI/7a/8j/oS9f/5rSrPUpvV7Wjr+19afWpZz9Ldue49+efXph5/PjuOvf5iPTt1SPs+EITbPrk6xBT9ZoGwuPsBAdENhOgALQdoYXkGCDW17bLhTa3nPhR3bevMCpLU567djt/BxeIBxVcHEsQDxJ/CoYs5PKW9IbPPU0by7ZotVOZiC2GQJtxdL5uIkv8Gn1HDguYGgecneBhSD2eztPf9dH2dtzR/exhcC5CVAAOvf8nMQ6G9zy2rpQ2G2NBMP3JCXPt6P8aNn2oxil9PTCzl4/2k75/Lj/JCGjKzN47V3PvQvk/V2dufs6k14va8ff2vrnY3Sam4xr2fYtfpcY2ws7nx/7XuVIzyFgr+mc/vSBQH0CFIDqz0EDFtjgltfWGwa7LbHAIyOPP5z64GSvH23Pz20D4aQxE5W7bHntvbHJw9wdCWyPsV999bvh+fPnk79Xr14N33//52E+zm3XbeWLHW/fvp3o/O67b4eXL18Onz79cdwvdol90t+OD9vWrz39UXuUYahLfFqyNbRdP4v/Ik+2um/N1muD6Lu/v384J168eDHhv0b/3JjUPIVc1zKc013u2I6XOKIzCdh4lDmEbhCoTIACUOUJaEO9DW55bXvTpO1yC16eDaLP9yQlX+4RvrRs+xF85nT0wk6vHbud87uNeNKWlcqe197bmjes3ZtAer1cG3/lRjssxMzHu7gNXv0pvWLLl1/+ciyASDFIikJzRREpHsg46aOFBCtjyR+P7aF9oWw5vrZ4IfbXKAAJK7VZ2mFRK/TRfvawm5sny7UUB2vnUtvjx95XOfJzCNg4lNOfPhCoT4ACUP05aMACG9zy2nrTZLdLi54s9voka+8nPylbYomgJACtPAmUxEV9e/fu3cPTM0laX79+PT5VlcRHPsv+mG86XubDytP9PW6Fgzx1DM87OR/0nJStJxktwcleP9qel9tAOMFECECgAwJ5ucB8vLrJsOtS7phS/WLrvsiW/Tbmr1kTZYz8lbLVyrGFCrs/XLdk7ZL1Tda5MB+w9mnBStc8HSOyZZysj1aW7JfxX3zx8/GY5gxzNlhb59qhrXN9tx5TDrHzUHwSf7bq2Gd8B6GkeRducax5V3DgMgQoAF1mqrc4aoNbXltvVu12bvGThd4+WZPFVhOJuXFLx3xPUh4Tvphe2WeTuNDemB2SSMg4Sbo0sbIyYmPsPo/tmpxpsio6pS3bkKW1Xdq2OGT1i+3nTXrmz0MvOzn3vvnm05NCX8jO8jmiba8fbc/r3XKdMxYCEIBALoF0DPbEX41nJWOtV39Kt6yf+vBH13DPmrhmjMd2XffDBxfKNLaGh2u+Fj5kjM1zbA5h29JPGGiuIeO1UGR5zdmgx5a2IltsWuqnxz3sdIxs7TzZthxTxp55t7LXtH1+5F6v9NuPgI2F+2lBMgRKEqAAVJJmt7JscMtr682q3c4thJI4SBKhi6xNRObGlT4m+mMJh014RKc3MdExMq60zSJP7JNCjr7ZY5M80Wn1Wl9S/koSpLL2sPeMMmPJa4rPUfbb60fb87q7DUI4BgEInIpAXi4wH68eZYQ33TljSvaZi/Oai4RFkBz9MjaWT+SM9fTRIoUWZXSs6Bbf9LNsbW4gnzU/CP2zn0WGvhWkW9Wl40VWLG+I2WDtSbVFpxaWUn1K7Q/nSXmKr+Kn5EIhx1K6t8s5VVC4qDE2Fl4UAW43R4ACUHNTVsNgG9zy2nqzardLC50mgbLollpsfU9S0m8A2eKA2umxcc0Yj+2ahGmyJbZJW5jrPuWvfeWzbetx2drkz+5vpe1hpz7ZOdZ9wlET3pLnpcpf2trrR9vzY2rEB3RCAALXI5DOBbzxV+KsFhTm41tapx23Rr+ul1aOtHUt1W14PPVZ5K3xyWu76o/lGOHaL33XFoBSfGwOITaED45iNqjNqa2wTr3VlBoj+9ewW5qnmE9zNpQ45vPjepHnfB7buHQ+67AIAjECFIBiVNgXELDBLa+tN6t2O7cwavIiyYTciMuTH2nPjdnj2FySJ4mC2ieJndiZa4OMlb/c/t5+IltsV/s1KYsVNbSv6LBtqzNMEu2xXtsxVtZXYfKjH/3oIYG2+/ds2+tH2/P6gkuXjxCAAAR2IZCXC8zHq+nXb5b67nVc182YfFkXZL2XP+kX6xPuk/V3TfEnlOP5LHbat6hlrKzvYR4l65h+3V7aUmiRPpqDqY8yVt/AmVsbNdcQfbFiScyGOb+OXGdz5kn6iA9zNtc9tsvFjVAXARsLXQPpDIFqBCgAVUPfkmIb3PLaerNqt3OLpCQdNmGyScrcuKVjvicpt6d9MbmaJOo21ie2T5IH61usT2xfru2SdIkOSdKEmzyB01eW9bP0ER02QVtK6s6d9Myfh7nsLPc5HiE7O27Ptr1+tD2vr6W4gq0QgEC7BNIx2BN/w7V/Pr6lddpxHv0yTmywb3qGb5/IWqjFEKsn1pY1V8ZbebljRV6u7bKWS15h9UixwtpkbbE2iD8yTvbJfxah4yyHDx9+9SBf1kWRaY/JWB0jW23b/ELtSNmgx+025pPoEt22X6qdy07GW7uUoTKyvtbIgzx+tBs/erLcxqWe/MKXnglQAOp5dov5ZoNbXltvVu02tWjrYqxPpeSzLMBriiZzOnKOid7Ugi+JkNgkf7kJiSRGe/shdonNkjxJW5IYTWQkybFcrT3hMctH5GlSZ/f33BZ2+oOfMT9lzpVr7Pge++z1o+15PcUuegRBAAIQmCGQlwvMxytkwIdzYNs5MHOJcuggAvYcPkglaiCwkQAFoI0ArzHcBre8tt6s2u3SIicFh/BJzNKYpeO+JylPn3K18CQwLFpJ8cYWneSzcrX7ZZzul60WN2JP4VorBnnmXYtmloVy2uOcXDpn7XF7/WjbHn/avkZEwksIQKA2gXQu4Im/T2NYWm5u39r6c+2M9WvZ9pg/R+7rhZ3Pj9pxAP3TcxweEGiDAAWgNuapspX+hExvVu12GiT9MhkPs6udA/b60fY8g8qhAvUQgMBFCLAezcdi+MDniHPgIuHm1G7aeT61oRgHgZEABaARBY00ARvc8tp6s2q3NZIB35OUPN+O8qNl249ilNLTCzt7/Wg75fPj/vRVzBEIQAAC5Qik18va8be2/vkYneYm41q2fYvfJcb2ws7nR7krGklrCdhreq0MxkHgWAIUgI7l3ag2G9zy2nqzarclFnhk5PGHUx+c7PWj7fm5bTTEYDYEINAYgT5i7Hw8xUf4nP0caCxsdGmuPUe6dBCnOiRAAajDSS3vkg1ueW29WWX7bIABDEqeA/MJefmrH4kQgAAEnhJI5wLyBsPHj394eJtF2jX+JE7WtmGt3y3bvtbnUuN6YTe/zttr7+mVyZ6jCTAfRxNH33YCFIC2M7yABBvc8tolb3iRRQGFc+B2DswnhhcIR7gIAQicgEA6F5Cb+fk4lR5bYtzXX/++qv4tPrRs+xa/S4zthZ3PjxOEgsubYOPZ5WEAoBECFIAamai6Ztrgltfmhv12ww4LWJQ8B+YT5bqRAu0QgMBVCKRzgdoFoNr652N0mpuMa9n2LX6XGNsLO58fV4k3Z/bTXtNnthPbIHAjQAHoxoJWkoANbnntkje8yKKAwjlwOwfmE+XkRcwBCEAAAgUJ5OUC8/EKGfDhHNh2DhS8pBG1koA9h1eKYBgEDiZAAehg4G2qs8Etr80N++2GHRawKHkOzCeLbUYYrIYABFojkM4FfG8wpOXMx7r0uNr619ot41q2fYvfJcb2ws7nR2txo0d7bSzq0T986pEABaAeZ7W4Tza40S6RqCCD82ifc6D4xY9ACEAAAhECxPB9Yjhc4eo5ByKXJrsOJmDn62DVqIPASgIUgFaCu9YwG9x8bd+TDJ/snCShtv4cG1N9WrY95dNR+3th5/fjWpEJbyEAgVoE0uu1P26lZa1ZM2rrX2OzjmnZdvWh1rYXdj4/al3/6L0RsPHrtpcWBM5MgALQmWfnNLbZ4Ea7VnKDXs695XPgNEEDQyAAga4JEI+X4zGMYLT3OdB1kGnEOTvHjZiMmZcnQAHo8qdADgAb3Hxt35MMn+ycxKK2/hwbU31atj3l01H7e2Hn9yPneqYPBCAAga0E0uu1P26lZa1ZM2rrX2OzjmnZdvWh1rYXdj4/tl7HjN9OwKKiPUMAACAASURBVMav7dKQAIEjCFAAOoJy8zpscKNdK7lBL+fe8jnQfLDBAQhAoAkCxOPleAwjGO19DjQRLDo30s5x567iXjcEKAB1M5V7OmKDm6/te5Lhk52TWNTWn2Njqk/Ltqd8Omp/L+z8fuwZB5ANAQhAQAmk12t/3ErLWrNm1Na/xmYd07Lt6kOtbS/sfH7o9ci2HgEbv+pZgWYIeAhQAPLQumxfG9xo10pu0Mu5t3wOXDZI4TgEIHAogTLx+Msvfzk8f/784e/FixfDp09/HJbjXBndquerr343vH37dqL3u+++HV6+fDmx5/vv/zy8evVqkP46NtxqH/VJ+su+sF+Jz0u6xKc5W+dsEP/FdtnO9Vs65rVB9N3f3x9yPqiu8LwLua5luMSmzPFDL3qURQnYeBTtwE4InI4ABaDTTckZDbLBzdf2Pcnwyc5ZPGvrz7Ex1adl21M+HbW/F3Z+P84YP7AJAhDoj0B6vc6NW1LskSKLFhlihZg1a0aufpWd0ivFCylQab/QXt0/tw1lzPWVYx7bl2R7iy/WNpmTGgUg4a0FF2l7CmgedjqX33zz6UmhT/TrvEtbClJ6jlpGe7U9fvQXV1r0yMbCFu3H5isSoAB0xVl3+2yD235tWWiPeGo2t2iLDZI02T6y8PMk8PgngTIHMhdyTmgyZuelVDt82udJOEvZUE6O++JmAAQgAIEVBLbnArK2ys21rLsSA5cKGuXi5NT22LovumS/XQ9kHQrzgzmbdG1R/+b6rjmW4iX6NJfSrRYxpPDx+vXr8a0k8UnXV7U3HCO2yTh5U0aOqSzZL2O/+OLn4zHlM2dDrq+hrbnjPP1i+Z0dL8dLFMKszLLtFZcuQwoTsPGksGjEQWAnAhSAdgLbl1gb3Hzt3CcZ+jRGFltZHG1SsmWxzNWvOiRp0QRG98k2TLRCe23fVDuUkeqn+z22L8mW42uT0FIJkMcGTUR1PjRBVTZLWw+7UNYSy7D/np/9fvQVefAGAhA4K4F0LuCJWxrrpbCwdo0KY7BHv4zVdSaUY4sDameOjTJOiiTik6wnody5zx7btSgTfoVJ5cfW3LCoYnMtu/bZdd+2RbYw0MKYjNeCkOU1Z4MeW9qKbA8/DzvVHbNZj8nW+mr379n2+XHW+HAlu2wsvJLf+NoyAQpALc/eYbbb4LZPO0zAwiRlz8XWyg7t0GNhEuBNTDzJo+r0bG3i9v/aO5/WSZLjfu8L8fEHfg/7EuYkfJo3MPMCNCB8Gp/nJhgEAnmu2oMv2osOWmxsrJv2LAuvZvQCzK4QAi0Cof7x6e7oisrOrMrM+ptVj2BU2VWZGRFPZkVER1V/14+T3vY0z46WrIWMfSJo+oZjNLclnbpmc+m8xi/xJDBlm7dzrrbZLW5zzbnuPKs5BQRBAAKnJjA9FzB/q9ihL+KKJ2qv6zPTBSDpYfEnLILk6qjx+pfbv6afxWQrytgckhvGslTcD+3zn2N5hMkK8wa9XSQZQzrYtaGjZPr8YqjvlGuyM3zD2+aTHa9everZY9f2czy1E9qJ8d4X7kQl1IDACAEKQCOAuCwC3rmVtXOfZCjYW0IheUpc/OdaHXLl2/zSI5as+STBklb1tXGpo8YpiVGxJDZvapzOl+huCeARnwSKW+mXghJ2Yj1lnYbWcOq1UjvwVxCAAATWIZDOBXL9Vhj3Fcf83wSq9Z+58m3+VNzXdbtmRxuTewxtHBtXqrvNF8tLFDsl3/roKMaxn4ApBirn0lH9/Och25coAEleKpfxtoTtGnayM1YAspwq5BfKXOJzmR3r3O1IGSLgfeFQP65BYD8EKADtZy12rIl3bsu1lazYGyd6k8QnKUsE2dicQ4mOFSJ8YhSbI3VO4/UvdX2O85a0hMUzyQ0TmdpE0NbIjiZriURQTIz7HHxy5lhjnXL0qOuzYzeCahCAwIEITM8FFIN8wUcxyuJJnf+r02ko7lu8l15hDM3Rca34JT31sMnrGJPtmVu+oNgdFpA01t7ASRVJZH9O3FefHFbqI53WfOsmZluMZa7+6/c7kEtp1hTvd5o1AsVPRoAC0MkWvM5c79zK2mVPMrq5hxKykgBbKn9Irl2zY4ke6qtxJcltqe6mT5jI6bySOcm3Pjoq0fJFNkvklPxITx3Vz38est3Ga4x0mOtV8FgS6+2ItWvZaa7SdYrJn+tcuR11dzijIAABCJQR6OJ16O9K/Jbihj1MsIJDOF/p5xL5mls+33TQMXz7xBdDxnSx4oHNV1L80Ny5ulucNzk6hrKswKNrnq3ssXMfPnx4jPMcvvrqV708wF/zssbifkqHGMeYTZIl2bH+4blcdhoXrpPkWH5mfHTO/oVsQ9lzfi6xo+yepfcyBLwvXEYCs0JgbgIUgOYmesj5vHNbvq3AHHsld84Am5pLiYaCf+y6FUJ4Evgm+pv4sURQXGuSqNpxsTXMObe2vByd8vsc0gFhFAQgsDsCy+cC+X4PXWB11j2wO8dwQoX83juh+ZjcJAEKQE0u29pKe+dW1s59kuGf/IRP36YkNrnyTUb4lCvURcUB/yTNxsWO4ROm0uJHru6eXeppVeopnOzRGNm0pyeB4mm6mU3hWsSY27lcduo/dZ1M5hLHEjtu8tf2DciDAATOSSCdC5T7rfRcNX51a/k1OtuYlnU3G7Y6HoVdmR3n9D77str7r31phjYQSBGgAJQiw3lHwDs32lslN8hl743vAXfb0oQABCCwGAH88bg/hhGMlt4Di93gTJxNwK9x9iA6QmBTAhSANsXfinDv3MraZU8yyubOSSy2lp+jY6pPy7qnbFrr/FHYldvRik9BTwhAoG0C6Xhd7rfSc9XEjK3l1+hsY1rW3WzY6ngUdmV2tO1FjqG991/HsAgrjk+AAtDx13gGC71zo71VcoNc9t74HpjhdmcKCEAAAqME8Mfj/hhGMFp6D4zeqHRYnIBf48WFIQACsxCgADQLxqNP4p1bWbvsSUbZ3DmJxdbyc3RM9WlZ95RNa50/CrtyO47ui7APAhDYB4F0vJbf+uab/73+F63U3uKfYs3WOtTa3bLutTbPNe4o7PJzpX14g3Nr4X3huUlgfTsEKAC1s1YbauqdG+38wAwrWK29BzZ0E4iGAARORCDt2/Rlfkvf/7vf/c+m8qfY3rLuU+yeY+xR2JXZcSKXs1tTvS/crZIoBoEeAQpAPRx8iBPwzq2srURw66dwSiy21qH26VbLutfaPNe4o7ArS4zjdzBnIQABCMxLIJ0LyIeX+a30XDXzbC2/Rmcb07LuZsNWx6OwK7Nj3rua2WoIeP9VM54xEFifAAWg9Zk3KNE7t7J2WSArmzsnySh7kjK//BwdU31a1j1l01rnj8Ku3I4G3QsqQwACDRLYV7xcK7Ygh3Xf1x5o0HUcTmV/TxzOOAw6KAEKQAdd2HnN8s6trL11AWhr+VMShZZ1n2L3HGOPwq7cjnnvfGaDAAQgECeQzgXK/VZ6rpp4sLX8Gp1tTMu6mw1bHY/CrsyO+N3J2TUJeP+1plxkQaCeAAWgenYnGumdG+2tkhvksvfG98CJ3BKmQgACGxLAH4/7YxjBaOk9sKELQPSdgF9joECgDQIUgNpYp4219M6trF32JKNs7pzEYmv5OTqm+rSse8qmtc4fhV25HRu7CsRDAAInIZCO1+V+Kz1XTczYWn6NzjamZd3Nhq2OR2FXZsdJ3M2uzfT+a9eKohwEHgQoAD1Q0EgT8M6N9lbJDXLZe+N7IH0XcwUCEIDAfATwx+P+GEYwWnoPzHdHM1MtAb/GtXMwDgLrEqAAtC7vRqV551bWLnuSUTZ3TmKxtfwcHVN9WtY9ZdNa54/CrtyORl0MakMAAo0RSMfrcr+VnqsmZmwtv0ZnG9Oy7mbDVsejsCuzozG3cUh1vf86pIEYdUACFIAOuKjzm+SdG+2tkhvksvfG98D8dz8zQgACEHgmgD8e98cwgtHSe+D5zuTM2gT8Gq8tG3kQqCNAAaiO28lGeedW1i57klE2d05isbX8HB1TfVrWPWXTWuePwq7cjpO5JsyFAAQ2IpCO1+V+Kz1XTczYWn6NzjamZd3Nhq2OR2FXZsdGtz9iHQHvv9xpmhDYMQEKQDtenP2o5p0b7a2SG+Sy98b3wH68BppAAAJHJjCPP/76699cXrx4cf339u3by/ff/+Uy7ufmkW1ypMP79+97cr/77tvLmzdvLh8//v5xXrpJR/W3samj9X39+vVFc6X6TTlvMlL8ZFOOrjEdpLNsnap7qQ6SJ2ay6eXLlz3+MT2nnDNZXk7I1NjWcpyiX97YI/uYVmzz/qgVndHz7AQoAJ19B2TZ751bWbvsSUbZ3DnBcWv5OTqm+rSse8qmtc4fhV25HVk3NJ0gAAEITCSQjte5fkvFFRVZrMjw5Ze/uOjf1DiRK9/kxApAuqbihdcn1NfGx44apwJKaRGlRPdQv1CP0uKLH681KdXdj7d2qQ7iZsUWY6iijM03dCxhZ2v56dPHp0KflyHZ7969W7QQ5eWpXWLHxJuY4bMQ8L5wlgmZBAKLE6AAtDjiIwjwzm25duxpjAVGJRFrPImJJYLSq+ZJYPgkSclUbiJjducex2SVJmFe7laJoO2HrZ4EikHI1RJTz2df7SP4G2yAAAT2T2B6LhDGW30p15ftpeJkyleHelg/nfdxWwUJxVK7njr64sIcRZSUHOkincLr0tvyJTvam0ghY423OcJ4Z2M0v8bpTRnN589r7Bdf/PxxzfgM6RDqm/oc6prqN+V8LL/z86X2hu+zbXv/nuL4GnpfeHxrsfAYBCgAHWMdF7bCO7eydu6TDJ8whcUWJRiWVIwF6zAQ58q3calgHyZapq/0sbFjx3COsf4luo/NreuybUxm7LpsnCOJLdVB6246q+0T8Zie/lwJO1vL2JNAyZdsza22T3y9vKXaJXbcdFjYFTA9BCAAgSuBdC6Q67fkU71fV4zwn2v9aq58m196SLZ9tqPPN6w4or52PXb0/WpiZ4nuil0qyvifMHmdYjFXY3yRTfHNYpz6W9vr7tua36+b+ltc9LxMj5gOdm3sqLlj65IaV8LO5ojpbNe0lmu//SPZZXbgjrYn4H3h9tqgAQRyCFAAyqF0+j7euS3bDoNxGIAt4bEkxQL1XMdUIugTHskqTUx8UjiXrn4en7j589LbngDa0ZK1oUTQ9A3HaG5bg7M9CQyTYM95P+3TOysAQAACqxCYJxdQ7LI4ozdJfHFiLb+aivuSb7E11//73CB3zFQ7LSaHxTPpLtv8/Km4H+rqP8fyCJMley0fC/M14xfq4PVJtTXGcpVUnznOy87woaPNKx3MTju3v+MqNztCBgl4XzjYkYsQ2A0BCkC7WYo9K+KdW1m77EnG369/C8AH4zAJUULw4cOHR8IxFoxL5SvgK2kK5/VJghVHcpIajZPOSnBj84Zy/OcS3S0B5EngbX+WsDPmfo3tnD9ukQyW27FnP4JuEIDAcQikc4Fyv3WbKxV/vR/OaZfKH5Jr1+w4JN9yAyto+aPGD421a6W62ziT7eXMWQBK5S9LFIBkQyqXMXtjxxp2qbgf4xmTucS5MjuO41HatcT7wnatQPNzEaAAdK71rrTWO7dl22Ew1mc9gfnqq189nsT4hGPu4DuU5CkBkmzTSccS+RqfSqJK5hnqa4Wg8KmV5PrEUHPwJLC/l8O95zmL1atXr1b9Q5Befn678hZnGAQgAIEiAn3/me+j4uOG/O/UucfGD8V9i/eKqWEMHZvXxuo41nfqdcnQwyavo+Usfm7FMj1kU3/LF5TXhAUPjbU3cNTXP5jz8/l8THOEP5mK6eDHh+21Y23KNnEM86hQ1318Lrpp6bwIAe/TFhHApBCYnQAFoNmRHnFC79zK2mVPMp7fALKkxAfikoSiVP5QImjX7Fga/EsTilLdTR9jJnl2Tsz8Z51XouVft7dETgmReOuofv7zkO02XmNSiWCog+mXOqr/1k8CLUku1T1lU8n58j1wRP+DTRCAwP4IpHOBXL9lsUpvytT4+ZQvzZVv4+Xb/ds6oS6+GGJjco4+dub0V59c3T07010x2Mux2KXrVszRddlj5/wb1Z6DPXSzPMBf01iTNRb3Uzp4Pa0ds0mycmNvLjvJk132drZk6J/lmaZHrlzTf65jiR378wtn1Mj7wjPaj80tEqAA1OKqra6zd27LthWUwydNPsFQMrHkmxgK+EqOYoHckjklCTWJgea1pCk2/1znLLHxOsZkiyVPArv9HNt7MZZzrdMy86zuHBAIAQickkDnO5fxZcwPV/bA+B44pfPZmdF+n+5MNdSBQIIABaAEGE57At65lbVzn2TYF217EhN7GmPXfGFjLDjmyrd5NLfJ0XHKk8DQptLiT67u9rTK6x3KSj2F40ng8JNA4zPE1vbOEsfcPdDJ9vctbQhAAAJLEUjnAuV+Kz1X59vy+2wtv0ZnG9Oy7mbDVsejsCuzY6n7m3nzCXjflD+KnhDYkgAFoC3pNyPbOzfaWyU3yGXvje+BZpwKikIAAk0TwB+P+2MYwWjpPdC0EzmI8n6ND2ISZhyeAAWgwy/xHAZ651bWLnuSUTZ3TmKxtfwcHVN9WtY9ZdNa54/CrtyOOe535oAABCAwRiAdr8v9VnqumpixtfwanW1My7qbDVsdj8KuzI6x+5TryxPw/mt5aUiAwBwEKADNQfHwc3jnRnur5Aa57L3xPXB4Z4SBEIDALgj0/fFnn3124R8M2APL7YF4/N+FMzi5Et4XnhwF5jdDgAJQM0u1paLeuZW1y55klM0dD4b9ObaWn6Njqk/LuqdsWuv8UdiV27Gln0A2BCBwHgL9WMsX/+W++MMWttoD8fzpPB5nv5Z6X7hfLdEMAp4ABSBPg3aCgHdutONBGC5w2cMeSNzCnIYABCAwK4G+v6NIQZGCPbDsHojnWLPe1ExWRcD7wqoJGASB1QlQAFodeYsCvXMra+sNhm+++d+Ljlv9U9DcWoda21vWvdbmucYdhV086Uvdhy36F3SGAATaI9D3QXz5X/bLP3zhG88F2vMcx9PY+8LjWYdFxyRAAeiY6zqzVd65lbX1ZT4etMrmqZ3jd7/7n03l1+qtcS3rPsXuOcYehV25HTPf+kwHAQhAIEqgH8MpUFCgYA8suwfiuVH05uTkqgS8L1xVMMIgUE2AAlA1ujMN9M6trL11AWhr+fGAncewZd2n2D3H2KOwK7fjTH4JWyEAge0I9ONY7Mv/HL68Zo5yv9m3pUbmXGNa1n0uBrXzHIWd7Mi/n7bzAEg2At5/2DmOENg3AQpA+16fnWjnnRvt2uSEceyd5ffATlwGakAAAgcn0Pfn+V9Y++OW94nIg3F7eyD/fjq4m2nCPL+/mlAYJSFwoQDEJsgg4J1bWXvrJzJby5+SeLWs+xS75xh7FHbldmTcznSBAAQgMJlAPxfI/8LaHzeHvw/nKPeby+sU6pj63LLuKZvWOn8UdrIj/36afCMzwWQC3n9MnowJILAKAQpAq2BuXYh3brTXSmaQw14r3wOt+xr0hwAE2iDQ98/5X1j748p9HONhdvw9kH8/teEtjq2l34/HthTrjkOAAtBx1nJBS7xzK2tv/URma/lTErWWdZ9i9xxjj8Ku3I4F3QBTQwACEHgQ6OcC+V9Y++Pm8PfhHOV+c3mdQh1Tn1vWPWXTWuePwk525N9PjxuSxmYEvP/YTAkEQ6CIAAWgIlxn7eydG+21khnksNfK98BZfRR2QwAC6xLo++f8L6z9ceU+jvEwO/4eyL+f1r3rkRYj4Pdj7DrnILA/AhSA9rcmO9TIO7ey9tZPZLaWPyVRa1n3KXbPMfYo7Mrt2KH7QCUIQOCABPq5QP4X1v64Ofx9OEe531xep1DH1OeWdU/ZtNb5o7CTHfn30wFdS3Mmef/RnPIofFICFIBOuvBlZnvnRnutZAY57LXyPVB2Z9MbAhCAQB2Bvn/O/8LaH/fdd99eXr9+fXn58uXl48ffX7zPe//+/eXFixfXf19//ZveNd9vatt0+PLLX1xlfP/9Xy6SrfM6etlq65xkqv327duL+nsd9Fnn/Th/fa62yTFGoS6h7iVyZbvm07FkXNi3VAdbC9kU2xPh/FM+mywvJ2RqbJdey9CO/Pup7u5l1JwEvE+bc17mgsByBCgALcf2QDN751bW3vqJzNbyw6Be8rll3UvsXKLvUdiV23Egt4MpEIDAjgn0c4H8L6zdOBV83rx5c/n06eP16AtAKsZYoUVf1NXPXx+KG6V+U1/u9UXf5EnOu3fvLn/843fXo5erPlYo0tHaXh/pW1s8KdHd6+LlW1vXawsXU2ww+TqW6iCeprPaYVHLzx22S9hpTVN7z8+rgpD2gt8D/voSbdmRfz/t2EWcRrXOp53GZAxtngAFoOaXcA0DvHNbrh17GmPBVYmAT9Ds/NxHJR5KWPy8seTTnhJZouL7W9v62BOkkkTG5sg9jskqTcK83C0TQWPnn9B53eZq72HvzWPLGv4AGRCAAAT6uUD+F9b+OPm9MMaGX7r15VsxIFZsmcNvat4PHz48ijaWB4Sxz+Ksxf1UXJW+Khqo/xz6peaQ/BgT6Wex0456y0r2hLppvM1h9oVjJN/WQNdsLp3X2C+++Pl1fXTN8qchHVL2hOdDXcPrc3wO9144p+2F8PzSn/PvJzzR9gS8T9teGzSAQA4BCkA5lE7fxzu3snbuExkF+tTTGEtylGhYcpEbfHPl23ypYG86WD/TV8mDnRs7hnOM9S/RfWxuXZdtYzJj18MkONYn59wUHaR7SQGthJ2tZewptHGt2Xs5TMb6lNhxm+v0zgoAEIDAKgT6uUD+F9b+OPmt8Eu4jzny/So4qEBjhYq5/ab8/K9//d+PNz0kR//CAoTXKyxSeZ1SeYTvk2qX+Hzpp8JY6gFJLOaGNpmt0sfindreVt/WNR+PNd4KQuoXvqkV0yFle3hec2t8eD71uYSdzRHT2a4NrbH1WeIoO/Lvp1VudoQMEvA+bbAjFyGwGwIUgHazFHtWxDu3ZdtDwbg0GagJzKnEzSc8mrdUF3uypnlq9Bob4xM331fy7GmeHS1ZG0oETd9wjOa2pFPXbC6dF5OlngSW8vYMcttb771cPYf77dmPoBsEIHAcAv1cIP8La3+c/Fnoe/VZBf+vvvrVo/CvGKB/w/7vee6x/v5LvsmwokUYd3zMNB11DGXYPOH5pT5bTA4fkpgdXq63QedN19Ae/zmWR5gsG6+5PEuTGdPBrg0dJdPnF0N9p1yTnWHRyuaTDmannVvrmH8/HcejtGuJ9zvtWoHm5yJAAehc611prXduZe3SJzJDwThMxnICcal8BXwlLOHcXi8rjqhv2C/8rHFKYlQsic0b9vefS3S3BPBoTwLFLCw0eUapdgk7m8OvsZ2zY83es7FTjuV2VN7iDIMABCBQRKCfC+R/Ye2Pk38Mfa/FWP/lW7FAfjjHn5b4TcnW3JKpmK6fbtnffNF5H+d9fqC218/0Mt39OLuWcyzR3c8Xkxvqr/61BSDN5eVZe4kCkNilchmTGzvWsAv3ns0b42nXlj7Kjvz7qeimpfMiBLxPW0QAk0JgdgIUgGZHesQJvXNbtp0Kxgq4a3wJ9wleGOSVAEkH6ajET8ewz9BnjU8lUUPjSq5ZIShMTCU3TEhrE0F7K8iOJmuJRNBsl+5LPw3ceu+ZrdOOR/Q/2AQBCOyPQD8XyP/C2h8nfxfzvT6eKFa9evXqWryY5h+fZWtu/bxM84bx02K+6agYZHE0lY/EbJlb59h8kuv1Ux+vv42RjXrjRf3NXtkSFjw01mLukE1+nTSHFc9MXkwHuxY7Sqel1jomL2Wb1tlym9i4pc/l30/78wzn08j7lfNZj8VtEqAA1Oa6ray1d25l7dInMqlgrGCbSriGAnGpfAV9JSyxOe2aHWN9hs6VJhSlupvsMJHTedkk+dZHRyVa/g9VWiKnNfAFLv95yHYbr7lTiWCog9dnqD20L2LjatgNyajZezG9Ss+V27Gya0AcBCBwUgL9XCD/C2s3Tj5XRQZ7mKCjfem2OGbXSmJHid8M45bkWw5gBZKYDupj53VMjSl9kyVX95CPdJAtPsZ4/a2Yo+umu875v60kxmaT/fxOa6Qx/pqXFfILC0ApHbye1o7ZJFm5a5/LTvJy9l6uXNN/rqPsyL+fTup+dmV259N2pRbKQGCAAAWgAThcMgLeuS3b3vpLuAK+JXJhMJduSg71ryYx0LxhghbKmOOzJTZex5hsJWZ7fhLoWcgW+2Lgz8/Z3nrvzWOL3bMcIQABCCxJoJ8L5H9h7Y+bx+8xJxyPtQfy76cl73HmziPg917eCHpBYGsCFIC2XoEm5HvnVtbOfSJjRQt7+qSjfeFX0cSfX+qJkBIoFRq8rPDpnQop/knaUNIV2lRa/MllF3tqFspKPYWTPbJ3b08CxdV0k362F4Z4+2u57DQmXCcvb8re8/rUtkvsuMlowqGgJAQg0DyBfi6Q/4W1P67WNw6NK/eby+s0pK+/1rLu3o4t2kdhJzvy76fmHckBDPD+4wDmYMIpCFAAOsUyTzXSOzfaWyQ2yGTf5e2Bqfc64yEAAQjkEOj75NgXVs59Fv0iDxe41OyBeA6Qc6/SZ1kC3hcuK4nZITAXAQpAc5E89DzeuZW1t34is7X8eMDOY9iy7lPsnmPsUdiV23FoR4RxEIDAbgj041jNF1rGUAhhD+TvgXhutBuHcGJFvC88MQZMb4oABaCmlmsrZb1zox0PwnCByx72wFY+ArkQgMC5CPT9HV/k87/IwwpWNXsgnmOdy+vs01rvC/epIVpBICRAASgkwucIAe/chts1QY0xJEPsgbw9EE8A/T0ZuX05BQEIQGB2At7v/J2fOn2W58OJdXCq3QPx+D/7jc2ExQS8LywezAAIbEKAAtAm2FsT6p3bcLs2tNyL0AAAIABJREFUsDGOpIg9ML4H4gmgvydb8y3oCwEItEnA+x0KQMSv8fgFo2mM4vG/Te9xLK29LzyWZVhzXAIUgI67tjNa5p3bcJsAPy3Aww9+Q3sgngD6e3LG256pIAABCCQJeL/Tb5f/7bL++HE/N9x/a/lT9G9Z9yl2zzH2KOzK7EjeoFxYjYD3R6sJRRAEJhGgADQJ31kGe+c23B768so1ihvsgWl7YDxJPotPwk4IQGBbAsO5wLivYjyM2APT98C2XgDpIuD3MUQg0AYBCkBtrNPGWnrnNtzmC/60L/jwg9/QHugnGrF7cWNXgXgIQOAkBGL+53au7A2G9Dzj/i4+dmv5tXprXMu6T7F7jrFHYVdmx0ncza7N9H5o14qiHAQeBCgAPVDQSBPwzm24HfvyOkdgZ45h7vA5Hp+6eyl9F3MFAhCAwHwEjudziaOsaXt7YL47mplqCfj7pnYOxkFgXQIUgNbl3ag079yG23VfWofnnBKQy56kLKdHjQ0t615j75xjjsCu7l5q1MWgNgQg0BiBdLzc2v9uLX9KLGtZ9yl2zzH2KOzK7GjMbRxSXe8LD2kgRh2QAAWgAy7q/CZ55zbcrvvSOjznHIkBc8C4tT1Qdy/Nf/czIwQgAIFnAsSU1mIK+h5xzz7fmZxZm4DfV2vLRh4E6ghQAKrjdrJR3rkNt+u+tA7POSVpKXuSspweNTa0rHuNvXOOOQK7unvpZK4JcyEAgY0IpOPl1v53a/lTYlnLuk+xe46xR2FXZsdGtz9iHQHvC91pmhDYMQEKQDtenP2o5p3bcLvuS+vwnHMkBswB49b2QN29tB+vgSYQgMCRCRBTWosp6HvEPXtkH9OKbX5ftaIzep6dAAWgs++ALPu9cxtu131pHZ5zStJS9iRlOT1qbGhZ9xp75xxzBHZ191LWDU0nCEAAAhMJpOPl1v53a/lTYlnLuk+xe46xR2FXZsfE25jhMxDwvnCG6ZgCAisQoAC0AuT2RXjnNtyu+9I6POcciQFzwLi1PVB3L7XvbbAAAhBogcA8MeW77769vH79+vLy5cvLx4+/v3g//eWXv7i8ePHi8v79+95532eO9tdf/+ZJhvR68+ZNT6fvv//L5e3btxf1H5I7ZNPQuNJrpo8Y6Z900zmbR9zGdLW+4VE2aD4dw2sln0t1sDWXPbE9USJ7rO/QOpkeS++9MR3Hr7fgK46uo/eFR7cV+45CgALQUVZyUTu8cxtu131pHZ5zPACmx5c9SUnPM0WH2rEt615r81zjjsCu7l5a1BEwOQQgAIE7gXS8zPW/KvioyPLp08enYou+eOtLuP6VfgnPlW/xJlYA0jXTwfqZvkNFEesTs8nmGTqW6B7qF86r660VgLwN0j0savnrYbuE3dA6GdeavRfqVPO5xA7c0R4IeF+4B33QAQLjBCgAjTOix8U7t+F23ZfW25yppzHhU67ahCYnEMcSQelV8yQw1LskkcnR1fcxWUpc7PyHDx+uTy+V6Lx79+7xZFB99VnnY7bZ+K2SH5O/5lG22lPUpZ865tpVdy/hriAAAQisQWA4F8j1c+q3dRyKxX3pFRYgSmLikE0lbIb6WqEi7CO9LZ7ZUW9ZSacwH5BN+qc5LI8Ix+iaxik26prNpfMa+8UXP39csxxkSIdQ39TnEt6pOcbOD63TGvLH9Bu/vsa9joxhAt4XDvfkKgT2QoAC0F5WYtd6eOc23K770npLLlJPApVIWIKitk8+xoJj2ZOUW8JnCYyfO0y0lAxJXyUPvt9QO5xjqK+ulehuyZkVmaSXvb4tZt4mr7vavjjkddIYjfXnWmmXsvNrGfLayua6e2nXjgTlIACBwxBI5wIl/lf+de4v4aXyUz7f62XFkdyY6MeWxJAS3S3upx5axGJ4GPOVW1l+5XMUn0P4tmwRA8s1NNZyspjNMR3GeGhMWGgaG6PrJexsvpjOdk22SRf7vNaxzI7DOJSGDfG+sGEzUP1UBCgAnWq5a431zm24XfeltZtzKBgr+IaJyNwBOZUI+oRHMksTg9LksdQu6adCjr3Z45M86ap/Nqe3JWWvf0vIxh31qD2lBFYsZKNPgre0ue5eqr3HGQcBCECghEAXt6f6yaG4Xxpra3RJxUEfD0pzjyGbanQcGmOFICvKWN9Y8cXnBupn+UFon/8sPvZWkB1Nlo3XXLG8IaaD6Td2lFwrLo31rb0+tE5r7L1avbtxJfcsfZch4H3hMhKYFQJzE6AANDfRQ87nndtwu+5LazfnUDBWwFNCYIlHFwC78eG5sicp6TeAvF4lxRyNUwKjpKn0SVKJ7paEWbLlE1o7Z2ysrz77tl3XUXqLs47+fCvtEnayydZU6yR2e7Cz7l46pAPCKAhAYHcE5ou7Pr6GvrfmS3ip//fxMpRv1+wYXk99HrIpNUbnS3W3uSyG+fgVxn71rS0ApfIXn0PMXQAqZVjDbkhGzd6z9ZhyLLNjd47hhAp5X3hC8zG5SQIUgJpctrWV9s5tuF33pbWbcygYK3F59erVNYGZElyHxg4leUqAlBBIx5riiMankqghnXKuaV7pbvpbUhbjaX01r297OWGS6K8drW2Js62tCnZqb21n3b20tm9AHgQgcE4CXdye6itjccrmlC9eKm6aDIub9tkfLd4r5qufvzbUHrJpaFztNcnzb7JqHnELY5liu/3kWW39fEx9LA6ajRprb98M2aKxJiNVALLrpbZJl5IHfqXzq/+YbUvvvRqd+2PO6X32ZbX3hfvSDG0gkCJAAShFhvOOgHduw+26L63dnKlgbImKJSf9ANiND8+XPUlJvwGkeSVbyYAdQ1ljn0uTmVzdlXRJL7Gzwo1+CiZ59ll9pJ9P0FKs1U8J2/4Tn3nWPVwXMbMEeWxNl7xedy+525YmBCAAgcUITPe/ikH2hmzsp0V2zo7y1Tk+Nzd22lya12ToGP5NHcVCK4bYmNRxyKbUGH8+V3fFchVHvN5hocXyJvXx+sseO6f/WISN8xy++upXvQdd/prG2hgdre3zC7MppYNdD4+mm2SUFn9y2Unm0DrJHsn3/3L3XmhPzecSOxa7vZm4gID3hQXD6AqBDQlQANoQfjuivXMbbtd9ae3mjBUlLFCvEYAlI1X4kB5KSPSvRhfNa4lSTVKQGiO9NLeSL2NlyV5YzJB8S6rCa37+pXT1MvbSDjlobY3RljrW3UvteBU0hQAEWibQxe0t/SSyWYdz74GWfchRdPf34FFswo6jE6AAdPQVnsU+79yG23VfWoefxqgY4Z/EqJ1bSCl7knJ7y8fLmvNJYK7Olszk6h4WrcTLFzA8P39e47ytVjTKebJoOu71mMvO9NfaGAvjYNe2OtbdS7Pc8EwCAQhAYIRAOhco9b9z+9it5U+xp2Xdp9g9x9ijsCuzY+Q25fIKBLwvXEEcIiAwAwEKQDNAPP4U3rkNt+u+tA7POUdiwBwwbm0P1N1Lx/dGWAgBCOyBADGltZiCvkfcs3vwBWfXwe+rs7PA/lYIUABqZaU21dM7t+F23ZfW4TmnJC1lT1KW06PGhpZ1r7F3zjFHYFd3L23qKBAOAQichkA6Xm7tf7eWPyWWtaz7FLvnGHsUdmV2nMbh7NhQ7wt3rCaqQcARoADkYNBMEfDObbhd96V1eM45EgPmgHFre6DuXkrdw5yHAAQgMCcBYkprMQV9j7hn57ynmauOgN9XdTMwCgJrE6AAtDbxJuV55zbcrvvSOjznlKSl7EnKcnrU2NCy7jX2zjnmCOzq7qUmHQxKQwACzRFIx0v532+++d+Ljlv9UzzZWoda21vWvdbmucYdhV1+PtSc4zigwt4XHtA8TDokAQpAh1zWuY3yzm24HfvSyrnPLjCAwRx7YDwpnPveZz4IQAACMQLpXEBf5sd9VXr81LG/+93/bCp/iv4t6z7F7jnGHoVdmR2xe5Nz6xLwvmxdyUiDQC0BCkC15E41zju34fYcX3KZg2IJeyC+B8aT5FM5JoyFAAQ2I5DOBbYuAG0tf9xP75fdFN23Htvyunt2ZXZs5gAQ/CDg7+fHSRoQ2DUBCkC7Xp69KOed23CbL+7xL+5wgcsce8AnifH2XnwGekAAAscmMJwLxP0TY+DCHph3Dxzby7Rhnd/TbWiMlhCgAMQeyCDgndtwe44vucxBsYQ9EN8D44ljxu1MFwhAAAKTCaRzgbI3GNLzjPu7+Nit5dfqrXEt6z7F7jnGHoVdmR2Tb2QmmEzA+6HJkzEBBFYhQAFoFcytC/HObbjNF/f4F3e4wGWOPTCeJLfua9AfAhBog8BwLjDuqxgPI/bA9D3Qhrc4tpZ+Hx/bUqw7DgEKQMdZywUt8c6trF32JKNs7pzAubX8HB1TfVrWPWXTWuePwq7cjgXdAFNDAAIQeBBIx+tyv5WeqyZmbC2/Rmcb07LuZsNWx6OwK7PjcUPS2IyA91+bKYFgCBQRoABUhOusnb1zo71VcoNc9t74Hjirj8JuCEBgXQL443F/DCMYLb0H1r3rkRYj4Nc4dp1zENgfAQpA+1uTHWrknVtZu+xJRtncOYnF1vJzdEz1aVn3lE1rnT8Ku3I7dug+UAkCEDgggXS8Lvdb6blqYsbW8mt0tjEt6242bHU8CrsyOw7oWpozyfuv5pRH4ZMSoAB00oUvM9s7N9pbJTfIZe+N74GyO5veEIAABOoI4I/H/TGMYLT0Hqi7exk1JwG/xnPOy1wQWI4ABaDl2B5oZu/cytplTzLK5s5JLLaWn6Njqk/LuqdsWuv8UdiV23Egt4MpEIDAjgmk43W530rPVRMztpZfo7ONaVl3s2Gr41HYldmxYxdxGtW8/zqN0RjaOAEKQI0v4Drqe+dGe6vkBrnsvfE9sI5HQAoEIHB2AvP44++++/by+vXry8uXLy8fP/7+Yj7u++//cnn79u3lxYsX139ff/2bxzXrM9dRc79//743v/R68+ZNVKcxXXTd9JYNsmUuXf08IaNQlmwa09XP59uyX/Pp6M+Xtkt1+PLLXzzYhXuiVPZQf79Ga6zVkC7Trp3dD+3Bfu8L96APOkBgnAAFoHFG9Lh451bWLnuSUTZ3TtDcWn6Ojqk+Leuesmmt80dhV24H7goCEIDAGgTS8TrXb6ngoyLLp08fn4ot+oKuYoBihtoqEuUWI3LlWzzS/GEBSNd0znTQZ9N3SA8VZTROfaxA4+cwmaljie6hfuGcui7bwvM5n6X/FgUgr5t0D4ta/nrYLmEXjk3tgbDfGp/L7FjjXkfGMAHvC4d7chUCeyFAAWgvK7FrPbxzW66thCP2JFCB2Z7Q6Fib0OQE7lgSIL1qnwRKpiWBJQlsjq6+j8kwTmHS1GoiKL1lU0kC7bnktEN2S++xHJ3q++zakaAcBCBwGALz5QKxGOt94FzFCD+nb8fivq7rvI+likOKSX7sWFtjlopf0iU2t/S2XMCOln+oiPXu3bvHW0levzAW2hjZqHF6I0fz+fMa/8UXP39cMz5DOowxs+ua2+azc0scZbeYyMYl5l92zsM4lIYN8b6wYTNQ/VQEKACdarlrjfXOrayd+yTDnqzFngT64Gn9lBD686l2rnwbn0oEw0SrRA8lMUoi9S9Xb+lTonuon9ljR12Xbfa55DhX8l2igyWith5iWKJzCbs9J38ldtz41N7jjIMABCBQQiCdC5T6LcWY8CGL9/eKA74Q46/F2qXyLc6Ec3m9fEwK+6U+14wp0V15iIoyqZ9KxWKuxqQKQD6P8HHft2WrXw/FZisIeV7GJKaDXUsdNSYsNKX6+vMl7Py41Pr7Pmu2y+wouWfpuwwB7wuXkcCsEJibAAWguYkecj7v3JZtxxIIH3h94uHPz9VOJQKh3NwnU1YoUmGrtABUYpNP3Pw46W1PAO1oydpQImiJazhGc1vSGSZoYrLEk8CUbd7OKe09F4DK7TqkA8IoCEBgdwTmywWG4r7izatXrxZ9OyMV9+V/Lf6ERZAc36yx+pfTd0ofi8lhkUyyZZufOxX3Q/v851geYbIU9/VPMmKxNKaD12eoLbmWrwz1m3LNcp2Q05Q51x27O8dwQoW8Lzyh+ZjcJAEKQE0u29pKe+dW1i57kvH36xsysSeBSjBUcEg96UoF3FL5SgJiCZtPUHMTBt/PJ1MpXcPzJbpbApjiE0vCUomg9FB/S+q87r6tfuLlE0FL1jwvsyumg10bOnpdhvr5ayXsbJ2s2GX2+Pm2apfYcdNxbd+APAhA4JwE0rlAqd+KxQv5M4trpV/OS+Wn4r50sGt2zI0Fils1saRUd9PH4phnFYu5qbgfxnb/ecj2JQtAqX1hNofHGnayrWadQtlzfi6z45zeZ19We1+4L83QBgIpAhSAUmQ47wh457ZseyzgK3lZ8mngUKJjhQifGA0FfSVGGqM+uWOG5su5ZglzmNDMmQhaocSOJmupRNC459g/Rx/Js3WbY75153C3LU0IQAACixGYLxeIxX2d0wMFX9BYypcOxX2L3YpzubooFlpcXErncN4Yr1jsVI6gh2zqb/mC9A0LSBo79EDH5OfEffWx/iVH8V6SY2hziW776bvYDc7E2QS8L8weREcIbEqAAtCm+FsR7p1bWbvsSUb6DSALtqUBu1T+UCJo1+xoOsWOpqcVSfxR42NjwnOlutt4k+3lKJnzn9VXyV/sbwFYwquj+vnPQ7bnJIKhDqbz0DGWxA7117Vadho7ZOOY3Lmvl9vRik9BTwhAoG0C6Vwg128ptqjI4OOjfeGX3/fn1c4tJOTKN38tn+9lhW/S+mKIjUkdraji57NCSmqMP5+ru8V5Lyfk43XxOhhbnfvw4cODq+fw1Ve/uhZfLA/w1/xajMX9lA7eZt823STD9oK/PtTOZWdzyKZSGTZ2yWOZHW17kWNo733hMSzCiuMToAB0/DWewULv3JZtK9mI/QTMgq2SCXt6ZefmPCohUAISm9MKIUoY1C/WJ3XOxloyleo3x3nJUGLndZRNseTQWFqSpj6WWNp4jbXkUXOn1mcsEYzpkGNv7bicucM+ZnvIKuy3388z3O5MAQEIQGCUwLK5wH59LHazNnvaA6M3Kh0WJ+D3w+LCEACBWQhQAJoF49En8c6trJ37JMOKFv5plj2Z0ZdxO2+FiNwEJFe+zaeih8nSccqTQJtTR9kne3T054faubpb0cLrHRYwrMCjPp6hiit2bs9PAmNrMQc7WxsxMX4huyE5S1/L3QOdHkf3RdgHAQjsg0A6Fyj3W+m5Ot+W32dr+TU625iWdTcbtjoehV2ZHfvwBufWwvumc5PA+nYIUABqZ6021NQ7N9pbJTfIZe+N74EN3QSiIQCBExHAH4/7YxjBaOk9cCKXs1tT/RrvVkkUg0CPAAWgHg4+xAl451bWLnuSUTZ3TmKxtfwcHVN9WtY9ZdNa54/CrtyO+B3MWQhAAALzEkjH63K/lZ6rJmZsLb9GZxvTsu5mw1bHo7Ars2Peu5rZagh4/1UznjEQWJ8ABaD1mTco0Ts32lslN8hl743vgQbdCypDAAINEsAfj/tjGMFo6T3QoOs4nMp+jQ9nHAYdlAAFoIMu7LxmeedW1i57klE2d05isbX8HB1TfVrWPWXTWuePwq7cjnnvfGaDAAQgECeQjtfyW99887/X/xqj2lv8U6zZWodau1vWvdbmucYdhV1+rhS/Ozm7JgHvC9eUiywI1BOgAFTP7kQjvXOjnR+YYQWrtffAidwSpkIAAhsSSPs2fZnf0vf/7nf/s6n8Kba3rPsUu+cYexR2ZXZs6AIQfSfgfSFQINAGAQpAbazTxlp651bWViK49VM4JRZb61D7dKtl3WttnmvcUdiVJcYbuwrEQwACJyGQzgXkw8v8Vnqumnm2ll+js41pWXezYavjUdiV2XESd7NrM73/2rWiKAeBBwEKQA8UNNIEvHMra5cFsrK5c5KMsicp88vP0THVp2XdUzatdf4o7MrtSN/FXIEABCAwH4F9xcu1YgtyWPd97YH57mhmqiXg74naORgHgXUJUABal3ej0rxzK2tvXQDaWv6URKFl3afYPcfYo7Art6NRF4PaEIBAYwTSuUC530rPVRMPtpZfo7ONaVl3s2Gr41HYldnRmNs4pLrefx3SQIw6IAEKQAdc1PlN8s6N9lbJDXLZe+N7YP67nxkhAAEIPBPAH4/7YxjBaOk98HxncmZtAn6N15aNPAjUEaAAVMftZKO8cytrlz3JKJs7J7HYWn6Ojqk+Leuesmmt80dhV27HyVwT5kIAAhsRSMfrcr+VnqsmZmwtv0ZnG9Oy7mbDVsejsCuzY6PbH7GOgPdf7jRNCOyYAAWgHS/OflTzzo32VskNctl743tgP14DTSAAgSMTwB+P+2MYwWjpPXBkH9OKbX6NW9EZPc9OgALQ2XdAlv3euZW1y55klM2dk1hsLT9Hx1SflnVP2bTW+aOwK7cj64amEwQgAIGJBNLxutxvpeeqiRlby6/R2ca0rLvZsNXxKOzK7Jh4GzN8BgLef80wHVNAYAUCFIBWgNy+CO/caG+V3CCXvTe+B9r3NlgAAQi0QAB/PO6PYQSjpfdAC77i6Dr6NT66rdh3FAIUgI6ykova4Z1bWbvsSUbZ3DmJxdbyc3RM9WlZ95RNa50/CrtyOxZ1BEwOAQhA4E4gHa/L/VZ6rpqYsbX8Gp1tTMu6mw1bHY/CrswOHNL2BLz/2l4bNIBADgEKQDmUTt/HOzfaWyU3yGXvje+B0zsrAEAAAqsQmMcff/fdt5fXr19fXr58efn48fcX83Fff/2by4sXLx7/9NmuzX3U3O/fv+/NL73evHnT0+n77/9yefv27WVIF+tjuqu/zs2ts+YbkyWbhnQd0kn2S3cdh/qNXSvV4csvf/FY83BPjMkqvZ7ae5rH9Aj3RamM5fuvcrMjZJCA94WDHbkIgd0QoAC0m6XYsyLeuZW1y55klM2dE1i3lp+jY6pPy7qnbFrr/FHYlduxZz+CbhCAwHEIpON1rt9SwUdFlk+fPj4VW3yssH65xYhc+SYjVgDSNX35VyHA+pXqEZvD5kodS3QP9QvnLC2++PFbFYC8DlqXkgJaCTtby9jeM65ae7W9Tmu0S+w4jj9p2RLvC1u2A93PRIAC0JlWu9pW79yWaw89jVHQVTKgp2o+IZs7GMcSQelV8yTQdLOndHrKmZvA2tjco8lIPXVsMRG0/SCbtngSGDI1ttojueuyfr/qm5yBEIAABAoIzJcLxGKs952lhQA/Nqcdi/saF8otLQhYDFkqZlihIrRR8ixe2dHyDxU+3r1793grSTZZTmX6hmM0v8YpDuuazaXzGvvFFz9/XLOCyZAOob6pz6W8U/MMnR/ae2vIH9It71rBLUvXhQh4X7iQCKaFwMwEKADNDPSY03nnVtbOfZIx9DRGQdCCtBIXS1ZygmOufJtLSYslMHZOxzDRMn2ll+8Xa0tfPcUqfZ26RPdQv1APXa9NQmVjqe6hfH0u1UHcTGdjqAQ1Nnd4roSdrWXsSaCfV7K1/9Tfn1+yXWLHTY9jeiCsggAE9kYgnQuU+i2L76Fvld9XwaH0AUCp/FTc93pZccRi0pDf1zgVSaS74t5Q3/Baie7iJTYpPrGYqzGpApD6i7l08nHft3VNDOzNHPW3gpDnZXbFdLBrqaPGhIWmVF9/voSdjYvpbNdkm3Sxz2sdy+zYm184oz7eF57RfmxukQAFoBZXbXWdvXNbtp0KxpaYKCBbgrJEME4lgj7hkdzcxEDJlr3iPkcRJWWz8QmvS28lUv6fJWtDiaAluzbOxmh+SzrDBE1MlnoSGOoa2jnH59Tes7lTe8Ou7+O4unNAIAQgcEoC8+UCY75X/v/Vq1eLFd+HfLvFVulYE8M1Xv+WjA8Wk60oY7IkV7bZZx3DWGo5VWif/xzLI0yWjdfcsYckMR28PkNtyfW5x1Df2mtDey83z6uVPc+4UzqfnRntfeHOVEMdCCQIUABKgOG0J+CdW1m77ElG96aPkhQLjkoCYsmGXR86lsqXrFiy5pMEK46o75Bs388nU0Nj/LUS3S0BPNqTQONRmoiVsDMZfo3tnB1jia1dW/JYboe/b2lDAAIQWIpAOhco9VtDvlf+1cfSHH9bKj8V9yXLrtkxR77vo3GWv/jzqXap7jZPjFGs+FJbAIrlRZK9ZAFobF+Y7XasYTckozTvMD2mHsvsWOr+Zt58At4X5o+iJwS2JEABaEv6zcj2zm3ZdhiMw88+2ZgaZGPjh5I8JUCSL52U0OkYm8PO+eQhd4yNrT1aIShMOOdMBO2tIDuaLL82sYJJTIccO7UmSz8FlB7hXvO6lSbxfuy67WacCopCAAJNE5gvFxjyvfKfimt6k3Ys5tb62qG4b7FbcU79SmVY3lA6rrS/9FSc9DrGZHuWli8odocFJI21uDu0PjlxX31K7VH/NeLumG3iUKP7emOadiIHUd77woOYhBmHJ0AB6PBLPIeB3rmVtcueZDx/CVcCYIUGf7Siw1iQLZUveamAb9fsOCTbkimvs7U1fmisXSvV3caZbC9HNvnP6qvkL/a3ACzh1VH9/Och23MSwVAH0zl1VP/UW02pMTpfwy6VCMZ4Dsme81q5HXPc78wBAQhAYIxAOhfI9VvyuSoyWGzU0WK74omdt0JErm/NlW/zKc6YLB3DmOOLITYmdQxtKi1+5OpuccnrHcqyAo/6eIayx859+PDh8bN6z+Grr37Ve9Dlr2msydLR2tIp/Dt5KR1S/Ew3ybC9kOobns9lp3HhOnl5skef/T/ZH8pb6nOJHWN3KdfXIOB94RrykAGB6QQoAE1neIIZvHNbtp36Em6B1icbdm7Oo4K8EpDYnNJNCYn+lSYDNlbH2NxznpMMJXteR9lkSZrJUmJmT1UtSVMfSyxtvMZa8qi5w/8ims3n1yaWCMZ0sLGxo3Ra8u8+hDJTtolDaSIazr3e5xO4I0zeWYiUAAAgAElEQVSEAAR2QGDZXGA9n4kdsG55D+zAFZxeBb9/Tg8DAI0QoADUyEJtq6Z3bmXt3CcZVrTwT1xiX7p9kSEnacmVb3Ppy77XYcqTQJtTR9kne3T054faubpbwcbrHSv2yBb1sWKOZKsoY+f29CQwZpP0tKLUEDddy2WnvkN7z/TIlTumV+n1Ejtuc2/rKZAOAQichUA6Fyj3W+m5Sn2m+m8tv0ZnG9Oy7mbDVsejsCuz4yz+Zs92ev+1Zz3RDQIdAQpAHQtaSQLeudHeKrlBLntvfA8kb2IuQAACEJiRAP543B/DCEZL74EZb2mmqiTg17hyCoZBYGUCFIBWBt6mOO/cytplTzLK5s5JLLaWn6Njqk/LuqdsWuv8UdiV29Gmh0FrCECgNQLpeF3ut9Jz1cSMreXX6GxjWtbdbNjqeBR2ZXa05jeOqK/3X0e0D5uOSIAC0BFXdXabvHOjvVVyg1z23vgemP3mZ0IIQAACEQL443F/DCMYLb0HIrcmp1Ym4Nd4ZdGIg0AlAQpAleDONcw7t+H2Z599duEfDNgDy+yB8WT6XJ4JayEAga0IdLkA/n4Zfw9XuPo9EI//W93/yO0IdL6wO0cLAvsmQAFo3+uzE+28cxtu+2BFm+SFPTDvHogngP6e3InLQA0IQODgBDq/g5+f18/DE56xPRCP/wd3M02Y1/nCJtRFSQhcLhcKQGyDDALeuQ23Y0GLcyQz7IF59kA8AfT3ZMbtTBcIQAACkwl0fgf/Po9/hyMch/ZAPP5PvpGZYDKBzhdOnooJILASAQpAK4FuW4x3bsPtoeDFNZIb9sC0PRBPAP092banQXsIQKAVAp3fwa9P8+vwg1/OHojH/1b8xZH17Hzhka3EtmMRoAB0rPVcyBrv3IbbOUGMPiQ77IG6PRBPAP09uZALYFoIQAACPQKd38Gf1/lzuMGtZA/E43/vpuTDJgQ6X7iJeIRCoIIABaAKaOcb4p3bcDsWzOJBa3gexsDn7Hug7l46n3fCYghAYAsCXYyq81Xd+LP7euxnL4R7IP+e2uLeR2afgN+//St8gsBeCVAA2uvK7Eov79yG2/lBa3ieMBjWfv7P//zPS+3Yrce1rDvspu/vuntpV44DZSAAgcMS6Hxcna/qxs8dL1qOnS3rPvc6ls53FHayI/+eOqyDacgw78saUhtVT02AAtCplz/XeO/chtv5QWt4ntLAT394Hm0P1N1Lufc0/SAAAQhMIdDFnDpf1Y0/mu/GHtZ26h7Iv6em3MOMnYeA3+/zzMgsEFiaAAWgpQkfYn7v3Ibb+UFreJ6pwdPGt/xEqGXdjf9WxyOwq7uXDuFwMAICENg9gS6G1/mqbvzccaJl/9+y7nOvY+l8R2EnO/Lvqd07ihMo6H3ZCczFxEMQoAB0iGVc2gjv3Ibb+UFreJ7SwE9/eB5tD9TdS0v7AuaHAAQgIAJdzKnzVd14PxdtuLAH/k4BqCkn6+/ZphRH2RMToAB04sXPN907t+H23hLBlp8Itaz71gncEdjV3Uv5dzU9IQABCNQT6HKBOl/VjZ87XrTs/1vWfe51LJ3vKOxkR/49VX8HM3IuAt6XzTUn80BgWQIUgJble5DZvXMbbucHreF5SgM//eF5tD1Qdy8dxOVgBgQgsHMCXcyp81W38d999+3l9evXl5cvX14+fvx9780i+fSvv/7N5cWLF5cvv/zF07W5fL7pYDK+//4vl/fv3190XkfpYLLU1jnT7e3btxf1t+s66rPO+3H++lxtkyM++hfqEupeIle2az4dS8aFfUt10BqYPak9Ecqo/Wx7K8auds65xuXfUzt3E6dQr/OFpzAXIw9BgALQIZZxaSO8cxtu5wet4XnmCqItPxFqWfe51q92niOwq7uXlvYFzA8BCEBABLoYXuer/n4t+Lx58+by6dPHi45hAUjFB51/9+5dUQGo1P9bIcAKO9JDMv/4x++uR6+X+lihSEdrex5TiicluntdvHxrlxZfbJyOU2zw80zRQesSFrX83GG7hJ3WVHvLClyptQxlrPFZduTfU3ij7Ql0vnB7XdAAAnkEKADlcTp5L+/chtv5Qet5HgXi2JNAS87sqVBJQlAarCVLCYsfJ73C5NSevKm/7xtrW1/ZZslGrN+UcybD6/7hw4drQm3JrPpIho5KbnU+ZpvpoYTIz2fnj3hM7T3ZKg7ae2uzqLuXTu6qMB8CEFiJQBfD63xVNz4Vh+Rz7Yu5jkvFHs2teGlvvFgeIL3snGRbnLW4L/2s7XULY66/Nmfb+IRzSifLl+xo+Ueom/HVHGZfOEbXNE5v5OiazaXzGv/FFz9/XLM4OaRDqG/qs+a2+VJ9as9LPz93yKV23rnG5d9TK93uiBkg0PmygU5cgsCuCFAA2tVy7FUZ79yG2/lBqz+Pgq+KLLEngWGgLgmwJU+ENG9KVphomb5KEMf0URKjJNInkmNjdL1Ed0vOJENJnE9cQ5u87mqrGKQxoU6yWWPD8y18LmWX2nu27ksmoimedffSXn0IekEAAsci0MXwOl/VjY8VgBR7LJ7J/+pfyleG50v8v8bKz//61//9eDBi8sL46OOqYqY9SAnlhzE3vD70uUR3i/upn0rFYnhok9lqHIyzt9W31S9cGysIxdYxpsOQ/aZHWGgaG6PrJey8DSbT9luOrCX7yI78e+pYXqVNazpf1qb+aH1GAhSAzrjqxTZ75zbczg9a8XliCcSUZKo0SKdkhcmCkiQlNmPzK9my4kJpAWhsbn9d+ikZtYTUJ3k+wdMYb0vK3qHk1ss9Uju298y+3PW2/nMc6+6l4pubARCAAAQqCHQxvM5XdeND3xt+DmPYHP7V5vCxzuRY0SL0+z6uSsdUTLd5TMbSR+mlIlBYwDA7vHxvg86brqE9/rPyBHsryI4my8ZrLs/SZMZ0sGtjR8m14tJY35rr0s3s0VtMqYdhNXNPHZN/T1XcugyZmUDny2aemOkgsBgBCkCLoT3SxN65Dbfzg1Z8njDxUxANkw99zg2uJU+ETJaSgnB+r5eSHCU/Y3r4fj6ZCudOfS7R3ZIwS7akm9lh50yO9dVn37brOtbo68dv3S5hZ7r6NbZzdhQn42nnlj7W3UtH8jvYAgEI7JdAF8PrfFU3PvS9Ycy3L+lWdBjzvSX+X7Ll2xWvJdc/SAljp4+rasf08XF/TM/Y9RLd/fiY3FB/9a8tAKXin88hpIM9hDLdYjrYtbFjuC/G+tey07x+bcfkLH1dduTfU/v1EOfRrPNl57EZS1snQAGo9RVcRX/v3Ibb+UErPs9YwFfy8urVq2sSs0QQHkoClMgo2ZGOSvx0HNLBFw1yxwzNN3TNkizT35KyGE/rq/l8288fJon+2lHbMVZmq19LO7f0se5eWsUhIAQCEDg9gS6G1/mqbvyQ75WftXi2hM9VrNPf/9Hcavs3aSzm65p01NsoirGmk66HOo3ZEvaf63Oon+b1+psc2ai3ktXf7BXfsICksfb2zZBNfm1SBSD1MfklR7GOFdlK5sjpO2Rfzvgl+uTfU6d3RDsA0PmyHSiDChDIIkABKAvT2Tt55zbczg9a8XnGAnEswRgKvqVPhKyAEpvTrtkx1sfOWTJlTy79UeOt39AxV3fJUrJmCZ09wZQcJXj+tWbPb4i1ErZYcjuk756u5bLzOu+NR929dHZfhf0QgMA6BLoYXueruqKKj4+xL/y+yOB9dqpd4v/93Ba3LfZZgcT087Fbfey8jqkxqb/PM1V309XrEBZavP5WzJFc013nVPyycbLP5vvqq1/1HnT5a+pjY0J+4RtAKR1S9ptukhHbC6lxOl+y7p5f6RoN6TDHNdmRf0+tc7cjZYhA5wuHenENAnsiQAFoT6uxW128cxtu5wet+DxDX8IVWJWE+ERmjmDr59D8lsj582pLNyUk+qd+4fWhzzZWx6F+Ndc0p3RWQqO2+BgjJV/2tE9zK1mzpCq85mVrPkvw/Pkjt8VOrMQltFMsUvsi7DvX57p7abdOBMUgAIFDEehieJ2v6sbP5TOZB6ZH2QP599ShnEqjxvj7rlETUPt0BCgAnW7Jawz2zm24nR+0+vNY4cKePvmnP/rybeetsJEb5EueCGnO8ClX+GRIRYBSHTSv7FPhRce5dQ+LVtLRijySpc/Gz58PbTW7/JMxG9daMahk3XP3nrEoLf7lrnfYr+5eqrm/GQMBCECglEAXw+t8VTc+9H1TP5f4/6my5h7fsu5zsyid7yjsZEf+PVV639J/fgLel80/OzNCYAkCFICWoHq4Ob1zG27nB63heUoDP/3hebQ9UHcvHc75YBAEILBLAl3MqfNV3fij+W7sYW2n7oH8e2qXzuFkSvn9fjLTMbdZAhSAml26NRX3zm24nR+0hueZGjxtfMtPhFrW3fhvdTwCu7p7aU2/gCwIQOC8BLoYHvNVnPss+hYHXOBSuwfi+dR5PdB+LO984X50QhMIDBOgADTMh6tXAt65DbdjgS0etIbnYQx8zr4H6u4lXBYEIACBNQh0MSrmqzhHoYM9MO8eiOdEa9zryBgm0PnC4X5chcB+CFAA2s9a7FgT79yG27GAHw9aw/PMNablN0Fa1n2u9aud5wjs6u6lHbsRVIMABA5EoIvhMV/FuXm//MMTnvF86EAupVlTOl/YrAkofjoCFIBOt+Q1BnvnNtwmSSFJYQ8stwfiCaC/J2vub8ZAAAIQKCXQ+R18/nI+H7awtT0Qj/+l9y395yfQ+cL552ZGCCxDgALQMlwPNqt3bsNtC1QcSVrYA/PvgXgC6O/Jg7kezIEABHZKoPM7+Pr5fT1MYRrugXj836l7OJVanS88ldkY2zQBCkBNL99aynvnNtwOAxafSWLYA/PtgXgC6O/JtXwCciAAgXMT8H6H9rhvhhGMltgD5/ZC+7Der+s+NEILCIwRoAA0Rojrl5KgzZf9+b7swxKW4R4YvxdxWBCAAATWIOC/9PTbW/8Ntq3lj/vpPi/fv2XdvR1btI/CrsyONe51ZAwT8PfzcE+uQmAvBCgA7WUldq2Hd27D7fALK58pYrAH5tsD40n1rh0JykEAAochMJwLjPsqxsOIPTB9DxzGoTRsiN/HDZuB6qciQAHoVMtda6x3bmXtsicZZXPnBM6t5efomOrTsu4pm9Y6fxR25XbU3uOMgwAEIFBCIB2vy/1Weq6amLG1/BqdbUzLupsNWx2Pwq7MjpJ7lr7LEPD+axkJzAqBuQlQAJqb6CHn886N9lbJDXLZe+N74JAOaEdGfbr89ac/uvzpxQ8u3/7D/+v+vfjB5U8//Nnlrx93pOrKqvztq59d/tzjIib/fvnbynogbi0C+ONxfwwjGC29B9a635GTJuDXON2LKxDYEwEKQHtajd3q4p1bWbvsSUbZ3DmJxdbyc3RM9WlZ95RNa50/CrtyO3brRNpX7OPPLn/yRZ9Y+8XP2i94fPWje2HrB5fvMwtaf/tpUBDzbH747+2vPRZECKTjdbnfSs9VEzO2ll+js41pWXezYavjUdiV2RG5NTm1MgHvv1YWjTgIVBKgAFQJ7lzDvHOjvVVyg1z23vgeOJdnWs3aXvHnB5c//7T/ZsvfPv775fsf/uDy7SkLQP9++bMVfF64t6A+frr89Ye3t4BWWycErUgAfzzuj2EEo6X3wIq3PKISBPwaJ7pwGgI7I0ABaGcLsk91vHMra5c9ySibOyex2Fp+jo6pPi3rnrJprfNHYVduxz49SOta/fWH3c+9/vxViTX3IogVSP7h/13+9OJHkZ+KfboVkKzfix9cvv/qkxNkPz3r9Pj2hQpRvs/lYnr+6aefLvpJ1p9eWP+u79++0k/Yns9LmI3v/bxNOg29xeOKY5Kb/t+ny/cmt1coi583XWpt8fZMmeNmT+46pq0/3pV0vC73W+m5amLG1vJrdLYxLetuNmx1PAq7MjuO51nas8j7r/a0R+NzEqAAdM51L7TaOzfaWyU3yGXvje+Bwlub7hkE3BsuQ4WQp5ncOCvsPI7+51WuAPK4rgLNjy5/vc6Zun4r4viiixVNngo493mf/nbR/bwVtZLjB+32dv7g8ude4cpDcXYUFIBqbZHkpD2ZPG7ae/uscGZHv47e1jO05/HH33337eX169eXly9fXj5+/P3FfNzXX//m8uLFi8e/t2/fXr7//i+P69ZvjqPp8OWXv7jOLznv37+/6LyO0sXkqK1z+qx2TC+N13k/zsbPeTQ5po/m/vDhw5WjWL579+7BTH31Wedl15s3b3q8TS8x8PPZ+SMebd3DvWdcbf8tvY7T2J7B1+zdRu8L964r+kHgRoACEDshg4B3bmXtsicZZXPnBM2t5efomOrTsu4pm9Y6fxR25XZk3M50KSOQ/YZLf9qu+OCKBPqpmL0FY0UVN//jjZ6P/375s94Uuk55K5xc/6Cy/U0eXbdikSumdDJvb+1c/wCzm/9aTLE/zOzPmy6SN8vfAHr+mdzlMqEAFNNZ9sfOO1vm4NHNMbKO/eU/wad0vM71WypGqBDx6dPHp4KEL7SUxo1c+TavZOnLvhU+rHjyxz9+9yiaWF/1sUKRjta26zqqsKACkI7+fE67RHfpqeKFFaG83JCfsVYfs0+FjlAn2bfvgsf0fSebjUdq79m6ioUKlDVrGbLN/VyyB07gaBow0e/JBtRFRQhcLhcKQGyDDALeuS3XVoCNPQlU0LRrStKWDMYmx4K/EiQlRDofJkY+wVLbkjAf5O1J0tIJlcmRjiafJ4H5e9XWve0ngbKX/81O4FEQ+X8Xe1NGMrrCgL0N4n8q1RVo/Bs6Gtf9weR7gadXiPnZ5W9W5Bkx5CE/VgBy50oLLzUFoJtdP4r8kWxXNKktAE2wJcaojEfBOo6s1/Eu5/tXi0mpo/xv+EaKj6+pcXOdV7xXvLSijcmWXnZOsizOWjwPcwLTZ6jAYn3mOEoPvdVjb/Z4ubLJ8hjJUl/LUcy+UAfZZ3OF1476Obb3vK3hHvDX9tE+nmdpzyLvC9vTHo3PSYAC0DnXvdBq79zK2rlPMoaexowF6KEgnCvf5lBixJPA2xqnkltjtedjyboP7T3tB0ui1V6y+BjjWWLHbXzhrU33cQKuAOSLOY/igr2Jo6MVK3xRx1/vtbviSDjX898Juv8NGnt7yM9jMn1Ryp2TgY/5e+cTb+Q87O30u0J6nHcFr9586nX/W0Vev9hP2Xrj4nrEdS6zZfIches4vpmO1COdC5T6rViMt1hc8zOcUvmKdb/+9X8/ih9WPPEFFflXXwwYKpZId/8wJubbU+dKdDc9LVZ7uXbO5FhfffZtu66jt8+fb6Vdws5siu09u6ajmFrhzJ9fsl1mx5F8Squ2eF/Yqg3ofTYCFIDOtuJV9nrntmw7FoxTycoSAViyeBJ4e9LJk8D+Xm8jOa66wRk0RMAXAdzPi7oh3VsiZQUg+4mXZtIfbQ7foLHrrkDSK6zcCzGumDK54CFVHoWemgKQUVHBqisU3d6ccnY4nVNv5DzG9/rusQBk62S2n+XY949T4nEs7vv5VIh59epV9G/W+H41bV/IsVzDiif67As5viA0FA9snhp9SsaYnlb4MbkxntZX8/u2l+ft8+eP3I6xMnuX3HcmY/rxLP5mz3Z6X7hnPdENAh0BCkAdC1pJAt65lbXLnmTcnkCFr4IrWfnii59ff+vu387JCZyl8iWLJ4E8CYztrf0/CdS9yf/mJ+AKF/8QFEWuwiIFoEt3zr81lKObCkH2h4+vY8PP90liBZLYOXWPn3d2+SLLQ17M1hwL7n0e89hP5xLyEj8Ni+tcZsv0OerXsYBUo13TuUBp3B36Ei5f7Is0Md8cniuRL9mK+5IhH+9/UhUWSqzQInmpeKB59MaIrod65XzO1V1ypJ/0t8KNdJdc+6w+kqmjPdAZYh0WvHL03VOfXHZe5xQPMdRPwmvX0csobZfZ0aj7OJTa3hceyjCMOTABCkAHXtz5TPPObdl2GIwtmbJXcO3zEkHZJ0n2JM0SwDAx8gmWdJZ+OoaB3uYJz8/92fQUF7VNbshTcq1v2PY6efv8+SO3Y6zMXvFY6gm0yZjnON9dz0yOgH8L6B/C/9JVVyR4vAHkixoqGvn/Mpb+EPQPf9D9p9U1t/9PwztZ1zdneoWU+39m3fXpZKaKI6nziYKMlzf4n3W/81H/Fz96tvHxc7WukPQoyDwKaf03hea25SHPF7iKCmKO0dg6uu1yjuZ8ucCQ75VfVFxb6ue38u1661dy1PZ/VNliqa5JR+lguUeYE5j/HrPF+k09So70U95iuhkj2aEHaTovOdLVcqjwmtfD2+vPH7kdWy/jaWu9b/vP4W32baX3hfvWFO0gYAQoABkJjgMEvHMra5c9yUi/AeQDsRU3coJyiXwFfUuoJI8ngd0flM5hvac+JetuescSQV2zLwV+D9qYpY/ldgzcxlyaROD5J1rdT5zsjR1fwLj4Ik3sp1v2c7JkP/tpkSswxeZxxY3pBQ8hisgzXWMEXcHowcHp2XsDKtH38Z+nn9mWWXgk1+e+/kNsYrwOcy6dC+T6LfuibX/nR0crVCjO23krbOT621z5ms/nE/aASXmArpnvNz18DFAfO69jakz4HxYYsyFXd+liMjWn2sbOPpt+/rzG2Xkdja3Z7q+JzZi+e7qey046D+29cG3FZE0WJXYcxp00bYj3hU0bgvInIkAB6ESLXW+qd27LtmNfwhV4LdGxJMUnYnMlIEr2eBJ4W1/xXjPhmWsNp8wT23uWJC6x36bomh5bf5czMoPAx/sfOX683XIrAqiA8ecf/uzy1/C/4HV/2+dPriDyrfp+9ely/U+030X+7af9v//TeyNIfa7/WXhXcNIbQz+9/1Rs5qLJVaXg7xH1ijhPmO5/v+jFDx4/XVMh6GbD/Y0lN6ZfSLu/TWWFoZltmaUAdOevt7bG1tGZeYLmsrlA2schFzbsgW4PnMDV7N5Evx93rywKQuBKgAIQGyGDgHduZe3cJxn2Rds/ffJPrfwTmZLCRK58BVPNa3NbockKTzwJ5Emg7U3bI10CVnZPlIwr2b+3eTNuZ7pAAAIQmEwg7ffK/VZ6rhJ/aX23lm961Bxb1r3G3jnHHIVdmR2Tb2QmmEzA+6/JkzEBBFYhQAFoFcytC/HOjfacCQtzsZ/m3QOt+xr0hwAE2iDw7LtjPwHknHtzz78JSLv3xiD7JL5PxvODNrzFsbX0vvDYlmLdcQhQADrOWi5oiXduZe2yJxllc48Hxr9ftpafo2OqT8u6p2xa6/xR2JXbsaAbYGoIQAACDwL9eM0X+PgXeLjAZeoeGM6bHjckjc0IeF+4mRIIhkARAQpARbjO2tk7N9rDwRg+8NlyD5zVR2E3BCCwLoG+n5v6JZfxFErYA/E9MJxTrXvXIy1GwPvC2HXOQWB/BCgA7W9NdqiRd25lbQJ6PKDDBS4le2A4AfT35A7dBypBAAIHJOD9zt/5OQ8/6WIPLLQHhuP/AV1LcyZ5X9ic8ih8UgIUgE668GVme+eW3y75gktfCiLsgeE9MJwE2n1ZdmfTGwIQgEAdAfM53REfPuzD4QOf0j0wHvfr7l5GzUmg84FzzspcEFiSAAWgJekeZm7v3PLbpYGO/iRH7IH0HhhPBHVv8j8IQAACaxDIzwXyfBfzwYk9UL4H1rjXkTFMwO/b4Z5chcBeCFAA2stK7FoP79zy23yZT3+Zhw1sSvdAXmK4a0eCchCAwGEI5OcCeb6L+eDEHijfA4dxKA0b4vdtw2ag+qkIUAA61XLXGuudW1m79Esu/SmMsAee90B+Ulh7jzMOAhCAQAmBslwg34cxL6zYA/l7oOSepe8yBPx+XUYCs0JgbgIUgOYmesj5vHOjnR+YYQWrtffAIR0QRkEAArsjsLZvQx7xlD3wvAd25xhOqJDflyc0H5ObJEABqMllW1tp79xoPwdgmMBkL3tgbd+APAhA4JwE9uLz0IP4e+Y9cE7vsy+r/f7bl2ZoA4EUAQpAKTKcdwS8c6NNssUe2O8ecLctTQhAAAKLESAO7DcOsDbnWZvFbnAmzibg77fsQXSEwKYEKABtir8V4d650T5PYsFat7fWrfgU9IQABNomQHxoLz6wZsdbs7a9yDG09/fVMSzCiuMToAB0/DWewULv3GgfL4FgTY+zpjPc7kwBAQhAYJQAceM4cYO1bHctR29UOixOwN8/iwtDAARmIUABaBaMR5/EOzfa7SYKrN3x1+7ovgj7IAABCEAAAhCAwF4I+Nx6LzqhBwSGCVAAGubD1SsB79xoH7+IwBq3u8a4LAhAAAIQgAAEIACBdQj4nHkdiUiBwFQCFICmEjzFeO/caLdbHGDtjr92p3BIGAkBCEAAAhCAAAR2QMDn1jtQBxUgkEGAAlAGJLpAAAIQgAAEIAABCEAAAhCAAAQ6AhSAOha0WiFAAaiVlUJPCEAAAhCAAAQgAAEIQAACENgJAQpAO1kI1CggQAGoABZdIQABCEAAAhCAAAQgAAEIQAAC/T8tAA8ItEGAAlAb64SWEIAABCAAAQhAAAIQgAAEILAbArwBtJulQJFsAhSAslHREQIQgAAEIAABCEAAAhCAAAQgIAIUgNgH7RGgANTemqExBCAAAQhAAAIQgAAEIAABCGxKgALQpvgRXkWAAlAVNgZBAAIQgAAEIAABCEAAAhCAwHkJUAA679q3azkFoHbXDs0hAAEIQAACEIAABCAAAQhAYBMCFIA2wY7QSQQoAE3Cx2AIQAACEIAABCAAAQhAAAIQOB8BCkDnW/P2LaYA1P4aYgEEIAABCEAAAhCAAAQgAAEIrEqAAtCquBE2CwEKQLNgZBIIQAACEIAABCAAAQhAAAIQOA8BCkDnWevjWEoB6DhriSUQgAAEIAABCEAAAhCAAAQgsAoBCkCrYEbIrAQoAM2Kk8kgAAEIQAACEIAABCAAAQhA4CtR65gAACAASURBVPgEKAAdf42PZyEFoOOtKRZBAAIQgAAEIAABCEAAAhCAwKIEKAAtipfJFyFAAWgRrEwKAQhAAAIQgAAEIAABCEAAAsclQAHouGt7XMsoAB13bbEMAhCAAAQgAAEIQAACEIAABBYhQAFoEaxMuigBCkCL4mVyCEAAAhCAAAQgAAEIQAACEDgeAQpAx1vT41tEAej4a4yFEIAABCAAAQhAAAIQgAAEIDArAQpAs+JkslUIUABaBTNCIAABCEAAAhCAAAQgAAEIQOA4BCgAHWctz2MJBaDzrDWWQgACEIAABCAAAQhAAAIQgMAsBCgAzYKRSVYlQAFoVdwIgwAEIAABCEAAAhCAAAQgAIH2CVAAan8Nz2cBBaDzrTkWQwACEIAABCAAAQhAAAIQgMAkAhSAJuFj8CYEKABtgh2hEIAABCAAAQhAAAIQgAAEINAuAQpA7a7deTWnAHTetcdyCEAAAhCAAAQgAAEIQAACEKgiQAGoChuDNiVAAWhT/AiHAAQgAAEIQAACEIAABCAAgfYIUABqb83QmAIQewACEIAABCAAAQhAAAIQgAAEIFBEgAJQES4674IABaBdLANKQAACEIAABCAAAQhAAAIQgEA7BCgAtbNWaGoEKAAZCY4QgAAEIAABCEAAAhCAAAQgAIEsAhSAsjDRaVcEKADtajlQBgIQgAAEIAABCEAAAhCAAAT2T4AC0P7XCA1DAhSAQiJ8hgAEIAABCEAAAhCAAAQgAAEIDBKgADSIh4u7JEABaJfLElHql68vn3322dO/z3/8TaRze6e++fHnV9te/3Jp3X95ee04LsevVE5p/6U5BfN/8+PL5599dlmOVyDv6eN6fGwv5tpq/Zffu09QOAEBCEAAAhCAAAQgsBkBCkCboUdwNQEKQNXo1hpoX3w/vzzXem7Xcr+orqVxjZz1vkQnmP3XP10u//KPl8u//NPl8n+hBX+4XH6ia/r3z+HF+2fX5yf/2vXJLpwk9NJM9zl8AfB5ze/7ZKkqRLYdnel1rRE7VtDD9mKfcVov61+NPlHc/ezzH1+Gyru/fP1cEE6OyeGW0+eua9LW2PX7vH7/3tqvL4vXe+s2IaMgAAEIQAACEIBABgEKQBmQ6LIzAhSAdrYgfXW+ufz4c33JO/4XpclfovvgBj4lCi2DBaDL5fK4/o+Xy28j0//fv94LRP94ufzXH7oOOV+qr70Tet2/UPeLEbd90T+XLlB0ykxoZdsxQYbj8FmqwrCaHqEdab6T9+5g0SRy7z8KKuE18xefXZ7w5XDL6RPT1aOKXY/OO6Crn482BCAAAQhAAAIQ2C0BCkC7XRoUSxKgAJREs/2Fmi+WtzH6Ynj/wqqfOwVvEjy/ORB+kdRLJ/pJVuSto8gXvE6mjbM3EyLjE1hrbE1MNXI6UWh5FHhibwBdLhdf4Pm3/3iW8dt/jr9BFP3y+zz8cl+vflHHviQ/r8/zDOkCxXPfijPZdlTM3RsyYsdqevSUutj6xApTk/du5J6S9Pi8dz7BPd1pa3smuPdyuOX0Sej6kB+7npx3zJbHrDQgAAEIPAjEfePj8oyNu4+6/2y8H59nFFM1lXvrOJaTVM1ZM6iUUWn/Gp00Zi05XazO3R/r7d9adowrI0ABqIwXvfdAgALQHlYhqoN9kcv58t9NcAssn18+/zz291ruAbH35dHk9L8w2jxPPzuLfMGzvpLpvyDfCk39eTtN+y0fEK19+5lIf/zQnEPXOmk3Bk+BeqwAdHHJVuxnYP92/4mY//mXhCa//HYa3VoxvWLrFY67XJ4LercCnNlo65Ozll6Xx0929DpJ0o67ju7vKoVvn3j5fV37e7t/zYqIwT5O6tFxsf0T6nGJ7N3rqPt54xX2G9PLy7N20U+ccvVKFoU626P26GQGt6w+KV1Nhdj1pGzzPf19YFNxhAAEJhC434sPP77LIkadfeZnn3x83XQDo2Jx+d79t/96ufzEfjp+//n4qoUYl5OsKjeBK+nnw/4JpiPjs9b8vucfsVyiR+YNtav5bLr15FoBKrJJrX/kUp74xL0dPuwNJ4vmMr3vA25EDrecPrGcwIkJ863rpfu8oe/a768hKAD5JaXdBgEKQLtdp7wv/6H6Flh8Icb63Jx/v6Byu3aX5aLRbZ5I34gzf8h8CiTP85ou4fExh5JUp8eTzrEAf50sl9etXz9Q+594Jd4AkoxHkSj8Gdh/xH/+pTE5AdLpH+plATs8fx3S+78065K1fDw1c2tpOigY9/SwIO3Wy9bRnXq8ydIfn/ryn7bjam4Oz4heGvuwwyv3KKq4vR7Z4w8uwVjNazbn2ddbtNuHqLxu3k5kilk4Z+ReKODWW+OnqW9/jL7TKegQsyUpO9eeQAYfIQCBAQL3+z/2Bm/0TdOBqXZ6yXxu0g/NpveN5ZNP9LnA9W8D2t8I/MfLxRdjUm8Gz6LfygWgMVuSfj40NsF0bPz9us8Pn2a+/l08F8vVYWzecJLZPt/vw8gmnbx/B+JstEhi7J7+nITFYH42Pm3ZKQBN48foLQhQANqCeo5Mc9hB8Hh8iXVvXPjk5BZYggB4lXd39O6LvVfjNm/3JD45TyTwpIOZBZduXi/Tt22O5ycYYRBNzHnXy7Pw83ftRPLxSOgGCkCpn4E9zkfGZicfCb3sKdLo09uQU2dxyVre9sHz/rF95/lezz3tp+d9Zmvrx161i+yloULLdUwWz2cdLpfbuc8//zz4SWSkb6FeZfZ16/JoxeTZ/d/je1/j3rnHLK5xt8kneznccvrEdHWSh57mPa2/2Rj4OD8dbQhAoIRA5N4vGd5IX/O5y7uOWFx2D3z0xq/9RyP+7w+Xy7/9EwWgp1eNw00VY5pTqBnb24n4mBPXQhVn+XzXJ7JJJ+/fRByOz5vg8rDRuAZ5Xw63nD4JXR/iY9eT847Z8ph15QYFoJWBI24GAhSAZoC4zBQZju7uOP0Xq1sACBz5VcF0MNLl8It/cp6Is44HnRuV27z5BaDnWGnBqZsjJi9XjhUYPLOrpjkFIHW0n3r5n4HZ2PDnX+qfDGQ3Pt3/39bnSa97B7PZXol97pde3/y1vLOOFRie7EjLC9fCdH9a26c5ZWx63iuK6JiOorWebL6Oe3355fXo748I98geH9KrzD7T0B3v8mxt7fjEy9jE1sdNZ8Wu3pPAHG45faJsnPDY9ei893WOvqXg5qMJAQhkE0j6ooEZbmMUX+2e3P/fDfR2WvvmN71vf85rPIYw5/HXunYkPjwe+AT/wYdu0K31yBXc20F6W+j6hpB7e6eXN6TOXy6Xxxs495+b/fY/uv86qX/r6Cr9Xozybyf95J+7YpX1sf+6qf7DFZrfPuu/hur/YxaDttwNj/r5+7XeIcJU1zPG21o/x8ZrEnvRHnjKjabMG4tn0vV+/iEr6HfbW93P2C2mW39vh7Vvfbo8t4cs/BDIe1wO9bpi1d/zjLzh8xgUsUfXMrhl9UnpavJj15Oyn78P2DTbHikAbcsf6TUEKADVUFtlTIajSzr7fhJ0U/ee3EUj53OidAtKkXkiztoCWGzqsBiQQlc0xz04dK8CD9vWl5lIPqyIE/3PwLsZfBJ2/a+BuYTNJ0w2JBnIrIMdE3rZZTua7cFP5cYLFDlrOcAxtMPr4d5Gs0THFx+SaxvOebVxQAddj44xOO547/fYk9q318LJbf7e+bAIEdnj43wjCVaurk/y7gxCvewLWm4ByPfL0SWnz5Oujrmasev3ebu9cU+MvX7BNHyEAARKCWTkDJEpLda39HcDLaZcfcrDmT/nMeaP7It3Z/7dx476oFu//nj3BpDyhd+6/+pnJ8A9LJqhAOTzDl/UsXavAOT1C2T38huXu9g84dH+i6c7KQBZ/O9yvw54sqCXE9csRrm9pJkfhZzgvN0zj5edYnHP4nUwVvP6/dvtrYL7Nyqvm7cTmTtn5H4o4NbZ0K3Ho5XQdfB6UnauPY/ZV2pQAFoJNGJmJEABaEaYc09lQaJz5oGEu2P1zvcpMD2GRBz845oFuu7pQ3KeiDNP63l31qNJVixwdco9F5GCIBDRqRsdtmIJnf/7PpGfcfWmcMmVki7/NNCSJd8/Gch8J7UTeoXdrp/Nfl/Uua9vZLPkr+XAHgntuH+OJWKhysn9Ec55HZi242b6jy+fx57yhUKD5Ou6h+5sfPumW7fvbyrE/s5NWq8y+54UHS6a9NbT1j3Q92nKiK5R1sHAnD5j91rses68gSp8hAAESgkM+O+Bqcx/xXz5Lfb6OGMTPfuY2zyRvhGf8JD5lBs8z2sS/TF/fMJn3nXyuZOfv2vf9Hnq93hgZAUWvTFT8F8H9f9RidE3gHyhxt7i0Rs+JtveKrpr/Tjvcpn/i70t5Od1c/icxheWHkUoN28HKv/hTCrXyYoTtp7hPhvY+yXz9vbjTRY/G//Gr3K/ncM2cv/3JoldT817Px/zVb05V/9AAWh15AicTIAC0GSES05wD2r+b3l4cZEkJpmEPZ5mhIFTE0aSrphTvv8dlfB10kcy1vuy2r2tkeOsbY5wisfPWXqBuV8wei4QeUhheyyhSyQ3fppHgvXPl8t/2X/+/Z99j66dCmRdj3sroddTv9uJ58Q8sob3sck98bTG9+QqYH2d5smOtLxQ5eTaPs2pkSPzRseEEm+fu31xs8v21lWfq413e+2CTfPEZVivMvtMiDtG5VlRtn+/JtfSTRd96p3DbYY+Uf1y5vX604YABMoJ3O+zMN7e/GD/5yi+oBG9Z6/SB+LBI5/oitHJeSL+7dY38tbkI8fo5o2BKBkf69vFhtjs/txAXH7EfleI6b1h43+2FeYVrvgyVgDyBZneW8Zujkehxj2g6vX1D7ksV3Hjezq4n7r787soAF033vNPvSJ77LGKmfHnaf9ex/Gzce8rHkytkcN2aG00T+x6dN57bvj0ZrQps+WRAtCW9JFdR4ACUB239UbdHeFnEadniY130E9BzGtqc/W+4N+TvKci093Zur4+kfTfmU2P/uvYNm//C6xXx7cfc/iJ1cF0Ds8/CgWvL6+ffg7lZw7biYTu8UQvTNTC8T6pc4nfIwEL+kcDWdDn+jGhV6xrNEm+r9cTp0SAfczRT8Jva/y8Zrb23V6z9R1O1KW+re2TalE2A3bcJst8A8js/vzy41/qrSFn01WuPt9kPekVS0ge++2XTytSZt/T8HgCpG53PTrmQ/eDzZtYlyhrG3M/5vQxDs4vdLPcZYfXsubtZqEFAQjUELj7zvD+81NFfMrNfzn/+Og/7IvDWJGcJ+JPkz7z6vZUrBqOK0Xj7/6nK4wN2/Uw/9q49e354F6HP7iHQJYPWIHF5wphXpEqvkTOPwov4X991PW1/MMXi8Kfcz0+my5uvC/0yD57yOXPP/Sw8T0Qj1wtzcr6J5hmx4n7+rl9ftuLiT2TO++93yMf0L69yrjJ6533+YTMiuzxoYdZyf2bq+uTvDuTUK/BeG3roWMkdufoktPnSVcvN8HuPm87PxunABSsKh8bIEABqIFFkooWMPoO8Tlpu/V7Pt+ZaV8Q3RPBR2Trel1bgRO+Bvb7OT/EdNM5KxTc9EwE5ECMPpre+jsEXaJmusbt8bK8PpHp3alE8vEoAFkS544+CbrO5J6yWVIV+/nXzbDngoVxdQmMJQu95CnC+jbl7Y/69fpaAI8mzqmE6bYHeuxMN3fyyvnzzzPtuK+lG+/3h1uIRMJoa57YO3f9+rb3ZnUf7mud+C9/XV/tjvGKJixpvcrsc+pZMypPFy2p67Mwebfk1Cbx/SP3Sw63nD5XMbefyHX36U0Hux/d0t8u5M57683/QwACVQTSPuox3d3XeP9psffx90y6zoMPV273e+drkvNE/Jv5sCdfsUQBKIyNEX0eJj81EvnCU7/gJ1mWDySLJqniS+T8Y465CkBWoIrIMrt2XQCyPNP23j1OxjaT7MmOP/15rvv7Pqdv3/ZuPyZvXwDq7OzH5QyfcF3zvu3XUznccvqM3W+x6znz2l7dxZEC0C6WASWKCFAAKsJF5xiBoWQu1j92zgdV+yI5WkS6B46xp4V9eYmErqgA5J6QXQtAllD1JV0/xQLZ/Vz/C3xCr4eNrmAXK1pchd2D+P2PMvfyIZN5v3b9AnA/1+uneWJ978UI/8XhZm1f5nXNggmT++MuZ2zO3nTJMTdtwv9/7KXeJJZA+mKjGxlLSK6X+7balOX2OVlqJuXdi2nR/4JHX5dHYdiUCkSEa/ro79+eC9Y92ucxb0R+r6D56PjYT8/r7PrQhAAEJhNI+iKb+e5r/L14G2Nfpq2jjvd7PHFf33xr90U4OU/Ev6X1vH9hTcg07UrH+/6h3jZn/Hhj4HnF+/m3fVyh5lG8Cd+aSRVfIuf9Wz29n3W5vvYG0MU9nOr1jWntxocPuXZeALKYeV2XyP7qWVuQM3R747YPLZxe9891T973p10wQVEd7vdP2PfxwLP/9vV1qlxdo/Isr+nfy7e93z9naj+O9/l6+zxHlxn6RPXLmfeh/B4aFID2sAroUEaAAlAZL3pHCPjkKnJ5uVP3INF/4jEmriChG5sq53oskEWD98p65ei+xz4xnnvUE50gAAEIrE7g/qUz9ZAg8kUv+gXsrvftC3Hsy2Pky200rtkbCP0vu5YzPMXuzJhePt70neEn4yrq6D+p7v/rX/6PLPu/A/QoAEX+k/FWZHn0D94iehRlXFHnX8b+CLQr6mjeUMd/+6f7f4ZeC+z6PmTdF9508+eHbNGw7NicyHWyx0vYfT0///Hlx69HfjJYMu91D/Oz8esuyOGW08et1fOfk04UfLPmve/VXRwoAO1iGVCiiAAFoCJcdI4RsGQs8qAj1n22c3VyE8nHbFoFEz0FMktEw78ls7JegZrNfHzi2YzmKAoBCEBgeQJ3H3nkvxt4i/2fXzb5ybgvhNhPwP2x9+aNL97cf1Zub+uk5vnJP10ums8XX4beUFZfm1O7y78x5PWy9qNvYQHIv130NFeiAGR7sfdGVyLXKYztlv/F3jru3WRF895142fjeQW9XLb34nBY8L0VmPvF4eva5c7bW+gtP1AA2pI+susIUACq48YoR8AC8boFIHuy2L2C7lQaaN4LMP6nUJbMzHm0px5ezuPV35jOEb0GrDjfJficb82xGAIQqCVgcbn3U86nPxJrPzONveVjki3Wup8hp4L9/Yubybz+pOR+zg8x3XTOvgTexsRio+nRHW/jb32zx9uX0NTbUd30rnUvCPT+QNIfLhcVb6xQY3mD3gr6vz+4sfdmWOjxBaLetfsbO3bOF4A0lf+vjkm23u6xwtCjqHOXqTeS9LaP6aajjXloWFoACn7mpjm9LbEv7bYfCgpAtnd6R795TH+bO7Knrcv1GNOr16H/4bGfApmp89fR0bffdKWft9iUfv/3pOfqmpRn93OkqBLo8uBrSvUU6Qp6j373XPb62cY81sD5ButnfR7z9llc5+nti0fHvOKT6759kwLQ9muABqUEKACVEqP/PghYMvcUZCrU80nSXO0KNRgCAQhAAAIQODqB5BfgJQ23L6tFOUOsALSkkg3PHSteRAsVKzON6dUwZlTfIwEKQHtcFXQaJkABaJgPVyEAAQhAAAIQgAAEZiKwRQGoTubKxYqZ+G4yzVOh5f7Gx1PBbWWmT3ptQgehhyZAAejQy3tQ4ygAHXRhMQsCEIAABCAAAQjsjUBdMWaKFfYztryfmHWS7kUM/1Puud4SPso8wU+L7L8kdVvjGO8I0w74jK215MyoMlM1SoACUKMLd2q1KQCdevkxHgIQgAAEIAABCKxHYPUC0N5/Mt5yMWi9bYMkCOyUAAWgnS4Mag0QoAA0AIdLEIAABCAAAQhAAAIQgAAEIACBZwIUgJ6ZcGbvBCgA7X2F0A8CEIAABCAAAQhAAAIQgAAEdkaAAtDOFgR1MghQAMqARBcIQAACEIAABCAAAQhAAAIQgEBHgAJQx4JWKwQoALWyUugJAQhAAAIQgAAEIAABCEAAAjshQAFoJwuBGgUEKAAVwKIrBCAAAQhAAAIQgAAEIAABCEDgcqEAxC5ojwAFoPbWDI0hAAEIQAACEIAABCAAAQhAYFMCFIA2xY/wKgIUgKqwMQgCEIAABCAAAQhAAAIQgAAEzkuAAtB5175dyykAtbt2aA4BCEAAAhCAAAQgAAEIQAACmxCgALQJdoROIkABaBI+BkMAAhCAAAQgAAEIQAACEIDA+QhQADrfmrdvMQWg9tcQCyAAAQhAAAIQgAAEIAABCEBgVQIUgFbFjbBZCFAAmgVjySTeUdDu//V8eMCDPcAeYA+wB9gD7AH2AHuAPcAeaG0PlHwfpC8EtiNAAWh19q05M/QlALMH2APsAfYAe4A9wB5gD7AH2APsgfQeWP1LJQIhUEWAAlAVtimDcJxpxwkb2LAH2APsAfYAe4A9wB5gD7AH2AOt7YEp3w8ZC4H1CFAAWo/1XVJrzgx9CcDsAfYAe4A9wB5gD7AH2APsAfYAeyC9B1b/UolACFQRoABUhW3KIBxn2nHCBjbsAfYAe4A9wB5gD7AH2APsAfZAa3tgyvdDxkJgPQIUgNZjfZfUmjNDXwIwe4A9wB5gD7AH2APsAfYAe4A9wB5I74HVv1QiEAJVBCgAVWGbMgjHmXacsIENe4A9wB5gD7AH2APsAfYAe4A90NoemPL9kLEQWI8ABaD1WN8ltebM0JcAzB5gD7AH2APsAfYAe4A9wB5gD7AH0ntg9S+VCIRAFQEKQFXYpgzCcaYdJ2xgwx5gD7AH2APsAfYAe4A9wB5gD7S2B6Z8P2QsBNYjQAFoPdZ3Sa05M/QlALMH2APsAfYAe4A9wB5gD7AH2APsgfQeWP1LJQIhUEWAAlAVtimDcJxpxwkb2LAH2APsAfYAe4A9wB5gD7AH2AOt7YEp3w8ZC4H1CFAAWo/1XVJrzgx9CcDsAfYAe4A9wB5gD7AH2APsAfYAeyC9B1b/UolACFQRoABUhW3KIBxn2nHCBjbsAfYAe4A9wB5gD7AH2APsAfZAa3tgyvdDxkJgPQIUgNZjjSQIQAACEIAABCAAAQhAAAIQgAAEILAJAQpAm2BHKAQgAAEIQAACEIAABCAAAQhAAAIQWI8ABaD1WCMJAhCAAAQgAAEIQAACEIAABCAAAQhsQoAC0CbYEQoBCEAAAhCAAAQgAAEIQAACEIAABNYjQAFoPdZIggAEIAABCEAAAhCAAAQgAAEIQAACmxCgALQJdoRCAAIQgAAEIAABCEAAAhCAAAQgAIH1CFAAWo81kiAAAQhAAAIQgAAEIAABCEAAAhCAwCYEKABtgh2hEIAABCAAAQhAAAIQgAAEIAABCEBgPQIUgNZjjSQIQAACEIAABCAAAQhAAAIQgAAEILAJAQpAm2BHKAQgAAEIQAACEIAABCAAAQhAAAIQWI8ABaD1WCMJAhCAAAQgAAEIQAACEIAABCAAAQhsQoAC0CbYEQoBCEAAAhCAAAQgAAEIQAACEIAABNYjQAFoPdZIggAEIAABCEAAAhCAAAQgAAEIQAACmxCgALQJdoRCAAIQgAAEIAABCEAAAhCAAAQgAIH1CFAAWo81kiAAAQhAAAIQgAAEIAABCEAAAhCAwCYEKABtgh2hEIAABCAAAQhAAAIQgAAEIAABCEBgPQIUgNZjjSQIQAACEIAABCAAAQhAAAIQgAAEILAJAQpAm2BHKAQgAAEIQAACEIAABCAAAQhAAAIQWI8ABaD1WCMJAhCAAAQgAAEIQAACEIAABCAAAQhsQoAC0CbYEQoBCEAAAhCAAAQgAAEIQAACEIAABNYjQAFoPdZIggAEIAABCEAAAhCAAAQgAAEIQAACmxCgALQJdoRCAAIQgAAEIAABCEAAAhCAAAQgAIH1CFAAWo81kiAAAQhAAAIQgAAEIAABCEAAAhCAwCYEKABtgh2hEIAABCAAAQhAAAIQgAAEIAABCEBgPQIUgNZjjSQIQAACEIAABCAAAQhAAAIQgAAEILAJAQpAm2BHKAQgAAEIQAACEIAABCAAAQhAAAIQWI8ABaD1WCMJAhCAAAQgAAEIQAACEIAABCAAAQhsQoAC0CbYEQoBCEAAAhCAAAQgAAEIQAACEIAABNYjQAFoPdZIggAEIAABCEAAAhCAAAQgAAEIQAACmxCgALQJdoRCAAIQgAAEIAABCEAAAhCAAAQgAIH1CFAAWo81kiAAAQhAAAIQgAAEIAABCEAAAhCAwCYEKABtgh2hEIAABCAAAQhAAAIQgAAEIAABCEBgPQIUgNZjjSQIQAACEIAABCAAAQhAAAIQgAAEILAJAQpAm2BHKAQgAAEIQAACEIAABCAAAQhAAAIQWI8ABaD1WCMJAhCAAAQgAAEIQAACEIAABCAAAQhsQoAC0CbYEQoBCEAAAhCAAAQgAAEIQAACEIAABNYjQAFoPdZIggAEIAABCEAAAhCAAAQgAAEIQAACmxCgALQJdoRCAAIQgAAEIAABCEAAAhCAAAQgAIH1CFAAWo81kiAAAQhAAAIQgAAEIAABCEAAAhCAwCYEKABtgh2hEIAABCAAAQhAAAIQgAAEIAABCEBgPQIUgNZjjSQIQAACEIAABCAAAQhAAAIQgAAEILAJAQpAm2BHKAQgAAEIQAACEIAABCAAAQhAAAIQWI8ABaD1WCMJAhCAAAQgAAEIQAACEIAABCAAAQhsQoAC0CbYEQoBCEAAAhCAAAQgAAEIQAACEIAABNYjQAFoPdZIggAEIAABCEAAAhCAAAQgAAEIQAACmxCgALQJdoRCAAIQgAAEIAABCEAAAhCAAAQgAIH1CFAAWo81kiAAAQhAAAIQgAAEIAABCEAAAhCAwCYEKABtgh2hEIAABCAAAQhAAAIQgAAEIAABCEBgPQIUgNZjjSQIQAACEIAABCAAAQhAAAIQgAAEILAJAQpAKOBghwAAAUJJREFUm2BHKAQgAAEIQAACEIAABCAAAQhAAAIQWI8ABaD1WCMJAhCAAAQgAAEIQAACEIAABCAAAQhsQoAC0CbYEQoBCEAAAhCAAAQgAAEIQAACEIAABNYjQAFoPdZIggAEIAABCEAAAhCAAAQgAAEIQAACmxCgALQJdoRCAAIQgAAEIAABCEAAAhCAAAQgAIH1CFAAWo81kiAAAQhAAAIQgAAEIAABCEAAAhCAwCYEKABtgh2hEIAABCAAAQhAAAIQgAAEIAABCEBgPQIUgNZjjSQIQAACEIAABCAAAQhAAAIQgAAEILAJAQpAm2BHKAQgAAEIQAACEIAABCAAAQhAAAIQWI8ABaD1WCMJAhCAAAQgAAEIQAACEIAABCAAAQhsQoAC0CbYEQoBCEAAAhCAAAQgAAEIQAACEIAABNYj8P8BUoQOYrKT++cAAAAASUVORK5CYII=)"
            ],
            "metadata": {
                "azdata_cell_guid": "121f21fb-e94d-4506-8329-5211ff54d5e4"
            }
        },
        {
            "cell_type": "code",
            "source": [
                "Select [LV],[Student],SUM([Punkte]) as [Punkte] from  [dbo].[StudentInformation]\r\n",
                "Group by [LV],[Student] with ROLLUP"
            ],
            "metadata": {
                "azdata_cell_guid": "aff7de43-4021-4053-8520-f69180c25398",
                "tags": []
            },
            "outputs": [
                {
                    "output_type": "display_data",
                    "data": {
                        "text/html": "(16 rows affected)"
                    },
                    "metadata": {}
                },
                {
                    "output_type": "display_data",
                    "data": {
                        "text/html": "Total execution time: 00:00:00.012"
                    },
                    "metadata": {}
                },
                {
                    "output_type": "execute_result",
                    "metadata": {},
                    "execution_count": 16,
                    "data": {
                        "application/vnd.dataresource+json": {
                            "schema": {
                                "fields": [
                                    {
                                        "name": "LV"
                                    },
                                    {
                                        "name": "Student"
                                    },
                                    {
                                        "name": "Punkte"
                                    }
                                ]
                            },
                            "data": [
                                {
                                    "0": "LV 1",
                                    "1": "Student 1",
                                    "2": "19"
                                },
                                {
                                    "0": "LV 1",
                                    "1": "Student 2",
                                    "2": "13"
                                },
                                {
                                    "0": "LV 1",
                                    "1": "Student 3",
                                    "2": "11"
                                },
                                {
                                    "0": "LV 1",
                                    "1": "NULL",
                                    "2": "43"
                                },
                                {
                                    "0": "LV 2",
                                    "1": "Student 1",
                                    "2": "9"
                                },
                                {
                                    "0": "LV 2",
                                    "1": "Student 2",
                                    "2": "29"
                                },
                                {
                                    "0": "LV 2",
                                    "1": "Student 3",
                                    "2": "7"
                                },
                                {
                                    "0": "LV 2",
                                    "1": "NULL",
                                    "2": "45"
                                },
                                {
                                    "0": "LV 3",
                                    "1": "Student 1",
                                    "2": "3"
                                },
                                {
                                    "0": "LV 3",
                                    "1": "Student 2",
                                    "2": "12"
                                },
                                {
                                    "0": "LV 3",
                                    "1": "Student 3",
                                    "2": "11"
                                },
                                {
                                    "0": "LV 3",
                                    "1": "NULL",
                                    "2": "26"
                                },
                                {
                                    "0": "LV 4",
                                    "1": "Student 1",
                                    "2": "5"
                                },
                                {
                                    "0": "LV 4",
                                    "1": "Student 2",
                                    "2": "17"
                                },
                                {
                                    "0": "LV 4",
                                    "1": "NULL",
                                    "2": "22"
                                },
                                {
                                    "0": "NULL",
                                    "1": "NULL",
                                    "2": "136"
                                }
                            ]
                        },
                        "text/html": [
                            "<table>",
                            "<tr><th>LV</th><th>Student</th><th>Punkte</th></tr>",
                            "<tr><td>LV 1</td><td>Student 1</td><td>19</td></tr>",
                            "<tr><td>LV 1</td><td>Student 2</td><td>13</td></tr>",
                            "<tr><td>LV 1</td><td>Student 3</td><td>11</td></tr>",
                            "<tr><td>LV 1</td><td>NULL</td><td>43</td></tr>",
                            "<tr><td>LV 2</td><td>Student 1</td><td>9</td></tr>",
                            "<tr><td>LV 2</td><td>Student 2</td><td>29</td></tr>",
                            "<tr><td>LV 2</td><td>Student 3</td><td>7</td></tr>",
                            "<tr><td>LV 2</td><td>NULL</td><td>45</td></tr>",
                            "<tr><td>LV 3</td><td>Student 1</td><td>3</td></tr>",
                            "<tr><td>LV 3</td><td>Student 2</td><td>12</td></tr>",
                            "<tr><td>LV 3</td><td>Student 3</td><td>11</td></tr>",
                            "<tr><td>LV 3</td><td>NULL</td><td>26</td></tr>",
                            "<tr><td>LV 4</td><td>Student 1</td><td>5</td></tr>",
                            "<tr><td>LV 4</td><td>Student 2</td><td>17</td></tr>",
                            "<tr><td>LV 4</td><td>NULL</td><td>22</td></tr>",
                            "<tr><td>NULL</td><td>NULL</td><td>136</td></tr>",
                            "</table>"
                        ]
                    }
                }
            ],
            "execution_count": 16
        },
        {
            "cell_type": "code",
            "source": [
                "Select [LV],[Student],AVG([Punkte]) as [Punkte] from  [dbo].[StudentInformation]\r\n",
                "Group by ROLLUP ([LV],[Student])"
            ],
            "metadata": {
                "azdata_cell_guid": "6dfa2e3f-9900-4281-abeb-2b6a87b23644"
            },
            "outputs": [
                {
                    "output_type": "display_data",
                    "data": {
                        "text/html": "(16 rows affected)"
                    },
                    "metadata": {}
                },
                {
                    "output_type": "display_data",
                    "data": {
                        "text/html": "Total execution time: 00:00:00.013"
                    },
                    "metadata": {}
                },
                {
                    "output_type": "execute_result",
                    "metadata": {},
                    "execution_count": 17,
                    "data": {
                        "application/vnd.dataresource+json": {
                            "schema": {
                                "fields": [
                                    {
                                        "name": "LV"
                                    },
                                    {
                                        "name": "Student"
                                    },
                                    {
                                        "name": "Punkte"
                                    }
                                ]
                            },
                            "data": [
                                {
                                    "0": "LV 1",
                                    "1": "Student 1",
                                    "2": "19"
                                },
                                {
                                    "0": "LV 1",
                                    "1": "Student 2",
                                    "2": "13"
                                },
                                {
                                    "0": "LV 1",
                                    "1": "Student 3",
                                    "2": "11"
                                },
                                {
                                    "0": "LV 1",
                                    "1": "NULL",
                                    "2": "14"
                                },
                                {
                                    "0": "LV 2",
                                    "1": "Student 1",
                                    "2": "9"
                                },
                                {
                                    "0": "LV 2",
                                    "1": "Student 2",
                                    "2": "29"
                                },
                                {
                                    "0": "LV 2",
                                    "1": "Student 3",
                                    "2": "7"
                                },
                                {
                                    "0": "LV 2",
                                    "1": "NULL",
                                    "2": "15"
                                },
                                {
                                    "0": "LV 3",
                                    "1": "Student 1",
                                    "2": "3"
                                },
                                {
                                    "0": "LV 3",
                                    "1": "Student 2",
                                    "2": "12"
                                },
                                {
                                    "0": "LV 3",
                                    "1": "Student 3",
                                    "2": "11"
                                },
                                {
                                    "0": "LV 3",
                                    "1": "NULL",
                                    "2": "8"
                                },
                                {
                                    "0": "LV 4",
                                    "1": "Student 1",
                                    "2": "5"
                                },
                                {
                                    "0": "LV 4",
                                    "1": "Student 2",
                                    "2": "17"
                                },
                                {
                                    "0": "LV 4",
                                    "1": "NULL",
                                    "2": "11"
                                },
                                {
                                    "0": "NULL",
                                    "1": "NULL",
                                    "2": "12"
                                }
                            ]
                        },
                        "text/html": [
                            "<table>",
                            "<tr><th>LV</th><th>Student</th><th>Punkte</th></tr>",
                            "<tr><td>LV 1</td><td>Student 1</td><td>19</td></tr>",
                            "<tr><td>LV 1</td><td>Student 2</td><td>13</td></tr>",
                            "<tr><td>LV 1</td><td>Student 3</td><td>11</td></tr>",
                            "<tr><td>LV 1</td><td>NULL</td><td>14</td></tr>",
                            "<tr><td>LV 2</td><td>Student 1</td><td>9</td></tr>",
                            "<tr><td>LV 2</td><td>Student 2</td><td>29</td></tr>",
                            "<tr><td>LV 2</td><td>Student 3</td><td>7</td></tr>",
                            "<tr><td>LV 2</td><td>NULL</td><td>15</td></tr>",
                            "<tr><td>LV 3</td><td>Student 1</td><td>3</td></tr>",
                            "<tr><td>LV 3</td><td>Student 2</td><td>12</td></tr>",
                            "<tr><td>LV 3</td><td>Student 3</td><td>11</td></tr>",
                            "<tr><td>LV 3</td><td>NULL</td><td>8</td></tr>",
                            "<tr><td>LV 4</td><td>Student 1</td><td>5</td></tr>",
                            "<tr><td>LV 4</td><td>Student 2</td><td>17</td></tr>",
                            "<tr><td>LV 4</td><td>NULL</td><td>11</td></tr>",
                            "<tr><td>NULL</td><td>NULL</td><td>12</td></tr>",
                            "</table>"
                        ]
                    }
                }
            ],
            "execution_count": 17
        },
        {
            "cell_type": "code",
            "source": [
                "Select [LV],[Student],AVG([Punkte]) as [AVG], Sum(Punkte) as [Sum] from  [dbo].[StudentInformation]\r\n",
                "Group by ROLLUP ([LV],[Student])"
            ],
            "metadata": {
                "azdata_cell_guid": "0347a6c8-4f77-416c-b7a7-98ec1cd101aa"
            },
            "outputs": [],
            "execution_count": null
        },
        {
            "cell_type": "code",
            "source": [
                "Select [LV],[Student],AVG([Punkte]) as [Punkte] ,\r\n",
                "GROUPING_ID( [LV],[Student]) as GroupingID \r\n",
                "from  [dbo].[StudentInformation]\r\n",
                "Group by [LV],[Student] with ROLLUP"
            ],
            "metadata": {
                "azdata_cell_guid": "960706a5-8cb7-4677-8244-6cfc78870c5b",
                "tags": [
                    "hide_input"
                ]
            },
            "outputs": [],
            "execution_count": null
        },
        {
            "cell_type": "code",
            "source": [
                "Select [LV],[Student],AVG([Punkte]) as [Punkte] from  [dbo].[StudentInformation]\r\n",
                "Group by [Student],[LV] with ROLLUP"
            ],
            "metadata": {
                "azdata_cell_guid": "aa3e1b92-6888-4edd-ab1c-c674e4c544ab"
            },
            "outputs": [],
            "execution_count": null
        },
        {
            "cell_type": "markdown",
            "source": [
                "# CUBE\n",
                "\n",
                "\\= ist die Kombination der beiden oben beschriebenen Rollup Funktionen"
            ],
            "metadata": {
                "azdata_cell_guid": "07cfcfd6-d442-4eb6-bc74-fc0bc109bb6a"
            }
        },
        {
            "cell_type": "code",
            "source": [
                "Select [LV],[Student],AVG([Punkte]) as [Punkte] from  [dbo].[StudentInformation]\r\n",
                "Group by [LV],[Student] with CUBE"
            ],
            "metadata": {
                "azdata_cell_guid": "2742c772-c95a-4a72-af6b-2fbcf3772486"
            },
            "outputs": [
                {
                    "output_type": "display_data",
                    "data": {
                        "text/html": "(19 rows affected)"
                    },
                    "metadata": {}
                },
                {
                    "output_type": "display_data",
                    "data": {
                        "text/html": "Total execution time: 00:00:00.025"
                    },
                    "metadata": {}
                },
                {
                    "output_type": "execute_result",
                    "metadata": {},
                    "execution_count": 22,
                    "data": {
                        "application/vnd.dataresource+json": {
                            "schema": {
                                "fields": [
                                    {
                                        "name": "LV"
                                    },
                                    {
                                        "name": "Student"
                                    },
                                    {
                                        "name": "Punkte"
                                    }
                                ]
                            },
                            "data": [
                                {
                                    "0": "LV 1",
                                    "1": "Student 1",
                                    "2": "19"
                                },
                                {
                                    "0": "LV 2",
                                    "1": "Student 1",
                                    "2": "9"
                                },
                                {
                                    "0": "LV 3",
                                    "1": "Student 1",
                                    "2": "3"
                                },
                                {
                                    "0": "LV 4",
                                    "1": "Student 1",
                                    "2": "5"
                                },
                                {
                                    "0": "NULL",
                                    "1": "Student 1",
                                    "2": "9"
                                },
                                {
                                    "0": "LV 1",
                                    "1": "Student 2",
                                    "2": "13"
                                },
                                {
                                    "0": "LV 2",
                                    "1": "Student 2",
                                    "2": "29"
                                },
                                {
                                    "0": "LV 3",
                                    "1": "Student 2",
                                    "2": "12"
                                },
                                {
                                    "0": "LV 4",
                                    "1": "Student 2",
                                    "2": "17"
                                },
                                {
                                    "0": "NULL",
                                    "1": "Student 2",
                                    "2": "17"
                                },
                                {
                                    "0": "LV 1",
                                    "1": "Student 3",
                                    "2": "11"
                                },
                                {
                                    "0": "LV 2",
                                    "1": "Student 3",
                                    "2": "7"
                                },
                                {
                                    "0": "LV 3",
                                    "1": "Student 3",
                                    "2": "11"
                                },
                                {
                                    "0": "NULL",
                                    "1": "Student 3",
                                    "2": "9"
                                },
                                {
                                    "0": "NULL",
                                    "1": "NULL",
                                    "2": "12"
                                },
                                {
                                    "0": "LV 1",
                                    "1": "NULL",
                                    "2": "14"
                                },
                                {
                                    "0": "LV 2",
                                    "1": "NULL",
                                    "2": "15"
                                },
                                {
                                    "0": "LV 3",
                                    "1": "NULL",
                                    "2": "8"
                                },
                                {
                                    "0": "LV 4",
                                    "1": "NULL",
                                    "2": "11"
                                }
                            ]
                        },
                        "text/html": [
                            "<table>",
                            "<tr><th>LV</th><th>Student</th><th>Punkte</th></tr>",
                            "<tr><td>LV 1</td><td>Student 1</td><td>19</td></tr>",
                            "<tr><td>LV 2</td><td>Student 1</td><td>9</td></tr>",
                            "<tr><td>LV 3</td><td>Student 1</td><td>3</td></tr>",
                            "<tr><td>LV 4</td><td>Student 1</td><td>5</td></tr>",
                            "<tr><td>NULL</td><td>Student 1</td><td>9</td></tr>",
                            "<tr><td>LV 1</td><td>Student 2</td><td>13</td></tr>",
                            "<tr><td>LV 2</td><td>Student 2</td><td>29</td></tr>",
                            "<tr><td>LV 3</td><td>Student 2</td><td>12</td></tr>",
                            "<tr><td>LV 4</td><td>Student 2</td><td>17</td></tr>",
                            "<tr><td>NULL</td><td>Student 2</td><td>17</td></tr>",
                            "<tr><td>LV 1</td><td>Student 3</td><td>11</td></tr>",
                            "<tr><td>LV 2</td><td>Student 3</td><td>7</td></tr>",
                            "<tr><td>LV 3</td><td>Student 3</td><td>11</td></tr>",
                            "<tr><td>NULL</td><td>Student 3</td><td>9</td></tr>",
                            "<tr><td>NULL</td><td>NULL</td><td>12</td></tr>",
                            "<tr><td>LV 1</td><td>NULL</td><td>14</td></tr>",
                            "<tr><td>LV 2</td><td>NULL</td><td>15</td></tr>",
                            "<tr><td>LV 3</td><td>NULL</td><td>8</td></tr>",
                            "<tr><td>LV 4</td><td>NULL</td><td>11</td></tr>",
                            "</table>"
                        ]
                    }
                }
            ],
            "execution_count": 22
        },
        {
            "cell_type": "code",
            "source": [
                "Select [LV],[Student],AVG([Punkte]) as [Punkte] from  [dbo].[StudentInformation]\r\n",
                "Group by ROLLUP ([LV],[Student])\r\n",
                "UNION\r\n",
                "Select [LV],[Student],AVG([Punkte]) as [Punkte] from  [dbo].[StudentInformation]\r\n",
                "Group by ROLLUP ([Student],[LV])"
            ],
            "metadata": {
                "azdata_cell_guid": "a45d1e77-6a32-4428-897f-2c2b83fdb142",
                "tags": []
            },
            "outputs": [
                {
                    "output_type": "display_data",
                    "data": {
                        "text/html": "(19 rows affected)"
                    },
                    "metadata": {}
                },
                {
                    "output_type": "display_data",
                    "data": {
                        "text/html": "Total execution time: 00:00:00.018"
                    },
                    "metadata": {}
                },
                {
                    "output_type": "execute_result",
                    "metadata": {},
                    "execution_count": 23,
                    "data": {
                        "application/vnd.dataresource+json": {
                            "schema": {
                                "fields": [
                                    {
                                        "name": "LV"
                                    },
                                    {
                                        "name": "Student"
                                    },
                                    {
                                        "name": "Punkte"
                                    }
                                ]
                            },
                            "data": [
                                {
                                    "0": "NULL",
                                    "1": "NULL",
                                    "2": "12"
                                },
                                {
                                    "0": "NULL",
                                    "1": "Student 1",
                                    "2": "9"
                                },
                                {
                                    "0": "NULL",
                                    "1": "Student 2",
                                    "2": "17"
                                },
                                {
                                    "0": "NULL",
                                    "1": "Student 3",
                                    "2": "9"
                                },
                                {
                                    "0": "LV 1",
                                    "1": "NULL",
                                    "2": "14"
                                },
                                {
                                    "0": "LV 1",
                                    "1": "Student 1",
                                    "2": "19"
                                },
                                {
                                    "0": "LV 1",
                                    "1": "Student 2",
                                    "2": "13"
                                },
                                {
                                    "0": "LV 1",
                                    "1": "Student 3",
                                    "2": "11"
                                },
                                {
                                    "0": "LV 2",
                                    "1": "NULL",
                                    "2": "15"
                                },
                                {
                                    "0": "LV 2",
                                    "1": "Student 1",
                                    "2": "9"
                                },
                                {
                                    "0": "LV 2",
                                    "1": "Student 2",
                                    "2": "29"
                                },
                                {
                                    "0": "LV 2",
                                    "1": "Student 3",
                                    "2": "7"
                                },
                                {
                                    "0": "LV 3",
                                    "1": "NULL",
                                    "2": "8"
                                },
                                {
                                    "0": "LV 3",
                                    "1": "Student 1",
                                    "2": "3"
                                },
                                {
                                    "0": "LV 3",
                                    "1": "Student 2",
                                    "2": "12"
                                },
                                {
                                    "0": "LV 3",
                                    "1": "Student 3",
                                    "2": "11"
                                },
                                {
                                    "0": "LV 4",
                                    "1": "NULL",
                                    "2": "11"
                                },
                                {
                                    "0": "LV 4",
                                    "1": "Student 1",
                                    "2": "5"
                                },
                                {
                                    "0": "LV 4",
                                    "1": "Student 2",
                                    "2": "17"
                                }
                            ]
                        },
                        "text/html": [
                            "<table>",
                            "<tr><th>LV</th><th>Student</th><th>Punkte</th></tr>",
                            "<tr><td>NULL</td><td>NULL</td><td>12</td></tr>",
                            "<tr><td>NULL</td><td>Student 1</td><td>9</td></tr>",
                            "<tr><td>NULL</td><td>Student 2</td><td>17</td></tr>",
                            "<tr><td>NULL</td><td>Student 3</td><td>9</td></tr>",
                            "<tr><td>LV 1</td><td>NULL</td><td>14</td></tr>",
                            "<tr><td>LV 1</td><td>Student 1</td><td>19</td></tr>",
                            "<tr><td>LV 1</td><td>Student 2</td><td>13</td></tr>",
                            "<tr><td>LV 1</td><td>Student 3</td><td>11</td></tr>",
                            "<tr><td>LV 2</td><td>NULL</td><td>15</td></tr>",
                            "<tr><td>LV 2</td><td>Student 1</td><td>9</td></tr>",
                            "<tr><td>LV 2</td><td>Student 2</td><td>29</td></tr>",
                            "<tr><td>LV 2</td><td>Student 3</td><td>7</td></tr>",
                            "<tr><td>LV 3</td><td>NULL</td><td>8</td></tr>",
                            "<tr><td>LV 3</td><td>Student 1</td><td>3</td></tr>",
                            "<tr><td>LV 3</td><td>Student 2</td><td>12</td></tr>",
                            "<tr><td>LV 3</td><td>Student 3</td><td>11</td></tr>",
                            "<tr><td>LV 4</td><td>NULL</td><td>11</td></tr>",
                            "<tr><td>LV 4</td><td>Student 1</td><td>5</td></tr>",
                            "<tr><td>LV 4</td><td>Student 2</td><td>17</td></tr>",
                            "</table>"
                        ]
                    }
                }
            ],
            "execution_count": 23
        },
        {
            "cell_type": "code",
            "source": [
                "Select [LV],[Student],AVG([Punkte]) as [Punkte] from  [dbo].[StudentInformation]\r\n",
                "Group by CUBE([LV],[Student])"
            ],
            "metadata": {
                "azdata_cell_guid": "c64fdf3f-d48e-4ef1-bcd1-ae724d787bf5"
            },
            "outputs": [],
            "execution_count": null
        },
        {
            "cell_type": "code",
            "source": [
                "Select [LV],[Student],AVG([Punkte]) as [Punkte] ,\r\n",
                "GROUPING_ID( [LV],[Student]) as GroupingID \r\n",
                "from  [dbo].[StudentInformation]\r\n",
                "Group by [LV],[Student] with CUBE"
            ],
            "metadata": {
                "azdata_cell_guid": "1a7d9f1d-28d3-4061-9b13-e6af2b644da2",
                "tags": [
                    "hide_input"
                ]
            },
            "outputs": [],
            "execution_count": null
        },
        {
            "cell_type": "markdown",
            "source": [
                "# GROUPING SETS\n",
                "\n",
                "\\= die Möglichkeit ausgewählte Aggregierungen zu bekommen"
            ],
            "metadata": {
                "azdata_cell_guid": "9761e93c-2711-47f2-8a00-c0f7abc8e66a"
            }
        },
        {
            "cell_type": "code",
            "source": [
                "-- keine Aggregierungen\r\n",
                "SELECT [LV],[Student],AVG([Punkte]) as [Punkte] ,\r\n",
                "GROUPING_ID( [LV],[Student]) as GroupingID \r\n",
                "FROM [dbo].[StudentInformation] \r\n",
                "GROUP BY GROUPING SETS(([LV], [Student])) "
            ],
            "metadata": {
                "azdata_cell_guid": "c1787f02-a2ce-49c5-ae52-949f4840cbde"
            },
            "outputs": [
                {
                    "output_type": "display_data",
                    "data": {
                        "text/html": "(11 rows affected)"
                    },
                    "metadata": {}
                },
                {
                    "output_type": "display_data",
                    "data": {
                        "text/html": "Total execution time: 00:00:00.039"
                    },
                    "metadata": {}
                },
                {
                    "output_type": "execute_result",
                    "metadata": {},
                    "execution_count": 6,
                    "data": {
                        "application/vnd.dataresource+json": {
                            "schema": {
                                "fields": [
                                    {
                                        "name": "LV"
                                    },
                                    {
                                        "name": "Student"
                                    },
                                    {
                                        "name": "Punkte"
                                    },
                                    {
                                        "name": "GroupingID"
                                    }
                                ]
                            },
                            "data": [
                                {
                                    "0": "LV 1",
                                    "1": "Student 1",
                                    "2": "10",
                                    "3": "0"
                                },
                                {
                                    "0": "LV 2",
                                    "1": "Student 1",
                                    "2": "9",
                                    "3": "0"
                                },
                                {
                                    "0": "LV 3",
                                    "1": "Student 1",
                                    "2": "3",
                                    "3": "0"
                                },
                                {
                                    "0": "LV 4",
                                    "1": "Student 1",
                                    "2": "5",
                                    "3": "0"
                                },
                                {
                                    "0": "LV 1",
                                    "1": "Student 2",
                                    "2": "13",
                                    "3": "0"
                                },
                                {
                                    "0": "LV 2",
                                    "1": "Student 2",
                                    "2": "29",
                                    "3": "0"
                                },
                                {
                                    "0": "LV 3",
                                    "1": "Student 2",
                                    "2": "12",
                                    "3": "0"
                                },
                                {
                                    "0": "LV 4",
                                    "1": "Student 2",
                                    "2": "17",
                                    "3": "0"
                                },
                                {
                                    "0": "LV 1",
                                    "1": "Student 3",
                                    "2": "11",
                                    "3": "0"
                                },
                                {
                                    "0": "LV 2",
                                    "1": "Student 3",
                                    "2": "7",
                                    "3": "0"
                                },
                                {
                                    "0": "LV 3",
                                    "1": "Student 3",
                                    "2": "11",
                                    "3": "0"
                                }
                            ]
                        },
                        "text/html": [
                            "<table>",
                            "<tr><th>LV</th><th>Student</th><th>Punkte</th><th>GroupingID</th></tr>",
                            "<tr><td>LV 1</td><td>Student 1</td><td>10</td><td>0</td></tr>",
                            "<tr><td>LV 2</td><td>Student 1</td><td>9</td><td>0</td></tr>",
                            "<tr><td>LV 3</td><td>Student 1</td><td>3</td><td>0</td></tr>",
                            "<tr><td>LV 4</td><td>Student 1</td><td>5</td><td>0</td></tr>",
                            "<tr><td>LV 1</td><td>Student 2</td><td>13</td><td>0</td></tr>",
                            "<tr><td>LV 2</td><td>Student 2</td><td>29</td><td>0</td></tr>",
                            "<tr><td>LV 3</td><td>Student 2</td><td>12</td><td>0</td></tr>",
                            "<tr><td>LV 4</td><td>Student 2</td><td>17</td><td>0</td></tr>",
                            "<tr><td>LV 1</td><td>Student 3</td><td>11</td><td>0</td></tr>",
                            "<tr><td>LV 2</td><td>Student 3</td><td>7</td><td>0</td></tr>",
                            "<tr><td>LV 3</td><td>Student 3</td><td>11</td><td>0</td></tr>",
                            "</table>"
                        ]
                    }
                }
            ],
            "execution_count": 6
        },
        {
            "cell_type": "code",
            "source": [
                "-- liefert nur Aggregierung für Studenten + LV\r\n",
                "SELECT [LV],[Student],AVG([Punkte]) as [Punkte] ,\r\n",
                "GROUPING_ID( [LV],[Student]) as GroupingID \r\n",
                "FROM [dbo].[StudentInformation] \r\n",
                "GROUP BY GROUPING SETS([LV],[Student]) "
            ],
            "metadata": {
                "azdata_cell_guid": "ec50e84d-7ef6-4fae-a503-257a9db8ada7",
                "tags": []
            },
            "outputs": [
                {
                    "output_type": "display_data",
                    "data": {
                        "text/html": "(7 rows affected)"
                    },
                    "metadata": {}
                },
                {
                    "output_type": "display_data",
                    "data": {
                        "text/html": "Total execution time: 00:00:00.018"
                    },
                    "metadata": {}
                },
                {
                    "output_type": "execute_result",
                    "metadata": {},
                    "execution_count": 24,
                    "data": {
                        "application/vnd.dataresource+json": {
                            "schema": {
                                "fields": [
                                    {
                                        "name": "LV"
                                    },
                                    {
                                        "name": "Student"
                                    },
                                    {
                                        "name": "Punkte"
                                    },
                                    {
                                        "name": "GroupingID"
                                    }
                                ]
                            },
                            "data": [
                                {
                                    "0": "NULL",
                                    "1": "Student 1",
                                    "2": "9",
                                    "3": "2"
                                },
                                {
                                    "0": "NULL",
                                    "1": "Student 2",
                                    "2": "17",
                                    "3": "2"
                                },
                                {
                                    "0": "NULL",
                                    "1": "Student 3",
                                    "2": "9",
                                    "3": "2"
                                },
                                {
                                    "0": "LV 1",
                                    "1": "NULL",
                                    "2": "14",
                                    "3": "1"
                                },
                                {
                                    "0": "LV 2",
                                    "1": "NULL",
                                    "2": "15",
                                    "3": "1"
                                },
                                {
                                    "0": "LV 3",
                                    "1": "NULL",
                                    "2": "8",
                                    "3": "1"
                                },
                                {
                                    "0": "LV 4",
                                    "1": "NULL",
                                    "2": "11",
                                    "3": "1"
                                }
                            ]
                        },
                        "text/html": [
                            "<table>",
                            "<tr><th>LV</th><th>Student</th><th>Punkte</th><th>GroupingID</th></tr>",
                            "<tr><td>NULL</td><td>Student 1</td><td>9</td><td>2</td></tr>",
                            "<tr><td>NULL</td><td>Student 2</td><td>17</td><td>2</td></tr>",
                            "<tr><td>NULL</td><td>Student 3</td><td>9</td><td>2</td></tr>",
                            "<tr><td>LV 1</td><td>NULL</td><td>14</td><td>1</td></tr>",
                            "<tr><td>LV 2</td><td>NULL</td><td>15</td><td>1</td></tr>",
                            "<tr><td>LV 3</td><td>NULL</td><td>8</td><td>1</td></tr>",
                            "<tr><td>LV 4</td><td>NULL</td><td>11</td><td>1</td></tr>",
                            "</table>"
                        ]
                    }
                }
            ],
            "execution_count": 24
        },
        {
            "cell_type": "code",
            "source": [
                "-- mehrere Kombinierbar\r\n",
                "SELECT [LV],[Student],AVG([Punkte]) as [Punkte] ,\r\n",
                "GROUPING_ID( [LV],[Student]) as GroupingID \r\n",
                "FROM [dbo].[StudentInformation] \r\n",
                "--GROUP BY GROUPING SETS([LV], [Student],([LV], [Student]),()) \r\n",
                "GROUP BY GROUPING SETS(([LV], [Student]),()) "
            ],
            "metadata": {
                "azdata_cell_guid": "b6ed5ed8-b9b5-450a-8d72-7dfff5cdf853",
                "tags": []
            },
            "outputs": [],
            "execution_count": null
        },
        {
            "cell_type": "code",
            "source": [
                "-- auch kombinierbar mit Rollup and Cube\r\n",
                "SELECT [LV],[Student],AVG([Punkte]) as [Punkte] ,\r\n",
                "GROUPING_ID( [LV],[Student]) as GroupingID \r\n",
                "FROM [dbo].[StudentInformation] \r\n",
                "GROUP BY GROUPING SETS(CUBE([LV], [Student])) "
            ],
            "metadata": {
                "azdata_cell_guid": "b42f2ab7-969f-414b-b509-da5385ccce66"
            },
            "outputs": [],
            "execution_count": null
        }
    ]
}