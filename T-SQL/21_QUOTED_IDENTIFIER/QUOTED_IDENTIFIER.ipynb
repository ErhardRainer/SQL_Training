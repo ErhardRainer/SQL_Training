{
    "metadata": {
        "kernelspec": {
            "name": "SQL",
            "display_name": "SQL",
            "language": "sql"
        },
        "language_info": {
            "name": "sql",
            "version": ""
        }
    },
    "nbformat_minor": 2,
    "nbformat": 4,
    "cells": [
        {
            "cell_type": "markdown",
            "source": [
                "# Quoted Identifyer\n",
                "\n",
                "In relationalen Datenbanksystemen, insbesondere in SQL Server, gibt es bestimmte Schlüsselwörter, die spezielle Bedeutungen haben. Wenn man versucht, Tabellen oder Spalten mit diesen Schlüsselwörtern zu benennen, kann das zu Problemen führen. Das QUOTED\\_IDENTIFIER Setting ist eine Möglichkeit, solche Schlüsselwörter als Identifier (z.B. Tabellen- oder Spaltennamen) zu verwenden."
            ],
            "metadata": {
                "azdata_cell_guid": "a3951ea8-b987-4d33-b91e-3c12f367827a"
            },
            "attachments": {}
        },
        {
            "cell_type": "markdown",
            "source": [
                "## Datenbank Vorbereitung\n",
                "\n",
                "Dieser Abschnitt stellt sicher, dass die Datenbank \"QUOTED\\_IDENTIFIER\" verwendet wird. Zunächst wird zur MASTER-Datenbank gewechselt, dann die QUOTED\\_IDENTIFIER-Datenbank gelöscht (falls sie bereits existiert), und schließlich neu erstellt."
            ],
            "metadata": {
                "azdata_cell_guid": "738c2493-9558-45ea-a313-e75fe5ac8acf"
            },
            "attachments": {}
        },
        {
            "cell_type": "code",
            "source": [
                "-- Use MASTER\r\n",
                "-- Drop Database [QUOTED_IDENTIFIER]\r\n",
                "Create Database [QUOTED_IDENTIFIER]\r\n",
                "GO"
            ],
            "metadata": {
                "azdata_cell_guid": "d2e36046-8f9b-4cff-9d15-19d9502d5263",
                "language": "sql"
            },
            "outputs": [],
            "execution_count": null
        },
        {
            "cell_type": "markdown",
            "source": [
                "## QUOTED\\_IDENTIFIER OFF  \n",
                "\n",
                "Hier wird das QUOTED\\_IDENTIFIER-Setting auf OFF gesetzt. Wenn es ausgeschaltet ist, interpretiert SQL Server doppelte Anführungszeichen (\" \") als Zeichenkettenbegrenzer und eckige Klammern (\\[ \\]) als Begrenzer für Identifier."
            ],
            "metadata": {
                "language": "sql",
                "azdata_cell_guid": "79df9b87-883c-45b7-8f10-f5abdb13b5a4"
            },
            "attachments": {}
        },
        {
            "cell_type": "code",
            "source": [
                "SET QUOTED_IDENTIFIER OFF\r\n",
                "GO"
            ],
            "metadata": {
                "language": "sql",
                "azdata_cell_guid": "10e83f03-233b-4c7d-befc-1f88b9027380"
            },
            "outputs": [],
            "execution_count": null
        },
        {
            "cell_type": "markdown",
            "source": [
                "## Tabelle mit Schlüsselwörtern erstellen\n",
                "\n",
                "In diesem Abschnitt wird versucht, eine Tabelle mit dem Namen \"select\" zu erstellen. Aufgrund des eingeschalteten QUOTED\\_IDENTIFIER OFF-Settings schlägt dieser Versuch fehl."
            ],
            "metadata": {
                "azdata_cell_guid": "67f6cac8-7ba9-48b7-902a-76045a02fcc8"
            },
            "attachments": {}
        },
        {
            "cell_type": "code",
            "source": [
                "-- Create statement fails.\r\n",
                "CREATE TABLE \"select\" (\"identity\" INT IDENTITY NOT NULL, \"order\" INT NOT NULL);\r\n",
                "GO"
            ],
            "metadata": {
                "azdata_cell_guid": "43a28bc5-d83a-4135-8e8e-c7c8488e531a",
                "language": "sql"
            },
            "outputs": [],
            "execution_count": null
        },
        {
            "cell_type": "markdown",
            "source": [
                "## Korrekte Tabelle erstellen\n",
                "\n",
                "Hier wird erfolgreich eine Tabelle mit dem Namen \"select\" erstellt, indem eckige Klammern als Identifier-Begrenzer verwendet werden."
            ],
            "metadata": {
                "language": "sql",
                "azdata_cell_guid": "7306f8ee-2499-431a-9f87-763d423c502b"
            },
            "attachments": {}
        },
        {
            "cell_type": "code",
            "source": [
                "-- was aber geht:\r\n",
                "CREATE TABLE [select] ([identity] INT IDENTITY NOT NULL, [order] INT NOT NULL);"
            ],
            "metadata": {
                "azdata_cell_guid": "00af90f1-f292-4424-b84a-0d727f2baa2c",
                "language": "sql"
            },
            "outputs": [],
            "execution_count": null
        },
        {
            "cell_type": "markdown",
            "source": [
                "## QUOTED\\_IDENTIFIER ON  \n",
                "\n",
                "Jetzt wird QUOTED\\_IDENTIFIER auf ON gesetzt. Das bedeutet, dass doppelte Anführungszeichen als Identifier-Begrenzer verwendet werden."
            ],
            "metadata": {
                "language": "sql",
                "azdata_cell_guid": "af7a84e5-c3ca-43c0-8a8c-72b463657bb0"
            },
            "attachments": {}
        },
        {
            "cell_type": "code",
            "source": [
                "SET QUOTED_IDENTIFIER ON;\r\n",
                "GO"
            ],
            "metadata": {
                "language": "sql",
                "azdata_cell_guid": "d45a11b9-2e4b-4861-95fa-f7dd4f8f4523"
            },
            "outputs": [],
            "execution_count": null
        },
        {
            "cell_type": "markdown",
            "source": [
                "## Tabelle mit Schlüsselwörtern erstellen und abfragen  \n",
                "\n",
                "Mit dem QUOTED\\_IDENTIFIER ON-Setting kann man erfolgreich eine Tabelle namens \"select\" erstellen. Danach wird die Tabelle abgefragt und die Ergebnisse nach der Spalte \"order\" sortiert."
            ],
            "metadata": {
                "language": "sql",
                "azdata_cell_guid": "a909a71d-22d3-4644-a640-a8c7dcd34ef3"
            },
            "attachments": {}
        },
        {
            "cell_type": "code",
            "source": [
                "-- Create statement succeeds.\r\n",
                "Drop Table \"select\"\r\n",
                "\r\n",
                "CREATE TABLE \"select\" (\"identity\" INT IDENTITY NOT NULL, \"order\" INT NOT NULL);\r\n",
                "GO\r\n",
                "\r\n",
                "SELECT \"identity\",\"order\"\r\n",
                "FROM \"select\"\r\n",
                "ORDER BY \"order\";\r\n",
                "GO"
            ],
            "metadata": {
                "language": "sql",
                "azdata_cell_guid": "cc696e0f-d4ec-4d74-a805-fbe812cab5e9"
            },
            "outputs": [],
            "execution_count": null
        },
        {
            "cell_type": "markdown",
            "source": [
                "## Aufräumen\n",
                "\n",
                "Zum Schluss wird die Tabelle \"SELECT\" gelöscht und das QUOTED\\_IDENTIFIER-Setting zurück auf OFF gesetzt."
            ],
            "metadata": {
                "language": "sql",
                "azdata_cell_guid": "edc26d83-67ad-45ef-ae4b-2ab49113d989"
            },
            "attachments": {}
        },
        {
            "cell_type": "code",
            "source": [
                "DROP TABLE \"SELECT\";\r\n",
                "GO\r\n",
                "\r\n",
                "SET QUOTED_IDENTIFIER OFF;\r\n",
                "GO"
            ],
            "metadata": {
                "language": "sql",
                "azdata_cell_guid": "00ed1818-4ab7-44ad-9895-06d74eada537"
            },
            "outputs": [],
            "execution_count": null
        },
        {
            "cell_type": "markdown",
            "source": [
                "# Ergänzungen\n",
                "\n",
                "- Standardwert: Standardmäßig ist QUOTED\\_IDENTIFIER in SQL Server auf ON gesetzt.\n",
                "- Ansi-Standard: Das Verhalten von QUOTED\\_IDENTIFIER ON entspricht dem ANSI-Standard für SQL.\n",
                "- Verhalten bei Indexen: Mit QUOTED\\_IDENTIFIER OFF können keine indizierten Sichten oder indizierte berechnete Spalten erstellt werden.\n",
                "- Kompatibilitätsprobleme: Einige ältere Anwendungen und Tools funktionieren möglicherweise nicht korrekt, wenn QUOTED\\_IDENTIFIER auf ON gesetzt ist.\n",
                "- Tipp zum Best-Practice: Es sollte vermieden werden, SQL-Schlüsselwörter als Tabellen- oder Spaltennamen zu verwenden.\n",
                "- Connection String: Das QUOTED\\_IDENTIFIER-Setting kann über den Connection String festgelegt werden."
            ],
            "metadata": {
                "language": "sql",
                "azdata_cell_guid": "e0b09e59-73d0-4667-9a74-8ae943a19543"
            },
            "attachments": {}
        }
    ]
}