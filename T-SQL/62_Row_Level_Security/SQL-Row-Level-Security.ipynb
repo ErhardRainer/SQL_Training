{
    "metadata": {
        "kernelspec": {
            "name": "SQL",
            "display_name": "SQL",
            "language": "sql"
        },
        "language_info": {
            "name": "sql",
            "version": ""
        },
        "extensions": {
            "azuredatastudio": {
                "version": 1,
                "views": []
            }
        }
    },
    "nbformat_minor": 2,
    "nbformat": 4,
    "cells": [
        {
            "cell_type": "markdown",
            "source": [
                "# einfache Datenbank ohne Security\n",
                "\n",
                "Steps:\n",
                "\n",
                "1. Vorbereitung: Datenbank anlegen\n",
                "2. 2 SQL User anlegen\n",
                "3. Tabelle anlegen + Daten einfügen\n",
                "4. Berechtigungen setzten"
            ],
            "metadata": {
                "azdata_cell_guid": "ba6d8e70-48cf-4ee6-8ac3-9841312db1cd"
            },
            "attachments": {}
        },
        {
            "cell_type": "markdown",
            "source": [
                "## (1) Vorbereitung: Datenbank anlegen"
            ],
            "metadata": {
                "azdata_cell_guid": "7804a55f-10d2-492c-9fa3-58740990fb5a"
            },
            "attachments": {}
        },
        {
            "cell_type": "code",
            "source": [
                "use master \r\n",
                "go\r\n",
                "alter database [TEST_RLS_SQL]\r\n",
                "set single_user with rollback immediate\r\n",
                "GO\r\n",
                "Drop DATABASE if exists [TEST_RLS_SQL]\r\n",
                "GO\r\n",
                "CREATE DATABASE [TEST_RLS_SQL]\r\n",
                "GO\r\n",
                "USE [TEST_RLS_SQL]\r\n",
                "GO"
            ],
            "metadata": {
                "azdata_cell_guid": "03f10ea8-be4b-439c-9bc7-a7c07ce8ee08",
                "language": "sql"
            },
            "outputs": [
                {
                    "output_type": "display_data",
                    "data": {
                        "text/html": "Commands completed successfully."
                    },
                    "metadata": {}
                },
                {
                    "output_type": "display_data",
                    "data": {
                        "text/html": "Nonqualified transactions are being rolled back. Estimated rollback completion: 0%."
                    },
                    "metadata": {}
                },
                {
                    "output_type": "display_data",
                    "data": {
                        "text/html": "Nonqualified transactions are being rolled back. Estimated rollback completion: 100%."
                    },
                    "metadata": {}
                },
                {
                    "output_type": "display_data",
                    "data": {
                        "text/html": "Commands completed successfully."
                    },
                    "metadata": {}
                },
                {
                    "output_type": "display_data",
                    "data": {
                        "text/html": "Commands completed successfully."
                    },
                    "metadata": {}
                },
                {
                    "output_type": "display_data",
                    "data": {
                        "text/html": "Commands completed successfully."
                    },
                    "metadata": {}
                },
                {
                    "output_type": "display_data",
                    "data": {
                        "text/html": "Total execution time: 00:00:03.959"
                    },
                    "metadata": {}
                }
            ],
            "execution_count": 1
        },
        {
            "cell_type": "markdown",
            "source": [
                "## (2) SQL User anlegen"
            ],
            "metadata": {
                "azdata_cell_guid": "7e55c804-c4ae-4312-9249-6f31571ddede"
            },
            "attachments": {}
        },
        {
            "cell_type": "code",
            "source": [
                "-- User 1: Uster mit eingeschränkten Rechten user_RLS_limited\r\n",
                "CREATE LOGIN user_RLS_limited   \r\n",
                "    WITH PASSWORD = '8fdKJl3$nlNv3049jsKK';  \r\n",
                "GO\r\n",
                "\r\n",
                "USE [TEST_RLS_SQL];  \r\n",
                "GO\r\n",
                "\r\n",
                "CREATE USER user_RLS_limited FOR LOGIN user_RLS_limited   \r\n",
                "    WITH DEFAULT_SCHEMA = dbo; \r\n",
                "GO"
            ],
            "metadata": {
                "azdata_cell_guid": "ba33baf5-f13f-47b5-a24c-9a3518f9bd09",
                "language": "sql",
                "tags": []
            },
            "outputs": [
                {
                    "output_type": "error",
                    "evalue": "Msg 15025, Level 16, State 1, Line 2\r\nThe server principal 'user_RLS_limited' already exists.",
                    "ename": "",
                    "traceback": []
                },
                {
                    "output_type": "display_data",
                    "data": {
                        "text/html": "Commands completed successfully."
                    },
                    "metadata": {}
                },
                {
                    "output_type": "display_data",
                    "data": {
                        "text/html": "Commands completed successfully."
                    },
                    "metadata": {}
                },
                {
                    "output_type": "display_data",
                    "data": {
                        "text/html": "Total execution time: 00:00:00.055"
                    },
                    "metadata": {}
                }
            ],
            "execution_count": 2
        },
        {
            "cell_type": "code",
            "source": [
                "-- User 2: User mit uneingeschränkten Rechten user_RLS_unlimited\r\n",
                "CREATE LOGIN user_RLS_unlimited   \r\n",
                "    WITH PASSWORD = '8fdKJl3$oiuioukljlkdj';  \r\n",
                "GO\r\n",
                "\r\n",
                "USE [TEST_RLS_SQL];  \r\n",
                "GO\r\n",
                "\r\n",
                "CREATE USER user_RLS_unlimited FOR LOGIN user_RLS_unlimited   \r\n",
                "    WITH DEFAULT_SCHEMA = dbo; \r\n",
                "GO"
            ],
            "metadata": {
                "azdata_cell_guid": "3787a39f-8926-4e2e-946a-62333c5200cb",
                "language": "sql"
            },
            "outputs": [
                {
                    "output_type": "error",
                    "evalue": "Msg 15025, Level 16, State 1, Line 2\r\nThe server principal 'user_RLS_unlimited' already exists.",
                    "ename": "",
                    "traceback": []
                },
                {
                    "output_type": "display_data",
                    "data": {
                        "text/html": "Commands completed successfully."
                    },
                    "metadata": {}
                },
                {
                    "output_type": "display_data",
                    "data": {
                        "text/html": "Commands completed successfully."
                    },
                    "metadata": {}
                },
                {
                    "output_type": "display_data",
                    "data": {
                        "text/html": "Total execution time: 00:00:00.049"
                    },
                    "metadata": {}
                }
            ],
            "execution_count": 3
        },
        {
            "cell_type": "code",
            "source": [
                "-- Ausgabe der User der Datenbank\r\n",
                "USE [TEST_RLS_SQL]\r\n",
                "GO\r\n",
                "\r\n",
                "SELECT name as username, create_date, \r\n",
                "       modify_date, type_desc as type\r\n",
                "FROM sys.database_principals\r\n",
                "WHERE type not in ('A', 'G', 'R', 'X')\r\n",
                "      and sid is not null\r\n",
                "      and name != 'guest'"
            ],
            "metadata": {
                "language": "sql",
                "azdata_cell_guid": "488f9312-573c-4ba2-862f-2560c46b9064"
            },
            "outputs": [
                {
                    "output_type": "display_data",
                    "data": {
                        "text/html": "Commands completed successfully."
                    },
                    "metadata": {}
                },
                {
                    "output_type": "display_data",
                    "data": {
                        "text/html": "(3 rows affected)"
                    },
                    "metadata": {}
                },
                {
                    "output_type": "display_data",
                    "data": {
                        "text/html": "Total execution time: 00:00:00.199"
                    },
                    "metadata": {}
                },
                {
                    "output_type": "execute_result",
                    "metadata": {},
                    "execution_count": 4,
                    "data": {
                        "application/vnd.dataresource+json": {
                            "schema": {
                                "fields": [
                                    {
                                        "name": "username"
                                    },
                                    {
                                        "name": "create_date"
                                    },
                                    {
                                        "name": "modify_date"
                                    },
                                    {
                                        "name": "type"
                                    }
                                ]
                            },
                            "data": [
                                {
                                    "0": "dbo",
                                    "1": "2003-04-08 09:10:42.287",
                                    "2": "2022-09-18 21:29:39.097",
                                    "3": "WINDOWS_USER"
                                },
                                {
                                    "0": "user_RLS_limited",
                                    "1": "2022-09-18 21:30:05.997",
                                    "2": "2022-09-18 21:30:05.997",
                                    "3": "SQL_USER"
                                },
                                {
                                    "0": "user_RLS_unlimited",
                                    "1": "2022-09-18 21:30:36.863",
                                    "2": "2022-09-18 21:30:36.863",
                                    "3": "SQL_USER"
                                }
                            ]
                        },
                        "text/html": [
                            "<table>",
                            "<tr><th>username</th><th>create_date</th><th>modify_date</th><th>type</th></tr>",
                            "<tr><td>dbo</td><td>2003-04-08 09:10:42.287</td><td>2022-09-18 21:29:39.097</td><td>WINDOWS_USER</td></tr>",
                            "<tr><td>user_RLS_limited</td><td>2022-09-18 21:30:05.997</td><td>2022-09-18 21:30:05.997</td><td>SQL_USER</td></tr>",
                            "<tr><td>user_RLS_unlimited</td><td>2022-09-18 21:30:36.863</td><td>2022-09-18 21:30:36.863</td><td>SQL_USER</td></tr>",
                            "</table>"
                        ]
                    }
                }
            ],
            "execution_count": 4
        },
        {
            "cell_type": "markdown",
            "source": [
                "## (3) Tabelle anlegen & Daten einfügen\n",
                "\n",
                "Es wird nun eine Tabelle erstellt, die die Turnovers zu den Ländenr beinhaltet. Weiters hat die Tabelle einen PK und ist autoincrement."
            ],
            "metadata": {
                "azdata_cell_guid": "d1fd8a63-f74b-4c3b-afd5-1c9595e7d44a"
            },
            "attachments": {}
        },
        {
            "cell_type": "code",
            "source": [
                "USE [TEST_RLS_SQL]\r\n",
                "GO\r\n",
                "\r\n",
                "-- Löschen der Tabelle [dbo].[Turnover]\r\n",
                "DROP TAble if EXISTS [dbo].[Turnover]\r\n",
                "GO\r\n",
                "\r\n",
                "-- Erstellen der Tabelle [dbo].[Turnover]\r\n",
                "CREATE TABLE [dbo].[Turnover](\r\n",
                "\t[ID] [int] IDENTITY(1,1) NOT NULL,\r\n",
                "\t[Country] [varchar](50) NULL,\r\n",
                "\t[Turnover] [decimal](18, 4) NULL,\r\n",
                " CONSTRAINT [PK_Turnover] PRIMARY KEY CLUSTERED \r\n",
                "(\r\n",
                "\t[ID] ASC\r\n",
                ")WITH (PAD_INDEX = OFF, STATISTICS_NORECOMPUTE = OFF, IGNORE_DUP_KEY = OFF, ALLOW_ROW_LOCKS = ON, ALLOW_PAGE_LOCKS = ON, OPTIMIZE_FOR_SEQUENTIAL_KEY = OFF) ON [PRIMARY]\r\n",
                ") ON [PRIMARY]\r\n",
                "GO\r\n",
                ""
            ],
            "metadata": {
                "azdata_cell_guid": "2e445db6-1b54-42d7-8c44-ee8de0dd64bf",
                "language": "sql"
            },
            "outputs": [
                {
                    "output_type": "display_data",
                    "data": {
                        "text/html": "Commands completed successfully."
                    },
                    "metadata": {}
                },
                {
                    "output_type": "display_data",
                    "data": {
                        "text/html": "Commands completed successfully."
                    },
                    "metadata": {}
                },
                {
                    "output_type": "display_data",
                    "data": {
                        "text/html": "Commands completed successfully."
                    },
                    "metadata": {}
                },
                {
                    "output_type": "display_data",
                    "data": {
                        "text/html": "Total execution time: 00:00:00.013"
                    },
                    "metadata": {}
                }
            ],
            "execution_count": 5
        },
        {
            "cell_type": "code",
            "source": [
                "-- Leeren der Tabelle\r\n",
                "Truncate Table [dbo].[Turnover]\r\n",
                "GO\r\n",
                "\r\n",
                "-- Befüllen der Tabelle\r\n",
                "INSERT INTO [dbo].[Turnover]([Country],[Turnover])\r\n",
                "Values ('China', 157.8),('Russia',111.0),('Austria',1111),('Germany',9900)\r\n",
                "Go \r\n",
                "\r\n",
                "-- Ausgabe der Tabelle\r\n",
                "Select * from [dbo].[Turnover]"
            ],
            "metadata": {
                "azdata_cell_guid": "e4fb50cc-d29d-4a99-86a6-89ae1dc53c2a",
                "language": "sql"
            },
            "outputs": [
                {
                    "output_type": "display_data",
                    "data": {
                        "text/html": "Commands completed successfully."
                    },
                    "metadata": {}
                },
                {
                    "output_type": "display_data",
                    "data": {
                        "text/html": "(4 rows affected)"
                    },
                    "metadata": {}
                },
                {
                    "output_type": "display_data",
                    "data": {
                        "text/html": "(0 rows affected)"
                    },
                    "metadata": {}
                },
                {
                    "output_type": "display_data",
                    "data": {
                        "text/html": "Total execution time: 00:00:00.032"
                    },
                    "metadata": {}
                },
                {
                    "output_type": "execute_result",
                    "metadata": {},
                    "execution_count": 21,
                    "data": {
                        "application/vnd.dataresource+json": {
                            "schema": {
                                "fields": [
                                    {
                                        "name": "ID"
                                    },
                                    {
                                        "name": "Country"
                                    },
                                    {
                                        "name": "Turnover"
                                    },
                                    {
                                        "name": "username"
                                    }
                                ]
                            },
                            "data": []
                        },
                        "text/html": [
                            "<table>",
                            "<tr><th>ID</th><th>Country</th><th>Turnover</th><th>username</th></tr>",
                            "</table>"
                        ]
                    }
                }
            ],
            "execution_count": 21
        },
        {
            "cell_type": "markdown",
            "source": [
                "## (4) Berechtigungen setzen\n",
                "\n",
                "So wie die SQL User derzeit angelegt sind, sehen sie zwar die Datenbank und können auf diese zugreifen, sehen aber darin keine Tabellen und auch sonst keine Objekte. Nun muss man Leserechte (SELECT) auf die Tabelle einräumen.\n",
                "\n",
                "![](attachment:image.png)"
            ],
            "metadata": {
                "azdata_cell_guid": "35deb226-bce6-46bd-af83-865244557667"
            },
            "attachments": {
                "image.png": {
                    "image/png": "[encoded data removed]"
                }
            }
        },
        {
            "cell_type": "code",
            "source": [
                "GRANT SELECT ON dbo.Turnover TO user_RLS_limited;\r\n",
                "GRANT SELECT ON dbo.Turnover TO user_RLS_unlimited;"
            ],
            "metadata": {
                "azdata_cell_guid": "4128a0aa-3037-46b7-ab31-67ce3697b52d",
                "language": "sql"
            },
            "outputs": [
                {
                    "output_type": "display_data",
                    "data": {
                        "text/html": "Commands completed successfully."
                    },
                    "metadata": {}
                },
                {
                    "output_type": "display_data",
                    "data": {
                        "text/html": "Total execution time: 00:00:00.003"
                    },
                    "metadata": {}
                }
            ],
            "execution_count": 25
        },
        {
            "cell_type": "markdown",
            "source": [
                "Nun haben beide User uneingeschränkte Leserechte auf die Tabelle\n",
                "\n",
                "![](attachment:image.png)"
            ],
            "metadata": {
                "azdata_cell_guid": "b01383c6-fe4e-4f84-b240-15240029fde8"
            },
            "attachments": {
                "image.png": {
                    "image/png": "[encoded data removed]"
                }
            }
        },
        {
            "cell_type": "code",
            "source": [
                "USE [TEST_RLS_SQL]\r\n",
                "GO\r\n",
                "\r\n",
                "EXEC sp_table_privileges   \r\n",
                "   @table_name = 'Turnover'\r\n",
                "Go  "
            ],
            "metadata": {
                "azdata_cell_guid": "9aca8b90-1f52-4a9b-acb8-17a8fc57fcb4",
                "language": "sql"
            },
            "outputs": [
                {
                    "output_type": "display_data",
                    "data": {
                        "text/html": "Commands completed successfully."
                    },
                    "metadata": {}
                },
                {
                    "output_type": "display_data",
                    "data": {
                        "text/html": "(7 rows affected)"
                    },
                    "metadata": {}
                },
                {
                    "output_type": "display_data",
                    "data": {
                        "text/html": "Total execution time: 00:00:00.031"
                    },
                    "metadata": {}
                },
                {
                    "output_type": "execute_result",
                    "metadata": {},
                    "execution_count": 23,
                    "data": {
                        "application/vnd.dataresource+json": {
                            "schema": {
                                "fields": [
                                    {
                                        "name": "TABLE_QUALIFIER"
                                    },
                                    {
                                        "name": "TABLE_OWNER"
                                    },
                                    {
                                        "name": "TABLE_NAME"
                                    },
                                    {
                                        "name": "GRANTOR"
                                    },
                                    {
                                        "name": "GRANTEE"
                                    },
                                    {
                                        "name": "PRIVILEGE"
                                    },
                                    {
                                        "name": "IS_GRANTABLE"
                                    }
                                ]
                            },
                            "data": [
                                {
                                    "0": "TEST_RLS_SQL",
                                    "1": "dbo",
                                    "2": "Turnover",
                                    "3": "dbo",
                                    "4": "dbo",
                                    "5": "DELETE",
                                    "6": "YES"
                                },
                                {
                                    "0": "TEST_RLS_SQL",
                                    "1": "dbo",
                                    "2": "Turnover",
                                    "3": "dbo",
                                    "4": "dbo",
                                    "5": "INSERT",
                                    "6": "YES"
                                },
                                {
                                    "0": "TEST_RLS_SQL",
                                    "1": "dbo",
                                    "2": "Turnover",
                                    "3": "dbo",
                                    "4": "dbo",
                                    "5": "REFERENCES",
                                    "6": "YES"
                                },
                                {
                                    "0": "TEST_RLS_SQL",
                                    "1": "dbo",
                                    "2": "Turnover",
                                    "3": "dbo",
                                    "4": "dbo",
                                    "5": "SELECT",
                                    "6": "YES"
                                },
                                {
                                    "0": "TEST_RLS_SQL",
                                    "1": "dbo",
                                    "2": "Turnover",
                                    "3": "dbo",
                                    "4": "user_RLS_limited",
                                    "5": "SELECT",
                                    "6": "NO"
                                },
                                {
                                    "0": "TEST_RLS_SQL",
                                    "1": "dbo",
                                    "2": "Turnover",
                                    "3": "dbo",
                                    "4": "user_RLS_unlimited",
                                    "5": "SELECT",
                                    "6": "NO"
                                },
                                {
                                    "0": "TEST_RLS_SQL",
                                    "1": "dbo",
                                    "2": "Turnover",
                                    "3": "dbo",
                                    "4": "dbo",
                                    "5": "UPDATE",
                                    "6": "YES"
                                }
                            ]
                        },
                        "text/html": [
                            "<table>",
                            "<tr><th>TABLE_QUALIFIER</th><th>TABLE_OWNER</th><th>TABLE_NAME</th><th>GRANTOR</th><th>GRANTEE</th><th>PRIVILEGE</th><th>IS_GRANTABLE</th></tr>",
                            "<tr><td>TEST_RLS_SQL</td><td>dbo</td><td>Turnover</td><td>dbo</td><td>dbo</td><td>DELETE</td><td>YES</td></tr>",
                            "<tr><td>TEST_RLS_SQL</td><td>dbo</td><td>Turnover</td><td>dbo</td><td>dbo</td><td>INSERT</td><td>YES</td></tr>",
                            "<tr><td>TEST_RLS_SQL</td><td>dbo</td><td>Turnover</td><td>dbo</td><td>dbo</td><td>REFERENCES</td><td>YES</td></tr>",
                            "<tr><td>TEST_RLS_SQL</td><td>dbo</td><td>Turnover</td><td>dbo</td><td>dbo</td><td>SELECT</td><td>YES</td></tr>",
                            "<tr><td>TEST_RLS_SQL</td><td>dbo</td><td>Turnover</td><td>dbo</td><td>user_RLS_limited</td><td>SELECT</td><td>NO</td></tr>",
                            "<tr><td>TEST_RLS_SQL</td><td>dbo</td><td>Turnover</td><td>dbo</td><td>user_RLS_unlimited</td><td>SELECT</td><td>NO</td></tr>",
                            "<tr><td>TEST_RLS_SQL</td><td>dbo</td><td>Turnover</td><td>dbo</td><td>dbo</td><td>UPDATE</td><td>YES</td></tr>",
                            "</table>"
                        ]
                    }
                }
            ],
            "execution_count": 23
        },
        {
            "cell_type": "markdown",
            "source": [
                "# \"Klassischer\" Weg\n",
                "\n",
                "Der Klassische Weg wäre es, dass man \n",
                "\n",
                "- eine Stored Procedure\n",
                "- eine Table Valued Function \n",
                "\n",
                "um den Parameter @Username erweitert und danach filtert. \n",
                "\n",
                "In diesem Fall müsste man die Datenbank anders absichern, dass der der User selbst keine Rechte auf der Datenbank hat und die Kommunikation zwischen \"Middleware\" und Datenbank mittels Serviceuser passiert. Weiters muss sichergestellt werden, dass der übergebenen User nicht beeinflusst werden kann und dem tatsächlichen User des Frontends entspricht."
            ],
            "metadata": {
                "azdata_cell_guid": "9d309822-ea06-4855-af57-6886d9cbda60"
            },
            "attachments": {}
        },
        {
            "cell_type": "markdown",
            "source": [
                "**<u>Ziel:</u>** Einschränkung von \"user\\_RLS\\_limited\" auf \"Germany\"; \"user\\_RLS\\_unlimited\" darf alles sehen."
            ],
            "metadata": {
                "azdata_cell_guid": "6e819e29-1b91-4fb9-9c7d-802f42668d50"
            },
            "attachments": {}
        },
        {
            "cell_type": "code",
            "source": [
                "DROP PROCEDURE if EXISTS dbo.usp_Turnover\r\n",
                "GO\r\n",
                "\r\n",
                "cREATE PROCEDURE dbo.usp_Turnover (@username as VARCHAR(50))\r\n",
                "AS\r\n",
                "BEGIN\r\n",
                "\tSET NOCOUNT ON;\r\n",
                "\tSELECT [ID]\r\n",
                "      ,[Country]\r\n",
                "      ,[Turnover] \r\n",
                "\t  from [dbo].[Turnover]\r\n",
                "\t    WHERE ([Country] = 'Germany' and @username = 'user_RLS_limited')\r\n",
                "\t    OR (@username = 'user_RLS_unlimited');\r\n",
                "END\r\n",
                "GO\r\n",
                ""
            ],
            "metadata": {
                "azdata_cell_guid": "737d2e03-1a90-44cc-b315-bc79855b52ba",
                "language": "sql"
            },
            "outputs": [
                {
                    "output_type": "display_data",
                    "data": {
                        "text/html": "Commands completed successfully."
                    },
                    "metadata": {}
                },
                {
                    "output_type": "display_data",
                    "data": {
                        "text/html": "Commands completed successfully."
                    },
                    "metadata": {}
                },
                {
                    "output_type": "display_data",
                    "data": {
                        "text/html": "Total execution time: 00:00:00.009"
                    },
                    "metadata": {}
                }
            ],
            "execution_count": 10
        },
        {
            "cell_type": "code",
            "source": [
                "EXEC dbo.usp_Turnover @username = 'user_RLS_unlimited';\r\n",
                "EXEC dbo.usp_Turnover @username = 'user_RLS_limited';"
            ],
            "metadata": {
                "azdata_cell_guid": "40dcaf86-fd79-4853-a3b5-2441f7306c5e",
                "language": "sql"
            },
            "outputs": [
                {
                    "output_type": "display_data",
                    "data": {
                        "text/html": "Commands completed successfully."
                    },
                    "metadata": {}
                },
                {
                    "output_type": "display_data",
                    "data": {
                        "text/html": "Total execution time: 00:00:00.021"
                    },
                    "metadata": {}
                },
                {
                    "output_type": "execute_result",
                    "metadata": {},
                    "execution_count": 11,
                    "data": {
                        "application/vnd.dataresource+json": {
                            "schema": {
                                "fields": [
                                    {
                                        "name": "ID"
                                    },
                                    {
                                        "name": "Country"
                                    },
                                    {
                                        "name": "Turnover"
                                    }
                                ]
                            },
                            "data": [
                                {
                                    "0": "1",
                                    "1": "China",
                                    "2": "157.8000"
                                },
                                {
                                    "0": "2",
                                    "1": "Russia",
                                    "2": "111.0000"
                                },
                                {
                                    "0": "3",
                                    "1": "Austria",
                                    "2": "1111.0000"
                                },
                                {
                                    "0": "4",
                                    "1": "Germany",
                                    "2": "9900.0000"
                                }
                            ]
                        },
                        "text/html": [
                            "<table>",
                            "<tr><th>ID</th><th>Country</th><th>Turnover</th></tr>",
                            "<tr><td>1</td><td>China</td><td>157.8000</td></tr>",
                            "<tr><td>2</td><td>Russia</td><td>111.0000</td></tr>",
                            "<tr><td>3</td><td>Austria</td><td>1111.0000</td></tr>",
                            "<tr><td>4</td><td>Germany</td><td>9900.0000</td></tr>",
                            "</table>"
                        ]
                    }
                },
                {
                    "output_type": "execute_result",
                    "metadata": {},
                    "execution_count": 11,
                    "data": {
                        "application/vnd.dataresource+json": {
                            "schema": {
                                "fields": [
                                    {
                                        "name": "ID"
                                    },
                                    {
                                        "name": "Country"
                                    },
                                    {
                                        "name": "Turnover"
                                    }
                                ]
                            },
                            "data": [
                                {
                                    "0": "4",
                                    "1": "Germany",
                                    "2": "9900.0000"
                                }
                            ]
                        },
                        "text/html": [
                            "<table>",
                            "<tr><th>ID</th><th>Country</th><th>Turnover</th></tr>",
                            "<tr><td>4</td><td>Germany</td><td>9900.0000</td></tr>",
                            "</table>"
                        ]
                    }
                }
            ],
            "execution_count": 11
        },
        {
            "cell_type": "markdown",
            "source": [
                "# Erweiterung um ein Filter Predicate (simple)\n",
                "\n",
                "Nun ist es Ziel den Zugriff von user \"user\\_RLS\\_limited\" auf \"Germany\" einzuschräken und den zweiten User \"user\\_RLS\\_unlimited\" weiter uneingeschränkte Rechte zu gewähren.\n",
                "\n",
                "Hierzu sind folgende Schritte notwendig:\n",
                "\n",
                "(1) Erstellen einer Inline Table-Valued Function (Predicate Function) in der Form eines Filter Predicates\n",
                "\n",
                "(2) Erstellen einer Security Policy"
            ],
            "metadata": {
                "azdata_cell_guid": "643b0fa8-8821-41e6-b6ac-c02a4375375d"
            },
            "attachments": {}
        },
        {
            "cell_type": "markdown",
            "source": [
                "![](https://erhard-rainer.com/wp-content/uploads/2022/06/sql-server-2016-row-level-security-04.png)"
            ],
            "metadata": {
                "language": "sql",
                "azdata_cell_guid": "79d7770b-17e1-4ead-908d-01f721e55966"
            },
            "attachments": {}
        },
        {
            "cell_type": "markdown",
            "source": [
                "## (1) Erstellen eines Filter Predicates\n",
                "\n",
                "Die Funktion liefert 1 zurück, wenn .. erfüllt ist.\n",
                "\n",
                "- @Country = 'Germany' & user = 'user\\_RLS\\_limited'\n",
                "- der User 'user\\_RLS\\_unlimited'"
            ],
            "metadata": {
                "azdata_cell_guid": "84612a24-b89a-4771-acad-3f603c244d53"
            },
            "attachments": {}
        },
        {
            "cell_type": "code",
            "source": [
                "Drop FUNCTION if EXISTS dbo.tvf_Tunover_Security1;\r\n",
                "GO\r\n",
                "CREATE FUNCTION dbo.tvf_Tunover_Security1(@Country as VARCHAR(50))\r\n",
                "    RETURNS TABLE\r\n",
                "WITH SCHEMABINDING\r\n",
                "AS\r\n",
                "    RETURN SELECT 1 AS tvf_Tunover_Security1_Result\r\n",
                "    -- Logic for filter predicate\r\n",
                "    WHERE (@Country = 'Germany' and USER_NAME() = 'user_RLS_limited')\r\n",
                "    OR (USER_NAME() = 'user_RLS_unlimited');\r\n",
                "GO"
            ],
            "metadata": {
                "azdata_cell_guid": "10ce6334-7339-4ae9-881b-74de80f04c71",
                "language": "sql"
            },
            "outputs": [
                {
                    "output_type": "display_data",
                    "data": {
                        "text/html": "Commands completed successfully."
                    },
                    "metadata": {}
                },
                {
                    "output_type": "display_data",
                    "data": {
                        "text/html": "Commands completed successfully."
                    },
                    "metadata": {}
                },
                {
                    "output_type": "display_data",
                    "data": {
                        "text/html": "Total execution time: 00:00:00.010"
                    },
                    "metadata": {}
                }
            ],
            "execution_count": 12
        },
        {
            "cell_type": "markdown",
            "source": [
                "## (2) Erstellen des Security Policy\n",
                "\n",
                "![Parts of Row Level Security](https://sqlhints.com/wp-content/uploads/2016/01/Parts-of-Row-Level-Security.jpg)  \n",
                "\n",
                "Quelle: https://sqlhints.com/tag/block-predicate/"
            ],
            "metadata": {
                "azdata_cell_guid": "f905eec3-da8d-47d2-a5d8-fe8a85533b3a"
            },
            "attachments": {}
        },
        {
            "cell_type": "code",
            "source": [
                "CREATE SECURITY POLICY TurnoverFilter1  \r\n",
                "ADD FILTER PREDICATE dbo.tvf_Tunover_Security1([Country])\r\n",
                "ON dbo.Turnover\r\n",
                "WITH (STATE = ON);  \r\n",
                "GO"
            ],
            "metadata": {
                "azdata_cell_guid": "33045b36-0225-4560-9a00-d6a973778b52",
                "tags": [],
                "language": "sql"
            },
            "outputs": [],
            "execution_count": null
        },
        {
            "cell_type": "code",
            "source": [
                "-- Security Policy deaktivieren\r\n",
                "ALTER SECURITY POLICY TurnoverFilter1\r\n",
                "WITH (STATE = OFF); "
            ],
            "metadata": {
                "azdata_cell_guid": "ad70dfc0-818e-4316-94c0-0f5c42df7439",
                "tags": [],
                "language": "sql"
            },
            "outputs": [],
            "execution_count": null
        },
        {
            "cell_type": "markdown",
            "source": [
                "# Erweiterung um ein Filter Predicate (Berechtigungen direkt in der Tabelle)\n",
                "\n",
                "In der ersten Ausbaustufe ist die Logik des Filter Predicates direkt in der Funktion beheimatet. In der nächsten Ausbaustufe kommt eine Spalte User hinzu über die gesteuert wird, welcher User Zugriff auf die Zeile hat. Für den User mit uneingeschränkten Rechten muss die Logik in weiter in der Funktion sein. \n",
                "\n",
                "Nachteil dieser Vorgehensweise hat jedoch den Nachteil, dass nur ein Benutzer pro Zeile berechtigt werden kann."
            ],
            "metadata": {
                "azdata_cell_guid": "1df5dd78-55ce-48d3-96f7-841a7e958040"
            },
            "attachments": {}
        },
        {
            "cell_type": "markdown",
            "source": [
                "## (0) Vorbereitung: Tabelle + Daten"
            ],
            "metadata": {
                "azdata_cell_guid": "88e65505-e8d6-4d0c-a1d7-ac354f9992ee"
            },
            "attachments": {}
        },
        {
            "cell_type": "code",
            "source": [
                "-- Erweitern der TAbelle um eine Spalte 'Username'\r\n",
                "ALTER TABLE dbo.Turnover\r\n",
                "ADD username nvarchar(255);"
            ],
            "metadata": {
                "azdata_cell_guid": "435ded34-0536-4c60-a2c9-7cb9b85093f1",
                "language": "sql"
            },
            "outputs": [
                {
                    "output_type": "display_data",
                    "data": {
                        "text/html": "Commands completed successfully."
                    },
                    "metadata": {}
                },
                {
                    "output_type": "display_data",
                    "data": {
                        "text/html": "Total execution time: 00:00:00.017"
                    },
                    "metadata": {}
                }
            ],
            "execution_count": 13
        },
        {
            "cell_type": "code",
            "source": [
                "-- Befüllen der Spalte 'Username'\r\n",
                "Update dbo.Turnover\r\n",
                "Set username = 'user_RLS_limited'\r\n",
                "where Country = 'Germany'\r\n",
                "\r\n",
                "Select * from dbo.Turnover"
            ],
            "metadata": {
                "azdata_cell_guid": "60173fe6-0607-4f66-8023-f7e8d57c0712",
                "language": "sql"
            },
            "outputs": [
                {
                    "output_type": "display_data",
                    "data": {
                        "text/html": "(1 row affected)"
                    },
                    "metadata": {}
                },
                {
                    "output_type": "display_data",
                    "data": {
                        "text/html": "(4 rows affected)"
                    },
                    "metadata": {}
                },
                {
                    "output_type": "display_data",
                    "data": {
                        "text/html": "Total execution time: 00:00:00.013"
                    },
                    "metadata": {}
                },
                {
                    "output_type": "execute_result",
                    "metadata": {},
                    "execution_count": 15,
                    "data": {
                        "application/vnd.dataresource+json": {
                            "schema": {
                                "fields": [
                                    {
                                        "name": "ID"
                                    },
                                    {
                                        "name": "Country"
                                    },
                                    {
                                        "name": "Turnover"
                                    },
                                    {
                                        "name": "username"
                                    }
                                ]
                            },
                            "data": [
                                {
                                    "0": "1",
                                    "1": "China",
                                    "2": "157.8000",
                                    "3": "NULL"
                                },
                                {
                                    "0": "2",
                                    "1": "Russia",
                                    "2": "111.0000",
                                    "3": "NULL"
                                },
                                {
                                    "0": "3",
                                    "1": "Austria",
                                    "2": "1111.0000",
                                    "3": "NULL"
                                },
                                {
                                    "0": "4",
                                    "1": "Germany",
                                    "2": "9900.0000",
                                    "3": "user_RLS_limited"
                                }
                            ]
                        },
                        "text/html": [
                            "<table>",
                            "<tr><th>ID</th><th>Country</th><th>Turnover</th><th>username</th></tr>",
                            "<tr><td>1</td><td>China</td><td>157.8000</td><td>NULL</td></tr>",
                            "<tr><td>2</td><td>Russia</td><td>111.0000</td><td>NULL</td></tr>",
                            "<tr><td>3</td><td>Austria</td><td>1111.0000</td><td>NULL</td></tr>",
                            "<tr><td>4</td><td>Germany</td><td>9900.0000</td><td>user_RLS_limited</td></tr>",
                            "</table>"
                        ]
                    }
                }
            ],
            "execution_count": 15
        },
        {
            "cell_type": "markdown",
            "source": [
                "## (1) Erstellen eines Filter Predicates\n",
                "\n",
                "Die Funktion liefert 1 zurück, wenn .. erfüllt ist.\n",
                "\n",
                "- @Country = 'Germany' & user = 'user\\_RLS\\_limited'\n",
                "- der User 'user\\_RLS\\_unlimited'"
            ],
            "metadata": {
                "azdata_cell_guid": "6a06c86e-ff52-4308-aaab-c44dc3dac510"
            },
            "attachments": {}
        },
        {
            "cell_type": "code",
            "source": [
                "Drop FUNCTION if EXISTS dbo.tvf_Tunover_Security2;\r\n",
                "GO\r\n",
                "CREATE FUNCTION dbo.tvf_Tunover_Security2(@username as VARCHAR(50))\r\n",
                "    RETURNS TABLE\r\n",
                "WITH SCHEMABINDING\r\n",
                "AS\r\n",
                "    RETURN SELECT 1 AS tvf_Tunover_Security2_Result\r\n",
                "    -- Logic for filter predicate\r\n",
                "    WHERE (USER_NAME() = @username)\r\n",
                "    OR (USER_NAME() = 'user_RLS_unlimited');\r\n",
                "GO"
            ],
            "metadata": {
                "azdata_cell_guid": "9f4ca0ea-afde-4588-aba1-71d3c1a74aaa",
                "language": "sql"
            },
            "outputs": [],
            "execution_count": null
        },
        {
            "cell_type": "markdown",
            "source": [
                "## (2) Erstellen des Security Policy"
            ],
            "metadata": {
                "azdata_cell_guid": "9c205510-9ef0-47d8-b4bb-1e293b93c5d3"
            },
            "attachments": {}
        },
        {
            "cell_type": "code",
            "source": [
                "CREATE SECURITY POLICY TurnoverFilter2  \r\n",
                "ADD FILTER PREDICATE dbo.tvf_Tunover_Security2([username])\r\n",
                "ON dbo.Turnover\r\n",
                "WITH (STATE = ON);  \r\n",
                "GO"
            ],
            "metadata": {
                "azdata_cell_guid": "a890b7bd-36a9-4d27-b015-2f6799188f24",
                "language": "sql"
            },
            "outputs": [],
            "execution_count": null
        },
        {
            "cell_type": "code",
            "source": [
                "-- Security Policy löschen\r\n",
                "Drop SECURITY POLICY TurnoverFilter2"
            ],
            "metadata": {
                "azdata_cell_guid": "d75814c3-3c31-4702-82ec-6cb3ad5c0466",
                "language": "sql"
            },
            "outputs": [],
            "execution_count": null
        },
        {
            "cell_type": "markdown",
            "source": [
                "## Exkurs: mehrere User pro Zeile berechtigen"
            ],
            "metadata": {
                "azdata_cell_guid": "13276b5d-a17c-4d5f-b28f-c3e9ea4beeda"
            },
            "attachments": {}
        },
        {
            "cell_type": "markdown",
            "source": [
                "Es gibt für die Einschränkung, dass nur ein Benutzer pro Zeile berechtigt werden kann, eine Lösung, wenngleich ich tunlichst davon abrate."
            ],
            "metadata": {
                "azdata_cell_guid": "5fb760bc-a965-4cbf-9cd7-9ce238992e31"
            },
            "attachments": {}
        },
        {
            "cell_type": "code",
            "source": [
                "Update dbo.Turnover\r\n",
                "Set username = null\r\n",
                "GO\r\n",
                "\r\n",
                "Update dbo.Turnover\r\n",
                "Set username = 'user_RLS_limited'\r\n",
                "where Country = 'Germany'\r\n",
                "GO\r\n",
                "\r\n",
                "UPDATE dbo.Turnover \r\n",
                "Set username = case when [username] is null then 'user_RLS_unlimited' else [username] + '|' + 'user_RLS_unlimited' end \r\n",
                "\r\n",
                "Select * from dbo.Turnover"
            ],
            "metadata": {
                "azdata_cell_guid": "f4741e1c-a7f8-490e-970b-94d2ef7c4d93",
                "language": "sql"
            },
            "outputs": [],
            "execution_count": null
        },
        {
            "cell_type": "code",
            "source": [
                "Drop FUNCTION if EXISTS dbo.tvf_Tunover_Security2;\r\n",
                "GO\r\n",
                "CREATE FUNCTION dbo.tvf_Tunover_Security2(@username as VARCHAR(50))\r\n",
                "    RETURNS TABLE\r\n",
                "WITH SCHEMABINDING\r\n",
                "AS\r\n",
                "    RETURN SELECT 1 AS tvf_Tunover_Security2_Result\r\n",
                "    -- Logic for filter predicate\r\n",
                "    WHERE (USER_NAME() in (Select Value from string_split(@username,'|')))\r\n",
                "GO"
            ],
            "metadata": {
                "azdata_cell_guid": "052860cf-c41d-48e4-8342-97d7a52fef6d",
                "language": "sql"
            },
            "outputs": [],
            "execution_count": null
        },
        {
            "cell_type": "code",
            "source": [
                "CREATE SECURITY POLICY TurnoverFilter2  \r\n",
                "ADD FILTER PREDICATE dbo.tvf_Tunover_Security2([username])\r\n",
                "ON dbo.Turnover\r\n",
                "WITH (STATE = ON);  \r\n",
                "GO"
            ],
            "metadata": {
                "azdata_cell_guid": "261bea6a-d667-459c-8511-178a8a41dd38",
                "language": "sql"
            },
            "outputs": [],
            "execution_count": null
        },
        {
            "cell_type": "markdown",
            "source": [
                "## Nacharbeiten: Tabelle bereinigen"
            ],
            "metadata": {
                "azdata_cell_guid": "6e30f137-85be-4fa0-a71e-5fd1900153b1"
            },
            "attachments": {}
        },
        {
            "cell_type": "code",
            "source": [
                "-- Security Policy löschen\r\n",
                "DROP SECURITY POLICY if EXISTS [dbo].[TurnoverFilter2]\r\n",
                "-- Function löschen\r\n",
                "Drop FUNCTION if EXISTS dbo.tvf_Tunover_Security2;"
            ],
            "metadata": {
                "azdata_cell_guid": "dd748ee9-c38e-4d7b-b579-091322290c3d",
                "language": "sql"
            },
            "outputs": [],
            "execution_count": null
        },
        {
            "cell_type": "code",
            "source": [
                "-- Spalte wieder löschen\r\n",
                "ALTER TABLE dbo.Turnover\r\n",
                "Drop COLUMN username;"
            ],
            "metadata": {
                "azdata_cell_guid": "4a6f21b0-1a0f-481b-b1f4-b4fb8a3dc488",
                "language": "sql"
            },
            "outputs": [],
            "execution_count": null
        },
        {
            "cell_type": "markdown",
            "source": [
                "# Erweiterung um ein Filter Predicate (mit Config-Tabelle)\n",
                "\n",
                "Da die zuletzt beschreibene Methode mit mehrerne Usern in einem Feld nicht empfehlenswert hinsichtlich Performance ist,  braucht man eine schneller Methode. \n",
                "\n",
                "1. Hierzu legen wir eine zusätzliche Tabelle an \\[dbo\\].\\[Permissions\\]\n",
                "2. danach erstellen wir ein Filter Predicate \n",
                "3. und eine Security Policy"
            ],
            "metadata": {
                "azdata_cell_guid": "bed44d4c-c97d-438c-a260-9a326922777b"
            },
            "attachments": {}
        },
        {
            "cell_type": "markdown",
            "source": [
                "## Vorbereitung: Setzen der Berechtigungen\n",
                "\n",
                "Über eine weitere Tabelle \\[dbo\\].\\[Permissions\\] sollen die Rechte gesteuert werden. Grundsätzlich soll der user \"user\\_RLS\\_limited\" nur Germany sehen dürfen und der User User 'user\\_RLS\\_unlimited' soll alles sehen dürfen. Die Rechte von user\\_RLS\\_unlimited soll aber nicht über die Tabelle sondern über den Filter Predicate gesteuert werden."
            ],
            "metadata": {
                "azdata_cell_guid": "145d963a-eba0-472d-85da-0d855b51cbf2"
            },
            "attachments": {}
        },
        {
            "cell_type": "code",
            "source": [
                "DROP TAble if EXISTS [dbo].[Permisisons]\r\n",
                "GO\r\n",
                "\r\n",
                "CREATE TABLE [dbo].[Permisisons](\r\n",
                "    [Country] [varchar](50) not NULL,\r\n",
                "    [Username] [varchar](50) not null\r\n",
                ")"
            ],
            "metadata": {
                "azdata_cell_guid": "888d57e6-f6bd-4a4a-b207-d066c64241d6",
                "language": "sql"
            },
            "outputs": [
                {
                    "output_type": "display_data",
                    "data": {
                        "text/html": "Commands completed successfully."
                    },
                    "metadata": {}
                },
                {
                    "output_type": "display_data",
                    "data": {
                        "text/html": "Commands completed successfully."
                    },
                    "metadata": {}
                },
                {
                    "output_type": "display_data",
                    "data": {
                        "text/html": "Total execution time: 00:00:00.029"
                    },
                    "metadata": {}
                }
            ],
            "execution_count": 16
        },
        {
            "cell_type": "code",
            "source": [
                "Truncate Table [dbo].[Permisisons]\r\n",
                "GO\r\n",
                "Insert into [dbo].[Permisisons](Country,Username)\r\n",
                "Values ('Germany','user_RLS_limited')"
            ],
            "metadata": {
                "azdata_cell_guid": "2c9f8bf5-5a5e-49f2-827e-d08920cda268",
                "language": "sql"
            },
            "outputs": [
                {
                    "output_type": "display_data",
                    "data": {
                        "text/html": "Commands completed successfully."
                    },
                    "metadata": {}
                },
                {
                    "output_type": "display_data",
                    "data": {
                        "text/html": "(1 row affected)"
                    },
                    "metadata": {}
                },
                {
                    "output_type": "display_data",
                    "data": {
                        "text/html": "Total execution time: 00:00:00.031"
                    },
                    "metadata": {}
                }
            ],
            "execution_count": 26
        },
        {
            "cell_type": "markdown",
            "source": [
                "## (1) Erstellen eines Filter Predicates\n",
                "\n",
                "Die Funktion liefert 1 zurück, wenn .. erfüllt ist.\n",
                "\n",
                "- @Country = 'Germany' & user = 'user\\_RLS\\_limited'\n",
                "- der User 'user\\_RLS\\_unlimited'"
            ],
            "metadata": {
                "azdata_cell_guid": "69fa7f86-7650-4312-aff4-706940f5ea6d"
            },
            "attachments": {}
        },
        {
            "cell_type": "code",
            "source": [
                "-- Möglichkeit 1\r\n",
                "Drop FUNCTION if EXISTS dbo.tvf_Tunover_Security3;\r\n",
                "GO\r\n",
                "CREATE FUNCTION dbo.tvf_Tunover_Security3(@Country as VARCHAR(50))\r\n",
                "    RETURNS TABLE\r\n",
                "WITH SCHEMABINDING\r\n",
                "AS\r\n",
                "    RETURN SELECT 1 AS tvf_Tunover_Security3_Result\r\n",
                "    -- Logic for filter predicate\r\n",
                "    WHERE (@Country in (Select [Country] from [dbo].[Permisisons] where [Username] = USER_NAME()))\r\n",
                "    OR (USER_NAME() = 'user_RLS_unlimited');\r\n",
                "GO"
            ],
            "metadata": {
                "azdata_cell_guid": "7c2dfae3-feb7-4f0b-ae3f-e4cdd6179670",
                "language": "sql",
                "tags": []
            },
            "outputs": [
                {
                    "output_type": "display_data",
                    "data": {
                        "text/html": "Commands completed successfully."
                    },
                    "metadata": {}
                },
                {
                    "output_type": "display_data",
                    "data": {
                        "text/html": "Commands completed successfully."
                    },
                    "metadata": {}
                },
                {
                    "output_type": "display_data",
                    "data": {
                        "text/html": "Total execution time: 00:00:00.017"
                    },
                    "metadata": {}
                }
            ],
            "execution_count": 28
        },
        {
            "cell_type": "code",
            "source": [
                "-- Möglichkeit 2 -- funktioniert \r\n",
                "Drop SECURITY POLICY if exists TurnoverFilter3\r\n",
                "GO\r\n",
                "Drop FUNCTION if EXISTS dbo.tvf_Tunover_Security3;\r\n",
                "GO\r\n",
                "CREATE FUNCTION dbo.tvf_Tunover_Security3(@Country as VARCHAR(50))\r\n",
                "    RETURNS TABLE\r\n",
                "WITH SCHEMABINDING\r\n",
                "AS\r\n",
                "    RETURN (SELECT 1 AS tvf_Tunover_Security3_Result\r\n",
                "    from dbo.Turnover as t\r\n",
                "    inner join dbo.Permisisons as p \r\n",
                "    on t.Country = p.Country \r\n",
                "    Where p.Username = USER_NAME()\r\n",
                "    and t.Country = @Country);\r\n",
                "GO"
            ],
            "metadata": {
                "azdata_cell_guid": "db05c0e0-7eda-4d81-8b69-e6c129c48f48",
                "tags": [],
                "language": "sql"
            },
            "outputs": [
                {
                    "output_type": "display_data",
                    "data": {
                        "text/html": "Commands completed successfully."
                    },
                    "metadata": {}
                },
                {
                    "output_type": "display_data",
                    "data": {
                        "text/html": "Commands completed successfully."
                    },
                    "metadata": {}
                },
                {
                    "output_type": "display_data",
                    "data": {
                        "text/html": "Commands completed successfully."
                    },
                    "metadata": {}
                },
                {
                    "output_type": "display_data",
                    "data": {
                        "text/html": "Total execution time: 00:00:00.016"
                    },
                    "metadata": {}
                }
            ],
            "execution_count": 29
        },
        {
            "cell_type": "markdown",
            "source": [
                "## (2) Erstellen des Security Policy"
            ],
            "metadata": {
                "azdata_cell_guid": "311f5369-421e-42ad-a1fb-c4bd7e939dc6"
            },
            "attachments": {}
        },
        {
            "cell_type": "code",
            "source": [
                "Drop SECURITY POLICY if exists TurnoverFilter1\r\n",
                "Drop SECURITY POLICY if exists TurnoverFilter3\r\n",
                "GO\r\n",
                "CREATE SECURITY POLICY TurnoverFilter3\r\n",
                "ADD FILTER PREDICATE dbo.tvf_Tunover_Security3([Country])\r\n",
                "ON dbo.Turnover\r\n",
                "WITH (STATE = ON);  \r\n",
                "GO"
            ],
            "metadata": {
                "azdata_cell_guid": "a0b760e3-af4a-4c4c-9b1f-5cef0c2534f4",
                "language": "sql"
            },
            "outputs": [
                {
                    "output_type": "display_data",
                    "data": {
                        "text/html": "Commands completed successfully."
                    },
                    "metadata": {}
                },
                {
                    "output_type": "display_data",
                    "data": {
                        "text/html": "Commands completed successfully."
                    },
                    "metadata": {}
                },
                {
                    "output_type": "display_data",
                    "data": {
                        "text/html": "Total execution time: 00:00:00.016"
                    },
                    "metadata": {}
                }
            ],
            "execution_count": 30
        },
        {
            "cell_type": "markdown",
            "source": [
                "# Limitieren der Schreibrechte\n",
                "\n",
                "BLOCK Predicates funktionieren ähnlich den FILTER PREDICATES, was dazu führt, dass man bereits entwickelte FILTER PREDICATES wiederverwenden kann.\n",
                "\n",
                "Beispiel ohen konkrete Einschränkung auf eine Operation\n",
                "\n",
                "```\n",
                "CREATE SECURITY POLICY Security.userAccessPolicy\n",
                " ADD FILTER PREDICATE Security.userAccessPredicate(UserId) ON dbo.MyTable,\n",
                " ADD BLOCK PREDICATE Security.userAccessPredicate(UserId) ON dbo.MyTable\n",
                "```"
            ],
            "metadata": {
                "azdata_cell_guid": "629810ee-46a2-49e9-a3b9-b8e346f92c89"
            },
            "attachments": {}
        },
        {
            "cell_type": "markdown",
            "source": [
                "Wenn keine Operation festgelegt wird, wirkt sich auf jeder Operation aus. Man kann aber auch den Block Predicate auf einzelne Operationen einschränken:\n",
                "\n",
                "- AFTER INSERT and AFTER UPDATE - prüft gegen die neue Zeile\n",
                "- BEFORE UPDATE and BEFORE DELETE - prüft gegen die alte Zeile\n",
                "\n",
                "```\n",
                "CREATE SECURITY POLICY Security.tenantPolicy\n",
                " ADD FILTER PREDICATE Security.tenantAccessPredicate(TenantId) ON dbo.Sales,\n",
                " ADD BLOCK PREDICATE Security.tenantAccessPredicate(TenantId) ON dbo.Sales AFTER INSERT\n",
                "go\n",
                "```"
            ],
            "metadata": {
                "azdata_cell_guid": "9a7c2718-134d-4360-8ee9-52c4c3a4304f"
            },
            "attachments": {}
        },
        {
            "cell_type": "markdown",
            "source": [
                "Anmerkung:  \n",
                "\n",
                "- Wird ein Filter-predicate verwendet, benötigt man keine BEFORE UPDATE oder BEFORE DELETE Block Predicate. \n",
                "- Hat man eine Spalten Permission, benötigt man auch keinen AFTER UPDATE"
            ],
            "metadata": {
                "azdata_cell_guid": "161dbafb-a25a-4bab-837c-d7949a7029d6"
            },
            "attachments": {}
        },
        {
            "cell_type": "markdown",
            "source": [
                "## INSERT, UPDATE , DELTE"
            ],
            "metadata": {
                "azdata_cell_guid": "e239227c-a5fb-4f23-991d-ad011eca45bd"
            },
            "attachments": {}
        },
        {
            "cell_type": "code",
            "source": [
                "DROP SECURITY POLICY IF EXISTS [dbo].[TurnoverFilter1]\r\n",
                "DROP SECURITY POLICY IF EXISTS [dbo].[TurnoverFilter2]\r\n",
                "DROP SECURITY POLICY IF EXISTS [dbo].[TurnoverFilter3]\r\n",
                "DROP SECURITY POLICY IF EXISTS [dbo].[TurnoverFilter5]\r\n",
                "\r\n",
                "Drop Function if exists [dbo].[tvf_Tunover_Security1]\r\n",
                "Drop Function if exists [dbo].[tvf_Tunover_Security2]\r\n",
                "Drop Function if exists [dbo].[tvf_Tunover_Security3]\r\n",
                "Drop Function if exists [dbo].[tvf_Tunover_Security5]\r\n",
                "\r\n",
                "\r\n",
                "CREATE FUNCTION [dbo].[tvf_Tunover_Security5](@Country as VARCHAR(50))\r\n",
                "    RETURNS TABLE\r\n",
                "WITH SCHEMABINDING\r\n",
                "AS\r\n",
                "    RETURN SELECT 1 AS tvf_Tunover_Security5_Result\r\n",
                "    -- Logic for filter predicate\r\n",
                "    WHERE (@Country in (Select [Country] from [dbo].[Permisisons] where [Username] = USER_NAME()))\r\n",
                "    OR (USER_NAME() = 'user_RLS_unlimited');\r\n",
                "GO\r\n",
                "\r\n",
                "CREATE SECURITY POLICY [dbo].[TurnoverFilter5]\r\n",
                " ADD FILTER PREDICATE [dbo].[tvf_Tunover_Security5]([Country]) ON [dbo].[Turnover],\r\n",
                " ADD BLOCK PREDICATE [dbo].[tvf_Tunover_Security5]([Country]) ON [dbo].[Turnover] \r\n",
                "go\r\n",
                ""
            ],
            "metadata": {
                "azdata_cell_guid": "e06f3161-d5e6-4257-8764-bf76797e0ce4",
                "language": "sql"
            },
            "outputs": [],
            "execution_count": null
        },
        {
            "cell_type": "code",
            "source": [
                "GRANT INSERT ON dbo.Turnover TO user_RLS_limited;\r\n",
                "GRANT DELETE ON dbo.Turnover TO user_RLS_limited;\r\n",
                "GRANT UPDATE ON dbo.Turnover TO user_RLS_limited;"
            ],
            "metadata": {
                "azdata_cell_guid": "b51660f6-f2ff-4cb3-a29c-68e6e997ece9",
                "tags": [],
                "language": "sql"
            },
            "outputs": [],
            "execution_count": null
        },
        {
            "cell_type": "markdown",
            "source": [
                "## UPDATE, DELETE"
            ],
            "metadata": {
                "azdata_cell_guid": "ff1eb952-9a68-4340-a7fb-8dd9170e3198"
            },
            "attachments": {}
        },
        {
            "cell_type": "code",
            "source": [
                "-- auszuführen mit einem User mit eingeschränkten Rechten\r\n",
                "-- FILTER PREDICATE => nur Germany\r\n",
                "Select * from [dbo].[Turnover]\r\n",
                "-- nicht zulässig, da 'Austria'\r\n",
                "INSERT INTO [dbo].[Turnover]([Country],[Turnover])\r\n",
                "Values ('Austria','1558')\r\n",
                "\r\n",
                "-- zulässig, da 'Germany'\r\n",
                "INSERT INTO [dbo].[Turnover]([Country],[Turnover])\r\n",
                "Values ('Germany','1558')\r\n",
                "\r\n",
                "-- Ausgabe\r\n",
                "Select * from [dbo].[Turnover]\r\n",
                "\r\n",
                "-- zulässig, aber 0 rows affected, da die anderen nicht sichbar für den User sind\r\n",
                "Delete [dbo].[Turnover]\r\n",
                "Where Country = 'Austria'\r\n",
                "\r\n",
                "-- zulässig\r\n",
                "Delete [dbo].[Turnover]\r\n",
                "Where Turnover = 1558.0000\r\n",
                "and Country = 'Germany'\r\n",
                "\r\n",
                "-- nichts passiert, da dieser Datensatz nicht für user sichtbar\r\n",
                "Update [dbo].[Turnover]\r\n",
                "Set Turnover = 100000\r\n",
                "where ID = 3\r\n",
                "-- ok, da es sich um einen Germany DS handelt\r\n",
                "Update [dbo].[Turnover]\r\n",
                "Set Turnover = 500\r\n",
                "where ID = 4\r\n",
                ""
            ],
            "metadata": {
                "azdata_cell_guid": "05bc6984-831f-4af7-9ffb-f7fc9ea30440",
                "language": "sql"
            },
            "outputs": [],
            "execution_count": null
        },
        {
            "cell_type": "code",
            "source": [
                "DROP SECURITY POLICY IF EXISTS [dbo].[TurnoverFilter1]\r\n",
                "DROP SECURITY POLICY IF EXISTS [dbo].[TurnoverFilter2]\r\n",
                "DROP SECURITY POLICY IF EXISTS [dbo].[TurnoverFilter3]\r\n",
                "DROP SECURITY POLICY IF EXISTS [dbo].[TurnoverFilter5]\r\n",
                "\r\n",
                "Drop Function if exists [dbo].[tvf_Tunover_Security1]\r\n",
                "Drop Function if exists [dbo].[tvf_Tunover_Security2]\r\n",
                "Drop Function if exists [dbo].[tvf_Tunover_Security3]\r\n",
                "Drop Function if exists [dbo].[tvf_Tunover_Security5]\r\n",
                "\r\n",
                "\r\n",
                "CREATE FUNCTION [dbo].[tvf_Tunover_Security5](@Country as VARCHAR(50))\r\n",
                "    RETURNS TABLE\r\n",
                "WITH SCHEMABINDING\r\n",
                "AS\r\n",
                "    RETURN SELECT 1 AS tvf_Tunover_Security5_Result\r\n",
                "    -- Logic for filter predicate\r\n",
                "    WHERE (@Country in (Select [Country] from [dbo].[Permisisons] where [Username] = USER_NAME()))\r\n",
                "    OR (USER_NAME() = 'user_RLS_unlimited');\r\n",
                "GO\r\n",
                "\r\n",
                "CREATE SECURITY POLICY [dbo].[TurnoverFilter5]\r\n",
                " ADD FILTER PREDICATE [dbo].[tvf_Tunover_Security5]([Country]) ON [dbo].[Turnover],\r\n",
                " ADD BLOCK PREDICATE [dbo].[tvf_Tunover_Security5]([Country]) ON [dbo].[Turnover] Before Update,\r\n",
                " ADD BLOCK PREDICATE [dbo].[tvf_Tunover_Security5]([Country]) ON [dbo].[Turnover] Before Delete\r\n",
                "go"
            ],
            "metadata": {
                "azdata_cell_guid": "659c189c-6f00-4a50-a666-92553d20c25a",
                "language": "sql"
            },
            "outputs": [],
            "execution_count": null
        },
        {
            "cell_type": "code",
            "source": [
                "\r\n",
                "GRANT INSERT ON dbo.Turnover TO user_RLS_limited;\r\n",
                "GRANT DELETE ON dbo.Turnover TO user_RLS_limited;\r\n",
                "GRANT UPDATE ON dbo.Turnover TO user_RLS_limited;"
            ],
            "metadata": {
                "azdata_cell_guid": "d2d38f19-206e-4602-b3ac-f1092ef6f8c6",
                "language": "sql"
            },
            "outputs": [],
            "execution_count": null
        },
        {
            "cell_type": "code",
            "source": [
                "-- auszuführen mit einem User mit eingeschränkten Rechten\r\n",
                "-- FILTER PREDICATE => nur Germany\r\n",
                "Select * from [dbo].[Turnover]\r\n",
                "-- zulässig, da kein AFTER IMPORT\r\n",
                "INSERT INTO [dbo].[Turnover]([Country],[Turnover])\r\n",
                "Values ('Austria','1558')\r\n",
                "\r\n",
                "-- zulässig, da 'Germany'\r\n",
                "INSERT INTO [dbo].[Turnover]([Country],[Turnover])\r\n",
                "Values ('Germany','1558')\r\n",
                "\r\n",
                "-- Ausgabe\r\n",
                "Select * from [dbo].[Turnover]\r\n",
                "\r\n",
                "-- zulässig, aber 0 rows affected, da die anderen nicht sichbar für den User sind\r\n",
                "Delete [dbo].[Turnover]\r\n",
                "Where Country = 'Austria'\r\n",
                "\r\n",
                "-- zulässig\r\n",
                "Delete [dbo].[Turnover]\r\n",
                "Where Turnover = 1558.0000\r\n",
                "and Country = 'Germany'\r\n",
                "\r\n",
                "-- nichts passiert, da dieser Datensatz nicht für user sichtbar\r\n",
                "Update [dbo].[Turnover]\r\n",
                "Set Turnover = 100000\r\n",
                "where ID = 3\r\n",
                "-- ok, da es sich um einen Germany DS handelt\r\n",
                "Update [dbo].[Turnover]\r\n",
                "Set Turnover = 500\r\n",
                "where ID = 4"
            ],
            "metadata": {
                "azdata_cell_guid": "fe56c164-9495-4a06-8caa-b0ad826e187b",
                "tags": [
                    "hide_input"
                ],
                "language": "sql"
            },
            "outputs": [],
            "execution_count": null
        },
        {
            "cell_type": "markdown",
            "source": [
                "# Datenbank löschen"
            ],
            "metadata": {
                "azdata_cell_guid": "05844de2-5ae2-48fc-9cab-86997e945e17"
            },
            "attachments": {}
        },
        {
            "cell_type": "code",
            "source": [
                "use master \r\n",
                "go\r\n",
                "alter database [TEST_RLS_SQL]\r\n",
                "set single_user with rollback immediate\r\n",
                "GO\r\n",
                "Drop DATABASE if exists [TEST_RLS_SQL]\r\n",
                "GO"
            ],
            "metadata": {
                "azdata_cell_guid": "54bd038f-21fd-4163-a616-7ed557905fcd",
                "language": "sql"
            },
            "outputs": [],
            "execution_count": null
        }
    ]
}