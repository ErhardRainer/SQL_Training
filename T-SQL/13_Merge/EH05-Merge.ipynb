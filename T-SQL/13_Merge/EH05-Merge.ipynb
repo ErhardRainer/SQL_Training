{
    "metadata": {
        "kernelspec": {
            "name": "SQL",
            "display_name": "SQL",
            "language": "sql"
        },
        "language_info": {
            "name": "sql",
            "version": ""
        }
    },
    "nbformat_minor": 2,
    "nbformat": 4,
    "cells": [
        {
            "cell_type": "markdown",
            "source": [
                "# Merge\n",
                "\n",
                "eingeführt SQL Server 2008\n",
                "\n",
                "**<u>vereinfachte Syntax:</u>**\n",
                "\n",
                "<span class=\"crayon-i\" style=\"margin:0px;padding:0px;border:0px;vertical-align:baseline;font-family:inherit;color:rgb(0, 128, 128);\">MERGE</span> <span class=\"crayon-k\" style=\"margin:0px;padding:0px;border:0px;vertical-align:baseline;font-family:inherit;color:rgb(0, 0, 255);\">TOP</span> <span class=\"crayon-sy\" style=\"margin:0px;padding:0px;border:0px;vertical-align:baseline;font-family:inherit;color:rgb(51, 51, 51);\">(</span><span class=\"crayon-k\" style=\"margin:0px;padding:0px;border:0px;vertical-align:baseline;font-family:inherit;color:rgb(0, 0, 255);\">value</span><span class=\"crayon-sy\" style=\"margin:0px;padding:0px;border:0px;vertical-align:baseline;font-family:inherit;color:rgb(51, 51, 51);\">)</span> <span class=\"crayon-o\" style=\"margin:0px;padding:0px;border:0px;vertical-align:baseline;font-family:inherit;color:rgb(128, 128, 128);\">&lt;</span><span class=\"crayon-i\" style=\"margin:0px;padding:0px;border:0px;vertical-align:baseline;font-family:inherit;color:rgb(0, 128, 128);\">target_table</span><span class=\"crayon-o\" style=\"margin:0px;padding:0px;border:0px;vertical-align:baseline;font-family:inherit;\"><font color=\"#808080\">&gt;<br></font></span><span class=\"crayon-k\" style=\"font-family:inherit;margin:0px;padding:0px;border:0px;vertical-align:baseline;color:rgb(0, 0, 255);\">USING</span> <span class=\"crayon-o\" style=\"font-family:inherit;margin:0px;padding:0px;border:0px;vertical-align:baseline;color:rgb(128, 128, 128);\">&lt;</span><span class=\"crayon-i\" style=\"font-family:inherit;margin:0px;padding:0px;border:0px;vertical-align:baseline;color:rgb(0, 128, 128);\">table_source</span><span class=\"crayon-o\" style=\"font-family:inherit;margin:0px;padding:0px;border:0px;vertical-align:baseline;\"><font color=\"#808080\">&gt;<br></font></span><span class=\"crayon-k\" style=\"font-family:inherit;margin:0px;padding:0px;border:0px;vertical-align:baseline;color:rgb(0, 0, 255);\">ON</span> <span class=\"crayon-o\" style=\"font-family:inherit;margin:0px;padding:0px;border:0px;vertical-align:baseline;color:rgb(128, 128, 128);\">&lt;</span><span class=\"crayon-i\" style=\"font-family:inherit;margin:0px;padding:0px;border:0px;vertical-align:baseline;color:rgb(0, 128, 128);\">merge_search_condition</span><span class=\"crayon-o\" style=\"font-family:inherit;margin:0px;padding:0px;border:0px;vertical-align:baseline;\"><font color=\"#808080\">&gt;<br></font></span><span class=\"crayon-sy\" style=\"font-family:inherit;margin:0px;padding:0px;border:0px;vertical-align:baseline;color:rgb(51, 51, 51);\">[</span> <span class=\"crayon-k\" style=\"font-family:inherit;margin:0px;padding:0px;border:0px;vertical-align:baseline;color:rgb(0, 0, 255);\">WHEN</span> <span class=\"crayon-i\" style=\"font-family:inherit;margin:0px;padding:0px;border:0px;vertical-align:baseline;color:rgb(0, 128, 128);\">MATCHED</span> <span class=\"crayon-sy\" style=\"font-family:inherit;margin:0px;padding:0px;border:0px;vertical-align:baseline;color:rgb(51, 51, 51);\">[</span> <span class=\"crayon-k \" style=\"font-family:inherit;margin:0px;padding:0px;border:0px;vertical-align:baseline;color:rgb(0, 0, 255);\">AND</span> <span class=\"crayon-o\" style=\"font-family:inherit;margin:0px;padding:0px;border:0px;vertical-align:baseline;color:rgb(128, 128, 128);\">&lt;</span><span class=\"crayon-i\" style=\"font-family:inherit;margin:0px;padding:0px;border:0px;vertical-align:baseline;color:rgb(0, 128, 128);\">clause_search_condition</span><span class=\"crayon-o\" style=\"font-family:inherit;margin:0px;padding:0px;border:0px;vertical-align:baseline;color:rgb(128, 128, 128);\">&gt;</span> <span class=\"crayon-sy\" style=\"font-family:inherit;margin:0px;padding:0px;border:0px;vertical-align:baseline;\"><font color=\"#333333\">]<br></font></span><span class=\"crayon-k\" style=\"font-family:inherit;margin:0px;padding:0px;border:0px;vertical-align:baseline;color:rgb(0, 0, 255);\">THEN</span> <span class=\"crayon-o\" style=\"font-family:inherit;margin:0px;padding:0px;border:0px;vertical-align:baseline;color:rgb(128, 128, 128);\">&lt;</span><span class=\"crayon-i\" style=\"font-family:inherit;margin:0px;padding:0px;border:0px;vertical-align:baseline;color:rgb(0, 128, 128);\">merge_matched</span><span class=\"crayon-o\" style=\"font-family:inherit;margin:0px;padding:0px;border:0px;vertical-align:baseline;color:rgb(128, 128, 128);\">&gt;</span> <span class=\"crayon-sy\" style=\"font-family:inherit;margin:0px;padding:0px;border:0px;vertical-align:baseline;color:rgb(51, 51, 51);\">]<br></span><span class=\"crayon-sy\" style=\"font-family:inherit;margin:0px;padding:0px;border:0px;vertical-align:baseline;color:rgb(51, 51, 51);\">[</span> <span class=\"crayon-k\" style=\"font-family:inherit;margin:0px;padding:0px;border:0px;vertical-align:baseline;color:rgb(0, 0, 255);\">WHEN</span> <span class=\"crayon-k \" style=\"font-family:inherit;margin:0px;padding:0px;border:0px;vertical-align:baseline;color:rgb(0, 0, 255);\">NOT</span> <span class=\"crayon-i\" style=\"font-family:inherit;margin:0px;padding:0px;border:0px;vertical-align:baseline;color:rgb(0, 128, 128);\">MATCHED</span> <span class=\"crayon-sy\" style=\"font-family:inherit;margin:0px;padding:0px;border:0px;vertical-align:baseline;color:rgb(51, 51, 51);\">[</span> <span class=\"crayon-k\" style=\"font-family:inherit;margin:0px;padding:0px;border:0px;vertical-align:baseline;color:rgb(0, 0, 255);\">BY</span> <span class=\"crayon-i\" style=\"font-family:inherit;margin:0px;padding:0px;border:0px;vertical-align:baseline;color:rgb(0, 128, 128);\">TARGET</span> <span class=\"crayon-sy\" style=\"font-family:inherit;margin:0px;padding:0px;border:0px;vertical-align:baseline;color:rgb(51, 51, 51);\">]</span> <span class=\"crayon-sy\" style=\"font-family:inherit;margin:0px;padding:0px;border:0px;vertical-align:baseline;color:rgb(51, 51, 51);\">[</span> <span class=\"crayon-k \" style=\"font-family:inherit;margin:0px;padding:0px;border:0px;vertical-align:baseline;color:rgb(0, 0, 255);\">AND</span> <span class=\"crayon-o\" style=\"font-family:inherit;margin:0px;padding:0px;border:0px;vertical-align:baseline;color:rgb(128, 128, 128);\">&lt;</span><span class=\"crayon-i\" style=\"font-family:inherit;margin:0px;padding:0px;border:0px;vertical-align:baseline;color:rgb(0, 128, 128);\">clause_search_condition</span><span class=\"crayon-o\" style=\"font-family:inherit;margin:0px;padding:0px;border:0px;vertical-align:baseline;color:rgb(128, 128, 128);\">&gt;</span> <span class=\"crayon-sy\" style=\"font-family:inherit;margin:0px;padding:0px;border:0px;vertical-align:baseline;\"><font color=\"#333333\">]<br></font></span><span class=\"crayon-k\" style=\"font-family:inherit;margin:0px;padding:0px;border:0px;vertical-align:baseline;color:rgb(0, 0, 255);\">THEN</span> <span class=\"crayon-o\" style=\"font-family:inherit;margin:0px;padding:0px;border:0px;vertical-align:baseline;color:rgb(128, 128, 128);\">&lt;</span><span class=\"crayon-i\" style=\"font-family:inherit;margin:0px;padding:0px;border:0px;vertical-align:baseline;color:rgb(0, 128, 128);\">merge_not_matched</span><span class=\"crayon-o\" style=\"font-family:inherit;margin:0px;padding:0px;border:0px;vertical-align:baseline;color:rgb(128, 128, 128);\">&gt;</span> <span class=\"crayon-sy\" style=\"font-family:inherit;margin:0px;padding:0px;border:0px;vertical-align:baseline;color:rgb(51, 51, 51);\">]<br></span><span class=\"crayon-sy\" style=\"font-family:inherit;margin:0px;padding:0px;border:0px;vertical-align:baseline;color:rgb(51, 51, 51);\">[</span> <span class=\"crayon-k\" style=\"font-family:inherit;margin:0px;padding:0px;border:0px;vertical-align:baseline;color:rgb(0, 0, 255);\">WHEN</span> <span class=\"crayon-k \" style=\"font-family:inherit;margin:0px;padding:0px;border:0px;vertical-align:baseline;color:rgb(0, 0, 255);\">NOT</span> <span class=\"crayon-i\" style=\"font-family:inherit;margin:0px;padding:0px;border:0px;vertical-align:baseline;color:rgb(0, 128, 128);\">MATCHED</span> <span class=\"crayon-k\" style=\"font-family:inherit;margin:0px;padding:0px;border:0px;vertical-align:baseline;color:rgb(0, 0, 255);\">BY</span> <span class=\"crayon-i\" style=\"font-family:inherit;margin:0px;padding:0px;border:0px;vertical-align:baseline;color:rgb(0, 128, 128);\">SOURCE</span> <span class=\"crayon-sy\" style=\"font-family:inherit;margin:0px;padding:0px;border:0px;vertical-align:baseline;color:rgb(51, 51, 51);\">[</span> <span class=\"crayon-k \" style=\"font-family:inherit;margin:0px;padding:0px;border:0px;vertical-align:baseline;color:rgb(0, 0, 255);\">AND</span> <span class=\"crayon-o\" style=\"font-family:inherit;margin:0px;padding:0px;border:0px;vertical-align:baseline;color:rgb(128, 128, 128);\">&lt;</span><span class=\"crayon-i\" style=\"font-family:inherit;margin:0px;padding:0px;border:0px;vertical-align:baseline;color:rgb(0, 128, 128);\">clause_search_condition</span><span class=\"crayon-o\" style=\"font-family:inherit;margin:0px;padding:0px;border:0px;vertical-align:baseline;color:rgb(128, 128, 128);\">&gt;</span> <span class=\"crayon-sy\" style=\"font-family:inherit;margin:0px;padding:0px;border:0px;vertical-align:baseline;\"><font color=\"#333333\">]<br></font></span><span class=\"crayon-k\" style=\"font-family:inherit;margin:0px;padding:0px;border:0px;vertical-align:baseline;color:rgb(0, 0, 255);\">THEN</span> <span class=\"crayon-o\" style=\"font-family:inherit;margin:0px;padding:0px;border:0px;vertical-align:baseline;color:rgb(128, 128, 128);\">&lt;</span><span class=\"crayon-i\" style=\"font-family:inherit;margin:0px;padding:0px;border:0px;vertical-align:baseline;color:rgb(0, 128, 128);\">merge_matched</span><span class=\"crayon-o\" style=\"font-family:inherit;margin:0px;padding:0px;border:0px;vertical-align:baseline;color:rgb(128, 128, 128);\">&gt;</span> <span class=\"crayon-sy\" style=\"font-family:inherit;margin:0px;padding:0px;border:0px;vertical-align:baseline;color:rgb(51, 51, 51);\">]<br></span><span class=\"crayon-sy\" style=\"font-family:inherit;margin:0px;padding:0px;border:0px;vertical-align:baseline;color:rgb(51, 51, 51);\">[</span> <span class=\"crayon-o\" style=\"font-family:inherit;margin:0px;padding:0px;border:0px;vertical-align:baseline;color:rgb(128, 128, 128);\">&lt;</span><span class=\"crayon-i\" style=\"font-family:inherit;margin:0px;padding:0px;border:0px;vertical-align:baseline;color:rgb(0, 128, 128);\">output_clause</span><span class=\"crayon-o\" style=\"font-family:inherit;margin:0px;padding:0px;border:0px;vertical-align:baseline;color:rgb(128, 128, 128);\">&gt;</span> <span class=\"crayon-sy\" style=\"font-family:inherit;margin:0px;padding:0px;border:0px;vertical-align:baseline;color:rgb(51, 51, 51);\">]<br></span><span class=\"crayon-sy\" style=\"font-family:inherit;margin:0px;padding:0px;border:0px;vertical-align:baseline;color:rgb(51, 51, 51);\">[</span> <span class=\"crayon-k\" style=\"font-family:inherit;margin:0px;padding:0px;border:0px;vertical-align:baseline;color:rgb(0, 0, 255);\">OPTION</span> <span class=\"crayon-sy\" style=\"font-family:inherit;margin:0px;padding:0px;border:0px;vertical-align:baseline;color:rgb(51, 51, 51);\">(</span> <span class=\"crayon-o\" style=\"font-family:inherit;margin:0px;padding:0px;border:0px;vertical-align:baseline;color:rgb(128, 128, 128);\">&lt;</span><span class=\"crayon-i\" style=\"font-family:inherit;margin:0px;padding:0px;border:0px;vertical-align:baseline;color:rgb(0, 128, 128);\">query_hint</span><span class=\"crayon-o\" style=\"font-family:inherit;margin:0px;padding:0px;border:0px;vertical-align:baseline;color:rgb(128, 128, 128);\">&gt;</span> <span class=\"crayon-sy\" style=\"font-family:inherit;margin:0px;padding:0px;border:0px;vertical-align:baseline;color:rgb(51, 51, 51);\">)</span> <span class=\"crayon-sy\" style=\"font-family:inherit;margin:0px;padding:0px;border:0px;vertical-align:baseline;color:rgb(51, 51, 51);\">]<br></span><span style=\"color:rgb(51, 51, 51);font-family:inherit;\">;</span>\n",
                "\n",
                "[https://docs.microsoft.com/en-us/sql/t-sql/statements/merge-transact-sql?view=sql-server-ver15](https://docs.microsoft.com/en-us/sql/t-sql/statements/merge-transact-sql?view=sql-server-ver15)\n",
                "\n",
                "**<u>UseCase:</u>** Man hat eine neue Tabelle (Quelle) und man möche diese mit den bestehenden Daten (Target) abgleichen.  \n",
                "\n",
                "Hierbei gibt es 3 Fälle:\n",
                "\n",
                "- neue Datensätze (Quelle) sollen in der Zieltabelle (Target) ergänzt werden\n",
                "- veraltete Datensätze (Target) sollen gelöscht werden, da sie in der Quelle (Source) nicht mehr vorkommen\n",
                "- Datensaätze die sich verändert haben sollen entsprechend der Werte in der Quelle (Source) in der Zieltabelel (Target) aktualisiert werden.\n",
                "\n",
                "![SQL Server MERGE](https://www.sqlservertutorial.net/wp-content/uploads/SQL-Server-MERGE.png)  \n",
                "\n",
                "Grafik: [https://www.sqlservertutorial.net/sql-server-basics/sql-server-merge/](https://www.sqlservertutorial.net/sql-server-basics/sql-server-merge/)"
            ],
            "metadata": {
                "azdata_cell_guid": "9884baec-128a-4fba-9381-81fd42bd846d"
            },
            "attachments": {}
        },
        {
            "cell_type": "markdown",
            "source": [
                "**<u>Beispiel 1:</u>** Vorbereitung"
            ],
            "metadata": {
                "azdata_cell_guid": "fa6edd85-5da0-41ce-b999-0e617655165a"
            }
        },
        {
            "cell_type": "code",
            "source": [
                "USE MASTER\r\n",
                "GO\r\n",
                "DROP DATABASE IF EXISTS MERGETEST\r\n",
                "GO\r\n",
                "CREATE DATABASE MERGETEST\r\n",
                "GO\r\n",
                "\r\n",
                "USE MERGETEST\r\n",
                "GO\r\n",
                "-- TAbellen befüllen\r\n",
                "-- Drop Table dbo.category\r\n",
                "-- Drop Table dbo.category_staging\r\n",
                "CREATE TABLE dbo.category (\r\n",
                "    category_id INT PRIMARY KEY,\r\n",
                "    category_name VARCHAR(255) NOT NULL,\r\n",
                "    amount DECIMAL(10 , 2 )\r\n",
                ");\r\n",
                " \r\n",
                "INSERT INTO dbo.category(category_id, category_name, amount)\r\n",
                "VALUES(1,'Children Bicycles',15000),\r\n",
                "    (2,'Comfort Bicycles',25000),\r\n",
                "    (3,'Cruisers Bicycles',13000),\r\n",
                "    (4,'Cyclocross Bicycles',10000);\r\n",
                " \r\n",
                " \r\n",
                "CREATE TABLE dbo.category_staging (\r\n",
                "    category_id INT PRIMARY KEY,\r\n",
                "    category_name VARCHAR(255) NOT NULL,\r\n",
                "    amount DECIMAL(10 , 2 )\r\n",
                ");\r\n",
                " \r\n",
                " \r\n",
                "INSERT INTO dbo.category_staging(category_id, category_name, amount)\r\n",
                "VALUES(1,'Children Bicycles',15000),\r\n",
                "    (3,'Cruisers Bicycles',13000),\r\n",
                "    (4,'Cyclocross Bicycles',20000),\r\n",
                "    (5,'Electric Bikes',10000),\r\n",
                "    (6,'Mountain Bikes',10000);"
            ],
            "metadata": {
                "azdata_cell_guid": "7fcdeaa9-4522-40b1-9f09-f704517bf0eb"
            },
            "outputs": [
                {
                    "output_type": "display_data",
                    "data": {
                        "text/html": "Commands completed successfully."
                    },
                    "metadata": {}
                },
                {
                    "output_type": "display_data",
                    "data": {
                        "text/html": "Commands completed successfully."
                    },
                    "metadata": {}
                },
                {
                    "output_type": "display_data",
                    "data": {
                        "text/html": "Commands completed successfully."
                    },
                    "metadata": {}
                },
                {
                    "output_type": "display_data",
                    "data": {
                        "text/html": "Commands completed successfully."
                    },
                    "metadata": {}
                },
                {
                    "output_type": "display_data",
                    "data": {
                        "text/html": "(4 rows affected)"
                    },
                    "metadata": {}
                },
                {
                    "output_type": "display_data",
                    "data": {
                        "text/html": "(5 rows affected)"
                    },
                    "metadata": {}
                },
                {
                    "output_type": "display_data",
                    "data": {
                        "text/html": "Total execution time: 00:00:00.332"
                    },
                    "metadata": {}
                }
            ],
            "execution_count": 1
        },
        {
            "cell_type": "code",
            "source": [
                "USE MERGETEST\r\n",
                "GO\r\n",
                "-- Tabellen ausgeben\r\n",
                "Select * from dbo.category\r\n",
                "Select * from dbo.category_staging\r\n",
                "-- 2 fehlt in STAGING\r\n",
                "-- 4 hat ungleiche Werte\r\n",
                "-- 5+6 ins neu in STAGING"
            ],
            "metadata": {
                "azdata_cell_guid": "68a5fec4-3dd9-40b8-851b-93e100d7d7b0"
            },
            "outputs": [],
            "execution_count": null
        },
        {
            "cell_type": "markdown",
            "source": [
                "## Beispiel 1.1: Angleichen der category an die category\\_staging\n",
                "\n",
                "- Löschen von DS 2\n",
                "- Update von DS 4\n",
                "- Einfügen von DS 5,6\n",
                "\n",
                "![SQL Server MERGE Example](https://www.sqlservertutorial.net/wp-content/uploads/SQL-Server-MERGE-Example.png)"
            ],
            "metadata": {
                "azdata_cell_guid": "78aefeb9-366d-4f04-8ea1-f342a68ed26c"
            },
            "attachments": {}
        },
        {
            "cell_type": "markdown",
            "source": [
                "**<u>Anmerkung:</u>**  \n",
                "Mit \"**Begin Transaction**\" wird eine Transaktion gestartet  \n",
                "und mit \"**Rollback Transaction**\" wieder zurückgerollt\n",
                "\n",
                "Innerhalb der Transaktion gemachte Änderungen können so einfach wieder rückgängigemacht werden."
            ],
            "metadata": {
                "azdata_cell_guid": "7f5c698a-b41e-4432-b9c1-95795e6b73a3"
            }
        },
        {
            "cell_type": "code",
            "source": [
                "-- ohne Ausgabe der Änderungen\r\n",
                "BEGIN TRANSACTION\r\n",
                "    MERGE dbo.category t \r\n",
                "        USING dbo.category_staging s\r\n",
                "    ON (s.category_id = t.category_id) -- über welche Felder wird verglichen\r\n",
                "    WHEN MATCHED\r\n",
                "        THEN UPDATE SET \r\n",
                "            t.category_name = s.category_name,\r\n",
                "            t.amount = s.amount\r\n",
                "    WHEN NOT MATCHED BY TARGET \r\n",
                "        THEN INSERT (category_id, category_name, amount)\r\n",
                "            VALUES (s.category_id, s.category_name, s.amount)\r\n",
                "    WHEN NOT MATCHED BY SOURCE \r\n",
                "        THEN DELETE;\r\n",
                "\r\n",
                "    Select * from dbo.category\r\n",
                "    Select * from dbo.category_staging\r\n",
                "ROLLBACK TRANSACTION "
            ],
            "metadata": {
                "azdata_cell_guid": "c5fd6bae-dbc1-4ad6-bc1f-0d09be342cfd",
                "tags": []
            },
            "outputs": [
                {
                    "output_type": "display_data",
                    "data": {
                        "text/html": "(6 rows affected)"
                    },
                    "metadata": {}
                },
                {
                    "output_type": "display_data",
                    "data": {
                        "text/html": "(5 rows affected)"
                    },
                    "metadata": {}
                },
                {
                    "output_type": "display_data",
                    "data": {
                        "text/html": "(5 rows affected)"
                    },
                    "metadata": {}
                },
                {
                    "output_type": "display_data",
                    "data": {
                        "text/html": "Total execution time: 00:00:00.057"
                    },
                    "metadata": {}
                },
                {
                    "output_type": "execute_result",
                    "metadata": {},
                    "execution_count": 2,
                    "data": {
                        "application/vnd.dataresource+json": {
                            "schema": {
                                "fields": [
                                    {
                                        "name": "category_id"
                                    },
                                    {
                                        "name": "category_name"
                                    },
                                    {
                                        "name": "amount"
                                    }
                                ]
                            },
                            "data": [
                                {
                                    "0": "1",
                                    "1": "Children Bicycles",
                                    "2": "15000,00"
                                },
                                {
                                    "0": "3",
                                    "1": "Cruisers Bicycles",
                                    "2": "13000,00"
                                },
                                {
                                    "0": "4",
                                    "1": "Cyclocross Bicycles",
                                    "2": "20000,00"
                                },
                                {
                                    "0": "5",
                                    "1": "Electric Bikes",
                                    "2": "10000,00"
                                },
                                {
                                    "0": "6",
                                    "1": "Mountain Bikes",
                                    "2": "10000,00"
                                }
                            ]
                        },
                        "text/html": [
                            "<table>",
                            "<tr><th>category_id</th><th>category_name</th><th>amount</th></tr>",
                            "<tr><td>1</td><td>Children Bicycles</td><td>15000,00</td></tr>",
                            "<tr><td>3</td><td>Cruisers Bicycles</td><td>13000,00</td></tr>",
                            "<tr><td>4</td><td>Cyclocross Bicycles</td><td>20000,00</td></tr>",
                            "<tr><td>5</td><td>Electric Bikes</td><td>10000,00</td></tr>",
                            "<tr><td>6</td><td>Mountain Bikes</td><td>10000,00</td></tr>",
                            "</table>"
                        ]
                    }
                },
                {
                    "output_type": "execute_result",
                    "metadata": {},
                    "execution_count": 2,
                    "data": {
                        "application/vnd.dataresource+json": {
                            "schema": {
                                "fields": [
                                    {
                                        "name": "category_id"
                                    },
                                    {
                                        "name": "category_name"
                                    },
                                    {
                                        "name": "amount"
                                    }
                                ]
                            },
                            "data": [
                                {
                                    "0": "1",
                                    "1": "Children Bicycles",
                                    "2": "15000,00"
                                },
                                {
                                    "0": "3",
                                    "1": "Cruisers Bicycles",
                                    "2": "13000,00"
                                },
                                {
                                    "0": "4",
                                    "1": "Cyclocross Bicycles",
                                    "2": "20000,00"
                                },
                                {
                                    "0": "5",
                                    "1": "Electric Bikes",
                                    "2": "10000,00"
                                },
                                {
                                    "0": "6",
                                    "1": "Mountain Bikes",
                                    "2": "10000,00"
                                }
                            ]
                        },
                        "text/html": [
                            "<table>",
                            "<tr><th>category_id</th><th>category_name</th><th>amount</th></tr>",
                            "<tr><td>1</td><td>Children Bicycles</td><td>15000,00</td></tr>",
                            "<tr><td>3</td><td>Cruisers Bicycles</td><td>13000,00</td></tr>",
                            "<tr><td>4</td><td>Cyclocross Bicycles</td><td>20000,00</td></tr>",
                            "<tr><td>5</td><td>Electric Bikes</td><td>10000,00</td></tr>",
                            "<tr><td>6</td><td>Mountain Bikes</td><td>10000,00</td></tr>",
                            "</table>"
                        ]
                    }
                }
            ],
            "execution_count": 2
        },
        {
            "cell_type": "code",
            "source": [
                "-- mit Ausgabe der Änderungen\r\n",
                "BEGIN TRANSACTION\r\n",
                "    MERGE dbo.category t \r\n",
                "        USING dbo.category_staging s\r\n",
                "    ON (s.category_id = t.category_id)\r\n",
                "    WHEN MATCHED\r\n",
                "        THEN UPDATE SET \r\n",
                "            t.category_name = s.category_name,\r\n",
                "            t.amount = s.amount\r\n",
                "    WHEN NOT MATCHED BY TARGET \r\n",
                "        THEN INSERT (category_id, category_name, amount)\r\n",
                "            VALUES (s.category_id, s.category_name, s.amount)\r\n",
                "    WHEN NOT MATCHED BY SOURCE \r\n",
                "        THEN DELETE\r\n",
                "    -- Unterschied zu oben\r\n",
                "    OUTPUT $action, Inserted.category_id as Inserted_category_id, \r\n",
                "        Inserted.category_name as Inserted_category_name,\r\n",
                "        Inserted.amount as Inserted_camount,\r\n",
                "        Deleted.category_id as Deleted_category_id,\r\n",
                "        Deleted.category_name as Deleted_category_name,\r\n",
                "        Deleted.amount as Deleted_camount,\r\n",
                "        getdate() as [DateSTtamp];\r\n",
                "    --\r\n",
                "    Select * from dbo.category\r\n",
                "    Select * from dbo.category_staging\r\n",
                "ROLLBACK TRANSACTION "
            ],
            "metadata": {
                "azdata_cell_guid": "cc386179-3d66-43ca-b000-64bcd85cb525"
            },
            "outputs": [
                {
                    "output_type": "display_data",
                    "data": {
                        "text/html": "(6 rows affected)"
                    },
                    "metadata": {}
                },
                {
                    "output_type": "display_data",
                    "data": {
                        "text/html": "(5 rows affected)"
                    },
                    "metadata": {}
                },
                {
                    "output_type": "display_data",
                    "data": {
                        "text/html": "(5 rows affected)"
                    },
                    "metadata": {}
                },
                {
                    "output_type": "display_data",
                    "data": {
                        "text/html": "Total execution time: 00:00:00.061"
                    },
                    "metadata": {}
                },
                {
                    "output_type": "execute_result",
                    "metadata": {},
                    "execution_count": 3,
                    "data": {
                        "application/vnd.dataresource+json": {
                            "schema": {
                                "fields": [
                                    {
                                        "name": "$action"
                                    },
                                    {
                                        "name": "Inserted_category_id"
                                    },
                                    {
                                        "name": "Inserted_category_name"
                                    },
                                    {
                                        "name": "Inserted_camount"
                                    },
                                    {
                                        "name": "Deleted_category_id"
                                    },
                                    {
                                        "name": "Deleted_category_name"
                                    },
                                    {
                                        "name": "Deleted_camount"
                                    },
                                    {
                                        "name": "DateSTtamp"
                                    }
                                ]
                            },
                            "data": [
                                {
                                    "0": "UPDATE",
                                    "1": "1",
                                    "2": "Children Bicycles",
                                    "3": "15000,00",
                                    "4": "1",
                                    "5": "Children Bicycles",
                                    "6": "15000,00",
                                    "7": "2022-02-05 09:17:17.167"
                                },
                                {
                                    "0": "DELETE",
                                    "1": "NULL",
                                    "2": "NULL",
                                    "3": "NULL",
                                    "4": "2",
                                    "5": "Comfort Bicycles",
                                    "6": "25000,00",
                                    "7": "2022-02-05 09:17:17.167"
                                },
                                {
                                    "0": "UPDATE",
                                    "1": "3",
                                    "2": "Cruisers Bicycles",
                                    "3": "13000,00",
                                    "4": "3",
                                    "5": "Cruisers Bicycles",
                                    "6": "13000,00",
                                    "7": "2022-02-05 09:17:17.167"
                                },
                                {
                                    "0": "UPDATE",
                                    "1": "4",
                                    "2": "Cyclocross Bicycles",
                                    "3": "20000,00",
                                    "4": "4",
                                    "5": "Cyclocross Bicycles",
                                    "6": "10000,00",
                                    "7": "2022-02-05 09:17:17.167"
                                },
                                {
                                    "0": "INSERT",
                                    "1": "5",
                                    "2": "Electric Bikes",
                                    "3": "10000,00",
                                    "4": "NULL",
                                    "5": "NULL",
                                    "6": "NULL",
                                    "7": "2022-02-05 09:17:17.167"
                                },
                                {
                                    "0": "INSERT",
                                    "1": "6",
                                    "2": "Mountain Bikes",
                                    "3": "10000,00",
                                    "4": "NULL",
                                    "5": "NULL",
                                    "6": "NULL",
                                    "7": "2022-02-05 09:17:17.167"
                                }
                            ]
                        },
                        "text/html": [
                            "<table>",
                            "<tr><th>$action</th><th>Inserted_category_id</th><th>Inserted_category_name</th><th>Inserted_camount</th><th>Deleted_category_id</th><th>Deleted_category_name</th><th>Deleted_camount</th><th>DateSTtamp</th></tr>",
                            "<tr><td>UPDATE</td><td>1</td><td>Children Bicycles</td><td>15000,00</td><td>1</td><td>Children Bicycles</td><td>15000,00</td><td>2022-02-05 09:17:17.167</td></tr>",
                            "<tr><td>DELETE</td><td>NULL</td><td>NULL</td><td>NULL</td><td>2</td><td>Comfort Bicycles</td><td>25000,00</td><td>2022-02-05 09:17:17.167</td></tr>",
                            "<tr><td>UPDATE</td><td>3</td><td>Cruisers Bicycles</td><td>13000,00</td><td>3</td><td>Cruisers Bicycles</td><td>13000,00</td><td>2022-02-05 09:17:17.167</td></tr>",
                            "<tr><td>UPDATE</td><td>4</td><td>Cyclocross Bicycles</td><td>20000,00</td><td>4</td><td>Cyclocross Bicycles</td><td>10000,00</td><td>2022-02-05 09:17:17.167</td></tr>",
                            "<tr><td>INSERT</td><td>5</td><td>Electric Bikes</td><td>10000,00</td><td>NULL</td><td>NULL</td><td>NULL</td><td>2022-02-05 09:17:17.167</td></tr>",
                            "<tr><td>INSERT</td><td>6</td><td>Mountain Bikes</td><td>10000,00</td><td>NULL</td><td>NULL</td><td>NULL</td><td>2022-02-05 09:17:17.167</td></tr>",
                            "</table>"
                        ]
                    }
                },
                {
                    "output_type": "execute_result",
                    "metadata": {},
                    "execution_count": 3,
                    "data": {
                        "application/vnd.dataresource+json": {
                            "schema": {
                                "fields": [
                                    {
                                        "name": "category_id"
                                    },
                                    {
                                        "name": "category_name"
                                    },
                                    {
                                        "name": "amount"
                                    }
                                ]
                            },
                            "data": [
                                {
                                    "0": "1",
                                    "1": "Children Bicycles",
                                    "2": "15000,00"
                                },
                                {
                                    "0": "3",
                                    "1": "Cruisers Bicycles",
                                    "2": "13000,00"
                                },
                                {
                                    "0": "4",
                                    "1": "Cyclocross Bicycles",
                                    "2": "20000,00"
                                },
                                {
                                    "0": "5",
                                    "1": "Electric Bikes",
                                    "2": "10000,00"
                                },
                                {
                                    "0": "6",
                                    "1": "Mountain Bikes",
                                    "2": "10000,00"
                                }
                            ]
                        },
                        "text/html": [
                            "<table>",
                            "<tr><th>category_id</th><th>category_name</th><th>amount</th></tr>",
                            "<tr><td>1</td><td>Children Bicycles</td><td>15000,00</td></tr>",
                            "<tr><td>3</td><td>Cruisers Bicycles</td><td>13000,00</td></tr>",
                            "<tr><td>4</td><td>Cyclocross Bicycles</td><td>20000,00</td></tr>",
                            "<tr><td>5</td><td>Electric Bikes</td><td>10000,00</td></tr>",
                            "<tr><td>6</td><td>Mountain Bikes</td><td>10000,00</td></tr>",
                            "</table>"
                        ]
                    }
                },
                {
                    "output_type": "execute_result",
                    "metadata": {},
                    "execution_count": 3,
                    "data": {
                        "application/vnd.dataresource+json": {
                            "schema": {
                                "fields": [
                                    {
                                        "name": "category_id"
                                    },
                                    {
                                        "name": "category_name"
                                    },
                                    {
                                        "name": "amount"
                                    }
                                ]
                            },
                            "data": [
                                {
                                    "0": "1",
                                    "1": "Children Bicycles",
                                    "2": "15000,00"
                                },
                                {
                                    "0": "3",
                                    "1": "Cruisers Bicycles",
                                    "2": "13000,00"
                                },
                                {
                                    "0": "4",
                                    "1": "Cyclocross Bicycles",
                                    "2": "20000,00"
                                },
                                {
                                    "0": "5",
                                    "1": "Electric Bikes",
                                    "2": "10000,00"
                                },
                                {
                                    "0": "6",
                                    "1": "Mountain Bikes",
                                    "2": "10000,00"
                                }
                            ]
                        },
                        "text/html": [
                            "<table>",
                            "<tr><th>category_id</th><th>category_name</th><th>amount</th></tr>",
                            "<tr><td>1</td><td>Children Bicycles</td><td>15000,00</td></tr>",
                            "<tr><td>3</td><td>Cruisers Bicycles</td><td>13000,00</td></tr>",
                            "<tr><td>4</td><td>Cyclocross Bicycles</td><td>20000,00</td></tr>",
                            "<tr><td>5</td><td>Electric Bikes</td><td>10000,00</td></tr>",
                            "<tr><td>6</td><td>Mountain Bikes</td><td>10000,00</td></tr>",
                            "</table>"
                        ]
                    }
                }
            ],
            "execution_count": 3
        },
        {
            "cell_type": "code",
            "source": [
                "-- mit Ausgabe der Änderungen\n",
                "BEGIN TRANSACTION\n",
                "    MERGE dbo.category t \n",
                "        USING dbo.category_staging s\n",
                "    ON (s.category_id = t.category_id)\n",
                "    WHEN MATCHED and ((s.category_name <> t.category_name) or (s.amount <> t.amount))\n",
                "        THEN UPDATE SET \n",
                "            t.category_name = s.category_name,\n",
                "            t.amount = s.amount\n",
                "    WHEN NOT MATCHED BY TARGET \n",
                "        THEN INSERT (category_id, category_name, amount)\n",
                "            VALUES (s.category_id, s.category_name, s.amount)\n",
                "    WHEN NOT MATCHED BY SOURCE \n",
                "        THEN DELETE\n",
                "    -- Unterschied zu oben\n",
                "    OUTPUT $action, Inserted.category_id as Inserted_category_id, \n",
                "        Inserted.category_name as Inserted_category_name,\n",
                "        Inserted.amount as Inserted_camount,\n",
                "        Deleted.category_id as Deleted_category_id,\n",
                "        Deleted.category_name as Deleted_category_name,\n",
                "        Deleted.amount as Deleted_camount,\n",
                "        getdate() as [DateSTtamp];\n",
                "    --\n",
                "    Select * from dbo.category\n",
                "    Select * from dbo.category_staging\n",
                "ROLLBACK TRANSACTION "
            ],
            "metadata": {
                "azdata_cell_guid": "4a010584-ee45-4e5f-8a92-e6cd2783fd96"
            },
            "outputs": [
                {
                    "output_type": "display_data",
                    "data": {
                        "text/html": "(4 rows affected)"
                    },
                    "metadata": {}
                },
                {
                    "output_type": "display_data",
                    "data": {
                        "text/html": "(5 rows affected)"
                    },
                    "metadata": {}
                },
                {
                    "output_type": "display_data",
                    "data": {
                        "text/html": "(5 rows affected)"
                    },
                    "metadata": {}
                },
                {
                    "output_type": "display_data",
                    "data": {
                        "text/html": "Total execution time: 00:00:00.038"
                    },
                    "metadata": {}
                },
                {
                    "output_type": "execute_result",
                    "metadata": {},
                    "execution_count": 4,
                    "data": {
                        "application/vnd.dataresource+json": {
                            "schema": {
                                "fields": [
                                    {
                                        "name": "$action"
                                    },
                                    {
                                        "name": "Inserted_category_id"
                                    },
                                    {
                                        "name": "Inserted_category_name"
                                    },
                                    {
                                        "name": "Inserted_camount"
                                    },
                                    {
                                        "name": "Deleted_category_id"
                                    },
                                    {
                                        "name": "Deleted_category_name"
                                    },
                                    {
                                        "name": "Deleted_camount"
                                    },
                                    {
                                        "name": "DateSTtamp"
                                    }
                                ]
                            },
                            "data": [
                                {
                                    "0": "DELETE",
                                    "1": "NULL",
                                    "2": "NULL",
                                    "3": "NULL",
                                    "4": "2",
                                    "5": "Comfort Bicycles",
                                    "6": "25000,00",
                                    "7": "2022-02-05 09:19:24.757"
                                },
                                {
                                    "0": "UPDATE",
                                    "1": "4",
                                    "2": "Cyclocross Bicycles",
                                    "3": "20000,00",
                                    "4": "4",
                                    "5": "Cyclocross Bicycles",
                                    "6": "10000,00",
                                    "7": "2022-02-05 09:19:24.757"
                                },
                                {
                                    "0": "INSERT",
                                    "1": "5",
                                    "2": "Electric Bikes",
                                    "3": "10000,00",
                                    "4": "NULL",
                                    "5": "NULL",
                                    "6": "NULL",
                                    "7": "2022-02-05 09:19:24.757"
                                },
                                {
                                    "0": "INSERT",
                                    "1": "6",
                                    "2": "Mountain Bikes",
                                    "3": "10000,00",
                                    "4": "NULL",
                                    "5": "NULL",
                                    "6": "NULL",
                                    "7": "2022-02-05 09:19:24.757"
                                }
                            ]
                        },
                        "text/html": [
                            "<table>",
                            "<tr><th>$action</th><th>Inserted_category_id</th><th>Inserted_category_name</th><th>Inserted_camount</th><th>Deleted_category_id</th><th>Deleted_category_name</th><th>Deleted_camount</th><th>DateSTtamp</th></tr>",
                            "<tr><td>DELETE</td><td>NULL</td><td>NULL</td><td>NULL</td><td>2</td><td>Comfort Bicycles</td><td>25000,00</td><td>2022-02-05 09:19:24.757</td></tr>",
                            "<tr><td>UPDATE</td><td>4</td><td>Cyclocross Bicycles</td><td>20000,00</td><td>4</td><td>Cyclocross Bicycles</td><td>10000,00</td><td>2022-02-05 09:19:24.757</td></tr>",
                            "<tr><td>INSERT</td><td>5</td><td>Electric Bikes</td><td>10000,00</td><td>NULL</td><td>NULL</td><td>NULL</td><td>2022-02-05 09:19:24.757</td></tr>",
                            "<tr><td>INSERT</td><td>6</td><td>Mountain Bikes</td><td>10000,00</td><td>NULL</td><td>NULL</td><td>NULL</td><td>2022-02-05 09:19:24.757</td></tr>",
                            "</table>"
                        ]
                    }
                },
                {
                    "output_type": "execute_result",
                    "metadata": {},
                    "execution_count": 4,
                    "data": {
                        "application/vnd.dataresource+json": {
                            "schema": {
                                "fields": [
                                    {
                                        "name": "category_id"
                                    },
                                    {
                                        "name": "category_name"
                                    },
                                    {
                                        "name": "amount"
                                    }
                                ]
                            },
                            "data": [
                                {
                                    "0": "1",
                                    "1": "Children Bicycles",
                                    "2": "15000,00"
                                },
                                {
                                    "0": "3",
                                    "1": "Cruisers Bicycles",
                                    "2": "13000,00"
                                },
                                {
                                    "0": "4",
                                    "1": "Cyclocross Bicycles",
                                    "2": "20000,00"
                                },
                                {
                                    "0": "5",
                                    "1": "Electric Bikes",
                                    "2": "10000,00"
                                },
                                {
                                    "0": "6",
                                    "1": "Mountain Bikes",
                                    "2": "10000,00"
                                }
                            ]
                        },
                        "text/html": [
                            "<table>",
                            "<tr><th>category_id</th><th>category_name</th><th>amount</th></tr>",
                            "<tr><td>1</td><td>Children Bicycles</td><td>15000,00</td></tr>",
                            "<tr><td>3</td><td>Cruisers Bicycles</td><td>13000,00</td></tr>",
                            "<tr><td>4</td><td>Cyclocross Bicycles</td><td>20000,00</td></tr>",
                            "<tr><td>5</td><td>Electric Bikes</td><td>10000,00</td></tr>",
                            "<tr><td>6</td><td>Mountain Bikes</td><td>10000,00</td></tr>",
                            "</table>"
                        ]
                    }
                },
                {
                    "output_type": "execute_result",
                    "metadata": {},
                    "execution_count": 4,
                    "data": {
                        "application/vnd.dataresource+json": {
                            "schema": {
                                "fields": [
                                    {
                                        "name": "category_id"
                                    },
                                    {
                                        "name": "category_name"
                                    },
                                    {
                                        "name": "amount"
                                    }
                                ]
                            },
                            "data": [
                                {
                                    "0": "1",
                                    "1": "Children Bicycles",
                                    "2": "15000,00"
                                },
                                {
                                    "0": "3",
                                    "1": "Cruisers Bicycles",
                                    "2": "13000,00"
                                },
                                {
                                    "0": "4",
                                    "1": "Cyclocross Bicycles",
                                    "2": "20000,00"
                                },
                                {
                                    "0": "5",
                                    "1": "Electric Bikes",
                                    "2": "10000,00"
                                },
                                {
                                    "0": "6",
                                    "1": "Mountain Bikes",
                                    "2": "10000,00"
                                }
                            ]
                        },
                        "text/html": [
                            "<table>",
                            "<tr><th>category_id</th><th>category_name</th><th>amount</th></tr>",
                            "<tr><td>1</td><td>Children Bicycles</td><td>15000,00</td></tr>",
                            "<tr><td>3</td><td>Cruisers Bicycles</td><td>13000,00</td></tr>",
                            "<tr><td>4</td><td>Cyclocross Bicycles</td><td>20000,00</td></tr>",
                            "<tr><td>5</td><td>Electric Bikes</td><td>10000,00</td></tr>",
                            "<tr><td>6</td><td>Mountain Bikes</td><td>10000,00</td></tr>",
                            "</table>"
                        ]
                    }
                }
            ],
            "execution_count": 4
        },
        {
            "cell_type": "code",
            "source": [
                "-- mit Ausgabe der Änderungen\n",
                "BEGIN TRANSACTION\n",
                "    MERGE dbo.category t \n",
                "        USING dbo.category_staging s\n",
                "    ON (s.category_id = t.category_id)\n",
                "    WHEN MATCHED and (Checksum(s.category_name,s.amount) <> Checksum(t.category_name,t.amount))\n",
                "        THEN UPDATE SET \n",
                "            t.category_name = s.category_name,\n",
                "            t.amount = s.amount\n",
                "    WHEN NOT MATCHED BY TARGET \n",
                "        THEN INSERT (category_id, category_name, amount)\n",
                "            VALUES (s.category_id, s.category_name, s.amount)\n",
                "    WHEN NOT MATCHED BY SOURCE \n",
                "        THEN DELETE\n",
                "    -- Unterschied zu oben\n",
                "    OUTPUT $action, Inserted.category_id as Inserted_category_id, \n",
                "        Inserted.category_name as Inserted_category_name,\n",
                "        Inserted.amount as Inserted_camount,\n",
                "        Deleted.category_id as Deleted_category_id,\n",
                "        Deleted.category_name as Deleted_category_name,\n",
                "        Deleted.amount as Deleted_camount,\n",
                "        getdate() as [DateSTtamp];\n",
                "    --\n",
                "    Select * from dbo.category\n",
                "    Select * from dbo.category_staging\n",
                "ROLLBACK TRANSACTION "
            ],
            "metadata": {
                "azdata_cell_guid": "f5750333-ac88-462a-890f-baeca3a900e0"
            },
            "outputs": [],
            "execution_count": null
        },
        {
            "cell_type": "code",
            "source": [
                "-- das selbe Ergebnis kann auch über 3 separate Statments erreicht werden\r\n",
                "BEGIN TRANSACTION\r\n",
                "\r\n",
                "Select * from dbo.category\r\n",
                "Select * from dbo.category_staging\r\n",
                "\r\n",
                "-- Teil 1: neue DS einfügen\r\n",
                "    INSERT INTO dbo.category([category_id],[category_name],[amount])\r\n",
                "    Select [category_id],[category_name],[amount] from [dbo].[category_staging]\r\n",
                "    where [category_id] in (\r\n",
                "    Select [category_id] from [dbo].[category_staging]\r\n",
                "    Except\r\n",
                "    Select [category_id] from [dbo].[category])\r\n",
                "\r\n",
                "    -- Wenn es keine Spalten gibt, die nicht nullable sind, kann man es folgendermaßen machen.\r\n",
                "    -- geht in diesem Fall nicht, da [Category_name] nicht nullable ist\r\n",
                "    /*\r\n",
                "    INSERT INTO dbo.category([category_id])\r\n",
                "    Select [category_id] from [dbo].[category_staging]\r\n",
                "    Except\r\n",
                "    Select [category_id] from [dbo].[category]\r\n",
                "    */\r\n",
                "\r\n",
                "-- Teil 2: DS löschen\r\n",
                "    Delete dbo.category\r\n",
                "    Where [category_id] in (Select [category_id] from [dbo].[category]\r\n",
                "                                EXCEPT \r\n",
                "                                Select [category_id] from [dbo].[category_staging])\r\n",
                "\r\n",
                "-- Teil 3: Update\r\n",
                "    Update [target]\r\n",
                "    Set [target].[category_name] = [source].[category_name]\r\n",
                "    ,[target].[amount] = [source].[amount]\r\n",
                "    from [dbo].[category] as [target]\r\n",
                "    inner join [dbo].[category_staging] as [source]\r\n",
                "    on [target].[category_id] = [source].[category_id]\r\n",
                "\r\n",
                "Select * from dbo.category\r\n",
                "Select * from dbo.category_staging\r\n",
                "ROLLBACK TRANSACTION "
            ],
            "metadata": {
                "azdata_cell_guid": "828aac20-daa0-40ae-8b51-a7590ce0e41f"
            },
            "outputs": [],
            "execution_count": null
        },
        {
            "cell_type": "markdown",
            "source": [
                "## Beispiel 1.2: Angleichen der category\\_staging an die category\n",
                "\n",
                "- Einfügen von DS 2\n",
                "- Update von DS 4\n",
                "- Löschen von DS 5,6"
            ],
            "metadata": {
                "azdata_cell_guid": "7c4a3521-8b5d-44b3-97ad-950f6ec9ee06"
            }
        },
        {
            "cell_type": "code",
            "source": [
                "-- ohne Ausgabe der Ergebnisse\r\n",
                "BEGIN TRANSACTION\r\n",
                "    MERGE dbo.category_staging t \r\n",
                "        USING dbo.category s\r\n",
                "    ON (s.category_id = t.category_id)\r\n",
                "    WHEN MATCHED\r\n",
                "        THEN UPDATE SET \r\n",
                "            t.category_name = s.category_name,\r\n",
                "            t.amount = s.amount\r\n",
                "    WHEN NOT MATCHED BY TARGET \r\n",
                "        THEN INSERT (category_id, category_name, amount)\r\n",
                "            VALUES (s.category_id, s.category_name, s.amount)\r\n",
                "    WHEN NOT MATCHED BY SOURCE \r\n",
                "        THEN DELETE;\r\n",
                "\r\n",
                "    Select * from dbo.category\r\n",
                "    Select * from dbo.category_staging\r\n",
                "ROLLBACK TRANSACTION "
            ],
            "metadata": {
                "azdata_cell_guid": "0b963db4-3a44-4c8b-b9ab-2784284face0",
                "tags": []
            },
            "outputs": [],
            "execution_count": null
        },
        {
            "cell_type": "code",
            "source": [
                "-- mit Ausgabe der Ergebnisse\r\n",
                "BEGIN TRANSACTION\r\n",
                "    MERGE dbo.category t \r\n",
                "        USING dbo.category_staging s\r\n",
                "    ON (s.category_id = t.category_id)\r\n",
                "    WHEN MATCHED and ((s.category_name <> t.category_name) or (s.amount <> t.amount))\r\n",
                "        THEN UPDATE SET \r\n",
                "            t.category_name = s.category_name,\r\n",
                "            t.amount = s.amount\r\n",
                "    WHEN NOT MATCHED BY TARGET \r\n",
                "        THEN INSERT (category_id, category_name, amount)\r\n",
                "            VALUES (s.category_id, s.category_name, s.amount)\r\n",
                "    WHEN NOT MATCHED BY SOURCE \r\n",
                "        THEN DELETE\r\n",
                "    OUTPUT $action, Inserted.category_id as Inserted_category_id, \r\n",
                "        Inserted.category_name as Inserted_category_name,\r\n",
                "        Inserted.amount as Inserted_camount,\r\n",
                "        Deleted.category_id as Deleted_category_id,\r\n",
                "        Deleted.category_name as Deleted_category_name,\r\n",
                "        Deleted.amount as Deleted_camount;\r\n",
                "\r\n",
                "\r\n",
                "    Select * from dbo.category\r\n",
                "    Select * from dbo.category_staging\r\n",
                "ROLLBACK TRANSACTION "
            ],
            "metadata": {
                "azdata_cell_guid": "56cd9efc-7a42-4040-b112-54aca425a891"
            },
            "outputs": [],
            "execution_count": null
        },
        {
            "cell_type": "markdown",
            "source": [
                "**<u>Beispiel 2:</u>** Vorbereitung"
            ],
            "metadata": {
                "azdata_cell_guid": "8478fc56-5803-4b4a-9646-28f862399497"
            }
        },
        {
            "cell_type": "code",
            "source": [
                "USE MASTER\r\n",
                "GO\r\n",
                "DROP DATABASE IF EXISTS MERGETEST2\r\n",
                "GO\r\n",
                "CREATE DATABASE MERGETEST2\r\n",
                "GO\r\n",
                "\r\n",
                "USE MERGETEST2\r\n",
                "GO\r\n",
                "\r\n",
                "Create table StudentSource\r\n",
                "(\r\n",
                "     ID int primary key,\r\n",
                "     Name nvarchar(20)\r\n",
                ")\r\n",
                "GO\r\n",
                "\r\n",
                "Insert into StudentSource values (1, 'Mike')\r\n",
                "Insert into StudentSource values (2, 'Sara')\r\n",
                "GO\r\n",
                "\r\n",
                "Create table StudentTarget\r\n",
                "(\r\n",
                "     ID int primary key,\r\n",
                "     Name nvarchar(20)\r\n",
                ")\r\n",
                "GO\r\n",
                "\r\n",
                "Insert into StudentTarget values (1, 'Mike M')\r\n",
                "Insert into StudentTarget values (3, 'John')\r\n",
                "GO"
            ],
            "metadata": {
                "azdata_cell_guid": "30a7b99c-8275-4cda-91f1-8e6b226a3f1b"
            },
            "outputs": [],
            "execution_count": null
        },
        {
            "cell_type": "markdown",
            "source": [
                "![merge statement in sql server](https://3.bp.blogspot.com/-hHq_PK6YpP8/VCsOGkMMOGI/AAAAAAAAWEA/YY4dv-kAu-4/s1600/merge%2Bstatement%2Bin%2Bsql%2Bserver.png)"
            ],
            "metadata": {
                "azdata_cell_guid": "c3abe847-d5dd-432f-829d-c8ae791de059"
            }
        },
        {
            "cell_type": "code",
            "source": [
                "BEGIN TRANSACTION\r\n",
                "    Select * from StudentSource\r\n",
                "    Select * from StudentTarget\r\n",
                "\r\n",
                "    MERGE StudentTarget AS T\r\n",
                "    USING StudentSource AS S\r\n",
                "    ON T.ID = S.ID\r\n",
                "    WHEN MATCHED THEN\r\n",
                "        UPDATE SET T.NAME = S.NAME\r\n",
                "    WHEN NOT MATCHED BY TARGET THEN\r\n",
                "        INSERT (ID, NAME) VALUES(S.ID, S.NAME)\r\n",
                "    WHEN NOT MATCHED BY SOURCE THEN\r\n",
                "        DELETE;\r\n",
                "\r\n",
                "    Select * from StudentTarget\r\n",
                "ROLLBACK TRANSACTION     "
            ],
            "metadata": {
                "azdata_cell_guid": "a5583111-d196-4345-a033-a3c22923bcb8",
                "tags": []
            },
            "outputs": [],
            "execution_count": null
        },
        {
            "cell_type": "markdown",
            "source": [
                "![merge in sql server 2008](https://2.bp.blogspot.com/-UnpkvliwSh4/VCsPCO_T5RI/AAAAAAAAWEI/NmbIEBr1Zp4/s1600/merge%2Bin%2Bsql%2Bserver%2B2008.png)"
            ],
            "metadata": {
                "azdata_cell_guid": "46b7e3df-d3e7-4748-b2fc-48aadcf8349a"
            }
        },
        {
            "cell_type": "code",
            "source": [
                "BEGIN TRANSACTION\r\n",
                "    Select * from StudentSource\r\n",
                "    Select * from StudentTarget\r\n",
                "\r\n",
                "    MERGE StudentTarget AS T\r\n",
                "    USING StudentSource AS S\r\n",
                "    ON T.ID = S.ID\r\n",
                "    WHEN MATCHED THEN\r\n",
                "        UPDATE SET T.NAME = S.NAME\r\n",
                "    WHEN NOT MATCHED BY TARGET THEN\r\n",
                "        INSERT (ID, NAME) VALUES(S.ID, S.NAME);\r\n",
                "\r\n",
                "    Select * from StudentTarget\r\n",
                "ROLLBACK TRANSACTION     "
            ],
            "metadata": {
                "azdata_cell_guid": "33c8ce28-9172-4f24-bb26-61ecbc1694ba"
            },
            "outputs": [],
            "execution_count": null
        },
        {
            "cell_type": "markdown",
            "source": [
                "weiterführende Links:\n",
                "\n",
                "- [https://www.sqlservertutorial.net/sql-server-basics/sql-server-merge/](https://www.sqlservertutorial.net/sql-server-basics/sql-server-merge/)\n",
                "- [https://www.sqlshack.com/sql-server-merge-statement-overview-and-examples/](https://www.sqlshack.com/sql-server-merge-statement-overview-and-examples/)\n",
                "- https://csharp-video-tutorials.blogspot.com/2014/09/part-69-merge-in-sql-server.html"
            ],
            "metadata": {
                "azdata_cell_guid": "7282a6fe-8e0d-403c-9de8-62fa871d1b2a"
            }
        }
    ]
}