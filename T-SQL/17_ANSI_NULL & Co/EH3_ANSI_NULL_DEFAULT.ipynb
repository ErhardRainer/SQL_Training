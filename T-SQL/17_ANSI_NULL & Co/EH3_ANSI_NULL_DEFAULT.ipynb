{
    "metadata": {
        "kernelspec": {
            "name": "SQL",
            "display_name": "SQL",
            "language": "sql"
        },
        "language_info": {
            "name": "sql",
            "version": ""
        }
    },
    "nbformat_minor": 2,
    "nbformat": 4,
    "cells": [
        {
            "cell_type": "markdown",
            "source": [
                "# ANSI NULL DEFAULT\n",
                "\n",
                "Steuern des NULL Verhaltens in Spalten (Standard: 0)\n",
                "\n",
                "- ANSI\\_NULL\\_DEFAULT OFF = 0 =\\> eine neue Spalte, muss explizit als NULLABLE definiert sein, damit man NULL Values reinschreiben kann\n",
                "- ANSI\\_NULL\\_DEFAULT ON = 1 =\\> eine neue Spalte lässt NULL zu // entspricht SQL-92 Rules for Nullability\n",
                "\n",
                "Dieses Verhalten  greift jedoch nur, wenn innerhalb der Session auch ANSI\\_NULL\\_DFLT\\_ON OFF gesetzt wurde"
            ],
            "metadata": {
                "azdata_cell_guid": "e4e09f38-2b84-4b3f-b262-fa3b77e9b2b0"
            }
        },
        {
            "cell_type": "code",
            "source": [
                "USE master\r\n",
                "GO\r\n",
                "Drop Database if exists [ANSI_TEST]\r\n",
                "CREATE DATABASE [ANSI_TEST]\r\n",
                "GO\r\n",
                "Alter Database [ANSI_TEST]  SET ANSI_NULL_DEFAULT ON;\r\n",
                "GO"
            ],
            "metadata": {
                "azdata_cell_guid": "a51208fc-94ab-45f8-bfd1-77213446afe9"
            },
            "outputs": [],
            "execution_count": null
        },
        {
            "cell_type": "markdown",
            "source": [
                "**<u>Beispiel 1:</u>** ANSI\\_NULL\\_DEFAULT OFF & ANSI\\_NULL\\_DFLT\\_ON OFF =\\> keine NULL Values möglich (_**funktioniert nicht**_)"
            ],
            "metadata": {
                "azdata_cell_guid": "98bd87fc-369b-4beb-ab7b-4b482c67a92f"
            }
        },
        {
            "cell_type": "code",
            "source": [
                "DROP Table if EXISTS [Table_1];\r\n",
                "Alter Database [ANSI_TEST]  SET ANSI_NULL_DEFAULT OFF;\r\n",
                "SET ANSI_NULL_DFLT_ON OFF;\r\n",
                "Create Table Table_1 (Column_1 Int)\r\n",
                "INSERT INTO Table_1 (Column_1) VALUES (NULL);"
            ],
            "metadata": {
                "azdata_cell_guid": "b2216bb7-fd77-4d0b-aea6-069768c582b0"
            },
            "outputs": [
                {
                    "output_type": "error",
                    "evalue": "Msg 515, Level 16, State 2, Line 5\r\nCannot insert the value NULL into column 'Column_1', table 'master.dbo.Table_1'; column does not allow nulls. INSERT fails.",
                    "ename": "",
                    "traceback": []
                },
                {
                    "output_type": "display_data",
                    "data": {
                        "text/html": "The statement has been terminated."
                    },
                    "metadata": {}
                },
                {
                    "output_type": "display_data",
                    "data": {
                        "text/html": "Total execution time: 00:00:00.007"
                    },
                    "metadata": {}
                }
            ],
            "execution_count": 4
        },
        {
            "cell_type": "markdown",
            "source": [
                "**<u>Beispiel 2:</u>** ANSI\\_NULL\\_DEFAULT OFF & ANSI\\_NULL\\_DFLT\\_ON OFF - wenn bei der Tabellenerstellung explizit angegeben wird, dass NULL Values zulässig sind, **_funktioniert_** es auch mit OFF"
            ],
            "metadata": {
                "azdata_cell_guid": "7b4db7a0-68ec-45f8-a8b0-6c9780900275"
            }
        },
        {
            "cell_type": "code",
            "source": [
                "DROP Table if EXISTS [Table_1];\r\n",
                "Alter Database [ANSI_TEST]  SET ANSI_NULL_DEFAULT OFF;\r\n",
                "SET ANSI_NULL_DFLT_ON OFF;\r\n",
                "Create Table Table_1 (Column_1 Int NULL)\r\n",
                "INSERT INTO Table_1 (Column_1) VALUES (NULL);\r\n",
                "Select * from [Table_1]"
            ],
            "metadata": {
                "azdata_cell_guid": "db01a575-555f-4051-b161-308c11f2b70c"
            },
            "outputs": [],
            "execution_count": null
        },
        {
            "cell_type": "markdown",
            "source": [
                "**<u>Beispiel 3:</u>** ANSI\\_NULL\\_DEFAULT OFF & ANSI\\_NULL\\_DFLT\\_ON ON =\\> ANSI\\_NULL\\_DFLT\\_ON überschreibt ANSI\\_NULL\\_DEFAULT (**_funktioniert_**)"
            ],
            "metadata": {
                "azdata_cell_guid": "b5ecb42a-ac56-4594-bea3-a10f3bae3349"
            }
        },
        {
            "cell_type": "code",
            "source": [
                "Alter Database [ANSI_TEST]  SET ANSI_NULL_DEFAULT OFF;\r\n",
                "DROP TABLE Table_1\r\n",
                "SET ANSI_NULL_DFLT_ON ON;\r\n",
                "Create Table Table_1 (Column_1 Int)\r\n",
                "INSERT INTO Table_1 (Column_1) VALUES (NULL);\r\n",
                "Select * from Table_1"
            ],
            "metadata": {
                "azdata_cell_guid": "d3edc598-59b7-4c9b-b019-db8de2ab201e"
            },
            "outputs": [
                {
                    "output_type": "display_data",
                    "data": {
                        "text/html": "(1 row affected)"
                    },
                    "metadata": {}
                },
                {
                    "output_type": "display_data",
                    "data": {
                        "text/html": "(1 row affected)"
                    },
                    "metadata": {}
                },
                {
                    "output_type": "display_data",
                    "data": {
                        "text/html": "Total execution time: 00:00:00.024"
                    },
                    "metadata": {}
                },
                {
                    "output_type": "execute_result",
                    "metadata": {
                        "resultSet": {
                            "id": 0,
                            "batchId": 0,
                            "rowCount": 1,
                            "complete": true,
                            "columnInfo": [
                                {
                                    "isBytes": false,
                                    "isChars": false,
                                    "isSqlVariant": false,
                                    "isUdt": false,
                                    "isXml": false,
                                    "isJson": false,
                                    "sqlDbType": 8,
                                    "isHierarchyId": false,
                                    "isSqlXmlType": false,
                                    "isUnknownType": false,
                                    "isUpdatable": true,
                                    "allowDBNull": true,
                                    "baseCatalogName": null,
                                    "baseColumnName": null,
                                    "baseSchemaName": null,
                                    "baseServerName": null,
                                    "baseTableName": null,
                                    "columnName": "Column_1",
                                    "columnOrdinal": 0,
                                    "columnSize": 4,
                                    "isAliased": null,
                                    "isAutoIncrement": false,
                                    "isExpression": null,
                                    "isHidden": null,
                                    "isIdentity": false,
                                    "isKey": null,
                                    "isLong": false,
                                    "isReadOnly": false,
                                    "isUnique": false,
                                    "numericPrecision": 10,
                                    "numericScale": 255,
                                    "udtAssemblyQualifiedName": null,
                                    "dataType": "System.Int32, System.Private.CoreLib, Version=4.0.0.0, Culture=neutral, PublicKeyToken=7cec85d7bea7798e",
                                    "dataTypeName": "int"
                                }
                            ],
                            "specialAction": {
                                "none": true,
                                "expectYukonXMLShowPlan": false
                            }
                        }
                    },
                    "execution_count": 7,
                    "data": {
                        "application/vnd.dataresource+json": {
                            "schema": {
                                "fields": [
                                    {
                                        "name": "Column_1"
                                    }
                                ]
                            },
                            "data": [
                                {
                                    "0": "NULL"
                                }
                            ]
                        },
                        "text/html": [
                            "<table>",
                            "<tr><th>Column_1</th></tr>",
                            "<tr><td>NULL</td></tr>",
                            "</table>"
                        ]
                    }
                }
            ],
            "execution_count": 7
        },
        {
            "cell_type": "markdown",
            "source": [
                "**<u>Beispiel 4:</u>** ANSI\\_NULL\\_DEFAULT ON & ANSI\\_NULL\\_DFLT\\_ON OFF =\\>  ANSI\\_NULL\\_DFLT\\_ON wird ignoriert, da ANSI\\_NULL\\_DEFAULT ON (_**funktioniert nicht**_)"
            ],
            "metadata": {
                "azdata_cell_guid": "e523caa3-65ea-4cf1-9049-d5fc743a4049"
            }
        },
        {
            "cell_type": "code",
            "source": [
                "Alter Database [ANSI_TEST]  SET ANSI_NULL_DEFAULT ON;\r\n",
                "DROP TABLE Table_1\r\n",
                "SET ANSI_NULL_DFLT_ON OFF;\r\n",
                "Create Table Table_1 (Column_1 Int)\r\n",
                "INSERT INTO Table_1 (Column_1) VALUES (NULL);"
            ],
            "metadata": {
                "azdata_cell_guid": "bc8a0002-629f-4c9d-9118-323c75635a00"
            },
            "outputs": [
                {
                    "output_type": "error",
                    "evalue": "Msg 515, Level 16, State 2, Line 5\r\nCannot insert the value NULL into column 'Column_1', table 'master.dbo.Table_1'; column does not allow nulls. INSERT fails.",
                    "ename": "",
                    "traceback": []
                },
                {
                    "output_type": "display_data",
                    "data": {
                        "text/html": "The statement has been terminated."
                    },
                    "metadata": {}
                },
                {
                    "output_type": "display_data",
                    "data": {
                        "text/html": "Total execution time: 00:00:00.012"
                    },
                    "metadata": {}
                }
            ],
            "execution_count": 8
        },
        {
            "cell_type": "markdown",
            "source": [
                "**<u>Beispiel 5:</u>** ANSI\\_NULL\\_DEFAULT ON & ANSI\\_NULL\\_DFLT\\_ON ON (**_funktioniert_**)"
            ],
            "metadata": {
                "azdata_cell_guid": "f698f6ba-d295-4253-8159-1d6347d4f0b7"
            }
        },
        {
            "cell_type": "code",
            "source": [
                "Alter Database [ANSI_TEST]  SET ANSI_NULL_DEFAULT ON;\r\n",
                "DROP TABLE Table_1\r\n",
                "SET ANSI_NULL_DFLT_ON ON;\r\n",
                "Create Table Table_1 (Column_1 Int)\r\n",
                "INSERT INTO Table_1 (Column_1) VALUES (NULL);\r\n",
                "Select * from Table_1"
            ],
            "metadata": {
                "azdata_cell_guid": "15083772-1f76-4247-a764-2de786bed0e6"
            },
            "outputs": [
                {
                    "output_type": "display_data",
                    "data": {
                        "text/html": "(1 row affected)"
                    },
                    "metadata": {}
                },
                {
                    "output_type": "display_data",
                    "data": {
                        "text/html": "(1 row affected)"
                    },
                    "metadata": {}
                },
                {
                    "output_type": "display_data",
                    "data": {
                        "text/html": "Total execution time: 00:00:00.011"
                    },
                    "metadata": {}
                },
                {
                    "output_type": "execute_result",
                    "metadata": {
                        "resultSet": {
                            "id": 0,
                            "batchId": 0,
                            "rowCount": 1,
                            "complete": true,
                            "columnInfo": [
                                {
                                    "isBytes": false,
                                    "isChars": false,
                                    "isSqlVariant": false,
                                    "isUdt": false,
                                    "isXml": false,
                                    "isJson": false,
                                    "sqlDbType": 8,
                                    "isHierarchyId": false,
                                    "isSqlXmlType": false,
                                    "isUnknownType": false,
                                    "isUpdatable": true,
                                    "allowDBNull": true,
                                    "baseCatalogName": null,
                                    "baseColumnName": null,
                                    "baseSchemaName": null,
                                    "baseServerName": null,
                                    "baseTableName": null,
                                    "columnName": "Column_1",
                                    "columnOrdinal": 0,
                                    "columnSize": 4,
                                    "isAliased": null,
                                    "isAutoIncrement": false,
                                    "isExpression": null,
                                    "isHidden": null,
                                    "isIdentity": false,
                                    "isKey": null,
                                    "isLong": false,
                                    "isReadOnly": false,
                                    "isUnique": false,
                                    "numericPrecision": 10,
                                    "numericScale": 255,
                                    "udtAssemblyQualifiedName": null,
                                    "dataType": "System.Int32, System.Private.CoreLib, Version=4.0.0.0, Culture=neutral, PublicKeyToken=7cec85d7bea7798e",
                                    "dataTypeName": "int"
                                }
                            ],
                            "specialAction": {
                                "none": true,
                                "expectYukonXMLShowPlan": false
                            }
                        }
                    },
                    "execution_count": 9,
                    "data": {
                        "application/vnd.dataresource+json": {
                            "schema": {
                                "fields": [
                                    {
                                        "name": "Column_1"
                                    }
                                ]
                            },
                            "data": [
                                {
                                    "0": "NULL"
                                }
                            ]
                        },
                        "text/html": [
                            "<table>",
                            "<tr><th>Column_1</th></tr>",
                            "<tr><td>NULL</td></tr>",
                            "</table>"
                        ]
                    }
                }
            ],
            "execution_count": 9
        }
    ]
}