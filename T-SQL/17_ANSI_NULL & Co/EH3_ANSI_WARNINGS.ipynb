{
    "metadata": {
        "kernelspec": {
            "name": "SQL",
            "display_name": "SQL",
            "language": "sql"
        },
        "language_info": {
            "name": "sql",
            "version": ""
        }
    },
    "nbformat_minor": 2,
    "nbformat": 4,
    "cells": [
        {
            "cell_type": "markdown",
            "source": [
                "# ANSI\\_WARNINGS\n",
                "\n",
                "... steuert das Verhalten in Bezug auf verschiedene Fehlermeldungen, wie \n",
                "\n",
                "- NULL Values bei Aggregationen\n",
                "- Divisionen durch NULL\n",
                "- STRING TRUNCATION\n",
                "\n",
                "Default ON (1) - sollte nicht geändert werden !"
            ],
            "metadata": {
                "azdata_cell_guid": "956d0275-62b0-458b-aea9-03c9f4d4422d"
            }
        },
        {
            "cell_type": "code",
            "source": [
                "USE master\r\n",
                "GO\r\n",
                "Drop Database if exists [ANSI_WARNINGS_TEST]\r\n",
                "CREATE DATABASE [ANSI_WARNINGS_TEST]\r\n",
                "GO"
            ],
            "metadata": {
                "azdata_cell_guid": "df85996c-91ad-41d9-8737-d6e8b0c1d295"
            },
            "outputs": [],
            "execution_count": null
        },
        {
            "cell_type": "markdown",
            "source": [
                "## Vorbereitung der Datenbank"
            ],
            "metadata": {
                "azdata_cell_guid": "579665ea-d6b9-4e42-ae6e-27a58b114d47"
            }
        },
        {
            "cell_type": "code",
            "source": [
                "USE [ANSI_WARNINGS_TEST]\r\n",
                "\r\n",
                "CREATE TABLE [dbo].[ANSI_Warnings_Test] ([Test] int null)\r\n",
                "\r\n",
                "INSERT INTO [dbo].[ANSI_Warnings_Test]([Test])\r\n",
                "Values (NULL),(5),(7),(8)\r\n",
                "\r\n",
                "Select * from [dbo].[ANSI_Warnings_Test]"
            ],
            "metadata": {
                "azdata_cell_guid": "3d0c2b8a-ca20-46d3-9e85-b655cf9e1f8f"
            },
            "outputs": [],
            "execution_count": null
        },
        {
            "cell_type": "markdown",
            "source": [
                "**<u>Beispiel 1:</u>** ANSI\\_WARNINGS ON =\\> Fehlermeldung beim Aggregieren, wenn ein NULL Wert enthalten ist"
            ],
            "metadata": {
                "azdata_cell_guid": "591e539d-77ad-46c4-9fb4-92d0b8d8f7b0"
            }
        },
        {
            "cell_type": "code",
            "source": [
                "SET ANSI_WARNINGS ON;\r\n",
                "Select sum([Test]) from [dbo].[ANSI_Warnings_Test]\r\n",
                "-- Warning: Null value is eliminated by an aggregate or other SET operation."
            ],
            "metadata": {
                "azdata_cell_guid": "8ecc3fc7-b201-4d15-aeae-8f821d8d5f91"
            },
            "outputs": [],
            "execution_count": null
        },
        {
            "cell_type": "markdown",
            "source": [
                "**<u>Beispiel 2:</u>** ANSI\\_WARNINGS OFF=\\> keine Fehlermeldung beim Aggregieren, wenn ein NULL Wert enthalten ist"
            ],
            "metadata": {
                "azdata_cell_guid": "a2fb3163-b65d-443e-99fa-f52ae157a6c5"
            }
        },
        {
            "cell_type": "code",
            "source": [
                "SET ANSI_WARNINGS OFF;\r\n",
                "Select sum([Test]) from [dbo].[ANSI_Warnings_Test]\r\n",
                "-- keine Warning"
            ],
            "metadata": {
                "azdata_cell_guid": "1849c7d3-0bfa-4574-82b6-383c0b67bae2"
            },
            "outputs": [],
            "execution_count": null
        },
        {
            "cell_type": "markdown",
            "source": [
                "**<u>Beispiel 3:</u>** ANSI\\_WARNINGS ON =\\> Division durch NULL"
            ],
            "metadata": {
                "azdata_cell_guid": "dfad2bf5-7440-4e97-b6b1-6826a29e6c8b"
            }
        },
        {
            "cell_type": "code",
            "source": [
                "SET ARITHABORT OFF \r\n",
                "SET ANSI_WARNINGS OFF\r\n",
                "Declare @i as int = 5\r\n",
                "Declare @j as int = 0 \r\n",
                "Select @i/@j"
            ],
            "metadata": {
                "azdata_cell_guid": "06b2afd2-732d-43d8-bf14-6592a37f32bc",
                "tags": []
            },
            "outputs": [
                {
                    "output_type": "display_data",
                    "data": {
                        "text/html": "Division by zero occurred."
                    },
                    "metadata": {}
                },
                {
                    "output_type": "display_data",
                    "data": {
                        "text/html": "(1 row affected)"
                    },
                    "metadata": {}
                },
                {
                    "output_type": "display_data",
                    "data": {
                        "text/html": "Total execution time: 00:00:00.005"
                    },
                    "metadata": {}
                },
                {
                    "output_type": "execute_result",
                    "metadata": {
                        "resultSet": {
                            "id": 0,
                            "batchId": 0,
                            "rowCount": 1,
                            "complete": true,
                            "columnInfo": [
                                {
                                    "isBytes": false,
                                    "isChars": false,
                                    "isSqlVariant": false,
                                    "isUdt": false,
                                    "isXml": false,
                                    "isJson": false,
                                    "sqlDbType": 8,
                                    "isHierarchyId": false,
                                    "isSqlXmlType": false,
                                    "isUnknownType": false,
                                    "isUpdatable": false,
                                    "allowDBNull": true,
                                    "baseCatalogName": null,
                                    "baseColumnName": null,
                                    "baseSchemaName": null,
                                    "baseServerName": null,
                                    "baseTableName": null,
                                    "columnName": "(No column name)",
                                    "columnOrdinal": 0,
                                    "columnSize": 4,
                                    "isAliased": null,
                                    "isAutoIncrement": false,
                                    "isExpression": null,
                                    "isHidden": null,
                                    "isIdentity": false,
                                    "isKey": null,
                                    "isLong": false,
                                    "isReadOnly": true,
                                    "isUnique": false,
                                    "numericPrecision": 10,
                                    "numericScale": 255,
                                    "udtAssemblyQualifiedName": null,
                                    "dataType": "System.Int32, System.Private.CoreLib, Version=4.0.0.0, Culture=neutral, PublicKeyToken=7cec85d7bea7798e",
                                    "dataTypeName": "int"
                                }
                            ],
                            "specialAction": {
                                "none": true,
                                "expectYukonXMLShowPlan": false
                            }
                        }
                    },
                    "execution_count": 9,
                    "data": {
                        "application/vnd.dataresource+json": {
                            "schema": {
                                "fields": [
                                    {
                                        "name": "(No column name)"
                                    }
                                ]
                            },
                            "data": [
                                {
                                    "0": "NULL"
                                }
                            ]
                        },
                        "text/html": [
                            "<table>",
                            "<tr><th>(No column name)</th></tr>",
                            "<tr><td>NULL</td></tr>",
                            "</table>"
                        ]
                    }
                }
            ],
            "execution_count": 9
        }
    ]
}