{
    "metadata": {
        "kernelspec": {
            "name": "SQL",
            "display_name": "SQL",
            "language": "sql"
        },
        "language_info": {
            "name": "sql",
            "version": ""
        }
    },
    "nbformat_minor": 2,
    "nbformat": 4,
    "cells": [
        {
            "cell_type": "markdown",
            "source": [
                "# ANSI\\_PADDING\n",
                "\n",
                "steuert das Verhalten von Werten, die kleiner sind als die Spalten (Default = 0)\n",
                "\n",
                "- ANSI\\_PADDING ON (1) = char und varchar verhalten sich unterschiedlich  \n",
                "    \n",
                "- ANSI\\_PADDING OFF (0) = char und varchar verhalten sich identisch"
            ],
            "metadata": {
                "azdata_cell_guid": "7c1b0f62-a114-49da-9652-63274affda12"
            }
        },
        {
            "cell_type": "code",
            "source": [
                "USE master\r\n",
                "GO\r\n",
                "Drop Database if exists [ANSI_PADDING_TEST]\r\n",
                "CREATE DATABASE [ANSI_PADDING_TEST]\r\n",
                "GO"
            ],
            "metadata": {
                "azdata_cell_guid": "a57ba4c4-118b-4343-890f-48ddd4e70e28"
            },
            "outputs": [
                {
                    "output_type": "display_data",
                    "data": {
                        "text/html": "Commands completed successfully."
                    },
                    "metadata": {}
                },
                {
                    "output_type": "display_data",
                    "data": {
                        "text/html": "Commands completed successfully."
                    },
                    "metadata": {}
                },
                {
                    "output_type": "display_data",
                    "data": {
                        "text/html": "Total execution time: 00:00:00.325"
                    },
                    "metadata": {}
                }
            ],
            "execution_count": 4
        },
        {
            "cell_type": "markdown",
            "source": [
                "**<u>Beispiel 1:</u>** ANSI\\_PADDING ON =\\> bis zur länge des char(X) wird mit Leerzeichen aufgefüllt\n",
                "\n",
                "![](data:image/png;base64,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)"
            ],
            "metadata": {
                "azdata_cell_guid": "c4a16e60-a673-4b21-bc72-1c71aa326ec9"
            }
        },
        {
            "cell_type": "code",
            "source": [
                "USE [ANSI_PADDING_TEST]\r\n",
                "GO\r\n",
                "\r\n",
                "DROP Table if EXISTS [t1]\r\n",
                "GO\r\n",
                "\r\n",
                "PRINT 'Testing with ANSI_PADDING ON'  \r\n",
                "SET ANSI_PADDING ON;  \r\n",
                "GO  \r\n",
                "  \r\n",
                "CREATE TABLE t1 (  \r\n",
                "   charcol CHAR(16) NULL,   \r\n",
                "   varcharcol VARCHAR(16) NULL,   \r\n",
                "   varbinarycol VARBINARY(8)  \r\n",
                ");  \r\n",
                "GO  \r\n",
                "INSERT INTO t1 VALUES ('No blanks', 'No blanks', 0x00ee);  \r\n",
                "INSERT INTO t1 VALUES ('Trailing blank ', 'Trailing blank ', 0x00ee00);  \r\n",
                "  \r\n",
                "SELECT 'CHAR' = '>' + charcol + '\\<', 'VARCHAR'='>' + varcharcol + '\\<'\r\n",
                "FROM t1;  \r\n",
                "GO  "
            ],
            "metadata": {
                "azdata_cell_guid": "93f3ec04-4db4-46c6-8d7d-bc776a3a7163"
            },
            "outputs": [],
            "execution_count": null
        },
        {
            "cell_type": "markdown",
            "source": [
                "**<u>Beispiel 2:</u>** ANSI\\_PADDING OFF =\\> bis zur länge des char(X) wird mit Leerzeichen aufgefüllt\n",
                "\n",
                "![](data:image/png;base64,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)"
            ],
            "metadata": {
                "azdata_cell_guid": "1050d572-1a5a-453c-a09c-29e908645a40"
            }
        },
        {
            "cell_type": "code",
            "source": [
                "USE [ANSI_PADDING_TEST]\r\n",
                "GO\r\n",
                "\r\n",
                "DROP Table if EXISTS [t2]\r\n",
                "GO\r\n",
                "\r\n",
                "PRINT 'Testing with ANSI_PADDING OFF';  \r\n",
                "SET ANSI_PADDING OFF;  \r\n",
                "GO  \r\n",
                "  \r\n",
                "CREATE TABLE t2 (  \r\n",
                "   charcol CHAR(16) NULL,   \r\n",
                "   varcharcol VARCHAR(16) NULL,   \r\n",
                "   varbinarycol VARBINARY(8)  \r\n",
                ");  \r\n",
                "GO  \r\n",
                "INSERT INTO t2 VALUES ('No blanks', 'No blanks', 0x00ee);  \r\n",
                "INSERT INTO t2 VALUES ('Trailing blank ', 'Trailing blank ', 0x00ee00);  \r\n",
                "  \r\n",
                "SELECT 'CHAR' = '>' + charcol + '\\<', 'VARCHAR'='>' + varcharcol + '\\<'\r\n",
                "FROM t2;  \r\n",
                "GO  "
            ],
            "metadata": {
                "azdata_cell_guid": "9bb2c2fa-9cc2-47e4-b8cd-26d88fd26752"
            },
            "outputs": [],
            "execution_count": null
        },
        {
            "cell_type": "markdown",
            "source": [
                "## ANSI PADDING (Columnweise)\n",
                "\n",
                "Auch wenn die oberen Beispiele suggerieren, dass ANSI Padding auf einer Tabelle gesetzt werden, so ist es auch möglich die ANSI Padding Einstellungen für einzelne Spalten zu steuern.\n",
                "\n",
                "![](data:image/png;base64,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)  \n",
                "\n",
                "_MSDN: \"<span style=\"background-color: rgb(255, 255, 255); color: rgb(82, 89, 96); font-family: -apple-system, BlinkMacSystemFont, &quot;Segoe UI&quot;, &quot;Liberation Sans&quot;, sans-serif; font-size: 15px;\">This setting affects only the definition of new columns. After the column is created, SQL Server stores the values based on the setting when the column was created. Existing columns are not affected by a later change to this setting.\"</span>_"
            ],
            "metadata": {
                "azdata_cell_guid": "749b0b60-7d05-4c2b-ab75-5b8ea8463e36"
            }
        },
        {
            "cell_type": "code",
            "source": [
                "SET ANSI_PADDING OFF;  \r\n",
                "GO\r\n",
                "Create Table t3 ( col1 char(10))\r\n",
                "GO\r\n",
                "\r\n",
                "SET ANSI_PADDING ON;  \r\n",
                "GO\r\n",
                "ALTER Table t3 ADD col2 char(10)\r\n",
                "GO"
            ],
            "metadata": {
                "azdata_cell_guid": "0ffbfd4c-de46-4327-8af4-4621400678e8",
                "tags": []
            },
            "outputs": [
                {
                    "output_type": "display_data",
                    "data": {
                        "text/html": "Commands completed successfully."
                    },
                    "metadata": {}
                },
                {
                    "output_type": "display_data",
                    "data": {
                        "text/html": "Commands completed successfully."
                    },
                    "metadata": {}
                },
                {
                    "output_type": "display_data",
                    "data": {
                        "text/html": "Commands completed successfully."
                    },
                    "metadata": {}
                },
                {
                    "output_type": "display_data",
                    "data": {
                        "text/html": "Commands completed successfully."
                    },
                    "metadata": {}
                },
                {
                    "output_type": "display_data",
                    "data": {
                        "text/html": "Total execution time: 00:00:00.027"
                    },
                    "metadata": {}
                }
            ],
            "execution_count": 13
        },
        {
            "cell_type": "markdown",
            "source": [
                "**<u>Analyse</u>** der ANSI PADDING Settings einer/mehrerer Tabellen"
            ],
            "metadata": {
                "azdata_cell_guid": "d848a044-776a-4c90-ab73-705c77709b09"
            }
        },
        {
            "cell_type": "code",
            "source": [
                "SELECT  Name,Is_ANSI_Padded\r\n",
                "FROM    sys.columns\r\n",
                "where object_Name(object_ID) = 't3'"
            ],
            "metadata": {
                "azdata_cell_guid": "c30a8200-71fa-48f7-874e-59cd1301daca"
            },
            "outputs": [
                {
                    "output_type": "display_data",
                    "data": {
                        "text/html": "(2 rows affected)"
                    },
                    "metadata": {}
                },
                {
                    "output_type": "display_data",
                    "data": {
                        "text/html": "Total execution time: 00:00:00.052"
                    },
                    "metadata": {}
                },
                {
                    "output_type": "execute_result",
                    "metadata": {
                        "resultSet": {
                            "id": 0,
                            "batchId": 0,
                            "rowCount": 2,
                            "complete": false,
                            "columnInfo": [
                                {
                                    "isBytes": false,
                                    "isChars": true,
                                    "isSqlVariant": false,
                                    "isUdt": false,
                                    "isXml": false,
                                    "isJson": false,
                                    "sqlDbType": 12,
                                    "isHierarchyId": false,
                                    "isSqlXmlType": false,
                                    "isUnknownType": false,
                                    "isUpdatable": true,
                                    "allowDBNull": true,
                                    "baseCatalogName": null,
                                    "baseColumnName": null,
                                    "baseSchemaName": null,
                                    "baseServerName": null,
                                    "baseTableName": null,
                                    "columnName": "Name",
                                    "columnOrdinal": 0,
                                    "columnSize": 128,
                                    "isAliased": null,
                                    "isAutoIncrement": false,
                                    "isExpression": null,
                                    "isHidden": null,
                                    "isIdentity": false,
                                    "isKey": null,
                                    "isLong": false,
                                    "isReadOnly": false,
                                    "isUnique": false,
                                    "numericPrecision": 255,
                                    "numericScale": 255,
                                    "udtAssemblyQualifiedName": null,
                                    "dataType": "System.String, System.Private.CoreLib, Version=4.0.0.0, Culture=neutral, PublicKeyToken=7cec85d7bea7798e",
                                    "dataTypeName": "nvarchar"
                                },
                                {
                                    "isBytes": false,
                                    "isChars": false,
                                    "isSqlVariant": false,
                                    "isUdt": false,
                                    "isXml": false,
                                    "isJson": false,
                                    "sqlDbType": 2,
                                    "isHierarchyId": false,
                                    "isSqlXmlType": false,
                                    "isUnknownType": false,
                                    "isUpdatable": false,
                                    "allowDBNull": false,
                                    "baseCatalogName": null,
                                    "baseColumnName": null,
                                    "baseSchemaName": null,
                                    "baseServerName": null,
                                    "baseTableName": null,
                                    "columnName": "Is_ANSI_Padded",
                                    "columnOrdinal": 1,
                                    "columnSize": 1,
                                    "isAliased": null,
                                    "isAutoIncrement": false,
                                    "isExpression": null,
                                    "isHidden": null,
                                    "isIdentity": false,
                                    "isKey": null,
                                    "isLong": false,
                                    "isReadOnly": true,
                                    "isUnique": false,
                                    "numericPrecision": 255,
                                    "numericScale": 255,
                                    "udtAssemblyQualifiedName": null,
                                    "dataType": "System.Boolean, System.Private.CoreLib, Version=4.0.0.0, Culture=neutral, PublicKeyToken=7cec85d7bea7798e",
                                    "dataTypeName": "bit"
                                }
                            ],
                            "specialAction": null
                        }
                    },
                    "execution_count": 14,
                    "data": {
                        "application/vnd.dataresource+json": {
                            "schema": {
                                "fields": [
                                    {
                                        "name": "Name"
                                    },
                                    {
                                        "name": "Is_ANSI_Padded"
                                    }
                                ]
                            },
                            "data": [
                                {
                                    "0": "col1",
                                    "1": "0"
                                },
                                {
                                    "0": "col2",
                                    "1": "1"
                                }
                            ]
                        },
                        "text/html": [
                            "<table>",
                            "<tr><th>Name</th><th>Is_ANSI_Padded</th></tr>",
                            "<tr><td>col1</td><td>0</td></tr>",
                            "<tr><td>col2</td><td>1</td></tr>",
                            "</table>"
                        ]
                    }
                }
            ],
            "execution_count": 14
        },
        {
            "cell_type": "code",
            "source": [
                "SELECT o.name AS TableName, c.name AS ColumnName, c.is_ansi_padded\r\n",
                "FROM sys.columns c\r\n",
                "JOIN sys.objects o\r\n",
                "    ON c.object_id = o.object_id\r\n",
                "where o.name in ('t1','t2')"
            ],
            "metadata": {
                "azdata_cell_guid": "9ab82478-d3ff-48ef-b699-493a7e5506f1"
            },
            "outputs": [
                {
                    "output_type": "display_data",
                    "data": {
                        "text/html": "(6 rows affected)"
                    },
                    "metadata": {}
                },
                {
                    "output_type": "display_data",
                    "data": {
                        "text/html": "Total execution time: 00:00:00.031"
                    },
                    "metadata": {}
                },
                {
                    "output_type": "execute_result",
                    "metadata": {
                        "resultSet": {
                            "id": 0,
                            "batchId": 0,
                            "rowCount": 6,
                            "complete": true,
                            "columnInfo": [
                                {
                                    "isBytes": false,
                                    "isChars": true,
                                    "isSqlVariant": false,
                                    "isUdt": false,
                                    "isXml": false,
                                    "isJson": false,
                                    "sqlDbType": 12,
                                    "isHierarchyId": false,
                                    "isSqlXmlType": false,
                                    "isUnknownType": false,
                                    "isUpdatable": true,
                                    "allowDBNull": false,
                                    "baseCatalogName": null,
                                    "baseColumnName": null,
                                    "baseSchemaName": null,
                                    "baseServerName": null,
                                    "baseTableName": null,
                                    "columnName": "TableName",
                                    "columnOrdinal": 0,
                                    "columnSize": 128,
                                    "isAliased": null,
                                    "isAutoIncrement": false,
                                    "isExpression": null,
                                    "isHidden": null,
                                    "isIdentity": false,
                                    "isKey": null,
                                    "isLong": false,
                                    "isReadOnly": false,
                                    "isUnique": false,
                                    "numericPrecision": 255,
                                    "numericScale": 255,
                                    "udtAssemblyQualifiedName": null,
                                    "dataType": "System.String, System.Private.CoreLib, Version=4.0.0.0, Culture=neutral, PublicKeyToken=7cec85d7bea7798e",
                                    "dataTypeName": "nvarchar"
                                },
                                {
                                    "isBytes": false,
                                    "isChars": true,
                                    "isSqlVariant": false,
                                    "isUdt": false,
                                    "isXml": false,
                                    "isJson": false,
                                    "sqlDbType": 12,
                                    "isHierarchyId": false,
                                    "isSqlXmlType": false,
                                    "isUnknownType": false,
                                    "isUpdatable": true,
                                    "allowDBNull": true,
                                    "baseCatalogName": null,
                                    "baseColumnName": null,
                                    "baseSchemaName": null,
                                    "baseServerName": null,
                                    "baseTableName": null,
                                    "columnName": "ColumnName",
                                    "columnOrdinal": 1,
                                    "columnSize": 128,
                                    "isAliased": null,
                                    "isAutoIncrement": false,
                                    "isExpression": null,
                                    "isHidden": null,
                                    "isIdentity": false,
                                    "isKey": null,
                                    "isLong": false,
                                    "isReadOnly": false,
                                    "isUnique": false,
                                    "numericPrecision": 255,
                                    "numericScale": 255,
                                    "udtAssemblyQualifiedName": null,
                                    "dataType": "System.String, System.Private.CoreLib, Version=4.0.0.0, Culture=neutral, PublicKeyToken=7cec85d7bea7798e",
                                    "dataTypeName": "nvarchar"
                                },
                                {
                                    "isBytes": false,
                                    "isChars": false,
                                    "isSqlVariant": false,
                                    "isUdt": false,
                                    "isXml": false,
                                    "isJson": false,
                                    "sqlDbType": 2,
                                    "isHierarchyId": false,
                                    "isSqlXmlType": false,
                                    "isUnknownType": false,
                                    "isUpdatable": false,
                                    "allowDBNull": false,
                                    "baseCatalogName": null,
                                    "baseColumnName": null,
                                    "baseSchemaName": null,
                                    "baseServerName": null,
                                    "baseTableName": null,
                                    "columnName": "is_ansi_padded",
                                    "columnOrdinal": 2,
                                    "columnSize": 1,
                                    "isAliased": null,
                                    "isAutoIncrement": false,
                                    "isExpression": null,
                                    "isHidden": null,
                                    "isIdentity": false,
                                    "isKey": null,
                                    "isLong": false,
                                    "isReadOnly": true,
                                    "isUnique": false,
                                    "numericPrecision": 255,
                                    "numericScale": 255,
                                    "udtAssemblyQualifiedName": null,
                                    "dataType": "System.Boolean, System.Private.CoreLib, Version=4.0.0.0, Culture=neutral, PublicKeyToken=7cec85d7bea7798e",
                                    "dataTypeName": "bit"
                                }
                            ],
                            "specialAction": {
                                "none": true,
                                "expectYukonXMLShowPlan": false
                            }
                        }
                    },
                    "execution_count": 7,
                    "data": {
                        "application/vnd.dataresource+json": {
                            "schema": {
                                "fields": [
                                    {
                                        "name": "TableName"
                                    },
                                    {
                                        "name": "ColumnName"
                                    },
                                    {
                                        "name": "is_ansi_padded"
                                    }
                                ]
                            },
                            "data": [
                                {
                                    "0": "t1",
                                    "1": "charcol",
                                    "2": "1"
                                },
                                {
                                    "0": "t1",
                                    "1": "varcharcol",
                                    "2": "1"
                                },
                                {
                                    "0": "t1",
                                    "1": "varbinarycol",
                                    "2": "1"
                                },
                                {
                                    "0": "t2",
                                    "1": "charcol",
                                    "2": "0"
                                },
                                {
                                    "0": "t2",
                                    "1": "varcharcol",
                                    "2": "0"
                                },
                                {
                                    "0": "t2",
                                    "1": "varbinarycol",
                                    "2": "0"
                                }
                            ]
                        },
                        "text/html": [
                            "<table>",
                            "<tr><th>TableName</th><th>ColumnName</th><th>is_ansi_padded</th></tr>",
                            "<tr><td>t1</td><td>charcol</td><td>1</td></tr>",
                            "<tr><td>t1</td><td>varcharcol</td><td>1</td></tr>",
                            "<tr><td>t1</td><td>varbinarycol</td><td>1</td></tr>",
                            "<tr><td>t2</td><td>charcol</td><td>0</td></tr>",
                            "<tr><td>t2</td><td>varcharcol</td><td>0</td></tr>",
                            "<tr><td>t2</td><td>varbinarycol</td><td>0</td></tr>",
                            "</table>"
                        ]
                    }
                }
            ],
            "execution_count": 7
        }
    ]
}