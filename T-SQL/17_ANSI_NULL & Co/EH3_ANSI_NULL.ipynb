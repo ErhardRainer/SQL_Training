{
    "metadata": {
        "kernelspec": {
            "name": "SQL",
            "display_name": "SQL",
            "language": "sql"
        },
        "language_info": {
            "name": "sql",
            "version": ""
        }
    },
    "nbformat_minor": 2,
    "nbformat": 4,
    "cells": [
        {
            "cell_type": "markdown",
            "source": [
                "# ANSI NULL\n",
                "\n",
                "spezifiziert das ISO compliant Verhalten von = und \\<\\> in Bezug auf NULL Values <mark>(Standard 1 | ON)</mark>\n",
                "\n",
                "- ANSI\\_NULL OFF = 0 =\\> \\<\\> & = funktioniert mit NULL\n",
                "- ANSI\\_NULL ON = 1 =\\> \\<\\> & = funktioniert nicht mit NULL"
            ],
            "metadata": {
                "azdata_cell_guid": "0664d517-6499-4992-96c4-03945c7a649f"
            }
        },
        {
            "cell_type": "code",
            "source": [
                "USE master\r\n",
                "GO\r\n",
                "Drop Database if exists [ANSI_NULL_TEST]\r\n",
                "CREATE DATABASE [ANSI_NULL_TEST]\r\n",
                "GO\r\n",
                "Alter Database [ANSI_NULL_TEST]  SET ANSI_NULL_DEFAULT ON;\r\n",
                "GO"
            ],
            "metadata": {
                "azdata_cell_guid": "8f7e50e8-a71d-4d73-9f4a-823ed7ed9a4b"
            },
            "outputs": [],
            "execution_count": null
        },
        {
            "cell_type": "markdown",
            "source": [
                "Vorbereitung: eine neue Tabelel \\[Table\\_1\\] mit 2 Werten, wovon einer ein NULL-Value ist"
            ],
            "metadata": {
                "azdata_cell_guid": "4555c9eb-f694-46a8-a21d-7f44864dba17"
            }
        },
        {
            "cell_type": "code",
            "source": [
                "USE [ANSI_NULL_TEST]\r\n",
                "GO\r\n",
                "Drop Table if EXISTS [Table_1]\r\n",
                "Create Table Table_1 (Column_1 varchar(100) NULL)\r\n",
                "INSERT INTO Table_1 (Column_1) VALUES (NULL);\r\n",
                "INSERT INTO Table_1 (Column_1) VALUES ('Test');\r\n",
                "Select * from Table_1"
            ],
            "metadata": {
                "azdata_cell_guid": "3adbab90-c388-4618-9d88-29f14fa17b96"
            },
            "outputs": [],
            "execution_count": null
        },
        {
            "cell_type": "markdown",
            "source": [
                "**<u>Beispiel 1:</u>** Wenn ANSI\\_NULL <mark>ON</mark> gestellt, wird NULL nicht wie ein richiger Wert behandelt\n",
                "\n",
                "Dh. = NULL und \\<\\> NULL funktionieren nicht"
            ],
            "metadata": {
                "azdata_cell_guid": "b4251142-c060-4e15-934d-0636a2ad1394"
            }
        },
        {
            "cell_type": "code",
            "source": [
                "-- Beispiel 1: funktioniert nicht\r\n",
                "SET ANSI_NULLS ON\r\n",
                "Select * from Table_1 where Column_1 = NULL\r\n",
                "Select * from Table_1 where Column_1 <> NULL"
            ],
            "metadata": {
                "azdata_cell_guid": "e95d6106-8a3c-422f-9d0c-521153576a18"
            },
            "outputs": [],
            "execution_count": null
        },
        {
            "cell_type": "markdown",
            "source": [
                "**<u>Beispiel 2:</u>** Wenn ANSI\\_NULL <mark>OFF</mark> gestellt, wird NULL nicht wie ein richiger Wert behandelt\n",
                "\n",
                "Dh. = NULL und \\<\\> NULL funktionieren"
            ],
            "metadata": {
                "azdata_cell_guid": "d30abd1d-80a8-4737-8852-169828b239e4"
            }
        },
        {
            "cell_type": "code",
            "source": [
                "-- Beispiel 2: funktioniert\r\n",
                "SET ANSI_NULLS OFF\r\n",
                "Select * from Table_1 where Column_1 = NULL\r\n",
                "Select * from Table_1 where Column_1 <> NULL"
            ],
            "metadata": {
                "azdata_cell_guid": "c7385b5b-4e04-47af-8acb-8aa90abc751c"
            },
            "outputs": [],
            "execution_count": null
        },
        {
            "cell_type": "markdown",
            "source": [
                "**<u>WICHTIG:</u>** Was immer geht - unabhängig von ANSI\\_NULLS Settings"
            ],
            "metadata": {
                "azdata_cell_guid": "2a985929-ca1a-4588-bd1d-422de096a98e"
            }
        },
        {
            "cell_type": "code",
            "source": [
                "-- was aber immer geht\r\n",
                "Select * from Table_1 where Column_1 is null\r\n",
                "Select * from Table_1 where Column_1 is not null"
            ],
            "metadata": {
                "azdata_cell_guid": "1bc06018-0b3e-4d06-8e20-886ab4f4ada5"
            },
            "outputs": [
                {
                    "output_type": "display_data",
                    "data": {
                        "text/html": "(1 row affected)"
                    },
                    "metadata": {}
                },
                {
                    "output_type": "display_data",
                    "data": {
                        "text/html": "(1 row affected)"
                    },
                    "metadata": {}
                },
                {
                    "output_type": "display_data",
                    "data": {
                        "text/html": "Total execution time: 00:00:01.517"
                    },
                    "metadata": {}
                },
                {
                    "output_type": "execute_result",
                    "execution_count": 19,
                    "data": {
                        "application/vnd.dataresource+json": {
                            "schema": {
                                "fields": [
                                    {
                                        "name": "Column_1"
                                    }
                                ]
                            },
                            "data": [
                                {
                                    "0": "NULL"
                                }
                            ]
                        },
                        "text/html": "<table><tr><th>Column_1</th></tr><tr><td>NULL</td></tr></table>"
                    },
                    "metadata": {
                        "resultSet": {
                            "id": 0,
                            "batchId": 0,
                            "rowCount": 1,
                            "complete": true,
                            "columnInfo": [
                                {
                                    "isBytes": false,
                                    "isChars": true,
                                    "isSqlVariant": false,
                                    "isUdt": false,
                                    "isXml": false,
                                    "isJson": false,
                                    "sqlDbType": 22,
                                    "isHierarchyId": false,
                                    "isSqlXmlType": false,
                                    "isUnknownType": false,
                                    "isUpdatable": true,
                                    "allowDBNull": true,
                                    "baseCatalogName": null,
                                    "baseColumnName": null,
                                    "baseSchemaName": null,
                                    "baseServerName": null,
                                    "baseTableName": null,
                                    "columnName": "Column_1",
                                    "columnOrdinal": 0,
                                    "columnSize": 100,
                                    "isAliased": null,
                                    "isAutoIncrement": false,
                                    "isExpression": null,
                                    "isHidden": null,
                                    "isIdentity": false,
                                    "isKey": null,
                                    "isLong": false,
                                    "isReadOnly": false,
                                    "isUnique": false,
                                    "numericPrecision": 255,
                                    "numericScale": 255,
                                    "udtAssemblyQualifiedName": null,
                                    "dataType": "System.String, System.Private.CoreLib, Version=4.0.0.0, Culture=neutral, PublicKeyToken=7cec85d7bea7798e",
                                    "dataTypeName": "varchar"
                                }
                            ],
                            "specialAction": {
                                "none": true,
                                "expectYukonXMLShowPlan": false
                            }
                        }
                    }
                },
                {
                    "output_type": "execute_result",
                    "execution_count": 19,
                    "data": {
                        "application/vnd.dataresource+json": {
                            "schema": {
                                "fields": [
                                    {
                                        "name": "Column_1"
                                    }
                                ]
                            },
                            "data": [
                                {
                                    "0": "Test"
                                }
                            ]
                        },
                        "text/html": "<table><tr><th>Column_1</th></tr><tr><td>Test</td></tr></table>"
                    },
                    "metadata": {
                        "resultSet": {
                            "id": 1,
                            "batchId": 0,
                            "rowCount": 1,
                            "complete": false,
                            "columnInfo": [
                                {
                                    "isBytes": false,
                                    "isChars": true,
                                    "isSqlVariant": false,
                                    "isUdt": false,
                                    "isXml": false,
                                    "isJson": false,
                                    "sqlDbType": 22,
                                    "isHierarchyId": false,
                                    "isSqlXmlType": false,
                                    "isUnknownType": false,
                                    "isUpdatable": true,
                                    "allowDBNull": true,
                                    "baseCatalogName": null,
                                    "baseColumnName": null,
                                    "baseSchemaName": null,
                                    "baseServerName": null,
                                    "baseTableName": null,
                                    "columnName": "Column_1",
                                    "columnOrdinal": 0,
                                    "columnSize": 100,
                                    "isAliased": null,
                                    "isAutoIncrement": false,
                                    "isExpression": null,
                                    "isHidden": null,
                                    "isIdentity": false,
                                    "isKey": null,
                                    "isLong": false,
                                    "isReadOnly": false,
                                    "isUnique": false,
                                    "numericPrecision": 255,
                                    "numericScale": 255,
                                    "udtAssemblyQualifiedName": null,
                                    "dataType": "System.String, System.Private.CoreLib, Version=4.0.0.0, Culture=neutral, PublicKeyToken=7cec85d7bea7798e",
                                    "dataTypeName": "varchar"
                                }
                            ],
                            "specialAction": null
                        }
                    }
                }
            ],
            "execution_count": 19
        },
        {
            "cell_type": "markdown",
            "source": [
                "<span style=\"color: rgb(82, 89, 96); font-family: -apple-system, BlinkMacSystemFont, &quot;Segoe UI&quot;, &quot;Liberation Sans&quot;, sans-serif; font-size: 15px; background-color: rgb(255, 255, 255);\">In a future version of SQL Server, ANSI_NULLS will always be ON and any applications that explicitly set the option to OFF will produce an error. Avoid using this feature in new development work, and plan to modify applications that currently use this feature. (Quelle:&nbsp;</span> <span style=\"font-size: 15px;\">https://sqlenlight.com/support/help/sa0207/)</span>"
            ],
            "metadata": {
                "azdata_cell_guid": "a93c6674-050c-4ae9-ba8e-84434d090004"
            }
        },
        {
            "cell_type": "markdown",
            "source": [
                "| Boolean Expression | SET ANSI\\_NULLS ON | SET ANSI\\_NULLS OFF |\n",
                "| --- | --- | --- |\n",
                "| NULL = NULL | UNKNOWN | TRUE |\n",
                "| 1 = NULL | UNKNOWN | FALSE |\n",
                "| NULL \\<\\> NULL | UNKNOWN | FALSE |\n",
                "| 1 \\<\\> NULL | UNKNOWN | TRUE |\n",
                "| NULL \\> NULL | UNKNOWN | UNKNOWN |\n",
                "| 1 \\> NULL | UNKNOWN | UNKNOWN |\n",
                "| NULL IS NULL | TRUE | TRUE |\n",
                "| 1 IS NULL | FALSE | FALSE |\n",
                "| NULL IS NOT NULL | FALSE | FALSE |\n",
                "| 1 IS NOT NULL | TRUE | TRUE |\n",
                "\n",
                "Quelle: https://docs.microsoft.com/en-us/sql/t-sql/statements/set-ansi-nulls-transact-sql?redirectedfrom=MSDN&view=sql-server-ver15"
            ],
            "metadata": {
                "azdata_cell_guid": "a18dae71-3c10-43b9-85a9-7f0d85933bed"
            }
        }
    ]
}