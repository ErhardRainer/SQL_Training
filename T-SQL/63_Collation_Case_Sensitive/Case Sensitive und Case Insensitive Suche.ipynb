{
    "metadata": {
        "kernelspec": {
            "name": "SQL",
            "display_name": "SQL",
            "language": "sql"
        },
        "language_info": {
            "name": "sql",
            "version": ""
        }
    },
    "nbformat_minor": 2,
    "nbformat": 4,
    "cells": [
        {
            "cell_type": "markdown",
            "source": [
                "# Textfunktionen\n",
                "\n",
                "T-SQL bietet eine Vielzahl von Textfunktionen, um mit Zeichenketten (Strings) zu arbeiten. Hier ist eine Liste der gängigsten Textfunktionen in T-SQL:\n",
                "\n",
                "1. <span style=\"border: 0px solid rgb(217, 217, 227); box-sizing: border-box; --tw-border-spacing-x: 0; --tw-border-spacing-y: 0; --tw-translate-x: 0; --tw-translate-y: 0; --tw-rotate: 0; --tw-skew-x: 0; --tw-skew-y: 0; --tw-scale-x: 1; --tw-scale-y: 1; --tw-pan-x: ; --tw-pan-y: ; --tw-pinch-zoom: ; --tw-scroll-snap-strictness: proximity; --tw-gradient-from-position: ; --tw-gradient-via-position: ; --tw-gradient-to-position: ; --tw-ordinal: ; --tw-slashed-zero: ; --tw-numeric-figure: ; --tw-numeric-spacing: ; --tw-numeric-fraction: ; --tw-ring-inset: ; --tw-ring-offset-width: 0px; --tw-ring-offset-color: #fff; --tw-ring-color: rgba(69,89,164,.5); --tw-ring-offset-shadow: 0 0 transparent; --tw-ring-shadow: 0 0 transparent; --tw-shadow: 0 0 transparent; --tw-shadow-colored: 0 0 transparent; --tw-blur: ; --tw-brightness: ; --tw-contrast: ; --tw-grayscale: ; --tw-hue-rotate: ; --tw-invert: ; --tw-saturate: ; --tw-sepia: ; --tw-drop-shadow: ; --tw-backdrop-blur: ; --tw-backdrop-brightness: ; --tw-backdrop-contrast: ; --tw-backdrop-grayscale: ; --tw-backdrop-hue-rotate: ; --tw-backdrop-invert: ; --tw-backdrop-opacity: ; --tw-backdrop-saturate: ; --tw-backdrop-sepia: ; font-weight: 600; color: var(--tw-prose-bold);\">String-Manipulation</span>:\n",
                "    \n",
                "    - `LEN()`: Gibt die Länge eines Strings zurück. (Beispiel 1)\n",
                "    - `LEFT()`: Gibt eine bestimmte Anzahl von Zeichen vom Anfang eines Strings zurück. (Beispiel 1)\n",
                "    - `RIGHT()`: Gibt eine bestimmte Anzahl von Zeichen vom Ende eines Strings zurück. (Beispiel 1)\n",
                "    - `UPPER()`: Wandelt alle Buchstaben in einem String in Großbuchstaben um. (Beispiel 2)\n",
                "    - `LOWER()`: Wandelt alle Buchstaben in einem String in Kleinbuchstaben um. (Beispiel 2)\n",
                "    - `LTRIM()`: Entfernt Leerzeichen vom Anfang eines Strings. (Beispiel 3)\n",
                "    - `RTRIM()`: Entfernt Leerzeichen vom Ende eines Strings. (Beispiel 3)\n",
                "    - `TRIM()`: Entfernt Leerzeichen vom Anfang und Ende eines Strings. (Beispiel 3)\n",
                "    - `REPLACE()`: Ersetzt alle Vorkommen eines Substrings durch einen anderen Substring.\n",
                "    - `STUFF()`: Setzt einen String in einen anderen String ein, beginnend an einer angegebenen Position und über eine angegebene Länge.\n",
                "    - `REPLICATE()`: Wiederholt einen String eine bestimmte Anzahl von Malen.\n",
                "    - `FORMAT()`: Formatiert Werte als Strings.\n",
                "2. <span style=\"border: 0px solid rgb(217, 217, 227); box-sizing: border-box; --tw-border-spacing-x: 0; --tw-border-spacing-y: 0; --tw-translate-x: 0; --tw-translate-y: 0; --tw-rotate: 0; --tw-skew-x: 0; --tw-skew-y: 0; --tw-scale-x: 1; --tw-scale-y: 1; --tw-pan-x: ; --tw-pan-y: ; --tw-pinch-zoom: ; --tw-scroll-snap-strictness: proximity; --tw-gradient-from-position: ; --tw-gradient-via-position: ; --tw-gradient-to-position: ; --tw-ordinal: ; --tw-slashed-zero: ; --tw-numeric-figure: ; --tw-numeric-spacing: ; --tw-numeric-fraction: ; --tw-ring-inset: ; --tw-ring-offset-width: 0px; --tw-ring-offset-color: #fff; --tw-ring-color: rgba(69,89,164,.5); --tw-ring-offset-shadow: 0 0 transparent; --tw-ring-shadow: 0 0 transparent; --tw-shadow: 0 0 transparent; --tw-shadow-colored: 0 0 transparent; --tw-blur: ; --tw-brightness: ; --tw-contrast: ; --tw-grayscale: ; --tw-hue-rotate: ; --tw-invert: ; --tw-saturate: ; --tw-sepia: ; --tw-drop-shadow: ; --tw-backdrop-blur: ; --tw-backdrop-brightness: ; --tw-backdrop-contrast: ; --tw-backdrop-grayscale: ; --tw-backdrop-hue-rotate: ; --tw-backdrop-invert: ; --tw-backdrop-opacity: ; --tw-backdrop-saturate: ; --tw-backdrop-sepia: ; font-weight: 600; color: var(--tw-prose-bold);\">Suchen und Abfragen</span>:\n",
                "    \n",
                "    - `CHARINDEX()`: Gibt die Position des ersten Vorkommens eines Substrings zurück.\n",
                "    - `PATINDEX()`: Gibt die Position des ersten Vorkommens eines Musters in einem String zurück.\n",
                "    - `STR()`: Konvertiert einen Zahlwert in einen String.\n",
                "    - `SUBSTRING()`: Gibt einen Teil eines Strings zurück.\n",
                "3. <span style=\"border: 0px solid rgb(217, 217, 227); box-sizing: border-box; --tw-border-spacing-x: 0; --tw-border-spacing-y: 0; --tw-translate-x: 0; --tw-translate-y: 0; --tw-rotate: 0; --tw-skew-x: 0; --tw-skew-y: 0; --tw-scale-x: 1; --tw-scale-y: 1; --tw-pan-x: ; --tw-pan-y: ; --tw-pinch-zoom: ; --tw-scroll-snap-strictness: proximity; --tw-gradient-from-position: ; --tw-gradient-via-position: ; --tw-gradient-to-position: ; --tw-ordinal: ; --tw-slashed-zero: ; --tw-numeric-figure: ; --tw-numeric-spacing: ; --tw-numeric-fraction: ; --tw-ring-inset: ; --tw-ring-offset-width: 0px; --tw-ring-offset-color: #fff; --tw-ring-color: rgba(69,89,164,.5); --tw-ring-offset-shadow: 0 0 transparent; --tw-ring-shadow: 0 0 transparent; --tw-shadow: 0 0 transparent; --tw-shadow-colored: 0 0 transparent; --tw-blur: ; --tw-brightness: ; --tw-contrast: ; --tw-grayscale: ; --tw-hue-rotate: ; --tw-invert: ; --tw-saturate: ; --tw-sepia: ; --tw-drop-shadow: ; --tw-backdrop-blur: ; --tw-backdrop-brightness: ; --tw-backdrop-contrast: ; --tw-backdrop-grayscale: ; --tw-backdrop-hue-rotate: ; --tw-backdrop-invert: ; --tw-backdrop-opacity: ; --tw-backdrop-saturate: ; --tw-backdrop-sepia: ; font-weight: 600; color: var(--tw-prose-bold);\">Konvertierung</span>:\n",
                "    \n",
                "    - `ASCII()`: Gibt den ASCII-Code des ersten Zeichens eines Strings zurück.\n",
                "    - `CHAR()`: Gibt das Zeichen zurück, das dem angegebenen ASCII-Code entspricht.\n",
                "    - `UNICODE()`: Gibt den Unicode-Wert des ersten Zeichens eines Strings zurück.\n",
                "    - `NCHAR()`: Gibt das Unicode-Zeichen zurück, das dem angegebenen Unicode-Wert entspricht.\n",
                "    - `CAST()`: Wandelt einen Ausdruck in einen angegebenen Datentyp um.\n",
                "    - `CONVERT()`: Wandelt einen Ausdruck in einen angegebenen Datentyp um.\n",
                "4. <span style=\"border: 0px solid rgb(217, 217, 227); box-sizing: border-box; --tw-border-spacing-x: 0; --tw-border-spacing-y: 0; --tw-translate-x: 0; --tw-translate-y: 0; --tw-rotate: 0; --tw-skew-x: 0; --tw-skew-y: 0; --tw-scale-x: 1; --tw-scale-y: 1; --tw-pan-x: ; --tw-pan-y: ; --tw-pinch-zoom: ; --tw-scroll-snap-strictness: proximity; --tw-gradient-from-position: ; --tw-gradient-via-position: ; --tw-gradient-to-position: ; --tw-ordinal: ; --tw-slashed-zero: ; --tw-numeric-figure: ; --tw-numeric-spacing: ; --tw-numeric-fraction: ; --tw-ring-inset: ; --tw-ring-offset-width: 0px; --tw-ring-offset-color: #fff; --tw-ring-color: rgba(69,89,164,.5); --tw-ring-offset-shadow: 0 0 transparent; --tw-ring-shadow: 0 0 transparent; --tw-shadow: 0 0 transparent; --tw-shadow-colored: 0 0 transparent; --tw-blur: ; --tw-brightness: ; --tw-contrast: ; --tw-grayscale: ; --tw-hue-rotate: ; --tw-invert: ; --tw-saturate: ; --tw-sepia: ; --tw-drop-shadow: ; --tw-backdrop-blur: ; --tw-backdrop-brightness: ; --tw-backdrop-contrast: ; --tw-backdrop-grayscale: ; --tw-backdrop-hue-rotate: ; --tw-backdrop-invert: ; --tw-backdrop-opacity: ; --tw-backdrop-saturate: ; --tw-backdrop-sepia: ; font-weight: 600; color: var(--tw-prose-bold);\">Aggregation</span>:\n",
                "    \n",
                "    - `STRING_AGG()`: Kombiniert mehrere Zeilen eines Strings in einer Spalte.\n",
                "5. <span style=\"border: 0px solid rgb(217, 217, 227); box-sizing: border-box; --tw-border-spacing-x: 0; --tw-border-spacing-y: 0; --tw-translate-x: 0; --tw-translate-y: 0; --tw-rotate: 0; --tw-skew-x: 0; --tw-skew-y: 0; --tw-scale-x: 1; --tw-scale-y: 1; --tw-pan-x: ; --tw-pan-y: ; --tw-pinch-zoom: ; --tw-scroll-snap-strictness: proximity; --tw-gradient-from-position: ; --tw-gradient-via-position: ; --tw-gradient-to-position: ; --tw-ordinal: ; --tw-slashed-zero: ; --tw-numeric-figure: ; --tw-numeric-spacing: ; --tw-numeric-fraction: ; --tw-ring-inset: ; --tw-ring-offset-width: 0px; --tw-ring-offset-color: #fff; --tw-ring-color: rgba(69,89,164,.5); --tw-ring-offset-shadow: 0 0 transparent; --tw-ring-shadow: 0 0 transparent; --tw-shadow: 0 0 transparent; --tw-shadow-colored: 0 0 transparent; --tw-blur: ; --tw-brightness: ; --tw-contrast: ; --tw-grayscale: ; --tw-hue-rotate: ; --tw-invert: ; --tw-saturate: ; --tw-sepia: ; --tw-drop-shadow: ; --tw-backdrop-blur: ; --tw-backdrop-brightness: ; --tw-backdrop-contrast: ; --tw-backdrop-grayscale: ; --tw-backdrop-hue-rotate: ; --tw-backdrop-invert: ; --tw-backdrop-opacity: ; --tw-backdrop-saturate: ; --tw-backdrop-sepia: ; font-weight: 600; color: var(--tw-prose-bold);\">Verschiedenes</span>:\n",
                "    \n",
                "    - `CONCAT()`: Verkettet zwei oder mehr Strings.\n",
                "    - `CONCAT_WS()`: Verkettet Strings mit einem Trennzeichen.\n",
                "    - `QUOTENAME()`: Gibt einen Unicode-String mit Klammern zurück.\n",
                "    - `REVERSE()`: Kehrt einen String um.\n",
                "    - `SPACE()`: Gibt einen String mit der angegebenen Anzahl von Leerzeichen zurück.\n",
                "    - `ISNULL()`: Gibt den ersten Wert zurück, wenn er nicht NULL ist, sonst den zweiten Wert.\n",
                "    - `IIF()`: Gibt je nach Bedingung den einen oder anderen Wert zurück.\n",
                "    - `CHOOSE()`: Gibt, basierend auf einem Index, einen von mehreren Werten zurück."
            ],
            "metadata": {
                "azdata_cell_guid": "2e5e28d4-a2c3-42a5-9d20-74be134c5be6"
            },
            "attachments": {}
        },
        {
            "cell_type": "code",
            "source": [
                "Use [AdventureWorks2017]\r\n",
                "Go"
            ],
            "metadata": {
                "azdata_cell_guid": "1d71683d-5067-43ce-a05f-220f007bdfd7",
                "language": "sql"
            },
            "outputs": [
                {
                    "output_type": "display_data",
                    "data": {
                        "text/html": "Commands completed successfully."
                    },
                    "metadata": {}
                },
                {
                    "output_type": "display_data",
                    "data": {
                        "text/html": "Total execution time: 00:00:00"
                    },
                    "metadata": {}
                }
            ],
            "execution_count": 1
        },
        {
            "cell_type": "markdown",
            "source": [
                "## Beispiel 1: LEN, LEFT, RIGHT"
            ],
            "metadata": {
                "language": "sql",
                "azdata_cell_guid": "348a14f7-1d3a-4db7-953f-d995a9e50c4f"
            },
            "attachments": {}
        },
        {
            "cell_type": "code",
            "source": [
                "-- schlägt fehl, da nicht jede Spalte ein Leerzeichen hat\r\n",
                "SELECT [AddressID]\r\n",
                "      ,[AddressLine1]\r\n",
                "      ,[AddressLine2]\r\n",
                "      ,len([AddressLine2]) as [AddressLine2_len]\r\n",
                "      ,right([AddressLine2],5) as [AddressLine2_Right5]\r\n",
                "      ,left([AddressLine2],5) as [AddressLine2_Left5]\r\n",
                "      -- Zusätzliche berechnete Spalten\r\n",
                "      ,LEFT([AddressLine2], CHARINDEX(' ', [AddressLine2]) - 1) as [AddressLine2_BeforeSpace]\r\n",
                "      ,RIGHT([AddressLine2], LEN([AddressLine2]) - CHARINDEX(' ', [AddressLine2])) as [AddressLine2_AfterSpace]\r\n",
                "FROM [AdventureWorks2017].[Person].[Address]\r\n",
                "where AddressLine2 is not null"
            ],
            "metadata": {
                "language": "sql",
                "azdata_cell_guid": "edaeb94c-3b76-489b-a037-99474b890afc",
                "tags": []
            },
            "outputs": [
                {
                    "output_type": "display_data",
                    "data": {
                        "text/html": "Total execution time: 00:00:00.028"
                    },
                    "metadata": {}
                },
                {
                    "output_type": "execute_result",
                    "metadata": {},
                    "execution_count": 7,
                    "data": {
                        "application/vnd.dataresource+json": {
                            "schema": {
                                "fields": [
                                    {
                                        "name": "AddressID"
                                    },
                                    {
                                        "name": "AddressLine1"
                                    },
                                    {
                                        "name": "AddressLine2"
                                    },
                                    {
                                        "name": "AddressLine2_len"
                                    },
                                    {
                                        "name": "AddressLine2_Right5"
                                    },
                                    {
                                        "name": "AddressLine2_Left5"
                                    },
                                    {
                                        "name": "AddressLine2_BeforeSpace"
                                    },
                                    {
                                        "name": "AddressLine2_AfterSpace"
                                    }
                                ]
                            },
                            "data": [
                                {
                                    "AddressID": "12037",
                                    "AddressLine1": "1 Smiling Tree Court",
                                    "AddressLine2": "Space 55",
                                    "AddressLine2_len": "8",
                                    "AddressLine2_Right5": "ce 55",
                                    "AddressLine2_Left5": "Space",
                                    "AddressLine2_BeforeSpace": "Space",
                                    "AddressLine2_AfterSpace": "55"
                                }
                            ]
                        },
                        "text/html": [
                            "<table>",
                            "<tr><th>AddressID</th><th>AddressLine1</th><th>AddressLine2</th><th>AddressLine2_len</th><th>AddressLine2_Right5</th><th>AddressLine2_Left5</th><th>AddressLine2_BeforeSpace</th><th>AddressLine2_AfterSpace</th></tr>",
                            "<tr><td>12037</td><td>1 Smiling Tree Court</td><td>Space 55</td><td>8</td><td>ce 55</td><td>Space</td><td>Space</td><td>55</td></tr>",
                            "</table>"
                        ]
                    }
                },
                {
                    "output_type": "error",
                    "evalue": "Msg 537, Level 16, State 3, Line 2\r\nInvalid length parameter passed to the LEFT or SUBSTRING function.",
                    "ename": "",
                    "traceback": []
                }
            ],
            "execution_count": 7
        },
        {
            "cell_type": "code",
            "source": [
                "-- geändert, damit es auch mit Spalten funktioniert, die kei Leerzeichen haben\r\n",
                "SELECT [AddressID]\r\n",
                "      ,[AddressLine1]\r\n",
                "      ,[AddressLine2]\r\n",
                "      ,len([AddressLine2]) as [AddressLine2_len]\r\n",
                "      ,right([AddressLine2],5) as [AddressLine2_Right5]\r\n",
                "      ,left([AddressLine2],5) as [AddressLine2_Left5]\r\n",
                "      -- Zusätzliche berechnete Spalten\r\n",
                "      ,CASE \r\n",
                "           WHEN CHARINDEX(' ', [AddressLine2]) > 0 THEN\r\n",
                "               LEFT([AddressLine2], CHARINDEX(' ', [AddressLine2]) - 1)\r\n",
                "           ELSE\r\n",
                "               [AddressLine2]\r\n",
                "       END as [AddressLine2_BeforeSpace]\r\n",
                "      ,CASE \r\n",
                "           WHEN CHARINDEX(' ', [AddressLine2]) > 0 THEN\r\n",
                "               RIGHT([AddressLine2], LEN([AddressLine2]) - CHARINDEX(' ', [AddressLine2]))\r\n",
                "           ELSE\r\n",
                "               ''\r\n",
                "       END as [AddressLine2_AfterSpace]\r\n",
                "FROM [AdventureWorks2017].[Person].[Address]\r\n",
                "where AddressLine2 is not null\r\n",
                ""
            ],
            "metadata": {
                "language": "sql",
                "azdata_cell_guid": "6737a6d9-94e1-4805-bdd1-b1d24fc74b41"
            },
            "outputs": [
                {
                    "output_type": "display_data",
                    "data": {
                        "text/html": "(363 rows affected)"
                    },
                    "metadata": {}
                },
                {
                    "output_type": "display_data",
                    "data": {
                        "text/html": "Total execution time: 00:00:00.032"
                    },
                    "metadata": {}
                },
                {
                    "output_type": "execute_result",
                    "metadata": {},
                    "execution_count": 8,
                    "data": {
                        "application/vnd.dataresource+json": {
                            "schema": {
                                "fields": [
                                    {
                                        "name": "AddressID"
                                    },
                                    {
                                        "name": "AddressLine1"
                                    },
                                    {
                                        "name": "AddressLine2"
                                    },
                                    {
                                        "name": "AddressLine2_len"
                                    },
                                    {
                                        "name": "AddressLine2_Right5"
                                    },
                                    {
                                        "name": "AddressLine2_Left5"
                                    },
                                    {
                                        "name": "AddressLine2_BeforeSpace"
                                    },
                                    {
                                        "name": "AddressLine2_AfterSpace"
                                    }
                                ]
                            },
                            "data": [
                                {
                                    "AddressID": "12037",
                                    "AddressLine1": "1 Smiling Tree Court",
                                    "AddressLine2": "Space 55",
                                    "AddressLine2_len": "8",
                                    "AddressLine2_Right5": "ce 55",
                                    "AddressLine2_Left5": "Space",
                                    "AddressLine2_BeforeSpace": "Space",
                                    "AddressLine2_AfterSpace": "55"
                                },
                                {
                                    "AddressID": "11383",
                                    "AddressLine1": "1010 Maple",
                                    "AddressLine2": "",
                                    "AddressLine2_len": "0",
                                    "AddressLine2_Right5": "",
                                    "AddressLine2_Left5": "",
                                    "AddressLine2_BeforeSpace": "",
                                    "AddressLine2_AfterSpace": ""
                                },
                                {
                                    "AddressID": "13970",
                                    "AddressLine1": "1085 Greenbelt Way",
                                    "AddressLine2": "Unit B-105",
                                    "AddressLine2_len": "10",
                                    "AddressLine2_Right5": "B-105",
                                    "AddressLine2_Left5": "Unit ",
                                    "AddressLine2_BeforeSpace": "Unit",
                                    "AddressLine2_AfterSpace": "B-105"
                                },
                                {
                                    "AddressID": "12420",
                                    "AddressLine1": "1119 Elderwood Dr.",
                                    "AddressLine2": "#3",
                                    "AddressLine2_len": "2",
                                    "AddressLine2_Right5": "#3",
                                    "AddressLine2_Left5": "#3",
                                    "AddressLine2_BeforeSpace": "#3",
                                    "AddressLine2_AfterSpace": ""
                                },
                                {
                                    "AddressID": "18507",
                                    "AddressLine1": "1163 Bella Vista",
                                    "AddressLine2": "# 003",
                                    "AddressLine2_len": "5",
                                    "AddressLine2_Right5": "# 003",
                                    "AddressLine2_Left5": "# 003",
                                    "AddressLine2_BeforeSpace": "#",
                                    "AddressLine2_AfterSpace": "003"
                                },
                                {
                                    "AddressID": "18770",
                                    "AddressLine1": "1345 Blocking Circle",
                                    "AddressLine2": "#3",
                                    "AddressLine2_len": "2",
                                    "AddressLine2_Right5": "#3",
                                    "AddressLine2_Left5": "#3",
                                    "AddressLine2_BeforeSpace": "#3",
                                    "AddressLine2_AfterSpace": ""
                                },
                                {
                                    "AddressID": "18486",
                                    "AddressLine1": "1378 California St.",
                                    "AddressLine2": "#c",
                                    "AddressLine2_len": "2",
                                    "AddressLine2_Right5": "#c",
                                    "AddressLine2_Left5": "#c",
                                    "AddressLine2_BeforeSpace": "#c",
                                    "AddressLine2_AfterSpace": ""
                                },
                                {
                                    "AddressID": "18382",
                                    "AddressLine1": "138 Lancelot Dr.",
                                    "AddressLine2": "# 105",
                                    "AddressLine2_len": "5",
                                    "AddressLine2_Right5": "# 105",
                                    "AddressLine2_Left5": "# 105",
                                    "AddressLine2_BeforeSpace": "#",
                                    "AddressLine2_AfterSpace": "105"
                                },
                                {
                                    "AddressID": "13503",
                                    "AddressLine1": "1431 Rancho View Drive",
                                    "AddressLine2": "# 14",
                                    "AddressLine2_len": "4",
                                    "AddressLine2_Right5": "# 14",
                                    "AddressLine2_Left5": "# 14",
                                    "AddressLine2_BeforeSpace": "#",
                                    "AddressLine2_AfterSpace": "14"
                                },
                                {
                                    "AddressID": "16187",
                                    "AddressLine1": "1506 Grading Way",
                                    "AddressLine2": "#62",
                                    "AddressLine2_len": "3",
                                    "AddressLine2_Right5": "#62",
                                    "AddressLine2_Left5": "#62",
                                    "AddressLine2_BeforeSpace": "#62",
                                    "AddressLine2_AfterSpace": ""
                                },
                                {
                                    "AddressID": "16638",
                                    "AddressLine1": "1525 Waterhigh St",
                                    "AddressLine2": "# 198",
                                    "AddressLine2_len": "5",
                                    "AddressLine2_Right5": "# 198",
                                    "AddressLine2_Left5": "# 198",
                                    "AddressLine2_BeforeSpace": "#",
                                    "AddressLine2_AfterSpace": "198"
                                },
                                {
                                    "AddressID": "15940",
                                    "AddressLine1": "1538 Mt. Diablo St.",
                                    "AddressLine2": "# 147",
                                    "AddressLine2_len": "5",
                                    "AddressLine2_Right5": "# 147",
                                    "AddressLine2_Left5": "# 147",
                                    "AddressLine2_BeforeSpace": "#",
                                    "AddressLine2_AfterSpace": "147"
                                },
                                {
                                    "AddressID": "12828",
                                    "AddressLine1": "1590 Mildred Ln.",
                                    "AddressLine2": "#35",
                                    "AddressLine2_len": "3",
                                    "AddressLine2_Right5": "#35",
                                    "AddressLine2_Left5": "#35",
                                    "AddressLine2_BeforeSpace": "#35",
                                    "AddressLine2_AfterSpace": ""
                                },
                                {
                                    "AddressID": "17615",
                                    "AddressLine1": "1739 Sun View Terr",
                                    "AddressLine2": "#315",
                                    "AddressLine2_len": "4",
                                    "AddressLine2_Right5": "#315",
                                    "AddressLine2_Left5": "#315",
                                    "AddressLine2_BeforeSpace": "#315",
                                    "AddressLine2_AfterSpace": ""
                                },
                                {
                                    "AddressID": "18559",
                                    "AddressLine1": "1941 Pinecrest Court",
                                    "AddressLine2": "#611",
                                    "AddressLine2_len": "4",
                                    "AddressLine2_Right5": "#611",
                                    "AddressLine2_Left5": "#611",
                                    "AddressLine2_BeforeSpace": "#611",
                                    "AddressLine2_AfterSpace": ""
                                },
                                {
                                    "AddressID": "16741",
                                    "AddressLine1": "197 Adobe Dr",
                                    "AddressLine2": "# 999",
                                    "AddressLine2_len": "5",
                                    "AddressLine2_Right5": "# 999",
                                    "AddressLine2_Left5": "# 999",
                                    "AddressLine2_BeforeSpace": "#",
                                    "AddressLine2_AfterSpace": "999"
                                },
                                {
                                    "AddressID": "16702",
                                    "AddressLine1": "1987 Jennifer Way",
                                    "AddressLine2": "Unit F13",
                                    "AddressLine2_len": "8",
                                    "AddressLine2_Right5": "t F13",
                                    "AddressLine2_Left5": "Unit ",
                                    "AddressLine2_BeforeSpace": "Unit",
                                    "AddressLine2_AfterSpace": "F13"
                                },
                                {
                                    "AddressID": "358",
                                    "AddressLine1": "20 Rambling Rose Ave.",
                                    "AddressLine2": "# 003",
                                    "AddressLine2_len": "5",
                                    "AddressLine2_Right5": "# 003",
                                    "AddressLine2_Left5": "# 003",
                                    "AddressLine2_BeforeSpace": "#",
                                    "AddressLine2_AfterSpace": "003"
                                },
                                {
                                    "AddressID": "17672",
                                    "AddressLine1": "2013 Filling Ave.",
                                    "AddressLine2": "#3",
                                    "AddressLine2_len": "2",
                                    "AddressLine2_Right5": "#3",
                                    "AddressLine2_Left5": "#3",
                                    "AddressLine2_BeforeSpace": "#3",
                                    "AddressLine2_AfterSpace": ""
                                },
                                {
                                    "AddressID": "15765",
                                    "AddressLine1": "2039 Doon Cr",
                                    "AddressLine2": "# 120",
                                    "AddressLine2_len": "5",
                                    "AddressLine2_Right5": "# 120",
                                    "AddressLine2_Left5": "# 120",
                                    "AddressLine2_BeforeSpace": "#",
                                    "AddressLine2_AfterSpace": "120"
                                },
                                {
                                    "AddressID": "12195",
                                    "AddressLine1": "2049 Benedict Court",
                                    "AddressLine2": "# 11",
                                    "AddressLine2_len": "4",
                                    "AddressLine2_Right5": "# 11",
                                    "AddressLine2_Left5": "# 11",
                                    "AddressLine2_BeforeSpace": "#",
                                    "AddressLine2_AfterSpace": "11"
                                },
                                {
                                    "AddressID": "12685",
                                    "AddressLine1": "2060 Hill Dr",
                                    "AddressLine2": "# 108",
                                    "AddressLine2_len": "5",
                                    "AddressLine2_Right5": "# 108",
                                    "AddressLine2_Left5": "# 108",
                                    "AddressLine2_BeforeSpace": "#",
                                    "AddressLine2_AfterSpace": "108"
                                },
                                {
                                    "AddressID": "17939",
                                    "AddressLine1": "2098 Crown Ct",
                                    "AddressLine2": "# 235",
                                    "AddressLine2_len": "5",
                                    "AddressLine2_Right5": "# 235",
                                    "AddressLine2_Left5": "# 235",
                                    "AddressLine2_BeforeSpace": "#",
                                    "AddressLine2_AfterSpace": "235"
                                },
                                {
                                    "AddressID": "12436",
                                    "AddressLine1": "2098 Crown Ct",
                                    "AddressLine2": "# 235",
                                    "AddressLine2_len": "5",
                                    "AddressLine2_Right5": "# 235",
                                    "AddressLine2_Left5": "# 235",
                                    "AddressLine2_BeforeSpace": "#",
                                    "AddressLine2_AfterSpace": "235"
                                },
                                {
                                    "AddressID": "14162",
                                    "AddressLine1": "2171 H Stagecoach Rd",
                                    "AddressLine2": "#77",
                                    "AddressLine2_len": "3",
                                    "AddressLine2_Right5": "#77",
                                    "AddressLine2_Left5": "#77",
                                    "AddressLine2_BeforeSpace": "#77",
                                    "AddressLine2_AfterSpace": ""
                                },
                                {
                                    "AddressID": "12082",
                                    "AddressLine1": "220 Rambling Rose Ave.",
                                    "AddressLine2": "# 003",
                                    "AddressLine2_len": "5",
                                    "AddressLine2_Right5": "# 003",
                                    "AddressLine2_Left5": "# 003",
                                    "AddressLine2_BeforeSpace": "#",
                                    "AddressLine2_AfterSpace": "003"
                                },
                                {
                                    "AddressID": "407",
                                    "AddressLine1": "2-252 Beauchamp Road",
                                    "AddressLine2": "Botany Bay Industrial Estate",
                                    "AddressLine2_len": "28",
                                    "AddressLine2_Right5": "state",
                                    "AddressLine2_Left5": "Botan",
                                    "AddressLine2_BeforeSpace": "Botany",
                                    "AddressLine2_AfterSpace": "Bay Industrial Estate"
                                },
                                {
                                    "AddressID": "13713",
                                    "AddressLine1": "2304 La Canada",
                                    "AddressLine2": "# 13",
                                    "AddressLine2_len": "4",
                                    "AddressLine2_Right5": "# 13",
                                    "AddressLine2_Left5": "# 13",
                                    "AddressLine2_BeforeSpace": "#",
                                    "AddressLine2_AfterSpace": "13"
                                },
                                {
                                    "AddressID": "12012",
                                    "AddressLine1": "2338 Mozden Lane",
                                    "AddressLine2": "Unit B",
                                    "AddressLine2_len": "6",
                                    "AddressLine2_Right5": "nit B",
                                    "AddressLine2_Left5": "Unit ",
                                    "AddressLine2_BeforeSpace": "Unit",
                                    "AddressLine2_AfterSpace": "B"
                                },
                                {
                                    "AddressID": "16922",
                                    "AddressLine1": "2427 Kaywood Drive",
                                    "AddressLine2": "Unit C",
                                    "AddressLine2_len": "6",
                                    "AddressLine2_Right5": "nit C",
                                    "AddressLine2_Left5": "Unit ",
                                    "AddressLine2_BeforeSpace": "Unit",
                                    "AddressLine2_AfterSpace": "C"
                                },
                                {
                                    "AddressID": "12802",
                                    "AddressLine1": "2479 Killdeer Court",
                                    "AddressLine2": "# 120",
                                    "AddressLine2_len": "5",
                                    "AddressLine2_Right5": "# 120",
                                    "AddressLine2_Left5": "# 120",
                                    "AddressLine2_BeforeSpace": "#",
                                    "AddressLine2_AfterSpace": "120"
                                },
                                {
                                    "AddressID": "538",
                                    "AddressLine1": "25 Danger Street West",
                                    "AddressLine2": "Floor 7",
                                    "AddressLine2_len": "7",
                                    "AddressLine2_Right5": "oor 7",
                                    "AddressLine2_Left5": "Floor",
                                    "AddressLine2_BeforeSpace": "Floor",
                                    "AddressLine2_AfterSpace": "7"
                                },
                                {
                                    "AddressID": "1009",
                                    "AddressLine1": "2500 N Serene Blvd",
                                    "AddressLine2": "19th Floor",
                                    "AddressLine2_len": "10",
                                    "AddressLine2_Right5": "Floor",
                                    "AddressLine2_Left5": "19th ",
                                    "AddressLine2_BeforeSpace": "19th",
                                    "AddressLine2_AfterSpace": "Floor"
                                },
                                {
                                    "AddressID": "14873",
                                    "AddressLine1": "2529 Terrace Dr",
                                    "AddressLine2": "#5",
                                    "AddressLine2_len": "2",
                                    "AddressLine2_Right5": "#5",
                                    "AddressLine2_Left5": "#5",
                                    "AddressLine2_BeforeSpace": "#5",
                                    "AddressLine2_AfterSpace": ""
                                },
                                {
                                    "AddressID": "15851",
                                    "AddressLine1": "253 El Pueblo Place",
                                    "AddressLine2": "# 1211",
                                    "AddressLine2_len": "6",
                                    "AddressLine2_Right5": " 1211",
                                    "AddressLine2_Left5": "# 121",
                                    "AddressLine2_BeforeSpace": "#",
                                    "AddressLine2_AfterSpace": "1211"
                                },
                                {
                                    "AddressID": "13529",
                                    "AddressLine1": "2546 Woodchuck Pl",
                                    "AddressLine2": "# 2",
                                    "AddressLine2_len": "3",
                                    "AddressLine2_Right5": "# 2",
                                    "AddressLine2_Left5": "# 2",
                                    "AddressLine2_BeforeSpace": "#",
                                    "AddressLine2_AfterSpace": "2"
                                },
                                {
                                    "AddressID": "444",
                                    "AddressLine1": "254a Baker Street",
                                    "AddressLine2": "Botany",
                                    "AddressLine2_len": "6",
                                    "AddressLine2_Right5": "otany",
                                    "AddressLine2_Left5": "Botan",
                                    "AddressLine2_BeforeSpace": "Botany",
                                    "AddressLine2_AfterSpace": ""
                                },
                                {
                                    "AddressID": "14212",
                                    "AddressLine1": "2572 Hill Dr",
                                    "AddressLine2": "# 2",
                                    "AddressLine2_len": "3",
                                    "AddressLine2_Right5": "# 2",
                                    "AddressLine2_Left5": "# 2",
                                    "AddressLine2_BeforeSpace": "#",
                                    "AddressLine2_AfterSpace": "2"
                                },
                                {
                                    "AddressID": "18471",
                                    "AddressLine1": "2578 Welle Road",
                                    "AddressLine2": "# 118",
                                    "AddressLine2_len": "5",
                                    "AddressLine2_Right5": "# 118",
                                    "AddressLine2_Left5": "# 118",
                                    "AddressLine2_BeforeSpace": "#",
                                    "AddressLine2_AfterSpace": "118"
                                },
                                {
                                    "AddressID": "12274",
                                    "AddressLine1": "258 Bluejay Dr.",
                                    "AddressLine2": "Unit A",
                                    "AddressLine2_len": "6",
                                    "AddressLine2_Right5": "nit A",
                                    "AddressLine2_Left5": "Unit ",
                                    "AddressLine2_BeforeSpace": "Unit",
                                    "AddressLine2_AfterSpace": "A"
                                },
                                {
                                    "AddressID": "12626",
                                    "AddressLine1": "2679 Eagle Peak",
                                    "AddressLine2": "#7",
                                    "AddressLine2_len": "2",
                                    "AddressLine2_Right5": "#7",
                                    "AddressLine2_Left5": "#7",
                                    "AddressLine2_BeforeSpace": "#7",
                                    "AddressLine2_AfterSpace": ""
                                },
                                {
                                    "AddressID": "16040",
                                    "AddressLine1": "2687 Apollo Way",
                                    "AddressLine2": "# 213",
                                    "AddressLine2_len": "5",
                                    "AddressLine2_Right5": "# 213",
                                    "AddressLine2_Left5": "# 213",
                                    "AddressLine2_BeforeSpace": "#",
                                    "AddressLine2_AfterSpace": "213"
                                },
                                {
                                    "AddressID": "16403",
                                    "AddressLine1": "2703 Freda Dr.",
                                    "AddressLine2": "# 13",
                                    "AddressLine2_len": "4",
                                    "AddressLine2_Right5": "# 13",
                                    "AddressLine2_Left5": "# 13",
                                    "AddressLine2_BeforeSpace": "#",
                                    "AddressLine2_AfterSpace": "13"
                                },
                                {
                                    "AddressID": "17885",
                                    "AddressLine1": "2710 Roux Court",
                                    "AddressLine2": "#3202",
                                    "AddressLine2_len": "5",
                                    "AddressLine2_Right5": "#3202",
                                    "AddressLine2_Left5": "#3202",
                                    "AddressLine2_BeforeSpace": "#3202",
                                    "AddressLine2_AfterSpace": ""
                                },
                                {
                                    "AddressID": "18217",
                                    "AddressLine1": "2751 Trail Way",
                                    "AddressLine2": "Unit B",
                                    "AddressLine2_len": "6",
                                    "AddressLine2_Right5": "nit B",
                                    "AddressLine2_Left5": "Unit ",
                                    "AddressLine2_BeforeSpace": "Unit",
                                    "AddressLine2_AfterSpace": "B"
                                },
                                {
                                    "AddressID": "17891",
                                    "AddressLine1": "2775 Delta View Ln.",
                                    "AddressLine2": "#9",
                                    "AddressLine2_len": "2",
                                    "AddressLine2_Right5": "#9",
                                    "AddressLine2_Left5": "#9",
                                    "AddressLine2_BeforeSpace": "#9",
                                    "AddressLine2_AfterSpace": ""
                                },
                                {
                                    "AddressID": "13382",
                                    "AddressLine1": "2785 Fallbrook Road",
                                    "AddressLine2": "# 10",
                                    "AddressLine2_len": "4",
                                    "AddressLine2_Right5": "# 10",
                                    "AddressLine2_Left5": "# 10",
                                    "AddressLine2_BeforeSpace": "#",
                                    "AddressLine2_AfterSpace": "10"
                                },
                                {
                                    "AddressID": "14229",
                                    "AddressLine1": "279 Inverness Drive",
                                    "AddressLine2": "Unit C3",
                                    "AddressLine2_len": "7",
                                    "AddressLine2_Right5": "it C3",
                                    "AddressLine2_Left5": "Unit ",
                                    "AddressLine2_BeforeSpace": "Unit",
                                    "AddressLine2_AfterSpace": "C3"
                                },
                                {
                                    "AddressID": "388",
                                    "AddressLine1": "2834 Clifford Court",
                                    "AddressLine2": "#9",
                                    "AddressLine2_len": "2",
                                    "AddressLine2_Right5": "#9",
                                    "AddressLine2_Left5": "#9",
                                    "AddressLine2_BeforeSpace": "#9",
                                    "AddressLine2_AfterSpace": ""
                                },
                                {
                                    "AddressID": "18103",
                                    "AddressLine1": "2886 Chaparral Court",
                                    "AddressLine2": "Space # 45",
                                    "AddressLine2_len": "10",
                                    "AddressLine2_Right5": " # 45",
                                    "AddressLine2_Left5": "Space",
                                    "AddressLine2_BeforeSpace": "Space",
                                    "AddressLine2_AfterSpace": "# 45"
                                },
                                {
                                    "AddressID": "13514",
                                    "AddressLine1": "2886 Chaparral Court",
                                    "AddressLine2": "Space # 45",
                                    "AddressLine2_len": "10",
                                    "AddressLine2_Right5": " # 45",
                                    "AddressLine2_Left5": "Space",
                                    "AddressLine2_BeforeSpace": "Space",
                                    "AddressLine2_AfterSpace": "# 45"
                                },
                                {
                                    "AddressID": "426",
                                    "AddressLine1": "2nd Floor",
                                    "AddressLine2": "55 Lavender Street",
                                    "AddressLine2_len": "18",
                                    "AddressLine2_Right5": "treet",
                                    "AddressLine2_Left5": "55 La",
                                    "AddressLine2_BeforeSpace": "55",
                                    "AddressLine2_AfterSpace": "Lavender Street"
                                },
                                {
                                    "AddressID": "12712",
                                    "AddressLine1": "3029 Pastime Dr",
                                    "AddressLine2": "# 2",
                                    "AddressLine2_len": "3",
                                    "AddressLine2_Right5": "# 2",
                                    "AddressLine2_Left5": "# 2",
                                    "AddressLine2_BeforeSpace": "#",
                                    "AddressLine2_AfterSpace": "2"
                                },
                                {
                                    "AddressID": "102",
                                    "AddressLine1": "3029 Pastime Dr",
                                    "AddressLine2": "# 2",
                                    "AddressLine2_len": "3",
                                    "AddressLine2_Right5": "# 2",
                                    "AddressLine2_Left5": "# 2",
                                    "AddressLine2_BeforeSpace": "#",
                                    "AddressLine2_AfterSpace": "2"
                                },
                                {
                                    "AddressID": "17840",
                                    "AddressLine1": "3040 Snow Drive",
                                    "AddressLine2": "Unit A",
                                    "AddressLine2_len": "6",
                                    "AddressLine2_Right5": "nit A",
                                    "AddressLine2_Left5": "Unit ",
                                    "AddressLine2_BeforeSpace": "Unit",
                                    "AddressLine2_AfterSpace": "A"
                                },
                                {
                                    "AddressID": "12406",
                                    "AddressLine1": "306 Winter Drive",
                                    "AddressLine2": "# 4d",
                                    "AddressLine2_len": "4",
                                    "AddressLine2_Right5": "# 4d",
                                    "AddressLine2_Left5": "# 4d",
                                    "AddressLine2_BeforeSpace": "#",
                                    "AddressLine2_AfterSpace": "4d"
                                },
                                {
                                    "AddressID": "12124",
                                    "AddressLine1": "3083 Boatwright Dr.",
                                    "AddressLine2": "#6",
                                    "AddressLine2_len": "2",
                                    "AddressLine2_Right5": "#6",
                                    "AddressLine2_Left5": "#6",
                                    "AddressLine2_BeforeSpace": "#6",
                                    "AddressLine2_AfterSpace": ""
                                },
                                {
                                    "AddressID": "13289",
                                    "AddressLine1": "3121 Spar Court",
                                    "AddressLine2": "#511",
                                    "AddressLine2_len": "4",
                                    "AddressLine2_Right5": "#511",
                                    "AddressLine2_Left5": "#511",
                                    "AddressLine2_BeforeSpace": "#511",
                                    "AddressLine2_AfterSpace": ""
                                },
                                {
                                    "AddressID": "13835",
                                    "AddressLine1": "3165 Willowwood Ct.",
                                    "AddressLine2": "Apt 213",
                                    "AddressLine2_len": "7",
                                    "AddressLine2_Right5": "t 213",
                                    "AddressLine2_Left5": "Apt 2",
                                    "AddressLine2_BeforeSpace": "Apt",
                                    "AddressLine2_AfterSpace": "213"
                                },
                                {
                                    "AddressID": "16657",
                                    "AddressLine1": "3168 True Drive",
                                    "AddressLine2": "#118",
                                    "AddressLine2_len": "4",
                                    "AddressLine2_Right5": "#118",
                                    "AddressLine2_Left5": "#118",
                                    "AddressLine2_BeforeSpace": "#118",
                                    "AddressLine2_AfterSpace": ""
                                },
                                {
                                    "AddressID": "11739",
                                    "AddressLine1": "3187 Westwood Court",
                                    "AddressLine2": "#71",
                                    "AddressLine2_len": "3",
                                    "AddressLine2_Right5": "#71",
                                    "AddressLine2_Left5": "#71",
                                    "AddressLine2_BeforeSpace": "#71",
                                    "AddressLine2_AfterSpace": ""
                                },
                                {
                                    "AddressID": "11731",
                                    "AddressLine1": "3200 Wren Ave.",
                                    "AddressLine2": "#107",
                                    "AddressLine2_len": "4",
                                    "AddressLine2_Right5": "#107",
                                    "AddressLine2_Left5": "#107",
                                    "AddressLine2_BeforeSpace": "#107",
                                    "AddressLine2_AfterSpace": ""
                                },
                                {
                                    "AddressID": "12699",
                                    "AddressLine1": "3243 Buckingham Dr.",
                                    "AddressLine2": "# 207",
                                    "AddressLine2_len": "5",
                                    "AddressLine2_Right5": "# 207",
                                    "AddressLine2_Left5": "# 207",
                                    "AddressLine2_BeforeSpace": "#",
                                    "AddressLine2_AfterSpace": "207"
                                },
                                {
                                    "AddressID": "101",
                                    "AddressLine1": "3243 Buckingham Dr.",
                                    "AddressLine2": "# 207",
                                    "AddressLine2_len": "5",
                                    "AddressLine2_Right5": "# 207",
                                    "AddressLine2_Left5": "# 207",
                                    "AddressLine2_BeforeSpace": "#",
                                    "AddressLine2_AfterSpace": "207"
                                },
                                {
                                    "AddressID": "11995",
                                    "AddressLine1": "3248 Birdhaven Court",
                                    "AddressLine2": "# 1",
                                    "AddressLine2_len": "3",
                                    "AddressLine2_Right5": "# 1",
                                    "AddressLine2_Left5": "# 1",
                                    "AddressLine2_BeforeSpace": "#",
                                    "AddressLine2_AfterSpace": "1"
                                },
                                {
                                    "AddressID": "12896",
                                    "AddressLine1": "3287 Corte Poquito",
                                    "AddressLine2": "# 2",
                                    "AddressLine2_len": "3",
                                    "AddressLine2_Right5": "# 2",
                                    "AddressLine2_Left5": "# 2",
                                    "AddressLine2_BeforeSpace": "#",
                                    "AddressLine2_AfterSpace": "2"
                                },
                                {
                                    "AddressID": "12270",
                                    "AddressLine1": "3302 Trujillo",
                                    "AddressLine2": "# 112",
                                    "AddressLine2_len": "5",
                                    "AddressLine2_Right5": "# 112",
                                    "AddressLine2_Left5": "# 112",
                                    "AddressLine2_BeforeSpace": "#",
                                    "AddressLine2_AfterSpace": "112"
                                },
                                {
                                    "AddressID": "12990",
                                    "AddressLine1": "3302 Trujillo",
                                    "AddressLine2": "# 112",
                                    "AddressLine2_len": "5",
                                    "AddressLine2_Right5": "# 112",
                                    "AddressLine2_Left5": "# 112",
                                    "AddressLine2_BeforeSpace": "#",
                                    "AddressLine2_AfterSpace": "112"
                                },
                                {
                                    "AddressID": "17363",
                                    "AddressLine1": "3304 East Narrows Drive",
                                    "AddressLine2": "# 003",
                                    "AddressLine2_len": "5",
                                    "AddressLine2_Right5": "# 003",
                                    "AddressLine2_Left5": "# 003",
                                    "AddressLine2_BeforeSpace": "#",
                                    "AddressLine2_AfterSpace": "003"
                                },
                                {
                                    "AddressID": "862",
                                    "AddressLine1": "3307 Evergreen Blvd",
                                    "AddressLine2": "Ste 1071",
                                    "AddressLine2_len": "8",
                                    "AddressLine2_Right5": " 1071",
                                    "AddressLine2_Left5": "Ste 1",
                                    "AddressLine2_BeforeSpace": "Ste",
                                    "AddressLine2_AfterSpace": "1071"
                                },
                                {
                                    "AddressID": "15515",
                                    "AddressLine1": "3328 North Wateroak Ct",
                                    "AddressLine2": "#8",
                                    "AddressLine2_len": "2",
                                    "AddressLine2_Right5": "#8",
                                    "AddressLine2_Left5": "#8",
                                    "AddressLine2_BeforeSpace": "#8",
                                    "AddressLine2_AfterSpace": ""
                                },
                                {
                                    "AddressID": "11875",
                                    "AddressLine1": "3365 Atherton Circle",
                                    "AddressLine2": "# 11",
                                    "AddressLine2_len": "4",
                                    "AddressLine2_Right5": "# 11",
                                    "AddressLine2_Left5": "# 11",
                                    "AddressLine2_BeforeSpace": "#",
                                    "AddressLine2_AfterSpace": "11"
                                },
                                {
                                    "AddressID": "15357",
                                    "AddressLine1": "3365 Atherton Circle",
                                    "AddressLine2": "# 13",
                                    "AddressLine2_len": "4",
                                    "AddressLine2_Right5": "# 13",
                                    "AddressLine2_Left5": "# 13",
                                    "AddressLine2_BeforeSpace": "#",
                                    "AddressLine2_AfterSpace": "13"
                                },
                                {
                                    "AddressID": "12257",
                                    "AddressLine1": "3469 Relief Valley Ct.",
                                    "AddressLine2": "# 22",
                                    "AddressLine2_len": "4",
                                    "AddressLine2_Right5": "# 22",
                                    "AddressLine2_Left5": "# 22",
                                    "AddressLine2_BeforeSpace": "#",
                                    "AddressLine2_AfterSpace": "22"
                                },
                                {
                                    "AddressID": "14936",
                                    "AddressLine1": "3499 Parkway Drive",
                                    "AddressLine2": "Apt. A",
                                    "AddressLine2_len": "6",
                                    "AddressLine2_Right5": "pt. A",
                                    "AddressLine2_Left5": "Apt. ",
                                    "AddressLine2_BeforeSpace": "Apt.",
                                    "AddressLine2_AfterSpace": "A"
                                },
                                {
                                    "AddressID": "384",
                                    "AddressLine1": "35 Buckthorn Court",
                                    "AddressLine2": "# 1",
                                    "AddressLine2_len": "3",
                                    "AddressLine2_Right5": "# 1",
                                    "AddressLine2_Left5": "# 1",
                                    "AddressLine2_BeforeSpace": "#",
                                    "AddressLine2_AfterSpace": "1"
                                },
                                {
                                    "AddressID": "14300",
                                    "AddressLine1": "3521 Fourth St.",
                                    "AddressLine2": "#607",
                                    "AddressLine2_len": "4",
                                    "AddressLine2_Right5": "#607",
                                    "AddressLine2_Left5": "#607",
                                    "AddressLine2_BeforeSpace": "#607",
                                    "AddressLine2_AfterSpace": ""
                                },
                                {
                                    "AddressID": "18293",
                                    "AddressLine1": "3521 Fourth St.",
                                    "AddressLine2": "#607",
                                    "AddressLine2_len": "4",
                                    "AddressLine2_Right5": "#607",
                                    "AddressLine2_Left5": "#607",
                                    "AddressLine2_BeforeSpace": "#607",
                                    "AddressLine2_AfterSpace": ""
                                },
                                {
                                    "AddressID": "17574",
                                    "AddressLine1": "3528 Sweetwater Drive",
                                    "AddressLine2": "Unit A",
                                    "AddressLine2_len": "6",
                                    "AddressLine2_Right5": "nit A",
                                    "AddressLine2_Left5": "Unit ",
                                    "AddressLine2_BeforeSpace": "Unit",
                                    "AddressLine2_AfterSpace": "A"
                                },
                                {
                                    "AddressID": "12263",
                                    "AddressLine1": "3543 Lori Dr.",
                                    "AddressLine2": "Apt 110c",
                                    "AddressLine2_len": "8",
                                    "AddressLine2_Right5": " 110c",
                                    "AddressLine2_Left5": "Apt 1",
                                    "AddressLine2_BeforeSpace": "Apt",
                                    "AddressLine2_AfterSpace": "110c"
                                },
                                {
                                    "AddressID": "13765",
                                    "AddressLine1": "3558 Pebble Glen Drive",
                                    "AddressLine2": "# 214",
                                    "AddressLine2_len": "5",
                                    "AddressLine2_Right5": "# 214",
                                    "AddressLine2_Left5": "# 214",
                                    "AddressLine2_BeforeSpace": "#",
                                    "AddressLine2_AfterSpace": "214"
                                },
                                {
                                    "AddressID": "17391",
                                    "AddressLine1": "3558 Pebble Glen Drive",
                                    "AddressLine2": "# 214",
                                    "AddressLine2_len": "5",
                                    "AddressLine2_Right5": "# 214",
                                    "AddressLine2_Left5": "# 214",
                                    "AddressLine2_BeforeSpace": "#",
                                    "AddressLine2_AfterSpace": "214"
                                },
                                {
                                    "AddressID": "18754",
                                    "AddressLine1": "3562 East Ave.",
                                    "AddressLine2": "# 4",
                                    "AddressLine2_len": "3",
                                    "AddressLine2_Right5": "# 4",
                                    "AddressLine2_Left5": "# 4",
                                    "AddressLine2_BeforeSpace": "#",
                                    "AddressLine2_AfterSpace": "4"
                                },
                                {
                                    "AddressID": "12041",
                                    "AddressLine1": "3593 Buckthorn Court",
                                    "AddressLine2": "# 1",
                                    "AddressLine2_len": "3",
                                    "AddressLine2_Right5": "# 1",
                                    "AddressLine2_Left5": "# 1",
                                    "AddressLine2_BeforeSpace": "#",
                                    "AddressLine2_AfterSpace": "1"
                                },
                                {
                                    "AddressID": "13560",
                                    "AddressLine1": "3601 Stinson",
                                    "AddressLine2": "#7",
                                    "AddressLine2_len": "2",
                                    "AddressLine2_Right5": "#7",
                                    "AddressLine2_Left5": "#7",
                                    "AddressLine2_BeforeSpace": "#7",
                                    "AddressLine2_AfterSpace": ""
                                },
                                {
                                    "AddressID": "11696",
                                    "AddressLine1": "3608 Sinclair Avenue",
                                    "AddressLine2": "# 701",
                                    "AddressLine2_len": "5",
                                    "AddressLine2_Right5": "# 701",
                                    "AddressLine2_Left5": "# 701",
                                    "AddressLine2_BeforeSpace": "#",
                                    "AddressLine2_AfterSpace": "701"
                                },
                                {
                                    "AddressID": "17819",
                                    "AddressLine1": "3757 Brook Hollow Ct",
                                    "AddressLine2": "# 101",
                                    "AddressLine2_len": "5",
                                    "AddressLine2_Right5": "# 101",
                                    "AddressLine2_Left5": "# 101",
                                    "AddressLine2_BeforeSpace": "#",
                                    "AddressLine2_AfterSpace": "101"
                                },
                                {
                                    "AddressID": "11906",
                                    "AddressLine1": "3757 Brook Hollow Ct",
                                    "AddressLine2": "# 101",
                                    "AddressLine2_len": "5",
                                    "AddressLine2_Right5": "# 101",
                                    "AddressLine2_Left5": "# 101",
                                    "AddressLine2_BeforeSpace": "#",
                                    "AddressLine2_AfterSpace": "101"
                                },
                                {
                                    "AddressID": "11724",
                                    "AddressLine1": "3800 Breck Court",
                                    "AddressLine2": "# 60",
                                    "AddressLine2_len": "4",
                                    "AddressLine2_Right5": "# 60",
                                    "AddressLine2_Left5": "# 60",
                                    "AddressLine2_BeforeSpace": "#",
                                    "AddressLine2_AfterSpace": "60"
                                },
                                {
                                    "AddressID": "17978",
                                    "AddressLine1": "3812 Roundtree Drive",
                                    "AddressLine2": "#5",
                                    "AddressLine2_len": "2",
                                    "AddressLine2_Right5": "#5",
                                    "AddressLine2_Left5": "#5",
                                    "AddressLine2_BeforeSpace": "#5",
                                    "AddressLine2_AfterSpace": ""
                                },
                                {
                                    "AddressID": "12806",
                                    "AddressLine1": "3831 Golden Gate Way",
                                    "AddressLine2": "# 203",
                                    "AddressLine2_len": "5",
                                    "AddressLine2_Right5": "# 203",
                                    "AddressLine2_Left5": "# 203",
                                    "AddressLine2_BeforeSpace": "#",
                                    "AddressLine2_AfterSpace": "203"
                                },
                                {
                                    "AddressID": "13332",
                                    "AddressLine1": "3836 Deer Meadow Way",
                                    "AddressLine2": "# 174",
                                    "AddressLine2_len": "5",
                                    "AddressLine2_Right5": "# 174",
                                    "AddressLine2_Left5": "# 174",
                                    "AddressLine2_BeforeSpace": "#",
                                    "AddressLine2_AfterSpace": "174"
                                },
                                {
                                    "AddressID": "13823",
                                    "AddressLine1": "3853 Wildcat Circle",
                                    "AddressLine2": "Unit 13c12",
                                    "AddressLine2_len": "10",
                                    "AddressLine2_Right5": "13c12",
                                    "AddressLine2_Left5": "Unit ",
                                    "AddressLine2_BeforeSpace": "Unit",
                                    "AddressLine2_AfterSpace": "13c12"
                                },
                                {
                                    "AddressID": "14192",
                                    "AddressLine1": "3853 Wildcat Circle",
                                    "AddressLine2": "Unit 13c12",
                                    "AddressLine2_len": "10",
                                    "AddressLine2_Right5": "13c12",
                                    "AddressLine2_Left5": "Unit ",
                                    "AddressLine2_BeforeSpace": "Unit",
                                    "AddressLine2_AfterSpace": "13c12"
                                },
                                {
                                    "AddressID": "13423",
                                    "AddressLine1": "3858 Vista Diablo",
                                    "AddressLine2": "Unit C",
                                    "AddressLine2_len": "6",
                                    "AddressLine2_Right5": "nit C",
                                    "AddressLine2_Left5": "Unit ",
                                    "AddressLine2_BeforeSpace": "Unit",
                                    "AddressLine2_AfterSpace": "C"
                                },
                                {
                                    "AddressID": "260",
                                    "AddressLine1": "3884 Beauty Street",
                                    "AddressLine2": "# 14",
                                    "AddressLine2_len": "4",
                                    "AddressLine2_Right5": "# 14",
                                    "AddressLine2_Left5": "# 14",
                                    "AddressLine2_BeforeSpace": "#",
                                    "AddressLine2_AfterSpace": "14"
                                },
                                {
                                    "AddressID": "13449",
                                    "AddressLine1": "3960 Temple Drive",
                                    "AddressLine2": "#304",
                                    "AddressLine2_len": "4",
                                    "AddressLine2_Right5": "#304",
                                    "AddressLine2_Left5": "#304",
                                    "AddressLine2_BeforeSpace": "#304",
                                    "AddressLine2_AfterSpace": ""
                                },
                                {
                                    "AddressID": "13488",
                                    "AddressLine1": "3989 Terrace Drive",
                                    "AddressLine2": "#55",
                                    "AddressLine2_len": "3",
                                    "AddressLine2_Right5": "#55",
                                    "AddressLine2_Left5": "#55",
                                    "AddressLine2_BeforeSpace": "#55",
                                    "AddressLine2_AfterSpace": ""
                                },
                                {
                                    "AddressID": "15398",
                                    "AddressLine1": "4024 Montana",
                                    "AddressLine2": "# 113",
                                    "AddressLine2_len": "5",
                                    "AddressLine2_Right5": "# 113",
                                    "AddressLine2_Left5": "# 113",
                                    "AddressLine2_BeforeSpace": "#",
                                    "AddressLine2_AfterSpace": "113"
                                },
                                {
                                    "AddressID": "13027",
                                    "AddressLine1": "4024 Montana",
                                    "AddressLine2": "# 113",
                                    "AddressLine2_len": "5",
                                    "AddressLine2_Right5": "# 113",
                                    "AddressLine2_Left5": "# 113",
                                    "AddressLine2_BeforeSpace": "#",
                                    "AddressLine2_AfterSpace": "113"
                                },
                                {
                                    "AddressID": "16380",
                                    "AddressLine1": "4091 Silver Oaks Place",
                                    "AddressLine2": "# 105",
                                    "AddressLine2_len": "5",
                                    "AddressLine2_Right5": "# 105",
                                    "AddressLine2_Left5": "# 105",
                                    "AddressLine2_BeforeSpace": "#",
                                    "AddressLine2_AfterSpace": "105"
                                },
                                {
                                    "AddressID": "12364",
                                    "AddressLine1": "419 River Ash Court",
                                    "AddressLine2": "#9",
                                    "AddressLine2_len": "2",
                                    "AddressLine2_Right5": "#9",
                                    "AddressLine2_Left5": "#9",
                                    "AddressLine2_BeforeSpace": "#9",
                                    "AddressLine2_AfterSpace": ""
                                },
                                {
                                    "AddressID": "331",
                                    "AddressLine1": "419 River Ash Court",
                                    "AddressLine2": "#9",
                                    "AddressLine2_len": "2",
                                    "AddressLine2_Right5": "#9",
                                    "AddressLine2_Left5": "#9",
                                    "AddressLine2_BeforeSpace": "#9",
                                    "AddressLine2_AfterSpace": ""
                                },
                                {
                                    "AddressID": "12985",
                                    "AddressLine1": "4197 Ironwood Drive",
                                    "AddressLine2": "# 1",
                                    "AddressLine2_len": "3",
                                    "AddressLine2_Right5": "# 1",
                                    "AddressLine2_Left5": "# 1",
                                    "AddressLine2_BeforeSpace": "#",
                                    "AddressLine2_AfterSpace": "1"
                                },
                                {
                                    "AddressID": "14246",
                                    "AddressLine1": "4299 Vernal Drive",
                                    "AddressLine2": "# 132",
                                    "AddressLine2_len": "5",
                                    "AddressLine2_Right5": "# 132",
                                    "AddressLine2_Left5": "# 132",
                                    "AddressLine2_BeforeSpace": "#",
                                    "AddressLine2_AfterSpace": "132"
                                },
                                {
                                    "AddressID": "13824",
                                    "AddressLine1": "4348 Lilac Circle",
                                    "AddressLine2": "#6",
                                    "AddressLine2_len": "2",
                                    "AddressLine2_Right5": "#6",
                                    "AddressLine2_Left5": "#6",
                                    "AddressLine2_BeforeSpace": "#6",
                                    "AddressLine2_AfterSpace": ""
                                },
                                {
                                    "AddressID": "16886",
                                    "AddressLine1": "4426 Scenic Avenue",
                                    "AddressLine2": "Unit D9",
                                    "AddressLine2_len": "7",
                                    "AddressLine2_Right5": "it D9",
                                    "AddressLine2_Left5": "Unit ",
                                    "AddressLine2_BeforeSpace": "Unit",
                                    "AddressLine2_AfterSpace": "D9"
                                },
                                {
                                    "AddressID": "18459",
                                    "AddressLine1": "4501 Terrace Road",
                                    "AddressLine2": "#60",
                                    "AddressLine2_len": "3",
                                    "AddressLine2_Right5": "#60",
                                    "AddressLine2_Left5": "#60",
                                    "AddressLine2_BeforeSpace": "#60",
                                    "AddressLine2_AfterSpace": ""
                                },
                                {
                                    "AddressID": "15986",
                                    "AddressLine1": "4513 Ten Penny Lane",
                                    "AddressLine2": "#3",
                                    "AddressLine2_len": "2",
                                    "AddressLine2_Right5": "#3",
                                    "AddressLine2_Left5": "#3",
                                    "AddressLine2_BeforeSpace": "#3",
                                    "AddressLine2_AfterSpace": ""
                                },
                                {
                                    "AddressID": "13344",
                                    "AddressLine1": "4518 Sequoia Drive",
                                    "AddressLine2": "# 2",
                                    "AddressLine2_len": "3",
                                    "AddressLine2_Right5": "# 2",
                                    "AddressLine2_Left5": "# 2",
                                    "AddressLine2_BeforeSpace": "#",
                                    "AddressLine2_AfterSpace": "2"
                                },
                                {
                                    "AddressID": "12000",
                                    "AddressLine1": "4525 El Pueblo Pl.",
                                    "AddressLine2": "#6",
                                    "AddressLine2_len": "2",
                                    "AddressLine2_Right5": "#6",
                                    "AddressLine2_Left5": "#6",
                                    "AddressLine2_BeforeSpace": "#6",
                                    "AddressLine2_AfterSpace": ""
                                },
                                {
                                    "AddressID": "13729",
                                    "AddressLine1": "4540 Wood Ranch Circle",
                                    "AddressLine2": "Space 51",
                                    "AddressLine2_len": "8",
                                    "AddressLine2_Right5": "ce 51",
                                    "AddressLine2_Left5": "Space",
                                    "AddressLine2_BeforeSpace": "Space",
                                    "AddressLine2_AfterSpace": "51"
                                },
                                {
                                    "AddressID": "12126",
                                    "AddressLine1": "4619 Ricardo Drive",
                                    "AddressLine2": "# 233",
                                    "AddressLine2_len": "5",
                                    "AddressLine2_Right5": "# 233",
                                    "AddressLine2_Left5": "# 233",
                                    "AddressLine2_BeforeSpace": "#",
                                    "AddressLine2_AfterSpace": "233"
                                },
                                {
                                    "AddressID": "13535",
                                    "AddressLine1": "4629 Candle Dr",
                                    "AddressLine2": "#30",
                                    "AddressLine2_len": "3",
                                    "AddressLine2_Right5": "#30",
                                    "AddressLine2_Left5": "#30",
                                    "AddressLine2_BeforeSpace": "#30",
                                    "AddressLine2_AfterSpace": ""
                                },
                                {
                                    "AddressID": "15373",
                                    "AddressLine1": "4689 Deerwood Court",
                                    "AddressLine2": "#512",
                                    "AddressLine2_len": "4",
                                    "AddressLine2_Right5": "#512",
                                    "AddressLine2_Left5": "#512",
                                    "AddressLine2_BeforeSpace": "#512",
                                    "AddressLine2_AfterSpace": ""
                                },
                                {
                                    "AddressID": "14026",
                                    "AddressLine1": "4746 Clear Court",
                                    "AddressLine2": "# 45",
                                    "AddressLine2_len": "4",
                                    "AddressLine2_Right5": "# 45",
                                    "AddressLine2_Left5": "# 45",
                                    "AddressLine2_BeforeSpace": "#",
                                    "AddressLine2_AfterSpace": "45"
                                },
                                {
                                    "AddressID": "11411",
                                    "AddressLine1": "4746 Clear Court",
                                    "AddressLine2": "# 61",
                                    "AddressLine2_len": "4",
                                    "AddressLine2_Right5": "# 61",
                                    "AddressLine2_Left5": "# 61",
                                    "AddressLine2_BeforeSpace": "#",
                                    "AddressLine2_AfterSpace": "61"
                                },
                                {
                                    "AddressID": "15637",
                                    "AddressLine1": "4775 Kentucky Dr.",
                                    "AddressLine2": "Unit E",
                                    "AddressLine2_len": "6",
                                    "AddressLine2_Right5": "nit E",
                                    "AddressLine2_Left5": "Unit ",
                                    "AddressLine2_BeforeSpace": "Unit",
                                    "AddressLine2_AfterSpace": "E"
                                },
                                {
                                    "AddressID": "66",
                                    "AddressLine1": "4775 Kentucky Dr.",
                                    "AddressLine2": "Unit E",
                                    "AddressLine2_len": "6",
                                    "AddressLine2_Right5": "nit E",
                                    "AddressLine2_Left5": "Unit ",
                                    "AddressLine2_BeforeSpace": "Unit",
                                    "AddressLine2_AfterSpace": "E"
                                },
                                {
                                    "AddressID": "12599",
                                    "AddressLine1": "4775 Kentucky Dr.",
                                    "AddressLine2": "Unit E",
                                    "AddressLine2_len": "6",
                                    "AddressLine2_Right5": "nit E",
                                    "AddressLine2_Left5": "Unit ",
                                    "AddressLine2_BeforeSpace": "Unit",
                                    "AddressLine2_AfterSpace": "E"
                                },
                                {
                                    "AddressID": "17669",
                                    "AddressLine1": "4827 San Marino Ct",
                                    "AddressLine2": "Unit H103",
                                    "AddressLine2_len": "9",
                                    "AddressLine2_Right5": " H103",
                                    "AddressLine2_Left5": "Unit ",
                                    "AddressLine2_BeforeSpace": "Unit",
                                    "AddressLine2_AfterSpace": "H103"
                                },
                                {
                                    "AddressID": "14264",
                                    "AddressLine1": "4833 Maine Dr.",
                                    "AddressLine2": "Unit C4",
                                    "AddressLine2_len": "7",
                                    "AddressLine2_Right5": "it C4",
                                    "AddressLine2_Left5": "Unit ",
                                    "AddressLine2_BeforeSpace": "Unit",
                                    "AddressLine2_AfterSpace": "C4"
                                },
                                {
                                    "AddressID": "12182",
                                    "AddressLine1": "4837 Melrose Place",
                                    "AddressLine2": "# 1",
                                    "AddressLine2_len": "3",
                                    "AddressLine2_Right5": "# 1",
                                    "AddressLine2_Left5": "# 1",
                                    "AddressLine2_BeforeSpace": "#",
                                    "AddressLine2_AfterSpace": "1"
                                },
                                {
                                    "AddressID": "12367",
                                    "AddressLine1": "4865 A St.",
                                    "AddressLine2": "# 260",
                                    "AddressLine2_len": "5",
                                    "AddressLine2_Right5": "# 260",
                                    "AddressLine2_Left5": "# 260",
                                    "AddressLine2_BeforeSpace": "#",
                                    "AddressLine2_AfterSpace": "260"
                                },
                                {
                                    "AddressID": "17874",
                                    "AddressLine1": "4927 Virgil Street",
                                    "AddressLine2": "# 21",
                                    "AddressLine2_len": "4",
                                    "AddressLine2_Right5": "# 21",
                                    "AddressLine2_Left5": "# 21",
                                    "AddressLine2_BeforeSpace": "#",
                                    "AddressLine2_AfterSpace": "21"
                                },
                                {
                                    "AddressID": "16435",
                                    "AddressLine1": "494 North Spoonwood Court",
                                    "AddressLine2": "Unit 1e",
                                    "AddressLine2_len": "7",
                                    "AddressLine2_Right5": "it 1e",
                                    "AddressLine2_Left5": "Unit ",
                                    "AddressLine2_BeforeSpace": "Unit",
                                    "AddressLine2_AfterSpace": "1e"
                                },
                                {
                                    "AddressID": "17734",
                                    "AddressLine1": "4948 Muy Verde",
                                    "AddressLine2": "#52",
                                    "AddressLine2_len": "3",
                                    "AddressLine2_Right5": "#52",
                                    "AddressLine2_Left5": "#52",
                                    "AddressLine2_BeforeSpace": "#52",
                                    "AddressLine2_AfterSpace": ""
                                },
                                {
                                    "AddressID": "16636",
                                    "AddressLine1": "498 Willow Pass Rd",
                                    "AddressLine2": "#61",
                                    "AddressLine2_len": "3",
                                    "AddressLine2_Right5": "#61",
                                    "AddressLine2_Left5": "#61",
                                    "AddressLine2_BeforeSpace": "#61",
                                    "AddressLine2_AfterSpace": ""
                                },
                                {
                                    "AddressID": "15423",
                                    "AddressLine1": "5038 Candy Rd",
                                    "AddressLine2": "# 126",
                                    "AddressLine2_len": "5",
                                    "AddressLine2_Right5": "# 126",
                                    "AddressLine2_Left5": "# 126",
                                    "AddressLine2_BeforeSpace": "#",
                                    "AddressLine2_AfterSpace": "126"
                                },
                                {
                                    "AddressID": "17622",
                                    "AddressLine1": "5041 Stillwater Court",
                                    "AddressLine2": "# 205",
                                    "AddressLine2_len": "5",
                                    "AddressLine2_Right5": "# 205",
                                    "AddressLine2_Left5": "# 205",
                                    "AddressLine2_BeforeSpace": "#",
                                    "AddressLine2_AfterSpace": "205"
                                },
                                {
                                    "AddressID": "12222",
                                    "AddressLine1": "5045 Vancouver Way",
                                    "AddressLine2": "# 133",
                                    "AddressLine2_len": "5",
                                    "AddressLine2_Right5": "# 133",
                                    "AddressLine2_Left5": "# 133",
                                    "AddressLine2_BeforeSpace": "#",
                                    "AddressLine2_AfterSpace": "133"
                                },
                                {
                                    "AddressID": "13571",
                                    "AddressLine1": "5056 Anchor Ave",
                                    "AddressLine2": "#511",
                                    "AddressLine2_len": "4",
                                    "AddressLine2_Right5": "#511",
                                    "AddressLine2_Left5": "#511",
                                    "AddressLine2_BeforeSpace": "#511",
                                    "AddressLine2_AfterSpace": ""
                                },
                                {
                                    "AddressID": "83",
                                    "AddressLine1": "5379 Treasure Island Way",
                                    "AddressLine2": "# 14",
                                    "AddressLine2_len": "4",
                                    "AddressLine2_Right5": "# 14",
                                    "AddressLine2_Left5": "# 14",
                                    "AddressLine2_BeforeSpace": "#",
                                    "AddressLine2_AfterSpace": "14"
                                },
                                {
                                    "AddressID": "12719",
                                    "AddressLine1": "5379 Treasure Island Way",
                                    "AddressLine2": "Bldg 14",
                                    "AddressLine2_len": "7",
                                    "AddressLine2_Right5": "dg 14",
                                    "AddressLine2_Left5": "Bldg ",
                                    "AddressLine2_BeforeSpace": "Bldg",
                                    "AddressLine2_AfterSpace": "14"
                                },
                                {
                                    "AddressID": "15807",
                                    "AddressLine1": "543 Sand Pointe Lane",
                                    "AddressLine2": "Box #311",
                                    "AddressLine2_len": "8",
                                    "AddressLine2_Right5": " #311",
                                    "AddressLine2_Left5": "Box #",
                                    "AddressLine2_BeforeSpace": "Box",
                                    "AddressLine2_AfterSpace": "#311"
                                },
                                {
                                    "AddressID": "13192",
                                    "AddressLine1": "5436 Clear",
                                    "AddressLine2": "# 101",
                                    "AddressLine2_len": "5",
                                    "AddressLine2_Right5": "# 101",
                                    "AddressLine2_Left5": "# 101",
                                    "AddressLine2_BeforeSpace": "#",
                                    "AddressLine2_AfterSpace": "101"
                                },
                                {
                                    "AddressID": "15356",
                                    "AddressLine1": "5448 Hill Drive",
                                    "AddressLine2": "Unit 3b",
                                    "AddressLine2_len": "7",
                                    "AddressLine2_Right5": "it 3b",
                                    "AddressLine2_Left5": "Unit ",
                                    "AddressLine2_BeforeSpace": "Unit",
                                    "AddressLine2_AfterSpace": "3b"
                                },
                                {
                                    "AddressID": "11747",
                                    "AddressLine1": "5485 Wee Donegal",
                                    "AddressLine2": "# 77",
                                    "AddressLine2_len": "4",
                                    "AddressLine2_Right5": "# 77",
                                    "AddressLine2_Left5": "# 77",
                                    "AddressLine2_BeforeSpace": "#",
                                    "AddressLine2_AfterSpace": "77"
                                },
                                {
                                    "AddressID": "17499",
                                    "AddressLine1": "5493 Gonzalez Ct",
                                    "AddressLine2": "Unit C",
                                    "AddressLine2_len": "6",
                                    "AddressLine2_Right5": "nit C",
                                    "AddressLine2_Left5": "Unit ",
                                    "AddressLine2_BeforeSpace": "Unit",
                                    "AddressLine2_AfterSpace": "C"
                                },
                                {
                                    "AddressID": "16043",
                                    "AddressLine1": "551 Almond Ave",
                                    "AddressLine2": "#30",
                                    "AddressLine2_len": "3",
                                    "AddressLine2_Right5": "#30",
                                    "AddressLine2_Left5": "#30",
                                    "AddressLine2_BeforeSpace": "#30",
                                    "AddressLine2_AfterSpace": ""
                                },
                                {
                                    "AddressID": "18792",
                                    "AddressLine1": "5518 Baldwin Dr.",
                                    "AddressLine2": "# 215",
                                    "AddressLine2_len": "5",
                                    "AddressLine2_Right5": "# 215",
                                    "AddressLine2_Left5": "# 215",
                                    "AddressLine2_BeforeSpace": "#",
                                    "AddressLine2_AfterSpace": "215"
                                },
                                {
                                    "AddressID": "15549",
                                    "AddressLine1": "5533 Fremont Street",
                                    "AddressLine2": "# 113",
                                    "AddressLine2_len": "5",
                                    "AddressLine2_Right5": "# 113",
                                    "AddressLine2_Left5": "# 113",
                                    "AddressLine2_BeforeSpace": "#",
                                    "AddressLine2_AfterSpace": "113"
                                },
                                {
                                    "AddressID": "11936",
                                    "AddressLine1": "5679 Attic Lane",
                                    "AddressLine2": "Unit A",
                                    "AddressLine2_len": "6",
                                    "AddressLine2_Right5": "nit A",
                                    "AddressLine2_Left5": "Unit ",
                                    "AddressLine2_BeforeSpace": "Unit",
                                    "AddressLine2_AfterSpace": "A"
                                },
                                {
                                    "AddressID": "17746",
                                    "AddressLine1": "5707 Monte Vista Road",
                                    "AddressLine2": "A211",
                                    "AddressLine2_len": "4",
                                    "AddressLine2_Right5": "A211",
                                    "AddressLine2_Left5": "A211",
                                    "AddressLine2_BeforeSpace": "A211",
                                    "AddressLine2_AfterSpace": ""
                                },
                                {
                                    "AddressID": "11527",
                                    "AddressLine1": "579 Meager Dr.",
                                    "AddressLine2": "# 1",
                                    "AddressLine2_len": "3",
                                    "AddressLine2_Right5": "# 1",
                                    "AddressLine2_Left5": "# 1",
                                    "AddressLine2_BeforeSpace": "#",
                                    "AddressLine2_AfterSpace": "1"
                                },
                                {
                                    "AddressID": "18490",
                                    "AddressLine1": "5823 Trail Way",
                                    "AddressLine2": "# 208",
                                    "AddressLine2_len": "5",
                                    "AddressLine2_Right5": "# 208",
                                    "AddressLine2_Left5": "# 208",
                                    "AddressLine2_BeforeSpace": "#",
                                    "AddressLine2_AfterSpace": "208"
                                },
                                {
                                    "AddressID": "17675",
                                    "AddressLine1": "5854 Baird Court",
                                    "AddressLine2": "# 212",
                                    "AddressLine2_len": "5",
                                    "AddressLine2_Right5": "# 212",
                                    "AddressLine2_Left5": "# 212",
                                    "AddressLine2_BeforeSpace": "#",
                                    "AddressLine2_AfterSpace": "212"
                                },
                                {
                                    "AddressID": "17628",
                                    "AddressLine1": "5854 Baird Court",
                                    "AddressLine2": "# 212",
                                    "AddressLine2_len": "5",
                                    "AddressLine2_Right5": "# 212",
                                    "AddressLine2_Left5": "# 212",
                                    "AddressLine2_BeforeSpace": "#",
                                    "AddressLine2_AfterSpace": "212"
                                },
                                {
                                    "AddressID": "12891",
                                    "AddressLine1": "5891 Quail Court",
                                    "AddressLine2": "Unit C",
                                    "AddressLine2_len": "6",
                                    "AddressLine2_Right5": "nit C",
                                    "AddressLine2_Left5": "Unit ",
                                    "AddressLine2_BeforeSpace": "Unit",
                                    "AddressLine2_AfterSpace": "C"
                                },
                                {
                                    "AddressID": "18995",
                                    "AddressLine1": "591 Laguna Street",
                                    "AddressLine2": "# 439",
                                    "AddressLine2_len": "5",
                                    "AddressLine2_Right5": "# 439",
                                    "AddressLine2_Left5": "# 439",
                                    "AddressLine2_BeforeSpace": "#",
                                    "AddressLine2_AfterSpace": "439"
                                },
                                {
                                    "AddressID": "15560",
                                    "AddressLine1": "5960 Cross Road",
                                    "AddressLine2": "# 20",
                                    "AddressLine2_len": "4",
                                    "AddressLine2_Right5": "# 20",
                                    "AddressLine2_Left5": "# 20",
                                    "AddressLine2_BeforeSpace": "#",
                                    "AddressLine2_AfterSpace": "20"
                                },
                                {
                                    "AddressID": "13168",
                                    "AddressLine1": "5980 Icicle Circle",
                                    "AddressLine2": "Unit H",
                                    "AddressLine2_len": "6",
                                    "AddressLine2_Right5": "nit H",
                                    "AddressLine2_Left5": "Unit ",
                                    "AddressLine2_BeforeSpace": "Unit",
                                    "AddressLine2_AfterSpace": "H"
                                },
                                {
                                    "AddressID": "282",
                                    "AddressLine1": "5980 Icicle Circle",
                                    "AddressLine2": "Unit H",
                                    "AddressLine2_len": "6",
                                    "AddressLine2_Right5": "nit H",
                                    "AddressLine2_Left5": "Unit ",
                                    "AddressLine2_BeforeSpace": "Unit",
                                    "AddressLine2_AfterSpace": "H"
                                },
                                {
                                    "AddressID": "11905",
                                    "AddressLine1": "5980 Icicle Circle",
                                    "AddressLine2": "Unit H",
                                    "AddressLine2_len": "6",
                                    "AddressLine2_Right5": "nit H",
                                    "AddressLine2_Left5": "Unit ",
                                    "AddressLine2_BeforeSpace": "Unit",
                                    "AddressLine2_AfterSpace": "H"
                                },
                                {
                                    "AddressID": "17909",
                                    "AddressLine1": "6002 Hickory Drive",
                                    "AddressLine2": "Studio # 403",
                                    "AddressLine2_len": "12",
                                    "AddressLine2_Right5": "# 403",
                                    "AddressLine2_Left5": "Studi",
                                    "AddressLine2_BeforeSpace": "Studio",
                                    "AddressLine2_AfterSpace": "# 403"
                                },
                                {
                                    "AddressID": "15003",
                                    "AddressLine1": "6002 Hickory Drive",
                                    "AddressLine2": "Studio # 403",
                                    "AddressLine2_len": "12",
                                    "AddressLine2_Right5": "# 403",
                                    "AddressLine2_Left5": "Studi",
                                    "AddressLine2_BeforeSpace": "Studio",
                                    "AddressLine2_AfterSpace": "# 403"
                                },
                                {
                                    "AddressID": "365",
                                    "AddressLine1": "6030 Winter Drive",
                                    "AddressLine2": "# 4d",
                                    "AddressLine2_len": "4",
                                    "AddressLine2_Right5": "# 4d",
                                    "AddressLine2_Left5": "# 4d",
                                    "AddressLine2_BeforeSpace": "#",
                                    "AddressLine2_AfterSpace": "4d"
                                },
                                {
                                    "AddressID": "158",
                                    "AddressLine1": "6058 Hill Street",
                                    "AddressLine2": "# 4",
                                    "AddressLine2_len": "3",
                                    "AddressLine2_Right5": "# 4",
                                    "AddressLine2_Left5": "# 4",
                                    "AddressLine2_BeforeSpace": "#",
                                    "AddressLine2_AfterSpace": "4"
                                },
                                {
                                    "AddressID": "12774",
                                    "AddressLine1": "6114 North Park Court",
                                    "AddressLine2": "# 12",
                                    "AddressLine2_len": "4",
                                    "AddressLine2_Right5": "# 12",
                                    "AddressLine2_Left5": "# 12",
                                    "AddressLine2_BeforeSpace": "#",
                                    "AddressLine2_AfterSpace": "12"
                                },
                                {
                                    "AddressID": "18326",
                                    "AddressLine1": "6114 North Park Court",
                                    "AddressLine2": "# 12",
                                    "AddressLine2_len": "4",
                                    "AddressLine2_Right5": "# 12",
                                    "AddressLine2_Left5": "# 12",
                                    "AddressLine2_BeforeSpace": "#",
                                    "AddressLine2_AfterSpace": "12"
                                },
                                {
                                    "AddressID": "18090",
                                    "AddressLine1": "6120 Evergreen Ct.",
                                    "AddressLine2": "# 126",
                                    "AddressLine2_len": "5",
                                    "AddressLine2_Right5": "# 126",
                                    "AddressLine2_Left5": "# 126",
                                    "AddressLine2_BeforeSpace": "#",
                                    "AddressLine2_AfterSpace": "126"
                                },
                                {
                                    "AddressID": "16908",
                                    "AddressLine1": "6140 Nightingale Drive",
                                    "AddressLine2": "# 79",
                                    "AddressLine2_len": "4",
                                    "AddressLine2_Right5": "# 79",
                                    "AddressLine2_Left5": "# 79",
                                    "AddressLine2_BeforeSpace": "#",
                                    "AddressLine2_AfterSpace": "79"
                                },
                                {
                                    "AddressID": "17637",
                                    "AddressLine1": "6179 Norris Court",
                                    "AddressLine2": "# 1104",
                                    "AddressLine2_len": "6",
                                    "AddressLine2_Right5": " 1104",
                                    "AddressLine2_Left5": "# 110",
                                    "AddressLine2_BeforeSpace": "#",
                                    "AddressLine2_AfterSpace": "1104"
                                },
                                {
                                    "AddressID": "16573",
                                    "AddressLine1": "6179 Norris Court",
                                    "AddressLine2": "# 9",
                                    "AddressLine2_len": "3",
                                    "AddressLine2_Right5": "# 9",
                                    "AddressLine2_Left5": "# 9",
                                    "AddressLine2_BeforeSpace": "#",
                                    "AddressLine2_AfterSpace": "9"
                                },
                                {
                                    "AddressID": "12026",
                                    "AddressLine1": "6196 Nottingham Place",
                                    "AddressLine2": "#313",
                                    "AddressLine2_len": "4",
                                    "AddressLine2_Right5": "#313",
                                    "AddressLine2_Left5": "#313",
                                    "AddressLine2_BeforeSpace": "#313",
                                    "AddressLine2_AfterSpace": ""
                                },
                                {
                                    "AddressID": "18755",
                                    "AddressLine1": "6258 Stinson",
                                    "AddressLine2": "#8",
                                    "AddressLine2_len": "2",
                                    "AddressLine2_Right5": "#8",
                                    "AddressLine2_Left5": "#8",
                                    "AddressLine2_BeforeSpace": "#8",
                                    "AddressLine2_AfterSpace": ""
                                },
                                {
                                    "AddressID": "15880",
                                    "AddressLine1": "6441 Clear Court",
                                    "AddressLine2": "#501",
                                    "AddressLine2_len": "4",
                                    "AddressLine2_Right5": "#501",
                                    "AddressLine2_Left5": "#501",
                                    "AddressLine2_BeforeSpace": "#501",
                                    "AddressLine2_AfterSpace": ""
                                },
                                {
                                    "AddressID": "16072",
                                    "AddressLine1": "6469 Castlewood",
                                    "AddressLine2": "Unit B",
                                    "AddressLine2_len": "6",
                                    "AddressLine2_Right5": "nit B",
                                    "AddressLine2_Left5": "Unit ",
                                    "AddressLine2_BeforeSpace": "Unit",
                                    "AddressLine2_AfterSpace": "B"
                                },
                                {
                                    "AddressID": "12854",
                                    "AddressLine1": "6532 Pinecrest Rd",
                                    "AddressLine2": "#508",
                                    "AddressLine2_len": "4",
                                    "AddressLine2_Right5": "#508",
                                    "AddressLine2_Left5": "#508",
                                    "AddressLine2_BeforeSpace": "#508",
                                    "AddressLine2_AfterSpace": ""
                                },
                                {
                                    "AddressID": "14335",
                                    "AddressLine1": "6628 Ranch Drive",
                                    "AddressLine2": "Box 21",
                                    "AddressLine2_len": "6",
                                    "AddressLine2_Right5": "ox 21",
                                    "AddressLine2_Left5": "Box 2",
                                    "AddressLine2_BeforeSpace": "Box",
                                    "AddressLine2_AfterSpace": "21"
                                },
                                {
                                    "AddressID": "13463",
                                    "AddressLine1": "6650 Contuti Avenue",
                                    "AddressLine2": "# 135",
                                    "AddressLine2_len": "5",
                                    "AddressLine2_Right5": "# 135",
                                    "AddressLine2_Left5": "# 135",
                                    "AddressLine2_BeforeSpace": "#",
                                    "AddressLine2_AfterSpace": "135"
                                },
                                {
                                    "AddressID": "17751",
                                    "AddressLine1": "6713 Castle Rock",
                                    "AddressLine2": "#3",
                                    "AddressLine2_len": "2",
                                    "AddressLine2_Right5": "#3",
                                    "AddressLine2_Left5": "#3",
                                    "AddressLine2_BeforeSpace": "#3",
                                    "AddressLine2_AfterSpace": ""
                                },
                                {
                                    "AddressID": "14960",
                                    "AddressLine1": "6719 Santa Teresa Dr",
                                    "AddressLine2": "# 1117",
                                    "AddressLine2_len": "6",
                                    "AddressLine2_Right5": " 1117",
                                    "AddressLine2_Left5": "# 111",
                                    "AddressLine2_BeforeSpace": "#",
                                    "AddressLine2_AfterSpace": "1117"
                                },
                                {
                                    "AddressID": "15484",
                                    "AddressLine1": "673 Hawes St.",
                                    "AddressLine2": "# 119 A",
                                    "AddressLine2_len": "7",
                                    "AddressLine2_Right5": "119 A",
                                    "AddressLine2_Left5": "# 119",
                                    "AddressLine2_BeforeSpace": "#",
                                    "AddressLine2_AfterSpace": "119 A"
                                },
                                {
                                    "AddressID": "15525",
                                    "AddressLine1": "6732 Arcadia Pl.",
                                    "AddressLine2": "#e",
                                    "AddressLine2_len": "2",
                                    "AddressLine2_Right5": "#e",
                                    "AddressLine2_Left5": "#e",
                                    "AddressLine2_BeforeSpace": "#e",
                                    "AddressLine2_AfterSpace": ""
                                },
                                {
                                    "AddressID": "18661",
                                    "AddressLine1": "6732 Arcadia Pl.",
                                    "AddressLine2": "#e",
                                    "AddressLine2_len": "2",
                                    "AddressLine2_Right5": "#e",
                                    "AddressLine2_Left5": "#e",
                                    "AddressLine2_BeforeSpace": "#e",
                                    "AddressLine2_AfterSpace": ""
                                },
                                {
                                    "AddressID": "11837",
                                    "AddressLine1": "6754 Pampered Ct.",
                                    "AddressLine2": "# 19",
                                    "AddressLine2_len": "4",
                                    "AddressLine2_Right5": "# 19",
                                    "AddressLine2_Left5": "# 19",
                                    "AddressLine2_BeforeSpace": "#",
                                    "AddressLine2_AfterSpace": "19"
                                },
                                {
                                    "AddressID": "12471",
                                    "AddressLine1": "6812 Sands Circle",
                                    "AddressLine2": "# 163",
                                    "AddressLine2_len": "5",
                                    "AddressLine2_Right5": "# 163",
                                    "AddressLine2_Left5": "# 163",
                                    "AddressLine2_BeforeSpace": "#",
                                    "AddressLine2_AfterSpace": "163"
                                },
                                {
                                    "AddressID": "16371",
                                    "AddressLine1": "6828 Willow Pass Road",
                                    "AddressLine2": "#5",
                                    "AddressLine2_len": "2",
                                    "AddressLine2_Right5": "#5",
                                    "AddressLine2_Left5": "#5",
                                    "AddressLine2_BeforeSpace": "#5",
                                    "AddressLine2_AfterSpace": ""
                                },
                                {
                                    "AddressID": "18207",
                                    "AddressLine1": "6915 San Ramon Valley Blvd.",
                                    "AddressLine2": "#6",
                                    "AddressLine2_len": "2",
                                    "AddressLine2_Right5": "#6",
                                    "AddressLine2_Left5": "#6",
                                    "AddressLine2_BeforeSpace": "#6",
                                    "AddressLine2_AfterSpace": ""
                                },
                                {
                                    "AddressID": "16739",
                                    "AddressLine1": "692 Brook Way",
                                    "AddressLine2": "#1988",
                                    "AddressLine2_len": "5",
                                    "AddressLine2_Right5": "#1988",
                                    "AddressLine2_Left5": "#1988",
                                    "AddressLine2_BeforeSpace": "#1988",
                                    "AddressLine2_AfterSpace": ""
                                },
                                {
                                    "AddressID": "17667",
                                    "AddressLine1": "6963 Santa Monica Drive",
                                    "AddressLine2": "# 4",
                                    "AddressLine2_len": "3",
                                    "AddressLine2_Right5": "# 4",
                                    "AddressLine2_Left5": "# 4",
                                    "AddressLine2_BeforeSpace": "#",
                                    "AddressLine2_AfterSpace": "4"
                                },
                                {
                                    "AddressID": "12486",
                                    "AddressLine1": "6984 Wardlow Lane",
                                    "AddressLine2": "# 116",
                                    "AddressLine2_len": "5",
                                    "AddressLine2_Right5": "# 116",
                                    "AddressLine2_Left5": "# 116",
                                    "AddressLine2_BeforeSpace": "#",
                                    "AddressLine2_AfterSpace": "116"
                                },
                                {
                                    "AddressID": "16813",
                                    "AddressLine1": "6985 Pecan Street",
                                    "AddressLine2": "# 786",
                                    "AddressLine2_len": "5",
                                    "AddressLine2_Right5": "# 786",
                                    "AddressLine2_Left5": "# 786",
                                    "AddressLine2_BeforeSpace": "#",
                                    "AddressLine2_AfterSpace": "786"
                                },
                                {
                                    "AddressID": "19762",
                                    "AddressLine1": "7, place Beaubernard",
                                    "AddressLine2": "Agence Taillefer",
                                    "AddressLine2_len": "16",
                                    "AddressLine2_Right5": "lefer",
                                    "AddressLine2_Left5": "Agenc",
                                    "AddressLine2_BeforeSpace": "Agence",
                                    "AddressLine2_AfterSpace": "Taillefer"
                                },
                                {
                                    "AddressID": "13798",
                                    "AddressLine1": "700 Oaxaca",
                                    "AddressLine2": "# 17",
                                    "AddressLine2_len": "4",
                                    "AddressLine2_Right5": "# 17",
                                    "AddressLine2_Left5": "# 17",
                                    "AddressLine2_BeforeSpace": "#",
                                    "AddressLine2_AfterSpace": "17"
                                },
                                {
                                    "AddressID": "14214",
                                    "AddressLine1": "7013 Cimarron Drive",
                                    "AddressLine2": "# 110",
                                    "AddressLine2_len": "5",
                                    "AddressLine2_Right5": "# 110",
                                    "AddressLine2_Left5": "# 110",
                                    "AddressLine2_BeforeSpace": "#",
                                    "AddressLine2_AfterSpace": "110"
                                },
                                {
                                    "AddressID": "16963",
                                    "AddressLine1": "71 Tobi Drive",
                                    "AddressLine2": "# 778",
                                    "AddressLine2_len": "5",
                                    "AddressLine2_Right5": "# 778",
                                    "AddressLine2_Left5": "# 778",
                                    "AddressLine2_BeforeSpace": "#",
                                    "AddressLine2_AfterSpace": "778"
                                },
                                {
                                    "AddressID": "18157",
                                    "AddressLine1": "7111 Atchinson Stage Ct",
                                    "AddressLine2": "# 180",
                                    "AddressLine2_len": "5",
                                    "AddressLine2_Right5": "# 180",
                                    "AddressLine2_Left5": "# 180",
                                    "AddressLine2_BeforeSpace": "#",
                                    "AddressLine2_AfterSpace": "180"
                                },
                                {
                                    "AddressID": "14332",
                                    "AddressLine1": "7111 Stinson",
                                    "AddressLine2": "Unit E",
                                    "AddressLine2_len": "6",
                                    "AddressLine2_Right5": "nit E",
                                    "AddressLine2_Left5": "Unit ",
                                    "AddressLine2_BeforeSpace": "Unit",
                                    "AddressLine2_AfterSpace": "E"
                                },
                                {
                                    "AddressID": "14999",
                                    "AddressLine1": "7111 Stinson",
                                    "AddressLine2": "Unit E",
                                    "AddressLine2_len": "6",
                                    "AddressLine2_Right5": "nit E",
                                    "AddressLine2_Left5": "Unit ",
                                    "AddressLine2_BeforeSpace": "Unit",
                                    "AddressLine2_AfterSpace": "E"
                                },
                                {
                                    "AddressID": "14828",
                                    "AddressLine1": "7153 Bellord Ct",
                                    "AddressLine2": "# 18",
                                    "AddressLine2_len": "4",
                                    "AddressLine2_Right5": "# 18",
                                    "AddressLine2_Left5": "# 18",
                                    "AddressLine2_BeforeSpace": "#",
                                    "AddressLine2_AfterSpace": "18"
                                },
                                {
                                    "AddressID": "15739",
                                    "AddressLine1": "7228 Sierra Ridge",
                                    "AddressLine2": "Unit A309",
                                    "AddressLine2_len": "9",
                                    "AddressLine2_Right5": " A309",
                                    "AddressLine2_Left5": "Unit ",
                                    "AddressLine2_BeforeSpace": "Unit",
                                    "AddressLine2_AfterSpace": "A309"
                                },
                                {
                                    "AddressID": "16749",
                                    "AddressLine1": "7290 Mt. Hood Circle",
                                    "AddressLine2": "#176",
                                    "AddressLine2_len": "4",
                                    "AddressLine2_Right5": "#176",
                                    "AddressLine2_Left5": "#176",
                                    "AddressLine2_BeforeSpace": "#176",
                                    "AddressLine2_AfterSpace": ""
                                },
                                {
                                    "AddressID": "15710",
                                    "AddressLine1": "7334 Sterling Hill",
                                    "AddressLine2": "Unit G12",
                                    "AddressLine2_len": "8",
                                    "AddressLine2_Right5": "t G12",
                                    "AddressLine2_Left5": "Unit ",
                                    "AddressLine2_BeforeSpace": "Unit",
                                    "AddressLine2_AfterSpace": "G12"
                                },
                                {
                                    "AddressID": "15985",
                                    "AddressLine1": "7390 Pinehurst Court",
                                    "AddressLine2": "#524",
                                    "AddressLine2_len": "4",
                                    "AddressLine2_Right5": "#524",
                                    "AddressLine2_Left5": "#524",
                                    "AddressLine2_BeforeSpace": "#524",
                                    "AddressLine2_AfterSpace": ""
                                },
                                {
                                    "AddressID": "12363",
                                    "AddressLine1": "7468 Lindley Ct.",
                                    "AddressLine2": "#8a",
                                    "AddressLine2_len": "3",
                                    "AddressLine2_Right5": "#8a",
                                    "AddressLine2_Left5": "#8a",
                                    "AddressLine2_BeforeSpace": "#8a",
                                    "AddressLine2_AfterSpace": ""
                                },
                                {
                                    "AddressID": "16443",
                                    "AddressLine1": "7503 Sheffield Place",
                                    "AddressLine2": "# 19",
                                    "AddressLine2_len": "4",
                                    "AddressLine2_Right5": "# 19",
                                    "AddressLine2_Left5": "# 19",
                                    "AddressLine2_BeforeSpace": "#",
                                    "AddressLine2_AfterSpace": "19"
                                },
                                {
                                    "AddressID": "13230",
                                    "AddressLine1": "7550 Carzino Ct",
                                    "AddressLine2": "# 1",
                                    "AddressLine2_len": "3",
                                    "AddressLine2_Right5": "# 1",
                                    "AddressLine2_Left5": "# 1",
                                    "AddressLine2_BeforeSpace": "#",
                                    "AddressLine2_AfterSpace": "1"
                                },
                                {
                                    "AddressID": "18339",
                                    "AddressLine1": "7569 Sierra Drive",
                                    "AddressLine2": "# 105",
                                    "AddressLine2_len": "5",
                                    "AddressLine2_Right5": "# 105",
                                    "AddressLine2_Left5": "# 105",
                                    "AddressLine2_BeforeSpace": "#",
                                    "AddressLine2_AfterSpace": "105"
                                },
                                {
                                    "AddressID": "14929",
                                    "AddressLine1": "7573 Star Dr",
                                    "AddressLine2": "#5188",
                                    "AddressLine2_len": "5",
                                    "AddressLine2_Right5": "#5188",
                                    "AddressLine2_Left5": "#5188",
                                    "AddressLine2_BeforeSpace": "#5188",
                                    "AddressLine2_AfterSpace": ""
                                },
                                {
                                    "AddressID": "14141",
                                    "AddressLine1": "7578 Sierra Road",
                                    "AddressLine2": "#905",
                                    "AddressLine2_len": "4",
                                    "AddressLine2_Right5": "#905",
                                    "AddressLine2_Left5": "#905",
                                    "AddressLine2_BeforeSpace": "#905",
                                    "AddressLine2_AfterSpace": ""
                                },
                                {
                                    "AddressID": "15733",
                                    "AddressLine1": "7588 Deerfield Dr",
                                    "AddressLine2": "#36",
                                    "AddressLine2_len": "3",
                                    "AddressLine2_Right5": "#36",
                                    "AddressLine2_Left5": "#36",
                                    "AddressLine2_BeforeSpace": "#36",
                                    "AddressLine2_AfterSpace": ""
                                },
                                {
                                    "AddressID": "13305",
                                    "AddressLine1": "7651 Smiling Tree Court",
                                    "AddressLine2": "Space 55",
                                    "AddressLine2_len": "8",
                                    "AddressLine2_Right5": "ce 55",
                                    "AddressLine2_Left5": "Space",
                                    "AddressLine2_BeforeSpace": "Space",
                                    "AddressLine2_AfterSpace": "55"
                                },
                                {
                                    "AddressID": "323",
                                    "AddressLine1": "7651 Smiling Tree Court",
                                    "AddressLine2": "Space 55",
                                    "AddressLine2_len": "8",
                                    "AddressLine2_Right5": "ce 55",
                                    "AddressLine2_Left5": "Space",
                                    "AddressLine2_BeforeSpace": "Space",
                                    "AddressLine2_AfterSpace": "55"
                                },
                                {
                                    "AddressID": "266",
                                    "AddressLine1": "7691 Benedict Ct.",
                                    "AddressLine2": "# 141",
                                    "AddressLine2_len": "5",
                                    "AddressLine2_Right5": "# 141",
                                    "AddressLine2_Left5": "# 141",
                                    "AddressLine2_BeforeSpace": "#",
                                    "AddressLine2_AfterSpace": "141"
                                },
                                {
                                    "AddressID": "1007",
                                    "AddressLine1": "77 Beale Street",
                                    "AddressLine2": "Room 99767c",
                                    "AddressLine2_len": "11",
                                    "AddressLine2_Right5": "9767c",
                                    "AddressLine2_Left5": "Room ",
                                    "AddressLine2_BeforeSpace": "Room",
                                    "AddressLine2_AfterSpace": "99767c"
                                },
                                {
                                    "AddressID": "179",
                                    "AddressLine1": "771 Northridge Drive",
                                    "AddressLine2": "# 495",
                                    "AddressLine2_len": "5",
                                    "AddressLine2_Right5": "# 495",
                                    "AddressLine2_Left5": "# 495",
                                    "AddressLine2_BeforeSpace": "#",
                                    "AddressLine2_AfterSpace": "495"
                                },
                                {
                                    "AddressID": "12766",
                                    "AddressLine1": "771 Northridge Drive",
                                    "AddressLine2": "# 495",
                                    "AddressLine2_len": "5",
                                    "AddressLine2_Right5": "# 495",
                                    "AddressLine2_Left5": "# 495",
                                    "AddressLine2_BeforeSpace": "#",
                                    "AddressLine2_AfterSpace": "495"
                                },
                                {
                                    "AddressID": "13445",
                                    "AddressLine1": "7743 Ham Dr",
                                    "AddressLine2": "Unit 2b",
                                    "AddressLine2_len": "7",
                                    "AddressLine2_Right5": "it 2b",
                                    "AddressLine2_Left5": "Unit ",
                                    "AddressLine2_BeforeSpace": "Unit",
                                    "AddressLine2_AfterSpace": "2b"
                                },
                                {
                                    "AddressID": "15717",
                                    "AddressLine1": "7801 Foxhill Dr",
                                    "AddressLine2": "#505",
                                    "AddressLine2_len": "4",
                                    "AddressLine2_Right5": "#505",
                                    "AddressLine2_Left5": "#505",
                                    "AddressLine2_BeforeSpace": "#505",
                                    "AddressLine2_AfterSpace": ""
                                },
                                {
                                    "AddressID": "170",
                                    "AddressLine1": "7902 Grammercy Lane",
                                    "AddressLine2": "Unit A",
                                    "AddressLine2_len": "6",
                                    "AddressLine2_Right5": "nit A",
                                    "AddressLine2_Left5": "Unit ",
                                    "AddressLine2_BeforeSpace": "Unit",
                                    "AddressLine2_AfterSpace": "A"
                                },
                                {
                                    "AddressID": "13147",
                                    "AddressLine1": "7902 Grammercy Lane",
                                    "AddressLine2": "Unit C",
                                    "AddressLine2_len": "6",
                                    "AddressLine2_Right5": "nit C",
                                    "AddressLine2_Left5": "Unit ",
                                    "AddressLine2_BeforeSpace": "Unit",
                                    "AddressLine2_AfterSpace": "C"
                                },
                                {
                                    "AddressID": "14916",
                                    "AddressLine1": "7914 H St.",
                                    "AddressLine2": "#9",
                                    "AddressLine2_len": "2",
                                    "AddressLine2_Right5": "#9",
                                    "AddressLine2_Left5": "#9",
                                    "AddressLine2_BeforeSpace": "#9",
                                    "AddressLine2_AfterSpace": ""
                                },
                                {
                                    "AddressID": "12259",
                                    "AddressLine1": "7914 H St.",
                                    "AddressLine2": "#9",
                                    "AddressLine2_len": "2",
                                    "AddressLine2_Right5": "#9",
                                    "AddressLine2_Left5": "#9",
                                    "AddressLine2_BeforeSpace": "#9",
                                    "AddressLine2_AfterSpace": ""
                                },
                                {
                                    "AddressID": "18597",
                                    "AddressLine1": "7916 Valley Ave.",
                                    "AddressLine2": "# 434",
                                    "AddressLine2_len": "5",
                                    "AddressLine2_Right5": "# 434",
                                    "AddressLine2_Left5": "# 434",
                                    "AddressLine2_BeforeSpace": "#",
                                    "AddressLine2_AfterSpace": "434"
                                },
                                {
                                    "AddressID": "18254",
                                    "AddressLine1": "7918 Snyder Lane",
                                    "AddressLine2": "Unit D7",
                                    "AddressLine2_len": "7",
                                    "AddressLine2_Right5": "it D7",
                                    "AddressLine2_Left5": "Unit ",
                                    "AddressLine2_BeforeSpace": "Unit",
                                    "AddressLine2_AfterSpace": "D7"
                                },
                                {
                                    "AddressID": "15873",
                                    "AddressLine1": "7943 All Ways Drive",
                                    "AddressLine2": "# 105",
                                    "AddressLine2_len": "5",
                                    "AddressLine2_Right5": "# 105",
                                    "AddressLine2_Left5": "# 105",
                                    "AddressLine2_BeforeSpace": "#",
                                    "AddressLine2_AfterSpace": "105"
                                },
                                {
                                    "AddressID": "12312",
                                    "AddressLine1": "7950 H Pine Creek Way",
                                    "AddressLine2": "#3",
                                    "AddressLine2_len": "2",
                                    "AddressLine2_Right5": "#3",
                                    "AddressLine2_Left5": "#3",
                                    "AddressLine2_BeforeSpace": "#3",
                                    "AddressLine2_AfterSpace": ""
                                },
                                {
                                    "AddressID": "13782",
                                    "AddressLine1": "7963 Elk Dr",
                                    "AddressLine2": "#4",
                                    "AddressLine2_len": "2",
                                    "AddressLine2_Right5": "#4",
                                    "AddressLine2_Left5": "#4",
                                    "AddressLine2_BeforeSpace": "#4",
                                    "AddressLine2_AfterSpace": ""
                                },
                                {
                                    "AddressID": "560",
                                    "AddressLine1": "800 Interchange Blvd.",
                                    "AddressLine2": "Suite 2501",
                                    "AddressLine2_len": "10",
                                    "AddressLine2_Right5": " 2501",
                                    "AddressLine2_Left5": "Suite",
                                    "AddressLine2_BeforeSpace": "Suite",
                                    "AddressLine2_AfterSpace": "2501"
                                },
                                {
                                    "AddressID": "16905",
                                    "AddressLine1": "8032 Gumwood",
                                    "AddressLine2": "Unit 7c",
                                    "AddressLine2_len": "7",
                                    "AddressLine2_Right5": "it 7c",
                                    "AddressLine2_Left5": "Unit ",
                                    "AddressLine2_BeforeSpace": "Unit",
                                    "AddressLine2_AfterSpace": "7c"
                                },
                                {
                                    "AddressID": "16524",
                                    "AddressLine1": "804 Skycrest Drive",
                                    "AddressLine2": "#19",
                                    "AddressLine2_len": "3",
                                    "AddressLine2_Right5": "#19",
                                    "AddressLine2_Left5": "#19",
                                    "AddressLine2_BeforeSpace": "#19",
                                    "AddressLine2_AfterSpace": ""
                                },
                                {
                                    "AddressID": "13203",
                                    "AddressLine1": "8040 Erie Dr",
                                    "AddressLine2": "6 Monteira",
                                    "AddressLine2_len": "10",
                                    "AddressLine2_Right5": "teira",
                                    "AddressLine2_Left5": "6 Mon",
                                    "AddressLine2_BeforeSpace": "6",
                                    "AddressLine2_AfterSpace": "Monteira"
                                },
                                {
                                    "AddressID": "403",
                                    "AddressLine1": "8040 Erie Dr",
                                    "AddressLine2": "6 Monteira",
                                    "AddressLine2_len": "10",
                                    "AddressLine2_Right5": "teira",
                                    "AddressLine2_Left5": "6 Mon",
                                    "AddressLine2_BeforeSpace": "6",
                                    "AddressLine2_AfterSpace": "Monteira"
                                },
                                {
                                    "AddressID": "13313",
                                    "AddressLine1": "805 Stonyhill Circle",
                                    "AddressLine2": "#67",
                                    "AddressLine2_len": "3",
                                    "AddressLine2_Right5": "#67",
                                    "AddressLine2_Left5": "#67",
                                    "AddressLine2_BeforeSpace": "#67",
                                    "AddressLine2_AfterSpace": ""
                                },
                                {
                                    "AddressID": "17922",
                                    "AddressLine1": "8119 Northridge Ct",
                                    "AddressLine2": "# 1",
                                    "AddressLine2_len": "3",
                                    "AddressLine2_Right5": "# 1",
                                    "AddressLine2_Left5": "# 1",
                                    "AddressLine2_BeforeSpace": "#",
                                    "AddressLine2_AfterSpace": "1"
                                },
                                {
                                    "AddressID": "14709",
                                    "AddressLine1": "8186 St. Michael Drive",
                                    "AddressLine2": "#a",
                                    "AddressLine2_len": "2",
                                    "AddressLine2_Right5": "#a",
                                    "AddressLine2_Left5": "#a",
                                    "AddressLine2_BeforeSpace": "#a",
                                    "AddressLine2_AfterSpace": ""
                                },
                                {
                                    "AddressID": "18672",
                                    "AddressLine1": "8186 St. Michael Drive",
                                    "AddressLine2": "#a",
                                    "AddressLine2_len": "2",
                                    "AddressLine2_Right5": "#a",
                                    "AddressLine2_Left5": "#a",
                                    "AddressLine2_BeforeSpace": "#a",
                                    "AddressLine2_AfterSpace": ""
                                },
                                {
                                    "AddressID": "15707",
                                    "AddressLine1": "8229 Crawford Street",
                                    "AddressLine2": "# 2",
                                    "AddressLine2_len": "3",
                                    "AddressLine2_Right5": "# 2",
                                    "AddressLine2_Left5": "# 2",
                                    "AddressLine2_BeforeSpace": "#",
                                    "AddressLine2_AfterSpace": "2"
                                },
                                {
                                    "AddressID": "17811",
                                    "AddressLine1": "8258 N. Broadway",
                                    "AddressLine2": "# 2015",
                                    "AddressLine2_len": "6",
                                    "AddressLine2_Right5": " 2015",
                                    "AddressLine2_Left5": "# 201",
                                    "AddressLine2_BeforeSpace": "#",
                                    "AddressLine2_AfterSpace": "2015"
                                },
                                {
                                    "AddressID": "16648",
                                    "AddressLine1": "8280 Sequoia Court",
                                    "AddressLine2": "# 1699",
                                    "AddressLine2_len": "6",
                                    "AddressLine2_Right5": " 1699",
                                    "AddressLine2_Left5": "# 169",
                                    "AddressLine2_BeforeSpace": "#",
                                    "AddressLine2_AfterSpace": "1699"
                                },
                                {
                                    "AddressID": "13832",
                                    "AddressLine1": "8308 Fox Way",
                                    "AddressLine2": "# 147",
                                    "AddressLine2_len": "5",
                                    "AddressLine2_Right5": "# 147",
                                    "AddressLine2_Left5": "# 147",
                                    "AddressLine2_BeforeSpace": "#",
                                    "AddressLine2_AfterSpace": "147"
                                },
                                {
                                    "AddressID": "11702",
                                    "AddressLine1": "8401 Carson Street",
                                    "AddressLine2": "#e",
                                    "AddressLine2_len": "2",
                                    "AddressLine2_Right5": "#e",
                                    "AddressLine2_Left5": "#e",
                                    "AddressLine2_BeforeSpace": "#e",
                                    "AddressLine2_AfterSpace": ""
                                },
                                {
                                    "AddressID": "14158",
                                    "AddressLine1": "8432 Sierra Madre",
                                    "AddressLine2": "#914",
                                    "AddressLine2_len": "4",
                                    "AddressLine2_Right5": "#914",
                                    "AddressLine2_Left5": "#914",
                                    "AddressLine2_BeforeSpace": "#914",
                                    "AddressLine2_AfterSpace": ""
                                },
                                {
                                    "AddressID": "16413",
                                    "AddressLine1": "8433 Pacifica Avenue",
                                    "AddressLine2": "#331",
                                    "AddressLine2_len": "4",
                                    "AddressLine2_Right5": "#331",
                                    "AddressLine2_Left5": "#331",
                                    "AddressLine2_BeforeSpace": "#331",
                                    "AddressLine2_AfterSpace": ""
                                },
                                {
                                    "AddressID": "12232",
                                    "AddressLine1": "8435 Kenmore",
                                    "AddressLine2": "B105",
                                    "AddressLine2_len": "4",
                                    "AddressLine2_Right5": "B105",
                                    "AddressLine2_Left5": "B105",
                                    "AddressLine2_BeforeSpace": "B105",
                                    "AddressLine2_AfterSpace": ""
                                },
                                {
                                    "AddressID": "16354",
                                    "AddressLine1": "8439 Rio Grande Drive",
                                    "AddressLine2": "Unit A",
                                    "AddressLine2_len": "6",
                                    "AddressLine2_Right5": "nit A",
                                    "AddressLine2_Left5": "Unit ",
                                    "AddressLine2_BeforeSpace": "Unit",
                                    "AddressLine2_AfterSpace": "A"
                                },
                                {
                                    "AddressID": "12897",
                                    "AddressLine1": "8523 Rose Drive",
                                    "AddressLine2": "C",
                                    "AddressLine2_len": "1",
                                    "AddressLine2_Right5": "C",
                                    "AddressLine2_Left5": "C",
                                    "AddressLine2_BeforeSpace": "C",
                                    "AddressLine2_AfterSpace": ""
                                },
                                {
                                    "AddressID": "13516",
                                    "AddressLine1": "8533 Valley Oak Plaza",
                                    "AddressLine2": "# 174",
                                    "AddressLine2_len": "5",
                                    "AddressLine2_Right5": "# 174",
                                    "AddressLine2_Left5": "# 174",
                                    "AddressLine2_BeforeSpace": "#",
                                    "AddressLine2_AfterSpace": "174"
                                },
                                {
                                    "AddressID": "14145",
                                    "AddressLine1": "8595 Central Avenue",
                                    "AddressLine2": "# 228",
                                    "AddressLine2_len": "5",
                                    "AddressLine2_Right5": "# 228",
                                    "AddressLine2_Left5": "# 228",
                                    "AddressLine2_BeforeSpace": "#",
                                    "AddressLine2_AfterSpace": "228"
                                },
                                {
                                    "AddressID": "11836",
                                    "AddressLine1": "8595 Central Avenue",
                                    "AddressLine2": "# 778",
                                    "AddressLine2_len": "5",
                                    "AddressLine2_Right5": "# 778",
                                    "AddressLine2_Left5": "# 778",
                                    "AddressLine2_BeforeSpace": "#",
                                    "AddressLine2_AfterSpace": "778"
                                },
                                {
                                    "AddressID": "18979",
                                    "AddressLine1": "8650 Mt. Hamilton Dr.",
                                    "AddressLine2": "# 112",
                                    "AddressLine2_len": "5",
                                    "AddressLine2_Right5": "# 112",
                                    "AddressLine2_Left5": "# 112",
                                    "AddressLine2_BeforeSpace": "#",
                                    "AddressLine2_AfterSpace": "112"
                                },
                                {
                                    "AddressID": "17744",
                                    "AddressLine1": "8808 Geneva Ave",
                                    "AddressLine2": "#9",
                                    "AddressLine2_len": "2",
                                    "AddressLine2_Right5": "#9",
                                    "AddressLine2_Left5": "#9",
                                    "AddressLine2_BeforeSpace": "#9",
                                    "AddressLine2_AfterSpace": ""
                                },
                                {
                                    "AddressID": "18593",
                                    "AddressLine1": "8811 Medicine St.",
                                    "AddressLine2": "# 44",
                                    "AddressLine2_len": "4",
                                    "AddressLine2_Right5": "# 44",
                                    "AddressLine2_Left5": "# 44",
                                    "AddressLine2_BeforeSpace": "#",
                                    "AddressLine2_AfterSpace": "44"
                                },
                                {
                                    "AddressID": "18865",
                                    "AddressLine1": "8993 Escobar",
                                    "AddressLine2": "#503",
                                    "AddressLine2_len": "4",
                                    "AddressLine2_Right5": "#503",
                                    "AddressLine2_Left5": "#503",
                                    "AddressLine2_BeforeSpace": "#503",
                                    "AddressLine2_AfterSpace": ""
                                },
                                {
                                    "AddressID": "12511",
                                    "AddressLine1": "9048 Youngsdale Drive",
                                    "AddressLine2": "# 202",
                                    "AddressLine2_len": "5",
                                    "AddressLine2_Right5": "# 202",
                                    "AddressLine2_Left5": "# 202",
                                    "AddressLine2_BeforeSpace": "#",
                                    "AddressLine2_AfterSpace": "202"
                                },
                                {
                                    "AddressID": "18656",
                                    "AddressLine1": "9081 Texas Way",
                                    "AddressLine2": "# A5",
                                    "AddressLine2_len": "4",
                                    "AddressLine2_Right5": "# A5",
                                    "AddressLine2_Left5": "# A5",
                                    "AddressLine2_BeforeSpace": "#",
                                    "AddressLine2_AfterSpace": "A5"
                                },
                                {
                                    "AddressID": "18577",
                                    "AddressLine1": "9123 James Donlon Blvd",
                                    "AddressLine2": "Unit C",
                                    "AddressLine2_len": "6",
                                    "AddressLine2_Right5": "nit C",
                                    "AddressLine2_Left5": "Unit ",
                                    "AddressLine2_BeforeSpace": "Unit",
                                    "AddressLine2_AfterSpace": "C"
                                },
                                {
                                    "AddressID": "18178",
                                    "AddressLine1": "9206 Listing Ct.",
                                    "AddressLine2": "Unit F",
                                    "AddressLine2_len": "6",
                                    "AddressLine2_Right5": "nit F",
                                    "AddressLine2_Left5": "Unit ",
                                    "AddressLine2_BeforeSpace": "Unit",
                                    "AddressLine2_AfterSpace": "F"
                                },
                                {
                                    "AddressID": "14831",
                                    "AddressLine1": "9208 West Rd",
                                    "AddressLine2": "Unit E1",
                                    "AddressLine2_len": "7",
                                    "AddressLine2_Right5": "it E1",
                                    "AddressLine2_Left5": "Unit ",
                                    "AddressLine2_BeforeSpace": "Unit",
                                    "AddressLine2_AfterSpace": "E1"
                                },
                                {
                                    "AddressID": "13496",
                                    "AddressLine1": "9236 Woodland Drive",
                                    "AddressLine2": "Unit B",
                                    "AddressLine2_len": "6",
                                    "AddressLine2_Right5": "nit B",
                                    "AddressLine2_Left5": "Unit ",
                                    "AddressLine2_BeforeSpace": "Unit",
                                    "AddressLine2_AfterSpace": "B"
                                },
                                {
                                    "AddressID": "18376",
                                    "AddressLine1": "9242 St George Dr.",
                                    "AddressLine2": "# 225",
                                    "AddressLine2_len": "5",
                                    "AddressLine2_Right5": "# 225",
                                    "AddressLine2_Left5": "# 225",
                                    "AddressLine2_BeforeSpace": "#",
                                    "AddressLine2_AfterSpace": "225"
                                },
                                {
                                    "AddressID": "17235",
                                    "AddressLine1": "927 Live Oak Ave.",
                                    "AddressLine2": "#119",
                                    "AddressLine2_len": "4",
                                    "AddressLine2_Right5": "#119",
                                    "AddressLine2_Left5": "#119",
                                    "AddressLine2_BeforeSpace": "#119",
                                    "AddressLine2_AfterSpace": ""
                                },
                                {
                                    "AddressID": "14220",
                                    "AddressLine1": "9326 Mayda Way",
                                    "AddressLine2": "# 2",
                                    "AddressLine2_len": "3",
                                    "AddressLine2_Right5": "# 2",
                                    "AddressLine2_Left5": "# 2",
                                    "AddressLine2_BeforeSpace": "#",
                                    "AddressLine2_AfterSpace": "2"
                                },
                                {
                                    "AddressID": "15907",
                                    "AddressLine1": "9351 W Lake Drive",
                                    "AddressLine2": "# 18",
                                    "AddressLine2_len": "4",
                                    "AddressLine2_Right5": "# 18",
                                    "AddressLine2_Left5": "# 18",
                                    "AddressLine2_BeforeSpace": "#",
                                    "AddressLine2_AfterSpace": "18"
                                },
                                {
                                    "AddressID": "14119",
                                    "AddressLine1": "9363 Vista Bonita",
                                    "AddressLine2": "# 123",
                                    "AddressLine2_len": "5",
                                    "AddressLine2_Right5": "# 123",
                                    "AddressLine2_Left5": "# 123",
                                    "AddressLine2_BeforeSpace": "#",
                                    "AddressLine2_AfterSpace": "123"
                                },
                                {
                                    "AddressID": "17899",
                                    "AddressLine1": "9372 Colfax Street",
                                    "AddressLine2": "#303",
                                    "AddressLine2_len": "4",
                                    "AddressLine2_Right5": "#303",
                                    "AddressLine2_Left5": "#303",
                                    "AddressLine2_BeforeSpace": "#303",
                                    "AddressLine2_AfterSpace": ""
                                },
                                {
                                    "AddressID": "18744",
                                    "AddressLine1": "9462 Rambling Rose Drive",
                                    "AddressLine2": "Unit A",
                                    "AddressLine2_len": "6",
                                    "AddressLine2_Right5": "nit A",
                                    "AddressLine2_Left5": "Unit ",
                                    "AddressLine2_BeforeSpace": "Unit",
                                    "AddressLine2_AfterSpace": "A"
                                },
                                {
                                    "AddressID": "15956",
                                    "AddressLine1": "9570 Royal Links Ct",
                                    "AddressLine2": "# 24",
                                    "AddressLine2_len": "4",
                                    "AddressLine2_Right5": "# 24",
                                    "AddressLine2_Left5": "# 24",
                                    "AddressLine2_BeforeSpace": "#",
                                    "AddressLine2_AfterSpace": "24"
                                },
                                {
                                    "AddressID": "18483",
                                    "AddressLine1": "96 Citrus Ave.",
                                    "AddressLine2": "Unit B",
                                    "AddressLine2_len": "6",
                                    "AddressLine2_Right5": "nit B",
                                    "AddressLine2_Left5": "Unit ",
                                    "AddressLine2_BeforeSpace": "Unit",
                                    "AddressLine2_AfterSpace": "B"
                                },
                                {
                                    "AddressID": "18284",
                                    "AddressLine1": "9716 Aloe Vera Rd.",
                                    "AddressLine2": "# 1",
                                    "AddressLine2_len": "3",
                                    "AddressLine2_Right5": "# 1",
                                    "AddressLine2_Left5": "# 1",
                                    "AddressLine2_BeforeSpace": "#",
                                    "AddressLine2_AfterSpace": "1"
                                },
                                {
                                    "AddressID": "16395",
                                    "AddressLine1": "9737 Oak Creek Ct",
                                    "AddressLine2": "#65",
                                    "AddressLine2_len": "3",
                                    "AddressLine2_Right5": "#65",
                                    "AddressLine2_Left5": "#65",
                                    "AddressLine2_BeforeSpace": "#65",
                                    "AddressLine2_AfterSpace": ""
                                },
                                {
                                    "AddressID": "13499",
                                    "AddressLine1": "9770 Fraga Court",
                                    "AddressLine2": "#91",
                                    "AddressLine2_len": "3",
                                    "AddressLine2_Right5": "#91",
                                    "AddressLine2_Left5": "#91",
                                    "AddressLine2_BeforeSpace": "#91",
                                    "AddressLine2_AfterSpace": ""
                                },
                                {
                                    "AddressID": "12523",
                                    "AddressLine1": "9770 Fraga Court",
                                    "AddressLine2": "#91",
                                    "AddressLine2_len": "3",
                                    "AddressLine2_Right5": "#91",
                                    "AddressLine2_Left5": "#91",
                                    "AddressLine2_BeforeSpace": "#91",
                                    "AddressLine2_AfterSpace": ""
                                },
                                {
                                    "AddressID": "13023",
                                    "AddressLine1": "9791 Harvard Court",
                                    "AddressLine2": "# 4",
                                    "AddressLine2_len": "3",
                                    "AddressLine2_Right5": "# 4",
                                    "AddressLine2_Left5": "# 4",
                                    "AddressLine2_BeforeSpace": "#",
                                    "AddressLine2_AfterSpace": "4"
                                },
                                {
                                    "AddressID": "13701",
                                    "AddressLine1": "9887 W. 39th Street",
                                    "AddressLine2": "# 24",
                                    "AddressLine2_len": "4",
                                    "AddressLine2_Right5": "# 24",
                                    "AddressLine2_Left5": "# 24",
                                    "AddressLine2_BeforeSpace": "#",
                                    "AddressLine2_AfterSpace": "24"
                                },
                                {
                                    "AddressID": "13469",
                                    "AddressLine1": "9970 San Miguel Rd",
                                    "AddressLine2": "# 170",
                                    "AddressLine2_len": "5",
                                    "AddressLine2_Right5": "# 170",
                                    "AddressLine2_Left5": "# 170",
                                    "AddressLine2_BeforeSpace": "#",
                                    "AddressLine2_AfterSpace": "170"
                                },
                                {
                                    "AddressID": "14641",
                                    "AddressLine1": "Alderstr 8739",
                                    "AddressLine2": "Buchhaltung",
                                    "AddressLine2_len": "11",
                                    "AddressLine2_Right5": "ltung",
                                    "AddressLine2_Left5": "Buchh",
                                    "AddressLine2_BeforeSpace": "Buchhaltung",
                                    "AddressLine2_AfterSpace": ""
                                },
                                {
                                    "AddressID": "18260",
                                    "AddressLine1": "Alderweg 7",
                                    "AddressLine2": "Verkaufsabteilung",
                                    "AddressLine2_len": "17",
                                    "AddressLine2_Right5": "ilung",
                                    "AddressLine2_Left5": "Verka",
                                    "AddressLine2_BeforeSpace": "Verkaufsabteilung",
                                    "AddressLine2_AfterSpace": ""
                                },
                                {
                                    "AddressID": "25205",
                                    "AddressLine1": "Altendorfer Straße 39",
                                    "AddressLine2": "Einkaufsabteilung",
                                    "AddressLine2_len": "17",
                                    "AddressLine2_Right5": "ilung",
                                    "AddressLine2_Left5": "Einka",
                                    "AddressLine2_BeforeSpace": "Einkaufsabteilung",
                                    "AddressLine2_AfterSpace": ""
                                },
                                {
                                    "AddressID": "11512",
                                    "AddressLine1": "Am Gallberg 46",
                                    "AddressLine2": "Einkaufsabteilung",
                                    "AddressLine2_len": "17",
                                    "AddressLine2_Right5": "ilung",
                                    "AddressLine2_Left5": "Einka",
                                    "AddressLine2_BeforeSpace": "Einkaufsabteilung",
                                    "AddressLine2_AfterSpace": ""
                                },
                                {
                                    "AddressID": "25308",
                                    "AddressLine1": "Am Gallberg 644",
                                    "AddressLine2": "Verkaufsabteilung",
                                    "AddressLine2_len": "17",
                                    "AddressLine2_Right5": "ilung",
                                    "AddressLine2_Left5": "Verka",
                                    "AddressLine2_BeforeSpace": "Verkaufsabteilung",
                                    "AddressLine2_AfterSpace": ""
                                },
                                {
                                    "AddressID": "17580",
                                    "AddressLine1": "Am Gallberg 999",
                                    "AddressLine2": "Verkaufsabteilung",
                                    "AddressLine2_len": "17",
                                    "AddressLine2_Right5": "ilung",
                                    "AddressLine2_Left5": "Verka",
                                    "AddressLine2_BeforeSpace": "Verkaufsabteilung",
                                    "AddressLine2_AfterSpace": ""
                                },
                                {
                                    "AddressID": "14853",
                                    "AddressLine1": "Am Karlshof 8368",
                                    "AddressLine2": "Verkaufsabteilung",
                                    "AddressLine2_len": "17",
                                    "AddressLine2_Right5": "ilung",
                                    "AddressLine2_Left5": "Verka",
                                    "AddressLine2_BeforeSpace": "Verkaufsabteilung",
                                    "AddressLine2_AfterSpace": ""
                                },
                                {
                                    "AddressID": "23288",
                                    "AddressLine1": "Am Karlshof 888",
                                    "AddressLine2": "Einkaufsabteilung",
                                    "AddressLine2_len": "17",
                                    "AddressLine2_Right5": "ilung",
                                    "AddressLine2_Left5": "Einka",
                                    "AddressLine2_BeforeSpace": "Einkaufsabteilung",
                                    "AddressLine2_AfterSpace": ""
                                },
                                {
                                    "AddressID": "14954",
                                    "AddressLine1": "Am Kreuz 4095",
                                    "AddressLine2": "Verkaufsabteilung",
                                    "AddressLine2_len": "17",
                                    "AddressLine2_Right5": "ilung",
                                    "AddressLine2_Left5": "Verka",
                                    "AddressLine2_BeforeSpace": "Verkaufsabteilung",
                                    "AddressLine2_AfterSpace": ""
                                },
                                {
                                    "AddressID": "18855",
                                    "AddressLine1": "Attaché de Presse",
                                    "AddressLine2": "Place d´ Armes",
                                    "AddressLine2_len": "14",
                                    "AddressLine2_Right5": "Armes",
                                    "AddressLine2_Left5": "Place",
                                    "AddressLine2_BeforeSpace": "Place",
                                    "AddressLine2_AfterSpace": "d´ Armes"
                                },
                                {
                                    "AddressID": "760",
                                    "AddressLine1": "Attn: Accounts Payable",
                                    "AddressLine2": "44 Main Place",
                                    "AddressLine2_len": "13",
                                    "AddressLine2_Right5": "Place",
                                    "AddressLine2_Left5": "44 Ma",
                                    "AddressLine2_BeforeSpace": "44",
                                    "AddressLine2_AfterSpace": "Main Place"
                                },
                                {
                                    "AddressID": "22780",
                                    "AddressLine1": "Auf den Kuhlen Straße 5677",
                                    "AddressLine2": "Verkaufsabteilung",
                                    "AddressLine2_len": "17",
                                    "AddressLine2_Right5": "ilung",
                                    "AddressLine2_Left5": "Verka",
                                    "AddressLine2_BeforeSpace": "Verkaufsabteilung",
                                    "AddressLine2_AfterSpace": ""
                                },
                                {
                                    "AddressID": "23680",
                                    "AddressLine1": "Berliner Platz 554",
                                    "AddressLine2": "Verkaufsabteilung",
                                    "AddressLine2_len": "17",
                                    "AddressLine2_Right5": "ilung",
                                    "AddressLine2_Left5": "Verka",
                                    "AddressLine2_BeforeSpace": "Verkaufsabteilung",
                                    "AddressLine2_AfterSpace": ""
                                },
                                {
                                    "AddressID": "12159",
                                    "AddressLine1": "Berliner Platz 994",
                                    "AddressLine2": "Einkaufsabteilung",
                                    "AddressLine2_len": "17",
                                    "AddressLine2_Right5": "ilung",
                                    "AddressLine2_Left5": "Einka",
                                    "AddressLine2_BeforeSpace": "Einkaufsabteilung",
                                    "AddressLine2_AfterSpace": ""
                                },
                                {
                                    "AddressID": "644",
                                    "AddressLine1": "Bradford",
                                    "AddressLine2": "Raven House, Kingsgate",
                                    "AddressLine2_len": "22",
                                    "AddressLine2_Right5": "sgate",
                                    "AddressLine2_Left5": "Raven",
                                    "AddressLine2_BeforeSpace": "Raven",
                                    "AddressLine2_AfterSpace": "House, Kingsgate"
                                },
                                {
                                    "AddressID": "13578",
                                    "AddressLine1": "Brunnenstr 7566",
                                    "AddressLine2": "Verkaufsabteilung",
                                    "AddressLine2_len": "17",
                                    "AddressLine2_Right5": "ilung",
                                    "AddressLine2_Left5": "Verka",
                                    "AddressLine2_BeforeSpace": "Verkaufsabteilung",
                                    "AddressLine2_AfterSpace": ""
                                },
                                {
                                    "AddressID": "749",
                                    "AddressLine1": "Buergermeister-ulrich-str 3000",
                                    "AddressLine2": "Buchhaltung",
                                    "AddressLine2_len": "11",
                                    "AddressLine2_Right5": "ltung",
                                    "AddressLine2_Left5": "Buchh",
                                    "AddressLine2_BeforeSpace": "Buchhaltung",
                                    "AddressLine2_AfterSpace": ""
                                },
                                {
                                    "AddressID": "16145",
                                    "AddressLine1": "Buergermeister-ulrich-str 900",
                                    "AddressLine2": "Einkaufsabteilung",
                                    "AddressLine2_len": "17",
                                    "AddressLine2_Right5": "ilung",
                                    "AddressLine2_Left5": "Einka",
                                    "AddressLine2_BeforeSpace": "Einkaufsabteilung",
                                    "AddressLine2_AfterSpace": ""
                                },
                                {
                                    "AddressID": "19881",
                                    "AddressLine1": "Bundesallee 11",
                                    "AddressLine2": "Verkaufsabteilung",
                                    "AddressLine2_len": "17",
                                    "AddressLine2_Right5": "ilung",
                                    "AddressLine2_Left5": "Verka",
                                    "AddressLine2_BeforeSpace": "Verkaufsabteilung",
                                    "AddressLine2_AfterSpace": ""
                                },
                                {
                                    "AddressID": "28558",
                                    "AddressLine1": "Bundesallee 112",
                                    "AddressLine2": "Einkaufsabteilung",
                                    "AddressLine2_len": "17",
                                    "AddressLine2_Right5": "ilung",
                                    "AddressLine2_Left5": "Einka",
                                    "AddressLine2_BeforeSpace": "Einkaufsabteilung",
                                    "AddressLine2_AfterSpace": ""
                                },
                                {
                                    "AddressID": "717",
                                    "AddressLine1": "Bundesallee 9571",
                                    "AddressLine2": "Rechnungsstelle - C 035",
                                    "AddressLine2_len": "23",
                                    "AddressLine2_Right5": "C 035",
                                    "AddressLine2_Left5": "Rechn",
                                    "AddressLine2_BeforeSpace": "Rechnungsstelle",
                                    "AddressLine2_AfterSpace": "- C 035"
                                },
                                {
                                    "AddressID": "653",
                                    "AddressLine1": "Burgess Hill",
                                    "AddressLine2": "Edward Way",
                                    "AddressLine2_len": "10",
                                    "AddressLine2_Right5": "d Way",
                                    "AddressLine2_Left5": "Edwar",
                                    "AddressLine2_BeforeSpace": "Edward",
                                    "AddressLine2_AfterSpace": "Way"
                                },
                                {
                                    "AddressID": "22009",
                                    "AddressLine1": "Carlsplatz 4650",
                                    "AddressLine2": "Verkaufsabteilung",
                                    "AddressLine2_len": "17",
                                    "AddressLine2_Right5": "ilung",
                                    "AddressLine2_Left5": "Verka",
                                    "AddressLine2_BeforeSpace": "Verkaufsabteilung",
                                    "AddressLine2_AfterSpace": ""
                                },
                                {
                                    "AddressID": "15638",
                                    "AddressLine1": "Celler Weg 3040",
                                    "AddressLine2": "Verkaufsabteilung",
                                    "AddressLine2_len": "17",
                                    "AddressLine2_Right5": "ilung",
                                    "AddressLine2_Left5": "Verka",
                                    "AddressLine2_BeforeSpace": "Verkaufsabteilung",
                                    "AddressLine2_AfterSpace": ""
                                },
                                {
                                    "AddressID": "24940",
                                    "AddressLine1": "Celler Weg 5040",
                                    "AddressLine2": "Verkaufsabteilung",
                                    "AddressLine2_len": "17",
                                    "AddressLine2_Right5": "ilung",
                                    "AddressLine2_Left5": "Verka",
                                    "AddressLine2_BeforeSpace": "Verkaufsabteilung",
                                    "AddressLine2_AfterSpace": ""
                                },
                                {
                                    "AddressID": "25424",
                                    "AddressLine1": "Charlottenstr 57272",
                                    "AddressLine2": "Verkaufsabteilung",
                                    "AddressLine2_len": "17",
                                    "AddressLine2_Right5": "ilung",
                                    "AddressLine2_Left5": "Verka",
                                    "AddressLine2_BeforeSpace": "Verkaufsabteilung",
                                    "AddressLine2_AfterSpace": ""
                                },
                                {
                                    "AddressID": "764",
                                    "AddressLine1": "Corporate Ofc A/p",
                                    "AddressLine2": "123 Fourth Ave",
                                    "AddressLine2_len": "14",
                                    "AddressLine2_Right5": "h Ave",
                                    "AddressLine2_Left5": "123 F",
                                    "AddressLine2_BeforeSpace": "123",
                                    "AddressLine2_AfterSpace": "Fourth Ave"
                                },
                                {
                                    "AddressID": "26433",
                                    "AddressLine1": "Erftplatz 123",
                                    "AddressLine2": "Verkaufsabteilung",
                                    "AddressLine2_len": "17",
                                    "AddressLine2_Right5": "ilung",
                                    "AddressLine2_Left5": "Verka",
                                    "AddressLine2_BeforeSpace": "Verkaufsabteilung",
                                    "AddressLine2_AfterSpace": ""
                                },
                                {
                                    "AddressID": "28899",
                                    "AddressLine1": "Essener Straße 19",
                                    "AddressLine2": "Einkaufsabteilung",
                                    "AddressLine2_len": "17",
                                    "AddressLine2_Right5": "ilung",
                                    "AddressLine2_Left5": "Einka",
                                    "AddressLine2_BeforeSpace": "Einkaufsabteilung",
                                    "AddressLine2_AfterSpace": ""
                                },
                                {
                                    "AddressID": "21428",
                                    "AddressLine1": "Essener Straße 802",
                                    "AddressLine2": "Verkaufsabteilung",
                                    "AddressLine2_len": "17",
                                    "AddressLine2_Right5": "ilung",
                                    "AddressLine2_Left5": "Verka",
                                    "AddressLine2_BeforeSpace": "Verkaufsabteilung",
                                    "AddressLine2_AfterSpace": ""
                                },
                                {
                                    "AddressID": "645",
                                    "AddressLine1": "Garamonde Drive, Wymbush",
                                    "AddressLine2": "P.O. Box 803",
                                    "AddressLine2_len": "12",
                                    "AddressLine2_Right5": "x 803",
                                    "AddressLine2_Left5": "P.O. ",
                                    "AddressLine2_BeforeSpace": "P.O.",
                                    "AddressLine2_AfterSpace": "Box 803"
                                },
                                {
                                    "AddressID": "639",
                                    "AddressLine1": "Garamonde Drive, Wymbush",
                                    "AddressLine2": "PO Box 4023",
                                    "AddressLine2_len": "11",
                                    "AddressLine2_Right5": " 4023",
                                    "AddressLine2_Left5": "PO Bo",
                                    "AddressLine2_BeforeSpace": "PO",
                                    "AddressLine2_AfterSpace": "Box 4023"
                                },
                                {
                                    "AddressID": "15977",
                                    "AddressLine1": "Haberstr 39",
                                    "AddressLine2": "Leiter der Abteilung",
                                    "AddressLine2_len": "20",
                                    "AddressLine2_Right5": "ilung",
                                    "AddressLine2_Left5": "Leite",
                                    "AddressLine2_BeforeSpace": "Leiter",
                                    "AddressLine2_AfterSpace": "der Abteilung"
                                },
                                {
                                    "AddressID": "27926",
                                    "AddressLine1": "Heiderplatz 789",
                                    "AddressLine2": "Leiter der Abteilung",
                                    "AddressLine2_len": "20",
                                    "AddressLine2_Right5": "ilung",
                                    "AddressLine2_Left5": "Leite",
                                    "AddressLine2_BeforeSpace": "Leiter",
                                    "AddressLine2_AfterSpace": "der Abteilung"
                                },
                                {
                                    "AddressID": "28939",
                                    "AddressLine1": "Heiderplatz 948",
                                    "AddressLine2": "Verkaufsabteilung",
                                    "AddressLine2_len": "17",
                                    "AddressLine2_Right5": "ilung",
                                    "AddressLine2_Left5": "Verka",
                                    "AddressLine2_BeforeSpace": "Verkaufsabteilung",
                                    "AddressLine2_AfterSpace": ""
                                },
                                {
                                    "AddressID": "16812",
                                    "AddressLine1": "Heiderweg 4983",
                                    "AddressLine2": "Einkaufsabteilung",
                                    "AddressLine2_len": "17",
                                    "AddressLine2_Right5": "ilung",
                                    "AddressLine2_Left5": "Einka",
                                    "AddressLine2_BeforeSpace": "Einkaufsabteilung",
                                    "AddressLine2_AfterSpace": ""
                                },
                                {
                                    "AddressID": "22609",
                                    "AddressLine1": "Hellweg 4934",
                                    "AddressLine2": "Verkaufsabteilung",
                                    "AddressLine2_len": "17",
                                    "AddressLine2_Right5": "ilung",
                                    "AddressLine2_Left5": "Verka",
                                    "AddressLine2_BeforeSpace": "Verkaufsabteilung",
                                    "AddressLine2_AfterSpace": ""
                                },
                                {
                                    "AddressID": "25194",
                                    "AddressLine1": "Herzogstr 328",
                                    "AddressLine2": "Einkaufsabteilung",
                                    "AddressLine2_len": "17",
                                    "AddressLine2_Right5": "ilung",
                                    "AddressLine2_Left5": "Einka",
                                    "AddressLine2_BeforeSpace": "Einkaufsabteilung",
                                    "AddressLine2_AfterSpace": ""
                                },
                                {
                                    "AddressID": "24422",
                                    "AddressLine1": "Holzstr 7555",
                                    "AddressLine2": "Kreditorenbuchhaltung",
                                    "AddressLine2_len": "21",
                                    "AddressLine2_Right5": "ltung",
                                    "AddressLine2_Left5": "Kredi",
                                    "AddressLine2_BeforeSpace": "Kreditorenbuchhaltung",
                                    "AddressLine2_AfterSpace": ""
                                },
                                {
                                    "AddressID": "25387",
                                    "AddressLine1": "Hüttenstr 7005",
                                    "AddressLine2": "Kreditorenbuchhaltung",
                                    "AddressLine2_len": "21",
                                    "AddressLine2_Right5": "ltung",
                                    "AddressLine2_Left5": "Kredi",
                                    "AddressLine2_BeforeSpace": "Kreditorenbuchhaltung",
                                    "AddressLine2_AfterSpace": ""
                                },
                                {
                                    "AddressID": "19215",
                                    "AddressLine1": "Kapellstr 49",
                                    "AddressLine2": "Verkaufsabteilung",
                                    "AddressLine2_len": "17",
                                    "AddressLine2_Right5": "ilung",
                                    "AddressLine2_Left5": "Verka",
                                    "AddressLine2_BeforeSpace": "Verkaufsabteilung",
                                    "AddressLine2_AfterSpace": ""
                                },
                                {
                                    "AddressID": "743",
                                    "AddressLine1": "Karl Liebknecht str 399",
                                    "AddressLine2": "Leiter der Abteilung",
                                    "AddressLine2_len": "20",
                                    "AddressLine2_Right5": "ilung",
                                    "AddressLine2_Left5": "Leite",
                                    "AddressLine2_BeforeSpace": "Leiter",
                                    "AddressLine2_AfterSpace": "der Abteilung"
                                },
                                {
                                    "AddressID": "17335",
                                    "AddressLine1": "Knaackstr 44",
                                    "AddressLine2": "Verkaufsabteilung",
                                    "AddressLine2_len": "17",
                                    "AddressLine2_Right5": "ilung",
                                    "AddressLine2_Left5": "Verka",
                                    "AddressLine2_BeforeSpace": "Verkaufsabteilung",
                                    "AddressLine2_AfterSpace": ""
                                },
                                {
                                    "AddressID": "23326",
                                    "AddressLine1": "Knaackstr 659",
                                    "AddressLine2": "Verkaufsabteilung",
                                    "AddressLine2_len": "17",
                                    "AddressLine2_Right5": "ilung",
                                    "AddressLine2_Left5": "Verka",
                                    "AddressLine2_BeforeSpace": "Verkaufsabteilung",
                                    "AddressLine2_AfterSpace": ""
                                },
                                {
                                    "AddressID": "12218",
                                    "AddressLine1": "Knaackstr 956",
                                    "AddressLine2": "Leiter der Abteilung",
                                    "AddressLine2_len": "20",
                                    "AddressLine2_Right5": "ilung",
                                    "AddressLine2_Left5": "Leite",
                                    "AddressLine2_BeforeSpace": "Leiter",
                                    "AddressLine2_AfterSpace": "der Abteilung"
                                },
                                {
                                    "AddressID": "16662",
                                    "AddressLine1": "Krönerweg 9679",
                                    "AddressLine2": "Einkaufsabteilung",
                                    "AddressLine2_len": "17",
                                    "AddressLine2_Right5": "ilung",
                                    "AddressLine2_Left5": "Einka",
                                    "AddressLine2_BeforeSpace": "Einkaufsabteilung",
                                    "AddressLine2_AfterSpace": ""
                                },
                                {
                                    "AddressID": "22302",
                                    "AddressLine1": "Kurfürstenstr 50",
                                    "AddressLine2": "Einkaufsabteilung",
                                    "AddressLine2_len": "17",
                                    "AddressLine2_Right5": "ilung",
                                    "AddressLine2_Left5": "Einka",
                                    "AddressLine2_BeforeSpace": "Einkaufsabteilung",
                                    "AddressLine2_AfterSpace": ""
                                },
                                {
                                    "AddressID": "416",
                                    "AddressLine1": "Level 100",
                                    "AddressLine2": "77 Southbank Boulevard",
                                    "AddressLine2_len": "22",
                                    "AddressLine2_Right5": "evard",
                                    "AddressLine2_Left5": "77 So",
                                    "AddressLine2_BeforeSpace": "77",
                                    "AddressLine2_AfterSpace": "Southbank Boulevard"
                                },
                                {
                                    "AddressID": "434",
                                    "AddressLine1": "Level 25",
                                    "AddressLine2": "538 Climbing Street",
                                    "AddressLine2_len": "19",
                                    "AddressLine2_Right5": "treet",
                                    "AddressLine2_Left5": "538 C",
                                    "AddressLine2_BeforeSpace": "538",
                                    "AddressLine2_AfterSpace": "Climbing Street"
                                },
                                {
                                    "AddressID": "433",
                                    "AddressLine1": "Level 25",
                                    "AddressLine2": "96 Lytton Rd.",
                                    "AddressLine2_len": "13",
                                    "AddressLine2_Right5": "n Rd.",
                                    "AddressLine2_Left5": "96 Ly",
                                    "AddressLine2_BeforeSpace": "96",
                                    "AddressLine2_AfterSpace": "Lytton Rd."
                                },
                                {
                                    "AddressID": "439",
                                    "AddressLine1": "Level 5",
                                    "AddressLine2": "157 Liverpool Street",
                                    "AddressLine2_len": "20",
                                    "AddressLine2_Right5": "treet",
                                    "AddressLine2_Left5": "157 L",
                                    "AddressLine2_BeforeSpace": "157",
                                    "AddressLine2_AfterSpace": "Liverpool Street"
                                },
                                {
                                    "AddressID": "423",
                                    "AddressLine1": "Level 6",
                                    "AddressLine2": "538 Climbing Street",
                                    "AddressLine2_len": "19",
                                    "AddressLine2_Right5": "treet",
                                    "AddressLine2_Left5": "538 C",
                                    "AddressLine2_BeforeSpace": "538",
                                    "AddressLine2_AfterSpace": "Climbing Street"
                                },
                                {
                                    "AddressID": "431",
                                    "AddressLine1": "Level 7",
                                    "AddressLine2": "114 Albert Road",
                                    "AddressLine2_len": "15",
                                    "AddressLine2_Right5": " Road",
                                    "AddressLine2_Left5": "114 A",
                                    "AddressLine2_BeforeSpace": "114",
                                    "AddressLine2_AfterSpace": "Albert Road"
                                },
                                {
                                    "AddressID": "438",
                                    "AddressLine1": "Level 7",
                                    "AddressLine2": "201 Sussex Street",
                                    "AddressLine2_len": "17",
                                    "AddressLine2_Right5": "treet",
                                    "AddressLine2_Left5": "201 S",
                                    "AddressLine2_BeforeSpace": "201",
                                    "AddressLine2_AfterSpace": "Sussex Street"
                                },
                                {
                                    "AddressID": "443",
                                    "AddressLine1": "Level 7",
                                    "AddressLine2": "80 Arthur Street",
                                    "AddressLine2_len": "16",
                                    "AddressLine2_Right5": "treet",
                                    "AddressLine2_Left5": "80 Ar",
                                    "AddressLine2_BeforeSpace": "80",
                                    "AddressLine2_AfterSpace": "Arthur Street"
                                },
                                {
                                    "AddressID": "419",
                                    "AddressLine1": "Level 99",
                                    "AddressLine2": "12 South 10th Avenue",
                                    "AddressLine2_len": "20",
                                    "AddressLine2_Right5": "venue",
                                    "AddressLine2_Left5": "12 So",
                                    "AddressLine2_BeforeSpace": "12",
                                    "AddressLine2_AfterSpace": "South 10th Avenue"
                                },
                                {
                                    "AddressID": "437",
                                    "AddressLine1": "Level 992",
                                    "AddressLine2": "56 Pitt Street",
                                    "AddressLine2_len": "14",
                                    "AddressLine2_Right5": "treet",
                                    "AddressLine2_Left5": "56 Pi",
                                    "AddressLine2_BeforeSpace": "56",
                                    "AddressLine2_AfterSpace": "Pitt Street"
                                },
                                {
                                    "AddressID": "14215",
                                    "AddressLine1": "Lieblingsweg 543",
                                    "AddressLine2": "Verkaufsabteilung",
                                    "AddressLine2_len": "17",
                                    "AddressLine2_Right5": "ilung",
                                    "AddressLine2_Left5": "Verka",
                                    "AddressLine2_BeforeSpace": "Verkaufsabteilung",
                                    "AddressLine2_AfterSpace": ""
                                },
                                {
                                    "AddressID": "24974",
                                    "AddressLine1": "Lützowplatz 3859",
                                    "AddressLine2": "#139",
                                    "AddressLine2_len": "4",
                                    "AddressLine2_Right5": "#139",
                                    "AddressLine2_Left5": "#139",
                                    "AddressLine2_BeforeSpace": "#139",
                                    "AddressLine2_AfterSpace": ""
                                },
                                {
                                    "AddressID": "12841",
                                    "AddressLine1": "Marketplatz 5793",
                                    "AddressLine2": "Buchhaltung",
                                    "AddressLine2_len": "11",
                                    "AddressLine2_Right5": "ltung",
                                    "AddressLine2_Left5": "Buchh",
                                    "AddressLine2_BeforeSpace": "Buchhaltung",
                                    "AddressLine2_AfterSpace": ""
                                },
                                {
                                    "AddressID": "18820",
                                    "AddressLine1": "Midi-Couleurs",
                                    "AddressLine2": "Espace Migent",
                                    "AddressLine2_len": "13",
                                    "AddressLine2_Right5": "igent",
                                    "AddressLine2_Left5": "Espac",
                                    "AddressLine2_BeforeSpace": "Espace",
                                    "AddressLine2_AfterSpace": "Migent"
                                },
                                {
                                    "AddressID": "440",
                                    "AddressLine1": "No. 6",
                                    "AddressLine2": "Millenium Court",
                                    "AddressLine2_len": "15",
                                    "AddressLine2_Right5": "Court",
                                    "AddressLine2_Left5": "Mille",
                                    "AddressLine2_BeforeSpace": "Millenium",
                                    "AddressLine2_AfterSpace": "Court"
                                },
                                {
                                    "AddressID": "26477",
                                    "AddressLine1": "Nonnendamm 3",
                                    "AddressLine2": "Verkaufsabteilung",
                                    "AddressLine2_len": "17",
                                    "AddressLine2_Right5": "ilung",
                                    "AddressLine2_Left5": "Verka",
                                    "AddressLine2_BeforeSpace": "Verkaufsabteilung",
                                    "AddressLine2_AfterSpace": ""
                                },
                                {
                                    "AddressID": "19383",
                                    "AddressLine1": "Nonnendamm 6",
                                    "AddressLine2": "Verkaufsabteilung",
                                    "AddressLine2_len": "17",
                                    "AddressLine2_Right5": "ilung",
                                    "AddressLine2_Left5": "Verka",
                                    "AddressLine2_BeforeSpace": "Verkaufsabteilung",
                                    "AddressLine2_AfterSpace": ""
                                },
                                {
                                    "AddressID": "589",
                                    "AddressLine1": "One Dancing, Rr No. 25",
                                    "AddressLine2": "Box 8033",
                                    "AddressLine2_len": "8",
                                    "AddressLine2_Right5": " 8033",
                                    "AddressLine2_Left5": "Box 8",
                                    "AddressLine2_BeforeSpace": "Box",
                                    "AddressLine2_AfterSpace": "8033"
                                },
                                {
                                    "AddressID": "430",
                                    "AddressLine1": "Orwith Center",
                                    "AddressLine2": "39 Herbert Street",
                                    "AddressLine2_len": "17",
                                    "AddressLine2_Right5": "treet",
                                    "AddressLine2_Left5": "39 He",
                                    "AddressLine2_BeforeSpace": "39",
                                    "AddressLine2_AfterSpace": "Herbert Street"
                                },
                                {
                                    "AddressID": "17692",
                                    "AddressLine1": "Parise Straße 7551",
                                    "AddressLine2": "Verkaufsabteilung",
                                    "AddressLine2_len": "17",
                                    "AddressLine2_Right5": "ilung",
                                    "AddressLine2_Left5": "Verka",
                                    "AddressLine2_BeforeSpace": "Verkaufsabteilung",
                                    "AddressLine2_AfterSpace": ""
                                },
                                {
                                    "AddressID": "23802",
                                    "AddressLine1": "Parkstr 4256",
                                    "AddressLine2": "Kreditorenbuchhaltung",
                                    "AddressLine2_len": "21",
                                    "AddressLine2_Right5": "ltung",
                                    "AddressLine2_Left5": "Kredi",
                                    "AddressLine2_BeforeSpace": "Kreditorenbuchhaltung",
                                    "AddressLine2_AfterSpace": ""
                                },
                                {
                                    "AddressID": "24210",
                                    "AddressLine1": "Pascalstr 9",
                                    "AddressLine2": "Verkaufsabteilung",
                                    "AddressLine2_len": "17",
                                    "AddressLine2_Right5": "ilung",
                                    "AddressLine2_Left5": "Verka",
                                    "AddressLine2_BeforeSpace": "Verkaufsabteilung",
                                    "AddressLine2_AfterSpace": ""
                                },
                                {
                                    "AddressID": "28480",
                                    "AddressLine1": "Pflugstr 1585",
                                    "AddressLine2": "Leiter der Abteilung",
                                    "AddressLine2_len": "20",
                                    "AddressLine2_Right5": "ilung",
                                    "AddressLine2_Left5": "Leite",
                                    "AddressLine2_BeforeSpace": "Leiter",
                                    "AddressLine2_AfterSpace": "der Abteilung"
                                },
                                {
                                    "AddressID": "25569",
                                    "AddressLine1": "Platz des Landtags 550",
                                    "AddressLine2": "Kreditorenbuchhaltung",
                                    "AddressLine2_len": "21",
                                    "AddressLine2_Right5": "ltung",
                                    "AddressLine2_Left5": "Kredi",
                                    "AddressLine2_BeforeSpace": "Kreditorenbuchhaltung",
                                    "AddressLine2_AfterSpace": ""
                                },
                                {
                                    "AddressID": "13380",
                                    "AddressLine1": "Postfach 11 00 99",
                                    "AddressLine2": "Verkaufsabteilung",
                                    "AddressLine2_len": "17",
                                    "AddressLine2_Right5": "ilung",
                                    "AddressLine2_Left5": "Verka",
                                    "AddressLine2_BeforeSpace": "Verkaufsabteilung",
                                    "AddressLine2_AfterSpace": ""
                                },
                                {
                                    "AddressID": "19454",
                                    "AddressLine1": "Postfach 55 00 00",
                                    "AddressLine2": "Einkaufsabteilung",
                                    "AddressLine2_len": "17",
                                    "AddressLine2_Right5": "ilung",
                                    "AddressLine2_Left5": "Einka",
                                    "AddressLine2_BeforeSpace": "Einkaufsabteilung",
                                    "AddressLine2_AfterSpace": ""
                                },
                                {
                                    "AddressID": "22614",
                                    "AddressLine1": "Postfach 66 00 77",
                                    "AddressLine2": "Kreditorenbuchhaltung",
                                    "AddressLine2_len": "21",
                                    "AddressLine2_Right5": "ltung",
                                    "AddressLine2_Left5": "Kredi",
                                    "AddressLine2_BeforeSpace": "Kreditorenbuchhaltung",
                                    "AddressLine2_AfterSpace": ""
                                },
                                {
                                    "AddressID": "15083",
                                    "AddressLine1": "Postfach 99 01 01",
                                    "AddressLine2": "Leiter der Abteilung",
                                    "AddressLine2_len": "20",
                                    "AddressLine2_Right5": "ilung",
                                    "AddressLine2_Left5": "Leite",
                                    "AddressLine2_BeforeSpace": "Leiter",
                                    "AddressLine2_AfterSpace": "der Abteilung"
                                },
                                {
                                    "AddressID": "22705",
                                    "AddressLine1": "Rehstr 2242",
                                    "AddressLine2": "Verkaufsabteilung",
                                    "AddressLine2_len": "17",
                                    "AddressLine2_Right5": "ilung",
                                    "AddressLine2_Left5": "Verka",
                                    "AddressLine2_BeforeSpace": "Verkaufsabteilung",
                                    "AddressLine2_AfterSpace": ""
                                },
                                {
                                    "AddressID": "28992",
                                    "AddressLine1": "Reiherweg 7450",
                                    "AddressLine2": "Einkaufsabteilung",
                                    "AddressLine2_len": "17",
                                    "AddressLine2_Right5": "ilung",
                                    "AddressLine2_Left5": "Einka",
                                    "AddressLine2_BeforeSpace": "Einkaufsabteilung",
                                    "AddressLine2_AfterSpace": ""
                                },
                                {
                                    "AddressID": "28725",
                                    "AddressLine1": "Residenz Straße 644",
                                    "AddressLine2": "Unit F",
                                    "AddressLine2_len": "6",
                                    "AddressLine2_Right5": "nit F",
                                    "AddressLine2_Left5": "Unit ",
                                    "AddressLine2_BeforeSpace": "Unit",
                                    "AddressLine2_AfterSpace": "F"
                                },
                                {
                                    "AddressID": "17137",
                                    "AddressLine1": "Residenz Straße 944",
                                    "AddressLine2": "Verkaufsabteilung",
                                    "AddressLine2_len": "17",
                                    "AddressLine2_Right5": "ilung",
                                    "AddressLine2_Left5": "Verka",
                                    "AddressLine2_BeforeSpace": "Verkaufsabteilung",
                                    "AddressLine2_AfterSpace": ""
                                },
                                {
                                    "AddressID": "18635",
                                    "AddressLine1": "Roßstr 7752",
                                    "AddressLine2": "Kreditorenbuchhaltung",
                                    "AddressLine2_len": "21",
                                    "AddressLine2_Right5": "ltung",
                                    "AddressLine2_Left5": "Kredi",
                                    "AddressLine2_BeforeSpace": "Kreditorenbuchhaltung",
                                    "AddressLine2_AfterSpace": ""
                                },
                                {
                                    "AddressID": "741",
                                    "AddressLine1": "Roßstr 9938",
                                    "AddressLine2": "Verkaufsabteilung",
                                    "AddressLine2_len": "17",
                                    "AddressLine2_Right5": "ilung",
                                    "AddressLine2_Left5": "Verka",
                                    "AddressLine2_BeforeSpace": "Verkaufsabteilung",
                                    "AddressLine2_AfterSpace": ""
                                },
                                {
                                    "AddressID": "636",
                                    "AddressLine1": "Science Park South, Birchwood",
                                    "AddressLine2": "Stanford House",
                                    "AddressLine2_len": "14",
                                    "AddressLine2_Right5": "House",
                                    "AddressLine2_Left5": "Stanf",
                                    "AddressLine2_BeforeSpace": "Stanford",
                                    "AddressLine2_AfterSpace": "House"
                                },
                                {
                                    "AddressID": "24377",
                                    "AddressLine1": "Viktoria-Luise-Platz 347",
                                    "AddressLine2": "#59",
                                    "AddressLine2_len": "3",
                                    "AddressLine2_Right5": "#59",
                                    "AddressLine2_Left5": "#59",
                                    "AddressLine2_BeforeSpace": "#59",
                                    "AddressLine2_AfterSpace": ""
                                },
                                {
                                    "AddressID": "13118",
                                    "AddressLine1": "Viktoria-Luise-Platz 473",
                                    "AddressLine2": "Verkaufsabteilung",
                                    "AddressLine2_len": "17",
                                    "AddressLine2_Right5": "ilung",
                                    "AddressLine2_Left5": "Verka",
                                    "AddressLine2_BeforeSpace": "Verkaufsabteilung",
                                    "AddressLine2_AfterSpace": ""
                                },
                                {
                                    "AddressID": "19836",
                                    "AddressLine1": "Viktoria-Luise-Platz 75",
                                    "AddressLine2": "Kreditorenbuchhaltung",
                                    "AddressLine2_len": "21",
                                    "AddressLine2_Right5": "ltung",
                                    "AddressLine2_Left5": "Kredi",
                                    "AddressLine2_BeforeSpace": "Kreditorenbuchhaltung",
                                    "AddressLine2_AfterSpace": ""
                                },
                                {
                                    "AddressID": "22180",
                                    "AddressLine1": "Wallstr 34",
                                    "AddressLine2": "Einkaufsabteilung",
                                    "AddressLine2_len": "17",
                                    "AddressLine2_Right5": "ilung",
                                    "AddressLine2_Left5": "Einka",
                                    "AddressLine2_BeforeSpace": "Einkaufsabteilung",
                                    "AddressLine2_AfterSpace": ""
                                },
                                {
                                    "AddressID": "14525",
                                    "AddressLine1": "Welt Platz 1",
                                    "AddressLine2": "Verkaufsabteilung",
                                    "AddressLine2_len": "17",
                                    "AddressLine2_Right5": "ilung",
                                    "AddressLine2_Left5": "Verka",
                                    "AddressLine2_BeforeSpace": "Verkaufsabteilung",
                                    "AddressLine2_AfterSpace": ""
                                },
                                {
                                    "AddressID": "22917",
                                    "AddressLine1": "Westheimer Straße 7606",
                                    "AddressLine2": "Verkaufsabteilung",
                                    "AddressLine2_len": "17",
                                    "AddressLine2_Right5": "ilung",
                                    "AddressLine2_Left5": "Verka",
                                    "AddressLine2_BeforeSpace": "Verkaufsabteilung",
                                    "AddressLine2_AfterSpace": ""
                                },
                                {
                                    "AddressID": "17524",
                                    "AddressLine1": "Winter der Böck 8550",
                                    "AddressLine2": "Verkaufsabteilung",
                                    "AddressLine2_len": "17",
                                    "AddressLine2_Right5": "ilung",
                                    "AddressLine2_Left5": "Verka",
                                    "AddressLine2_BeforeSpace": "Verkaufsabteilung",
                                    "AddressLine2_AfterSpace": ""
                                },
                                {
                                    "AddressID": "724",
                                    "AddressLine1": "Winterfeldtstr 5557",
                                    "AddressLine2": "Kreditorenbuchhaltung",
                                    "AddressLine2_len": "21",
                                    "AddressLine2_Right5": "ltung",
                                    "AddressLine2_Left5": "Kredi",
                                    "AddressLine2_BeforeSpace": "Kreditorenbuchhaltung",
                                    "AddressLine2_AfterSpace": ""
                                },
                                {
                                    "AddressID": "29508",
                                    "AddressLine1": "Zeiter Weg 6399",
                                    "AddressLine2": "Einkaufsabteilung",
                                    "AddressLine2_len": "17",
                                    "AddressLine2_Right5": "ilung",
                                    "AddressLine2_Left5": "Einka",
                                    "AddressLine2_BeforeSpace": "Einkaufsabteilung",
                                    "AddressLine2_AfterSpace": ""
                                },
                                {
                                    "AddressID": "19603",
                                    "AddressLine1": "Zimmerstr 371",
                                    "AddressLine2": "Einkaufsabteilung",
                                    "AddressLine2_len": "17",
                                    "AddressLine2_Right5": "ilung",
                                    "AddressLine2_Left5": "Einka",
                                    "AddressLine2_BeforeSpace": "Einkaufsabteilung",
                                    "AddressLine2_AfterSpace": ""
                                },
                                {
                                    "AddressID": "17067",
                                    "AddressLine1": "Zollhof 2822",
                                    "AddressLine2": "#919",
                                    "AddressLine2_len": "4",
                                    "AddressLine2_Right5": "#919",
                                    "AddressLine2_Left5": "#919",
                                    "AddressLine2_BeforeSpace": "#919",
                                    "AddressLine2_AfterSpace": ""
                                },
                                {
                                    "AddressID": "28560",
                                    "AddressLine1": "Zollstr 68",
                                    "AddressLine2": "Verkaufsabteilung",
                                    "AddressLine2_len": "17",
                                    "AddressLine2_Right5": "ilung",
                                    "AddressLine2_Left5": "Verka",
                                    "AddressLine2_BeforeSpace": "Verkaufsabteilung",
                                    "AddressLine2_AfterSpace": ""
                                },
                                {
                                    "AddressID": "29768",
                                    "AddressLine1": "Zollstr 680",
                                    "AddressLine2": "Verkaufsabteilung",
                                    "AddressLine2_len": "17",
                                    "AddressLine2_Right5": "ilung",
                                    "AddressLine2_Left5": "Verka",
                                    "AddressLine2_BeforeSpace": "Verkaufsabteilung",
                                    "AddressLine2_AfterSpace": ""
                                }
                            ]
                        },
                        "text/html": [
                            "<table>",
                            "<tr><th>AddressID</th><th>AddressLine1</th><th>AddressLine2</th><th>AddressLine2_len</th><th>AddressLine2_Right5</th><th>AddressLine2_Left5</th><th>AddressLine2_BeforeSpace</th><th>AddressLine2_AfterSpace</th></tr>",
                            "<tr><td>12037</td><td>1 Smiling Tree Court</td><td>Space 55</td><td>8</td><td>ce 55</td><td>Space</td><td>Space</td><td>55</td></tr>",
                            "<tr><td>11383</td><td>1010 Maple</td><td></td><td>0</td><td></td><td></td><td></td><td></td></tr>",
                            "<tr><td>13970</td><td>1085 Greenbelt Way</td><td>Unit B-105</td><td>10</td><td>B-105</td><td>Unit </td><td>Unit</td><td>B-105</td></tr>",
                            "<tr><td>12420</td><td>1119 Elderwood Dr.</td><td>#3</td><td>2</td><td>#3</td><td>#3</td><td>#3</td><td></td></tr>",
                            "<tr><td>18507</td><td>1163 Bella Vista</td><td># 003</td><td>5</td><td># 003</td><td># 003</td><td>#</td><td>003</td></tr>",
                            "<tr><td>18770</td><td>1345 Blocking Circle</td><td>#3</td><td>2</td><td>#3</td><td>#3</td><td>#3</td><td></td></tr>",
                            "<tr><td>18486</td><td>1378 California St.</td><td>#c</td><td>2</td><td>#c</td><td>#c</td><td>#c</td><td></td></tr>",
                            "<tr><td>18382</td><td>138 Lancelot Dr.</td><td># 105</td><td>5</td><td># 105</td><td># 105</td><td>#</td><td>105</td></tr>",
                            "<tr><td>13503</td><td>1431 Rancho View Drive</td><td># 14</td><td>4</td><td># 14</td><td># 14</td><td>#</td><td>14</td></tr>",
                            "<tr><td>16187</td><td>1506 Grading Way</td><td>#62</td><td>3</td><td>#62</td><td>#62</td><td>#62</td><td></td></tr>",
                            "<tr><td>16638</td><td>1525 Waterhigh St</td><td># 198</td><td>5</td><td># 198</td><td># 198</td><td>#</td><td>198</td></tr>",
                            "<tr><td>15940</td><td>1538 Mt. Diablo St.</td><td># 147</td><td>5</td><td># 147</td><td># 147</td><td>#</td><td>147</td></tr>",
                            "<tr><td>12828</td><td>1590 Mildred Ln.</td><td>#35</td><td>3</td><td>#35</td><td>#35</td><td>#35</td><td></td></tr>",
                            "<tr><td>17615</td><td>1739 Sun View Terr</td><td>#315</td><td>4</td><td>#315</td><td>#315</td><td>#315</td><td></td></tr>",
                            "<tr><td>18559</td><td>1941 Pinecrest Court</td><td>#611</td><td>4</td><td>#611</td><td>#611</td><td>#611</td><td></td></tr>",
                            "<tr><td>16741</td><td>197 Adobe Dr</td><td># 999</td><td>5</td><td># 999</td><td># 999</td><td>#</td><td>999</td></tr>",
                            "<tr><td>16702</td><td>1987 Jennifer Way</td><td>Unit F13</td><td>8</td><td>t F13</td><td>Unit </td><td>Unit</td><td>F13</td></tr>",
                            "<tr><td>358</td><td>20 Rambling Rose Ave.</td><td># 003</td><td>5</td><td># 003</td><td># 003</td><td>#</td><td>003</td></tr>",
                            "<tr><td>17672</td><td>2013 Filling Ave.</td><td>#3</td><td>2</td><td>#3</td><td>#3</td><td>#3</td><td></td></tr>",
                            "<tr><td>15765</td><td>2039 Doon Cr</td><td># 120</td><td>5</td><td># 120</td><td># 120</td><td>#</td><td>120</td></tr>",
                            "<tr><td>12195</td><td>2049 Benedict Court</td><td># 11</td><td>4</td><td># 11</td><td># 11</td><td>#</td><td>11</td></tr>",
                            "<tr><td>12685</td><td>2060 Hill Dr</td><td># 108</td><td>5</td><td># 108</td><td># 108</td><td>#</td><td>108</td></tr>",
                            "<tr><td>17939</td><td>2098 Crown Ct</td><td># 235</td><td>5</td><td># 235</td><td># 235</td><td>#</td><td>235</td></tr>",
                            "<tr><td>12436</td><td>2098 Crown Ct</td><td># 235</td><td>5</td><td># 235</td><td># 235</td><td>#</td><td>235</td></tr>",
                            "<tr><td>14162</td><td>2171 H Stagecoach Rd</td><td>#77</td><td>3</td><td>#77</td><td>#77</td><td>#77</td><td></td></tr>",
                            "<tr><td>12082</td><td>220 Rambling Rose Ave.</td><td># 003</td><td>5</td><td># 003</td><td># 003</td><td>#</td><td>003</td></tr>",
                            "<tr><td>407</td><td>2-252 Beauchamp Road</td><td>Botany Bay Industrial Estate</td><td>28</td><td>state</td><td>Botan</td><td>Botany</td><td>Bay Industrial Estate</td></tr>",
                            "<tr><td>13713</td><td>2304 La Canada</td><td># 13</td><td>4</td><td># 13</td><td># 13</td><td>#</td><td>13</td></tr>",
                            "<tr><td>12012</td><td>2338 Mozden Lane</td><td>Unit B</td><td>6</td><td>nit B</td><td>Unit </td><td>Unit</td><td>B</td></tr>",
                            "<tr><td>16922</td><td>2427 Kaywood Drive</td><td>Unit C</td><td>6</td><td>nit C</td><td>Unit </td><td>Unit</td><td>C</td></tr>",
                            "<tr><td>12802</td><td>2479 Killdeer Court</td><td># 120</td><td>5</td><td># 120</td><td># 120</td><td>#</td><td>120</td></tr>",
                            "<tr><td>538</td><td>25 Danger Street West</td><td>Floor 7</td><td>7</td><td>oor 7</td><td>Floor</td><td>Floor</td><td>7</td></tr>",
                            "<tr><td>1009</td><td>2500 N Serene Blvd</td><td>19th Floor</td><td>10</td><td>Floor</td><td>19th </td><td>19th</td><td>Floor</td></tr>",
                            "<tr><td>14873</td><td>2529 Terrace Dr</td><td>#5</td><td>2</td><td>#5</td><td>#5</td><td>#5</td><td></td></tr>",
                            "<tr><td>15851</td><td>253 El Pueblo Place</td><td># 1211</td><td>6</td><td> 1211</td><td># 121</td><td>#</td><td>1211</td></tr>",
                            "<tr><td>13529</td><td>2546 Woodchuck Pl</td><td># 2</td><td>3</td><td># 2</td><td># 2</td><td>#</td><td>2</td></tr>",
                            "<tr><td>444</td><td>254a Baker Street</td><td>Botany</td><td>6</td><td>otany</td><td>Botan</td><td>Botany</td><td></td></tr>",
                            "<tr><td>14212</td><td>2572 Hill Dr</td><td># 2</td><td>3</td><td># 2</td><td># 2</td><td>#</td><td>2</td></tr>",
                            "<tr><td>18471</td><td>2578 Welle Road</td><td># 118</td><td>5</td><td># 118</td><td># 118</td><td>#</td><td>118</td></tr>",
                            "<tr><td>12274</td><td>258 Bluejay Dr.</td><td>Unit A</td><td>6</td><td>nit A</td><td>Unit </td><td>Unit</td><td>A</td></tr>",
                            "<tr><td>12626</td><td>2679 Eagle Peak</td><td>#7</td><td>2</td><td>#7</td><td>#7</td><td>#7</td><td></td></tr>",
                            "<tr><td>16040</td><td>2687 Apollo Way</td><td># 213</td><td>5</td><td># 213</td><td># 213</td><td>#</td><td>213</td></tr>",
                            "<tr><td>16403</td><td>2703 Freda Dr.</td><td># 13</td><td>4</td><td># 13</td><td># 13</td><td>#</td><td>13</td></tr>",
                            "<tr><td>17885</td><td>2710 Roux Court</td><td>#3202</td><td>5</td><td>#3202</td><td>#3202</td><td>#3202</td><td></td></tr>",
                            "<tr><td>18217</td><td>2751 Trail Way</td><td>Unit B</td><td>6</td><td>nit B</td><td>Unit </td><td>Unit</td><td>B</td></tr>",
                            "<tr><td>17891</td><td>2775 Delta View Ln.</td><td>#9</td><td>2</td><td>#9</td><td>#9</td><td>#9</td><td></td></tr>",
                            "<tr><td>13382</td><td>2785 Fallbrook Road</td><td># 10</td><td>4</td><td># 10</td><td># 10</td><td>#</td><td>10</td></tr>",
                            "<tr><td>14229</td><td>279 Inverness Drive</td><td>Unit C3</td><td>7</td><td>it C3</td><td>Unit </td><td>Unit</td><td>C3</td></tr>",
                            "<tr><td>388</td><td>2834 Clifford Court</td><td>#9</td><td>2</td><td>#9</td><td>#9</td><td>#9</td><td></td></tr>",
                            "<tr><td>18103</td><td>2886 Chaparral Court</td><td>Space # 45</td><td>10</td><td> # 45</td><td>Space</td><td>Space</td><td># 45</td></tr>",
                            "<tr><td>13514</td><td>2886 Chaparral Court</td><td>Space # 45</td><td>10</td><td> # 45</td><td>Space</td><td>Space</td><td># 45</td></tr>",
                            "<tr><td>426</td><td>2nd Floor</td><td>55 Lavender Street</td><td>18</td><td>treet</td><td>55 La</td><td>55</td><td>Lavender Street</td></tr>",
                            "<tr><td>12712</td><td>3029 Pastime Dr</td><td># 2</td><td>3</td><td># 2</td><td># 2</td><td>#</td><td>2</td></tr>",
                            "<tr><td>102</td><td>3029 Pastime Dr</td><td># 2</td><td>3</td><td># 2</td><td># 2</td><td>#</td><td>2</td></tr>",
                            "<tr><td>17840</td><td>3040 Snow Drive</td><td>Unit A</td><td>6</td><td>nit A</td><td>Unit </td><td>Unit</td><td>A</td></tr>",
                            "<tr><td>12406</td><td>306 Winter Drive</td><td># 4d</td><td>4</td><td># 4d</td><td># 4d</td><td>#</td><td>4d</td></tr>",
                            "<tr><td>12124</td><td>3083 Boatwright Dr.</td><td>#6</td><td>2</td><td>#6</td><td>#6</td><td>#6</td><td></td></tr>",
                            "<tr><td>13289</td><td>3121 Spar Court</td><td>#511</td><td>4</td><td>#511</td><td>#511</td><td>#511</td><td></td></tr>",
                            "<tr><td>13835</td><td>3165 Willowwood Ct.</td><td>Apt 213</td><td>7</td><td>t 213</td><td>Apt 2</td><td>Apt</td><td>213</td></tr>",
                            "<tr><td>16657</td><td>3168 True Drive</td><td>#118</td><td>4</td><td>#118</td><td>#118</td><td>#118</td><td></td></tr>",
                            "<tr><td>11739</td><td>3187 Westwood Court</td><td>#71</td><td>3</td><td>#71</td><td>#71</td><td>#71</td><td></td></tr>",
                            "<tr><td>11731</td><td>3200 Wren Ave.</td><td>#107</td><td>4</td><td>#107</td><td>#107</td><td>#107</td><td></td></tr>",
                            "<tr><td>12699</td><td>3243 Buckingham Dr.</td><td># 207</td><td>5</td><td># 207</td><td># 207</td><td>#</td><td>207</td></tr>",
                            "<tr><td>101</td><td>3243 Buckingham Dr.</td><td># 207</td><td>5</td><td># 207</td><td># 207</td><td>#</td><td>207</td></tr>",
                            "<tr><td>11995</td><td>3248 Birdhaven Court</td><td># 1</td><td>3</td><td># 1</td><td># 1</td><td>#</td><td>1</td></tr>",
                            "<tr><td>12896</td><td>3287 Corte Poquito</td><td># 2</td><td>3</td><td># 2</td><td># 2</td><td>#</td><td>2</td></tr>",
                            "<tr><td>12270</td><td>3302 Trujillo</td><td># 112</td><td>5</td><td># 112</td><td># 112</td><td>#</td><td>112</td></tr>",
                            "<tr><td>12990</td><td>3302 Trujillo</td><td># 112</td><td>5</td><td># 112</td><td># 112</td><td>#</td><td>112</td></tr>",
                            "<tr><td>17363</td><td>3304 East Narrows Drive</td><td># 003</td><td>5</td><td># 003</td><td># 003</td><td>#</td><td>003</td></tr>",
                            "<tr><td>862</td><td>3307 Evergreen Blvd</td><td>Ste 1071</td><td>8</td><td> 1071</td><td>Ste 1</td><td>Ste</td><td>1071</td></tr>",
                            "<tr><td>15515</td><td>3328 North Wateroak Ct</td><td>#8</td><td>2</td><td>#8</td><td>#8</td><td>#8</td><td></td></tr>",
                            "<tr><td>11875</td><td>3365 Atherton Circle</td><td># 11</td><td>4</td><td># 11</td><td># 11</td><td>#</td><td>11</td></tr>",
                            "<tr><td>15357</td><td>3365 Atherton Circle</td><td># 13</td><td>4</td><td># 13</td><td># 13</td><td>#</td><td>13</td></tr>",
                            "<tr><td>12257</td><td>3469 Relief Valley Ct.</td><td># 22</td><td>4</td><td># 22</td><td># 22</td><td>#</td><td>22</td></tr>",
                            "<tr><td>14936</td><td>3499 Parkway Drive</td><td>Apt. A</td><td>6</td><td>pt. A</td><td>Apt. </td><td>Apt.</td><td>A</td></tr>",
                            "<tr><td>384</td><td>35 Buckthorn Court</td><td># 1</td><td>3</td><td># 1</td><td># 1</td><td>#</td><td>1</td></tr>",
                            "<tr><td>14300</td><td>3521 Fourth St.</td><td>#607</td><td>4</td><td>#607</td><td>#607</td><td>#607</td><td></td></tr>",
                            "<tr><td>18293</td><td>3521 Fourth St.</td><td>#607</td><td>4</td><td>#607</td><td>#607</td><td>#607</td><td></td></tr>",
                            "<tr><td>17574</td><td>3528 Sweetwater Drive</td><td>Unit A</td><td>6</td><td>nit A</td><td>Unit </td><td>Unit</td><td>A</td></tr>",
                            "<tr><td>12263</td><td>3543 Lori Dr.</td><td>Apt 110c</td><td>8</td><td> 110c</td><td>Apt 1</td><td>Apt</td><td>110c</td></tr>",
                            "<tr><td>13765</td><td>3558 Pebble Glen Drive</td><td># 214</td><td>5</td><td># 214</td><td># 214</td><td>#</td><td>214</td></tr>",
                            "<tr><td>17391</td><td>3558 Pebble Glen Drive</td><td># 214</td><td>5</td><td># 214</td><td># 214</td><td>#</td><td>214</td></tr>",
                            "<tr><td>18754</td><td>3562 East Ave.</td><td># 4</td><td>3</td><td># 4</td><td># 4</td><td>#</td><td>4</td></tr>",
                            "<tr><td>12041</td><td>3593 Buckthorn Court</td><td># 1</td><td>3</td><td># 1</td><td># 1</td><td>#</td><td>1</td></tr>",
                            "<tr><td>13560</td><td>3601 Stinson</td><td>#7</td><td>2</td><td>#7</td><td>#7</td><td>#7</td><td></td></tr>",
                            "<tr><td>11696</td><td>3608 Sinclair Avenue</td><td># 701</td><td>5</td><td># 701</td><td># 701</td><td>#</td><td>701</td></tr>",
                            "<tr><td>17819</td><td>3757 Brook Hollow Ct</td><td># 101</td><td>5</td><td># 101</td><td># 101</td><td>#</td><td>101</td></tr>",
                            "<tr><td>11906</td><td>3757 Brook Hollow Ct</td><td># 101</td><td>5</td><td># 101</td><td># 101</td><td>#</td><td>101</td></tr>",
                            "<tr><td>11724</td><td>3800 Breck Court</td><td># 60</td><td>4</td><td># 60</td><td># 60</td><td>#</td><td>60</td></tr>",
                            "<tr><td>17978</td><td>3812 Roundtree Drive</td><td>#5</td><td>2</td><td>#5</td><td>#5</td><td>#5</td><td></td></tr>",
                            "<tr><td>12806</td><td>3831 Golden Gate Way</td><td># 203</td><td>5</td><td># 203</td><td># 203</td><td>#</td><td>203</td></tr>",
                            "<tr><td>13332</td><td>3836 Deer Meadow Way</td><td># 174</td><td>5</td><td># 174</td><td># 174</td><td>#</td><td>174</td></tr>",
                            "<tr><td>13823</td><td>3853 Wildcat Circle</td><td>Unit 13c12</td><td>10</td><td>13c12</td><td>Unit </td><td>Unit</td><td>13c12</td></tr>",
                            "<tr><td>14192</td><td>3853 Wildcat Circle</td><td>Unit 13c12</td><td>10</td><td>13c12</td><td>Unit </td><td>Unit</td><td>13c12</td></tr>",
                            "<tr><td>13423</td><td>3858 Vista Diablo</td><td>Unit C</td><td>6</td><td>nit C</td><td>Unit </td><td>Unit</td><td>C</td></tr>",
                            "<tr><td>260</td><td>3884 Beauty Street</td><td># 14</td><td>4</td><td># 14</td><td># 14</td><td>#</td><td>14</td></tr>",
                            "<tr><td>13449</td><td>3960 Temple Drive</td><td>#304</td><td>4</td><td>#304</td><td>#304</td><td>#304</td><td></td></tr>",
                            "<tr><td>13488</td><td>3989 Terrace Drive</td><td>#55</td><td>3</td><td>#55</td><td>#55</td><td>#55</td><td></td></tr>",
                            "<tr><td>15398</td><td>4024 Montana</td><td># 113</td><td>5</td><td># 113</td><td># 113</td><td>#</td><td>113</td></tr>",
                            "<tr><td>13027</td><td>4024 Montana</td><td># 113</td><td>5</td><td># 113</td><td># 113</td><td>#</td><td>113</td></tr>",
                            "<tr><td>16380</td><td>4091 Silver Oaks Place</td><td># 105</td><td>5</td><td># 105</td><td># 105</td><td>#</td><td>105</td></tr>",
                            "<tr><td>12364</td><td>419 River Ash Court</td><td>#9</td><td>2</td><td>#9</td><td>#9</td><td>#9</td><td></td></tr>",
                            "<tr><td>331</td><td>419 River Ash Court</td><td>#9</td><td>2</td><td>#9</td><td>#9</td><td>#9</td><td></td></tr>",
                            "<tr><td>12985</td><td>4197 Ironwood Drive</td><td># 1</td><td>3</td><td># 1</td><td># 1</td><td>#</td><td>1</td></tr>",
                            "<tr><td>14246</td><td>4299 Vernal Drive</td><td># 132</td><td>5</td><td># 132</td><td># 132</td><td>#</td><td>132</td></tr>",
                            "<tr><td>13824</td><td>4348 Lilac Circle</td><td>#6</td><td>2</td><td>#6</td><td>#6</td><td>#6</td><td></td></tr>",
                            "<tr><td>16886</td><td>4426 Scenic Avenue</td><td>Unit D9</td><td>7</td><td>it D9</td><td>Unit </td><td>Unit</td><td>D9</td></tr>",
                            "<tr><td>18459</td><td>4501 Terrace Road</td><td>#60</td><td>3</td><td>#60</td><td>#60</td><td>#60</td><td></td></tr>",
                            "<tr><td>15986</td><td>4513 Ten Penny Lane</td><td>#3</td><td>2</td><td>#3</td><td>#3</td><td>#3</td><td></td></tr>",
                            "<tr><td>13344</td><td>4518 Sequoia Drive</td><td># 2</td><td>3</td><td># 2</td><td># 2</td><td>#</td><td>2</td></tr>",
                            "<tr><td>12000</td><td>4525 El Pueblo Pl.</td><td>#6</td><td>2</td><td>#6</td><td>#6</td><td>#6</td><td></td></tr>",
                            "<tr><td>13729</td><td>4540 Wood Ranch Circle</td><td>Space 51</td><td>8</td><td>ce 51</td><td>Space</td><td>Space</td><td>51</td></tr>",
                            "<tr><td>12126</td><td>4619 Ricardo Drive</td><td># 233</td><td>5</td><td># 233</td><td># 233</td><td>#</td><td>233</td></tr>",
                            "<tr><td>13535</td><td>4629 Candle Dr</td><td>#30</td><td>3</td><td>#30</td><td>#30</td><td>#30</td><td></td></tr>",
                            "<tr><td>15373</td><td>4689 Deerwood Court</td><td>#512</td><td>4</td><td>#512</td><td>#512</td><td>#512</td><td></td></tr>",
                            "<tr><td>14026</td><td>4746 Clear Court</td><td># 45</td><td>4</td><td># 45</td><td># 45</td><td>#</td><td>45</td></tr>",
                            "<tr><td>11411</td><td>4746 Clear Court</td><td># 61</td><td>4</td><td># 61</td><td># 61</td><td>#</td><td>61</td></tr>",
                            "<tr><td>15637</td><td>4775 Kentucky Dr.</td><td>Unit E</td><td>6</td><td>nit E</td><td>Unit </td><td>Unit</td><td>E</td></tr>",
                            "<tr><td>66</td><td>4775 Kentucky Dr.</td><td>Unit E</td><td>6</td><td>nit E</td><td>Unit </td><td>Unit</td><td>E</td></tr>",
                            "<tr><td>12599</td><td>4775 Kentucky Dr.</td><td>Unit E</td><td>6</td><td>nit E</td><td>Unit </td><td>Unit</td><td>E</td></tr>",
                            "<tr><td>17669</td><td>4827 San Marino Ct</td><td>Unit H103</td><td>9</td><td> H103</td><td>Unit </td><td>Unit</td><td>H103</td></tr>",
                            "<tr><td>14264</td><td>4833 Maine Dr.</td><td>Unit C4</td><td>7</td><td>it C4</td><td>Unit </td><td>Unit</td><td>C4</td></tr>",
                            "<tr><td>12182</td><td>4837 Melrose Place</td><td># 1</td><td>3</td><td># 1</td><td># 1</td><td>#</td><td>1</td></tr>",
                            "<tr><td>12367</td><td>4865 A St.</td><td># 260</td><td>5</td><td># 260</td><td># 260</td><td>#</td><td>260</td></tr>",
                            "<tr><td>17874</td><td>4927 Virgil Street</td><td># 21</td><td>4</td><td># 21</td><td># 21</td><td>#</td><td>21</td></tr>",
                            "<tr><td>16435</td><td>494 North Spoonwood Court</td><td>Unit 1e</td><td>7</td><td>it 1e</td><td>Unit </td><td>Unit</td><td>1e</td></tr>",
                            "<tr><td>17734</td><td>4948 Muy Verde</td><td>#52</td><td>3</td><td>#52</td><td>#52</td><td>#52</td><td></td></tr>",
                            "<tr><td>16636</td><td>498 Willow Pass Rd</td><td>#61</td><td>3</td><td>#61</td><td>#61</td><td>#61</td><td></td></tr>",
                            "<tr><td>15423</td><td>5038 Candy Rd</td><td># 126</td><td>5</td><td># 126</td><td># 126</td><td>#</td><td>126</td></tr>",
                            "<tr><td>17622</td><td>5041 Stillwater Court</td><td># 205</td><td>5</td><td># 205</td><td># 205</td><td>#</td><td>205</td></tr>",
                            "<tr><td>12222</td><td>5045 Vancouver Way</td><td># 133</td><td>5</td><td># 133</td><td># 133</td><td>#</td><td>133</td></tr>",
                            "<tr><td>13571</td><td>5056 Anchor Ave</td><td>#511</td><td>4</td><td>#511</td><td>#511</td><td>#511</td><td></td></tr>",
                            "<tr><td>83</td><td>5379 Treasure Island Way</td><td># 14</td><td>4</td><td># 14</td><td># 14</td><td>#</td><td>14</td></tr>",
                            "<tr><td>12719</td><td>5379 Treasure Island Way</td><td>Bldg 14</td><td>7</td><td>dg 14</td><td>Bldg </td><td>Bldg</td><td>14</td></tr>",
                            "<tr><td>15807</td><td>543 Sand Pointe Lane</td><td>Box #311</td><td>8</td><td> #311</td><td>Box #</td><td>Box</td><td>#311</td></tr>",
                            "<tr><td>13192</td><td>5436 Clear</td><td># 101</td><td>5</td><td># 101</td><td># 101</td><td>#</td><td>101</td></tr>",
                            "<tr><td>15356</td><td>5448 Hill Drive</td><td>Unit 3b</td><td>7</td><td>it 3b</td><td>Unit </td><td>Unit</td><td>3b</td></tr>",
                            "<tr><td>11747</td><td>5485 Wee Donegal</td><td># 77</td><td>4</td><td># 77</td><td># 77</td><td>#</td><td>77</td></tr>",
                            "<tr><td>17499</td><td>5493 Gonzalez Ct</td><td>Unit C</td><td>6</td><td>nit C</td><td>Unit </td><td>Unit</td><td>C</td></tr>",
                            "<tr><td>16043</td><td>551 Almond Ave</td><td>#30</td><td>3</td><td>#30</td><td>#30</td><td>#30</td><td></td></tr>",
                            "<tr><td>18792</td><td>5518 Baldwin Dr.</td><td># 215</td><td>5</td><td># 215</td><td># 215</td><td>#</td><td>215</td></tr>",
                            "<tr><td>15549</td><td>5533 Fremont Street</td><td># 113</td><td>5</td><td># 113</td><td># 113</td><td>#</td><td>113</td></tr>",
                            "<tr><td>11936</td><td>5679 Attic Lane</td><td>Unit A</td><td>6</td><td>nit A</td><td>Unit </td><td>Unit</td><td>A</td></tr>",
                            "<tr><td>17746</td><td>5707 Monte Vista Road</td><td>A211</td><td>4</td><td>A211</td><td>A211</td><td>A211</td><td></td></tr>",
                            "<tr><td>11527</td><td>579 Meager Dr.</td><td># 1</td><td>3</td><td># 1</td><td># 1</td><td>#</td><td>1</td></tr>",
                            "<tr><td>18490</td><td>5823 Trail Way</td><td># 208</td><td>5</td><td># 208</td><td># 208</td><td>#</td><td>208</td></tr>",
                            "<tr><td>17675</td><td>5854 Baird Court</td><td># 212</td><td>5</td><td># 212</td><td># 212</td><td>#</td><td>212</td></tr>",
                            "<tr><td>17628</td><td>5854 Baird Court</td><td># 212</td><td>5</td><td># 212</td><td># 212</td><td>#</td><td>212</td></tr>",
                            "<tr><td>12891</td><td>5891 Quail Court</td><td>Unit C</td><td>6</td><td>nit C</td><td>Unit </td><td>Unit</td><td>C</td></tr>",
                            "<tr><td>18995</td><td>591 Laguna Street</td><td># 439</td><td>5</td><td># 439</td><td># 439</td><td>#</td><td>439</td></tr>",
                            "<tr><td>15560</td><td>5960 Cross Road</td><td># 20</td><td>4</td><td># 20</td><td># 20</td><td>#</td><td>20</td></tr>",
                            "<tr><td>13168</td><td>5980 Icicle Circle</td><td>Unit H</td><td>6</td><td>nit H</td><td>Unit </td><td>Unit</td><td>H</td></tr>",
                            "<tr><td>282</td><td>5980 Icicle Circle</td><td>Unit H</td><td>6</td><td>nit H</td><td>Unit </td><td>Unit</td><td>H</td></tr>",
                            "<tr><td>11905</td><td>5980 Icicle Circle</td><td>Unit H</td><td>6</td><td>nit H</td><td>Unit </td><td>Unit</td><td>H</td></tr>",
                            "<tr><td>17909</td><td>6002 Hickory Drive</td><td>Studio # 403</td><td>12</td><td># 403</td><td>Studi</td><td>Studio</td><td># 403</td></tr>",
                            "<tr><td>15003</td><td>6002 Hickory Drive</td><td>Studio # 403</td><td>12</td><td># 403</td><td>Studi</td><td>Studio</td><td># 403</td></tr>",
                            "<tr><td>365</td><td>6030 Winter Drive</td><td># 4d</td><td>4</td><td># 4d</td><td># 4d</td><td>#</td><td>4d</td></tr>",
                            "<tr><td>158</td><td>6058 Hill Street</td><td># 4</td><td>3</td><td># 4</td><td># 4</td><td>#</td><td>4</td></tr>",
                            "<tr><td>12774</td><td>6114 North Park Court</td><td># 12</td><td>4</td><td># 12</td><td># 12</td><td>#</td><td>12</td></tr>",
                            "<tr><td>18326</td><td>6114 North Park Court</td><td># 12</td><td>4</td><td># 12</td><td># 12</td><td>#</td><td>12</td></tr>",
                            "<tr><td>18090</td><td>6120 Evergreen Ct.</td><td># 126</td><td>5</td><td># 126</td><td># 126</td><td>#</td><td>126</td></tr>",
                            "<tr><td>16908</td><td>6140 Nightingale Drive</td><td># 79</td><td>4</td><td># 79</td><td># 79</td><td>#</td><td>79</td></tr>",
                            "<tr><td>17637</td><td>6179 Norris Court</td><td># 1104</td><td>6</td><td> 1104</td><td># 110</td><td>#</td><td>1104</td></tr>",
                            "<tr><td>16573</td><td>6179 Norris Court</td><td># 9</td><td>3</td><td># 9</td><td># 9</td><td>#</td><td>9</td></tr>",
                            "<tr><td>12026</td><td>6196 Nottingham Place</td><td>#313</td><td>4</td><td>#313</td><td>#313</td><td>#313</td><td></td></tr>",
                            "<tr><td>18755</td><td>6258 Stinson</td><td>#8</td><td>2</td><td>#8</td><td>#8</td><td>#8</td><td></td></tr>",
                            "<tr><td>15880</td><td>6441 Clear Court</td><td>#501</td><td>4</td><td>#501</td><td>#501</td><td>#501</td><td></td></tr>",
                            "<tr><td>16072</td><td>6469 Castlewood</td><td>Unit B</td><td>6</td><td>nit B</td><td>Unit </td><td>Unit</td><td>B</td></tr>",
                            "<tr><td>12854</td><td>6532 Pinecrest Rd</td><td>#508</td><td>4</td><td>#508</td><td>#508</td><td>#508</td><td></td></tr>",
                            "<tr><td>14335</td><td>6628 Ranch Drive</td><td>Box 21</td><td>6</td><td>ox 21</td><td>Box 2</td><td>Box</td><td>21</td></tr>",
                            "<tr><td>13463</td><td>6650 Contuti Avenue</td><td># 135</td><td>5</td><td># 135</td><td># 135</td><td>#</td><td>135</td></tr>",
                            "<tr><td>17751</td><td>6713 Castle Rock</td><td>#3</td><td>2</td><td>#3</td><td>#3</td><td>#3</td><td></td></tr>",
                            "<tr><td>14960</td><td>6719 Santa Teresa Dr</td><td># 1117</td><td>6</td><td> 1117</td><td># 111</td><td>#</td><td>1117</td></tr>",
                            "<tr><td>15484</td><td>673 Hawes St.</td><td># 119 A</td><td>7</td><td>119 A</td><td># 119</td><td>#</td><td>119 A</td></tr>",
                            "<tr><td>15525</td><td>6732 Arcadia Pl.</td><td>#e</td><td>2</td><td>#e</td><td>#e</td><td>#e</td><td></td></tr>",
                            "<tr><td>18661</td><td>6732 Arcadia Pl.</td><td>#e</td><td>2</td><td>#e</td><td>#e</td><td>#e</td><td></td></tr>",
                            "<tr><td>11837</td><td>6754 Pampered Ct.</td><td># 19</td><td>4</td><td># 19</td><td># 19</td><td>#</td><td>19</td></tr>",
                            "<tr><td>12471</td><td>6812 Sands Circle</td><td># 163</td><td>5</td><td># 163</td><td># 163</td><td>#</td><td>163</td></tr>",
                            "<tr><td>16371</td><td>6828 Willow Pass Road</td><td>#5</td><td>2</td><td>#5</td><td>#5</td><td>#5</td><td></td></tr>",
                            "<tr><td>18207</td><td>6915 San Ramon Valley Blvd.</td><td>#6</td><td>2</td><td>#6</td><td>#6</td><td>#6</td><td></td></tr>",
                            "<tr><td>16739</td><td>692 Brook Way</td><td>#1988</td><td>5</td><td>#1988</td><td>#1988</td><td>#1988</td><td></td></tr>",
                            "<tr><td>17667</td><td>6963 Santa Monica Drive</td><td># 4</td><td>3</td><td># 4</td><td># 4</td><td>#</td><td>4</td></tr>",
                            "<tr><td>12486</td><td>6984 Wardlow Lane</td><td># 116</td><td>5</td><td># 116</td><td># 116</td><td>#</td><td>116</td></tr>",
                            "<tr><td>16813</td><td>6985 Pecan Street</td><td># 786</td><td>5</td><td># 786</td><td># 786</td><td>#</td><td>786</td></tr>",
                            "<tr><td>19762</td><td>7, place Beaubernard</td><td>Agence Taillefer</td><td>16</td><td>lefer</td><td>Agenc</td><td>Agence</td><td>Taillefer</td></tr>",
                            "<tr><td>13798</td><td>700 Oaxaca</td><td># 17</td><td>4</td><td># 17</td><td># 17</td><td>#</td><td>17</td></tr>",
                            "<tr><td>14214</td><td>7013 Cimarron Drive</td><td># 110</td><td>5</td><td># 110</td><td># 110</td><td>#</td><td>110</td></tr>",
                            "<tr><td>16963</td><td>71 Tobi Drive</td><td># 778</td><td>5</td><td># 778</td><td># 778</td><td>#</td><td>778</td></tr>",
                            "<tr><td>18157</td><td>7111 Atchinson Stage Ct</td><td># 180</td><td>5</td><td># 180</td><td># 180</td><td>#</td><td>180</td></tr>",
                            "<tr><td>14332</td><td>7111 Stinson</td><td>Unit E</td><td>6</td><td>nit E</td><td>Unit </td><td>Unit</td><td>E</td></tr>",
                            "<tr><td>14999</td><td>7111 Stinson</td><td>Unit E</td><td>6</td><td>nit E</td><td>Unit </td><td>Unit</td><td>E</td></tr>",
                            "<tr><td>14828</td><td>7153 Bellord Ct</td><td># 18</td><td>4</td><td># 18</td><td># 18</td><td>#</td><td>18</td></tr>",
                            "<tr><td>15739</td><td>7228 Sierra Ridge</td><td>Unit A309</td><td>9</td><td> A309</td><td>Unit </td><td>Unit</td><td>A309</td></tr>",
                            "<tr><td>16749</td><td>7290 Mt. Hood Circle</td><td>#176</td><td>4</td><td>#176</td><td>#176</td><td>#176</td><td></td></tr>",
                            "<tr><td>15710</td><td>7334 Sterling Hill</td><td>Unit G12</td><td>8</td><td>t G12</td><td>Unit </td><td>Unit</td><td>G12</td></tr>",
                            "<tr><td>15985</td><td>7390 Pinehurst Court</td><td>#524</td><td>4</td><td>#524</td><td>#524</td><td>#524</td><td></td></tr>",
                            "<tr><td>12363</td><td>7468 Lindley Ct.</td><td>#8a</td><td>3</td><td>#8a</td><td>#8a</td><td>#8a</td><td></td></tr>",
                            "<tr><td>16443</td><td>7503 Sheffield Place</td><td># 19</td><td>4</td><td># 19</td><td># 19</td><td>#</td><td>19</td></tr>",
                            "<tr><td>13230</td><td>7550 Carzino Ct</td><td># 1</td><td>3</td><td># 1</td><td># 1</td><td>#</td><td>1</td></tr>",
                            "<tr><td>18339</td><td>7569 Sierra Drive</td><td># 105</td><td>5</td><td># 105</td><td># 105</td><td>#</td><td>105</td></tr>",
                            "<tr><td>14929</td><td>7573 Star Dr</td><td>#5188</td><td>5</td><td>#5188</td><td>#5188</td><td>#5188</td><td></td></tr>",
                            "<tr><td>14141</td><td>7578 Sierra Road</td><td>#905</td><td>4</td><td>#905</td><td>#905</td><td>#905</td><td></td></tr>",
                            "<tr><td>15733</td><td>7588 Deerfield Dr</td><td>#36</td><td>3</td><td>#36</td><td>#36</td><td>#36</td><td></td></tr>",
                            "<tr><td>13305</td><td>7651 Smiling Tree Court</td><td>Space 55</td><td>8</td><td>ce 55</td><td>Space</td><td>Space</td><td>55</td></tr>",
                            "<tr><td>323</td><td>7651 Smiling Tree Court</td><td>Space 55</td><td>8</td><td>ce 55</td><td>Space</td><td>Space</td><td>55</td></tr>",
                            "<tr><td>266</td><td>7691 Benedict Ct.</td><td># 141</td><td>5</td><td># 141</td><td># 141</td><td>#</td><td>141</td></tr>",
                            "<tr><td>1007</td><td>77 Beale Street</td><td>Room 99767c</td><td>11</td><td>9767c</td><td>Room </td><td>Room</td><td>99767c</td></tr>",
                            "<tr><td>179</td><td>771 Northridge Drive</td><td># 495</td><td>5</td><td># 495</td><td># 495</td><td>#</td><td>495</td></tr>",
                            "<tr><td>12766</td><td>771 Northridge Drive</td><td># 495</td><td>5</td><td># 495</td><td># 495</td><td>#</td><td>495</td></tr>",
                            "<tr><td>13445</td><td>7743 Ham Dr</td><td>Unit 2b</td><td>7</td><td>it 2b</td><td>Unit </td><td>Unit</td><td>2b</td></tr>",
                            "<tr><td>15717</td><td>7801 Foxhill Dr</td><td>#505</td><td>4</td><td>#505</td><td>#505</td><td>#505</td><td></td></tr>",
                            "<tr><td>170</td><td>7902 Grammercy Lane</td><td>Unit A</td><td>6</td><td>nit A</td><td>Unit </td><td>Unit</td><td>A</td></tr>",
                            "<tr><td>13147</td><td>7902 Grammercy Lane</td><td>Unit C</td><td>6</td><td>nit C</td><td>Unit </td><td>Unit</td><td>C</td></tr>",
                            "<tr><td>14916</td><td>7914 H St.</td><td>#9</td><td>2</td><td>#9</td><td>#9</td><td>#9</td><td></td></tr>",
                            "<tr><td>12259</td><td>7914 H St.</td><td>#9</td><td>2</td><td>#9</td><td>#9</td><td>#9</td><td></td></tr>",
                            "<tr><td>18597</td><td>7916 Valley Ave.</td><td># 434</td><td>5</td><td># 434</td><td># 434</td><td>#</td><td>434</td></tr>",
                            "<tr><td>18254</td><td>7918 Snyder Lane</td><td>Unit D7</td><td>7</td><td>it D7</td><td>Unit </td><td>Unit</td><td>D7</td></tr>",
                            "<tr><td>15873</td><td>7943 All Ways Drive</td><td># 105</td><td>5</td><td># 105</td><td># 105</td><td>#</td><td>105</td></tr>",
                            "<tr><td>12312</td><td>7950 H Pine Creek Way</td><td>#3</td><td>2</td><td>#3</td><td>#3</td><td>#3</td><td></td></tr>",
                            "<tr><td>13782</td><td>7963 Elk Dr</td><td>#4</td><td>2</td><td>#4</td><td>#4</td><td>#4</td><td></td></tr>",
                            "<tr><td>560</td><td>800 Interchange Blvd.</td><td>Suite 2501</td><td>10</td><td> 2501</td><td>Suite</td><td>Suite</td><td>2501</td></tr>",
                            "<tr><td>16905</td><td>8032 Gumwood</td><td>Unit 7c</td><td>7</td><td>it 7c</td><td>Unit </td><td>Unit</td><td>7c</td></tr>",
                            "<tr><td>16524</td><td>804 Skycrest Drive</td><td>#19</td><td>3</td><td>#19</td><td>#19</td><td>#19</td><td></td></tr>",
                            "<tr><td>13203</td><td>8040 Erie Dr</td><td>6 Monteira</td><td>10</td><td>teira</td><td>6 Mon</td><td>6</td><td>Monteira</td></tr>",
                            "<tr><td>403</td><td>8040 Erie Dr</td><td>6 Monteira</td><td>10</td><td>teira</td><td>6 Mon</td><td>6</td><td>Monteira</td></tr>",
                            "<tr><td>13313</td><td>805 Stonyhill Circle</td><td>#67</td><td>3</td><td>#67</td><td>#67</td><td>#67</td><td></td></tr>",
                            "<tr><td>17922</td><td>8119 Northridge Ct</td><td># 1</td><td>3</td><td># 1</td><td># 1</td><td>#</td><td>1</td></tr>",
                            "<tr><td>14709</td><td>8186 St. Michael Drive</td><td>#a</td><td>2</td><td>#a</td><td>#a</td><td>#a</td><td></td></tr>",
                            "<tr><td>18672</td><td>8186 St. Michael Drive</td><td>#a</td><td>2</td><td>#a</td><td>#a</td><td>#a</td><td></td></tr>",
                            "<tr><td>15707</td><td>8229 Crawford Street</td><td># 2</td><td>3</td><td># 2</td><td># 2</td><td>#</td><td>2</td></tr>",
                            "<tr><td>17811</td><td>8258 N. Broadway</td><td># 2015</td><td>6</td><td> 2015</td><td># 201</td><td>#</td><td>2015</td></tr>",
                            "<tr><td>16648</td><td>8280 Sequoia Court</td><td># 1699</td><td>6</td><td> 1699</td><td># 169</td><td>#</td><td>1699</td></tr>",
                            "<tr><td>13832</td><td>8308 Fox Way</td><td># 147</td><td>5</td><td># 147</td><td># 147</td><td>#</td><td>147</td></tr>",
                            "<tr><td>11702</td><td>8401 Carson Street</td><td>#e</td><td>2</td><td>#e</td><td>#e</td><td>#e</td><td></td></tr>",
                            "<tr><td>14158</td><td>8432 Sierra Madre</td><td>#914</td><td>4</td><td>#914</td><td>#914</td><td>#914</td><td></td></tr>",
                            "<tr><td>16413</td><td>8433 Pacifica Avenue</td><td>#331</td><td>4</td><td>#331</td><td>#331</td><td>#331</td><td></td></tr>",
                            "<tr><td>12232</td><td>8435 Kenmore</td><td>B105</td><td>4</td><td>B105</td><td>B105</td><td>B105</td><td></td></tr>",
                            "<tr><td>16354</td><td>8439 Rio Grande Drive</td><td>Unit A</td><td>6</td><td>nit A</td><td>Unit </td><td>Unit</td><td>A</td></tr>",
                            "<tr><td>12897</td><td>8523 Rose Drive</td><td>C</td><td>1</td><td>C</td><td>C</td><td>C</td><td></td></tr>",
                            "<tr><td>13516</td><td>8533 Valley Oak Plaza</td><td># 174</td><td>5</td><td># 174</td><td># 174</td><td>#</td><td>174</td></tr>",
                            "<tr><td>14145</td><td>8595 Central Avenue</td><td># 228</td><td>5</td><td># 228</td><td># 228</td><td>#</td><td>228</td></tr>",
                            "<tr><td>11836</td><td>8595 Central Avenue</td><td># 778</td><td>5</td><td># 778</td><td># 778</td><td>#</td><td>778</td></tr>",
                            "<tr><td>18979</td><td>8650 Mt. Hamilton Dr.</td><td># 112</td><td>5</td><td># 112</td><td># 112</td><td>#</td><td>112</td></tr>",
                            "<tr><td>17744</td><td>8808 Geneva Ave</td><td>#9</td><td>2</td><td>#9</td><td>#9</td><td>#9</td><td></td></tr>",
                            "<tr><td>18593</td><td>8811 Medicine St.</td><td># 44</td><td>4</td><td># 44</td><td># 44</td><td>#</td><td>44</td></tr>",
                            "<tr><td>18865</td><td>8993 Escobar</td><td>#503</td><td>4</td><td>#503</td><td>#503</td><td>#503</td><td></td></tr>",
                            "<tr><td>12511</td><td>9048 Youngsdale Drive</td><td># 202</td><td>5</td><td># 202</td><td># 202</td><td>#</td><td>202</td></tr>",
                            "<tr><td>18656</td><td>9081 Texas Way</td><td># A5</td><td>4</td><td># A5</td><td># A5</td><td>#</td><td>A5</td></tr>",
                            "<tr><td>18577</td><td>9123 James Donlon Blvd</td><td>Unit C</td><td>6</td><td>nit C</td><td>Unit </td><td>Unit</td><td>C</td></tr>",
                            "<tr><td>18178</td><td>9206 Listing Ct.</td><td>Unit F</td><td>6</td><td>nit F</td><td>Unit </td><td>Unit</td><td>F</td></tr>",
                            "<tr><td>14831</td><td>9208 West Rd</td><td>Unit E1</td><td>7</td><td>it E1</td><td>Unit </td><td>Unit</td><td>E1</td></tr>",
                            "<tr><td>13496</td><td>9236 Woodland Drive</td><td>Unit B</td><td>6</td><td>nit B</td><td>Unit </td><td>Unit</td><td>B</td></tr>",
                            "<tr><td>18376</td><td>9242 St George Dr.</td><td># 225</td><td>5</td><td># 225</td><td># 225</td><td>#</td><td>225</td></tr>",
                            "<tr><td>17235</td><td>927 Live Oak Ave.</td><td>#119</td><td>4</td><td>#119</td><td>#119</td><td>#119</td><td></td></tr>",
                            "<tr><td>14220</td><td>9326 Mayda Way</td><td># 2</td><td>3</td><td># 2</td><td># 2</td><td>#</td><td>2</td></tr>",
                            "<tr><td>15907</td><td>9351 W Lake Drive</td><td># 18</td><td>4</td><td># 18</td><td># 18</td><td>#</td><td>18</td></tr>",
                            "<tr><td>14119</td><td>9363 Vista Bonita</td><td># 123</td><td>5</td><td># 123</td><td># 123</td><td>#</td><td>123</td></tr>",
                            "<tr><td>17899</td><td>9372 Colfax Street</td><td>#303</td><td>4</td><td>#303</td><td>#303</td><td>#303</td><td></td></tr>",
                            "<tr><td>18744</td><td>9462 Rambling Rose Drive</td><td>Unit A</td><td>6</td><td>nit A</td><td>Unit </td><td>Unit</td><td>A</td></tr>",
                            "<tr><td>15956</td><td>9570 Royal Links Ct</td><td># 24</td><td>4</td><td># 24</td><td># 24</td><td>#</td><td>24</td></tr>",
                            "<tr><td>18483</td><td>96 Citrus Ave.</td><td>Unit B</td><td>6</td><td>nit B</td><td>Unit </td><td>Unit</td><td>B</td></tr>",
                            "<tr><td>18284</td><td>9716 Aloe Vera Rd.</td><td># 1</td><td>3</td><td># 1</td><td># 1</td><td>#</td><td>1</td></tr>",
                            "<tr><td>16395</td><td>9737 Oak Creek Ct</td><td>#65</td><td>3</td><td>#65</td><td>#65</td><td>#65</td><td></td></tr>",
                            "<tr><td>13499</td><td>9770 Fraga Court</td><td>#91</td><td>3</td><td>#91</td><td>#91</td><td>#91</td><td></td></tr>",
                            "<tr><td>12523</td><td>9770 Fraga Court</td><td>#91</td><td>3</td><td>#91</td><td>#91</td><td>#91</td><td></td></tr>",
                            "<tr><td>13023</td><td>9791 Harvard Court</td><td># 4</td><td>3</td><td># 4</td><td># 4</td><td>#</td><td>4</td></tr>",
                            "<tr><td>13701</td><td>9887 W. 39th Street</td><td># 24</td><td>4</td><td># 24</td><td># 24</td><td>#</td><td>24</td></tr>",
                            "<tr><td>13469</td><td>9970 San Miguel Rd</td><td># 170</td><td>5</td><td># 170</td><td># 170</td><td>#</td><td>170</td></tr>",
                            "<tr><td>14641</td><td>Alderstr 8739</td><td>Buchhaltung</td><td>11</td><td>ltung</td><td>Buchh</td><td>Buchhaltung</td><td></td></tr>",
                            "<tr><td>18260</td><td>Alderweg 7</td><td>Verkaufsabteilung</td><td>17</td><td>ilung</td><td>Verka</td><td>Verkaufsabteilung</td><td></td></tr>",
                            "<tr><td>25205</td><td>Altendorfer Straße 39</td><td>Einkaufsabteilung</td><td>17</td><td>ilung</td><td>Einka</td><td>Einkaufsabteilung</td><td></td></tr>",
                            "<tr><td>11512</td><td>Am Gallberg 46</td><td>Einkaufsabteilung</td><td>17</td><td>ilung</td><td>Einka</td><td>Einkaufsabteilung</td><td></td></tr>",
                            "<tr><td>25308</td><td>Am Gallberg 644</td><td>Verkaufsabteilung</td><td>17</td><td>ilung</td><td>Verka</td><td>Verkaufsabteilung</td><td></td></tr>",
                            "<tr><td>17580</td><td>Am Gallberg 999</td><td>Verkaufsabteilung</td><td>17</td><td>ilung</td><td>Verka</td><td>Verkaufsabteilung</td><td></td></tr>",
                            "<tr><td>14853</td><td>Am Karlshof 8368</td><td>Verkaufsabteilung</td><td>17</td><td>ilung</td><td>Verka</td><td>Verkaufsabteilung</td><td></td></tr>",
                            "<tr><td>23288</td><td>Am Karlshof 888</td><td>Einkaufsabteilung</td><td>17</td><td>ilung</td><td>Einka</td><td>Einkaufsabteilung</td><td></td></tr>",
                            "<tr><td>14954</td><td>Am Kreuz 4095</td><td>Verkaufsabteilung</td><td>17</td><td>ilung</td><td>Verka</td><td>Verkaufsabteilung</td><td></td></tr>",
                            "<tr><td>18855</td><td>Attaché de Presse</td><td>Place d´ Armes</td><td>14</td><td>Armes</td><td>Place</td><td>Place</td><td>d´ Armes</td></tr>",
                            "<tr><td>760</td><td>Attn: Accounts Payable</td><td>44 Main Place</td><td>13</td><td>Place</td><td>44 Ma</td><td>44</td><td>Main Place</td></tr>",
                            "<tr><td>22780</td><td>Auf den Kuhlen Straße 5677</td><td>Verkaufsabteilung</td><td>17</td><td>ilung</td><td>Verka</td><td>Verkaufsabteilung</td><td></td></tr>",
                            "<tr><td>23680</td><td>Berliner Platz 554</td><td>Verkaufsabteilung</td><td>17</td><td>ilung</td><td>Verka</td><td>Verkaufsabteilung</td><td></td></tr>",
                            "<tr><td>12159</td><td>Berliner Platz 994</td><td>Einkaufsabteilung</td><td>17</td><td>ilung</td><td>Einka</td><td>Einkaufsabteilung</td><td></td></tr>",
                            "<tr><td>644</td><td>Bradford</td><td>Raven House, Kingsgate</td><td>22</td><td>sgate</td><td>Raven</td><td>Raven</td><td>House, Kingsgate</td></tr>",
                            "<tr><td>13578</td><td>Brunnenstr 7566</td><td>Verkaufsabteilung</td><td>17</td><td>ilung</td><td>Verka</td><td>Verkaufsabteilung</td><td></td></tr>",
                            "<tr><td>749</td><td>Buergermeister-ulrich-str 3000</td><td>Buchhaltung</td><td>11</td><td>ltung</td><td>Buchh</td><td>Buchhaltung</td><td></td></tr>",
                            "<tr><td>16145</td><td>Buergermeister-ulrich-str 900</td><td>Einkaufsabteilung</td><td>17</td><td>ilung</td><td>Einka</td><td>Einkaufsabteilung</td><td></td></tr>",
                            "<tr><td>19881</td><td>Bundesallee 11</td><td>Verkaufsabteilung</td><td>17</td><td>ilung</td><td>Verka</td><td>Verkaufsabteilung</td><td></td></tr>",
                            "<tr><td>28558</td><td>Bundesallee 112</td><td>Einkaufsabteilung</td><td>17</td><td>ilung</td><td>Einka</td><td>Einkaufsabteilung</td><td></td></tr>",
                            "<tr><td>717</td><td>Bundesallee 9571</td><td>Rechnungsstelle - C 035</td><td>23</td><td>C 035</td><td>Rechn</td><td>Rechnungsstelle</td><td>- C 035</td></tr>",
                            "<tr><td>653</td><td>Burgess Hill</td><td>Edward Way</td><td>10</td><td>d Way</td><td>Edwar</td><td>Edward</td><td>Way</td></tr>",
                            "<tr><td>22009</td><td>Carlsplatz 4650</td><td>Verkaufsabteilung</td><td>17</td><td>ilung</td><td>Verka</td><td>Verkaufsabteilung</td><td></td></tr>",
                            "<tr><td>15638</td><td>Celler Weg 3040</td><td>Verkaufsabteilung</td><td>17</td><td>ilung</td><td>Verka</td><td>Verkaufsabteilung</td><td></td></tr>",
                            "<tr><td>24940</td><td>Celler Weg 5040</td><td>Verkaufsabteilung</td><td>17</td><td>ilung</td><td>Verka</td><td>Verkaufsabteilung</td><td></td></tr>",
                            "<tr><td>25424</td><td>Charlottenstr 57272</td><td>Verkaufsabteilung</td><td>17</td><td>ilung</td><td>Verka</td><td>Verkaufsabteilung</td><td></td></tr>",
                            "<tr><td>764</td><td>Corporate Ofc A/p</td><td>123 Fourth Ave</td><td>14</td><td>h Ave</td><td>123 F</td><td>123</td><td>Fourth Ave</td></tr>",
                            "<tr><td>26433</td><td>Erftplatz 123</td><td>Verkaufsabteilung</td><td>17</td><td>ilung</td><td>Verka</td><td>Verkaufsabteilung</td><td></td></tr>",
                            "<tr><td>28899</td><td>Essener Straße 19</td><td>Einkaufsabteilung</td><td>17</td><td>ilung</td><td>Einka</td><td>Einkaufsabteilung</td><td></td></tr>",
                            "<tr><td>21428</td><td>Essener Straße 802</td><td>Verkaufsabteilung</td><td>17</td><td>ilung</td><td>Verka</td><td>Verkaufsabteilung</td><td></td></tr>",
                            "<tr><td>645</td><td>Garamonde Drive, Wymbush</td><td>P.O. Box 803</td><td>12</td><td>x 803</td><td>P.O. </td><td>P.O.</td><td>Box 803</td></tr>",
                            "<tr><td>639</td><td>Garamonde Drive, Wymbush</td><td>PO Box 4023</td><td>11</td><td> 4023</td><td>PO Bo</td><td>PO</td><td>Box 4023</td></tr>",
                            "<tr><td>15977</td><td>Haberstr 39</td><td>Leiter der Abteilung</td><td>20</td><td>ilung</td><td>Leite</td><td>Leiter</td><td>der Abteilung</td></tr>",
                            "<tr><td>27926</td><td>Heiderplatz 789</td><td>Leiter der Abteilung</td><td>20</td><td>ilung</td><td>Leite</td><td>Leiter</td><td>der Abteilung</td></tr>",
                            "<tr><td>28939</td><td>Heiderplatz 948</td><td>Verkaufsabteilung</td><td>17</td><td>ilung</td><td>Verka</td><td>Verkaufsabteilung</td><td></td></tr>",
                            "<tr><td>16812</td><td>Heiderweg 4983</td><td>Einkaufsabteilung</td><td>17</td><td>ilung</td><td>Einka</td><td>Einkaufsabteilung</td><td></td></tr>",
                            "<tr><td>22609</td><td>Hellweg 4934</td><td>Verkaufsabteilung</td><td>17</td><td>ilung</td><td>Verka</td><td>Verkaufsabteilung</td><td></td></tr>",
                            "<tr><td>25194</td><td>Herzogstr 328</td><td>Einkaufsabteilung</td><td>17</td><td>ilung</td><td>Einka</td><td>Einkaufsabteilung</td><td></td></tr>",
                            "<tr><td>24422</td><td>Holzstr 7555</td><td>Kreditorenbuchhaltung</td><td>21</td><td>ltung</td><td>Kredi</td><td>Kreditorenbuchhaltung</td><td></td></tr>",
                            "<tr><td>25387</td><td>Hüttenstr 7005</td><td>Kreditorenbuchhaltung</td><td>21</td><td>ltung</td><td>Kredi</td><td>Kreditorenbuchhaltung</td><td></td></tr>",
                            "<tr><td>19215</td><td>Kapellstr 49</td><td>Verkaufsabteilung</td><td>17</td><td>ilung</td><td>Verka</td><td>Verkaufsabteilung</td><td></td></tr>",
                            "<tr><td>743</td><td>Karl Liebknecht str 399</td><td>Leiter der Abteilung</td><td>20</td><td>ilung</td><td>Leite</td><td>Leiter</td><td>der Abteilung</td></tr>",
                            "<tr><td>17335</td><td>Knaackstr 44</td><td>Verkaufsabteilung</td><td>17</td><td>ilung</td><td>Verka</td><td>Verkaufsabteilung</td><td></td></tr>",
                            "<tr><td>23326</td><td>Knaackstr 659</td><td>Verkaufsabteilung</td><td>17</td><td>ilung</td><td>Verka</td><td>Verkaufsabteilung</td><td></td></tr>",
                            "<tr><td>12218</td><td>Knaackstr 956</td><td>Leiter der Abteilung</td><td>20</td><td>ilung</td><td>Leite</td><td>Leiter</td><td>der Abteilung</td></tr>",
                            "<tr><td>16662</td><td>Krönerweg 9679</td><td>Einkaufsabteilung</td><td>17</td><td>ilung</td><td>Einka</td><td>Einkaufsabteilung</td><td></td></tr>",
                            "<tr><td>22302</td><td>Kurfürstenstr 50</td><td>Einkaufsabteilung</td><td>17</td><td>ilung</td><td>Einka</td><td>Einkaufsabteilung</td><td></td></tr>",
                            "<tr><td>416</td><td>Level 100</td><td>77 Southbank Boulevard</td><td>22</td><td>evard</td><td>77 So</td><td>77</td><td>Southbank Boulevard</td></tr>",
                            "<tr><td>434</td><td>Level 25</td><td>538 Climbing Street</td><td>19</td><td>treet</td><td>538 C</td><td>538</td><td>Climbing Street</td></tr>",
                            "<tr><td>433</td><td>Level 25</td><td>96 Lytton Rd.</td><td>13</td><td>n Rd.</td><td>96 Ly</td><td>96</td><td>Lytton Rd.</td></tr>",
                            "<tr><td>439</td><td>Level 5</td><td>157 Liverpool Street</td><td>20</td><td>treet</td><td>157 L</td><td>157</td><td>Liverpool Street</td></tr>",
                            "<tr><td>423</td><td>Level 6</td><td>538 Climbing Street</td><td>19</td><td>treet</td><td>538 C</td><td>538</td><td>Climbing Street</td></tr>",
                            "<tr><td>431</td><td>Level 7</td><td>114 Albert Road</td><td>15</td><td> Road</td><td>114 A</td><td>114</td><td>Albert Road</td></tr>",
                            "<tr><td>438</td><td>Level 7</td><td>201 Sussex Street</td><td>17</td><td>treet</td><td>201 S</td><td>201</td><td>Sussex Street</td></tr>",
                            "<tr><td>443</td><td>Level 7</td><td>80 Arthur Street</td><td>16</td><td>treet</td><td>80 Ar</td><td>80</td><td>Arthur Street</td></tr>",
                            "<tr><td>419</td><td>Level 99</td><td>12 South 10th Avenue</td><td>20</td><td>venue</td><td>12 So</td><td>12</td><td>South 10th Avenue</td></tr>",
                            "<tr><td>437</td><td>Level 992</td><td>56 Pitt Street</td><td>14</td><td>treet</td><td>56 Pi</td><td>56</td><td>Pitt Street</td></tr>",
                            "<tr><td>14215</td><td>Lieblingsweg 543</td><td>Verkaufsabteilung</td><td>17</td><td>ilung</td><td>Verka</td><td>Verkaufsabteilung</td><td></td></tr>",
                            "<tr><td>24974</td><td>Lützowplatz 3859</td><td>#139</td><td>4</td><td>#139</td><td>#139</td><td>#139</td><td></td></tr>",
                            "<tr><td>12841</td><td>Marketplatz 5793</td><td>Buchhaltung</td><td>11</td><td>ltung</td><td>Buchh</td><td>Buchhaltung</td><td></td></tr>",
                            "<tr><td>18820</td><td>Midi-Couleurs</td><td>Espace Migent</td><td>13</td><td>igent</td><td>Espac</td><td>Espace</td><td>Migent</td></tr>",
                            "<tr><td>440</td><td>No. 6</td><td>Millenium Court</td><td>15</td><td>Court</td><td>Mille</td><td>Millenium</td><td>Court</td></tr>",
                            "<tr><td>26477</td><td>Nonnendamm 3</td><td>Verkaufsabteilung</td><td>17</td><td>ilung</td><td>Verka</td><td>Verkaufsabteilung</td><td></td></tr>",
                            "<tr><td>19383</td><td>Nonnendamm 6</td><td>Verkaufsabteilung</td><td>17</td><td>ilung</td><td>Verka</td><td>Verkaufsabteilung</td><td></td></tr>",
                            "<tr><td>589</td><td>One Dancing, Rr No. 25</td><td>Box 8033</td><td>8</td><td> 8033</td><td>Box 8</td><td>Box</td><td>8033</td></tr>",
                            "<tr><td>430</td><td>Orwith Center</td><td>39 Herbert Street</td><td>17</td><td>treet</td><td>39 He</td><td>39</td><td>Herbert Street</td></tr>",
                            "<tr><td>17692</td><td>Parise Straße 7551</td><td>Verkaufsabteilung</td><td>17</td><td>ilung</td><td>Verka</td><td>Verkaufsabteilung</td><td></td></tr>",
                            "<tr><td>23802</td><td>Parkstr 4256</td><td>Kreditorenbuchhaltung</td><td>21</td><td>ltung</td><td>Kredi</td><td>Kreditorenbuchhaltung</td><td></td></tr>",
                            "<tr><td>24210</td><td>Pascalstr 9</td><td>Verkaufsabteilung</td><td>17</td><td>ilung</td><td>Verka</td><td>Verkaufsabteilung</td><td></td></tr>",
                            "<tr><td>28480</td><td>Pflugstr 1585</td><td>Leiter der Abteilung</td><td>20</td><td>ilung</td><td>Leite</td><td>Leiter</td><td>der Abteilung</td></tr>",
                            "<tr><td>25569</td><td>Platz des Landtags 550</td><td>Kreditorenbuchhaltung</td><td>21</td><td>ltung</td><td>Kredi</td><td>Kreditorenbuchhaltung</td><td></td></tr>",
                            "<tr><td>13380</td><td>Postfach 11 00 99</td><td>Verkaufsabteilung</td><td>17</td><td>ilung</td><td>Verka</td><td>Verkaufsabteilung</td><td></td></tr>",
                            "<tr><td>19454</td><td>Postfach 55 00 00</td><td>Einkaufsabteilung</td><td>17</td><td>ilung</td><td>Einka</td><td>Einkaufsabteilung</td><td></td></tr>",
                            "<tr><td>22614</td><td>Postfach 66 00 77</td><td>Kreditorenbuchhaltung</td><td>21</td><td>ltung</td><td>Kredi</td><td>Kreditorenbuchhaltung</td><td></td></tr>",
                            "<tr><td>15083</td><td>Postfach 99 01 01</td><td>Leiter der Abteilung</td><td>20</td><td>ilung</td><td>Leite</td><td>Leiter</td><td>der Abteilung</td></tr>",
                            "<tr><td>22705</td><td>Rehstr 2242</td><td>Verkaufsabteilung</td><td>17</td><td>ilung</td><td>Verka</td><td>Verkaufsabteilung</td><td></td></tr>",
                            "<tr><td>28992</td><td>Reiherweg 7450</td><td>Einkaufsabteilung</td><td>17</td><td>ilung</td><td>Einka</td><td>Einkaufsabteilung</td><td></td></tr>",
                            "<tr><td>28725</td><td>Residenz Straße 644</td><td>Unit F</td><td>6</td><td>nit F</td><td>Unit </td><td>Unit</td><td>F</td></tr>",
                            "<tr><td>17137</td><td>Residenz Straße 944</td><td>Verkaufsabteilung</td><td>17</td><td>ilung</td><td>Verka</td><td>Verkaufsabteilung</td><td></td></tr>",
                            "<tr><td>18635</td><td>Roßstr 7752</td><td>Kreditorenbuchhaltung</td><td>21</td><td>ltung</td><td>Kredi</td><td>Kreditorenbuchhaltung</td><td></td></tr>",
                            "<tr><td>741</td><td>Roßstr 9938</td><td>Verkaufsabteilung</td><td>17</td><td>ilung</td><td>Verka</td><td>Verkaufsabteilung</td><td></td></tr>",
                            "<tr><td>636</td><td>Science Park South, Birchwood</td><td>Stanford House</td><td>14</td><td>House</td><td>Stanf</td><td>Stanford</td><td>House</td></tr>",
                            "<tr><td>24377</td><td>Viktoria-Luise-Platz 347</td><td>#59</td><td>3</td><td>#59</td><td>#59</td><td>#59</td><td></td></tr>",
                            "<tr><td>13118</td><td>Viktoria-Luise-Platz 473</td><td>Verkaufsabteilung</td><td>17</td><td>ilung</td><td>Verka</td><td>Verkaufsabteilung</td><td></td></tr>",
                            "<tr><td>19836</td><td>Viktoria-Luise-Platz 75</td><td>Kreditorenbuchhaltung</td><td>21</td><td>ltung</td><td>Kredi</td><td>Kreditorenbuchhaltung</td><td></td></tr>",
                            "<tr><td>22180</td><td>Wallstr 34</td><td>Einkaufsabteilung</td><td>17</td><td>ilung</td><td>Einka</td><td>Einkaufsabteilung</td><td></td></tr>",
                            "<tr><td>14525</td><td>Welt Platz 1</td><td>Verkaufsabteilung</td><td>17</td><td>ilung</td><td>Verka</td><td>Verkaufsabteilung</td><td></td></tr>",
                            "<tr><td>22917</td><td>Westheimer Straße 7606</td><td>Verkaufsabteilung</td><td>17</td><td>ilung</td><td>Verka</td><td>Verkaufsabteilung</td><td></td></tr>",
                            "<tr><td>17524</td><td>Winter der Böck 8550</td><td>Verkaufsabteilung</td><td>17</td><td>ilung</td><td>Verka</td><td>Verkaufsabteilung</td><td></td></tr>",
                            "<tr><td>724</td><td>Winterfeldtstr 5557</td><td>Kreditorenbuchhaltung</td><td>21</td><td>ltung</td><td>Kredi</td><td>Kreditorenbuchhaltung</td><td></td></tr>",
                            "<tr><td>29508</td><td>Zeiter Weg 6399</td><td>Einkaufsabteilung</td><td>17</td><td>ilung</td><td>Einka</td><td>Einkaufsabteilung</td><td></td></tr>",
                            "<tr><td>19603</td><td>Zimmerstr 371</td><td>Einkaufsabteilung</td><td>17</td><td>ilung</td><td>Einka</td><td>Einkaufsabteilung</td><td></td></tr>",
                            "<tr><td>17067</td><td>Zollhof 2822</td><td>#919</td><td>4</td><td>#919</td><td>#919</td><td>#919</td><td></td></tr>",
                            "<tr><td>28560</td><td>Zollstr 68</td><td>Verkaufsabteilung</td><td>17</td><td>ilung</td><td>Verka</td><td>Verkaufsabteilung</td><td></td></tr>",
                            "<tr><td>29768</td><td>Zollstr 680</td><td>Verkaufsabteilung</td><td>17</td><td>ilung</td><td>Verka</td><td>Verkaufsabteilung</td><td></td></tr>",
                            "</table>"
                        ]
                    }
                }
            ],
            "execution_count": 8
        },
        {
            "cell_type": "markdown",
            "source": [
                "## Beispiel 2: UPPER / LOWER\n",
                "\n",
                "In T-SQL konvertiert die LOWER()-Funktion alle Buchstaben eines gegebenen Zeichenkettenausdrucks in Kleinbuchstaben, während die UPPER()-Funktion alle Buchstaben in Großbuchstaben umwandelt."
            ],
            "metadata": {
                "azdata_cell_guid": "64f35911-d44f-4f91-815b-47689960a0ae"
            },
            "attachments": {}
        },
        {
            "cell_type": "code",
            "source": [
                "Select Top 10 FirstName, LastName from [AdventureWorks2017].[Person].[Person] order by LastName\r\n",
                "Select Top 10 FirstName, UPPER(LastName) as [LastName] from [AdventureWorks2017].[Person].[Person] order by LastName"
            ],
            "metadata": {
                "azdata_cell_guid": "8d619c53-7fbe-46d4-a883-3456008b81b0",
                "language": "sql"
            },
            "outputs": [
                {
                    "output_type": "display_data",
                    "data": {
                        "text/html": "(10 rows affected)"
                    },
                    "metadata": {}
                },
                {
                    "output_type": "display_data",
                    "data": {
                        "text/html": "(10 rows affected)"
                    },
                    "metadata": {}
                },
                {
                    "output_type": "display_data",
                    "data": {
                        "text/html": "Total execution time: 00:00:00.035"
                    },
                    "metadata": {}
                },
                {
                    "output_type": "execute_result",
                    "metadata": {},
                    "execution_count": 10,
                    "data": {
                        "application/vnd.dataresource+json": {
                            "schema": {
                                "fields": [
                                    {
                                        "name": "FirstName"
                                    },
                                    {
                                        "name": "LastName"
                                    }
                                ]
                            },
                            "data": [
                                {
                                    "FirstName": "Syed",
                                    "LastName": "Abbas"
                                },
                                {
                                    "FirstName": "Catherine",
                                    "LastName": "Abel"
                                },
                                {
                                    "FirstName": "Kim",
                                    "LastName": "Abercrombie"
                                },
                                {
                                    "FirstName": "Kim",
                                    "LastName": "Abercrombie"
                                },
                                {
                                    "FirstName": "Kim",
                                    "LastName": "Abercrombie"
                                },
                                {
                                    "FirstName": "Hazem",
                                    "LastName": "Abolrous"
                                },
                                {
                                    "FirstName": "Sam",
                                    "LastName": "Abolrous"
                                },
                                {
                                    "FirstName": "Humberto",
                                    "LastName": "Acevedo"
                                },
                                {
                                    "FirstName": "Gustavo",
                                    "LastName": "Achong"
                                },
                                {
                                    "FirstName": "Pilar",
                                    "LastName": "Ackerman"
                                }
                            ]
                        },
                        "text/html": [
                            "<table>",
                            "<tr><th>FirstName</th><th>LastName</th></tr>",
                            "<tr><td>Syed</td><td>Abbas</td></tr>",
                            "<tr><td>Catherine</td><td>Abel</td></tr>",
                            "<tr><td>Kim</td><td>Abercrombie</td></tr>",
                            "<tr><td>Kim</td><td>Abercrombie</td></tr>",
                            "<tr><td>Kim</td><td>Abercrombie</td></tr>",
                            "<tr><td>Hazem</td><td>Abolrous</td></tr>",
                            "<tr><td>Sam</td><td>Abolrous</td></tr>",
                            "<tr><td>Humberto</td><td>Acevedo</td></tr>",
                            "<tr><td>Gustavo</td><td>Achong</td></tr>",
                            "<tr><td>Pilar</td><td>Ackerman</td></tr>",
                            "</table>"
                        ]
                    }
                },
                {
                    "output_type": "execute_result",
                    "metadata": {},
                    "execution_count": 10,
                    "data": {
                        "application/vnd.dataresource+json": {
                            "schema": {
                                "fields": [
                                    {
                                        "name": "FirstName"
                                    },
                                    {
                                        "name": "LastName"
                                    }
                                ]
                            },
                            "data": [
                                {
                                    "FirstName": "Syed",
                                    "LastName": "ABBAS"
                                },
                                {
                                    "FirstName": "Catherine",
                                    "LastName": "ABEL"
                                },
                                {
                                    "FirstName": "Kim",
                                    "LastName": "ABERCROMBIE"
                                },
                                {
                                    "FirstName": "Kim",
                                    "LastName": "ABERCROMBIE"
                                },
                                {
                                    "FirstName": "Kim",
                                    "LastName": "ABERCROMBIE"
                                },
                                {
                                    "FirstName": "Sam",
                                    "LastName": "ABOLROUS"
                                },
                                {
                                    "FirstName": "Hazem",
                                    "LastName": "ABOLROUS"
                                },
                                {
                                    "FirstName": "Humberto",
                                    "LastName": "ACEVEDO"
                                },
                                {
                                    "FirstName": "Gustavo",
                                    "LastName": "ACHONG"
                                },
                                {
                                    "FirstName": "Pilar",
                                    "LastName": "ACKERMAN"
                                }
                            ]
                        },
                        "text/html": [
                            "<table>",
                            "<tr><th>FirstName</th><th>LastName</th></tr>",
                            "<tr><td>Syed</td><td>ABBAS</td></tr>",
                            "<tr><td>Catherine</td><td>ABEL</td></tr>",
                            "<tr><td>Kim</td><td>ABERCROMBIE</td></tr>",
                            "<tr><td>Kim</td><td>ABERCROMBIE</td></tr>",
                            "<tr><td>Kim</td><td>ABERCROMBIE</td></tr>",
                            "<tr><td>Sam</td><td>ABOLROUS</td></tr>",
                            "<tr><td>Hazem</td><td>ABOLROUS</td></tr>",
                            "<tr><td>Humberto</td><td>ACEVEDO</td></tr>",
                            "<tr><td>Gustavo</td><td>ACHONG</td></tr>",
                            "<tr><td>Pilar</td><td>ACKERMAN</td></tr>",
                            "</table>"
                        ]
                    }
                }
            ],
            "execution_count": 10
        },
        {
            "cell_type": "markdown",
            "source": [
                "## erster Buchstabe des Vornamens GROSS\n",
                "\n",
                "Wenn Sie sicherstellen möchten, dass der Vorname mit einem Großbuchstaben beginnt und der Rest des Vornamens in Kleinbuchstaben geschrieben ist, können Sie die UPPER(), LOWER() und LEFT() Funktionen in Kombination mit der RIGHT() Funktion verwenden:"
            ],
            "metadata": {
                "language": "sql",
                "azdata_cell_guid": "81c8be6d-74b6-43cb-a879-1d52c788c3c9"
            },
            "attachments": {}
        },
        {
            "cell_type": "code",
            "source": [
                "SELECT \r\n",
                "    TOP 10 \r\n",
                "    UPPER(LEFT(FirstName, 1)) + LOWER(RIGHT(FirstName, LEN(FirstName) - 1)) AS [FirstName],\r\n",
                "    UPPER(LastName) as [LastName]\r\n",
                "FROM \r\n",
                "    [AdventureWorks2017].[Person].[Person]\r\n",
                "ORDER BY \r\n",
                "    LastName;"
            ],
            "metadata": {
                "language": "sql",
                "azdata_cell_guid": "14a92d60-0b4a-47f8-a0b2-8eca80478e66"
            },
            "outputs": [],
            "execution_count": null
        },
        {
            "cell_type": "markdown",
            "source": [
                "# Beispiel 3: LTRIM, RTRIM, TRIM"
            ],
            "metadata": {
                "language": "sql",
                "azdata_cell_guid": "b6d20812-588c-414a-bc09-038b394da902"
            },
            "attachments": {}
        },
        {
            "cell_type": "code",
            "source": [
                "Declare @teststring as char(100) = ' Test xxx ' \r\n",
                "print '''' + @teststring + ''''\r\n",
                "--print '''' + @teststring + ''''\r\n",
                "--print len(@teststring)\r\n",
                "--print len(rtrim(@teststring))\r\n",
                "--print len(ltrim(rtrim(@teststring)))\r\n",
                "print '''' + ltrim(rtrim(@teststring)) + ''''"
            ],
            "metadata": {
                "language": "sql",
                "azdata_cell_guid": "cbcb0c9b-8299-409b-97a6-1fa3a38c4b62"
            },
            "outputs": [],
            "execution_count": null
        },
        {
            "cell_type": "code",
            "source": [
                "--print len(@teststring) -- das Leerzeichen am Ende wird automatisch entfernt\r\n",
                "--print len(rtrim(@teststring))\r\n",
                "print len(ltrim(rtrim(@teststring))) -- entfernt das Leerzeichen am Anfang & Ende\r\n",
                "print '''' + left(@teststring,6)+ ''''\r\n",
                "print '''' + ltrim(rtrim(left(@teststring,6))) + ''''"
            ],
            "metadata": {
                "language": "sql",
                "azdata_cell_guid": "089feba4-16cc-4885-9bdf-1af4ab5f82fd"
            },
            "outputs": [],
            "execution_count": null
        },
        {
            "cell_type": "code",
            "source": [
                "-- LTRIM/RTRIM entfernt keine geschütztes Leerzeichen ASCII 160\r\n",
                "Declare @teststring as char(100) = ' Test xxx ' + Char(160) + ' '\r\n",
                "print '''' + @teststring + '''' \r\n",
                "print len(@teststring)\r\n",
                "print len(rtrim(@teststring))\r\n",
                "print len(rtrim(ltrim(replace(@teststring,char(160),' '))))"
            ],
            "metadata": {
                "language": "sql",
                "azdata_cell_guid": "b86de70b-db51-496c-ab59-90430e29fea9"
            },
            "outputs": [],
            "execution_count": null
        },
        {
            "cell_type": "markdown",
            "source": [
                "## Beispiel 4: REPLACE\n",
                "\n",
                "Das REPLACE-Statement ermöglicht es, Zeichenketten innerhalb eines Textes durch andere Zeichenketten zu ersetzen."
            ],
            "metadata": {
                "azdata_cell_guid": "3a11c468-d556-40b4-bc84-0b4ef048c840"
            },
            "attachments": {}
        },
        {
            "cell_type": "markdown",
            "source": [
                "# Exkurs\n",
                "\n",
                "### Case Sensitive und Case Insensitive Suche"
            ],
            "metadata": {
                "language": "sql",
                "azdata_cell_guid": "4b111acf-bbcd-4dd7-8a7d-0886ece17637"
            },
            "attachments": {}
        },
        {
            "cell_type": "markdown",
            "source": [
                "Die Collation einer Datenbank gibt an, wie Zeichenketten (Strings) in der Datenbank verglichen und sortiert werden. Dabei steht \"CI\" für \"Case-Insensitive\", was bedeutet, dass bei einem Vergleich Groß- und Kleinschreibung nicht berücksichtigt wird.\n",
                "\n",
                "  \n",
                "\n",
                "Um die Collation einer Datenbank in SQL Server auszulesen, können Sie die systemeigene Funktion DATABASEPROPERTYEX verwenden. Hier ist das SQL-Statement, mit dem Sie die Collation einer Datenbank abfragen können:"
            ],
            "metadata": {
                "language": "sql",
                "azdata_cell_guid": "59de8f3b-3bd3-4787-bba6-4033a42586b7"
            },
            "attachments": {}
        },
        {
            "cell_type": "code",
            "source": [
                "SELECT DATABASEPROPERTYEX('DatenbankName', 'Collation') AS DatabaseCollation;"
            ],
            "metadata": {
                "language": "sql",
                "azdata_cell_guid": "b74ba5ac-e994-416e-ae59-94acd6697b0b"
            },
            "outputs": [],
            "execution_count": null
        },
        {
            "cell_type": "markdown",
            "source": [
                "Um zu überprüfen, ob die Collation \"Case-Insensitive\" (CI) ist, können Sie nach dem \"CI\" in der Collation-Zeichenfolge suchen:"
            ],
            "metadata": {
                "language": "sql",
                "azdata_cell_guid": "14c6f039-7ab6-467f-a4f2-34adddd87085"
            },
            "attachments": {}
        },
        {
            "cell_type": "code",
            "source": [
                "DECLARE @DBNAme nvarchar(MAX) = 'AdventureWorks2017'\r\n",
                "DECLARE @collation NVARCHAR(255)\r\n",
                "SET @collation = CONVERT(NVARCHAR(255), DATABASEPROPERTYEX(@DBNAme, 'Collation'))\r\n",
                "\r\n",
                "IF CHARINDEX('CI', @collation) > 0\r\n",
                "    PRINT 'Die Collation ist Case-Insensitive (CI)'\r\n",
                "ELSE\r\n",
                "    PRINT 'Die Collation berücksichtigt Groß- und Kleinschreibung'"
            ],
            "metadata": {
                "language": "sql",
                "azdata_cell_guid": "abf8acc1-1fa1-479d-9fe3-91fd590009ec",
                "tags": [
                    "hide_input"
                ]
            },
            "outputs": [],
            "execution_count": null
        },
        {
            "cell_type": "markdown",
            "source": [
                "## Case-Insensitive Suche\n",
                "\n",
                "Wenn die Datenbank als CI (Case-Insensitive) eingestellt ist, dann ist es egal, ob man nach groß oder kleingeschriebenen Worten sucht"
            ],
            "metadata": {
                "language": "sql",
                "azdata_cell_guid": "ba5389e4-1a7d-449f-8e8e-24ad6ddb3651"
            },
            "attachments": {}
        },
        {
            "cell_type": "code",
            "source": [
                "Select FirstName, UPPER(LastName) as [LastName] from [AdventureWorks2017].[Person].[Person]\r\n",
                "where UPPER(LastName) like '%ACKER%'\r\n",
                "\r\n",
                "Select FirstName, UPPER(LastName) as [LastName] from [AdventureWorks2017].[Person].[Person]\r\n",
                "where UPPER(LastName) like '%acker%'"
            ],
            "metadata": {
                "language": "sql",
                "azdata_cell_guid": "9a709dcb-a12e-4e0e-aedc-ae70d7096a49",
                "tags": [
                    "hide_input"
                ]
            },
            "outputs": [],
            "execution_count": null
        },
        {
            "cell_type": "markdown",
            "source": [
                "## Case-insensitive Filterung bei Case-sensitiven Daten\n",
                "\n",
                "### Möglichkeit 1:\n",
                "\n",
                "Der gegebene T-SQL-Code zeigt, wie man eine case-insensitive (Groß- und Kleinschreibung ignorierende) Filterung auf Daten durchführt, die in einer möglicherweise case-sensitiven (Groß- und Kleinschreibung beachtenden) Collation gespeichert sind.  \n",
                "\n",
                "Diese WHERE-Klausel filtert die Ergebnisse auf der Grundlage einer Bedingung:\n",
                "\n",
                "- <span style=\"color: var(--vscode-foreground);\">CHARINDEX(UPPER('ACKER'),UPPER(LastName)): Die CHARINDEX-Funktion sucht nach dem ersten Vorkommen des ersten angegebenen Strings im zweiten angegebenen String und gibt die Position (beginnend bei 1) des ersten Zeichens des ersten Vorkommens zurück. Wenn der String nicht gefunden wird, gibt die Funktion 0 zurück.&nbsp;</span> In dieser Abfrage werden sowohl der gesuchte String 'ACKER' als auch die LastName-Spalte der Tabelle mit der UPPER-Funktion in Großbuchstaben umgewandelt. Das bedeutet, dass die Suche unabhängig von der Groß- und Kleinschreibung erfolgt. \n",
                "- \\\\> 0: Dies stellt sicher, dass nur die Datensätze ausgewählt werden, bei denen der Nachname (LastName) den String 'ACKER' (unabhängig von der Groß- und Kleinschreibung) enthält."
            ],
            "metadata": {
                "language": "sql",
                "azdata_cell_guid": "8dfb19fd-93b9-43de-a492-b4099e7b5825"
            },
            "attachments": {}
        },
        {
            "cell_type": "code",
            "source": [
                "Select FirstName, UPPER(LastName) as [LastName] from [AdventureWorks2017].[Person].[Person]\r\n",
                "where CHARINDEX(UPPER('ACKER'),UPPER(LastName)) > 0"
            ],
            "metadata": {
                "language": "sql",
                "azdata_cell_guid": "7d7bd887-255b-44d2-b3cc-72fa82c5ce04"
            },
            "outputs": [],
            "execution_count": null
        },
        {
            "cell_type": "markdown",
            "source": [
                "### Möglichkeit 2:\n",
                "\n",
                "Die T-SQL-Abfrage gibt Vornamen und Nachnamen von Personen aus der Datenbank \\[AdventureWorks2017\\] zurück, wobei nur die Datensätze berücksichtigt werden, bei denen der Nachname den String \"ACKER\" enthält. Bei der Suche wird Groß- und Kleinschreibung unterschieden, Akzente jedoch ignoriert."
            ],
            "metadata": {
                "language": "sql",
                "azdata_cell_guid": "8b24f0a2-b871-499c-a043-609c1e24df4a"
            },
            "attachments": {}
        },
        {
            "cell_type": "code",
            "source": [
                "-- matched nicht\r\n",
                "Select FirstName, LastName as [LastName] from [AdventureWorks2017].[Person].[Person]\r\n",
                "where LastName like '%ACKER%'\r\n",
                "COLLATE Latin1_General_CS_AI"
            ],
            "metadata": {
                "language": "sql",
                "azdata_cell_guid": "cba8c65c-b101-4687-a735-fed41db9df6e"
            },
            "outputs": [
                {
                    "output_type": "display_data",
                    "data": {
                        "text/html": "(0 rows affected)"
                    },
                    "metadata": {}
                },
                {
                    "output_type": "display_data",
                    "data": {
                        "text/html": "Total execution time: 00:00:00.159"
                    },
                    "metadata": {}
                },
                {
                    "output_type": "execute_result",
                    "metadata": {},
                    "execution_count": 17,
                    "data": {
                        "application/vnd.dataresource+json": {
                            "schema": {
                                "fields": [
                                    {
                                        "name": "FirstName"
                                    },
                                    {
                                        "name": "LastName"
                                    }
                                ]
                            },
                            "data": []
                        },
                        "text/html": [
                            "<table>",
                            "<tr><th>FirstName</th><th>LastName</th></tr>",
                            "</table>"
                        ]
                    }
                }
            ],
            "execution_count": 17
        },
        {
            "cell_type": "code",
            "source": [
                "-- matched nicht\r\n",
                "Select FirstName, LastName as [LastName] from [AdventureWorks2017].[Person].[Person]\r\n",
                "where LastName like '%acker%'\r\n",
                "COLLATE Latin1_General_CS_AI"
            ],
            "metadata": {
                "language": "sql",
                "azdata_cell_guid": "55391a3d-9c5c-44c0-af4a-40390d146b05"
            },
            "outputs": [
                {
                    "output_type": "display_data",
                    "data": {
                        "text/html": "(0 rows affected)"
                    },
                    "metadata": {}
                },
                {
                    "output_type": "display_data",
                    "data": {
                        "text/html": "Total execution time: 00:00:00.018"
                    },
                    "metadata": {}
                },
                {
                    "output_type": "execute_result",
                    "metadata": {},
                    "execution_count": 20,
                    "data": {
                        "application/vnd.dataresource+json": {
                            "schema": {
                                "fields": [
                                    {
                                        "name": "FirstName"
                                    },
                                    {
                                        "name": "LastName"
                                    }
                                ]
                            },
                            "data": []
                        },
                        "text/html": [
                            "<table>",
                            "<tr><th>FirstName</th><th>LastName</th></tr>",
                            "</table>"
                        ]
                    }
                }
            ],
            "execution_count": 20
        },
        {
            "cell_type": "code",
            "source": [
                "-- matched\r\n",
                "Select FirstName, LastName as [LastName] from [AdventureWorks2017].[Person].[Person]\r\n",
                "where LastName like '%Acker%'\r\n",
                "COLLATE Latin1_General_CS_AI"
            ],
            "metadata": {
                "language": "sql",
                "azdata_cell_guid": "689d7fd7-8362-45f2-a336-6ff1b4ba19ec"
            },
            "outputs": [
                {
                    "output_type": "display_data",
                    "data": {
                        "text/html": "(2 rows affected)"
                    },
                    "metadata": {}
                },
                {
                    "output_type": "display_data",
                    "data": {
                        "text/html": "Total execution time: 00:00:00.032"
                    },
                    "metadata": {}
                },
                {
                    "output_type": "execute_result",
                    "metadata": {},
                    "execution_count": 18,
                    "data": {
                        "application/vnd.dataresource+json": {
                            "schema": {
                                "fields": [
                                    {
                                        "name": "FirstName"
                                    },
                                    {
                                        "name": "LastName"
                                    }
                                ]
                            },
                            "data": [
                                {
                                    "FirstName": "Pilar",
                                    "LastName": "Ackerman"
                                },
                                {
                                    "FirstName": "Pilar",
                                    "LastName": "Ackerman"
                                }
                            ]
                        },
                        "text/html": [
                            "<table>",
                            "<tr><th>FirstName</th><th>LastName</th></tr>",
                            "<tr><td>Pilar</td><td>Ackerman</td></tr>",
                            "<tr><td>Pilar</td><td>Ackerman</td></tr>",
                            "</table>"
                        ]
                    }
                }
            ],
            "execution_count": 18
        },
        {
            "cell_type": "code",
            "source": [
                "Select FirstName, LastName as [LastName] from [AdventureWorks2017].[Person].[Person]\r\n",
                "where LastName = 'Ackerman'\r\n",
                "COLLATE Latin1_General_CS_AI"
            ],
            "metadata": {
                "language": "sql",
                "azdata_cell_guid": "cca7bacf-7ffe-4f7c-beb8-21b1454c9ced"
            },
            "outputs": [
                {
                    "output_type": "display_data",
                    "data": {
                        "text/html": "(2 rows affected)"
                    },
                    "metadata": {}
                },
                {
                    "output_type": "display_data",
                    "data": {
                        "text/html": "Total execution time: 00:00:00.011"
                    },
                    "metadata": {}
                },
                {
                    "output_type": "execute_result",
                    "metadata": {},
                    "execution_count": 19,
                    "data": {
                        "application/vnd.dataresource+json": {
                            "schema": {
                                "fields": [
                                    {
                                        "name": "FirstName"
                                    },
                                    {
                                        "name": "LastName"
                                    }
                                ]
                            },
                            "data": [
                                {
                                    "FirstName": "Pilar",
                                    "LastName": "Ackerman"
                                },
                                {
                                    "FirstName": "Pilar",
                                    "LastName": "Ackerman"
                                }
                            ]
                        },
                        "text/html": [
                            "<table>",
                            "<tr><th>FirstName</th><th>LastName</th></tr>",
                            "<tr><td>Pilar</td><td>Ackerman</td></tr>",
                            "<tr><td>Pilar</td><td>Ackerman</td></tr>",
                            "</table>"
                        ]
                    }
                }
            ],
            "execution_count": 19
        },
        {
            "cell_type": "markdown",
            "source": [
                "## Case-sensitive Filterung bei case-insensitiven Daten"
            ],
            "metadata": {
                "language": "sql",
                "azdata_cell_guid": "f90afb07-fdad-4826-8259-87652dfb3924"
            },
            "attachments": {}
        },
        {
            "cell_type": "code",
            "source": [
                "Select FirstName, LastName as [LastName] from [AdventureWorks2017].[Person].[Person]\r\n",
                "where LastName like '%ACKER%'\r\n",
                "COLLATE SQL_Latin1_General_CP1_CS_AS"
            ],
            "metadata": {
                "language": "sql",
                "azdata_cell_guid": "c4db5703-4977-4d0e-9c84-19c2417d8771"
            },
            "outputs": [],
            "execution_count": null
        },
        {
            "cell_type": "code",
            "source": [
                "\r\n",
                "Select FirstName, LastName as [LastName] from [AdventureWorks2017].[Person].[Person]\r\n",
                "where LastName like '%Acker%'\r\n",
                "COLLATE SQL_Latin1_General_CP1_CS_AS"
            ],
            "metadata": {
                "language": "sql",
                "azdata_cell_guid": "3e171d5e-1af0-4f27-a291-8eee2d6ae2bf"
            },
            "outputs": [],
            "execution_count": null
        },
        {
            "cell_type": "code",
            "source": [
                "Select FirstName, LastName as [LastName] from [AdventureWorks2017].[Person].[Person]\r\n",
                "where LastName like '%ACKER%'"
            ],
            "metadata": {
                "language": "sql",
                "azdata_cell_guid": "6741b94f-5839-436b-92bd-fdcc6ea0e4d4"
            },
            "outputs": [],
            "execution_count": null
        },
        {
            "cell_type": "code",
            "source": [
                "Select FirstName, LastName as [LastName] from [AdventureWorks2017].[Person].[Person]\r\n",
                "where LastName like '%Acker%'\r\n",
                "COLLATE SQL_Latin1_General_CP1_CS_AS"
            ],
            "metadata": {
                "language": "sql",
                "azdata_cell_guid": "ef4fbe1a-f7cb-44e3-915b-1e90d2d48f93"
            },
            "outputs": [],
            "execution_count": null
        },
        {
            "cell_type": "markdown",
            "source": [
                "## Ebenen der Collation\n",
                "\n",
                "- Datenbank-Ebene ändern (nicht empfohlen): Sie können die Collation einer Datenbank ändern, indem Sie die Datenbank offline nehmen, die Collation mit ALTER DATABASE ändern und die Datenbank wieder online nehmen. Dies ist jedoch nicht empfohlen, da es nicht alle Objekte in der Datenbank ändert und Inkonsistenzen oder Fehler verursachen kann.\n",
                "- Neue Datenbank erstellen: Der sicherste Ansatz besteht darin, eine neue Datenbank mit der gewünschten Collation zu erstellen und alle Daten und Objekte aus der alten Datenbank zu dieser neuen Datenbank zu migrieren.\n",
                "- Spaltenebene: Wenn Sie nur die Collation einer bestimmten Spalte ändern möchten (anstatt der gesamten Datenbank), können Sie dies mit dem ALTER TABLE-Befehl tun:"
            ],
            "metadata": {
                "language": "sql",
                "azdata_cell_guid": "ab65fd8d-3d36-4070-80ae-69f06b727609"
            },
            "attachments": {}
        },
        {
            "cell_type": "code",
            "source": [
                "ALTER TABLE TableName\r\n",
                "ALTER COLUMN ColumnName VARCHAR(255) COLLATE NewCollationName;"
            ],
            "metadata": {
                "language": "sql",
                "azdata_cell_guid": "f403bcda-8ad2-44d1-b2dc-e8cbf7c576ed"
            },
            "outputs": [],
            "execution_count": null
        },
        {
            "cell_type": "code",
            "source": [
                "Declare @Var as varchar(100) = 'Beispeil 1'\r\n",
                "Select REPLACE(@Var,'Beispeil','Beispiel')"
            ],
            "metadata": {
                "azdata_cell_guid": "7705ce2c-6295-40e9-a9af-d1e799b519a0",
                "language": "sql"
            },
            "outputs": [
                {
                    "output_type": "display_data",
                    "data": {
                        "text/html": "(1 row affected)"
                    },
                    "metadata": {}
                },
                {
                    "output_type": "display_data",
                    "data": {
                        "text/html": "Total execution time: 00:00:00.010"
                    },
                    "metadata": {}
                },
                {
                    "output_type": "execute_result",
                    "metadata": {},
                    "execution_count": 2,
                    "data": {
                        "application/vnd.dataresource+json": {
                            "schema": {
                                "fields": [
                                    {
                                        "name": "(No column name)"
                                    }
                                ]
                            },
                            "data": [
                                {
                                    "(No column name)": "Beispiel 1"
                                }
                            ]
                        },
                        "text/html": [
                            "<table>",
                            "<tr><th>(No column name)</th></tr>",
                            "<tr><td>Beispiel 1</td></tr>",
                            "</table>"
                        ]
                    }
                }
            ],
            "execution_count": 2
        },
        {
            "cell_type": "markdown",
            "source": [
                "**Beachten der Collation**\n",
                "\n",
                "Collation beeinflusst die Art und Weise, wie Zeichenketten verglichen und sortiert werden. Das folgende Beispiel ersetzt Zeichen in"
            ],
            "metadata": {
                "azdata_cell_guid": "ce339153-86a2-4095-84ae-bbf3a4675d7d"
            },
            "attachments": {}
        },
        {
            "cell_type": "code",
            "source": [
                "-- Ersetzen von # durch Number\r\n",
                "SELECT [AddressID]\r\n",
                "      ,[AddressLine1]\r\n",
                "      ,[AddressLine2]\r\n",
                "      ,Replace([AddressLine2], '#', 'Number') as [AddressLine2_Modified]\r\n",
                "FROM [AdventureWorks2017].[Person].[Address]\r\n",
                "Where AddressLine2 like '%#%'"
            ],
            "metadata": {
                "azdata_cell_guid": "cd20790a-ef73-450f-88d6-220d09cc36a4",
                "language": "sql"
            },
            "outputs": [
                {
                    "output_type": "display_data",
                    "data": {
                        "text/html": "(204 rows affected)"
                    },
                    "metadata": {}
                },
                {
                    "output_type": "display_data",
                    "data": {
                        "text/html": "Total execution time: 00:00:00.047"
                    },
                    "metadata": {}
                },
                {
                    "output_type": "execute_result",
                    "metadata": {},
                    "execution_count": 3,
                    "data": {
                        "application/vnd.dataresource+json": {
                            "schema": {
                                "fields": [
                                    {
                                        "name": "AddressID"
                                    },
                                    {
                                        "name": "AddressLine1"
                                    },
                                    {
                                        "name": "AddressLine2"
                                    },
                                    {
                                        "name": "AddressLine2_Modified"
                                    }
                                ]
                            },
                            "data": [
                                {
                                    "AddressID": "12420",
                                    "AddressLine1": "1119 Elderwood Dr.",
                                    "AddressLine2": "#3",
                                    "AddressLine2_Modified": "Number3"
                                },
                                {
                                    "AddressID": "18507",
                                    "AddressLine1": "1163 Bella Vista",
                                    "AddressLine2": "# 003",
                                    "AddressLine2_Modified": "Number 003"
                                },
                                {
                                    "AddressID": "18770",
                                    "AddressLine1": "1345 Blocking Circle",
                                    "AddressLine2": "#3",
                                    "AddressLine2_Modified": "Number3"
                                },
                                {
                                    "AddressID": "18486",
                                    "AddressLine1": "1378 California St.",
                                    "AddressLine2": "#c",
                                    "AddressLine2_Modified": "Numberc"
                                },
                                {
                                    "AddressID": "18382",
                                    "AddressLine1": "138 Lancelot Dr.",
                                    "AddressLine2": "# 105",
                                    "AddressLine2_Modified": "Number 105"
                                },
                                {
                                    "AddressID": "13503",
                                    "AddressLine1": "1431 Rancho View Drive",
                                    "AddressLine2": "# 14",
                                    "AddressLine2_Modified": "Number 14"
                                },
                                {
                                    "AddressID": "16187",
                                    "AddressLine1": "1506 Grading Way",
                                    "AddressLine2": "#62",
                                    "AddressLine2_Modified": "Number62"
                                },
                                {
                                    "AddressID": "16638",
                                    "AddressLine1": "1525 Waterhigh St",
                                    "AddressLine2": "# 198",
                                    "AddressLine2_Modified": "Number 198"
                                },
                                {
                                    "AddressID": "15940",
                                    "AddressLine1": "1538 Mt. Diablo St.",
                                    "AddressLine2": "# 147",
                                    "AddressLine2_Modified": "Number 147"
                                },
                                {
                                    "AddressID": "12828",
                                    "AddressLine1": "1590 Mildred Ln.",
                                    "AddressLine2": "#35",
                                    "AddressLine2_Modified": "Number35"
                                },
                                {
                                    "AddressID": "17615",
                                    "AddressLine1": "1739 Sun View Terr",
                                    "AddressLine2": "#315",
                                    "AddressLine2_Modified": "Number315"
                                },
                                {
                                    "AddressID": "18559",
                                    "AddressLine1": "1941 Pinecrest Court",
                                    "AddressLine2": "#611",
                                    "AddressLine2_Modified": "Number611"
                                },
                                {
                                    "AddressID": "16741",
                                    "AddressLine1": "197 Adobe Dr",
                                    "AddressLine2": "# 999",
                                    "AddressLine2_Modified": "Number 999"
                                },
                                {
                                    "AddressID": "358",
                                    "AddressLine1": "20 Rambling Rose Ave.",
                                    "AddressLine2": "# 003",
                                    "AddressLine2_Modified": "Number 003"
                                },
                                {
                                    "AddressID": "17672",
                                    "AddressLine1": "2013 Filling Ave.",
                                    "AddressLine2": "#3",
                                    "AddressLine2_Modified": "Number3"
                                },
                                {
                                    "AddressID": "15765",
                                    "AddressLine1": "2039 Doon Cr",
                                    "AddressLine2": "# 120",
                                    "AddressLine2_Modified": "Number 120"
                                },
                                {
                                    "AddressID": "12195",
                                    "AddressLine1": "2049 Benedict Court",
                                    "AddressLine2": "# 11",
                                    "AddressLine2_Modified": "Number 11"
                                },
                                {
                                    "AddressID": "12685",
                                    "AddressLine1": "2060 Hill Dr",
                                    "AddressLine2": "# 108",
                                    "AddressLine2_Modified": "Number 108"
                                },
                                {
                                    "AddressID": "17939",
                                    "AddressLine1": "2098 Crown Ct",
                                    "AddressLine2": "# 235",
                                    "AddressLine2_Modified": "Number 235"
                                },
                                {
                                    "AddressID": "12436",
                                    "AddressLine1": "2098 Crown Ct",
                                    "AddressLine2": "# 235",
                                    "AddressLine2_Modified": "Number 235"
                                },
                                {
                                    "AddressID": "14162",
                                    "AddressLine1": "2171 H Stagecoach Rd",
                                    "AddressLine2": "#77",
                                    "AddressLine2_Modified": "Number77"
                                },
                                {
                                    "AddressID": "12082",
                                    "AddressLine1": "220 Rambling Rose Ave.",
                                    "AddressLine2": "# 003",
                                    "AddressLine2_Modified": "Number 003"
                                },
                                {
                                    "AddressID": "13713",
                                    "AddressLine1": "2304 La Canada",
                                    "AddressLine2": "# 13",
                                    "AddressLine2_Modified": "Number 13"
                                },
                                {
                                    "AddressID": "12802",
                                    "AddressLine1": "2479 Killdeer Court",
                                    "AddressLine2": "# 120",
                                    "AddressLine2_Modified": "Number 120"
                                },
                                {
                                    "AddressID": "14873",
                                    "AddressLine1": "2529 Terrace Dr",
                                    "AddressLine2": "#5",
                                    "AddressLine2_Modified": "Number5"
                                },
                                {
                                    "AddressID": "15851",
                                    "AddressLine1": "253 El Pueblo Place",
                                    "AddressLine2": "# 1211",
                                    "AddressLine2_Modified": "Number 1211"
                                },
                                {
                                    "AddressID": "13529",
                                    "AddressLine1": "2546 Woodchuck Pl",
                                    "AddressLine2": "# 2",
                                    "AddressLine2_Modified": "Number 2"
                                },
                                {
                                    "AddressID": "14212",
                                    "AddressLine1": "2572 Hill Dr",
                                    "AddressLine2": "# 2",
                                    "AddressLine2_Modified": "Number 2"
                                },
                                {
                                    "AddressID": "18471",
                                    "AddressLine1": "2578 Welle Road",
                                    "AddressLine2": "# 118",
                                    "AddressLine2_Modified": "Number 118"
                                },
                                {
                                    "AddressID": "12626",
                                    "AddressLine1": "2679 Eagle Peak",
                                    "AddressLine2": "#7",
                                    "AddressLine2_Modified": "Number7"
                                },
                                {
                                    "AddressID": "16040",
                                    "AddressLine1": "2687 Apollo Way",
                                    "AddressLine2": "# 213",
                                    "AddressLine2_Modified": "Number 213"
                                },
                                {
                                    "AddressID": "16403",
                                    "AddressLine1": "2703 Freda Dr.",
                                    "AddressLine2": "# 13",
                                    "AddressLine2_Modified": "Number 13"
                                },
                                {
                                    "AddressID": "17885",
                                    "AddressLine1": "2710 Roux Court",
                                    "AddressLine2": "#3202",
                                    "AddressLine2_Modified": "Number3202"
                                },
                                {
                                    "AddressID": "17891",
                                    "AddressLine1": "2775 Delta View Ln.",
                                    "AddressLine2": "#9",
                                    "AddressLine2_Modified": "Number9"
                                },
                                {
                                    "AddressID": "13382",
                                    "AddressLine1": "2785 Fallbrook Road",
                                    "AddressLine2": "# 10",
                                    "AddressLine2_Modified": "Number 10"
                                },
                                {
                                    "AddressID": "388",
                                    "AddressLine1": "2834 Clifford Court",
                                    "AddressLine2": "#9",
                                    "AddressLine2_Modified": "Number9"
                                },
                                {
                                    "AddressID": "18103",
                                    "AddressLine1": "2886 Chaparral Court",
                                    "AddressLine2": "Space # 45",
                                    "AddressLine2_Modified": "Space Number 45"
                                },
                                {
                                    "AddressID": "13514",
                                    "AddressLine1": "2886 Chaparral Court",
                                    "AddressLine2": "Space # 45",
                                    "AddressLine2_Modified": "Space Number 45"
                                },
                                {
                                    "AddressID": "12712",
                                    "AddressLine1": "3029 Pastime Dr",
                                    "AddressLine2": "# 2",
                                    "AddressLine2_Modified": "Number 2"
                                },
                                {
                                    "AddressID": "102",
                                    "AddressLine1": "3029 Pastime Dr",
                                    "AddressLine2": "# 2",
                                    "AddressLine2_Modified": "Number 2"
                                },
                                {
                                    "AddressID": "12406",
                                    "AddressLine1": "306 Winter Drive",
                                    "AddressLine2": "# 4d",
                                    "AddressLine2_Modified": "Number 4d"
                                },
                                {
                                    "AddressID": "12124",
                                    "AddressLine1": "3083 Boatwright Dr.",
                                    "AddressLine2": "#6",
                                    "AddressLine2_Modified": "Number6"
                                },
                                {
                                    "AddressID": "13289",
                                    "AddressLine1": "3121 Spar Court",
                                    "AddressLine2": "#511",
                                    "AddressLine2_Modified": "Number511"
                                },
                                {
                                    "AddressID": "16657",
                                    "AddressLine1": "3168 True Drive",
                                    "AddressLine2": "#118",
                                    "AddressLine2_Modified": "Number118"
                                },
                                {
                                    "AddressID": "11739",
                                    "AddressLine1": "3187 Westwood Court",
                                    "AddressLine2": "#71",
                                    "AddressLine2_Modified": "Number71"
                                },
                                {
                                    "AddressID": "11731",
                                    "AddressLine1": "3200 Wren Ave.",
                                    "AddressLine2": "#107",
                                    "AddressLine2_Modified": "Number107"
                                },
                                {
                                    "AddressID": "12699",
                                    "AddressLine1": "3243 Buckingham Dr.",
                                    "AddressLine2": "# 207",
                                    "AddressLine2_Modified": "Number 207"
                                },
                                {
                                    "AddressID": "101",
                                    "AddressLine1": "3243 Buckingham Dr.",
                                    "AddressLine2": "# 207",
                                    "AddressLine2_Modified": "Number 207"
                                },
                                {
                                    "AddressID": "11995",
                                    "AddressLine1": "3248 Birdhaven Court",
                                    "AddressLine2": "# 1",
                                    "AddressLine2_Modified": "Number 1"
                                },
                                {
                                    "AddressID": "12896",
                                    "AddressLine1": "3287 Corte Poquito",
                                    "AddressLine2": "# 2",
                                    "AddressLine2_Modified": "Number 2"
                                },
                                {
                                    "AddressID": "12270",
                                    "AddressLine1": "3302 Trujillo",
                                    "AddressLine2": "# 112",
                                    "AddressLine2_Modified": "Number 112"
                                },
                                {
                                    "AddressID": "12990",
                                    "AddressLine1": "3302 Trujillo",
                                    "AddressLine2": "# 112",
                                    "AddressLine2_Modified": "Number 112"
                                },
                                {
                                    "AddressID": "17363",
                                    "AddressLine1": "3304 East Narrows Drive",
                                    "AddressLine2": "# 003",
                                    "AddressLine2_Modified": "Number 003"
                                },
                                {
                                    "AddressID": "15515",
                                    "AddressLine1": "3328 North Wateroak Ct",
                                    "AddressLine2": "#8",
                                    "AddressLine2_Modified": "Number8"
                                },
                                {
                                    "AddressID": "11875",
                                    "AddressLine1": "3365 Atherton Circle",
                                    "AddressLine2": "# 11",
                                    "AddressLine2_Modified": "Number 11"
                                },
                                {
                                    "AddressID": "15357",
                                    "AddressLine1": "3365 Atherton Circle",
                                    "AddressLine2": "# 13",
                                    "AddressLine2_Modified": "Number 13"
                                },
                                {
                                    "AddressID": "12257",
                                    "AddressLine1": "3469 Relief Valley Ct.",
                                    "AddressLine2": "# 22",
                                    "AddressLine2_Modified": "Number 22"
                                },
                                {
                                    "AddressID": "384",
                                    "AddressLine1": "35 Buckthorn Court",
                                    "AddressLine2": "# 1",
                                    "AddressLine2_Modified": "Number 1"
                                },
                                {
                                    "AddressID": "14300",
                                    "AddressLine1": "3521 Fourth St.",
                                    "AddressLine2": "#607",
                                    "AddressLine2_Modified": "Number607"
                                },
                                {
                                    "AddressID": "18293",
                                    "AddressLine1": "3521 Fourth St.",
                                    "AddressLine2": "#607",
                                    "AddressLine2_Modified": "Number607"
                                },
                                {
                                    "AddressID": "13765",
                                    "AddressLine1": "3558 Pebble Glen Drive",
                                    "AddressLine2": "# 214",
                                    "AddressLine2_Modified": "Number 214"
                                },
                                {
                                    "AddressID": "17391",
                                    "AddressLine1": "3558 Pebble Glen Drive",
                                    "AddressLine2": "# 214",
                                    "AddressLine2_Modified": "Number 214"
                                },
                                {
                                    "AddressID": "18754",
                                    "AddressLine1": "3562 East Ave.",
                                    "AddressLine2": "# 4",
                                    "AddressLine2_Modified": "Number 4"
                                },
                                {
                                    "AddressID": "12041",
                                    "AddressLine1": "3593 Buckthorn Court",
                                    "AddressLine2": "# 1",
                                    "AddressLine2_Modified": "Number 1"
                                },
                                {
                                    "AddressID": "13560",
                                    "AddressLine1": "3601 Stinson",
                                    "AddressLine2": "#7",
                                    "AddressLine2_Modified": "Number7"
                                },
                                {
                                    "AddressID": "11696",
                                    "AddressLine1": "3608 Sinclair Avenue",
                                    "AddressLine2": "# 701",
                                    "AddressLine2_Modified": "Number 701"
                                },
                                {
                                    "AddressID": "17819",
                                    "AddressLine1": "3757 Brook Hollow Ct",
                                    "AddressLine2": "# 101",
                                    "AddressLine2_Modified": "Number 101"
                                },
                                {
                                    "AddressID": "11906",
                                    "AddressLine1": "3757 Brook Hollow Ct",
                                    "AddressLine2": "# 101",
                                    "AddressLine2_Modified": "Number 101"
                                },
                                {
                                    "AddressID": "11724",
                                    "AddressLine1": "3800 Breck Court",
                                    "AddressLine2": "# 60",
                                    "AddressLine2_Modified": "Number 60"
                                },
                                {
                                    "AddressID": "17978",
                                    "AddressLine1": "3812 Roundtree Drive",
                                    "AddressLine2": "#5",
                                    "AddressLine2_Modified": "Number5"
                                },
                                {
                                    "AddressID": "12806",
                                    "AddressLine1": "3831 Golden Gate Way",
                                    "AddressLine2": "# 203",
                                    "AddressLine2_Modified": "Number 203"
                                },
                                {
                                    "AddressID": "13332",
                                    "AddressLine1": "3836 Deer Meadow Way",
                                    "AddressLine2": "# 174",
                                    "AddressLine2_Modified": "Number 174"
                                },
                                {
                                    "AddressID": "260",
                                    "AddressLine1": "3884 Beauty Street",
                                    "AddressLine2": "# 14",
                                    "AddressLine2_Modified": "Number 14"
                                },
                                {
                                    "AddressID": "13449",
                                    "AddressLine1": "3960 Temple Drive",
                                    "AddressLine2": "#304",
                                    "AddressLine2_Modified": "Number304"
                                },
                                {
                                    "AddressID": "13488",
                                    "AddressLine1": "3989 Terrace Drive",
                                    "AddressLine2": "#55",
                                    "AddressLine2_Modified": "Number55"
                                },
                                {
                                    "AddressID": "15398",
                                    "AddressLine1": "4024 Montana",
                                    "AddressLine2": "# 113",
                                    "AddressLine2_Modified": "Number 113"
                                },
                                {
                                    "AddressID": "13027",
                                    "AddressLine1": "4024 Montana",
                                    "AddressLine2": "# 113",
                                    "AddressLine2_Modified": "Number 113"
                                },
                                {
                                    "AddressID": "16380",
                                    "AddressLine1": "4091 Silver Oaks Place",
                                    "AddressLine2": "# 105",
                                    "AddressLine2_Modified": "Number 105"
                                },
                                {
                                    "AddressID": "12364",
                                    "AddressLine1": "419 River Ash Court",
                                    "AddressLine2": "#9",
                                    "AddressLine2_Modified": "Number9"
                                },
                                {
                                    "AddressID": "331",
                                    "AddressLine1": "419 River Ash Court",
                                    "AddressLine2": "#9",
                                    "AddressLine2_Modified": "Number9"
                                },
                                {
                                    "AddressID": "12985",
                                    "AddressLine1": "4197 Ironwood Drive",
                                    "AddressLine2": "# 1",
                                    "AddressLine2_Modified": "Number 1"
                                },
                                {
                                    "AddressID": "14246",
                                    "AddressLine1": "4299 Vernal Drive",
                                    "AddressLine2": "# 132",
                                    "AddressLine2_Modified": "Number 132"
                                },
                                {
                                    "AddressID": "13824",
                                    "AddressLine1": "4348 Lilac Circle",
                                    "AddressLine2": "#6",
                                    "AddressLine2_Modified": "Number6"
                                },
                                {
                                    "AddressID": "18459",
                                    "AddressLine1": "4501 Terrace Road",
                                    "AddressLine2": "#60",
                                    "AddressLine2_Modified": "Number60"
                                },
                                {
                                    "AddressID": "15986",
                                    "AddressLine1": "4513 Ten Penny Lane",
                                    "AddressLine2": "#3",
                                    "AddressLine2_Modified": "Number3"
                                },
                                {
                                    "AddressID": "13344",
                                    "AddressLine1": "4518 Sequoia Drive",
                                    "AddressLine2": "# 2",
                                    "AddressLine2_Modified": "Number 2"
                                },
                                {
                                    "AddressID": "12000",
                                    "AddressLine1": "4525 El Pueblo Pl.",
                                    "AddressLine2": "#6",
                                    "AddressLine2_Modified": "Number6"
                                },
                                {
                                    "AddressID": "12126",
                                    "AddressLine1": "4619 Ricardo Drive",
                                    "AddressLine2": "# 233",
                                    "AddressLine2_Modified": "Number 233"
                                },
                                {
                                    "AddressID": "13535",
                                    "AddressLine1": "4629 Candle Dr",
                                    "AddressLine2": "#30",
                                    "AddressLine2_Modified": "Number30"
                                },
                                {
                                    "AddressID": "15373",
                                    "AddressLine1": "4689 Deerwood Court",
                                    "AddressLine2": "#512",
                                    "AddressLine2_Modified": "Number512"
                                },
                                {
                                    "AddressID": "14026",
                                    "AddressLine1": "4746 Clear Court",
                                    "AddressLine2": "# 45",
                                    "AddressLine2_Modified": "Number 45"
                                },
                                {
                                    "AddressID": "11411",
                                    "AddressLine1": "4746 Clear Court",
                                    "AddressLine2": "# 61",
                                    "AddressLine2_Modified": "Number 61"
                                },
                                {
                                    "AddressID": "12182",
                                    "AddressLine1": "4837 Melrose Place",
                                    "AddressLine2": "# 1",
                                    "AddressLine2_Modified": "Number 1"
                                },
                                {
                                    "AddressID": "12367",
                                    "AddressLine1": "4865 A St.",
                                    "AddressLine2": "# 260",
                                    "AddressLine2_Modified": "Number 260"
                                },
                                {
                                    "AddressID": "17874",
                                    "AddressLine1": "4927 Virgil Street",
                                    "AddressLine2": "# 21",
                                    "AddressLine2_Modified": "Number 21"
                                },
                                {
                                    "AddressID": "17734",
                                    "AddressLine1": "4948 Muy Verde",
                                    "AddressLine2": "#52",
                                    "AddressLine2_Modified": "Number52"
                                },
                                {
                                    "AddressID": "16636",
                                    "AddressLine1": "498 Willow Pass Rd",
                                    "AddressLine2": "#61",
                                    "AddressLine2_Modified": "Number61"
                                },
                                {
                                    "AddressID": "15423",
                                    "AddressLine1": "5038 Candy Rd",
                                    "AddressLine2": "# 126",
                                    "AddressLine2_Modified": "Number 126"
                                },
                                {
                                    "AddressID": "17622",
                                    "AddressLine1": "5041 Stillwater Court",
                                    "AddressLine2": "# 205",
                                    "AddressLine2_Modified": "Number 205"
                                },
                                {
                                    "AddressID": "12222",
                                    "AddressLine1": "5045 Vancouver Way",
                                    "AddressLine2": "# 133",
                                    "AddressLine2_Modified": "Number 133"
                                },
                                {
                                    "AddressID": "13571",
                                    "AddressLine1": "5056 Anchor Ave",
                                    "AddressLine2": "#511",
                                    "AddressLine2_Modified": "Number511"
                                },
                                {
                                    "AddressID": "83",
                                    "AddressLine1": "5379 Treasure Island Way",
                                    "AddressLine2": "# 14",
                                    "AddressLine2_Modified": "Number 14"
                                },
                                {
                                    "AddressID": "15807",
                                    "AddressLine1": "543 Sand Pointe Lane",
                                    "AddressLine2": "Box #311",
                                    "AddressLine2_Modified": "Box Number311"
                                },
                                {
                                    "AddressID": "13192",
                                    "AddressLine1": "5436 Clear",
                                    "AddressLine2": "# 101",
                                    "AddressLine2_Modified": "Number 101"
                                },
                                {
                                    "AddressID": "11747",
                                    "AddressLine1": "5485 Wee Donegal",
                                    "AddressLine2": "# 77",
                                    "AddressLine2_Modified": "Number 77"
                                },
                                {
                                    "AddressID": "16043",
                                    "AddressLine1": "551 Almond Ave",
                                    "AddressLine2": "#30",
                                    "AddressLine2_Modified": "Number30"
                                },
                                {
                                    "AddressID": "18792",
                                    "AddressLine1": "5518 Baldwin Dr.",
                                    "AddressLine2": "# 215",
                                    "AddressLine2_Modified": "Number 215"
                                },
                                {
                                    "AddressID": "15549",
                                    "AddressLine1": "5533 Fremont Street",
                                    "AddressLine2": "# 113",
                                    "AddressLine2_Modified": "Number 113"
                                },
                                {
                                    "AddressID": "11527",
                                    "AddressLine1": "579 Meager Dr.",
                                    "AddressLine2": "# 1",
                                    "AddressLine2_Modified": "Number 1"
                                },
                                {
                                    "AddressID": "18490",
                                    "AddressLine1": "5823 Trail Way",
                                    "AddressLine2": "# 208",
                                    "AddressLine2_Modified": "Number 208"
                                },
                                {
                                    "AddressID": "17675",
                                    "AddressLine1": "5854 Baird Court",
                                    "AddressLine2": "# 212",
                                    "AddressLine2_Modified": "Number 212"
                                },
                                {
                                    "AddressID": "17628",
                                    "AddressLine1": "5854 Baird Court",
                                    "AddressLine2": "# 212",
                                    "AddressLine2_Modified": "Number 212"
                                },
                                {
                                    "AddressID": "18995",
                                    "AddressLine1": "591 Laguna Street",
                                    "AddressLine2": "# 439",
                                    "AddressLine2_Modified": "Number 439"
                                },
                                {
                                    "AddressID": "15560",
                                    "AddressLine1": "5960 Cross Road",
                                    "AddressLine2": "# 20",
                                    "AddressLine2_Modified": "Number 20"
                                },
                                {
                                    "AddressID": "17909",
                                    "AddressLine1": "6002 Hickory Drive",
                                    "AddressLine2": "Studio # 403",
                                    "AddressLine2_Modified": "Studio Number 403"
                                },
                                {
                                    "AddressID": "15003",
                                    "AddressLine1": "6002 Hickory Drive",
                                    "AddressLine2": "Studio # 403",
                                    "AddressLine2_Modified": "Studio Number 403"
                                },
                                {
                                    "AddressID": "365",
                                    "AddressLine1": "6030 Winter Drive",
                                    "AddressLine2": "# 4d",
                                    "AddressLine2_Modified": "Number 4d"
                                },
                                {
                                    "AddressID": "158",
                                    "AddressLine1": "6058 Hill Street",
                                    "AddressLine2": "# 4",
                                    "AddressLine2_Modified": "Number 4"
                                },
                                {
                                    "AddressID": "12774",
                                    "AddressLine1": "6114 North Park Court",
                                    "AddressLine2": "# 12",
                                    "AddressLine2_Modified": "Number 12"
                                },
                                {
                                    "AddressID": "18326",
                                    "AddressLine1": "6114 North Park Court",
                                    "AddressLine2": "# 12",
                                    "AddressLine2_Modified": "Number 12"
                                },
                                {
                                    "AddressID": "18090",
                                    "AddressLine1": "6120 Evergreen Ct.",
                                    "AddressLine2": "# 126",
                                    "AddressLine2_Modified": "Number 126"
                                },
                                {
                                    "AddressID": "16908",
                                    "AddressLine1": "6140 Nightingale Drive",
                                    "AddressLine2": "# 79",
                                    "AddressLine2_Modified": "Number 79"
                                },
                                {
                                    "AddressID": "17637",
                                    "AddressLine1": "6179 Norris Court",
                                    "AddressLine2": "# 1104",
                                    "AddressLine2_Modified": "Number 1104"
                                },
                                {
                                    "AddressID": "16573",
                                    "AddressLine1": "6179 Norris Court",
                                    "AddressLine2": "# 9",
                                    "AddressLine2_Modified": "Number 9"
                                },
                                {
                                    "AddressID": "12026",
                                    "AddressLine1": "6196 Nottingham Place",
                                    "AddressLine2": "#313",
                                    "AddressLine2_Modified": "Number313"
                                },
                                {
                                    "AddressID": "18755",
                                    "AddressLine1": "6258 Stinson",
                                    "AddressLine2": "#8",
                                    "AddressLine2_Modified": "Number8"
                                },
                                {
                                    "AddressID": "15880",
                                    "AddressLine1": "6441 Clear Court",
                                    "AddressLine2": "#501",
                                    "AddressLine2_Modified": "Number501"
                                },
                                {
                                    "AddressID": "12854",
                                    "AddressLine1": "6532 Pinecrest Rd",
                                    "AddressLine2": "#508",
                                    "AddressLine2_Modified": "Number508"
                                },
                                {
                                    "AddressID": "13463",
                                    "AddressLine1": "6650 Contuti Avenue",
                                    "AddressLine2": "# 135",
                                    "AddressLine2_Modified": "Number 135"
                                },
                                {
                                    "AddressID": "17751",
                                    "AddressLine1": "6713 Castle Rock",
                                    "AddressLine2": "#3",
                                    "AddressLine2_Modified": "Number3"
                                },
                                {
                                    "AddressID": "14960",
                                    "AddressLine1": "6719 Santa Teresa Dr",
                                    "AddressLine2": "# 1117",
                                    "AddressLine2_Modified": "Number 1117"
                                },
                                {
                                    "AddressID": "15484",
                                    "AddressLine1": "673 Hawes St.",
                                    "AddressLine2": "# 119 A",
                                    "AddressLine2_Modified": "Number 119 A"
                                },
                                {
                                    "AddressID": "15525",
                                    "AddressLine1": "6732 Arcadia Pl.",
                                    "AddressLine2": "#e",
                                    "AddressLine2_Modified": "Numbere"
                                },
                                {
                                    "AddressID": "18661",
                                    "AddressLine1": "6732 Arcadia Pl.",
                                    "AddressLine2": "#e",
                                    "AddressLine2_Modified": "Numbere"
                                },
                                {
                                    "AddressID": "11837",
                                    "AddressLine1": "6754 Pampered Ct.",
                                    "AddressLine2": "# 19",
                                    "AddressLine2_Modified": "Number 19"
                                },
                                {
                                    "AddressID": "12471",
                                    "AddressLine1": "6812 Sands Circle",
                                    "AddressLine2": "# 163",
                                    "AddressLine2_Modified": "Number 163"
                                },
                                {
                                    "AddressID": "16371",
                                    "AddressLine1": "6828 Willow Pass Road",
                                    "AddressLine2": "#5",
                                    "AddressLine2_Modified": "Number5"
                                },
                                {
                                    "AddressID": "18207",
                                    "AddressLine1": "6915 San Ramon Valley Blvd.",
                                    "AddressLine2": "#6",
                                    "AddressLine2_Modified": "Number6"
                                },
                                {
                                    "AddressID": "16739",
                                    "AddressLine1": "692 Brook Way",
                                    "AddressLine2": "#1988",
                                    "AddressLine2_Modified": "Number1988"
                                },
                                {
                                    "AddressID": "17667",
                                    "AddressLine1": "6963 Santa Monica Drive",
                                    "AddressLine2": "# 4",
                                    "AddressLine2_Modified": "Number 4"
                                },
                                {
                                    "AddressID": "12486",
                                    "AddressLine1": "6984 Wardlow Lane",
                                    "AddressLine2": "# 116",
                                    "AddressLine2_Modified": "Number 116"
                                },
                                {
                                    "AddressID": "16813",
                                    "AddressLine1": "6985 Pecan Street",
                                    "AddressLine2": "# 786",
                                    "AddressLine2_Modified": "Number 786"
                                },
                                {
                                    "AddressID": "13798",
                                    "AddressLine1": "700 Oaxaca",
                                    "AddressLine2": "# 17",
                                    "AddressLine2_Modified": "Number 17"
                                },
                                {
                                    "AddressID": "14214",
                                    "AddressLine1": "7013 Cimarron Drive",
                                    "AddressLine2": "# 110",
                                    "AddressLine2_Modified": "Number 110"
                                },
                                {
                                    "AddressID": "16963",
                                    "AddressLine1": "71 Tobi Drive",
                                    "AddressLine2": "# 778",
                                    "AddressLine2_Modified": "Number 778"
                                },
                                {
                                    "AddressID": "18157",
                                    "AddressLine1": "7111 Atchinson Stage Ct",
                                    "AddressLine2": "# 180",
                                    "AddressLine2_Modified": "Number 180"
                                },
                                {
                                    "AddressID": "14828",
                                    "AddressLine1": "7153 Bellord Ct",
                                    "AddressLine2": "# 18",
                                    "AddressLine2_Modified": "Number 18"
                                },
                                {
                                    "AddressID": "16749",
                                    "AddressLine1": "7290 Mt. Hood Circle",
                                    "AddressLine2": "#176",
                                    "AddressLine2_Modified": "Number176"
                                },
                                {
                                    "AddressID": "15985",
                                    "AddressLine1": "7390 Pinehurst Court",
                                    "AddressLine2": "#524",
                                    "AddressLine2_Modified": "Number524"
                                },
                                {
                                    "AddressID": "12363",
                                    "AddressLine1": "7468 Lindley Ct.",
                                    "AddressLine2": "#8a",
                                    "AddressLine2_Modified": "Number8a"
                                },
                                {
                                    "AddressID": "16443",
                                    "AddressLine1": "7503 Sheffield Place",
                                    "AddressLine2": "# 19",
                                    "AddressLine2_Modified": "Number 19"
                                },
                                {
                                    "AddressID": "13230",
                                    "AddressLine1": "7550 Carzino Ct",
                                    "AddressLine2": "# 1",
                                    "AddressLine2_Modified": "Number 1"
                                },
                                {
                                    "AddressID": "18339",
                                    "AddressLine1": "7569 Sierra Drive",
                                    "AddressLine2": "# 105",
                                    "AddressLine2_Modified": "Number 105"
                                },
                                {
                                    "AddressID": "14929",
                                    "AddressLine1": "7573 Star Dr",
                                    "AddressLine2": "#5188",
                                    "AddressLine2_Modified": "Number5188"
                                },
                                {
                                    "AddressID": "14141",
                                    "AddressLine1": "7578 Sierra Road",
                                    "AddressLine2": "#905",
                                    "AddressLine2_Modified": "Number905"
                                },
                                {
                                    "AddressID": "15733",
                                    "AddressLine1": "7588 Deerfield Dr",
                                    "AddressLine2": "#36",
                                    "AddressLine2_Modified": "Number36"
                                },
                                {
                                    "AddressID": "266",
                                    "AddressLine1": "7691 Benedict Ct.",
                                    "AddressLine2": "# 141",
                                    "AddressLine2_Modified": "Number 141"
                                },
                                {
                                    "AddressID": "179",
                                    "AddressLine1": "771 Northridge Drive",
                                    "AddressLine2": "# 495",
                                    "AddressLine2_Modified": "Number 495"
                                },
                                {
                                    "AddressID": "12766",
                                    "AddressLine1": "771 Northridge Drive",
                                    "AddressLine2": "# 495",
                                    "AddressLine2_Modified": "Number 495"
                                },
                                {
                                    "AddressID": "15717",
                                    "AddressLine1": "7801 Foxhill Dr",
                                    "AddressLine2": "#505",
                                    "AddressLine2_Modified": "Number505"
                                },
                                {
                                    "AddressID": "14916",
                                    "AddressLine1": "7914 H St.",
                                    "AddressLine2": "#9",
                                    "AddressLine2_Modified": "Number9"
                                },
                                {
                                    "AddressID": "12259",
                                    "AddressLine1": "7914 H St.",
                                    "AddressLine2": "#9",
                                    "AddressLine2_Modified": "Number9"
                                },
                                {
                                    "AddressID": "18597",
                                    "AddressLine1": "7916 Valley Ave.",
                                    "AddressLine2": "# 434",
                                    "AddressLine2_Modified": "Number 434"
                                },
                                {
                                    "AddressID": "15873",
                                    "AddressLine1": "7943 All Ways Drive",
                                    "AddressLine2": "# 105",
                                    "AddressLine2_Modified": "Number 105"
                                },
                                {
                                    "AddressID": "12312",
                                    "AddressLine1": "7950 H Pine Creek Way",
                                    "AddressLine2": "#3",
                                    "AddressLine2_Modified": "Number3"
                                },
                                {
                                    "AddressID": "13782",
                                    "AddressLine1": "7963 Elk Dr",
                                    "AddressLine2": "#4",
                                    "AddressLine2_Modified": "Number4"
                                },
                                {
                                    "AddressID": "16524",
                                    "AddressLine1": "804 Skycrest Drive",
                                    "AddressLine2": "#19",
                                    "AddressLine2_Modified": "Number19"
                                },
                                {
                                    "AddressID": "13313",
                                    "AddressLine1": "805 Stonyhill Circle",
                                    "AddressLine2": "#67",
                                    "AddressLine2_Modified": "Number67"
                                },
                                {
                                    "AddressID": "17922",
                                    "AddressLine1": "8119 Northridge Ct",
                                    "AddressLine2": "# 1",
                                    "AddressLine2_Modified": "Number 1"
                                },
                                {
                                    "AddressID": "14709",
                                    "AddressLine1": "8186 St. Michael Drive",
                                    "AddressLine2": "#a",
                                    "AddressLine2_Modified": "Numbera"
                                },
                                {
                                    "AddressID": "18672",
                                    "AddressLine1": "8186 St. Michael Drive",
                                    "AddressLine2": "#a",
                                    "AddressLine2_Modified": "Numbera"
                                },
                                {
                                    "AddressID": "15707",
                                    "AddressLine1": "8229 Crawford Street",
                                    "AddressLine2": "# 2",
                                    "AddressLine2_Modified": "Number 2"
                                },
                                {
                                    "AddressID": "17811",
                                    "AddressLine1": "8258 N. Broadway",
                                    "AddressLine2": "# 2015",
                                    "AddressLine2_Modified": "Number 2015"
                                },
                                {
                                    "AddressID": "16648",
                                    "AddressLine1": "8280 Sequoia Court",
                                    "AddressLine2": "# 1699",
                                    "AddressLine2_Modified": "Number 1699"
                                },
                                {
                                    "AddressID": "13832",
                                    "AddressLine1": "8308 Fox Way",
                                    "AddressLine2": "# 147",
                                    "AddressLine2_Modified": "Number 147"
                                },
                                {
                                    "AddressID": "11702",
                                    "AddressLine1": "8401 Carson Street",
                                    "AddressLine2": "#e",
                                    "AddressLine2_Modified": "Numbere"
                                },
                                {
                                    "AddressID": "14158",
                                    "AddressLine1": "8432 Sierra Madre",
                                    "AddressLine2": "#914",
                                    "AddressLine2_Modified": "Number914"
                                },
                                {
                                    "AddressID": "16413",
                                    "AddressLine1": "8433 Pacifica Avenue",
                                    "AddressLine2": "#331",
                                    "AddressLine2_Modified": "Number331"
                                },
                                {
                                    "AddressID": "13516",
                                    "AddressLine1": "8533 Valley Oak Plaza",
                                    "AddressLine2": "# 174",
                                    "AddressLine2_Modified": "Number 174"
                                },
                                {
                                    "AddressID": "14145",
                                    "AddressLine1": "8595 Central Avenue",
                                    "AddressLine2": "# 228",
                                    "AddressLine2_Modified": "Number 228"
                                },
                                {
                                    "AddressID": "11836",
                                    "AddressLine1": "8595 Central Avenue",
                                    "AddressLine2": "# 778",
                                    "AddressLine2_Modified": "Number 778"
                                },
                                {
                                    "AddressID": "18979",
                                    "AddressLine1": "8650 Mt. Hamilton Dr.",
                                    "AddressLine2": "# 112",
                                    "AddressLine2_Modified": "Number 112"
                                },
                                {
                                    "AddressID": "17744",
                                    "AddressLine1": "8808 Geneva Ave",
                                    "AddressLine2": "#9",
                                    "AddressLine2_Modified": "Number9"
                                },
                                {
                                    "AddressID": "18593",
                                    "AddressLine1": "8811 Medicine St.",
                                    "AddressLine2": "# 44",
                                    "AddressLine2_Modified": "Number 44"
                                },
                                {
                                    "AddressID": "18865",
                                    "AddressLine1": "8993 Escobar",
                                    "AddressLine2": "#503",
                                    "AddressLine2_Modified": "Number503"
                                },
                                {
                                    "AddressID": "12511",
                                    "AddressLine1": "9048 Youngsdale Drive",
                                    "AddressLine2": "# 202",
                                    "AddressLine2_Modified": "Number 202"
                                },
                                {
                                    "AddressID": "18656",
                                    "AddressLine1": "9081 Texas Way",
                                    "AddressLine2": "# A5",
                                    "AddressLine2_Modified": "Number A5"
                                },
                                {
                                    "AddressID": "18376",
                                    "AddressLine1": "9242 St George Dr.",
                                    "AddressLine2": "# 225",
                                    "AddressLine2_Modified": "Number 225"
                                },
                                {
                                    "AddressID": "17235",
                                    "AddressLine1": "927 Live Oak Ave.",
                                    "AddressLine2": "#119",
                                    "AddressLine2_Modified": "Number119"
                                },
                                {
                                    "AddressID": "14220",
                                    "AddressLine1": "9326 Mayda Way",
                                    "AddressLine2": "# 2",
                                    "AddressLine2_Modified": "Number 2"
                                },
                                {
                                    "AddressID": "15907",
                                    "AddressLine1": "9351 W Lake Drive",
                                    "AddressLine2": "# 18",
                                    "AddressLine2_Modified": "Number 18"
                                },
                                {
                                    "AddressID": "14119",
                                    "AddressLine1": "9363 Vista Bonita",
                                    "AddressLine2": "# 123",
                                    "AddressLine2_Modified": "Number 123"
                                },
                                {
                                    "AddressID": "17899",
                                    "AddressLine1": "9372 Colfax Street",
                                    "AddressLine2": "#303",
                                    "AddressLine2_Modified": "Number303"
                                },
                                {
                                    "AddressID": "15956",
                                    "AddressLine1": "9570 Royal Links Ct",
                                    "AddressLine2": "# 24",
                                    "AddressLine2_Modified": "Number 24"
                                },
                                {
                                    "AddressID": "18284",
                                    "AddressLine1": "9716 Aloe Vera Rd.",
                                    "AddressLine2": "# 1",
                                    "AddressLine2_Modified": "Number 1"
                                },
                                {
                                    "AddressID": "16395",
                                    "AddressLine1": "9737 Oak Creek Ct",
                                    "AddressLine2": "#65",
                                    "AddressLine2_Modified": "Number65"
                                },
                                {
                                    "AddressID": "13499",
                                    "AddressLine1": "9770 Fraga Court",
                                    "AddressLine2": "#91",
                                    "AddressLine2_Modified": "Number91"
                                },
                                {
                                    "AddressID": "12523",
                                    "AddressLine1": "9770 Fraga Court",
                                    "AddressLine2": "#91",
                                    "AddressLine2_Modified": "Number91"
                                },
                                {
                                    "AddressID": "13023",
                                    "AddressLine1": "9791 Harvard Court",
                                    "AddressLine2": "# 4",
                                    "AddressLine2_Modified": "Number 4"
                                },
                                {
                                    "AddressID": "13701",
                                    "AddressLine1": "9887 W. 39th Street",
                                    "AddressLine2": "# 24",
                                    "AddressLine2_Modified": "Number 24"
                                },
                                {
                                    "AddressID": "13469",
                                    "AddressLine1": "9970 San Miguel Rd",
                                    "AddressLine2": "# 170",
                                    "AddressLine2_Modified": "Number 170"
                                },
                                {
                                    "AddressID": "24974",
                                    "AddressLine1": "Lützowplatz 3859",
                                    "AddressLine2": "#139",
                                    "AddressLine2_Modified": "Number139"
                                },
                                {
                                    "AddressID": "24377",
                                    "AddressLine1": "Viktoria-Luise-Platz 347",
                                    "AddressLine2": "#59",
                                    "AddressLine2_Modified": "Number59"
                                },
                                {
                                    "AddressID": "17067",
                                    "AddressLine1": "Zollhof 2822",
                                    "AddressLine2": "#919",
                                    "AddressLine2_Modified": "Number919"
                                }
                            ]
                        },
                        "text/html": [
                            "<table>",
                            "<tr><th>AddressID</th><th>AddressLine1</th><th>AddressLine2</th><th>AddressLine2_Modified</th></tr>",
                            "<tr><td>12420</td><td>1119 Elderwood Dr.</td><td>#3</td><td>Number3</td></tr>",
                            "<tr><td>18507</td><td>1163 Bella Vista</td><td># 003</td><td>Number 003</td></tr>",
                            "<tr><td>18770</td><td>1345 Blocking Circle</td><td>#3</td><td>Number3</td></tr>",
                            "<tr><td>18486</td><td>1378 California St.</td><td>#c</td><td>Numberc</td></tr>",
                            "<tr><td>18382</td><td>138 Lancelot Dr.</td><td># 105</td><td>Number 105</td></tr>",
                            "<tr><td>13503</td><td>1431 Rancho View Drive</td><td># 14</td><td>Number 14</td></tr>",
                            "<tr><td>16187</td><td>1506 Grading Way</td><td>#62</td><td>Number62</td></tr>",
                            "<tr><td>16638</td><td>1525 Waterhigh St</td><td># 198</td><td>Number 198</td></tr>",
                            "<tr><td>15940</td><td>1538 Mt. Diablo St.</td><td># 147</td><td>Number 147</td></tr>",
                            "<tr><td>12828</td><td>1590 Mildred Ln.</td><td>#35</td><td>Number35</td></tr>",
                            "<tr><td>17615</td><td>1739 Sun View Terr</td><td>#315</td><td>Number315</td></tr>",
                            "<tr><td>18559</td><td>1941 Pinecrest Court</td><td>#611</td><td>Number611</td></tr>",
                            "<tr><td>16741</td><td>197 Adobe Dr</td><td># 999</td><td>Number 999</td></tr>",
                            "<tr><td>358</td><td>20 Rambling Rose Ave.</td><td># 003</td><td>Number 003</td></tr>",
                            "<tr><td>17672</td><td>2013 Filling Ave.</td><td>#3</td><td>Number3</td></tr>",
                            "<tr><td>15765</td><td>2039 Doon Cr</td><td># 120</td><td>Number 120</td></tr>",
                            "<tr><td>12195</td><td>2049 Benedict Court</td><td># 11</td><td>Number 11</td></tr>",
                            "<tr><td>12685</td><td>2060 Hill Dr</td><td># 108</td><td>Number 108</td></tr>",
                            "<tr><td>17939</td><td>2098 Crown Ct</td><td># 235</td><td>Number 235</td></tr>",
                            "<tr><td>12436</td><td>2098 Crown Ct</td><td># 235</td><td>Number 235</td></tr>",
                            "<tr><td>14162</td><td>2171 H Stagecoach Rd</td><td>#77</td><td>Number77</td></tr>",
                            "<tr><td>12082</td><td>220 Rambling Rose Ave.</td><td># 003</td><td>Number 003</td></tr>",
                            "<tr><td>13713</td><td>2304 La Canada</td><td># 13</td><td>Number 13</td></tr>",
                            "<tr><td>12802</td><td>2479 Killdeer Court</td><td># 120</td><td>Number 120</td></tr>",
                            "<tr><td>14873</td><td>2529 Terrace Dr</td><td>#5</td><td>Number5</td></tr>",
                            "<tr><td>15851</td><td>253 El Pueblo Place</td><td># 1211</td><td>Number 1211</td></tr>",
                            "<tr><td>13529</td><td>2546 Woodchuck Pl</td><td># 2</td><td>Number 2</td></tr>",
                            "<tr><td>14212</td><td>2572 Hill Dr</td><td># 2</td><td>Number 2</td></tr>",
                            "<tr><td>18471</td><td>2578 Welle Road</td><td># 118</td><td>Number 118</td></tr>",
                            "<tr><td>12626</td><td>2679 Eagle Peak</td><td>#7</td><td>Number7</td></tr>",
                            "<tr><td>16040</td><td>2687 Apollo Way</td><td># 213</td><td>Number 213</td></tr>",
                            "<tr><td>16403</td><td>2703 Freda Dr.</td><td># 13</td><td>Number 13</td></tr>",
                            "<tr><td>17885</td><td>2710 Roux Court</td><td>#3202</td><td>Number3202</td></tr>",
                            "<tr><td>17891</td><td>2775 Delta View Ln.</td><td>#9</td><td>Number9</td></tr>",
                            "<tr><td>13382</td><td>2785 Fallbrook Road</td><td># 10</td><td>Number 10</td></tr>",
                            "<tr><td>388</td><td>2834 Clifford Court</td><td>#9</td><td>Number9</td></tr>",
                            "<tr><td>18103</td><td>2886 Chaparral Court</td><td>Space # 45</td><td>Space Number 45</td></tr>",
                            "<tr><td>13514</td><td>2886 Chaparral Court</td><td>Space # 45</td><td>Space Number 45</td></tr>",
                            "<tr><td>12712</td><td>3029 Pastime Dr</td><td># 2</td><td>Number 2</td></tr>",
                            "<tr><td>102</td><td>3029 Pastime Dr</td><td># 2</td><td>Number 2</td></tr>",
                            "<tr><td>12406</td><td>306 Winter Drive</td><td># 4d</td><td>Number 4d</td></tr>",
                            "<tr><td>12124</td><td>3083 Boatwright Dr.</td><td>#6</td><td>Number6</td></tr>",
                            "<tr><td>13289</td><td>3121 Spar Court</td><td>#511</td><td>Number511</td></tr>",
                            "<tr><td>16657</td><td>3168 True Drive</td><td>#118</td><td>Number118</td></tr>",
                            "<tr><td>11739</td><td>3187 Westwood Court</td><td>#71</td><td>Number71</td></tr>",
                            "<tr><td>11731</td><td>3200 Wren Ave.</td><td>#107</td><td>Number107</td></tr>",
                            "<tr><td>12699</td><td>3243 Buckingham Dr.</td><td># 207</td><td>Number 207</td></tr>",
                            "<tr><td>101</td><td>3243 Buckingham Dr.</td><td># 207</td><td>Number 207</td></tr>",
                            "<tr><td>11995</td><td>3248 Birdhaven Court</td><td># 1</td><td>Number 1</td></tr>",
                            "<tr><td>12896</td><td>3287 Corte Poquito</td><td># 2</td><td>Number 2</td></tr>",
                            "<tr><td>12270</td><td>3302 Trujillo</td><td># 112</td><td>Number 112</td></tr>",
                            "<tr><td>12990</td><td>3302 Trujillo</td><td># 112</td><td>Number 112</td></tr>",
                            "<tr><td>17363</td><td>3304 East Narrows Drive</td><td># 003</td><td>Number 003</td></tr>",
                            "<tr><td>15515</td><td>3328 North Wateroak Ct</td><td>#8</td><td>Number8</td></tr>",
                            "<tr><td>11875</td><td>3365 Atherton Circle</td><td># 11</td><td>Number 11</td></tr>",
                            "<tr><td>15357</td><td>3365 Atherton Circle</td><td># 13</td><td>Number 13</td></tr>",
                            "<tr><td>12257</td><td>3469 Relief Valley Ct.</td><td># 22</td><td>Number 22</td></tr>",
                            "<tr><td>384</td><td>35 Buckthorn Court</td><td># 1</td><td>Number 1</td></tr>",
                            "<tr><td>14300</td><td>3521 Fourth St.</td><td>#607</td><td>Number607</td></tr>",
                            "<tr><td>18293</td><td>3521 Fourth St.</td><td>#607</td><td>Number607</td></tr>",
                            "<tr><td>13765</td><td>3558 Pebble Glen Drive</td><td># 214</td><td>Number 214</td></tr>",
                            "<tr><td>17391</td><td>3558 Pebble Glen Drive</td><td># 214</td><td>Number 214</td></tr>",
                            "<tr><td>18754</td><td>3562 East Ave.</td><td># 4</td><td>Number 4</td></tr>",
                            "<tr><td>12041</td><td>3593 Buckthorn Court</td><td># 1</td><td>Number 1</td></tr>",
                            "<tr><td>13560</td><td>3601 Stinson</td><td>#7</td><td>Number7</td></tr>",
                            "<tr><td>11696</td><td>3608 Sinclair Avenue</td><td># 701</td><td>Number 701</td></tr>",
                            "<tr><td>17819</td><td>3757 Brook Hollow Ct</td><td># 101</td><td>Number 101</td></tr>",
                            "<tr><td>11906</td><td>3757 Brook Hollow Ct</td><td># 101</td><td>Number 101</td></tr>",
                            "<tr><td>11724</td><td>3800 Breck Court</td><td># 60</td><td>Number 60</td></tr>",
                            "<tr><td>17978</td><td>3812 Roundtree Drive</td><td>#5</td><td>Number5</td></tr>",
                            "<tr><td>12806</td><td>3831 Golden Gate Way</td><td># 203</td><td>Number 203</td></tr>",
                            "<tr><td>13332</td><td>3836 Deer Meadow Way</td><td># 174</td><td>Number 174</td></tr>",
                            "<tr><td>260</td><td>3884 Beauty Street</td><td># 14</td><td>Number 14</td></tr>",
                            "<tr><td>13449</td><td>3960 Temple Drive</td><td>#304</td><td>Number304</td></tr>",
                            "<tr><td>13488</td><td>3989 Terrace Drive</td><td>#55</td><td>Number55</td></tr>",
                            "<tr><td>15398</td><td>4024 Montana</td><td># 113</td><td>Number 113</td></tr>",
                            "<tr><td>13027</td><td>4024 Montana</td><td># 113</td><td>Number 113</td></tr>",
                            "<tr><td>16380</td><td>4091 Silver Oaks Place</td><td># 105</td><td>Number 105</td></tr>",
                            "<tr><td>12364</td><td>419 River Ash Court</td><td>#9</td><td>Number9</td></tr>",
                            "<tr><td>331</td><td>419 River Ash Court</td><td>#9</td><td>Number9</td></tr>",
                            "<tr><td>12985</td><td>4197 Ironwood Drive</td><td># 1</td><td>Number 1</td></tr>",
                            "<tr><td>14246</td><td>4299 Vernal Drive</td><td># 132</td><td>Number 132</td></tr>",
                            "<tr><td>13824</td><td>4348 Lilac Circle</td><td>#6</td><td>Number6</td></tr>",
                            "<tr><td>18459</td><td>4501 Terrace Road</td><td>#60</td><td>Number60</td></tr>",
                            "<tr><td>15986</td><td>4513 Ten Penny Lane</td><td>#3</td><td>Number3</td></tr>",
                            "<tr><td>13344</td><td>4518 Sequoia Drive</td><td># 2</td><td>Number 2</td></tr>",
                            "<tr><td>12000</td><td>4525 El Pueblo Pl.</td><td>#6</td><td>Number6</td></tr>",
                            "<tr><td>12126</td><td>4619 Ricardo Drive</td><td># 233</td><td>Number 233</td></tr>",
                            "<tr><td>13535</td><td>4629 Candle Dr</td><td>#30</td><td>Number30</td></tr>",
                            "<tr><td>15373</td><td>4689 Deerwood Court</td><td>#512</td><td>Number512</td></tr>",
                            "<tr><td>14026</td><td>4746 Clear Court</td><td># 45</td><td>Number 45</td></tr>",
                            "<tr><td>11411</td><td>4746 Clear Court</td><td># 61</td><td>Number 61</td></tr>",
                            "<tr><td>12182</td><td>4837 Melrose Place</td><td># 1</td><td>Number 1</td></tr>",
                            "<tr><td>12367</td><td>4865 A St.</td><td># 260</td><td>Number 260</td></tr>",
                            "<tr><td>17874</td><td>4927 Virgil Street</td><td># 21</td><td>Number 21</td></tr>",
                            "<tr><td>17734</td><td>4948 Muy Verde</td><td>#52</td><td>Number52</td></tr>",
                            "<tr><td>16636</td><td>498 Willow Pass Rd</td><td>#61</td><td>Number61</td></tr>",
                            "<tr><td>15423</td><td>5038 Candy Rd</td><td># 126</td><td>Number 126</td></tr>",
                            "<tr><td>17622</td><td>5041 Stillwater Court</td><td># 205</td><td>Number 205</td></tr>",
                            "<tr><td>12222</td><td>5045 Vancouver Way</td><td># 133</td><td>Number 133</td></tr>",
                            "<tr><td>13571</td><td>5056 Anchor Ave</td><td>#511</td><td>Number511</td></tr>",
                            "<tr><td>83</td><td>5379 Treasure Island Way</td><td># 14</td><td>Number 14</td></tr>",
                            "<tr><td>15807</td><td>543 Sand Pointe Lane</td><td>Box #311</td><td>Box Number311</td></tr>",
                            "<tr><td>13192</td><td>5436 Clear</td><td># 101</td><td>Number 101</td></tr>",
                            "<tr><td>11747</td><td>5485 Wee Donegal</td><td># 77</td><td>Number 77</td></tr>",
                            "<tr><td>16043</td><td>551 Almond Ave</td><td>#30</td><td>Number30</td></tr>",
                            "<tr><td>18792</td><td>5518 Baldwin Dr.</td><td># 215</td><td>Number 215</td></tr>",
                            "<tr><td>15549</td><td>5533 Fremont Street</td><td># 113</td><td>Number 113</td></tr>",
                            "<tr><td>11527</td><td>579 Meager Dr.</td><td># 1</td><td>Number 1</td></tr>",
                            "<tr><td>18490</td><td>5823 Trail Way</td><td># 208</td><td>Number 208</td></tr>",
                            "<tr><td>17675</td><td>5854 Baird Court</td><td># 212</td><td>Number 212</td></tr>",
                            "<tr><td>17628</td><td>5854 Baird Court</td><td># 212</td><td>Number 212</td></tr>",
                            "<tr><td>18995</td><td>591 Laguna Street</td><td># 439</td><td>Number 439</td></tr>",
                            "<tr><td>15560</td><td>5960 Cross Road</td><td># 20</td><td>Number 20</td></tr>",
                            "<tr><td>17909</td><td>6002 Hickory Drive</td><td>Studio # 403</td><td>Studio Number 403</td></tr>",
                            "<tr><td>15003</td><td>6002 Hickory Drive</td><td>Studio # 403</td><td>Studio Number 403</td></tr>",
                            "<tr><td>365</td><td>6030 Winter Drive</td><td># 4d</td><td>Number 4d</td></tr>",
                            "<tr><td>158</td><td>6058 Hill Street</td><td># 4</td><td>Number 4</td></tr>",
                            "<tr><td>12774</td><td>6114 North Park Court</td><td># 12</td><td>Number 12</td></tr>",
                            "<tr><td>18326</td><td>6114 North Park Court</td><td># 12</td><td>Number 12</td></tr>",
                            "<tr><td>18090</td><td>6120 Evergreen Ct.</td><td># 126</td><td>Number 126</td></tr>",
                            "<tr><td>16908</td><td>6140 Nightingale Drive</td><td># 79</td><td>Number 79</td></tr>",
                            "<tr><td>17637</td><td>6179 Norris Court</td><td># 1104</td><td>Number 1104</td></tr>",
                            "<tr><td>16573</td><td>6179 Norris Court</td><td># 9</td><td>Number 9</td></tr>",
                            "<tr><td>12026</td><td>6196 Nottingham Place</td><td>#313</td><td>Number313</td></tr>",
                            "<tr><td>18755</td><td>6258 Stinson</td><td>#8</td><td>Number8</td></tr>",
                            "<tr><td>15880</td><td>6441 Clear Court</td><td>#501</td><td>Number501</td></tr>",
                            "<tr><td>12854</td><td>6532 Pinecrest Rd</td><td>#508</td><td>Number508</td></tr>",
                            "<tr><td>13463</td><td>6650 Contuti Avenue</td><td># 135</td><td>Number 135</td></tr>",
                            "<tr><td>17751</td><td>6713 Castle Rock</td><td>#3</td><td>Number3</td></tr>",
                            "<tr><td>14960</td><td>6719 Santa Teresa Dr</td><td># 1117</td><td>Number 1117</td></tr>",
                            "<tr><td>15484</td><td>673 Hawes St.</td><td># 119 A</td><td>Number 119 A</td></tr>",
                            "<tr><td>15525</td><td>6732 Arcadia Pl.</td><td>#e</td><td>Numbere</td></tr>",
                            "<tr><td>18661</td><td>6732 Arcadia Pl.</td><td>#e</td><td>Numbere</td></tr>",
                            "<tr><td>11837</td><td>6754 Pampered Ct.</td><td># 19</td><td>Number 19</td></tr>",
                            "<tr><td>12471</td><td>6812 Sands Circle</td><td># 163</td><td>Number 163</td></tr>",
                            "<tr><td>16371</td><td>6828 Willow Pass Road</td><td>#5</td><td>Number5</td></tr>",
                            "<tr><td>18207</td><td>6915 San Ramon Valley Blvd.</td><td>#6</td><td>Number6</td></tr>",
                            "<tr><td>16739</td><td>692 Brook Way</td><td>#1988</td><td>Number1988</td></tr>",
                            "<tr><td>17667</td><td>6963 Santa Monica Drive</td><td># 4</td><td>Number 4</td></tr>",
                            "<tr><td>12486</td><td>6984 Wardlow Lane</td><td># 116</td><td>Number 116</td></tr>",
                            "<tr><td>16813</td><td>6985 Pecan Street</td><td># 786</td><td>Number 786</td></tr>",
                            "<tr><td>13798</td><td>700 Oaxaca</td><td># 17</td><td>Number 17</td></tr>",
                            "<tr><td>14214</td><td>7013 Cimarron Drive</td><td># 110</td><td>Number 110</td></tr>",
                            "<tr><td>16963</td><td>71 Tobi Drive</td><td># 778</td><td>Number 778</td></tr>",
                            "<tr><td>18157</td><td>7111 Atchinson Stage Ct</td><td># 180</td><td>Number 180</td></tr>",
                            "<tr><td>14828</td><td>7153 Bellord Ct</td><td># 18</td><td>Number 18</td></tr>",
                            "<tr><td>16749</td><td>7290 Mt. Hood Circle</td><td>#176</td><td>Number176</td></tr>",
                            "<tr><td>15985</td><td>7390 Pinehurst Court</td><td>#524</td><td>Number524</td></tr>",
                            "<tr><td>12363</td><td>7468 Lindley Ct.</td><td>#8a</td><td>Number8a</td></tr>",
                            "<tr><td>16443</td><td>7503 Sheffield Place</td><td># 19</td><td>Number 19</td></tr>",
                            "<tr><td>13230</td><td>7550 Carzino Ct</td><td># 1</td><td>Number 1</td></tr>",
                            "<tr><td>18339</td><td>7569 Sierra Drive</td><td># 105</td><td>Number 105</td></tr>",
                            "<tr><td>14929</td><td>7573 Star Dr</td><td>#5188</td><td>Number5188</td></tr>",
                            "<tr><td>14141</td><td>7578 Sierra Road</td><td>#905</td><td>Number905</td></tr>",
                            "<tr><td>15733</td><td>7588 Deerfield Dr</td><td>#36</td><td>Number36</td></tr>",
                            "<tr><td>266</td><td>7691 Benedict Ct.</td><td># 141</td><td>Number 141</td></tr>",
                            "<tr><td>179</td><td>771 Northridge Drive</td><td># 495</td><td>Number 495</td></tr>",
                            "<tr><td>12766</td><td>771 Northridge Drive</td><td># 495</td><td>Number 495</td></tr>",
                            "<tr><td>15717</td><td>7801 Foxhill Dr</td><td>#505</td><td>Number505</td></tr>",
                            "<tr><td>14916</td><td>7914 H St.</td><td>#9</td><td>Number9</td></tr>",
                            "<tr><td>12259</td><td>7914 H St.</td><td>#9</td><td>Number9</td></tr>",
                            "<tr><td>18597</td><td>7916 Valley Ave.</td><td># 434</td><td>Number 434</td></tr>",
                            "<tr><td>15873</td><td>7943 All Ways Drive</td><td># 105</td><td>Number 105</td></tr>",
                            "<tr><td>12312</td><td>7950 H Pine Creek Way</td><td>#3</td><td>Number3</td></tr>",
                            "<tr><td>13782</td><td>7963 Elk Dr</td><td>#4</td><td>Number4</td></tr>",
                            "<tr><td>16524</td><td>804 Skycrest Drive</td><td>#19</td><td>Number19</td></tr>",
                            "<tr><td>13313</td><td>805 Stonyhill Circle</td><td>#67</td><td>Number67</td></tr>",
                            "<tr><td>17922</td><td>8119 Northridge Ct</td><td># 1</td><td>Number 1</td></tr>",
                            "<tr><td>14709</td><td>8186 St. Michael Drive</td><td>#a</td><td>Numbera</td></tr>",
                            "<tr><td>18672</td><td>8186 St. Michael Drive</td><td>#a</td><td>Numbera</td></tr>",
                            "<tr><td>15707</td><td>8229 Crawford Street</td><td># 2</td><td>Number 2</td></tr>",
                            "<tr><td>17811</td><td>8258 N. Broadway</td><td># 2015</td><td>Number 2015</td></tr>",
                            "<tr><td>16648</td><td>8280 Sequoia Court</td><td># 1699</td><td>Number 1699</td></tr>",
                            "<tr><td>13832</td><td>8308 Fox Way</td><td># 147</td><td>Number 147</td></tr>",
                            "<tr><td>11702</td><td>8401 Carson Street</td><td>#e</td><td>Numbere</td></tr>",
                            "<tr><td>14158</td><td>8432 Sierra Madre</td><td>#914</td><td>Number914</td></tr>",
                            "<tr><td>16413</td><td>8433 Pacifica Avenue</td><td>#331</td><td>Number331</td></tr>",
                            "<tr><td>13516</td><td>8533 Valley Oak Plaza</td><td># 174</td><td>Number 174</td></tr>",
                            "<tr><td>14145</td><td>8595 Central Avenue</td><td># 228</td><td>Number 228</td></tr>",
                            "<tr><td>11836</td><td>8595 Central Avenue</td><td># 778</td><td>Number 778</td></tr>",
                            "<tr><td>18979</td><td>8650 Mt. Hamilton Dr.</td><td># 112</td><td>Number 112</td></tr>",
                            "<tr><td>17744</td><td>8808 Geneva Ave</td><td>#9</td><td>Number9</td></tr>",
                            "<tr><td>18593</td><td>8811 Medicine St.</td><td># 44</td><td>Number 44</td></tr>",
                            "<tr><td>18865</td><td>8993 Escobar</td><td>#503</td><td>Number503</td></tr>",
                            "<tr><td>12511</td><td>9048 Youngsdale Drive</td><td># 202</td><td>Number 202</td></tr>",
                            "<tr><td>18656</td><td>9081 Texas Way</td><td># A5</td><td>Number A5</td></tr>",
                            "<tr><td>18376</td><td>9242 St George Dr.</td><td># 225</td><td>Number 225</td></tr>",
                            "<tr><td>17235</td><td>927 Live Oak Ave.</td><td>#119</td><td>Number119</td></tr>",
                            "<tr><td>14220</td><td>9326 Mayda Way</td><td># 2</td><td>Number 2</td></tr>",
                            "<tr><td>15907</td><td>9351 W Lake Drive</td><td># 18</td><td>Number 18</td></tr>",
                            "<tr><td>14119</td><td>9363 Vista Bonita</td><td># 123</td><td>Number 123</td></tr>",
                            "<tr><td>17899</td><td>9372 Colfax Street</td><td>#303</td><td>Number303</td></tr>",
                            "<tr><td>15956</td><td>9570 Royal Links Ct</td><td># 24</td><td>Number 24</td></tr>",
                            "<tr><td>18284</td><td>9716 Aloe Vera Rd.</td><td># 1</td><td>Number 1</td></tr>",
                            "<tr><td>16395</td><td>9737 Oak Creek Ct</td><td>#65</td><td>Number65</td></tr>",
                            "<tr><td>13499</td><td>9770 Fraga Court</td><td>#91</td><td>Number91</td></tr>",
                            "<tr><td>12523</td><td>9770 Fraga Court</td><td>#91</td><td>Number91</td></tr>",
                            "<tr><td>13023</td><td>9791 Harvard Court</td><td># 4</td><td>Number 4</td></tr>",
                            "<tr><td>13701</td><td>9887 W. 39th Street</td><td># 24</td><td>Number 24</td></tr>",
                            "<tr><td>13469</td><td>9970 San Miguel Rd</td><td># 170</td><td>Number 170</td></tr>",
                            "<tr><td>24974</td><td>Lützowplatz 3859</td><td>#139</td><td>Number139</td></tr>",
                            "<tr><td>24377</td><td>Viktoria-Luise-Platz 347</td><td>#59</td><td>Number59</td></tr>",
                            "<tr><td>17067</td><td>Zollhof 2822</td><td>#919</td><td>Number919</td></tr>",
                            "</table>"
                        ]
                    }
                }
            ],
            "execution_count": 3
        },
        {
            "cell_type": "markdown",
            "source": [
                "Berücksichtigung von Case Sensitivity bei der Ersetzung\n",
                "\n",
                "  \n",
                "\n",
                "Das nächste Beispiel zeigt die Notwendigkeit, die Groß- und Kleinschreibung zu beachten:"
            ],
            "metadata": {
                "language": "sql",
                "azdata_cell_guid": "5acf6972-165b-4d63-b8dd-0473917749b2"
            },
            "attachments": {}
        },
        {
            "cell_type": "markdown",
            "source": [
                "# Einfügen von Text mit STUFF\n",
                "\n",
                "Mit STUFF können Sie Text an einer bestimmten Position in einem String einfügen:"
            ],
            "metadata": {
                "language": "sql",
                "azdata_cell_guid": "729b8fd6-cc69-40fd-9835-808aab47e239"
            },
            "attachments": {}
        },
        {
            "cell_type": "code",
            "source": [
                "-- Ersetzen von Zeichen bei einer bestimmten Position\r\n",
                "Select STUFF('123456',3,2,'xxxx')"
            ],
            "metadata": {
                "language": "sql",
                "azdata_cell_guid": "ee714d2a-805a-4254-bf4a-8bb619cbbdde"
            },
            "outputs": [],
            "execution_count": null
        },
        {
            "cell_type": "markdown",
            "source": [
                "# Arbeiten mit Leerzeichen und NULL-Werten\n",
                "\n",
                "In SQL gibt es einen Unterschied zwischen einem NULL-Wert und einem leeren String:"
            ],
            "metadata": {
                "language": "sql",
                "azdata_cell_guid": "7c11688b-e63d-42ec-90f3-9b703252db14"
            },
            "attachments": {}
        },
        {
            "cell_type": "code",
            "source": [
                "-- Unterschied zwischen NULL und ''\r\n",
                "Select NULL, isnull(NULL,''), ''"
            ],
            "metadata": {
                "language": "sql",
                "azdata_cell_guid": "fd706f14-ba68-4c70-8112-8a6a8e3499b2"
            },
            "outputs": [],
            "execution_count": null
        },
        {
            "cell_type": "markdown",
            "source": [
                "# Substring und Zeichenpositionen\n",
                "\n",
                "<span style=\"color: var(--vscode-foreground);\">Das Herausschneiden von Teilzeichenketten oder das Finden der Position bestimmter Zeichen ist mit Funktionen wie SUBSTRING und CHARINDEX möglich:</span>"
            ],
            "metadata": {
                "language": "sql",
                "azdata_cell_guid": "97300a19-a3d4-4ab9-8594-f650af6441b2"
            },
            "attachments": {}
        },
        {
            "cell_type": "code",
            "source": [
                "-- Schneidet eine Teilzeichenkette heraus\r\n",
                "Declare @t as nvarchar(MAX) = '123456789'\r\n",
                "Select @t, SUBSTRING(@t,3,2)"
            ],
            "metadata": {
                "language": "sql",
                "azdata_cell_guid": "175a8dce-0957-43bb-ab59-f297c6f8e493"
            },
            "outputs": [],
            "execution_count": null
        },
        {
            "cell_type": "markdown",
            "source": [
                "# Arbeiten mit UNICODE und ASCII\n",
                "\n",
                "<span style=\"color: var(--vscode-foreground);\">UNICODE und ASCII sind zwei verschiedene Systeme zur Codierung von Zeichen:</span>"
            ],
            "metadata": {
                "language": "sql",
                "azdata_cell_guid": "1eda97f1-d96d-4a6d-b608-00664af41b9f"
            },
            "attachments": {}
        },
        {
            "cell_type": "markdown",
            "source": [
                "# Zusammenführen von Strings mit CONCAT und STRING\\_AGG\n",
                "\n",
                "<span style=\"color: var(--vscode-foreground);\">Diese Funktionen ermöglichen das Kombinieren von Zeichenketten:</span>"
            ],
            "metadata": {
                "language": "sql",
                "azdata_cell_guid": "cf026401-a06b-43af-a14e-b3ded56af7ca"
            },
            "attachments": {}
        }
    ]
}