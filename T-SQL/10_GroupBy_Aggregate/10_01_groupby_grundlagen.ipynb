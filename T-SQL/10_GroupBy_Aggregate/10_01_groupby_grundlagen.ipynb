{
  "nbformat": 4,
  "nbformat_minor": 5,
  "metadata": {
    "kernelspec": {
      "name": "SQL",
      "display_name": "SQL",
      "language": "sql"
    },
    "language_info": {
      "name": "sql"
    }
  },
  "cells": [
    {
      "cell_type": "markdown",
      "metadata": {},
      "source": "# T‑SQL **GROUP BY & Aggregate** – Grundlagen  \n**Themengebiet:** T‑SQL GROUP BY & Aggregate · **Kapitel:** Grundlagen: `GROUP BY`, Aggregatfunktionen, `HAVING`  \n**Kurzbeschreibung:** Syntax, logische Auswertungsreihenfolge, Unterschiede `WHERE` vs. `HAVING`, `COUNT(*)` vs. `COUNT(col)`\n\n*Stand:* 2025-09-05\n"
    },
    {
      "cell_type": "markdown",
      "metadata": {},
      "source": "## Einleitung\n\nIn diesem Kapitel geht es um das **Gruppieren und Aggregieren** von Daten mit T‑SQL. Typische Fragestellungen sind zum Beispiel:\n- *„Wie hoch ist der Umsatz pro Region?“*\n- *„Wie viele eindeutige Kunden hatte eine Region im Zeitraum X?“*\n- *„Welche Kunden überschreiten eine bestimmte Umsatzschwelle?“*\n- *„Wie erhalte ich Zwischensummen und Gesamtsummen?“*\n\n**Einsatzgebiete:** Reporting, KPI‑Berechnungen, Data Warehousing, Analysen im Controlling/Vertrieb/Produktion – überall dort, wo Daten **verdichtet** werden müssen.\n\n**Technische Hintergründe (vereinfacht):**\n- SQL verarbeitet Abfragen in einer **logischen Auswertungsreihenfolge** (FROM → WHERE → GROUP BY → HAVING → SELECT → ORDER BY).\n- `GROUP BY` fasst Zeilen zu **Gruppen** zusammen; auf Gruppen werden **Aggregatfunktionen** (z. B. `SUM`, `COUNT`, `AVG`) angewendet.\n- Der **Query Optimizer** wählt eine Aggregationsstrategie:\n  - **Hash Match (Aggregate):** Für unsortierte Eingaben; erzeugt Hash‑Tabellen im Speicher/TempDB.\n  - **Stream Aggregate:** Sehr effizient, wenn die Eingabe bereits **sortiert nach den Gruppierungsspalten** ist (z. B. passender Index).\n  - **Sort:** Stellt Ordnung her, wenn erforderlich (z. B. für `ORDER BY` oder als Voraussetzung für Stream Aggregate).\n- **NULL‑Semantik:** `COUNT(*)` zählt alle Zeilen, `COUNT(spalte)` ignoriert `NULL`. `SUM/AVG/MIN/MAX` ignorieren `NULL` ebenfalls (Ergebnis kann `NULL` sein, wenn alle Werte `NULL` sind).\n"
    },
    {
      "cell_type": "markdown",
      "metadata": {},
      "source": "## Inhalt dieses Notebooks ist:\n\n- Logische Auswertungsreihenfolge (FROM → WHERE → GROUP BY → HAVING → SELECT → ORDER BY)\n- `GROUP BY`‑Grundlagen: einfach, mehrfach, über Ausdrücke (jeweils mit **Fragestellung** direkt unter der Überschrift)\n- Aggregatfunktionen & NULL‑Semantik (`COUNT`, `SUM`, `AVG`, `MIN`, `MAX`)\n- `WHERE` vs. `HAVING` inkl. präziser **Fragestellungen** und Gegenüberstellungen\n- `COUNT(*)` vs. `COUNT(col)` und `COUNT(DISTINCT)`\n- Bedingte Aggregation (`SUM(CASE WHEN … THEN … END)`)\n- Window‑Funktionen vs. `GROUP BY`\n- (Optional) `ROLLUP` & `GROUPING()`/`GROUPING_ID()`\n- **Was macht der Query Optimizer/Analyzer & wie sieht der Ausführungsplan aus?** (ausführlich)\n- Typische Fallstricke mit **beabsichtigten Fehlerbeispielen**\n- Performance‑Hinweise, Übungen & **Lösungen**, Cleanup\n"
    },
    {
      "cell_type": "markdown",
      "metadata": {},
      "source": "> **Hinweis zum Kernel:**  \n> Dieses Notebook ist für einen **SQL‑Kernel** gedacht (z. B. in Azure Data Studio).  \n> Setze den Kernel auf **SQL**. Alle Codezellen enthalten **T‑SQL**.\n"
    },
    {
      "cell_type": "markdown",
      "metadata": {},
      "source": "## Setup: Demo‑Datenbank **[BITest]** & Beispieltabelle\n\nDie Demo nutzt `dbo.SalesOrders` in der Datenbank **BITest**.\n"
    },
    {
      "cell_type": "code",
      "metadata": {},
      "source": "IF DB_ID(N'BITest') IS NULL\n    CREATE DATABASE [BITest];\nGO\nUSE [BITest];\nGO\n\nIF OBJECT_ID(N'dbo.SalesOrders', N'U') IS NOT NULL\n    DROP TABLE dbo.SalesOrders;\nGO\n\nCREATE TABLE dbo.SalesOrders\n(\n    OrderID         INT IDENTITY(1,1) PRIMARY KEY,\n    OrderDate       DATE          NOT NULL,\n    CustomerID      INT           NOT NULL,\n    Region          NVARCHAR(50)  NOT NULL,\n    ProductCategory NVARCHAR(50)  NOT NULL,\n    PaymentMethod   NVARCHAR(20)  NOT NULL,\n    Quantity        INT           NOT NULL,\n    Amount          DECIMAL(12,2) NULL   -- NULLs für COUNT/AVG‑Demonstration\n);\nGO\n\nINSERT INTO dbo.SalesOrders (OrderDate, CustomerID, Region, ProductCategory, PaymentMethod, Quantity, Amount)\nVALUES\n('2025-01-03', 101, N'AT', N'Frames',   N'Card',  2,  199.90),\n('2025-01-05', 101, N'AT', N'Lenses',   N'Card',  1,   89.90),\n('2025-01-06', 102, N'AT', N'Lenses',   N'Cash',  3,  219.00),\n('2025-01-07', 103, N'DE', N'Frames',   N'Card',  1,  129.00),\n('2025-01-10', 103, N'DE', N'Lenses',   N'Card',  4,  360.00),\n('2025-01-12', 104, N'DE', N'Care',     N'Card',  5,   75.00),\n('2025-01-15', 105, N'AT', N'Care',     N'Cash',  2,   28.00),\n('2025-01-16', 106, N'AT', N'Frames',   N'Card',  1,  149.00),\n('2025-01-20', 101, N'CH', N'Lenses',   N'Card',  2,  180.00),\n('2025-01-22', 107, N'CH', N'Frames',   N'Cash',  2,  260.00),\n('2025-01-25', 108, N'CH', N'Care',     N'Card',  6,   90.00),\n('2025-02-01', 101, N'AT', N'Lenses',   N'Card',  2,  179.80),\n('2025-02-03', 109, N'AT', N'Frames',   N'Card',  1,  139.00),\n('2025-02-04', 102, N'AT', N'Lenses',   N'Cash',  2,  159.00),\n('2025-02-05', 103, N'DE', N'Frames',   N'Card',  1,  119.00),\n('2025-02-06', 110, N'DE', N'Lenses',   N'Card',  5,  450.00),\n('2025-02-07', 111, N'DE', N'Care',     N'Card',  3,   45.00),\n('2025-02-10', 112, N'AT', N'Care',     N'Cash',  4,   56.00),\n('2025-02-12', 113, N'AT', N'Frames',   N'Card',  1,  159.00),\n('2025-02-14', 114, N'CH', N'Lenses',   N'Card',  3,  285.00),\n('2025-02-17', 115, N'CH', N'Frames',   N'Cash',  1,  149.00),\n('2025-02-20', 116, N'CH', N'Care',     N'Card',  7,  105.00),\n('2025-03-01', 101, N'AT', N'Lenses',   N'Card',  2,  169.80),\n('2025-03-02', 117, N'AT', N'Frames',   N'Card',  1,  129.00),\n('2025-03-03', 118, N'AT', N'Lenses',   N'Cash',  1,   79.50),\n('2025-03-05', 119, N'DE', N'Frames',   N'Card',  2,  238.00),\n('2025-03-07', 120, N'DE', N'Lenses',   N'Card',  2,  180.00),\n('2025-03-08', 121, N'DE', N'Care',     N'Card',  2,   30.00),\n('2025-03-10', 122, N'CH', N'Frames',   N'Cash',  1,  169.00),\n('2025-03-12', 123, N'CH', N'Lenses',   N'Card',  2,  190.00),\n('2025-03-15', 124, N'CH', N'Care',     N'Card',  5,   75.00),\n-- NULL-Beträge\n('2025-03-16', 125, N'AT', N'Care',     N'Card',  1,   NULL),\n('2025-03-17', 125, N'AT', N'Care',     N'Card',  1,   NULL),\n('2025-03-18', 126, N'DE', N'Lenses',   N'Card',  1,   NULL),\n('2025-03-19', 127, N'CH', N'Frames',   N'Cash',  1,   NULL);\nGO\n",
      "execution_count": null,
      "outputs": []
    },
    {
      "cell_type": "markdown",
      "metadata": {},
      "source": "### Daten sichten"
    },
    {
      "cell_type": "code",
      "metadata": {},
      "source": "USE [BITest];\nSELECT TOP (10) *\nFROM dbo.SalesOrders\nORDER BY OrderID;\n",
      "execution_count": null,
      "outputs": []
    },
    {
      "cell_type": "markdown",
      "metadata": {},
      "source": "## Logische Auswertungsreihenfolge\n\n1. `FROM` (+ `JOIN`)  \n2. `WHERE` – Zeilenfilter **vor** Aggregation  \n3. `GROUP BY` – bildet Gruppen  \n4. Aggregatfunktionen werden je Gruppe berechnet  \n5. `HAVING` – Gruppenfilter **nach** Aggregation  \n6. `SELECT` – Spalten/Aggregate/Aliasse  \n7. `ORDER BY` – Sortierung\n"
    },
    {
      "cell_type": "markdown",
      "metadata": {},
      "source": "## `GROUP BY` – Grundsyntax: Umsatz pro Region\n\n**Fragestellung:** *„Wie hoch ist die **Summe** von `Amount` (**Revenue**) pro **Region**, absteigend nach Revenue sortiert?“*\n"
    },
    {
      "cell_type": "code",
      "metadata": {},
      "source": "USE [BITest];\nSELECT\n    Region,\n    SUM(Amount) AS Revenue\nFROM dbo.SalesOrders\nGROUP BY Region\nORDER BY Revenue DESC;\n",
      "execution_count": null,
      "outputs": []
    },
    {
      "cell_type": "markdown",
      "metadata": {},
      "source": "## Mehrfach gruppieren (Region **und** ProductCategory)\n\n**Fragestellung:** *„Wie hoch ist die **Summe** von `Amount` (**Revenue**) pro **Region und ProductCategory**, sortiert nach **Region** und danach **Revenue** absteigend?“*\n"
    },
    {
      "cell_type": "code",
      "metadata": {},
      "source": "USE [BITest];\nSELECT\n    Region,\n    ProductCategory,\n    SUM(Amount) AS Revenue\nFROM dbo.SalesOrders\nGROUP BY Region, ProductCategory\nORDER BY Region, Revenue DESC;\n",
      "execution_count": null,
      "outputs": []
    },
    {
      "cell_type": "markdown",
      "metadata": {},
      "source": "## Gruppieren über Ausdrücke (z. B. `YEAR(OrderDate)`)\n\n**Fragestellung:** *„Wie hoch ist die **Summe** von `Amount` (**Revenue**) pro **Jahr** der Bestellung (`YEAR(OrderDate)`), aufsteigend nach Jahr sortiert?“*\n"
    },
    {
      "cell_type": "code",
      "metadata": {},
      "source": "USE [BITest];\nSELECT\n    YEAR(OrderDate) AS OrderYear,\n    SUM(Amount)     AS Revenue\nFROM dbo.SalesOrders\nGROUP BY YEAR(OrderDate)\nORDER BY OrderYear;\n",
      "execution_count": null,
      "outputs": []
    },
    {
      "cell_type": "markdown",
      "metadata": {},
      "source": "## Aggregatfunktionen & NULL‑Semantik\n\n**Fragestellung:** *„Vergleiche pro **Region** die Zählungen via `COUNT(*)` (alle Zeilen) vs. `COUNT(Amount)` (nur `Amount IS NOT NULL`) und stelle Summen/Min/Max/Avg gegenüber.“*\n"
    },
    {
      "cell_type": "code",
      "metadata": {},
      "source": "USE [BITest];\nSELECT\n    Region,\n    COUNT(*)      AS RowsTotal,        -- zählt alle Zeilen\n    COUNT(Amount) AS RowsWithAmount,   -- zählt nur Zeilen mit Amount IS NOT NULL\n    SUM(Amount)   AS SumAmount,\n    AVG(Amount)   AS AvgAmount,        -- ignoriert NULLs\n    MIN(Amount)   AS MinAmount,\n    MAX(Amount)   AS MaxAmount\nFROM dbo.SalesOrders\nGROUP BY Region\nORDER BY Region;\n",
      "execution_count": null,
      "outputs": []
    },
    {
      "cell_type": "markdown",
      "metadata": {},
      "source": "## `WHERE` vs. `HAVING` (Teil 1: Summenfilter je Gruppe)\n\n**Fragestellung:** *„Welche **Kunden** haben einen **Gesamtumsatz > 300 EUR** (d. h. Summe aller Beträge pro Kunde > 300)?“ — **Nach** der Aggregation filtern → `HAVING`.*\n"
    },
    {
      "cell_type": "code",
      "metadata": {},
      "source": "USE [BITest];\nSELECT\n    CustomerID,\n    SUM(Amount) AS Revenue\nFROM dbo.SalesOrders\nGROUP BY CustomerID\nHAVING SUM(Amount) > 300\nORDER BY Revenue DESC;\n",
      "execution_count": null,
      "outputs": []
    },
    {
      "cell_type": "markdown",
      "metadata": {},
      "source": "## `WHERE` vs. `HAVING` (Teil 2: Zeilenfilter vor Aggregation)\n\n**Fragestellung:** *„Welche **Kunden** haben **mindestens eine** Bestellung mit **Amount > 300** (nicht Gesamtsumme > 300)?“ — **Vor** der Aggregation filtern → `WHERE`.*\n"
    },
    {
      "cell_type": "code",
      "metadata": {},
      "source": "USE [BITest];\nSELECT\n    CustomerID,\n    SUM(Amount) AS Revenue\nFROM dbo.SalesOrders\nWHERE Amount > 300\nGROUP BY CustomerID\nORDER BY Revenue DESC;\n",
      "execution_count": null,
      "outputs": []
    },
    {
      "cell_type": "markdown",
      "metadata": {},
      "source": "## DISTINCT‑Zählungen (eindeutige Kunden)\n\n**Fragestellung:** *„Wie viele **eindeutige Kunden** gibt es pro **Region**?“*\n"
    },
    {
      "cell_type": "code",
      "metadata": {},
      "source": "USE [BITest];\nSELECT\n    Region,\n    COUNT(DISTINCT CustomerID) AS CustomersDistinct\nFROM dbo.SalesOrders\nGROUP BY Region\nORDER BY Region;\n",
      "execution_count": null,
      "outputs": []
    },
    {
      "cell_type": "markdown",
      "metadata": {},
      "source": "## Bedingte Aggregation (Zahlarten je Region)\n\n**Fragestellung:** *„Wie viele **Bar‑** und **Kartenzahlungen** pro **Region**, zusätzlich der **Revenue** je Region?“*\n"
    },
    {
      "cell_type": "code",
      "metadata": {},
      "source": "USE [BITest];\nSELECT\n    Region,\n    SUM(CASE WHEN PaymentMethod = N'Cash' THEN 1 ELSE 0 END) AS CashCount,\n    SUM(CASE WHEN PaymentMethod = N'Card' THEN 1 ELSE 0 END) AS CardCount,\n    SUM(Amount) AS Revenue\nFROM dbo.SalesOrders\nGROUP BY Region\nORDER BY Region;\n",
      "execution_count": null,
      "outputs": []
    },
    {
      "cell_type": "markdown",
      "metadata": {},
      "source": "## Window‑Funktionen vs. `GROUP BY` (Granularität bleibt erhalten)\n\n**Fragestellung:** *„Zeige für **jede Bestellung** den zugehörigen **Region‑Revenue** (Summe `Amount` pro Region) **als zusätzliche Spalte**, ohne die Zeilengranularität zu reduzieren.“*\n"
    },
    {
      "cell_type": "code",
      "metadata": {},
      "source": "USE [BITest];\nSELECT\n    OrderID,\n    Region,\n    Amount,\n    SUM(Amount) OVER (PARTITION BY Region) AS RegionRevenue\nFROM dbo.SalesOrders\nORDER BY Region, OrderID;\n",
      "execution_count": null,
      "outputs": []
    },
    {
      "cell_type": "markdown",
      "metadata": {},
      "source": "## (Optional) `ROLLUP` – Zwischensummen & Gesamtsumme erkennen\n\n**Fragestellung:** *„Zeige **Revenue pro Region & ProductCategory** sowie **Region‑Summen** und eine **Gesamtsumme**. Markiere Total‑Zeilen mit `GROUPING()`/`GROUPING_ID()`.“*\n"
    },
    {
      "cell_type": "code",
      "metadata": {},
      "source": "USE [BITest];\nSELECT\n    Region,\n    ProductCategory,\n    SUM(Amount) AS Revenue,\n    GROUPING(Region)          AS G_Region,\n    GROUPING(ProductCategory) AS G_Category,\n    GROUPING_ID(Region, ProductCategory) AS GID\nFROM dbo.SalesOrders\nGROUP BY ROLLUP (Region, ProductCategory)\nORDER BY\n    GROUPING(Region), Region,\n    GROUPING(ProductCategory), ProductCategory;\n",
      "execution_count": null,
      "outputs": []
    },
    {
      "cell_type": "markdown",
      "metadata": {},
      "source": "## Was macht der Query Optimizer/Analyzer genau? Wie sieht der Ausführungsplan aus?\n\n### Pipeline des Abfrageprozesses (hochverdichtet)\n1. **Parsing** → Syntaxprüfung, Erstellung eines Parse‑Baums.  \n2. **Algebrizer/Binder** → Auflösung von Objektnamen/Spalten, Typableitung, Umformung in relationale Algebra.  \n3. **Optimizer (kostenbasiert)** → Generiert alternative *Plan‑Kandidaten* (Join‑Reihenfolge/Operatoren, Aggregationsstrategie, Parallelisierung), schätzt **Kardinalitäten** und wählt den **günstigsten** Plan (geringste geschätzte Kosten).  \n4. **Plan‑Cache** → Wiederverwendung kompatibler Pläne (Parameter‑Sniffing beachten).  \n5. **Ausführung (Executor)** → Operators ausführen, ggf. **Speicherzuteilungen (Memory Grants)**, **Parallelism** (Exchange‑Operatoren), **Spools**, **Sorts**, **Hash/Stream Aggregates**, **Compute Scalar**, **Filter**, **Top**, etc.\n\n### Typische Operatoren für Aggregationen\n- **Hash Match (Aggregate):** Unabhängig von Sortierung; gut für große, unsortierte Eingaben. Benötigt Arbeitsspeicher für Hash‑Tabellen.  \n- **Stream Aggregate:** Sehr effizient, wenn der Eingabestream bereits **nach den Gruppierungsspalten sortiert** ist (z. B. via Index).  \n- **Sort:** Erzeugt Ordnung für `ORDER BY` oder als Voraussetzung für `Stream Aggregate`.  \n- **Parallelism (Distribute/Gather/Redistribute Streams):** Aufteilung/Zusammenführung von Zeilen über mehrere Threads.  \n- **Index/Clustered Scan vs. Seek:** Hängt von Prädikaten (`WHERE`) und passenden Indizes ab.\n\n### Erwartete Pläne für unsere Beispiele\n- **Revenue pro Region (kein passender Index):**  \n  `Clustered Index Scan` auf `SalesOrders` → `Hash Match (Aggregate)` (GROUP BY Region) → `Sort` (ORDER BY Revenue DESC) → ggf. `Parallelism` (Gather Streams).  \n- **Revenue pro Region & ProductCategory mit passendem Index (Region, ProductCategory INCLUDE (Amount)):**  \n  `Index Scan (ordered)` → `Stream Aggregate` (profitierend von der Ordnung) → `Sort` nach Revenue ggf. nötig → weniger Speicher, oft niedrigere Kosten.\n\n> **Cardinality Estimation (CE):** Schätzt Zeilenanzahlen pro Operator (unterliegt ggf. Korrelationen/Skews). Falsche Schätzungen führen zu suboptimalen Operator‑Wahlen (z. B. Hash statt Stream, unerwartete Sorts/Spools, zu kleine/zu große Memory Grants).\n\n### Pläne anzeigen (geschätzt vs. tatsächlich)\n- **Geschätzter Plan (ohne Ausführung):**\n  ```sql\n  SET SHOWPLAN_XML ON;\n  -- Ihre Abfrage hier\n  SET SHOWPLAN_XML OFF;\n  ```\n- **Tatsächlicher Plan (mit Ausführung & Laufzeitstatistiken):**\n  ```sql\n  SET STATISTICS XML ON;   -- optional auch: SET STATISTICS IO, TIME ON\n  -- Ihre Abfrage hier\n  SET STATISTICS XML OFF;\n  ```\n- **GUI (SSMS/Azure Data Studio):** *Include Actual Execution Plan* aktivieren (SSMS: **Ctrl+M**) und Abfrage ausführen.\n"
    },
    {
      "cell_type": "markdown",
      "metadata": {},
      "source": "### Index‑Einfluss demonstrieren\n\nWir legen einen **nicht gruppierten Index** auf `(Region, ProductCategory)` an und inkludieren `Amount`, so dass ein **Stream Aggregate** wahrscheinlicher wird. Danach führen wir die Mehrfach‑Gruppierung erneut aus.\n"
    },
    {
      "cell_type": "code",
      "metadata": {},
      "source": "USE [BITest];\nIF EXISTS (SELECT 1 FROM sys.indexes WHERE name = N'IX_SalesOrders_RegionCategory_IncAmount' AND object_id = OBJECT_ID(N'dbo.SalesOrders'))\n    DROP INDEX IX_SalesOrders_RegionCategory_IncAmount ON dbo.SalesOrders;\nGO\nCREATE INDEX IX_SalesOrders_RegionCategory_IncAmount\nON dbo.SalesOrders (Region, ProductCategory)\nINCLUDE (Amount);\nGO\n\n-- Messung (optional): tatsächlicher Plan & IO/Time\nSET STATISTICS IO ON;\nSET STATISTICS TIME ON;\nSET STATISTICS XML ON;\nSELECT\n    Region,\n    ProductCategory,\n    SUM(Amount) AS Revenue\nFROM dbo.SalesOrders\nGROUP BY Region, ProductCategory\nORDER BY Region, Revenue DESC;\nSET STATISTICS XML OFF;\nSET STATISTICS TIME OFF;\nSET STATISTICS IO OFF;\n",
      "execution_count": null,
      "outputs": []
    },
    {
      "cell_type": "markdown",
      "metadata": {},
      "source": "## Typische Fallstricke (inkl. **bewusst fehlerhafter** Beispiele)\n\nDie folgenden Beispiele demonstrieren häufige Probleme. Einige Abfragen sind **absichtlich fehlerhaft** und erzeugen Fehler – genau das ist gewollt, um das Verhalten zu zeigen.\n"
    },
    {
      "cell_type": "markdown",
      "metadata": {},
      "source": "### 1) Nicht aggregierte Spalten fehlen im `GROUP BY`\n\n**Fragestellung:** *„Warum scheitert die Abfrage, wenn `ProductCategory` in der SELECT‑Liste steht, aber nicht im `GROUP BY`?“*\n"
    },
    {
      "cell_type": "code",
      "metadata": {},
      "source": "-- ❌ Fehlerbeispiel\nUSE [BITest];\nSELECT\n    Region,\n    SUM(Amount) AS Revenue,\n    ProductCategory\nFROM dbo.SalesOrders\nGROUP BY Region;  -- ← ProductCategory fehlt hier\n",
      "execution_count": null,
      "outputs": []
    },
    {
      "cell_type": "code",
      "metadata": {},
      "source": "-- ✅ Korrekt\nUSE [BITest];\nSELECT\n    Region,\n    ProductCategory,\n    SUM(Amount) AS Revenue\nFROM dbo.SalesOrders\nGROUP BY Region, ProductCategory;\n",
      "execution_count": null,
      "outputs": []
    },
    {
      "cell_type": "markdown",
      "metadata": {},
      "source": "### 2) Aggregat in `WHERE` statt in `HAVING`\n\n**Fragestellung:** *„Wieso ist `SUM(Amount)` in `WHERE` unzulässig und muss nach `GROUP BY` in `HAVING` stehen?“*\n"
    },
    {
      "cell_type": "code",
      "metadata": {},
      "source": "-- ❌ Fehler\nUSE [BITest];\nSELECT CustomerID, SUM(Amount) AS Revenue\nFROM dbo.SalesOrders\nWHERE SUM(Amount) > 300\nGROUP BY CustomerID;\n",
      "execution_count": null,
      "outputs": []
    },
    {
      "cell_type": "code",
      "metadata": {},
      "source": "-- ✅ Korrekt\nUSE [BITest];\nSELECT CustomerID, SUM(Amount) AS Revenue\nFROM dbo.SalesOrders\nGROUP BY CustomerID\nHAVING SUM(Amount) > 300;\n",
      "execution_count": null,
      "outputs": []
    },
    {
      "cell_type": "markdown",
      "metadata": {},
      "source": "### 3) Alias in `HAVING` verwenden\n\n**Fragestellung:** *„Weshalb kann ich den SELECT‑Alias `Revenue` nicht direkt in `HAVING` referenzieren?“*\n"
    },
    {
      "cell_type": "code",
      "metadata": {},
      "source": "-- ❌ Fehler\nUSE [BITest];\nSELECT CustomerID, SUM(Amount) AS Revenue\nFROM dbo.SalesOrders\nGROUP BY CustomerID\nHAVING Revenue > 300;\n",
      "execution_count": null,
      "outputs": []
    },
    {
      "cell_type": "code",
      "metadata": {},
      "source": "-- ✅ Korrekt\nUSE [BITest];\nSELECT CustomerID, SUM(Amount) AS Revenue\nFROM dbo.SalesOrders\nGROUP BY CustomerID\nHAVING SUM(Amount) > 300;\n",
      "execution_count": null,
      "outputs": []
    },
    {
      "cell_type": "markdown",
      "metadata": {},
      "source": "### 4) `COUNT(DISTINCT col1, col2)` in SQL Server\n\n**Fragestellung:** *„Warum kann ich in SQL Server nicht mehrere Spalten in `COUNT(DISTINCT ...)` angeben – und wie umgehe ich das sauber?“*\n"
    },
    {
      "cell_type": "code",
      "metadata": {},
      "source": "-- ❌ Fehler in SQL Server\nUSE [BITest];\nSELECT COUNT(DISTINCT CustomerID, Region) AS DistinctPairs\nFROM dbo.SalesOrders;\n",
      "execution_count": null,
      "outputs": []
    },
    {
      "cell_type": "code",
      "metadata": {},
      "source": "-- ✅ Alternativen\n-- a) Eindeutigkeits-Schlüssel kombinieren (nur mit eindeutigem Trenner)\nUSE [BITest];\nSELECT COUNT(DISTINCT CONCAT(CustomerID, N'|', Region)) AS DistinctPairs\nFROM dbo.SalesOrders;\n\n-- b) Voraggregation auf Paare und dann zählen\nWITH Pairs AS (\n    SELECT DISTINCT CustomerID, Region\n    FROM dbo.SalesOrders\n)\nSELECT COUNT(*) AS DistinctPairs\nFROM Pairs;\n",
      "execution_count": null,
      "outputs": []
    },
    {
      "cell_type": "markdown",
      "metadata": {},
      "source": "### 5) Integer‑Division in Aggregationen\n\n**Fragestellung:** *„Warum entsteht bei Quotienten wie `SUM(Amount)/COUNT(*)` eine unerwartete Rundung/Trunkierung – und wie verhindere ich das?“*\n"
    },
    {
      "cell_type": "code",
      "metadata": {},
      "source": "-- ❌ Potenziell unerwünscht (Truncation bei INT/INT):\nUSE [BITest];\nSELECT Region, SUM(Amount)/COUNT(*) AS AvgPerRow_PotentialIssue\nFROM dbo.SalesOrders\nGROUP BY Region;\n\n-- ✅ Sicher casten\nSELECT Region, SUM(Amount)/CAST(COUNT(*) AS DECIMAL(18,2)) AS AvgPerRow\nFROM dbo.SalesOrders\nGROUP BY Region;\n",
      "execution_count": null,
      "outputs": []
    },
    {
      "cell_type": "markdown",
      "metadata": {},
      "source": "### 6) Duplikate durch `JOIN` (Summen „explodieren“)\n\n**Fragestellung:** *„Warum erhöht ein Join auf eine Dimension mit Duplikaten meine Summen – und wie stabilisiere ich das?“*\n"
    },
    {
      "cell_type": "code",
      "metadata": {},
      "source": "USE [BITest];\nIF OBJECT_ID(N'dbo.DimRegion', N'U') IS NOT NULL DROP TABLE dbo.DimRegion;\nCREATE TABLE dbo.DimRegion (Region NVARCHAR(50), Attr NVARCHAR(50));\nINSERT INTO dbo.DimRegion VALUES (N'AT', N'A'), (N'AT', N'B'), (N'DE', N'A'), (N'CH', N'A');\n\n-- ❌ Summe doppelt für AT (2 Dim-Zeilen):\nSELECT s.Region, SUM(s.Amount) AS Revenue\nFROM dbo.SalesOrders s\nJOIN dbo.DimRegion d ON d.Region = s.Region\nGROUP BY s.Region;\n\n-- ✅ Voraggregation oder DISTINCT im Join-Pfad:\nWITH DimRegionDistinct AS (\n  SELECT DISTINCT Region FROM dbo.DimRegion\n)\nSELECT s.Region, SUM(s.Amount) AS Revenue\nFROM dbo.SalesOrders s\nJOIN DimRegionDistinct d ON d.Region = s.Region\nGROUP BY s.Region;\n\nDROP TABLE dbo.DimRegion;\n",
      "execution_count": null,
      "outputs": []
    },
    {
      "cell_type": "markdown",
      "metadata": {},
      "source": "### 7) Alias aus SELECT in `GROUP BY`\n\n**Fragestellung:** *„Weshalb kann ich `OrderYear` als Alias nicht im `GROUP BY` verwenden?“*\n"
    },
    {
      "cell_type": "code",
      "metadata": {},
      "source": "-- ❌ Fehler\nUSE [BITest];\nSELECT YEAR(OrderDate) AS OrderYear, SUM(Amount) AS Revenue\nFROM dbo.SalesOrders\nGROUP BY OrderYear;\n",
      "execution_count": null,
      "outputs": []
    },
    {
      "cell_type": "code",
      "metadata": {},
      "source": "-- ✅ Korrekt\nUSE [BITest];\nSELECT YEAR(OrderDate) AS OrderYear, SUM(Amount) AS Revenue\nFROM dbo.SalesOrders\nGROUP BY YEAR(OrderDate);\n",
      "execution_count": null,
      "outputs": []
    },
    {
      "cell_type": "markdown",
      "metadata": {},
      "source": "## Best Practices & Performance (kompakt)\n\n- **Vorfilter in `WHERE`** setzen, um Aggregationsmenge zu reduzieren.  \n- Geeignete **Indizes** (z. B. `(Region, ProductCategory) INCLUDE (Amount)` für Stream Aggregate).  \n- Große, analytische Tabellen: **Clustered Columnstore Index** in DWH‑Szenarien erwägen.  \n- **Parallelism** verstehen (DOP, Exchange‑Operatoren), **Memory Grants** beobachten (tats. Plan).  \n- Bei JOINs Duplikate vermeiden (Voraggregation/Distinct), **SARGability** beachten.\n"
    },
    {
      "cell_type": "code",
      "metadata": {},
      "source": "-- Beispiel: Index für Mehrfach-Gruppierung\nUSE [BITest];\nIF EXISTS (SELECT 1 FROM sys.indexes WHERE name = N'IX_SalesOrders_Region_OrderDate' AND object_id = OBJECT_ID(N'dbo.SalesOrders'))\n    DROP INDEX IX_SalesOrders_Region_OrderDate ON dbo.SalesOrders;\nCREATE INDEX IX_SalesOrders_Region_OrderDate\nON dbo.SalesOrders (Region, OrderDate)\nINCLUDE (Amount, Quantity);\n",
      "execution_count": null,
      "outputs": []
    },
    {
      "cell_type": "markdown",
      "metadata": {},
      "source": "## Übungen\n\n1. Pro **ProductCategory**: **Anzahl Bestellungen**, **Gesamtumsatz**, **Durchschnittsumsatz** (absteigend nach Umsatz).  \n2. Für **Februar 2025**: Kunden mit **Gesamtumsatz > 400 EUR** (Hinweis: `WHERE` für Zeitraum + `HAVING` für Summenfilter).  \n3. Pro **Region**: **eindeutige Kunden**, **Anzahl Barzahlungen** (bedingte Aggregation).  \n4. Mit `ROLLUP`: Summen pro **Region, Kategorie** inkl. Region‑ und Gesamtsumme; markiere Total‑Zeilen via `GROUPING()`.\n"
    },
    {
      "cell_type": "code",
      "metadata": {},
      "source": "-- Lösung zu Frage 1: Pro ProductCategory: Anzahl Bestellungen, Gesamtumsatz, Durchschnittsumsatz (absteigend nach Umsatz).\nUSE [BITest];\nSELECT\n    ProductCategory,\n    COUNT(*)        AS Orders,\n    SUM(Amount)     AS Revenue,\n    AVG(Amount)     AS AvgRevenue\nFROM dbo.SalesOrders\nGROUP BY ProductCategory\nORDER BY Revenue DESC;\n",
      "execution_count": null,
      "outputs": []
    },
    {
      "cell_type": "code",
      "metadata": {},
      "source": "-- Lösung zu Frage 2: Februar 2025 – Kunden mit Gesamtumsatz > 400 EUR (WHERE Zeitraum + HAVING Summenfilter).\nUSE [BITest];\nSELECT\n    CustomerID,\n    SUM(Amount) AS Revenue\nFROM dbo.SalesOrders\nWHERE OrderDate >= '2025-02-01' AND OrderDate < '2025-03-01'\nGROUP BY CustomerID\nHAVING SUM(Amount) > 400\nORDER BY Revenue DESC;\n",
      "execution_count": null,
      "outputs": []
    },
    {
      "cell_type": "code",
      "metadata": {},
      "source": "-- Lösung zu Frage 3: Pro Region – eindeutige Kunden & Anzahl Barzahlungen (bedingte Aggregation).\nUSE [BITest];\nSELECT\n    Region,\n    COUNT(DISTINCT CustomerID)                                   AS CustomersDistinct,\n    SUM(CASE WHEN PaymentMethod = N'Cash' THEN 1 ELSE 0 END)     AS CashCount\nFROM dbo.SalesOrders\nGROUP BY Region\nORDER BY Region;\n",
      "execution_count": null,
      "outputs": []
    },
    {
      "cell_type": "code",
      "metadata": {},
      "source": "-- Lösung zu Frage 4: ROLLUP – Summen pro Region & Kategorie + Region‑/Gesamtsumme; Total‑Zeilen markieren.\nUSE [BITest];\nSELECT\n    Region,\n    ProductCategory,\n    SUM(Amount) AS Revenue,\n    GROUPING(Region)          AS G_Region,\n    GROUPING(ProductCategory) AS G_Category,\n    GROUPING_ID(Region, ProductCategory) AS GID\nFROM dbo.SalesOrders\nGROUP BY ROLLUP (Region, ProductCategory)\nORDER BY\n    GROUPING(Region), Region,\n    GROUPING(ProductCategory), ProductCategory;\n",
      "execution_count": null,
      "outputs": []
    },
    {
      "cell_type": "markdown",
      "metadata": {},
      "source": "## Cleanup (optional)"
    },
    {
      "cell_type": "code",
      "metadata": {},
      "source": "USE [BITest];\nIF OBJECT_ID(N'dbo.SalesOrders', N'U') IS NOT NULL\n    DROP TABLE dbo.SalesOrders;\n",
      "execution_count": null,
      "outputs": []
    }
  ]
}