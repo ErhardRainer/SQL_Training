{
    "metadata": {
        "kernelspec": {
            "name": "SQL",
            "display_name": "SQL",
            "language": "sql"
        },
        "language_info": {
            "name": "sql",
            "version": ""
        }
    },
    "nbformat_minor": 2,
    "nbformat": 4,
    "cells": [
        {
            "cell_type": "markdown",
            "source": [
                "# Bogenmaß und Gradmaß\n",
                "\n",
                "<span style=\"color: rgb(83, 83, 83); font-family: bs_thomas_sans_1regular, &quot;Open Sans&quot;, sans-serif; font-size: 16px; background-color: rgb(255, 255, 255);\">Nimm den Einheitskreis und schau dir die Länge des Kreisbogens zu jedem Winkel an.</span> <span style=\"color: rgb(83, 83, 83); font-family: bs_thomas_sans_1regular, &quot;Open Sans&quot;, sans-serif; font-size: 16px; background-color: rgb(255, 255, 255);\">&nbsp;(Als Längeneinheit kannst du alle möglichen Einheiten nehmen.)&nbsp;<br></span> <span style=\"background-color: rgb(255, 255, 255); color: rgb(83, 83, 83); font-family: bs_thomas_sans_1regular, &quot;Open Sans&quot;, sans-serif; font-size: 16px;\">Im Einheitskreis kannst du jeden Winkel&nbsp;</span> <span style=\"font-family: MathJax_Math-italic; font-size: 17.5px; background-color: rgb(255, 255, 255); color: rgb(83, 83, 83); white-space: nowrap;\">α&nbsp;</span> <span style=\"background-color: rgb(255, 255, 255); color: rgb(83, 83, 83); font-family: bs_thomas_sans_1regular, &quot;Open Sans&quot;, sans-serif; font-size: 16px;\">durch die zugehörige Länge des Kreisbogens beschreiben.</span>\n",
                "\n",
                "![](data:image/png;base64,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)  \n",
                "\n",
                "![](data:image/png;base64,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)"
            ],
            "metadata": {
                "azdata_cell_guid": "8ef5a1f1-dd4f-41f4-9115-52a8feffd2c1"
            }
        },
        {
            "cell_type": "code",
            "source": [
                "Select RADIANS(60)\r\n",
                "Select DEGREES(PI()/2)"
            ],
            "metadata": {
                "azdata_cell_guid": "d03b6b4c-a8c1-4eb1-a822-b98a7e574a3d",
                "tags": []
            },
            "outputs": [
                {
                    "output_type": "display_data",
                    "data": {
                        "text/html": "(1 row affected)"
                    },
                    "metadata": {}
                },
                {
                    "output_type": "display_data",
                    "data": {
                        "text/html": "(1 row affected)"
                    },
                    "metadata": {}
                },
                {
                    "output_type": "display_data",
                    "data": {
                        "text/html": "Total execution time: 00:00:00.007"
                    },
                    "metadata": {}
                },
                {
                    "output_type": "execute_result",
                    "execution_count": 1,
                    "data": {
                        "application/vnd.dataresource+json": {
                            "schema": {
                                "fields": [
                                    {
                                        "name": "(No column name)"
                                    }
                                ]
                            },
                            "data": [
                                {
                                    "0": "1"
                                }
                            ]
                        },
                        "text/html": "<table><tr><th>(No column name)</th></tr><tr><td>1</td></tr></table>"
                    },
                    "metadata": {
                        "resultSet": {
                            "id": 0,
                            "batchId": 0,
                            "rowCount": 1,
                            "complete": true,
                            "columnInfo": [
                                {
                                    "isBytes": false,
                                    "isChars": false,
                                    "isSqlVariant": false,
                                    "isUdt": false,
                                    "isXml": false,
                                    "isJson": false,
                                    "sqlDbType": 8,
                                    "isHierarchyId": false,
                                    "isSqlXmlType": false,
                                    "isUnknownType": false,
                                    "isUpdatable": false,
                                    "allowDBNull": false,
                                    "baseCatalogName": null,
                                    "baseColumnName": null,
                                    "baseSchemaName": null,
                                    "baseServerName": null,
                                    "baseTableName": null,
                                    "columnName": "(No column name)",
                                    "columnOrdinal": 0,
                                    "columnSize": 4,
                                    "isAliased": null,
                                    "isAutoIncrement": false,
                                    "isExpression": null,
                                    "isHidden": null,
                                    "isIdentity": false,
                                    "isKey": null,
                                    "isLong": false,
                                    "isReadOnly": true,
                                    "isUnique": false,
                                    "numericPrecision": 10,
                                    "numericScale": 255,
                                    "udtAssemblyQualifiedName": null,
                                    "dataType": "System.Int32, System.Private.CoreLib, Version=4.0.0.0, Culture=neutral, PublicKeyToken=7cec85d7bea7798e",
                                    "dataTypeName": "int"
                                }
                            ],
                            "specialAction": {
                                "none": true,
                                "expectYukonXMLShowPlan": false
                            }
                        }
                    }
                },
                {
                    "output_type": "execute_result",
                    "execution_count": 1,
                    "data": {
                        "application/vnd.dataresource+json": {
                            "schema": {
                                "fields": [
                                    {
                                        "name": "(No column name)"
                                    }
                                ]
                            },
                            "data": [
                                {
                                    "0": "90"
                                }
                            ]
                        },
                        "text/html": "<table><tr><th>(No column name)</th></tr><tr><td>90</td></tr></table>"
                    },
                    "metadata": {
                        "resultSet": {
                            "id": 1,
                            "batchId": 0,
                            "rowCount": 1,
                            "complete": true,
                            "columnInfo": [
                                {
                                    "isBytes": false,
                                    "isChars": false,
                                    "isSqlVariant": false,
                                    "isUdt": false,
                                    "isXml": false,
                                    "isJson": false,
                                    "sqlDbType": 6,
                                    "isHierarchyId": false,
                                    "isSqlXmlType": false,
                                    "isUnknownType": false,
                                    "isUpdatable": false,
                                    "allowDBNull": true,
                                    "baseCatalogName": null,
                                    "baseColumnName": null,
                                    "baseSchemaName": null,
                                    "baseServerName": null,
                                    "baseTableName": null,
                                    "columnName": "(No column name)",
                                    "columnOrdinal": 0,
                                    "columnSize": 8,
                                    "isAliased": null,
                                    "isAutoIncrement": false,
                                    "isExpression": null,
                                    "isHidden": null,
                                    "isIdentity": false,
                                    "isKey": null,
                                    "isLong": false,
                                    "isReadOnly": true,
                                    "isUnique": false,
                                    "numericPrecision": 15,
                                    "numericScale": 255,
                                    "udtAssemblyQualifiedName": null,
                                    "dataType": "System.Double, System.Private.CoreLib, Version=4.0.0.0, Culture=neutral, PublicKeyToken=7cec85d7bea7798e",
                                    "dataTypeName": "float"
                                }
                            ],
                            "specialAction": {
                                "none": true,
                                "expectYukonXMLShowPlan": false
                            }
                        }
                    }
                }
            ],
            "execution_count": 1
        }
    ]
}