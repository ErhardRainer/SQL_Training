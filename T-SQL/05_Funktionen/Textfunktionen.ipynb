{
    "metadata": {
        "kernelspec": {
            "name": "SQL",
            "display_name": "SQL",
            "language": "sql"
        },
        "language_info": {
            "name": "sql",
            "version": ""
        }
    },
    "nbformat_minor": 2,
    "nbformat": 4,
    "cells": [
        {
            "cell_type": "markdown",
            "source": [
                "# Textfunktionen\n",
                "\n",
                "T-SQL bietet eine Vielzahl von Textfunktionen, um mit Zeichenketten (Strings) zu arbeiten. Hier ist eine Liste der gängigsten Textfunktionen in T-SQL:\n",
                "\n",
                "1. <span style=\"border: 0px solid rgb(217, 217, 227); box-sizing: border-box; --tw-border-spacing-x: 0; --tw-border-spacing-y: 0; --tw-translate-x: 0; --tw-translate-y: 0; --tw-rotate: 0; --tw-skew-x: 0; --tw-skew-y: 0; --tw-scale-x: 1; --tw-scale-y: 1; --tw-pan-x: ; --tw-pan-y: ; --tw-pinch-zoom: ; --tw-scroll-snap-strictness: proximity; --tw-gradient-from-position: ; --tw-gradient-via-position: ; --tw-gradient-to-position: ; --tw-ordinal: ; --tw-slashed-zero: ; --tw-numeric-figure: ; --tw-numeric-spacing: ; --tw-numeric-fraction: ; --tw-ring-inset: ; --tw-ring-offset-width: 0px; --tw-ring-offset-color: #fff; --tw-ring-color: rgba(69,89,164,0.5); --tw-ring-offset-shadow: 0 0 transparent; --tw-ring-shadow: 0 0 transparent; --tw-shadow: 0 0 transparent; --tw-shadow-colored: 0 0 transparent; --tw-blur: ; --tw-brightness: ; --tw-contrast: ; --tw-grayscale: ; --tw-hue-rotate: ; --tw-invert: ; --tw-saturate: ; --tw-sepia: ; --tw-drop-shadow: ; --tw-backdrop-blur: ; --tw-backdrop-brightness: ; --tw-backdrop-contrast: ; --tw-backdrop-grayscale: ; --tw-backdrop-hue-rotate: ; --tw-backdrop-invert: ; --tw-backdrop-opacity: ; --tw-backdrop-saturate: ; --tw-backdrop-sepia: ; font-weight: 600; color: var(--tw-prose-bold);\">String-Manipulation</span>:\n",
                "\n",
                "- `LEN()`: Gibt die Länge eines Strings zurück. (Beispiel 1)\n",
                "- `LEFT()`: Gibt eine bestimmte Anzahl von Zeichen vom Anfang eines Strings zurück. (Beispiel 1)\n",
                "- `RIGHT()`: Gibt eine bestimmte Anzahl von Zeichen vom Ende eines Strings zurück. (Beispiel 1)\n",
                "- `UPPER()`: Wandelt alle Buchstaben in einem String in Großbuchstaben um. (Beispiel 2)\n",
                "- `LOWER()`: Wandelt alle Buchstaben in einem String in Kleinbuchstaben um. (Beispiel 2)\n",
                "- `LTRIM()`: Entfernt Leerzeichen vom Anfang eines Strings. (Beispiel 3)\n",
                "- `RTRIM()`: Entfernt Leerzeichen vom Ende eines Strings. (Beispiel 3)\n",
                "- `TRIM()`: Entfernt Leerzeichen vom Anfang und Ende eines Strings. (Beispiel 3)\n",
                "- `REPLACE()`: Ersetzt alle Vorkommen eines Substrings durch einen anderen Substring. (Beispiel 4)\n",
                "- `STUFF()`: Setzt einen String in einen anderen String ein, beginnend an einer angegebenen Position und über eine angegebene Länge. (Beispiel 5)\n",
                "- `REPLICATE()`: Wiederholt einen String eine bestimmte Anzahl von Malen. (Beispiel 6)\n",
                "- `FORMAT()`: Formatiert Werte als Strings. (Beispiel 7)\n",
                "\n",
                "2. <span style=\"border: 0px solid rgb(217, 217, 227); box-sizing: border-box; --tw-border-spacing-x: 0; --tw-border-spacing-y: 0; --tw-translate-x: 0; --tw-translate-y: 0; --tw-rotate: 0; --tw-skew-x: 0; --tw-skew-y: 0; --tw-scale-x: 1; --tw-scale-y: 1; --tw-pan-x: ; --tw-pan-y: ; --tw-pinch-zoom: ; --tw-scroll-snap-strictness: proximity; --tw-gradient-from-position: ; --tw-gradient-via-position: ; --tw-gradient-to-position: ; --tw-ordinal: ; --tw-slashed-zero: ; --tw-numeric-figure: ; --tw-numeric-spacing: ; --tw-numeric-fraction: ; --tw-ring-inset: ; --tw-ring-offset-width: 0px; --tw-ring-offset-color: #fff; --tw-ring-color: rgba(69,89,164,0.5); --tw-ring-offset-shadow: 0 0 transparent; --tw-ring-shadow: 0 0 transparent; --tw-shadow: 0 0 transparent; --tw-shadow-colored: 0 0 transparent; --tw-blur: ; --tw-brightness: ; --tw-contrast: ; --tw-grayscale: ; --tw-hue-rotate: ; --tw-invert: ; --tw-saturate: ; --tw-sepia: ; --tw-drop-shadow: ; --tw-backdrop-blur: ; --tw-backdrop-brightness: ; --tw-backdrop-contrast: ; --tw-backdrop-grayscale: ; --tw-backdrop-hue-rotate: ; --tw-backdrop-invert: ; --tw-backdrop-opacity: ; --tw-backdrop-saturate: ; --tw-backdrop-sepia: ; font-weight: 600; color: var(--tw-prose-bold);\">Suchen und Abfragen</span>:\n",
                "\n",
                "- `CHARINDEX()`: Gibt die Position des ersten Vorkommens eines Substrings zurück. (Beispiel 8)\n",
                "- `PATINDEX()`: Gibt die Position des ersten Vorkommens eines Musters in einem String zurück. (Beispiel 8)\n",
                "- `STR()`: Konvertiert einen Zahlwert in einen String. (Beispiel 9)\n",
                "- `SUBSTRING()`: Gibt einen Teil eines Strings zurück. (Beispiel 9)\n",
                "\n",
                "3. <span style=\"border: 0px solid rgb(217, 217, 227); box-sizing: border-box; --tw-border-spacing-x: 0; --tw-border-spacing-y: 0; --tw-translate-x: 0; --tw-translate-y: 0; --tw-rotate: 0; --tw-skew-x: 0; --tw-skew-y: 0; --tw-scale-x: 1; --tw-scale-y: 1; --tw-pan-x: ; --tw-pan-y: ; --tw-pinch-zoom: ; --tw-scroll-snap-strictness: proximity; --tw-gradient-from-position: ; --tw-gradient-via-position: ; --tw-gradient-to-position: ; --tw-ordinal: ; --tw-slashed-zero: ; --tw-numeric-figure: ; --tw-numeric-spacing: ; --tw-numeric-fraction: ; --tw-ring-inset: ; --tw-ring-offset-width: 0px; --tw-ring-offset-color: #fff; --tw-ring-color: rgba(69,89,164,0.5); --tw-ring-offset-shadow: 0 0 transparent; --tw-ring-shadow: 0 0 transparent; --tw-shadow: 0 0 transparent; --tw-shadow-colored: 0 0 transparent; --tw-blur: ; --tw-brightness: ; --tw-contrast: ; --tw-grayscale: ; --tw-hue-rotate: ; --tw-invert: ; --tw-saturate: ; --tw-sepia: ; --tw-drop-shadow: ; --tw-backdrop-blur: ; --tw-backdrop-brightness: ; --tw-backdrop-contrast: ; --tw-backdrop-grayscale: ; --tw-backdrop-hue-rotate: ; --tw-backdrop-invert: ; --tw-backdrop-opacity: ; --tw-backdrop-saturate: ; --tw-backdrop-sepia: ; font-weight: 600; color: var(--tw-prose-bold);\">Konvertierung</span>:\n",
                "\n",
                "- `ASCII()`: Gibt den ASCII-Code des ersten Zeichens eines Strings zurück. (Beispiel 10)\n",
                "- `CHAR()`: Gibt das Zeichen zurück, das dem angegebenen ASCII-Code entspricht. (Beispiel 10)\n",
                "- `UNICODE()`: Gibt den Unicode-Wert des ersten Zeichens eines Strings zurück. (Beispiel 10)\n",
                "- `NCHAR()`: Gibt das Unicode-Zeichen zurück, das dem angegebenen Unicode-Wert entspricht. (Beispiel 10)\n",
                "- `CAST()`: Wandelt einen Ausdruck in einen angegebenen Datentyp um. (Beispiel 11)\n",
                "- `CONVERT()`: Wandelt einen Ausdruck in einen angegebenen Datentyp um. (Beispiel 11)\n",
                "\n",
                "4. <span style=\"border: 0px solid rgb(217, 217, 227); box-sizing: border-box; --tw-border-spacing-x: 0; --tw-border-spacing-y: 0; --tw-translate-x: 0; --tw-translate-y: 0; --tw-rotate: 0; --tw-skew-x: 0; --tw-skew-y: 0; --tw-scale-x: 1; --tw-scale-y: 1; --tw-pan-x: ; --tw-pan-y: ; --tw-pinch-zoom: ; --tw-scroll-snap-strictness: proximity; --tw-gradient-from-position: ; --tw-gradient-via-position: ; --tw-gradient-to-position: ; --tw-ordinal: ; --tw-slashed-zero: ; --tw-numeric-figure: ; --tw-numeric-spacing: ; --tw-numeric-fraction: ; --tw-ring-inset: ; --tw-ring-offset-width: 0px; --tw-ring-offset-color: #fff; --tw-ring-color: rgba(69,89,164,0.5); --tw-ring-offset-shadow: 0 0 transparent; --tw-ring-shadow: 0 0 transparent; --tw-shadow: 0 0 transparent; --tw-shadow-colored: 0 0 transparent; --tw-blur: ; --tw-brightness: ; --tw-contrast: ; --tw-grayscale: ; --tw-hue-rotate: ; --tw-invert: ; --tw-saturate: ; --tw-sepia: ; --tw-drop-shadow: ; --tw-backdrop-blur: ; --tw-backdrop-brightness: ; --tw-backdrop-contrast: ; --tw-backdrop-grayscale: ; --tw-backdrop-hue-rotate: ; --tw-backdrop-invert: ; --tw-backdrop-opacity: ; --tw-backdrop-saturate: ; --tw-backdrop-sepia: ; font-weight: 600; color: var(--tw-prose-bold);\">Aggregation</span>:\n",
                "\n",
                "- `STRING_AGG()`: Kombiniert mehrere Zeilen eines Strings in einer Spalte. (Beispiel 12)\n",
                "\n",
                "5. <span style=\"border: 0px solid rgb(217, 217, 227); box-sizing: border-box; --tw-border-spacing-x: 0; --tw-border-spacing-y: 0; --tw-translate-x: 0; --tw-translate-y: 0; --tw-rotate: 0; --tw-skew-x: 0; --tw-skew-y: 0; --tw-scale-x: 1; --tw-scale-y: 1; --tw-pan-x: ; --tw-pan-y: ; --tw-pinch-zoom: ; --tw-scroll-snap-strictness: proximity; --tw-gradient-from-position: ; --tw-gradient-via-position: ; --tw-gradient-to-position: ; --tw-ordinal: ; --tw-slashed-zero: ; --tw-numeric-figure: ; --tw-numeric-spacing: ; --tw-numeric-fraction: ; --tw-ring-inset: ; --tw-ring-offset-width: 0px; --tw-ring-offset-color: #fff; --tw-ring-color: rgba(69,89,164,0.5); --tw-ring-offset-shadow: 0 0 transparent; --tw-ring-shadow: 0 0 transparent; --tw-shadow: 0 0 transparent; --tw-shadow-colored: 0 0 transparent; --tw-blur: ; --tw-brightness: ; --tw-contrast: ; --tw-grayscale: ; --tw-hue-rotate: ; --tw-invert: ; --tw-saturate: ; --tw-sepia: ; --tw-drop-shadow: ; --tw-backdrop-blur: ; --tw-backdrop-brightness: ; --tw-backdrop-contrast: ; --tw-backdrop-grayscale: ; --tw-backdrop-hue-rotate: ; --tw-backdrop-invert: ; --tw-backdrop-opacity: ; --tw-backdrop-saturate: ; --tw-backdrop-sepia: ; font-weight: 600; color: var(--tw-prose-bold);\">Verschiedenes</span>:\n",
                "\n",
                "- `CONCAT()`: Verkettet zwei oder mehr Strings. (Beispiel 13)\n",
                "- `CONCAT_WS()`: Verkettet Strings mit einem Trennzeichen. (Beispiel 13)\n",
                "- `QUOTENAME()`: Gibt einen Unicode-String mit Klammern zurück. (Beispiel 14)\n",
                "- `REVERSE()`: Kehrt einen String um. (Beispiel 15)\n",
                "- `SPACE()`: Gibt einen String mit der angegebenen Anzahl von Leerzeichen zurück. (Beispiel 16)"
            ],
            "metadata": {
                "azdata_cell_guid": "2e5e28d4-a2c3-42a5-9d20-74be134c5be6"
            },
            "attachments": {}
        },
        {
            "cell_type": "code",
            "source": [
                "Use [AdventureWorks2017]\r\n",
                "Go"
            ],
            "metadata": {
                "azdata_cell_guid": "1d71683d-5067-43ce-a05f-220f007bdfd7",
                "language": "sql"
            },
            "outputs": [],
            "execution_count": null
        },
        {
            "cell_type": "markdown",
            "source": [
                "# Beispiel 1: LEN, LEFT, RIGHT"
            ],
            "metadata": {
                "language": "sql",
                "azdata_cell_guid": "348a14f7-1d3a-4db7-953f-d995a9e50c4f"
            },
            "attachments": {}
        },
        {
            "cell_type": "code",
            "source": [
                "-- schlägt fehl, da nicht jede Spalte ein Leerzeichen hat\r\n",
                "SELECT [AddressID]\r\n",
                "      ,[AddressLine1]\r\n",
                "      ,[AddressLine2]\r\n",
                "      ,len([AddressLine2]) as [AddressLine2_len]\r\n",
                "      ,right([AddressLine2],5) as [AddressLine2_Right5]\r\n",
                "      ,left([AddressLine2],5) as [AddressLine2_Left5]\r\n",
                "      -- Zusätzliche berechnete Spalten\r\n",
                "      ,LEFT([AddressLine2], CHARINDEX(' ', [AddressLine2]) - 1) as [AddressLine2_BeforeSpace]\r\n",
                "      ,RIGHT([AddressLine2], LEN([AddressLine2]) - CHARINDEX(' ', [AddressLine2])) as [AddressLine2_AfterSpace]\r\n",
                "FROM [AdventureWorks2017].[Person].[Address]\r\n",
                "where AddressLine2 is not null"
            ],
            "metadata": {
                "language": "sql",
                "azdata_cell_guid": "edaeb94c-3b76-489b-a037-99474b890afc",
                "tags": []
            },
            "outputs": [],
            "execution_count": null
        },
        {
            "cell_type": "code",
            "source": [
                "-- geändert, damit es auch mit Spalten funktioniert, die kei Leerzeichen haben\r\n",
                "SELECT [AddressID]\r\n",
                "      ,[AddressLine1]\r\n",
                "      ,[AddressLine2]\r\n",
                "      ,len([AddressLine2]) as [AddressLine2_len]\r\n",
                "      ,right([AddressLine2],5) as [AddressLine2_Right5]\r\n",
                "      ,left([AddressLine2],5) as [AddressLine2_Left5]\r\n",
                "      -- Zusätzliche berechnete Spalten\r\n",
                "      ,CASE \r\n",
                "           WHEN CHARINDEX(' ', [AddressLine2]) > 0 THEN\r\n",
                "               LEFT([AddressLine2], CHARINDEX(' ', [AddressLine2]) - 1)\r\n",
                "           ELSE\r\n",
                "               [AddressLine2]\r\n",
                "       END as [AddressLine2_BeforeSpace]\r\n",
                "      ,CASE \r\n",
                "           WHEN CHARINDEX(' ', [AddressLine2]) > 0 THEN\r\n",
                "               RIGHT([AddressLine2], LEN([AddressLine2]) - CHARINDEX(' ', [AddressLine2]))\r\n",
                "           ELSE\r\n",
                "               ''\r\n",
                "       END as [AddressLine2_AfterSpace]\r\n",
                "FROM [AdventureWorks2017].[Person].[Address]\r\n",
                "where AddressLine2 is not null\r\n",
                ""
            ],
            "metadata": {
                "language": "sql",
                "azdata_cell_guid": "6737a6d9-94e1-4805-bdd1-b1d24fc74b41"
            },
            "outputs": [],
            "execution_count": null
        },
        {
            "cell_type": "markdown",
            "source": [
                "# Beispiel 2: UPPER / LOWER\n",
                "\n",
                "In T-SQL konvertiert die LOWER()-Funktion alle Buchstaben eines gegebenen Zeichenkettenausdrucks in Kleinbuchstaben, während die UPPER()-Funktion alle Buchstaben in Großbuchstaben umwandelt."
            ],
            "metadata": {
                "azdata_cell_guid": "64f35911-d44f-4f91-815b-47689960a0ae"
            },
            "attachments": {}
        },
        {
            "cell_type": "code",
            "source": [
                "Select Top 10 FirstName, LastName from [AdventureWorks2017].[Person].[Person] order by LastName\r\n",
                "Select Top 10 FirstName, UPPER(LastName) as [LastName] from [AdventureWorks2017].[Person].[Person] order by LastName"
            ],
            "metadata": {
                "azdata_cell_guid": "8d619c53-7fbe-46d4-a883-3456008b81b0",
                "language": "sql"
            },
            "outputs": [],
            "execution_count": null
        },
        {
            "cell_type": "markdown",
            "source": [
                "## erster Buchstabe des Vornamens GROSS\n",
                "\n",
                "Wenn Sie sicherstellen möchten, dass der Vorname mit einem Großbuchstaben beginnt und der Rest des Vornamens in Kleinbuchstaben geschrieben ist, können Sie die UPPER(), LOWER() und LEFT() Funktionen in Kombination mit der RIGHT() Funktion verwenden:"
            ],
            "metadata": {
                "language": "sql",
                "azdata_cell_guid": "81c8be6d-74b6-43cb-a879-1d52c788c3c9"
            },
            "attachments": {}
        },
        {
            "cell_type": "code",
            "source": [
                "SELECT \r\n",
                "    TOP 10 \r\n",
                "    UPPER(LEFT(FirstName, 1)) + LOWER(RIGHT(FirstName, LEN(FirstName) - 1)) AS [FirstName],\r\n",
                "    UPPER(LastName) as [LastName]\r\n",
                "FROM \r\n",
                "    [AdventureWorks2017].[Person].[Person]\r\n",
                "ORDER BY \r\n",
                "    LastName;"
            ],
            "metadata": {
                "language": "sql",
                "azdata_cell_guid": "14a92d60-0b4a-47f8-a0b2-8eca80478e66"
            },
            "outputs": [],
            "execution_count": null
        },
        {
            "cell_type": "markdown",
            "source": [
                "# Beispiel 3: LTRIM, RTRIM, TRIM\n",
                "\n",
                "- LTRIM - Die LTRIM-Funktion in T-SQL entfernt alle führenden (links stehenden) Leerzeichen aus einem gegebenen Zeichenfolgenwert.\n",
                "- RTRIM - Die RTRIM-Funktion in T-SQL entfernt alle abschließenden (rechts stehenden) Leerzeichen aus einem gegebenen Zeichenfolgenwert.\n",
                "- TRIM -  (verfügbar ab SQL Server 2017): Die TRIM-Funktion entfernt sowohl führende als auch abschließende Leerzeichen aus einer gegebenen Zeichenfolge. Es kann auch verwendet werden, um andere Zeichen als Leerzeichen am Anfang oder Ende einer Zeichenfolge zu entfernen, wenn diese Zeichen als Parameter übergeben werden."
            ],
            "metadata": {
                "language": "sql",
                "azdata_cell_guid": "b6d20812-588c-414a-bc09-038b394da902"
            },
            "attachments": {}
        },
        {
            "cell_type": "code",
            "source": [
                "Declare @teststring as char(100) = ' Test xxx ' \r\n",
                "-- die Leerzeichen bleiben vorne und hinten erhalten\r\n",
                "print '''' + @teststring + ''''\r\n",
                "print len(@teststring) -- das Leerzeichen am Ende wird automatisch entfernt"
            ],
            "metadata": {
                "language": "sql",
                "azdata_cell_guid": "cbcb0c9b-8299-409b-97a6-1fa3a38c4b62"
            },
            "outputs": [],
            "execution_count": null
        },
        {
            "cell_type": "code",
            "source": [
                "Declare @teststring as char(100) = ' Test xxx ' \r\n",
                "-- die Leerzeichen bleiben vorne und hinten erhalten\r\n",
                "print '''' + rtrim(@teststring) + ''''\r\n",
                "print len(rtrim(@teststring))"
            ],
            "metadata": {
                "language": "sql",
                "azdata_cell_guid": "d741431b-a3d2-4616-9018-9b34c27a2750",
                "tags": []
            },
            "outputs": [],
            "execution_count": null
        },
        {
            "cell_type": "code",
            "source": [
                "Declare @teststring as char(100) = ' Test xxx ' \r\n",
                "-- die Leerzeichen bleiben vorne und hinten erhalten\r\n",
                "print '''' + ltrim(@teststring) + ''''\r\n",
                "print len(ltrim(@teststring))"
            ],
            "metadata": {
                "language": "sql",
                "azdata_cell_guid": "deb84672-ec7c-4096-943d-8552cc9eadf7"
            },
            "outputs": [],
            "execution_count": null
        },
        {
            "cell_type": "code",
            "source": [
                "Declare @teststring as char(100) = ' Test xxx ' \r\n",
                "-- Leerzeichen am Anfang & Ende entfernen\r\n",
                "print '''' + rtrim(ltrim(@teststring)) + ''''\r\n",
                "print len(ltrim(rtrim(@teststring))) \r\n",
                "-- Seit SQL2017\r\n",
                "print '''' + trim(@teststring) + ''''\r\n",
                "print len(trim(@teststring))"
            ],
            "metadata": {
                "language": "sql",
                "azdata_cell_guid": "089feba4-16cc-4885-9bdf-1af4ab5f82fd"
            },
            "outputs": [],
            "execution_count": null
        },
        {
            "cell_type": "code",
            "source": [
                "Declare @teststring as char(100) = ' Test xxx ' \r\n",
                "print '''' + left(@teststring,6)+ ''''\r\n",
                "print '''' + ltrim(rtrim(left(@teststring,6))) + ''''"
            ],
            "metadata": {
                "language": "sql",
                "azdata_cell_guid": "e7fad563-4d28-4b6c-8ba3-1a689a27d9e4",
                "tags": []
            },
            "outputs": [],
            "execution_count": null
        },
        {
            "cell_type": "markdown",
            "source": [
                "## LTRIM, RTRIM, TRIM und geschützte Leerzeichen\n",
                "\n",
                "Geschützte Leerzeichen (auch bekannt als nicht brechendes Leerzeichen und repräsentiert durch ASCII 160) werden oft verwendet, um zu verhindern, dass Zeilenumbrüche an bestimmten Stellen in Texten auftreten. Bei der Verwendung von T-SQL-Funktionen ist es wichtig zu wissen, wie diese Funktionen mit solchen Zeichen umgehen:\n",
                "\n",
                "  \n",
                "\n",
                "- LTRIM: Die LTRIM-Funktion in T-SQL ist darauf ausgelegt, normale Leerzeichen (ASCII 32) zu entfernen, die am Anfang einer Zeichenfolge stehen. Sie wird nicht geschützte Leerzeichen (ASCII 160) am Anfang einer Zeichenfolge entfernen.\n",
                "- RTRIM: Die RTRIM-Funktion verhält sich ähnlich wie LTRIM, jedoch werden nur die am Ende einer Zeichenfolge stehenden normalen Leerzeichen entfernt. Auch hier werden geschützte Leerzeichen (ASCII 160) am Ende nicht entfernt.\n",
                "- TRIM: Ab SQL Server 2017 kann die TRIM-Funktion verwendet werden, um sowohl führende als auch abschließende Zeichen zu entfernen. In seiner grundlegenden Anwendung (ohne zusätzliche Parameter) verhält es sich wie die Kombination von LTRIM und RTRIM und wird ebenso geschützte Leerzeichen nicht entfernen.\n",
                "\n",
                "<span style=\"color: var(--vscode-foreground);\">Wenn Sie geschützte Leerzeichen entfernen möchten, müssen Sie die REPLACE-Funktion oder eine ähnliche Methode verwenden, um sie zuerst in normale Leerzeichen zu konvertieren oder sie direkt zu entfernen.</span>"
            ],
            "metadata": {
                "language": "sql",
                "azdata_cell_guid": "65f3488f-3ffe-4f0c-a3b4-e214303a3b6d"
            },
            "attachments": {}
        },
        {
            "cell_type": "code",
            "source": [
                "-- LTRIM/RTRIM entfernt keine geschütztes Leerzeichen ASCII 160\r\n",
                "Declare @teststring as char(100) = ' Test xxx ' + Char(160) + ' '\r\n",
                "print '''' + @teststring + '''' \r\n",
                "print len(@teststring)\r\n",
                "print len(rtrim(@teststring))\r\n",
                "print len(rtrim(ltrim(replace(@teststring,char(160),' '))))"
            ],
            "metadata": {
                "language": "sql",
                "azdata_cell_guid": "b86de70b-db51-496c-ab59-90430e29fea9"
            },
            "outputs": [],
            "execution_count": null
        },
        {
            "cell_type": "markdown",
            "source": [
                "# Beispiel 4: REPLACE & TRANSLATE\n",
                "\n",
                "Das REPLACE und TRANSLATE ermöglichen es, Zeichenketten innerhalb eines Textes durch andere Zeichenketten zu ersetzen.\n",
                "\n",
                "Die **REPLACE**\\-Funktion in T-SQL ermöglicht es, alle Vorkommen einer bestimmten Zeichenfolge in einer anderen Zeichenfolge durch eine neue Zeichenfolge zu ersetzen. Es wird häufig verwendet, um unerwünschte Zeichen oder Wörter in einer Zeichenfolge zu entfernen oder durch andere zu ersetzen."
            ],
            "metadata": {
                "azdata_cell_guid": "3a11c468-d556-40b4-bc84-0b4ef048c840"
            },
            "attachments": {}
        },
        {
            "cell_type": "code",
            "source": [
                "Declare @Var as varchar(100) = 'Beispeil 1'\r\n",
                "Select REPLACE(@Var,'Beispeil','Beispiel')"
            ],
            "metadata": {
                "azdata_cell_guid": "56a88cad-e655-4596-a786-e2e38cd75a29",
                "language": "sql"
            },
            "outputs": [],
            "execution_count": null
        },
        {
            "cell_type": "markdown",
            "source": [
                "Die **TRANSLATE**\\-Funktion ist eine erweiterte Version der REPLACE-Funktion. Sie nimmt eine Eingabezeichenfolge und ersetzt Zeichen, die in einer angegebenen Zeichenfolge gefunden werden, durch Zeichen in einer anderen angegebenen Zeichenfolge. Jedes Zeichen in der Eingabezeichenfolge, das mit einem Zeichen in der ersten Zeichenfolge der Übersetzungstabelle übereinstimmt, wird durch das entsprechende Zeichen in der zweiten Zeichenfolge ersetzt."
            ],
            "metadata": {
                "azdata_cell_guid": "4c7643a3-8114-4975-b119-aa916691d5ac"
            },
            "attachments": {}
        },
        {
            "cell_type": "code",
            "source": [
                "SELECT TRANSLATE('1A2B3C', 'ABC', 'XYZ');\r\n",
                "-- Ergebnis: '1X2Y3Z'"
            ],
            "metadata": {
                "azdata_cell_guid": "83352197-5f45-4aac-90f1-062d4fd89415",
                "language": "sql"
            },
            "outputs": [],
            "execution_count": null
        },
        {
            "cell_type": "code",
            "source": [
                "SELECT TRANSLATE('2*[3+4]/{7-2}', '+-', '-+');"
            ],
            "metadata": {
                "language": "sql",
                "azdata_cell_guid": "faa34661-20f6-4d04-aaef-ad5a36fe7f9e"
            },
            "outputs": [],
            "execution_count": null
        },
        {
            "cell_type": "code",
            "source": [
                "SELECT TRANSLATE('2*[3+4]/{7-2}', '[]{}', '()()');"
            ],
            "metadata": {
                "language": "sql",
                "azdata_cell_guid": "99a83b59-915f-42e7-9687-0d99404b4c32"
            },
            "outputs": [],
            "execution_count": null
        },
        {
            "cell_type": "code",
            "source": [
                "-- das selbe mit Replace\r\n",
                "SELECT\r\n",
                "REPLACE\r\n",
                "(\r\n",
                "      REPLACE\r\n",
                "      (\r\n",
                "            REPLACE\r\n",
                "            (\r\n",
                "                  REPLACE\r\n",
                "                  (\r\n",
                "                        '2*[3+4]/{7-2}',\r\n",
                "                        '[',\r\n",
                "                        '('\r\n",
                "                  ),\r\n",
                "                  ']',\r\n",
                "                  ')'\r\n",
                "            ),\r\n",
                "            '{',\r\n",
                "            '('\r\n",
                "      ),\r\n",
                "      '}',\r\n",
                "      ')'\r\n",
                ");"
            ],
            "metadata": {
                "language": "sql",
                "azdata_cell_guid": "03eba0d5-568a-44f4-8a1d-227187016d40"
            },
            "outputs": [],
            "execution_count": null
        },
        {
            "cell_type": "markdown",
            "source": [
                "# Beispiel 5: Einfügen von Text mit STUFF\n",
                "\n",
                "Die STUFF-Funktion in T-SQL wird verwendet, um einen Teil einer Zeichenfolge durch eine andere Zeichenfolge zu ersetzen. Sie nimmt einen Ziel-String und ersetzt ab einer bestimmten Startposition eine angegebene Anzahl von Zeichen durch einen anderen gegebenen String. Mit STUFF können Benutzer also Teile einer Zeichenfolge präzise manipulieren, was besonders nützlich ist, um bestimmte Muster oder Strukturen in Daten zu ändern."
            ],
            "metadata": {
                "language": "sql",
                "azdata_cell_guid": "729b8fd6-cc69-40fd-9835-808aab47e239"
            },
            "attachments": {}
        },
        {
            "cell_type": "code",
            "source": [
                "-- Ersetzen von Zeichen bei einer bestimmten Position\r\n",
                "Select STUFF('123456',3,2,'xxxx')"
            ],
            "metadata": {
                "language": "sql",
                "azdata_cell_guid": "346bb824-91a2-442c-b5fd-eb7954830f43"
            },
            "outputs": [],
            "execution_count": null
        },
        {
            "cell_type": "code",
            "source": [
                "-- einfaches Beispiel\r\n",
                "SELECT STUFF('Hello World', 7, 5, 'T-SQL');\r\n",
                "-- Ergebnis: 'Hello T-SQL'"
            ],
            "metadata": {
                "language": "sql",
                "azdata_cell_guid": "e2945790-af1c-4b1c-baa0-20ffe886dd4c"
            },
            "outputs": [],
            "execution_count": null
        },
        {
            "cell_type": "code",
            "source": [
                "-- Einfügen ohne Ersetzen\r\n",
                "SELECT STUFF('HelloWorld', 6, 0, ' ');\r\n",
                "-- Ergebnis: 'Hello World'"
            ],
            "metadata": {
                "language": "sql",
                "azdata_cell_guid": "12215c14-aff0-4d95-9c82-20cf7cbb55ec"
            },
            "outputs": [],
            "execution_count": null
        },
        {
            "cell_type": "code",
            "source": [
                "-- Entfernen eines Teils einer Zeichenfolge\r\n",
                "SELECT STUFF('Hello World', 7, 5, '');\r\n",
                "-- Ergebnis: 'Hello '"
            ],
            "metadata": {
                "language": "sql",
                "azdata_cell_guid": "a6ee4e3c-0dd0-4260-b679-94ac198dbe03"
            },
            "outputs": [],
            "execution_count": null
        },
        {
            "cell_type": "code",
            "source": [
                "--Ersetzen von Zeichen in einer Telefonnummer\r\n",
                "SELECT STUFF(STUFF('1234567890', 4, 0, '-'), 8, 0, '-');\r\n",
                "-- Ergebnis: '123-456-7890'"
            ],
            "metadata": {
                "language": "sql",
                "azdata_cell_guid": "8025c550-41a8-4788-b827-4271b4acd6e9"
            },
            "outputs": [],
            "execution_count": null
        },
        {
            "cell_type": "code",
            "source": [
                "-- Beispiel SQL -Statement\r\n",
                "SELECT STUFF('SELECT * FROM tablename', 15, 0, 'TOP 10');\r\n",
                "-- Ergebnis: 'SELECT TOP 10 * FROM tablename'"
            ],
            "metadata": {
                "language": "sql",
                "azdata_cell_guid": "2f60258e-4140-4d25-a948-3460d14447de"
            },
            "outputs": [],
            "execution_count": null
        },
        {
            "cell_type": "markdown",
            "source": [
                "# Beispel 6: Replicate\n",
                "\n",
                "Die REPLICATE-Funktion in T-SQL wird verwendet, um eine Zeichenfolge eine bestimmte Anzahl von Malen zu wiederholen. Hier ist ein einfaches Beispiel, um zu zeigen, wie es funktioniert:"
            ],
            "metadata": {
                "language": "sql",
                "azdata_cell_guid": "3199bc3b-c36d-4e44-8945-54f6af5277a3"
            },
            "attachments": {}
        },
        {
            "cell_type": "markdown",
            "source": [
                "Angenommen, Sie möchten eine gestrichelte Linie erzeugen, die aus 50 Bindestrichen besteht"
            ],
            "metadata": {
                "language": "sql",
                "azdata_cell_guid": "fefcfacb-a607-4b0b-b9e3-5bbb39598a47"
            },
            "attachments": {}
        },
        {
            "cell_type": "code",
            "source": [
                "SELECT REPLICATE('-', 50) AS DashedLine;"
            ],
            "metadata": {
                "language": "sql",
                "azdata_cell_guid": "35ecddb1-d57e-4d11-8b0e-602c8f49b81c"
            },
            "outputs": [],
            "execution_count": null
        },
        {
            "cell_type": "markdown",
            "source": [
                "Hier ist ein weiteres Beispiel, bei dem Sie vielleicht den Wert einer Spalte in einer Tabelle mit Sternen (\\*) auf einer bestimmten Länge auffüllen möchten:"
            ],
            "metadata": {
                "language": "sql",
                "azdata_cell_guid": "9497adb2-77fc-45ca-a434-7fdfe32e3613"
            },
            "attachments": {}
        },
        {
            "cell_type": "code",
            "source": [
                "-- Angenommen, es gibt eine Tabelle namens 'Products' mit einer Spalte 'ProductName'\r\n",
                "SELECT \r\n",
                "    ProductName + REPLICATE('*', 20 - LEN(ProductName)) AS PaddedProductName \r\n",
                "FROM \r\n",
                "    Products;"
            ],
            "metadata": {
                "language": "sql",
                "azdata_cell_guid": "6ad93c6c-df94-4be0-8191-f6a500fdd6ed",
                "tags": []
            },
            "outputs": [],
            "execution_count": null
        },
        {
            "cell_type": "markdown",
            "source": [
                "# Beispiel 7 - Format\n",
                "\n",
                "Die FORMAT-Funktion in T-SQL wird verwendet, um den Wert eines Ausdrucks in das angegebene Format zu konvertieren. Meistens wird sie verwendet, um Datums-, Zeit- und Zahlenwerte zu formatieren."
            ],
            "metadata": {
                "azdata_cell_guid": "5247815a-783b-43f6-a5aa-57a07d43ad83"
            },
            "attachments": {}
        },
        {
            "cell_type": "code",
            "source": [
                "-- (1) Formatieren eines Datums\r\n",
                "SELECT FORMAT(GETDATE(), 'dd/MM/yyyy') AS FormattedDate;\r\n",
                "-- Ergebnis könnte sein: \"25/09/2023\""
            ],
            "metadata": {
                "azdata_cell_guid": "e2b4abaa-c81d-4e84-b9fc-30190785ba97",
                "language": "sql"
            },
            "outputs": [],
            "execution_count": null
        },
        {
            "cell_type": "code",
            "source": [
                "-- (2) Formatieren einer Zeit\r\n",
                "SELECT FORMAT(GETDATE(), 'HH:mm:ss') AS FormattedTime;\r\n",
                "-- Ergebnis könnte sein: \"14:05:23\""
            ],
            "metadata": {
                "language": "sql",
                "azdata_cell_guid": "1e361f10-d178-477f-875b-108ca4682380"
            },
            "outputs": [],
            "execution_count": null
        },
        {
            "cell_type": "code",
            "source": [
                "-- (3) Lange Datums- und Zeitformate\r\n",
                "SELECT FORMAT(GETDATE(), 'dddd, MMMM dd, yyyy HH:mm:ss') AS LongFormat;\r\n",
                "-- Ergebnis könnte sein: \"Monday, September 25, 2023 14:05:23\""
            ],
            "metadata": {
                "language": "sql",
                "azdata_cell_guid": "901d1bb5-43ab-4ab8-9376-d0c1b9a32bd6"
            },
            "outputs": [],
            "execution_count": null
        },
        {
            "cell_type": "code",
            "source": [
                "-- (4) Kurzes Datumsformat\r\n",
                "SELECT FORMAT(GETDATE(), 'd') AS ShortDateFormat;\r\n",
                "-- Ergebnis könnte sein: \"25.9.2023\""
            ],
            "metadata": {
                "language": "sql",
                "azdata_cell_guid": "d2992286-d2ea-4c3b-9cc2-9f551a9a6f02"
            },
            "outputs": [],
            "execution_count": null
        },
        {
            "cell_type": "code",
            "source": [
                "-- (5) Formatieren mit Dezimalstellen\r\n",
                "SELECT FORMAT(12345.6789, 'N2') AS FormattedNumber;\r\n",
                "-- Ergebnis: \"12,345.68\""
            ],
            "metadata": {
                "language": "sql",
                "azdata_cell_guid": "2d7544ee-9c73-456c-ab05-8e8669236620"
            },
            "outputs": [],
            "execution_count": null
        },
        {
            "cell_type": "code",
            "source": [
                "-- (6) Formatieren einer Zahl als Währung\r\n",
                "SELECT FORMAT(12345.6789, 'C') AS FormattedCurrency;\r\n",
                "-- Ergebnis könnte sein (abhängig von der lokalen Einstellung): \"€12,345.68\""
            ],
            "metadata": {
                "language": "sql",
                "azdata_cell_guid": "6dd63647-dda4-4d1c-9863-8fa723af2ab4"
            },
            "outputs": [],
            "execution_count": null
        },
        {
            "cell_type": "code",
            "source": [
                "-- (7) Formatieren als Prozentsat\r\n",
                "SELECT FORMAT(0.12345, 'P2') AS FormattedPercentage;\r\n",
                "-- Ergebnis: \"12.35%\"\r\n",
                ""
            ],
            "metadata": {
                "language": "sql",
                "azdata_cell_guid": "4e767e70-448a-4162-9ff5-1a56634bae49"
            },
            "outputs": [],
            "execution_count": null
        },
        {
            "cell_type": "code",
            "source": [
                "-- (8) Benutzerdefinierte Zahlenformate\r\n",
                "SELECT FORMAT(1234567890, '###-###-####') AS CustomNumberFormat;\r\n",
                "-- Ergebnis: \"123-456-7890\""
            ],
            "metadata": {
                "language": "sql",
                "azdata_cell_guid": "9526ce52-8107-4b8e-8c89-41d7de353481"
            },
            "outputs": [],
            "execution_count": null
        },
        {
            "cell_type": "code",
            "source": [
                "-- (9) Verwendung von kuturspezifischen Formaten\r\n",
                "SELECT FORMAT(GETDATE(), 'D', 'de-DE') AS GermanDateFormat;\r\n",
                "-- Ergebnis könnte sein: \"25. September 2023\""
            ],
            "metadata": {
                "language": "sql",
                "azdata_cell_guid": "65b5c9aa-ca4a-45c8-b3e3-827514d65094"
            },
            "outputs": [],
            "execution_count": null
        },
        {
            "cell_type": "code",
            "source": [
                "-- (10) Formatieren von Zahlen mit Währungssymbolen basierend auf Kultur\r\n",
                "SELECT FORMAT(12345.6789, 'C', 'en-US') AS USCurrency,\r\n",
                "       FORMAT(12345.6789, 'C', 'ja-JP') AS JPYCurrency;\r\n",
                "-- Ergebnis: \"$12,345.68\" für USCurrency und \"¥12,346\" für JPYCurrency"
            ],
            "metadata": {
                "language": "sql",
                "azdata_cell_guid": "99033792-1bbe-4c65-a34e-dfe34a20707e"
            },
            "outputs": [],
            "execution_count": null
        },
        {
            "cell_type": "markdown",
            "source": [
                "Es ist zu beachten, dass die FORMAT-Funktion in einigen Fällen langsamer sein kann als andere native T-SQL-Funktionen zur Datums- und Zahlenformatierung, daher sollte sie mit Bedacht eingesetzt werden, insbesondere in Abfragen mit großen Datenmengen."
            ],
            "metadata": {
                "language": "sql",
                "azdata_cell_guid": "1f66f566-66d7-4163-80d8-74e38c82082e"
            },
            "attachments": {}
        },
        {
            "cell_type": "markdown",
            "source": [
                "# Beispiel 8: CHARINDEX & PATINDEX\n",
                "\n",
                "PATINDEX und CHARINDEX sind T-SQL-Funktionen, die zum Suchen von Zeichenketten innerhalb anderer Zeichenketten verwendet werden. Sie geben den Startindex des ersten Vorkommens der gesuchten Zeichenkette zurück. Wenn die gesuchte Zeichenkette nicht gefunden wird, geben beide Funktionen den Wert 0 zurück.\n",
                "\n",
                "## PATINDEX:\n",
                "\n",
                "PATINDEX ermöglicht komplexere Suchen mit Wildcards, ähnlich wie die LIKE-Bedingung in T-SQL.\n",
                "\n",
                "<span style=\"color: var(--vscode-foreground);\">Syntax: PATINDEX('%Muster%', Zeichenkette)</span>\n",
                "\n",
                "Beispiel: SELECT PATINDEX('%test%', 'Dies ist ein Test.')\n",
                "\n",
                "Dies gibt den Wert 12 zurück, da \"test\" an der 12. Position beginnt.\n",
                "\n",
                "## CHARINDEX:\n",
                "\n",
                "CHARINDEX führt eine direkte Zeichen-für-Zeichen-Suche ohne die Unterstützung von Wildcards durch.\n",
                "\n",
                "<span style=\"color: var(--vscode-foreground);\">Syntax: CHARINDEX('Muster', Zeichenkette, Startposition)</span>\n",
                "\n",
                "Beispiel: SELECT CHARINDEX('test', 'Dies ist ein Test.')\n",
                "\n",
                "Dies gibt ebenfalls den Wert 12 zurück.\n",
                "\n",
                "Ein Hauptunterschied zwischen den beiden Funktionen ist, dass PATINDEX Wildcards unterstützt, während CHARINDEX das nicht tut. Darüber hinaus bietet CHARINDEX die Möglichkeit, einen optionalen dritten Parameter für die Startposition anzugeben, von der aus die Suche beginnen soll.\n",
                "\n",
                "Falls man mehrfaches Vorkommen in einem String benötigt: [https://erhard-rainer.com/2023-09/mehrfaches-vorkommen-in-string-finden/](https:\\erhard-rainer.com\\2023-09\\mehrfaches-vorkommen-in-string-finden\\)"
            ],
            "metadata": {
                "language": "sql",
                "azdata_cell_guid": "d0f20ff3-7334-4b69-8577-19f374a019a2"
            },
            "attachments": {}
        },
        {
            "cell_type": "code",
            "source": [
                "-- Ermittle die Position von \"#\"\r\n",
                "Select [AddressLine2], CHARINDEX('#',[AddressLine2]) as [Position#]\r\n",
                "from [AdventureWorks2017].[Person].[Address]\r\n",
                "Where [AddressLine2] is not null\r\n",
                "order by 2 desc"
            ],
            "metadata": {
                "language": "sql",
                "azdata_cell_guid": "7d756b0d-c731-4acc-9d89-f855f1bf08f6",
                "tags": []
            },
            "outputs": [],
            "execution_count": null
        },
        {
            "cell_type": "code",
            "source": [
                "-- können auch mehrere Zeichen sein\r\n",
                "Select [AddressLine2], CHARINDEX('Kreditoren',[AddressLine2]) as [PositionKreditoren]\r\n",
                "from [AdventureWorks2017].[Person].[Address]\r\n",
                "Where [AddressLine2] like '%Kreditoren%'"
            ],
            "metadata": {
                "language": "sql",
                "azdata_cell_guid": "8b88e2a1-2380-4308-8334-fd9d3479f761"
            },
            "outputs": [],
            "execution_count": null
        },
        {
            "cell_type": "code",
            "source": [
                "-- Charindex ist nicht case-sensitive\r\n",
                "Select [AddressLine2], CHARINDEX('buchhaltung',[AddressLine2]) as [Position#]\r\n",
                "from [AdventureWorks2017].[Person].[Address]\r\n",
                "Where [AddressLine2] like '%buchhaltung%'"
            ],
            "metadata": {
                "language": "sql",
                "azdata_cell_guid": "14ae2b13-b5a6-469d-8161-fcd7acd7521e"
            },
            "outputs": [],
            "execution_count": null
        },
        {
            "cell_type": "code",
            "source": [
                "-- Charindex kann man aber auch case-sensitive verwenden\r\n",
                "Select [AddressLine2], CHARINDEX('buchhaltung',[AddressLine2] COLLATE Latin1_General_CS_AS) as [Position#]\r\n",
                "from [AdventureWorks2017].[Person].[Address]\r\n",
                "Where [AddressLine2] COLLATE Latin1_General_CS_AS like '%buchhaltung%'"
            ],
            "metadata": {
                "language": "sql",
                "azdata_cell_guid": "85794818-c6d3-44a7-a0f2-7ea5e8747777"
            },
            "outputs": [],
            "execution_count": null
        },
        {
            "cell_type": "code",
            "source": [
                "-- PATINDEX (Syntax identisch mit like)\r\n",
                "Select [AddressLine2], PATINDEX('%[1-9]%',[AddressLine2]) as [Position#]\r\n",
                "from [AdventureWorks2017].[Person].[Address]\r\n",
                "Where [AddressLine2] like '%[0]%'"
            ],
            "metadata": {
                "azdata_cell_guid": "86a02ea7-035e-4f7c-a3a5-256f79bcaedd",
                "language": "sql"
            },
            "outputs": [],
            "execution_count": null
        },
        {
            "cell_type": "code",
            "source": [
                "Select [AddressLine2], PATINDEX('%[1-9]%',[AddressLine2]) as [Position#]\r\n",
                "from [AdventureWorks2017].[Person].[Address]\r\n",
                "Where [AddressLine2] is not null"
            ],
            "metadata": {
                "language": "sql",
                "azdata_cell_guid": "4842f33b-94d6-47a9-946d-6fc0ef9a840f",
                "tags": [
                    "hide_input"
                ]
            },
            "outputs": [],
            "execution_count": null
        },
        {
            "cell_type": "markdown",
            "source": [
                "# Beispiel 9: Substring & STR\n",
                "\n",
                "Die SUBSTRING-Funktion in Transact-SQL (T-SQL) – der Anfragesprache von Microsoft SQL Server – ermöglicht es, einen Teil einer Zeichenkette basierend auf einer gegebenen Startposition und einer bestimmten Länge herauszuschneiden. Diese Funktion ist besonders nützlich, wenn nur ein bestimmter Abschnitt eines Strings benötigt wird oder wenn Daten auf eine bestimmte Weise formatiert oder analysiert werden müssen.  \n",
                "\n",
                "  \n",
                "\n",
                "<span class=\"hljs-built_in\" style=\"border: 0px solid rgb(217, 217, 227); box-sizing: border-box; --tw-border-spacing-x: 0; --tw-border-spacing-y: 0; --tw-translate-x: 0; --tw-translate-y: 0; --tw-rotate: 0; --tw-skew-x: 0; --tw-skew-y: 0; --tw-scale-x: 1; --tw-scale-y: 1; --tw-pan-x: ; --tw-pan-y: ; --tw-pinch-zoom: ; --tw-scroll-snap-strictness: proximity; --tw-gradient-from-position: ; --tw-gradient-via-position: ; --tw-gradient-to-position: ; --tw-ordinal: ; --tw-slashed-zero: ; --tw-numeric-figure: ; --tw-numeric-spacing: ; --tw-numeric-fraction: ; --tw-ring-inset: ; --tw-ring-offset-width: 0px; --tw-ring-offset-color: #fff; --tw-ring-color: rgba(69,89,164,0.5); --tw-ring-offset-shadow: 0 0 transparent; --tw-ring-shadow: 0 0 transparent; --tw-shadow: 0 0 transparent; --tw-shadow-colored: 0 0 transparent; --tw-blur: ; --tw-brightness: ; --tw-contrast: ; --tw-grayscale: ; --tw-hue-rotate: ; --tw-invert: ; --tw-saturate: ; --tw-sepia: ; --tw-drop-shadow: ; --tw-backdrop-blur: ; --tw-backdrop-brightness: ; --tw-backdrop-contrast: ; --tw-backdrop-grayscale: ; --tw-backdrop-hue-rotate: ; --tw-backdrop-invert: ; --tw-backdrop-opacity: ; --tw-backdrop-saturate: ; --tw-backdrop-sepia: ; color: rgb(233, 149, 12); font-family: &quot;Söhne Mono&quot;, Monaco, &quot;Andale Mono&quot;, &quot;Ubuntu Mono&quot;, monospace; white-space: pre; background-color: rgb(0, 0, 0);\">SUBSTRING</span> <span style=\"color: rgb(255, 255, 255); font-family: &quot;Söhne Mono&quot;, Monaco, &quot;Andale Mono&quot;, &quot;Ubuntu Mono&quot;, monospace; white-space: pre; background-color: rgb(0, 0, 0);\"> (Ausdruck, </span> <span class=\"hljs-keyword\" style=\"border: 0px solid rgb(217, 217, 227); box-sizing: border-box; --tw-border-spacing-x: 0; --tw-border-spacing-y: 0; --tw-translate-x: 0; --tw-translate-y: 0; --tw-rotate: 0; --tw-skew-x: 0; --tw-skew-y: 0; --tw-scale-x: 1; --tw-scale-y: 1; --tw-pan-x: ; --tw-pan-y: ; --tw-pinch-zoom: ; --tw-scroll-snap-strictness: proximity; --tw-gradient-from-position: ; --tw-gradient-via-position: ; --tw-gradient-to-position: ; --tw-ordinal: ; --tw-slashed-zero: ; --tw-numeric-figure: ; --tw-numeric-spacing: ; --tw-numeric-fraction: ; --tw-ring-inset: ; --tw-ring-offset-width: 0px; --tw-ring-offset-color: #fff; --tw-ring-color: rgba(69,89,164,0.5); --tw-ring-offset-shadow: 0 0 transparent; --tw-ring-shadow: 0 0 transparent; --tw-shadow: 0 0 transparent; --tw-shadow-colored: 0 0 transparent; --tw-blur: ; --tw-brightness: ; --tw-contrast: ; --tw-grayscale: ; --tw-hue-rotate: ; --tw-invert: ; --tw-saturate: ; --tw-sepia: ; --tw-drop-shadow: ; --tw-backdrop-blur: ; --tw-backdrop-brightness: ; --tw-backdrop-contrast: ; --tw-backdrop-grayscale: ; --tw-backdrop-hue-rotate: ; --tw-backdrop-invert: ; --tw-backdrop-opacity: ; --tw-backdrop-saturate: ; --tw-backdrop-sepia: ; color: rgb(46, 149, 211); font-family: &quot;Söhne Mono&quot;, Monaco, &quot;Andale Mono&quot;, &quot;Ubuntu Mono&quot;, monospace; white-space: pre; background-color: rgb(0, 0, 0);\">Start</span><span style=\"color: rgb(255, 255, 255); font-family: &quot;Söhne Mono&quot;, Monaco, &quot;Andale Mono&quot;, &quot;Ubuntu Mono&quot;, monospace; white-space: pre; background-color: rgb(0, 0, 0);\">, Länge)</span>"
            ],
            "metadata": {
                "language": "sql",
                "azdata_cell_guid": "bd347ecb-15cf-493c-9478-7db84ffdc2ac"
            },
            "attachments": {}
        },
        {
            "cell_type": "code",
            "source": [
                "-- einfaches Beispiel mit einer Variable\r\n",
                "Declare @t as nvarchar(MAX) = '123456789'\r\n",
                "Select @t, SUBSTRING(@t,3,2)"
            ],
            "metadata": {
                "language": "sql",
                "azdata_cell_guid": "ba2fa4e0-9ff6-41fa-b7d9-1d6c8567e68b"
            },
            "outputs": [],
            "execution_count": null
        },
        {
            "cell_type": "code",
            "source": [
                "-- einfaches Beispiel mit einer Query\r\n",
                "Select [AddressLine2], substring([AddressLine2],1,4) as [Substring_1_4]\r\n",
                "from [AdventureWorks2017].[Person].[Address]\r\n",
                "Where [AddressLine2] is not null"
            ],
            "metadata": {
                "language": "sql",
                "azdata_cell_guid": "8420d229-f0c6-4c23-b31b-e8dcaeafffd9"
            },
            "outputs": [],
            "execution_count": null
        },
        {
            "cell_type": "code",
            "source": [
                "-- was ist, wenn man einen Substring von einer NICHT-Zeichenkette benötigt wird => STR()\r\n",
                "Declare @t as int = '123456789'\r\n",
                "Select @t, SUBSTRING(STR(@t),3,2)"
            ],
            "metadata": {
                "language": "sql",
                "azdata_cell_guid": "5f786da2-69a3-496b-b311-32f3c21b0429"
            },
            "outputs": [],
            "execution_count": null
        },
        {
            "cell_type": "markdown",
            "source": [
                "Zahlen in Text umwandeln =\\> STR(float, length, decimal)"
            ],
            "metadata": {
                "language": "sql",
                "azdata_cell_guid": "8762cd07-f1d4-44a5-a229-10e65ab0c2b9"
            },
            "attachments": {}
        },
        {
            "cell_type": "code",
            "source": [
                "Select STR(15.66666, 5,3)\r\n",
                "Select STR(15.66666, 6,3) --der punkt zählt als length\r\n",
                "Select STR(15.66666, 9,3) -- füllt die fehlende länge mit Leerzeichen auf\r\n",
                "-- Alternative\r\n",
                "Select cast(round(15.66666,3) as varchar(10))"
            ],
            "metadata": {
                "language": "sql",
                "azdata_cell_guid": "470c6661-57ea-4f38-b621-113a70bea527"
            },
            "outputs": [],
            "execution_count": null
        },
        {
            "cell_type": "markdown",
            "source": [
                "# Beispiel 10: Arbeiten mit UNICODE und ASCII\n",
                "\n",
                "<span style=\"color: var(--vscode-foreground);\">UNICODE und ASCII sind zwei verschiedene Systeme zur Codierung von Zeichen.&nbsp;</span>  Die ASCII- und UNICODE-Funktionen sind nützlich, um den numerischen Wert eines Zeichens in einem bestimmten Zeichensatz (ASCII bzw. Unicode) zu bestimmen. Umgekehrt ermöglichen die CHAR- und NCHAR-Funktionen die Umwandlung eines numerischen Codes in das entsprechende Zeichen in diesen Zeichensätzen. Es ist wichtig zu beachten, dass Unicode ein viel umfangreicherer Zeichensatz ist und Zeichen aus vielen verschiedenen Sprachen und Schriftsystemen unterstützt, während ASCII in erster Linie für englische Zeichen entwickelt wurde. In Anwendungen, die mit internationalen Daten arbeiten, werden häufig UNICODE und NCHAR verwendet."
            ],
            "metadata": {
                "language": "sql",
                "azdata_cell_guid": "1eda97f1-d96d-4a6d-b608-00664af41b9f"
            },
            "attachments": {}
        },
        {
            "cell_type": "code",
            "source": [
                "SELECT ASCII('A') AS Result; -- Ergebnis: 65"
            ],
            "metadata": {
                "language": "sql",
                "azdata_cell_guid": "40888e7f-73b2-4b39-98f9-a53cc03eacf0"
            },
            "outputs": [],
            "execution_count": null
        },
        {
            "cell_type": "code",
            "source": [
                "SELECT CHAR(65) AS Result; -- Ergebnis: 'A'"
            ],
            "metadata": {
                "language": "sql",
                "azdata_cell_guid": "c1476580-3840-402d-86e3-fce2c7844405"
            },
            "outputs": [],
            "execution_count": null
        },
        {
            "cell_type": "code",
            "source": [
                "SELECT UNICODE('A') AS Result; -- Ergebnis: 65"
            ],
            "metadata": {
                "language": "sql",
                "azdata_cell_guid": "7d359722-09c9-4da3-9e46-0ed20489606c"
            },
            "outputs": [],
            "execution_count": null
        },
        {
            "cell_type": "code",
            "source": [
                "SELECT NCHAR(65) AS Result; -- Ergebnis: 'A'"
            ],
            "metadata": {
                "language": "sql",
                "azdata_cell_guid": "93d2db49-68a7-461e-8be9-5afbe3473e17"
            },
            "outputs": [],
            "execution_count": null
        },
        {
            "cell_type": "code",
            "source": [
                "Select Char(71) + Char(13) + Char(72)\r\n",
                "Select ASCII(Char(71))\r\n",
                "Select ASCII('Ä')\r\n",
                "Select Char(202)"
            ],
            "metadata": {
                "language": "sql",
                "azdata_cell_guid": "35639256-8ea1-47d8-b3ad-a76e0b28081f"
            },
            "outputs": [],
            "execution_count": null
        },
        {
            "cell_type": "code",
            "source": [
                "DECLARE @nstring nchar(8);  \r\n",
                "SET @nstring = N'København';  \r\n",
                "SELECT UNICODE(SUBSTRING(@nstring, 2, 1)),   \r\n",
                "   NCHAR(UNICODE(SUBSTRING(@nstring, 2, 1)));  "
            ],
            "metadata": {
                "language": "sql",
                "azdata_cell_guid": "24d33e48-eb48-4ca0-8422-797c8789b378"
            },
            "outputs": [],
            "execution_count": null
        },
        {
            "cell_type": "code",
            "source": [
                "DECLARE @nstring char(8);  \r\n",
                "SET @nstring = N'København';  \r\n",
                "SELECT UNICODE(SUBSTRING(@nstring, 2, 1)),   \r\n",
                "   NCHAR(UNICODE(SUBSTRING(@nstring, 2, 1)));  "
            ],
            "metadata": {
                "language": "sql",
                "azdata_cell_guid": "12250495-dde7-4c90-8919-c8de9168a785"
            },
            "outputs": [],
            "execution_count": null
        },
        {
            "cell_type": "code",
            "source": [
                "DECLARE @nstring char(8);  \r\n",
                "SET @nstring = N'København';  \r\n",
                "SELECT ASCII(SUBSTRING(@nstring, 2, 1)),   \r\n",
                "   CHAR(ASCII(SUBSTRING(@nstring, 2, 1)));  "
            ],
            "metadata": {
                "language": "sql",
                "azdata_cell_guid": "35677f15-b79d-4981-a91f-c70f0a79711e"
            },
            "outputs": [],
            "execution_count": null
        },
        {
            "cell_type": "markdown",
            "source": [
                "ASCII\n",
                "\n",
                "![ASCII-Tabelle für Sonderzeichen - pctipp.ch](https://www.pctipp.ch/img/1/1/4/5/8/7/7/9706744d60bec9c8.jpg)"
            ],
            "metadata": {
                "language": "sql",
                "azdata_cell_guid": "51fe28e5-d5da-486c-9278-177d6d73e798"
            },
            "attachments": {}
        },
        {
            "cell_type": "markdown",
            "source": [
                "# Beispiel 11: CAST und CONVERT\n",
                "\n",
                "Sowohl CAST als auch CONVERT sind leistungsstarke Werkzeuge in T-SQL, um die Datentypkonvertierung zu bewerkstelligen. Die Wahl zwischen ihnen hängt oft von den spezifischen Anforderungen der Aufgabe ab. Während CAST in den meisten Fällen ausreicht, bietet CONVERT zusätzliche Funktionen, die in bestimmten Situationen nützlich sein können. Es ist wichtig, sich mit beiden Funktionen vertraut zu machen und zu verstehen, wann man welche verwenden sollte, um effiziente und korrekte SQL-Abfragen zu schreiben.\n",
                "\n",
                "<span class=\"hljs-built_in\" style=\"border: 0px solid rgb(217, 217, 227); box-sizing: border-box; --tw-border-spacing-x: 0; --tw-border-spacing-y: 0; --tw-translate-x: 0; --tw-translate-y: 0; --tw-rotate: 0; --tw-skew-x: 0; --tw-skew-y: 0; --tw-scale-x: 1; --tw-scale-y: 1; --tw-pan-x: ; --tw-pan-y: ; --tw-pinch-zoom: ; --tw-scroll-snap-strictness: proximity; --tw-gradient-from-position: ; --tw-gradient-via-position: ; --tw-gradient-to-position: ; --tw-ordinal: ; --tw-slashed-zero: ; --tw-numeric-figure: ; --tw-numeric-spacing: ; --tw-numeric-fraction: ; --tw-ring-inset: ; --tw-ring-offset-width: 0px; --tw-ring-offset-color: #fff; --tw-ring-color: rgba(69,89,164,0.5); --tw-ring-offset-shadow: 0 0 transparent; --tw-ring-shadow: 0 0 transparent; --tw-shadow: 0 0 transparent; --tw-shadow-colored: 0 0 transparent; --tw-blur: ; --tw-brightness: ; --tw-contrast: ; --tw-grayscale: ; --tw-hue-rotate: ; --tw-invert: ; --tw-saturate: ; --tw-sepia: ; --tw-drop-shadow: ; --tw-backdrop-blur: ; --tw-backdrop-brightness: ; --tw-backdrop-contrast: ; --tw-backdrop-grayscale: ; --tw-backdrop-hue-rotate: ; --tw-backdrop-invert: ; --tw-backdrop-opacity: ; --tw-backdrop-saturate: ; --tw-backdrop-sepia: ; color: rgb(233, 149, 12); font-family: &quot;Söhne Mono&quot;, Monaco, &quot;Andale Mono&quot;, &quot;Ubuntu Mono&quot;, monospace; white-space: pre; background-color: rgb(0, 0, 0);\">CAST</span> <span style=\"color: rgb(255, 255, 255); font-family: &quot;Söhne Mono&quot;, Monaco, &quot;Andale Mono&quot;, &quot;Ubuntu Mono&quot;, monospace; white-space: pre; background-color: rgb(0, 0, 0);\">(ausdruck </span> <span class=\"hljs-keyword\" style=\"border: 0px solid rgb(217, 217, 227); box-sizing: border-box; --tw-border-spacing-x: 0; --tw-border-spacing-y: 0; --tw-translate-x: 0; --tw-translate-y: 0; --tw-rotate: 0; --tw-skew-x: 0; --tw-skew-y: 0; --tw-scale-x: 1; --tw-scale-y: 1; --tw-pan-x: ; --tw-pan-y: ; --tw-pinch-zoom: ; --tw-scroll-snap-strictness: proximity; --tw-gradient-from-position: ; --tw-gradient-via-position: ; --tw-gradient-to-position: ; --tw-ordinal: ; --tw-slashed-zero: ; --tw-numeric-figure: ; --tw-numeric-spacing: ; --tw-numeric-fraction: ; --tw-ring-inset: ; --tw-ring-offset-width: 0px; --tw-ring-offset-color: #fff; --tw-ring-color: rgba(69,89,164,0.5); --tw-ring-offset-shadow: 0 0 transparent; --tw-ring-shadow: 0 0 transparent; --tw-shadow: 0 0 transparent; --tw-shadow-colored: 0 0 transparent; --tw-blur: ; --tw-brightness: ; --tw-contrast: ; --tw-grayscale: ; --tw-hue-rotate: ; --tw-invert: ; --tw-saturate: ; --tw-sepia: ; --tw-drop-shadow: ; --tw-backdrop-blur: ; --tw-backdrop-brightness: ; --tw-backdrop-contrast: ; --tw-backdrop-grayscale: ; --tw-backdrop-hue-rotate: ; --tw-backdrop-invert: ; --tw-backdrop-opacity: ; --tw-backdrop-saturate: ; --tw-backdrop-sepia: ; color: rgb(46, 149, 211); font-family: &quot;Söhne Mono&quot;, Monaco, &quot;Andale Mono&quot;, &quot;Ubuntu Mono&quot;, monospace; white-space: pre; background-color: rgb(0, 0, 0);\">AS</span> <span style=\"color: rgb(255, 255, 255); font-family: &quot;Söhne Mono&quot;, Monaco, &quot;Andale Mono&quot;, &quot;Ubuntu Mono&quot;, monospace; white-space: pre; background-color: rgb(0, 0, 0);\">zieldatentyp [länge])</span>\n",
                "\n",
                "<span class=\"hljs-keyword\" style=\"border: 0px solid rgb(217, 217, 227); box-sizing: border-box; --tw-border-spacing-x: 0; --tw-border-spacing-y: 0; --tw-translate-x: 0; --tw-translate-y: 0; --tw-rotate: 0; --tw-skew-x: 0; --tw-skew-y: 0; --tw-scale-x: 1; --tw-scale-y: 1; --tw-pan-x: ; --tw-pan-y: ; --tw-pinch-zoom: ; --tw-scroll-snap-strictness: proximity; --tw-gradient-from-position: ; --tw-gradient-via-position: ; --tw-gradient-to-position: ; --tw-ordinal: ; --tw-slashed-zero: ; --tw-numeric-figure: ; --tw-numeric-spacing: ; --tw-numeric-fraction: ; --tw-ring-inset: ; --tw-ring-offset-width: 0px; --tw-ring-offset-color: #fff; --tw-ring-color: rgba(69,89,164,0.5); --tw-ring-offset-shadow: 0 0 transparent; --tw-ring-shadow: 0 0 transparent; --tw-shadow: 0 0 transparent; --tw-shadow-colored: 0 0 transparent; --tw-blur: ; --tw-brightness: ; --tw-contrast: ; --tw-grayscale: ; --tw-hue-rotate: ; --tw-invert: ; --tw-saturate: ; --tw-sepia: ; --tw-drop-shadow: ; --tw-backdrop-blur: ; --tw-backdrop-brightness: ; --tw-backdrop-contrast: ; --tw-backdrop-grayscale: ; --tw-backdrop-hue-rotate: ; --tw-backdrop-invert: ; --tw-backdrop-opacity: ; --tw-backdrop-saturate: ; --tw-backdrop-sepia: ; color: rgb(46, 149, 211); font-family: &quot;Söhne Mono&quot;, Monaco, &quot;Andale Mono&quot;, &quot;Ubuntu Mono&quot;, monospace; white-space: pre; background-color: rgb(0, 0, 0);\">CONVERT</span><span style=\"color: rgb(255, 255, 255); font-family: &quot;Söhne Mono&quot;, Monaco, &quot;Andale Mono&quot;, &quot;Ubuntu Mono&quot;, monospace; white-space: pre; background-color: rgb(0, 0, 0);\">(zieldatentyp [länge], ausdruck [, stil])</span>"
            ],
            "metadata": {
                "azdata_cell_guid": "8c7677c1-cfb9-4e8e-ba5b-88c71408d698"
            },
            "attachments": {}
        },
        {
            "cell_type": "markdown",
            "source": [
                "<u>Unterschiede zwischen CAST und CONVERT:</u>\n",
                "\n",
                "- Einfachheit vs. Flexibilität: CAST hat eine einfachere Syntax und ist ANSI-SQL-konform, was bedeutet, dass sie in den meisten relationalen Datenbanksystemen funktioniert. CONVERT, hingegen, ist spezifisch für T-SQL und bietet mehr Flexibilität, insbesondere bei der Formatierung.\n",
                "- Verwendungszweck: Während CAST hauptsächlich für die einfache Typumwandlung verwendet wird, ist CONVERT nützlich, wenn spezielle Formatierungsanforderungen für die konvertierten Daten benötigt werden, wie z. B. unterschiedliche Datums- und Zeitformate."
            ],
            "metadata": {
                "azdata_cell_guid": "17443ddb-f11a-4302-8c1b-95ecb74739d7"
            },
            "attachments": {}
        },
        {
            "cell_type": "code",
            "source": [
                "-- FLOAT zu INT\r\n",
                "SELECT CAST(123.45 AS INT);  -- Ergebnis: 123"
            ],
            "metadata": {
                "azdata_cell_guid": "c9dfa5e7-d35d-4277-92ac-d2b5cd210569",
                "language": "sql"
            },
            "outputs": [],
            "execution_count": null
        },
        {
            "cell_type": "code",
            "source": [
                "-- TEXT zu VARCHAR\r\n",
                "SELECT CAST('T-SQL' AS VARCHAR(10));  -- Ergebnis: T-SQL"
            ],
            "metadata": {
                "language": "sql",
                "azdata_cell_guid": "af3a9f88-343a-4d86-9be2-a13bb6b39086"
            },
            "outputs": [],
            "execution_count": null
        },
        {
            "cell_type": "code",
            "source": [
                "-- DATE zu DATETIME\r\n",
                "SELECT CAST('2023-09-25' AS DATETIME);  -- Ergebnis: 2023-09-25 00:00:00.000"
            ],
            "metadata": {
                "language": "sql",
                "azdata_cell_guid": "b83a69fa-9ee8-42e0-afcc-a4576640b7a9"
            },
            "outputs": [],
            "execution_count": null
        },
        {
            "cell_type": "code",
            "source": [
                "-- INT zu CHAR\r\n",
                "SELECT CAST(25 AS CHAR(2));  -- Ergebnis: 25"
            ],
            "metadata": {
                "language": "sql",
                "azdata_cell_guid": "dea1a18e-7e17-49f6-9a3e-18e635eaf627"
            },
            "outputs": [],
            "execution_count": null
        },
        {
            "cell_type": "code",
            "source": [
                "-- BINARY zu INT\r\n",
                "SELECT CAST(0x0000001A AS INT);  -- Ergebnis: 26"
            ],
            "metadata": {
                "language": "sql",
                "azdata_cell_guid": "f35d5f09-201a-4da9-b5a7-ea615f60747e"
            },
            "outputs": [],
            "execution_count": null
        },
        {
            "cell_type": "code",
            "source": [
                "-- DATE zu speziellem VARCHAR Format\r\n",
                "SELECT CONVERT(VARCHAR, GETDATE(), 103);  -- Ergebnis: 25/09/2023 (abhängig vom aktuellen Datum)"
            ],
            "metadata": {
                "language": "sql",
                "azdata_cell_guid": "7c1dab0d-7e18-42b1-aefa-92630393f0b9"
            },
            "outputs": [],
            "execution_count": null
        },
        {
            "cell_type": "code",
            "source": [
                "-- INT zu BINARY\r\n",
                "SELECT CONVERT(BINARY(4), 25);  -- Ergebnis: 0x00000019"
            ],
            "metadata": {
                "language": "sql",
                "azdata_cell_guid": "9360c210-57d3-40f3-b75b-5a03f0e9cccf"
            },
            "outputs": [],
            "execution_count": null
        },
        {
            "cell_type": "code",
            "source": [
                "-- Zeit in HH:MM:SS Format\r\n",
                "SELECT CONVERT(VARCHAR, GETDATE(), 108);  -- Ergebnis: 15:25:30 (abhängig von der aktuellen Zeit)"
            ],
            "metadata": {
                "language": "sql",
                "azdata_cell_guid": "857dfc1f-0ac2-4d7d-be89-4824857bd093"
            },
            "outputs": [],
            "execution_count": null
        },
        {
            "cell_type": "code",
            "source": [
                "-- VARCHAR zu MONEY\r\n",
                "SELECT CONVERT(MONEY, '12345.67');  -- Ergebnis: 12345.67"
            ],
            "metadata": {
                "language": "sql",
                "azdata_cell_guid": "5cd9eb01-ecef-4cf3-81f4-9afe8ab4c588"
            },
            "outputs": [],
            "execution_count": null
        },
        {
            "cell_type": "code",
            "source": [
                "--  DATETIME zu DATE\r\n",
                "SELECT CONVERT(DATE, '2023-09-25 15:25:30');  -- Ergebnis: 2023-09-25"
            ],
            "metadata": {
                "language": "sql",
                "azdata_cell_guid": "4d193b25-4a65-4fd5-87eb-3b95012a8089"
            },
            "outputs": [],
            "execution_count": null
        },
        {
            "cell_type": "code",
            "source": [
                "-- CAST in Kombination mit CONVERT\r\n",
                "SELECT CAST(CONVERT(VARCHAR, GETDATE(), 112) AS INT);  -- Ergebnis: 20230925 (abhängig vom aktuellen Datum)"
            ],
            "metadata": {
                "language": "sql",
                "azdata_cell_guid": "714c13a6-67f5-41a0-ad4b-7bdf180f978b"
            },
            "outputs": [],
            "execution_count": null
        },
        {
            "cell_type": "code",
            "source": [
                "-- CAST innerhalb von CONVERT\r\n",
                "SELECT CONVERT(VARCHAR, CAST(123.45 AS INT), 112);  -- Ergebnis: 123"
            ],
            "metadata": {
                "language": "sql",
                "azdata_cell_guid": "5f8ccd4e-a467-4547-b751-d0415ad523a3"
            },
            "outputs": [],
            "execution_count": null
        },
        {
            "cell_type": "code",
            "source": [
                "-- Geldbetrag in bestimmtem Format\r\n",
                "SELECT CONVERT(CHAR, CAST('$123.45' AS MONEY), 1);  -- Ergebnis: 123.45"
            ],
            "metadata": {
                "language": "sql",
                "azdata_cell_guid": "800e7bf3-a31b-411c-8423-e5db2ba429a6"
            },
            "outputs": [],
            "execution_count": null
        },
        {
            "cell_type": "code",
            "source": [
                "-- Konvertieren von FLOAT zu VARCHAR und dann zu INT\r\n",
                "SELECT CAST(CONVERT(VARCHAR, 123.45) AS INT);  -- Ergebnis: 123"
            ],
            "metadata": {
                "language": "sql",
                "azdata_cell_guid": "f8cacfff-bc59-4198-a1fc-e87d4d65512c"
            },
            "outputs": [],
            "execution_count": null
        },
        {
            "cell_type": "code",
            "source": [
                "-- Erstellen eines Datums aus VARCHAR\r\n",
                "SELECT CAST(CONVERT(DATETIME, '20230925') AS DATE);  -- Ergebnis: 2023-09-25"
            ],
            "metadata": {
                "language": "sql",
                "azdata_cell_guid": "af0fd68f-de85-4d22-b7df-257808b719e2"
            },
            "outputs": [],
            "execution_count": null
        },
        {
            "cell_type": "code",
            "source": [
                "-- Konvertieren von VARCHAR Datum im britischen Format\r\n",
                "SELECT CONVERT(DATETIME, '25/09/2023', 103);  -- Ergebnis: 2023-09-25 00:00:00.000"
            ],
            "metadata": {
                "language": "sql",
                "azdata_cell_guid": "b2962e67-25b6-4cf0-835b-8f40680cbc81"
            },
            "outputs": [],
            "execution_count": null
        },
        {
            "cell_type": "code",
            "source": [
                "--Konvertieren von VARCHAR Datum im US Format\r\n",
                "SELECT CONVERT(DATETIME, '09/25/2023', 101);  -- Ergebnis: 2023-09-25 00:00:00.000"
            ],
            "metadata": {
                "language": "sql",
                "azdata_cell_guid": "3f4765f9-d684-4ca6-af80-b3d497ab428f"
            },
            "outputs": [],
            "execution_count": null
        },
        {
            "cell_type": "code",
            "source": [
                "--DECIMAL zu VARCHAR\r\n",
                "SELECT CONVERT(VARCHAR, CAST(123.45 AS DECIMAL(10,2)));  -- Ergebnis: 123.45"
            ],
            "metadata": {
                "language": "sql",
                "azdata_cell_guid": "e6ebde7a-4a2a-4627-a095-24ecfc115cc8"
            },
            "outputs": [],
            "execution_count": null
        },
        {
            "cell_type": "code",
            "source": [
                "-- VARCHAR Wert in einen BIT \r\n",
                "SELECT CONVERT(BIT, 'true');  -- Ergebnis: 1"
            ],
            "metadata": {
                "language": "sql",
                "azdata_cell_guid": "8247f72d-7d0f-46d3-9aae-33eb06e1f06b"
            },
            "outputs": [],
            "execution_count": null
        },
        {
            "cell_type": "code",
            "source": [
                "-- Zahl in ein Datum\r\n",
                "SELECT CONVERT(DATETIME, '42606');  -- Ergebnis: 2016-09-25 00:00:00.000 (abhängig von SQL Server Einstellungen)"
            ],
            "metadata": {
                "language": "sql",
                "azdata_cell_guid": "d30ddbe3-4710-4e14-a5ba-4e59bcbe6cd8"
            },
            "outputs": [],
            "execution_count": null
        },
        {
            "cell_type": "markdown",
            "source": [
                "# Beispiel 12: STRING\\_AGG\n",
                "\n",
                "STRING\\_AGG ist eine Aggregate-Funktion in T-SQL, die verwendet wird, um Werte aus mehreren Zeilen in einen einzigen String-Wert zu kombinieren, wobei ein bestimmter Trenner zwischen den Werten eingefügt wird."
            ],
            "metadata": {
                "language": "sql",
                "azdata_cell_guid": "52794688-75c7-4966-bf83-009c97607d34"
            },
            "attachments": {}
        },
        {
            "cell_type": "code",
            "source": [
                "USE [AdventureWorks2017]\r\n",
                "GO\r\n",
                "SELECT FirstName AS csv \r\n",
                "FROM Person.Person"
            ],
            "metadata": {
                "language": "sql",
                "azdata_cell_guid": "de96b068-fb8e-4674-b5e6-04af3b0d5e60"
            },
            "outputs": [],
            "execution_count": null
        },
        {
            "cell_type": "code",
            "source": [
                "SELECT STRING_AGG (FirstName, CHAR(13)) AS csv \r\n",
                "FROM Person.Person\r\n",
                "-- Fehler: STRING_AGG aggregation result exceeded the limit of 8000 bytes. Use LOB types to avoid result truncation.\r\n",
                "-- Problem FirstName ist zu klein als Feld"
            ],
            "metadata": {
                "language": "sql",
                "azdata_cell_guid": "aaf64a0a-d9cd-4c08-9156-f274384a24b7"
            },
            "outputs": [],
            "execution_count": null
        },
        {
            "cell_type": "code",
            "source": [
                "SELECT STRING_AGG (FirstName, CHAR(13)) AS csv \r\n",
                "FROM (Select Cast(FirstName as nvarchar(max))  as FirstName from Person.Person) as q; \r\n",
                "-- Achtung: korrekte Ausgabe nur in Textausgabe: CTRL+T\r\n",
                "-- Vornamen sind danach nicht eindeutig"
            ],
            "metadata": {
                "language": "sql",
                "azdata_cell_guid": "64dd63ff-dd20-484a-8383-a4cfd4181ea5"
            },
            "outputs": [],
            "execution_count": null
        },
        {
            "cell_type": "code",
            "source": [
                "-- um die Vornamen eindeutig zu haben\r\n",
                "SELECT STRING_AGG (FirstName, CHAR(13)) AS csv \r\n",
                "FROM (Select Distinct Cast(FirstName as nvarchar(MaX))  as FirstName from Person.Person) as q; "
            ],
            "metadata": {
                "language": "sql",
                "azdata_cell_guid": "19d02f2a-ceb8-4ec2-8d15-a65d8e30f24f"
            },
            "outputs": [],
            "execution_count": null
        },
        {
            "cell_type": "code",
            "source": [
                "SELECT STRING_AGG (FirstName, ',') AS csv \r\n",
                "FROM (Select Cast(FirstName as nvarchar(MaX))  as FirstName from Person.Person) as q; "
            ],
            "metadata": {
                "language": "sql",
                "azdata_cell_guid": "0d23d925-30cb-4d22-a558-e5b067a56b08"
            },
            "outputs": [],
            "execution_count": null
        },
        {
            "cell_type": "code",
            "source": [
                "SELECT STRING_AGG (FirstName, ',') AS csv \r\n",
                "FROM (Select Distinct Cast(FirstName as nvarchar(MaX))  as FirstName from Person.Person) as q; "
            ],
            "metadata": {
                "language": "sql",
                "azdata_cell_guid": "f75f3ff8-1935-45f5-bbbb-041e943f4949"
            },
            "outputs": [],
            "execution_count": null
        },
        {
            "cell_type": "code",
            "source": [
                "-- Umkehrfunktion:\r\n",
                "Declare @Agg as nvarchar(MAX) = (SELECT STRING_AGG (FirstName, '|') AS csv \r\n",
                "FROM (Select Cast(FirstName as nvarchar(MaX))  as FirstName from Person.Person) as q)\r\n",
                "print @Agg\r\n",
                "\r\n",
                "SELECT * FROM STRING_SPLIT(@Agg,'|');"
            ],
            "metadata": {
                "language": "sql",
                "azdata_cell_guid": "666ad869-1b7f-4be8-8145-d7643b8cdb3e"
            },
            "outputs": [],
            "execution_count": null
        },
        {
            "cell_type": "markdown",
            "source": [
                "Vor der Einführung von STRING\\_AGG in SQL Server 2017 mussten Entwickler oft zu umständlichen Methoden greifen, wie der Verwendung von XML-Path-Methoden oder benutzerdefinierten Funktionen, um diesen Bedarf zu erfüllen. Mit STRING\\_AGG ist diese Aufgabe nun deutlich einfacher und direkter geworden."
            ],
            "metadata": {
                "language": "sql",
                "azdata_cell_guid": "89d20bfd-fd32-42ac-bb72-faf9c4d236a3"
            },
            "attachments": {}
        },
        {
            "cell_type": "code",
            "source": [
                "SELECT \r\n",
                "    STUFF((\r\n",
                "        SELECT CHAR(13) + Cast(FirstName as nvarchar(max))\r\n",
                "        FROM Person.Person\r\n",
                "        FOR XML PATH(''), TYPE\r\n",
                "    ).value('.', 'nvarchar(max)'), 1, 1, '') AS csv;\r\n",
                ""
            ],
            "metadata": {
                "language": "sql",
                "azdata_cell_guid": "6c22f851-9a4b-44a9-9d0c-14ddb7b5b772"
            },
            "outputs": [],
            "execution_count": null
        },
        {
            "cell_type": "code",
            "source": [
                "-- und nun mit eindeutigen Vornamen\r\n",
                "SELECT \r\n",
                "    STUFF((\r\n",
                "        SELECT DISTINCT CHAR(13) + Cast(FirstName as nvarchar(max))\r\n",
                "        FROM Person.Person\r\n",
                "        ORDER BY FirstName\r\n",
                "        FOR XML PATH(''), TYPE\r\n",
                "    ).value('.', 'nvarchar(max)'), 1, 1, '') AS csv;"
            ],
            "metadata": {
                "language": "sql",
                "azdata_cell_guid": "88cb862c-ef4a-44b9-9c04-18f63dfa50a5"
            },
            "outputs": [],
            "execution_count": null
        },
        {
            "cell_type": "markdown",
            "source": [
                "# Beispiel 13: CONCAT & CONCAT\\_WS - Verknüpfen von Strings\n",
                "\n",
                "Sowohl CONCAT als auch CONCAT\\_WS bieten in T-SQL leistungsstarke Möglichkeiten zur Zeichenkettenmanipulation. Während CONCAT eine einfache Verbindung von Werten ermöglicht, bietet CONCAT\\_WS zusätzliche Flexibilität durch die Verwendung eines Trennzeichens und die Fähigkeit, NULL-Werte zu ignorieren. Das macht diese Funktionen zu unverzichtbaren Werkzeugen für Entwickler, die mit SQL Server arbeiten."
            ],
            "metadata": {
                "azdata_cell_guid": "c5916529-20d3-4f18-b1fd-3d70291d2097"
            },
            "attachments": {}
        },
        {
            "cell_type": "code",
            "source": [
                "SELECT CONCAT('Heute ist der ', GETDATE());"
            ],
            "metadata": {
                "azdata_cell_guid": "9a98e747-20c2-420b-aa44-d02262206636",
                "language": "sql"
            },
            "outputs": [],
            "execution_count": null
        },
        {
            "cell_type": "code",
            "source": [
                "SELECT CONCAT_WS('-', '0049', NULL, '123456789');"
            ],
            "metadata": {
                "language": "sql",
                "azdata_cell_guid": "e7a53785-a634-4d3b-b5fa-a4ac2da4e524"
            },
            "outputs": [],
            "execution_count": null
        },
        {
            "cell_type": "code",
            "source": [
                "Select Concat('Das ','ist ','ein Beispiel')\r\n",
                "Select Concat('Das ','ist ',NULL,'ein Beispiel')\r\n",
                "Select Concat_WS(',','Das ','ist ','ein Beispiel')\r\n",
                "Select Concat_WS(',','Das ','ist ',NULL,'ein Beispiel') -- ignoriert NULL !"
            ],
            "metadata": {
                "language": "sql",
                "azdata_cell_guid": "7653343d-602e-4ea7-b52f-e2fb3c875de1"
            },
            "outputs": [],
            "execution_count": null
        },
        {
            "cell_type": "code",
            "source": [
                "Select Concat([ProductNumber],[Name]) as [new_Name]\r\n",
                "From [AdventureWorks2017].[Production].[Product]"
            ],
            "metadata": {
                "language": "sql",
                "azdata_cell_guid": "82ed881d-e8b5-4adc-88e1-1b86ace562dc"
            },
            "outputs": [],
            "execution_count": null
        },
        {
            "cell_type": "code",
            "source": [
                "Select Concat_WS(',',[ProductNumber],[Name]) as [new_Name]\r\n",
                "From [AdventureWorks2017].[Production].[Product]"
            ],
            "metadata": {
                "language": "sql",
                "azdata_cell_guid": "67a6d9b2-88de-4ccd-8eea-f7583fc7fb1e"
            },
            "outputs": [],
            "execution_count": null
        },
        {
            "cell_type": "markdown",
            "source": [
                "# Beispiel 14: QUOTENAME\n",
                "\n",
                "QUOTENAME ist eine T-SQL-Funktion in Microsoft SQL Server, die dazu dient, einen Bezeichner oder Literal sicher in eckige Klammern zu setzen. Dies ist besonders nützlich, um SQL-Injektionsrisiken zu vermindern, indem sichergestellt wird, dass Zeichenketten, die als Objektnamen (wie Tabellen- oder Spaltennamen) verwendet werden, ordnungsgemäß formatiert sind. Die Funktion kann auch ein optionales Zeichen für die Klammerung annehmen, z. B. einfache oder doppelte Anführungszeichen."
            ],
            "metadata": {
                "language": "sql",
                "azdata_cell_guid": "eb6bb586-3bb4-4b0b-b172-dcccfa9557e5"
            },
            "attachments": {}
        },
        {
            "cell_type": "code",
            "source": [
                "-- Basisverwendung\r\n",
                "SELECT QUOTENAME('ColumnName');\r\n",
                "-- Ergebnis: [ColumnName]"
            ],
            "metadata": {
                "language": "sql",
                "azdata_cell_guid": "08764800-d6ef-4262-bc4d-208bd777f6e8"
            },
            "outputs": [],
            "execution_count": null
        },
        {
            "cell_type": "code",
            "source": [
                "-- Sonderzeichen\r\n",
                "SELECT QUOTENAME('Column-Name');\r\n",
                "-- Ergebnis: [Column-Name]"
            ],
            "metadata": {
                "language": "sql",
                "azdata_cell_guid": "750619df-cf20-411a-83b0-cbd95dd0974a"
            },
            "outputs": [],
            "execution_count": null
        },
        {
            "cell_type": "code",
            "source": [
                "-- Leerzeichen\r\n",
                "SELECT QUOTENAME('Column Name');\r\n",
                "-- Ergebnis: [Column Name]"
            ],
            "metadata": {
                "language": "sql",
                "azdata_cell_guid": "a5801c2e-8ef6-4910-9b46-0f1602b4ea1f"
            },
            "outputs": [],
            "execution_count": null
        },
        {
            "cell_type": "code",
            "source": [
                "-- unterschiedliche Begrenzungszeichen\r\n",
                "SELECT QUOTENAME('ColumnName', '''');\r\n",
                "-- Ergebnis: 'ColumnName'\r\n",
                "SELECT QUOTENAME('ColumnName', '\"');\r\n",
                "-- Ergebnis: \"ColumnName\""
            ],
            "metadata": {
                "language": "sql",
                "azdata_cell_guid": "80dc9c02-9b53-4ecd-9220-977da69379b7"
            },
            "outputs": [],
            "execution_count": null
        },
        {
            "cell_type": "code",
            "source": [
                "-- Name enthält Begrenzer\r\n",
                "SELECT QUOTENAME('Column]Name');\r\n",
                "-- Ergebnis: [Column]]Name]"
            ],
            "metadata": {
                "language": "sql",
                "azdata_cell_guid": "67a8f4c1-6b3a-43ad-884f-3e82ef186713"
            },
            "outputs": [],
            "execution_count": null
        },
        {
            "cell_type": "code",
            "source": [
                "-- dynamisches SQL\r\n",
                "DECLARE @TableName NVARCHAR(128) = 'MyTable';\r\n",
                "EXEC('SELECT * FROM ' + QUOTENAME(@TableName));"
            ],
            "metadata": {
                "language": "sql",
                "azdata_cell_guid": "77f31f3b-2746-4e85-a7dd-4f1f3e87ad9a"
            },
            "outputs": [],
            "execution_count": null
        },
        {
            "cell_type": "markdown",
            "source": [
                "# Beispiel 15: Reverse - String umdrehen"
            ],
            "metadata": {
                "azdata_cell_guid": "908a1184-0d6c-4162-9840-1d8957ebeaaa"
            },
            "attachments": {}
        },
        {
            "cell_type": "code",
            "source": [
                "Select [AddressLine1], REVERSE([AddressLine1]) as [AddressLine1_REVERSE]\r\n",
                "from [AdventureWorks2017].[Person].[Address]"
            ],
            "metadata": {
                "azdata_cell_guid": "5c03f0a1-8895-4999-8d98-1c8f3788c0b4",
                "language": "sql"
            },
            "outputs": [],
            "execution_count": null
        },
        {
            "cell_type": "code",
            "source": [
                "-- letzte #\r\n",
                "Select [AddressLine1],\r\n",
                "REVERSE([AddressLine1]) as [AddressLine1_REVERSE]\r\n",
                ",CharIndex('#',REVERSE([AddressLine1])) as [PositionOf#Reverse]\r\n",
                ",Right([AddressLine1],CharIndex('#',REVERSE([AddressLine1]))) as [LastPart#]\r\n",
                "from [AdventureWorks2017].[Person].[Address]\r\n",
                "Where [AddressLine1] like '%#%' and CHARINDEX('#',[Addressline1]) <> 1"
            ],
            "metadata": {
                "language": "sql",
                "azdata_cell_guid": "2e25bcb7-e21c-4ec3-b16d-872c737b7a4b"
            },
            "outputs": [],
            "execution_count": null
        },
        {
            "cell_type": "code",
            "source": [
                "-- erste #\r\n",
                "Select [AddressLine1]\r\n",
                ",right([AddressLine1],len([AddressLine1])-CHARINDEX('#',[AddressLine1])+1)\r\n",
                "from [AdventureWorks2017].[Person].[Address]\r\n",
                "Where [AddressLine1] like '%#%' and CHARINDEX('#',[Addressline1]) <> 1"
            ],
            "metadata": {
                "language": "sql",
                "azdata_cell_guid": "af684032-5a3d-4ca7-837f-ee9c63c3c6ad"
            },
            "outputs": [],
            "execution_count": null
        },
        {
            "cell_type": "markdown",
            "source": [
                "# Beispiel 16: SPACE - Leerzeichen hinfzufügen\n",
                "\n",
                "Die SPACE-Funktion in T-SQL ermöglicht es, einen Zeichenfolgenwert zu erzeugen, der aus einer bestimmten Anzahl von Leerzeichen besteht. Dies kann nützlich sein, wenn Sie eine Zeichenfolge auf eine bestimmte Länge auffüllen oder zwischen Textelementen Platz lassen möchten. Als Eingabe nimmt die Funktion einen Integer-Wert, der die Anzahl der gewünschten Leerzeichen angibt."
            ],
            "metadata": {
                "azdata_cell_guid": "e68d91e5-409a-4078-9201-90fed5ca4920"
            },
            "attachments": {}
        },
        {
            "cell_type": "code",
            "source": [
                "Select 'a' + space(100) + 'b'"
            ],
            "metadata": {
                "azdata_cell_guid": "540264dd-4ec3-481f-bbdc-3927ffe503f5",
                "language": "sql"
            },
            "outputs": [],
            "execution_count": null
        },
        {
            "cell_type": "code",
            "source": [
                "Select AddressLine1, AddressLine2 , AddressLine1 + AddressLine2\r\n",
                "from [AdventureWorks2017].[Person].[Address]\r\n",
                "Where AddressLine2 is null"
            ],
            "metadata": {
                "language": "sql",
                "azdata_cell_guid": "a301b487-75dd-4e04-9dc0-28c282afde85"
            },
            "outputs": [],
            "execution_count": null
        },
        {
            "cell_type": "code",
            "source": [
                "Select AddressLine1, AddressLine2 , isnull(AddressLine1,'') + isnull(AddressLine2,'')\r\n",
                "from [AdventureWorks2017].[Person].[Address]"
            ],
            "metadata": {
                "language": "sql",
                "azdata_cell_guid": "9e4f4b77-510a-449c-999d-75cd85cd4c34"
            },
            "outputs": [],
            "execution_count": null
        },
        {
            "cell_type": "code",
            "source": [
                "Select AddressLine1, AddressLine2 , AddressLine1 + SPACE(100-len(AddressLine2)-len(AddressLine1)) + AddressLine2 as [AddressLine1+2] \r\n",
                "from [AdventureWorks2017].[Person].[Address]"
            ],
            "metadata": {
                "language": "sql",
                "azdata_cell_guid": "cd73a6eb-0d8c-47bd-b9ca-17711a2356dc"
            },
            "outputs": [],
            "execution_count": null
        },
        {
            "cell_type": "code",
            "source": [
                "Select AddressLine1, AddressLine2 , AddressLine1 + SPACE(100-len(isnull(AddressLine2,0))-len(isnull(AddressLine1,''))) + isnull(AddressLine2,'') as [AddressLine1+2] \r\n",
                "from [AdventureWorks2017].[Person].[Address]"
            ],
            "metadata": {
                "language": "sql",
                "azdata_cell_guid": "a1894e59-a26e-4780-bd57-a783f902442b"
            },
            "outputs": [],
            "execution_count": null
        },
        {
            "cell_type": "markdown",
            "source": [
                "# Arbeiten mit Leerzeichen und NULL-Werten\n",
                "\n",
                "In SQL gibt es einen Unterschied zwischen einem NULL-Wert und einem leeren String:"
            ],
            "metadata": {
                "language": "sql",
                "azdata_cell_guid": "7c11688b-e63d-42ec-90f3-9b703252db14"
            },
            "attachments": {}
        },
        {
            "cell_type": "code",
            "source": [
                "-- Unterschied zwischen NULL und ''\r\n",
                "Select NULL, isnull(NULL,''), ''"
            ],
            "metadata": {
                "language": "sql",
                "azdata_cell_guid": "fd706f14-ba68-4c70-8112-8a6a8e3499b2"
            },
            "outputs": [],
            "execution_count": null
        },
        {
            "cell_type": "code",
            "source": [
                "SELECT [AddressID]\r\n",
                "      ,[AddressLine1]\r\n",
                "      ,[AddressLine2] as [AddressLine2]\r\n",
                "\t  ,len([AddressLine2]) as [Len_AddressLine2]\r\n",
                "  FROM [AdventureWorks2017].[Person].[Address]\r\n",
                "  Where AddressLine2 is null\r\n",
                "  order by 4 desc"
            ],
            "metadata": {
                "language": "sql",
                "azdata_cell_guid": "d4fc8eb7-81a4-44e2-8827-88d28f578eca"
            },
            "outputs": [],
            "execution_count": null
        },
        {
            "cell_type": "code",
            "source": [
                "Update [AdventureWorks2017].[Person].[Address]\r\n",
                "Set [AddressLine2] = ''\r\n",
                "Where AddressID = '11383'"
            ],
            "metadata": {
                "language": "sql",
                "azdata_cell_guid": "b5763a51-d18d-4bd5-bc63-863ff6b17e23"
            },
            "outputs": [],
            "execution_count": null
        },
        {
            "cell_type": "code",
            "source": [
                "SELECT [AddressID]\r\n",
                "      ,[AddressLine1]\r\n",
                "      ,isnull([AddressLine2],'') as [AddressLine2]\r\n",
                "\t  ,len(isnull([AddressLine2],'')) as [Len_AddressLine2]\r\n",
                "  FROM [AdventureWorks2017].[Person].[Address]\r\n",
                "  --Where AddressLine2 is null\r\n",
                "  order by 4 desc"
            ],
            "metadata": {
                "language": "sql",
                "azdata_cell_guid": "4fdebd4a-520b-4daa-85ac-412085961e54"
            },
            "outputs": [],
            "execution_count": null
        },
        {
            "cell_type": "code",
            "source": [
                "SELECT [AddressID]\r\n",
                "      ,[AddressLine1]\r\n",
                "\t  ,[AddressLine2]\r\n",
                "      ,isnull([AddressLine2],'') as [AddressLine2]\r\n",
                "\t  ,len(isnull([AddressLine2],'')) as [Len_AddressLine2]\r\n",
                "\t  ,len([AddressLine2]) as [Len_AddressLine2_2]\r\n",
                "  FROM [AdventureWorks2017].[Person].[Address]\r\n",
                "  Where len(isnull([AddressLine2],'')) = 0\r\n",
                "  and AddressID in ('11383','1')\r\n",
                "  order by 1 asc"
            ],
            "metadata": {
                "language": "sql",
                "azdata_cell_guid": "070e7f64-c693-42c9-8656-cddc5db1032f"
            },
            "outputs": [],
            "execution_count": null
        },
        {
            "cell_type": "markdown",
            "source": [
                "### isnull(\\[Spalte\\],'') = replace(\\[Spalte\\],NULL,'')\n",
                "\n",
                "das ist aber nur eine inhaltliche Entsprechung und die Replace-Funktion funktioniert nicht."
            ],
            "metadata": {
                "language": "sql",
                "azdata_cell_guid": "142cf667-29fa-4ce3-b1d8-21b116d74336"
            },
            "attachments": {}
        },
        {
            "cell_type": "code",
            "source": [
                "SELECT ISNULL([AddressLine2], '') AS 'ErgebnisSpalte'\r\n",
                "FROM [AdventureWorks2017].[Person].[Address];"
            ],
            "metadata": {
                "language": "sql",
                "azdata_cell_guid": "226e436b-4051-409a-8b4c-b1b8ca6a7cc7"
            },
            "outputs": [],
            "execution_count": null
        },
        {
            "cell_type": "code",
            "source": [
                "SELECT REPLACE([AddressLine2], NULL, '') AS 'ErgebnisSpalte'\r\n",
                "FROM [AdventureWorks2017].[Person].[Address];\r\n",
                "-- funktioniert nicht, das REPLACE nicht mit NULL umgehen kann und das Resultat wieder NULL ist"
            ],
            "metadata": {
                "language": "sql",
                "azdata_cell_guid": "e4d48214-7411-4c1c-b00d-8f77052b6d82"
            },
            "outputs": [],
            "execution_count": null
        }
    ]
}