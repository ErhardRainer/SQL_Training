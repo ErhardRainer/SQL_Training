{
    "metadata": {
        "kernelspec": {
            "name": "SQL",
            "display_name": "SQL",
            "language": "sql"
        },
        "language_info": {
            "name": "sql",
            "version": ""
        }
    },
    "nbformat_minor": 2,
    "nbformat": 4,
    "cells": [
        {
            "cell_type": "markdown",
            "source": [
                "Textfunktionen"
            ],
            "metadata": {
                "azdata_cell_guid": "9baf8e92-bded-46c8-baad-7b0b28dd3e08"
            }
        }
    ]
}