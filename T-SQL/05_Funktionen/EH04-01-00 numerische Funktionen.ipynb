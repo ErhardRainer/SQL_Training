{
    "metadata": {
        "kernelspec": {
            "name": "SQL",
            "display_name": "SQL",
            "language": "sql"
        },
        "language_info": {
            "name": "sql",
            "version": ""
        }
    },
    "nbformat_minor": 2,
    "nbformat": 4,
    "cells": [
        {
            "cell_type": "markdown",
            "source": [
                "# Numerische Funktionen\n",
                "\n",
                "- isNumeric \n",
                "- Zufallszahlen (zB RAND)\n",
                "- Runden\n",
                "- Absolutbetrag & Vorzeichen\n",
                "- Potenzen und Wurzeln\n",
                "- Winkelfunktionen (eigenes File)\n",
                "- Exponential- und Logarithmische Funktionen (eignes File)"
            ],
            "metadata": {
                "azdata_cell_guid": "4201f981-ddea-470d-87fd-7f424f70440e"
            }
        },
        {
            "cell_type": "markdown",
            "source": [
                "## isNumeric\n",
                "\n",
                "Prüfen, ob ein Text eine Zahl ist  \n",
                "\n",
                "<span class=\"hljs-keyword\" style=\"box-sizing: inherit; outline-color: inherit; color: rgb(1, 1, 253); font-family: SFMono-Regular, Consolas, &quot;Liberation Mono&quot;, Menlo, Courier, monospace; white-space: pre; background-color: rgb(250, 250, 250);\">ISNUMERIC</span> <span style=\"color: rgb(23, 23, 23); font-family: SFMono-Regular, Consolas, &quot;Liberation Mono&quot;, Menlo, Courier, monospace; white-space: pre; background-color: rgb(250, 250, 250);\">( expression ) =&gt; int: </span> 0 nein | 1 = ja\n",
                "\n",
                "Anmerkungen:\n",
                "\n",
                "- Texte mit Währungssymbolen werden nicht als Zahl erkannt\n",
                "- Exponential-Schreibweise wird als Zahl erkannt"
            ],
            "metadata": {
                "azdata_cell_guid": "aa214930-52ad-4590-916c-baa90829566c"
            }
        },
        {
            "cell_type": "code",
            "source": [
                "Select isNumeric('5')\r\n",
                "Select isNumeric(5)\r\n",
                "Select isNumeric('-5')\r\n",
                "Select isNumeric('5$')\r\n",
                "Select isNumeric('-5$')\r\n",
                "Select isNumeric('5e10')"
            ],
            "metadata": {
                "azdata_cell_guid": "5b228355-ea4a-420f-b0ec-58ac3b2009a7",
                "tags": []
            },
            "outputs": [],
            "execution_count": null
        },
        {
            "cell_type": "markdown",
            "source": [
                "Prüfen Sie, ob die Spalte \\[PostalCode\\] in der Tabelle \\[Person\\].\\[Address\\] numerisch ist?"
            ],
            "metadata": {
                "azdata_cell_guid": "4ce5cfdb-54b9-4cc0-8ec3-377ca878fd48"
            }
        },
        {
            "cell_type": "code",
            "source": [
                "SELECT [AddressID]\r\n",
                "      ,[PostalCode]\r\n",
                "\t  ,Isnumeric([PostalCode]) as [Isnumeric] -- => int: 0 nein | 1 = ja\r\n",
                "  FROM [Person].[Address]\r\n",
                "  order by 3 asc"
            ],
            "metadata": {
                "azdata_cell_guid": "3ca8fd05-9851-46e6-8c36-24ae3eb2da16",
                "tags": []
            },
            "outputs": [],
            "execution_count": null
        },
        {
            "cell_type": "markdown",
            "source": [
                "Geben Sie die Zeilen zurück, bei denen der PostalCode nicht numerisch ist"
            ],
            "metadata": {
                "azdata_cell_guid": "03c1747d-15f0-43b8-a873-cf01dbad1450"
            }
        },
        {
            "cell_type": "code",
            "source": [
                "  SELECT [AddressID]\r\n",
                "      ,[PostalCode]\r\n",
                "\t  ,Isnumeric([PostalCode]) as [Isnumeric]\r\n",
                "  FROM [Person].[Address]\r\n",
                "  Where Isnumeric([PostalCode]) = 0"
            ],
            "metadata": {
                "azdata_cell_guid": "590d0d06-5f5a-40f8-8b07-44c51ec675c1",
                "tags": []
            },
            "outputs": [],
            "execution_count": null
        },
        {
            "cell_type": "markdown",
            "source": [
                "## Zufallszahlen (zB RAND)\n",
                "\n",
                "RAND(Seed) =\\> Float Pseudozufallswert zw 0-1"
            ],
            "metadata": {
                "azdata_cell_guid": "9a126e1b-2832-44fb-a883-2c841027d114"
            }
        },
        {
            "cell_type": "code",
            "source": [
                "Select RAND(), RAND()"
            ],
            "metadata": {
                "azdata_cell_guid": "ce7e9dbb-b0b8-4a5b-8d45-058838b3abc5"
            },
            "outputs": [
                {
                    "output_type": "display_data",
                    "data": {
                        "text/html": "(1 row affected)"
                    },
                    "metadata": {}
                },
                {
                    "output_type": "display_data",
                    "data": {
                        "text/html": "Total execution time: 00:00:00.021"
                    },
                    "metadata": {}
                },
                {
                    "output_type": "execute_result",
                    "metadata": {},
                    "execution_count": 7,
                    "data": {
                        "application/vnd.dataresource+json": {
                            "schema": {
                                "fields": [
                                    {
                                        "name": "(No column name)"
                                    },
                                    {
                                        "name": "(No column name)"
                                    }
                                ]
                            },
                            "data": [
                                {
                                    "0": "0,059882620584728506",
                                    "1": "0,9450640451708664"
                                }
                            ]
                        },
                        "text/html": [
                            "<table>",
                            "<tr><th>(No column name)</th><th>(No column name)</th></tr>",
                            "<tr><td>0,059882620584728506</td><td>0,9450640451708664</td></tr>",
                            "</table>"
                        ]
                    }
                }
            ],
            "execution_count": 7
        },
        {
            "cell_type": "markdown",
            "source": [
                "für einen bestimmten Seed (Ausgangswert) ist der zurückgegebene Ergebnis immer gleich"
            ],
            "metadata": {
                "azdata_cell_guid": "d315d5d9-37b5-48a2-aa92-88885b67e042"
            }
        },
        {
            "cell_type": "code",
            "source": [
                "  Select RAND(55), RAND(55)  -- immer gleich (alle 2 Werte)\r\n",
                "  SELECT RAND(100), RAND(100), RAND(100)  -- immer gleich (alle 3 Werte)\r\n",
                "  SELECT RAND(), RAND(), RAND()  -- immer unterschiedlich (alle 3 Werte)"
            ],
            "metadata": {
                "azdata_cell_guid": "3f5132ed-aaa0-4665-99c9-7356d0c88d40",
                "tags": []
            },
            "outputs": [],
            "execution_count": null
        },
        {
            "cell_type": "markdown",
            "source": [
                "### Zufallszahlen innerhalb von bestimmter Grenzen"
            ],
            "metadata": {
                "azdata_cell_guid": "7595f449-e59c-4a0f-b803-4bc778e85251"
            }
        },
        {
            "cell_type": "code",
            "source": [
                "    -- 0 - 9\r\n",
                "\tselect floor(RAND() * 10);\r\n",
                "\t-- 0 - 10\r\n",
                "\tSELECT floor(RAND() * (10 + 1));\r\n",
                "\t-- 1 - 10\r\n",
                "\tSELECT ceiling(RAND() * 10);\r\n",
                "\t-- 1 - 100\r\n",
                "\tSELECT ceiling(RAND() * 100);\r\n",
                "\t-- 100 - 200\r\n",
                "\tSELECT 100 + ceiling(RAND() * 100);\r\n",
                ""
            ],
            "metadata": {
                "azdata_cell_guid": "2b60131f-f745-4715-bbd1-b028480138d9"
            },
            "outputs": [],
            "execution_count": null
        },
        {
            "cell_type": "markdown",
            "source": [
                "**<u>Allgemeine Methode zum Ermitteln einer Zahl innerhalb eines Bereiches</u>**\n",
                "\n",
                "a = Untergrenze\n",
                "\n",
                "b = Obergrenze\n",
                "\n",
                "Anmerkung: alternative Methode im Abschnittt \\[Round\\] mit Cast"
            ],
            "metadata": {
                "azdata_cell_guid": "7ddcd9ef-805d-478e-a44a-9909b219c655"
            }
        },
        {
            "cell_type": "code",
            "source": [
                "\tDeclare @a as int = 100\r\n",
                "\tDeclare @b as int = 1000\r\n",
                "\tSELECT Cast(RAND()*(@b-@a)+@a as int);"
            ],
            "metadata": {
                "azdata_cell_guid": "d3b794b1-1ad0-4bc8-94f8-f71f3bca2ba5",
                "tags": []
            },
            "outputs": [],
            "execution_count": null
        },
        {
            "cell_type": "code",
            "source": [
                "\tDeclare @min as int = 5\r\n",
                "\tDeclare @max as int = 15\r\n",
                "\tSelect round(@min + rand() * (@max - @min),0)"
            ],
            "metadata": {
                "azdata_cell_guid": "b8828a81-0af1-4ad0-9de3-c5cb14f99296",
                "tags": []
            },
            "outputs": [],
            "execution_count": null
        },
        {
            "cell_type": "markdown",
            "source": [
                "andere Möglichkeiten zum Generieren von zufälligen Zahlen:"
            ],
            "metadata": {
                "azdata_cell_guid": "84973509-61cd-41c6-9ceb-9b9b247c1e18"
            }
        },
        {
            "cell_type": "code",
            "source": [
                " -- zufällige positive Ganzzahl anhand von newid()\r\n",
                "  select ABS(CAST(CAST(NEWID() AS VARBINARY) AS INT)) AS RandomNumber"
            ],
            "metadata": {
                "azdata_cell_guid": "de519f5e-f458-40aa-876a-0cbcc0360865"
            },
            "outputs": [],
            "execution_count": null
        },
        {
            "cell_type": "code",
            "source": [
                "  -- Wert zwischen 0..1\r\n",
                "  select convert(float,CAST(CAST(newid() AS binary(4)) AS int))/2147483648.0/2+.5 AS RandomNumber"
            ],
            "metadata": {
                "azdata_cell_guid": "35f6314e-dc41-4ae4-a533-092bad40112c"
            },
            "outputs": [],
            "execution_count": null
        },
        {
            "cell_type": "markdown",
            "source": [
                "weitere Methode zum Generieren von Zufallszahlen mittels newid()"
            ],
            "metadata": {
                "azdata_cell_guid": "f400b314-c0fe-4518-8850-30c5e6f3a1ba"
            }
        },
        {
            "cell_type": "code",
            "source": [
                "  -- Zufallszahl zw. 0-13\r\n",
                "  Select ABS(CHECKSUM(NewId())) % 14\r\n",
                "  -- Zufallszahl zw. 0-99\r\n",
                "   Select ABS(CHECKSUM(NewId())) % 100\r\n",
                "   -- Zufallzahl zw. 1000 u 9999\r\n",
                "   Select FLOOR(RAND(CHECKSUM(NEWID()))*(9999-1000+1)+1000)"
            ],
            "metadata": {
                "azdata_cell_guid": "94df4f49-5791-4b77-9e34-2cc832fb0f9a"
            },
            "outputs": [],
            "execution_count": null
        },
        {
            "cell_type": "code",
            "source": [
                "-- Allgemein\r\n",
                "Declare @a as int = 100\r\n",
                "Declare @b as int = 9999\r\n",
                "Select FLOOR(RAND(CHECKSUM(NEWID()))*(@b-@a+1)+@a)"
            ],
            "metadata": {
                "azdata_cell_guid": "1af681f9-2b0e-4515-88cc-f1503ab9f69a"
            },
            "outputs": [],
            "execution_count": null
        },
        {
            "cell_type": "code",
            "source": [
                "\tDeclare @i as decimal(38,10) = rand()\r\n",
                "\tSelect @i\r\n",
                "\tSelect Cast(@i as int) \r\n",
                "\tSelect Floor(@i)"
            ],
            "metadata": {
                "azdata_cell_guid": "e344b711-8ae1-439f-bc7b-2de1a0664731",
                "tags": []
            },
            "outputs": [],
            "execution_count": null
        },
        {
            "cell_type": "markdown",
            "source": [
                "## Runden von Zahlen\n",
                "ROUND(<mark>Zahl, length</mark>, \\[function:0 (default)\\]) =\\> Runden\n",
                "Floor(Zahl) =\\> größte ganze Zahl zurück, die kleiner oder gleich dem angegebenen numerischen Ausdruck \n",
                "Ceiling(Zahl) =\\> kleinste ganze Zahl zurück, die größer oder gleich dem angegebenen numerischen Ausdruck ist"
            ],
            "metadata": {
                "azdata_cell_guid": "bd730d09-103e-408f-b17c-b6b6a10a5723"
            }
        },
        {
            "cell_type": "code",
            "source": [
                "  Declare @Zahl as decimal(38,10) = 15.66666969464\r\n",
                "  print Round(@Zahl,0)   -- > ganze Zahl\r\n",
                "  print Round(@Zahl,3)   -- > 3. Nachkommerstelle\r\n",
                "  print Round(@Zahl,-1)  -- > auf ganze Zehner"
            ],
            "metadata": {
                "azdata_cell_guid": "e2794b67-eb32-4db4-8379-dc844059d4ba",
                "tags": []
            },
            "outputs": [
                {
                    "output_type": "display_data",
                    "data": {
                        "text/html": "16.0000000000"
                    },
                    "metadata": {}
                },
                {
                    "output_type": "display_data",
                    "data": {
                        "text/html": "15.6670000000"
                    },
                    "metadata": {}
                },
                {
                    "output_type": "display_data",
                    "data": {
                        "text/html": "20.0000000000"
                    },
                    "metadata": {}
                },
                {
                    "output_type": "display_data",
                    "data": {
                        "text/html": "Total execution time: 00:00:00.016"
                    },
                    "metadata": {}
                }
            ],
            "execution_count": 14
        },
        {
            "cell_type": "markdown",
            "source": [
                "Funktionsparameter der Round Funktion"
            ],
            "metadata": {
                "azdata_cell_guid": "d2f75b18-51f8-4169-9e99-7e704e35eb00"
            }
        },
        {
            "cell_type": "code",
            "source": [
                "  Declare @Zahl as decimal(38,10) = 15.66666969464\n",
                "  print Round(@Zahl,0,0) -- rundet das Ergebnis [Funktion:0]\r\n",
                "  print Round(@Zahl,0,1) -- schneidet das Ergebnis ab [Funktion:1]"
            ],
            "metadata": {
                "azdata_cell_guid": "08ba96d4-7b03-4439-aff5-2ac0e8a8d293"
            },
            "outputs": [
                {
                    "output_type": "display_data",
                    "data": {
                        "text/html": "16.0000000000"
                    },
                    "metadata": {}
                },
                {
                    "output_type": "display_data",
                    "data": {
                        "text/html": "15.0000000000"
                    },
                    "metadata": {}
                },
                {
                    "output_type": "display_data",
                    "data": {
                        "text/html": "Total execution time: 00:00:00.002"
                    },
                    "metadata": {}
                }
            ],
            "execution_count": 15
        },
        {
            "cell_type": "markdown",
            "source": [
                "### nächst gelegene Integer Zahl\n",
                "\n",
                "größer: Ceiling\n",
                "\n",
                "kleiner: Floor"
            ],
            "metadata": {
                "azdata_cell_guid": "e08f4c59-2aff-400e-9450-a8a982932d85"
            }
        },
        {
            "cell_type": "code",
            "source": [
                "\tSelect Ceiling(-501.555) -- -501\r\n",
                "\tSelect Ceiling(+501.555) -- +502"
            ],
            "metadata": {
                "azdata_cell_guid": "12305e1e-12e9-4023-9a8c-68c3b75314dd"
            },
            "outputs": [],
            "execution_count": null
        },
        {
            "cell_type": "code",
            "source": [
                "    Select Floor(-501.555)   -- -502\r\n",
                "\tSelect Floor(+501.555)   -- +501"
            ],
            "metadata": {
                "azdata_cell_guid": "a2f3a0cf-6cd6-46eb-b474-b091b30947e0"
            },
            "outputs": [],
            "execution_count": null
        },
        {
            "cell_type": "code",
            "source": [
                "  Declare @Zahl as decimal(38,10) = 15.66666969464\r\n",
                "  print Round(@Zahl,0,1) -- bleibt der DAtentyp gleich =>  decimal(38,10)\r\n",
                "  print floor(@Zahl) -- es wird daraus ein INT"
            ],
            "metadata": {
                "azdata_cell_guid": "cd1be162-e660-43d7-8b63-070052d2ec9f"
            },
            "outputs": [],
            "execution_count": null
        },
        {
            "cell_type": "markdown",
            "source": [
                "Ein Alternative zum Round/Ceiling/Floor stellt das CAST dar"
            ],
            "metadata": {
                "azdata_cell_guid": "402a4a01-4038-4c03-9e05-10d4b3b6fa5d"
            }
        },
        {
            "cell_type": "code",
            "source": [
                "\tDeclare @i as decimal(38,10) = rand()*100\r\n",
                "\tSelect @i\r\n",
                "\tSelect Cast(@i as int) \r\n",
                "\tSelect Floor(@i)"
            ],
            "metadata": {
                "azdata_cell_guid": "981f919f-8dfa-4b7a-a366-3d8bf2799a93"
            },
            "outputs": [],
            "execution_count": null
        },
        {
            "cell_type": "markdown",
            "source": [
                "### Performance Vergleich:\n",
                "\n",
                "keine nennenswerten Unterschiede"
            ],
            "metadata": {
                "azdata_cell_guid": "2d5132a5-83dc-4fb7-a424-5c7dc2847a5e"
            }
        },
        {
            "cell_type": "code",
            "source": [
                "\t--- Performance Test Floor: 1940,1924,1953,1970,1904\r\n",
                "\tDeclare @Start as datetime2 = getdate()\r\n",
                "\tDeclare @j as int = 1\r\n",
                "\tDeclare @c as int = 2147483\r\n",
                "\tDeclare @r as int \r\n",
                "\tWhile @j <= @c\r\n",
                "\tBegin \r\n",
                "\t\tSet @r = Floor(rand())\r\n",
                "\t\tSet @j = @j+ 1 \r\n",
                "\tEnd \r\n",
                "\tDeclare @End as datetime2 = getdate()\r\n",
                "\tDeclare @Duration as int = DateDiff(MILLISECOND,@Start,@End)\r\n",
                "\tprint @Duration\r\n",
                "\t"
            ],
            "metadata": {
                "azdata_cell_guid": "4be8ca9a-f4a0-492f-aaa3-d944704003a9"
            },
            "outputs": [],
            "execution_count": null
        },
        {
            "cell_type": "code",
            "source": [
                "\t--- Performance Test Cast: 1890,1940,1906,1843,1906\r\n",
                "\tDeclare @Start as datetime2 = getdate()\r\n",
                "\tDeclare @j as int = 1\r\n",
                "\tDeclare @c as int = 2147483\r\n",
                "\tDeclare @r as int \r\n",
                "\tWhile @j <= @c\r\n",
                "\tBegin \r\n",
                "\t\tSet @r = Cast(rand() as int) \r\n",
                "\t\tSet @j = @j+ 1 \r\n",
                "\tEnd \r\n",
                "\tDeclare @End as datetime2 = getdate()\r\n",
                "\tDeclare @Duration as int = DateDiff(MILLISECOND,@Start,@End)\r\n",
                "\tprint @Duration"
            ],
            "metadata": {
                "azdata_cell_guid": "713c0134-6de8-4c6d-bb35-39e62a89a9bc"
            },
            "outputs": [],
            "execution_count": null
        },
        {
            "cell_type": "markdown",
            "source": [
                "# Absolut Betrag / Vorzeichen\n",
                "\n",
                "<span class=\"hljs-keyword\" style=\"box-sizing: inherit; outline-color: inherit; color: rgb(1, 1, 253); font-family: SFMono-Regular, Consolas, &quot;Liberation Mono&quot;, Menlo, Courier, monospace; white-space: pre; background-color: rgb(250, 250, 250);\">ABS</span> <span style=\"color: rgb(23, 23, 23); font-family: SFMono-Regular, Consolas, &quot;Liberation Mono&quot;, Menlo, Courier, monospace; white-space: pre; background-color: rgb(250, 250, 250);\">( </span> <span class=\"hljs-variable\" style=\"box-sizing: inherit; outline-color: inherit; color: rgb(23, 23, 23); font-family: SFMono-Regular, Consolas, &quot;Liberation Mono&quot;, Menlo, Courier, monospace; white-space: pre; background-color: rgb(250, 250, 250);\">numeric_expression</span> <span style=\"color: rgb(23, 23, 23); font-family: SFMono-Regular, Consolas, &quot;Liberation Mono&quot;, Menlo, Courier, monospace; white-space: pre; background-color: rgb(250, 250, 250);\">) =&gt; Absolutbetrag</span>\n",
                "\n",
                "<span class=\"hljs-keyword\" style=\"box-sizing: inherit; outline-color: inherit; color: rgb(1, 1, 253); font-family: SFMono-Regular, Consolas, &quot;Liberation Mono&quot;, Menlo, Courier, monospace; white-space: pre; background-color: rgb(250, 250, 250);\">SIGN</span> <span style=\"color: rgb(23, 23, 23); font-family: SFMono-Regular, Consolas, &quot;Liberation Mono&quot;, Menlo, Courier, monospace; white-space: pre; background-color: rgb(250, 250, 250);\">( </span> <span class=\"hljs-variable\" style=\"box-sizing: inherit; outline-color: inherit; color: rgb(23, 23, 23); font-family: SFMono-Regular, Consolas, &quot;Liberation Mono&quot;, Menlo, Courier, monospace; white-space: pre; background-color: rgb(250, 250, 250);\">numeric_expression</span> <span style=\"color: rgb(23, 23, 23); font-family: SFMono-Regular, Consolas, &quot;Liberation Mono&quot;, Menlo, Courier, monospace; white-space: pre; background-color: rgb(250, 250, 250);\">) =&gt; Vorzeichen</span><span style=\"color: rgb(23, 23, 23); font-family: SFMono-Regular, Consolas, &quot;Liberation Mono&quot;, Menlo, Courier, monospace; white-space: pre; background-color: rgb(250, 250, 250);\"><br></span>\n",
                "\n",
                "    <span style=\"color: #008000;\">--&nbsp;Vorzeichen&nbsp;+1&nbsp;positive&nbsp;/&nbsp;-1&nbsp;negativ&nbsp;/&nbsp;0&nbsp;</span>"
            ],
            "metadata": {
                "azdata_cell_guid": "24ddcb4e-3877-4f6e-89ff-1ddf2adde77c"
            }
        },
        {
            "cell_type": "code",
            "source": [
                "Select ABS(-15)"
            ],
            "metadata": {
                "azdata_cell_guid": "41640ca9-9a57-49a3-8754-acfd5a7181a9"
            },
            "outputs": [
                {
                    "output_type": "display_data",
                    "data": {
                        "text/html": "(1 row affected)"
                    },
                    "metadata": {}
                },
                {
                    "output_type": "display_data",
                    "data": {
                        "text/html": "Total execution time: 00:00:00.007"
                    },
                    "metadata": {}
                },
                {
                    "output_type": "execute_result",
                    "metadata": {},
                    "execution_count": 20,
                    "data": {
                        "application/vnd.dataresource+json": {
                            "schema": {
                                "fields": [
                                    {
                                        "name": "(No column name)"
                                    }
                                ]
                            },
                            "data": [
                                {
                                    "0": "15"
                                }
                            ]
                        },
                        "text/html": [
                            "<table>",
                            "<tr><th>(No column name)</th></tr>",
                            "<tr><td>15</td></tr>",
                            "</table>"
                        ]
                    }
                }
            ],
            "execution_count": 20
        },
        {
            "cell_type": "code",
            "source": [
                "Select SIGN(-15)\r\n",
                "Select SIGN(+15)\r\n",
                "Select SIGN(-100)\r\n",
                "Select SIGN(+100)"
            ],
            "metadata": {
                "azdata_cell_guid": "3217e70f-9a3a-40bf-ac11-1b2854ecda8c"
            },
            "outputs": [
                {
                    "output_type": "display_data",
                    "data": {
                        "text/html": "(1 row affected)"
                    },
                    "metadata": {}
                },
                {
                    "output_type": "display_data",
                    "data": {
                        "text/html": "(1 row affected)"
                    },
                    "metadata": {}
                },
                {
                    "output_type": "display_data",
                    "data": {
                        "text/html": "(1 row affected)"
                    },
                    "metadata": {}
                },
                {
                    "output_type": "display_data",
                    "data": {
                        "text/html": "(1 row affected)"
                    },
                    "metadata": {}
                },
                {
                    "output_type": "display_data",
                    "data": {
                        "text/html": "Total execution time: 00:00:01.527"
                    },
                    "metadata": {}
                },
                {
                    "output_type": "execute_result",
                    "metadata": {},
                    "execution_count": 21,
                    "data": {
                        "application/vnd.dataresource+json": {
                            "schema": {
                                "fields": [
                                    {
                                        "name": "(No column name)"
                                    }
                                ]
                            },
                            "data": [
                                {
                                    "0": "-1"
                                }
                            ]
                        },
                        "text/html": [
                            "<table>",
                            "<tr><th>(No column name)</th></tr>",
                            "<tr><td>-1</td></tr>",
                            "</table>"
                        ]
                    }
                },
                {
                    "output_type": "execute_result",
                    "metadata": {},
                    "execution_count": 21,
                    "data": {
                        "application/vnd.dataresource+json": {
                            "schema": {
                                "fields": [
                                    {
                                        "name": "(No column name)"
                                    }
                                ]
                            },
                            "data": [
                                {
                                    "0": "1"
                                }
                            ]
                        },
                        "text/html": [
                            "<table>",
                            "<tr><th>(No column name)</th></tr>",
                            "<tr><td>1</td></tr>",
                            "</table>"
                        ]
                    }
                },
                {
                    "output_type": "execute_result",
                    "metadata": {},
                    "execution_count": 21,
                    "data": {
                        "application/vnd.dataresource+json": {
                            "schema": {
                                "fields": [
                                    {
                                        "name": "(No column name)"
                                    }
                                ]
                            },
                            "data": [
                                {
                                    "0": "-1"
                                }
                            ]
                        },
                        "text/html": [
                            "<table>",
                            "<tr><th>(No column name)</th></tr>",
                            "<tr><td>-1</td></tr>",
                            "</table>"
                        ]
                    }
                },
                {
                    "output_type": "execute_result",
                    "metadata": {},
                    "execution_count": 21,
                    "data": {
                        "application/vnd.dataresource+json": {
                            "schema": {
                                "fields": [
                                    {
                                        "name": "(No column name)"
                                    }
                                ]
                            },
                            "data": [
                                {
                                    "0": "1"
                                }
                            ]
                        },
                        "text/html": [
                            "<table>",
                            "<tr><th>(No column name)</th></tr>",
                            "<tr><td>1</td></tr>",
                            "</table>"
                        ]
                    }
                }
            ],
            "execution_count": 21
        },
        {
            "cell_type": "markdown",
            "source": [
                "# Potenzen und Wurzeln\n",
                "\n",
                "SQRT(x) =\\> Wurzel\n",
                "\n",
                "SQUARE(x) =\\> x^2 (Quadart)\n",
                "\n",
                "Power(x,y) =\\> x^y"
            ],
            "metadata": {
                "azdata_cell_guid": "bf085d07-e2f0-407a-ae58-f6c2ce3a070b"
            }
        },
        {
            "cell_type": "code",
            "source": [
                "Select SQRT(4) -- Wurzel aus 4 = 2\r\n",
                "Select SQRT(16) -- Wurzel aus 16 = 4"
            ],
            "metadata": {
                "azdata_cell_guid": "c1f9e751-5588-4501-86d9-061c57240594"
            },
            "outputs": [],
            "execution_count": null
        },
        {
            "cell_type": "code",
            "source": [
                "Select Square(4) -- 4x4 = 4^2\r\n",
                "Select Square(2) -- 2x2 = 2^2"
            ],
            "metadata": {
                "azdata_cell_guid": "7ec176e7-7694-46bf-8e0e-6b6420f25f1e"
            },
            "outputs": [],
            "execution_count": null
        },
        {
            "cell_type": "code",
            "source": [
                "Select Power(2,10) -- 2^10"
            ],
            "metadata": {
                "azdata_cell_guid": "ac2d5aaa-e331-4e1d-a281-eb14843bb3da"
            },
            "outputs": [],
            "execution_count": null
        },
        {
            "cell_type": "markdown",
            "source": [
                "## Wurzelziehen\n",
                "\n",
                "Wurzeln in Potenzform umformen\n",
                "\n",
                "![](data:image/png;base64,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)"
            ],
            "metadata": {
                "azdata_cell_guid": "e421eeda-d61f-49b2-881a-33bbe39e543d"
            }
        },
        {
            "cell_type": "code",
            "source": [
                "DECLARE @My1 FLOAT = 16\r\n",
                "DECLARE @My2 FLOAT = 4\r\n",
                "SELECT POWER(@My1, 1/@My2)"
            ],
            "metadata": {
                "azdata_cell_guid": "8e79324d-49b2-4ced-bd75-1059f0442c95"
            },
            "outputs": [],
            "execution_count": null
        },
        {
            "cell_type": "markdown",
            "source": [
                "Achtung bei den **Datentypen**"
            ],
            "metadata": {
                "azdata_cell_guid": "908747a2-05f0-488a-aec5-addae08ba73b"
            }
        },
        {
            "cell_type": "code",
            "source": [
                "SELECT POWER(16, (1/4))\r\n",
                "SELECT POWER(Cast(16 as float), (1/Cast(4 as float)))"
            ],
            "metadata": {
                "azdata_cell_guid": "3e920fb5-ff59-4c21-b999-48451d3c664c"
            },
            "outputs": [
                {
                    "output_type": "display_data",
                    "data": {
                        "text/html": "(1 row affected)"
                    },
                    "metadata": {}
                },
                {
                    "output_type": "display_data",
                    "data": {
                        "text/html": "(1 row affected)"
                    },
                    "metadata": {}
                },
                {
                    "output_type": "display_data",
                    "data": {
                        "text/html": "Total execution time: 00:00:00.012"
                    },
                    "metadata": {}
                },
                {
                    "output_type": "execute_result",
                    "metadata": {},
                    "execution_count": 23,
                    "data": {
                        "application/vnd.dataresource+json": {
                            "schema": {
                                "fields": [
                                    {
                                        "name": "(No column name)"
                                    }
                                ]
                            },
                            "data": [
                                {
                                    "0": "1"
                                }
                            ]
                        },
                        "text/html": [
                            "<table>",
                            "<tr><th>(No column name)</th></tr>",
                            "<tr><td>1</td></tr>",
                            "</table>"
                        ]
                    }
                },
                {
                    "output_type": "execute_result",
                    "metadata": {},
                    "execution_count": 23,
                    "data": {
                        "application/vnd.dataresource+json": {
                            "schema": {
                                "fields": [
                                    {
                                        "name": "(No column name)"
                                    }
                                ]
                            },
                            "data": [
                                {
                                    "0": "2"
                                }
                            ]
                        },
                        "text/html": [
                            "<table>",
                            "<tr><th>(No column name)</th></tr>",
                            "<tr><td>2</td></tr>",
                            "</table>"
                        ]
                    }
                }
            ],
            "execution_count": 23
        }
    ]
}